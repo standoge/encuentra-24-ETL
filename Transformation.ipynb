{
 "cells": [
  {
   "cell_type": "markdown",
   "source": [
    "## Dependencies"
   ],
   "metadata": {
    "collapsed": false
   }
  },
  {
   "cell_type": "markdown",
   "source": [
    "---"
   ],
   "metadata": {
    "collapsed": false
   }
  },
  {
   "cell_type": "code",
   "execution_count": 2,
   "outputs": [],
   "source": [
    "import pandas as pd\n",
    "# %run \"./Extraction.ipynb\""
   ],
   "metadata": {
    "collapsed": false,
    "ExecuteTime": {
     "start_time": "2023-04-24T22:22:04.405755Z",
     "end_time": "2023-04-24T22:22:04.424758Z"
    }
   }
  },
  {
   "cell_type": "markdown",
   "source": [
    "## Transformation"
   ],
   "metadata": {
    "collapsed": false
   }
  },
  {
   "cell_type": "markdown",
   "source": [
    "---"
   ],
   "metadata": {
    "collapsed": false
   }
  },
  {
   "cell_type": "markdown",
   "source": [
    "### Functions:"
   ],
   "metadata": {
    "collapsed": false
   }
  },
  {
   "cell_type": "code",
   "execution_count": null,
   "metadata": {
    "collapsed": true
   },
   "outputs": [],
   "source": [
    "def replace_datapoint(value:str, replacement:any, datalist: list[any]) -> None:\n",
    "    \"\"\"\n",
    "    Replace a datapoint if we know the value of datapoint to replace. Useful for kilometers list bug.\n",
    "    :param value: value of datapoint to remove\n",
    "    :param replacement: value of datapoint to insert\n",
    "    :param datalist: list where the operation will be applied\n",
    "    \"\"\"\n",
    "    try:\n",
    "        to_replace = datalist.index(value)\n",
    "        datalist[to_replace] = replacement\n",
    "    except ValueError as ve:\n",
    "        print(\"That values doesn't exists\")\n"
   ]
  },
  {
   "cell_type": "code",
   "execution_count": null,
   "outputs": [],
   "source": [
    "def fix_tuples(csv:str, index:int) -> pd.DataFrame:\n",
    "    \"\"\"\n",
    "    Fix displaced tuples in csv file.\n",
    "    :param csv: name of file to fix (without extension).\n",
    "    :param index: index of registry in description column to delete.\n",
    "    :return: dataframe with tuples fixed.\n",
    "    \"\"\"\n",
    "    dataframe = pd.read_csv(f\"persistence/{csv}.csv\")\n",
    "\n",
    "    models = list(dataframe[\"model\"])\n",
    "    year = list(dataframe[\"year\"])\n",
    "    kilometer =  list(dataframe[\"kilometers\"])\n",
    "    engine = list(dataframe[\"engine\"])\n",
    "    price = list(dataframe[\"price\"])\n",
    "    descriptions = list(dataframe[\"description\"])\n",
    "\n",
    "    lists = [models, year, kilometer, engine, price]\n",
    "    lists = [data_list.pop(0) for data_list in lists]\n",
    "    descriptions.pop(index)\n",
    "\n",
    "    return pd.DataFrame({\n",
    "        \"model\": models,\n",
    "        \"year\": year,\n",
    "        \"kilometers\": kilometer,\n",
    "        \"engine\": engine,\n",
    "        \"price\": price,\n",
    "        \"description\": descriptions\n",
    "    })\n"
   ],
   "metadata": {
    "collapsed": false
   }
  },
  {
   "cell_type": "markdown",
   "source": [
    "### Messy datapoints:"
   ],
   "metadata": {
    "collapsed": false
   }
  },
  {
   "cell_type": "markdown",
   "source": [
    " Since some ads don't have their fields complete, the scraper skip to the next field extracting for example the `engine` value inside `kilometers`, due kilometers field was empty and was skipped."
   ],
   "metadata": {
    "collapsed": false
   }
  },
  {
   "cell_type": "code",
   "execution_count": null,
   "outputs": [],
   "source": [
    "frame = pd.read_csv(\"persistence/April-08.csv\")"
   ],
   "metadata": {
    "collapsed": false
   }
  },
  {
   "cell_type": "markdown",
   "source": [
    "### Displaced tuples:"
   ],
   "metadata": {
    "collapsed": false
   }
  },
  {
   "cell_type": "markdown",
   "source": [
    "Since some ads structure and the way that data was extracted happens a displacement for one ad that wasn't extracted as it should be, so I've to remove some unusable datapoins to keep the coherence between `model` and `description`, due the unwanted behavior affect the `description` values."
   ],
   "metadata": {
    "collapsed": false
   }
  },
  {
   "cell_type": "code",
   "execution_count": null,
   "outputs": [],
   "source": [
    "frame = fix_tuples(\"April-08\", 33)"
   ],
   "metadata": {
    "collapsed": false
   }
  },
  {
   "cell_type": "code",
   "execution_count": null,
   "outputs": [],
   "source": [
    "frame.tail()"
   ],
   "metadata": {
    "collapsed": false
   }
  },
  {
   "cell_type": "code",
   "execution_count": null,
   "outputs": [],
   "source": [
    "frame.to_csv(\"persistence/March-21.csv\", index=False)"
   ],
   "metadata": {
    "collapsed": false
   }
  }
 ],
 "metadata": {
  "kernelspec": {
   "display_name": "Python 3",
   "language": "python",
   "name": "python3"
  },
  "language_info": {
   "codemirror_mode": {
    "name": "ipython",
    "version": 2
   },
   "file_extension": ".py",
   "mimetype": "text/x-python",
   "name": "python",
   "nbconvert_exporter": "python",
   "pygments_lexer": "ipython2",
   "version": "2.7.6"
  }
 },
 "nbformat": 4,
 "nbformat_minor": 0
}
