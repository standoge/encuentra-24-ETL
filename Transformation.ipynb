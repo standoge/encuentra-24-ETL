{
 "cells": [
  {
   "cell_type": "markdown",
   "source": [
    "## Dependencies"
   ],
   "metadata": {
    "collapsed": false
   }
  },
  {
   "cell_type": "markdown",
   "source": [
    "---"
   ],
   "metadata": {
    "collapsed": false
   }
  },
  {
   "cell_type": "code",
   "execution_count": 10,
   "outputs": [],
   "source": [
    "import os\n",
    "import re\n",
    "\n",
    "import pandas as pd\n",
    "# %run \"./Extraction.ipynb\""
   ],
   "metadata": {
    "collapsed": false,
    "ExecuteTime": {
     "start_time": "2023-04-24T22:36:33.708762Z",
     "end_time": "2023-04-24T22:36:33.770765Z"
    }
   }
  },
  {
   "cell_type": "markdown",
   "source": [
    "## Transformation"
   ],
   "metadata": {
    "collapsed": false
   }
  },
  {
   "cell_type": "markdown",
   "source": [
    "---"
   ],
   "metadata": {
    "collapsed": false
   }
  },
  {
   "cell_type": "markdown",
   "source": [
    "### Functions:"
   ],
   "metadata": {
    "collapsed": false
   }
  },
  {
   "cell_type": "code",
   "execution_count": null,
   "metadata": {
    "collapsed": true
   },
   "outputs": [],
   "source": [
    "def replace_datapoint(value:str, replacement:any, datalist: list[any]) -> None:\n",
    "    \"\"\"\n",
    "    Replace a datapoint if we know the value of datapoint to replace. Useful for kilometers list bug.\n",
    "    :param value: value of datapoint to remove.\n",
    "    :param replacement: value of datapoint to insert.\n",
    "    :param datalist: list where the operation will be applied.\n",
    "    \"\"\"\n",
    "    try:\n",
    "        to_replace = datalist.index(value)\n",
    "        datalist[to_replace] = replacement\n",
    "    except ValueError as ve:\n",
    "        print(\"That values doesn't exists\")\n"
   ]
  },
  {
   "cell_type": "code",
   "execution_count": null,
   "outputs": [],
   "source": [
    "def fix_tuples(csv:str, index:int) -> pd.DataFrame:\n",
    "    \"\"\"\n",
    "    Fix displaced tuples in csv file.\n",
    "    :param csv: name of file to fix (without extension).\n",
    "    :param index: index of registry in description column to delete.\n",
    "    :return: dataframe with tuples fixed.\n",
    "    \"\"\"\n",
    "    dataframe = pd.read_csv(f\"persistence/{csv}.csv\")\n",
    "\n",
    "    models = list(dataframe[\"model\"])\n",
    "    year = list(dataframe[\"year\"])\n",
    "    kilometer =  list(dataframe[\"kilometers\"])\n",
    "    engine = list(dataframe[\"engine\"])\n",
    "    price = list(dataframe[\"price\"])\n",
    "    descriptions = list(dataframe[\"description\"])\n",
    "\n",
    "    lists = [models, year, kilometer, engine, price]\n",
    "    lists = [data_list.pop(0) for data_list in lists]\n",
    "    descriptions.pop(index)\n",
    "\n",
    "    return pd.DataFrame({\n",
    "        \"model\": models,\n",
    "        \"year\": year,\n",
    "        \"kilometers\": kilometer,\n",
    "        \"engine\": engine,\n",
    "        \"price\": price,\n",
    "        \"description\": descriptions\n",
    "    })\n"
   ],
   "metadata": {
    "collapsed": false
   }
  },
  {
   "cell_type": "code",
   "execution_count": 71,
   "outputs": [],
   "source": [
    "def group_ds(func) -> list[pd.DataFrame]:\n",
    "   \"\"\"\n",
    "   Decorator to transform the list of files names to list of dataframes.\n",
    "   :param func: function to decorate.\n",
    "   :return: list of dataframes.\n",
    "   \"\"\"\n",
    "   def wrapper(*args):\n",
    "       files = func(*args)\n",
    "       dsets = []\n",
    "       for file in files:\n",
    "           frame = pd.read_csv(f\"persistence/{file}\")\n",
    "           dsets.append(frame)\n",
    "       return dsets\n",
    "   return wrapper"
   ],
   "metadata": {
    "collapsed": false,
    "ExecuteTime": {
     "start_time": "2023-04-24T23:12:21.911866Z",
     "end_time": "2023-04-24T23:12:21.934865Z"
    }
   }
  },
  {
   "cell_type": "code",
   "execution_count": 72,
   "outputs": [],
   "source": [
    "@group_ds\n",
    "def list_ds(month:str) -> list[\"str\"]:\n",
    "    \"\"\"\n",
    "    List files in persistence directory by month.\n",
    "    :param month: dataset prefix.\n",
    "    :return: list of datasets with month prefix.\n",
    "    \"\"\"\n",
    "    path = os.getcwd()\n",
    "    files = os.listdir(f\"{path}/persistence\")\n",
    "    return [file for file in files if file.startswith(month)]\n"
   ],
   "metadata": {
    "collapsed": false,
    "ExecuteTime": {
     "start_time": "2023-04-24T23:12:27.117688Z",
     "end_time": "2023-04-24T23:12:27.131686Z"
    }
   }
  },
  {
   "cell_type": "markdown",
   "source": [
    "### Messy datapoints:"
   ],
   "metadata": {
    "collapsed": false
   }
  },
  {
   "cell_type": "markdown",
   "source": [
    " Since some ads don't have their fields complete, the scraper skip to the next field extracting for example the `engine` value inside `kilometers`, due kilometers field was empty and was skipped."
   ],
   "metadata": {
    "collapsed": false
   }
  },
  {
   "cell_type": "code",
   "execution_count": null,
   "outputs": [],
   "source": [
    "frame = pd.read_csv(\"persistence/April-08.csv\")"
   ],
   "metadata": {
    "collapsed": false
   }
  },
  {
   "cell_type": "markdown",
   "source": [
    "### Displaced tuples:"
   ],
   "metadata": {
    "collapsed": false
   }
  },
  {
   "cell_type": "markdown",
   "source": [
    "Since some ads structure and the way that data was extracted happens a displacement for one ad that wasn't extracted as it should be, so I've to remove some unusable datapoins to keep the coherence between `model` and `description`, due the unwanted behavior affect the `description` values."
   ],
   "metadata": {
    "collapsed": false
   }
  },
  {
   "cell_type": "code",
   "execution_count": null,
   "outputs": [],
   "source": [
    "frame = fix_tuples(\"April-08\", 33)"
   ],
   "metadata": {
    "collapsed": false
   }
  },
  {
   "cell_type": "code",
   "execution_count": null,
   "outputs": [],
   "source": [
    "frame.tail()"
   ],
   "metadata": {
    "collapsed": false
   }
  },
  {
   "cell_type": "code",
   "execution_count": null,
   "outputs": [],
   "source": [
    "frame.to_csv(\"persistence/March-21.csv\", index=False)"
   ],
   "metadata": {
    "collapsed": false
   }
  },
  {
   "cell_type": "markdown",
   "source": [
    "### Unique ID:"
   ],
   "metadata": {
    "collapsed": false
   }
  },
  {
   "cell_type": "code",
   "execution_count": null,
   "outputs": [],
   "source": [],
   "metadata": {
    "collapsed": false
   }
  },
  {
   "cell_type": "markdown",
   "source": [
    "### Concatenation:"
   ],
   "metadata": {
    "collapsed": false
   }
  },
  {
   "cell_type": "code",
   "execution_count": 53,
   "outputs": [],
   "source": [
    "april = []\n",
    "\n",
    "for file in list_ds(\"April\"):\n",
    "    frame = pd.read_csv(f\"persistence/{file}\")\n",
    "    april.append(frame)"
   ],
   "metadata": {
    "collapsed": false,
    "ExecuteTime": {
     "start_time": "2023-04-24T22:51:36.439265Z",
     "end_time": "2023-04-24T22:51:36.525269Z"
    }
   }
  },
  {
   "cell_type": "code",
   "execution_count": 62,
   "outputs": [],
   "source": [
    "concatenation = pd.concat(april)"
   ],
   "metadata": {
    "collapsed": false,
    "ExecuteTime": {
     "start_time": "2023-04-24T22:54:12.430755Z",
     "end_time": "2023-04-24T22:54:12.515752Z"
    }
   }
  },
  {
   "cell_type": "code",
   "execution_count": 66,
   "outputs": [],
   "source": [
    "concatenation = (\n",
    "    concatenation\n",
    "    .drop_duplicates()\n",
    "    .reset_index()\n",
    ")"
   ],
   "metadata": {
    "collapsed": false,
    "ExecuteTime": {
     "start_time": "2023-04-24T22:58:11.340428Z",
     "end_time": "2023-04-24T22:58:11.369426Z"
    }
   }
  },
  {
   "cell_type": "code",
   "execution_count": 67,
   "outputs": [],
   "source": [
    "concatenation = concatenation.drop(\"index\", axis=1)"
   ],
   "metadata": {
    "collapsed": false,
    "ExecuteTime": {
     "start_time": "2023-04-24T22:58:33.171363Z",
     "end_time": "2023-04-24T22:58:33.194358Z"
    }
   }
  },
  {
   "cell_type": "code",
   "execution_count": 68,
   "outputs": [
    {
     "data": {
      "text/plain": "                   model  year  kilometers    engine  price  \\\n0           Nissan Versa  2017       78000  Gasolina   7400   \n1              Kia Forte  2016       34000  Gasolina   6900   \n2                Kia Rio  2020       56000  Gasolina  10500   \n3      Mitsubishi Lancer  2015       97783  Gasolina   6975   \n4   Mitsubishi Mirage G4  2018       60000  Gasolina   8500   \n..                   ...   ...         ...       ...    ...   \n62        Chevrolet Aveo  2017       43000  Gasolina  14300   \n63       Volkswagen Golf  1996      200000  Gasolina   2000   \n64         Nissan Sentra  2017       86000  Gasolina   7900   \n65         Nissan Sentra  2002           0  Gasolina   4500   \n66         Nissan Sentra  2013       74000  Gasolina   6700   \n\n                                          description  \n0   Color : Azul DESCRIPCIÓN CALIFICACIONES SEGURI...  \n1   Financiamiento: si DESCRIPCIÓN CALIFICACIONES ...  \n2   Color : Gris Se vende Kia Río 2020. Automático...  \n3   Garantía: Como es visto no hay garantía Financ...  \n4   Color : Blanco Se vende Mitsubishi G4 2018. Au...  \n..                                                ...  \n62  Color : Vino metálico Mantenimiento al día en ...  \n63  Garantía: Como es visto no hay garantía Financ...  \n64  Precio negociable: si Color : gris DESCRIPCIÓN...  \n65  DESCRIPCIÓN CALIFICACIONES SEGURIDAD Nissan se...  \n66  Precio negociable: si Color : Gris DESCRIPCIÓN...  \n\n[67 rows x 6 columns]",
      "text/html": "<div>\n<style scoped>\n    .dataframe tbody tr th:only-of-type {\n        vertical-align: middle;\n    }\n\n    .dataframe tbody tr th {\n        vertical-align: top;\n    }\n\n    .dataframe thead th {\n        text-align: right;\n    }\n</style>\n<table border=\"1\" class=\"dataframe\">\n  <thead>\n    <tr style=\"text-align: right;\">\n      <th></th>\n      <th>model</th>\n      <th>year</th>\n      <th>kilometers</th>\n      <th>engine</th>\n      <th>price</th>\n      <th>description</th>\n    </tr>\n  </thead>\n  <tbody>\n    <tr>\n      <th>0</th>\n      <td>Nissan Versa</td>\n      <td>2017</td>\n      <td>78000</td>\n      <td>Gasolina</td>\n      <td>7400</td>\n      <td>Color : Azul DESCRIPCIÓN CALIFICACIONES SEGURI...</td>\n    </tr>\n    <tr>\n      <th>1</th>\n      <td>Kia Forte</td>\n      <td>2016</td>\n      <td>34000</td>\n      <td>Gasolina</td>\n      <td>6900</td>\n      <td>Financiamiento: si DESCRIPCIÓN CALIFICACIONES ...</td>\n    </tr>\n    <tr>\n      <th>2</th>\n      <td>Kia Rio</td>\n      <td>2020</td>\n      <td>56000</td>\n      <td>Gasolina</td>\n      <td>10500</td>\n      <td>Color : Gris Se vende Kia Río 2020. Automático...</td>\n    </tr>\n    <tr>\n      <th>3</th>\n      <td>Mitsubishi Lancer</td>\n      <td>2015</td>\n      <td>97783</td>\n      <td>Gasolina</td>\n      <td>6975</td>\n      <td>Garantía: Como es visto no hay garantía Financ...</td>\n    </tr>\n    <tr>\n      <th>4</th>\n      <td>Mitsubishi Mirage G4</td>\n      <td>2018</td>\n      <td>60000</td>\n      <td>Gasolina</td>\n      <td>8500</td>\n      <td>Color : Blanco Se vende Mitsubishi G4 2018. Au...</td>\n    </tr>\n    <tr>\n      <th>...</th>\n      <td>...</td>\n      <td>...</td>\n      <td>...</td>\n      <td>...</td>\n      <td>...</td>\n      <td>...</td>\n    </tr>\n    <tr>\n      <th>62</th>\n      <td>Chevrolet Aveo</td>\n      <td>2017</td>\n      <td>43000</td>\n      <td>Gasolina</td>\n      <td>14300</td>\n      <td>Color : Vino metálico Mantenimiento al día en ...</td>\n    </tr>\n    <tr>\n      <th>63</th>\n      <td>Volkswagen Golf</td>\n      <td>1996</td>\n      <td>200000</td>\n      <td>Gasolina</td>\n      <td>2000</td>\n      <td>Garantía: Como es visto no hay garantía Financ...</td>\n    </tr>\n    <tr>\n      <th>64</th>\n      <td>Nissan Sentra</td>\n      <td>2017</td>\n      <td>86000</td>\n      <td>Gasolina</td>\n      <td>7900</td>\n      <td>Precio negociable: si Color : gris DESCRIPCIÓN...</td>\n    </tr>\n    <tr>\n      <th>65</th>\n      <td>Nissan Sentra</td>\n      <td>2002</td>\n      <td>0</td>\n      <td>Gasolina</td>\n      <td>4500</td>\n      <td>DESCRIPCIÓN CALIFICACIONES SEGURIDAD Nissan se...</td>\n    </tr>\n    <tr>\n      <th>66</th>\n      <td>Nissan Sentra</td>\n      <td>2013</td>\n      <td>74000</td>\n      <td>Gasolina</td>\n      <td>6700</td>\n      <td>Precio negociable: si Color : Gris DESCRIPCIÓN...</td>\n    </tr>\n  </tbody>\n</table>\n<p>67 rows × 6 columns</p>\n</div>"
     },
     "execution_count": 68,
     "metadata": {},
     "output_type": "execute_result"
    }
   ],
   "source": [
    "concatenation"
   ],
   "metadata": {
    "collapsed": false,
    "ExecuteTime": {
     "start_time": "2023-04-24T22:58:37.209665Z",
     "end_time": "2023-04-24T22:58:37.247669Z"
    }
   }
  },
  {
   "cell_type": "code",
   "execution_count": 77,
   "outputs": [
    {
     "data": {
      "text/plain": "                   model  year  kilometers    engine  price  \\\n0           Nissan Versa  2017       78000  Gasolina   7400   \n1              Kia Forte  2016       34000  Gasolina   6900   \n2                Kia Rio  2020       56000  Gasolina  10500   \n3      Mitsubishi Lancer  2015       97783  Gasolina   6975   \n4   Mitsubishi Mirage G4  2018       60000  Gasolina   8500   \n5          Nissan Sentra  2017       87000  Gasolina   8500   \n6           Toyota Yaris  2008      125000  Gasolina   7600   \n7          Nissan Sentra  2015       60000  Gasolina   9400   \n8         Toyota Corolla  2004      190000  Gasolina   6600   \n9       Volkswagen Jetta  2002      256000  Gasolina   4350   \n10         Nissan Sentra  2018       57000  Gasolina   8700   \n11          Nissan 200SX  1998        1111  Gasolina   2500   \n12        Toyota Corolla  2010      168000  Gasolina   7700   \n13          Toyota Yaris  2014       58300  Gasolina  11500   \n14        Chevrolet Aveo  2017       43000  Gasolina  14300   \n15          Toyota Yaris  2008      271000  Gasolina   6900   \n16  Mitsubishi Mirage G4  2019       76700  Gasolina   8500   \n17        Toyota Corolla  2014      116260  Gasolina   9500   \n18               Kia Rio  2017      120000  Gasolina   8600   \n19              Scion iA  2016           1  Gasolina   8500   \n20       Volkswagen Golf  1996      200000  Gasolina   2000   \n21         Dodge Caliber  2008      132856  Gasolina   4800   \n22        Toyota Corolla  2009      195504   Híbrido  17000   \n23             Toyota iA  2018          66  Gasolina  11000   \n24          Nissan Versa  2020       28235  Gasolina   8200   \n25               Kia Rio  2016       97911  Gasolina   7500   \n26     Mitsubishi Lancer  2015       64000  Gasolina   7200   \n27         Nissan Sentra  2013      140000  Gasolina   6200   \n28       Hyundai Elantra  2015      118000  Gasolina   8500   \n29         Nissan Sentra  2014       73233  Gasolina   7300   \n30               Kia Rio  2016       64000  Gasolina   8200   \n31            Ford Focus  2008         141  Gasolina   3300   \n32           Honda Civic  2014      106000  Gasolina   8300   \n33        Hyundai Accent  2014        7600  Gasolina   7600   \n34       Chevrolet Spark  2020       83903  Gasolina   7350   \n35               BMW 328  2007      143600  Gasolina   7000   \n36        Toyota Corolla  2016      183465  Gasolina   9900   \n37      Volkswagen Jetta  2014      131000  Gasolina   7850   \n38         Nissan Sentra  2010       75362  Gasolina   4900   \n39            Dodge DART  2013       88000  Gasolina   6400   \n40               Kia Rio  2016       82500  Gasolina   9500   \n41       Hyundai Elantra  2018       41200  Gasolina  11000   \n42               BMW 320  2009       49000  Gasolina   8200   \n43         Nissan Sentra  2013       14000  Gasolina   6200   \n44        Hyundai Accent  2014       66000  Gasolina   7500   \n\n                                          description  \n0   Color : Azul DESCRIPCIÓN CALIFICACIONES SEGURI...  \n1   Financiamiento: si DESCRIPCIÓN CALIFICACIONES ...  \n2   Color : Gris Se vende Kia Río 2020. Automático...  \n3   Garantía: Como es visto no hay garantía Financ...  \n4   Color : Blanco Se vende Mitsubishi G4 2018. Au...  \n5   Precio negociable: si Color : gris DESCRIPCIÓN...  \n6   Financiamiento: no Precio negociable: si Color...  \n7   Precio negociable: si Color : Negro DESCRIPCIÓ...  \n8   Financiamiento: no Color : Beige DESCRIPCIÓN C...  \n9   Garantía: Como es visto no hay garantía Financ...  \n10  Precio negociable: si Caja automatica, motor 1...  \n11  Precio negociable: si Nissan Sentra 200sx . mo...  \n12  Color : GRIS DESCRIPCIÓN CALIFICACIONES SEGURI...  \n13  DESCRIPCIÓN CALIFICACIONES SEGURIDAD Vendo Car...  \n14  Color : Vino metálico Mantenimiento al día en ...  \n15  Precio negociable: si Color : Blanco DESCRIPCI...  \n16  Precio negociable: si Mitsubishi mirage G4 201...  \n17  Financiamiento: no Precio negociable: no DESCR...  \n18  Color : ROJO DESCRIPCIÓN CALIFICACIONES SEGURI...  \n19  Color : Gris Motor 1.5 Aire acondicionado Rine...  \n20  Garantía: Como es visto no hay garantía Financ...  \n21  DESCRIPCIÓN ARTÍCULOS CALIFICACIONES SEGURIDAD...  \n22  Garantía: Como es visto no hay garantía Precio...  \n23  Precio negociable: si Color : Azul Se vende to...  \n24  Precio negociable: si Bonito Nissan Versa 2020...  \n25  Financiamiento: no Precio negociable: si Color...  \n26  Garantía: Como es visto no hay garantía Precio...  \n27  Precio negociable: no DESCRIPCIÓN CALIFICACION...  \n28  DESCRIPCIÓN CALIFICACIONES SEGURIDAD Hyundai E...  \n29  Financiamiento: no DESCRIPCIÓN CALIFICACIONES ...  \n30  Precio negociable: si Color : Blanco DESCRIPCI...  \n31  Precio negociable: si Color : Negro DESCRIPCIÓ...  \n32  Color : Gris DESCRIPCIÓN CALIFICACIONES SEGURIDAD  \n33  Precio negociable: si Color : Plateado DESCRIP...  \n34  Garantía: Como es visto no hay garantía Financ...  \n35  Precio negociable: si Color : GRIS Sunroof Pin...  \n36  Garantía: Como es visto no hay garantía Financ...  \n37  Financiamiento: no Precio negociable: si Color...  \n38  Precio negociable: si DESCRIPCIÓN CALIFICACION...  \n39  Color : Rojo. Interesados Illamarme  . Version...  \n40  Precio negociable: si Color : Negro DESCRIPCIÓ...  \n41  Color : NEGRO YA TIENE PLACAS WhatsApp o Teleg...  \n42  Precio negociable: si Color : Gris 4 puertas. ...  \n43  Color : Negro DESCRIPCIÓN CALIFICACIONES SEGUR...  \n44  Precio negociable: si Color : CELESTE METALICO...  ",
      "text/html": "<div>\n<style scoped>\n    .dataframe tbody tr th:only-of-type {\n        vertical-align: middle;\n    }\n\n    .dataframe tbody tr th {\n        vertical-align: top;\n    }\n\n    .dataframe thead th {\n        text-align: right;\n    }\n</style>\n<table border=\"1\" class=\"dataframe\">\n  <thead>\n    <tr style=\"text-align: right;\">\n      <th></th>\n      <th>model</th>\n      <th>year</th>\n      <th>kilometers</th>\n      <th>engine</th>\n      <th>price</th>\n      <th>description</th>\n    </tr>\n  </thead>\n  <tbody>\n    <tr>\n      <th>0</th>\n      <td>Nissan Versa</td>\n      <td>2017</td>\n      <td>78000</td>\n      <td>Gasolina</td>\n      <td>7400</td>\n      <td>Color : Azul DESCRIPCIÓN CALIFICACIONES SEGURI...</td>\n    </tr>\n    <tr>\n      <th>1</th>\n      <td>Kia Forte</td>\n      <td>2016</td>\n      <td>34000</td>\n      <td>Gasolina</td>\n      <td>6900</td>\n      <td>Financiamiento: si DESCRIPCIÓN CALIFICACIONES ...</td>\n    </tr>\n    <tr>\n      <th>2</th>\n      <td>Kia Rio</td>\n      <td>2020</td>\n      <td>56000</td>\n      <td>Gasolina</td>\n      <td>10500</td>\n      <td>Color : Gris Se vende Kia Río 2020. Automático...</td>\n    </tr>\n    <tr>\n      <th>3</th>\n      <td>Mitsubishi Lancer</td>\n      <td>2015</td>\n      <td>97783</td>\n      <td>Gasolina</td>\n      <td>6975</td>\n      <td>Garantía: Como es visto no hay garantía Financ...</td>\n    </tr>\n    <tr>\n      <th>4</th>\n      <td>Mitsubishi Mirage G4</td>\n      <td>2018</td>\n      <td>60000</td>\n      <td>Gasolina</td>\n      <td>8500</td>\n      <td>Color : Blanco Se vende Mitsubishi G4 2018. Au...</td>\n    </tr>\n    <tr>\n      <th>5</th>\n      <td>Nissan Sentra</td>\n      <td>2017</td>\n      <td>87000</td>\n      <td>Gasolina</td>\n      <td>8500</td>\n      <td>Precio negociable: si Color : gris DESCRIPCIÓN...</td>\n    </tr>\n    <tr>\n      <th>6</th>\n      <td>Toyota Yaris</td>\n      <td>2008</td>\n      <td>125000</td>\n      <td>Gasolina</td>\n      <td>7600</td>\n      <td>Financiamiento: no Precio negociable: si Color...</td>\n    </tr>\n    <tr>\n      <th>7</th>\n      <td>Nissan Sentra</td>\n      <td>2015</td>\n      <td>60000</td>\n      <td>Gasolina</td>\n      <td>9400</td>\n      <td>Precio negociable: si Color : Negro DESCRIPCIÓ...</td>\n    </tr>\n    <tr>\n      <th>8</th>\n      <td>Toyota Corolla</td>\n      <td>2004</td>\n      <td>190000</td>\n      <td>Gasolina</td>\n      <td>6600</td>\n      <td>Financiamiento: no Color : Beige DESCRIPCIÓN C...</td>\n    </tr>\n    <tr>\n      <th>9</th>\n      <td>Volkswagen Jetta</td>\n      <td>2002</td>\n      <td>256000</td>\n      <td>Gasolina</td>\n      <td>4350</td>\n      <td>Garantía: Como es visto no hay garantía Financ...</td>\n    </tr>\n    <tr>\n      <th>10</th>\n      <td>Nissan Sentra</td>\n      <td>2018</td>\n      <td>57000</td>\n      <td>Gasolina</td>\n      <td>8700</td>\n      <td>Precio negociable: si Caja automatica, motor 1...</td>\n    </tr>\n    <tr>\n      <th>11</th>\n      <td>Nissan 200SX</td>\n      <td>1998</td>\n      <td>1111</td>\n      <td>Gasolina</td>\n      <td>2500</td>\n      <td>Precio negociable: si Nissan Sentra 200sx . mo...</td>\n    </tr>\n    <tr>\n      <th>12</th>\n      <td>Toyota Corolla</td>\n      <td>2010</td>\n      <td>168000</td>\n      <td>Gasolina</td>\n      <td>7700</td>\n      <td>Color : GRIS DESCRIPCIÓN CALIFICACIONES SEGURI...</td>\n    </tr>\n    <tr>\n      <th>13</th>\n      <td>Toyota Yaris</td>\n      <td>2014</td>\n      <td>58300</td>\n      <td>Gasolina</td>\n      <td>11500</td>\n      <td>DESCRIPCIÓN CALIFICACIONES SEGURIDAD Vendo Car...</td>\n    </tr>\n    <tr>\n      <th>14</th>\n      <td>Chevrolet Aveo</td>\n      <td>2017</td>\n      <td>43000</td>\n      <td>Gasolina</td>\n      <td>14300</td>\n      <td>Color : Vino metálico Mantenimiento al día en ...</td>\n    </tr>\n    <tr>\n      <th>15</th>\n      <td>Toyota Yaris</td>\n      <td>2008</td>\n      <td>271000</td>\n      <td>Gasolina</td>\n      <td>6900</td>\n      <td>Precio negociable: si Color : Blanco DESCRIPCI...</td>\n    </tr>\n    <tr>\n      <th>16</th>\n      <td>Mitsubishi Mirage G4</td>\n      <td>2019</td>\n      <td>76700</td>\n      <td>Gasolina</td>\n      <td>8500</td>\n      <td>Precio negociable: si Mitsubishi mirage G4 201...</td>\n    </tr>\n    <tr>\n      <th>17</th>\n      <td>Toyota Corolla</td>\n      <td>2014</td>\n      <td>116260</td>\n      <td>Gasolina</td>\n      <td>9500</td>\n      <td>Financiamiento: no Precio negociable: no DESCR...</td>\n    </tr>\n    <tr>\n      <th>18</th>\n      <td>Kia Rio</td>\n      <td>2017</td>\n      <td>120000</td>\n      <td>Gasolina</td>\n      <td>8600</td>\n      <td>Color : ROJO DESCRIPCIÓN CALIFICACIONES SEGURI...</td>\n    </tr>\n    <tr>\n      <th>19</th>\n      <td>Scion iA</td>\n      <td>2016</td>\n      <td>1</td>\n      <td>Gasolina</td>\n      <td>8500</td>\n      <td>Color : Gris Motor 1.5 Aire acondicionado Rine...</td>\n    </tr>\n    <tr>\n      <th>20</th>\n      <td>Volkswagen Golf</td>\n      <td>1996</td>\n      <td>200000</td>\n      <td>Gasolina</td>\n      <td>2000</td>\n      <td>Garantía: Como es visto no hay garantía Financ...</td>\n    </tr>\n    <tr>\n      <th>21</th>\n      <td>Dodge Caliber</td>\n      <td>2008</td>\n      <td>132856</td>\n      <td>Gasolina</td>\n      <td>4800</td>\n      <td>DESCRIPCIÓN ARTÍCULOS CALIFICACIONES SEGURIDAD...</td>\n    </tr>\n    <tr>\n      <th>22</th>\n      <td>Toyota Corolla</td>\n      <td>2009</td>\n      <td>195504</td>\n      <td>Híbrido</td>\n      <td>17000</td>\n      <td>Garantía: Como es visto no hay garantía Precio...</td>\n    </tr>\n    <tr>\n      <th>23</th>\n      <td>Toyota iA</td>\n      <td>2018</td>\n      <td>66</td>\n      <td>Gasolina</td>\n      <td>11000</td>\n      <td>Precio negociable: si Color : Azul Se vende to...</td>\n    </tr>\n    <tr>\n      <th>24</th>\n      <td>Nissan Versa</td>\n      <td>2020</td>\n      <td>28235</td>\n      <td>Gasolina</td>\n      <td>8200</td>\n      <td>Precio negociable: si Bonito Nissan Versa 2020...</td>\n    </tr>\n    <tr>\n      <th>25</th>\n      <td>Kia Rio</td>\n      <td>2016</td>\n      <td>97911</td>\n      <td>Gasolina</td>\n      <td>7500</td>\n      <td>Financiamiento: no Precio negociable: si Color...</td>\n    </tr>\n    <tr>\n      <th>26</th>\n      <td>Mitsubishi Lancer</td>\n      <td>2015</td>\n      <td>64000</td>\n      <td>Gasolina</td>\n      <td>7200</td>\n      <td>Garantía: Como es visto no hay garantía Precio...</td>\n    </tr>\n    <tr>\n      <th>27</th>\n      <td>Nissan Sentra</td>\n      <td>2013</td>\n      <td>140000</td>\n      <td>Gasolina</td>\n      <td>6200</td>\n      <td>Precio negociable: no DESCRIPCIÓN CALIFICACION...</td>\n    </tr>\n    <tr>\n      <th>28</th>\n      <td>Hyundai Elantra</td>\n      <td>2015</td>\n      <td>118000</td>\n      <td>Gasolina</td>\n      <td>8500</td>\n      <td>DESCRIPCIÓN CALIFICACIONES SEGURIDAD Hyundai E...</td>\n    </tr>\n    <tr>\n      <th>29</th>\n      <td>Nissan Sentra</td>\n      <td>2014</td>\n      <td>73233</td>\n      <td>Gasolina</td>\n      <td>7300</td>\n      <td>Financiamiento: no DESCRIPCIÓN CALIFICACIONES ...</td>\n    </tr>\n    <tr>\n      <th>30</th>\n      <td>Kia Rio</td>\n      <td>2016</td>\n      <td>64000</td>\n      <td>Gasolina</td>\n      <td>8200</td>\n      <td>Precio negociable: si Color : Blanco DESCRIPCI...</td>\n    </tr>\n    <tr>\n      <th>31</th>\n      <td>Ford Focus</td>\n      <td>2008</td>\n      <td>141</td>\n      <td>Gasolina</td>\n      <td>3300</td>\n      <td>Precio negociable: si Color : Negro DESCRIPCIÓ...</td>\n    </tr>\n    <tr>\n      <th>32</th>\n      <td>Honda Civic</td>\n      <td>2014</td>\n      <td>106000</td>\n      <td>Gasolina</td>\n      <td>8300</td>\n      <td>Color : Gris DESCRIPCIÓN CALIFICACIONES SEGURIDAD</td>\n    </tr>\n    <tr>\n      <th>33</th>\n      <td>Hyundai Accent</td>\n      <td>2014</td>\n      <td>7600</td>\n      <td>Gasolina</td>\n      <td>7600</td>\n      <td>Precio negociable: si Color : Plateado DESCRIP...</td>\n    </tr>\n    <tr>\n      <th>34</th>\n      <td>Chevrolet Spark</td>\n      <td>2020</td>\n      <td>83903</td>\n      <td>Gasolina</td>\n      <td>7350</td>\n      <td>Garantía: Como es visto no hay garantía Financ...</td>\n    </tr>\n    <tr>\n      <th>35</th>\n      <td>BMW 328</td>\n      <td>2007</td>\n      <td>143600</td>\n      <td>Gasolina</td>\n      <td>7000</td>\n      <td>Precio negociable: si Color : GRIS Sunroof Pin...</td>\n    </tr>\n    <tr>\n      <th>36</th>\n      <td>Toyota Corolla</td>\n      <td>2016</td>\n      <td>183465</td>\n      <td>Gasolina</td>\n      <td>9900</td>\n      <td>Garantía: Como es visto no hay garantía Financ...</td>\n    </tr>\n    <tr>\n      <th>37</th>\n      <td>Volkswagen Jetta</td>\n      <td>2014</td>\n      <td>131000</td>\n      <td>Gasolina</td>\n      <td>7850</td>\n      <td>Financiamiento: no Precio negociable: si Color...</td>\n    </tr>\n    <tr>\n      <th>38</th>\n      <td>Nissan Sentra</td>\n      <td>2010</td>\n      <td>75362</td>\n      <td>Gasolina</td>\n      <td>4900</td>\n      <td>Precio negociable: si DESCRIPCIÓN CALIFICACION...</td>\n    </tr>\n    <tr>\n      <th>39</th>\n      <td>Dodge DART</td>\n      <td>2013</td>\n      <td>88000</td>\n      <td>Gasolina</td>\n      <td>6400</td>\n      <td>Color : Rojo. Interesados Illamarme  . Version...</td>\n    </tr>\n    <tr>\n      <th>40</th>\n      <td>Kia Rio</td>\n      <td>2016</td>\n      <td>82500</td>\n      <td>Gasolina</td>\n      <td>9500</td>\n      <td>Precio negociable: si Color : Negro DESCRIPCIÓ...</td>\n    </tr>\n    <tr>\n      <th>41</th>\n      <td>Hyundai Elantra</td>\n      <td>2018</td>\n      <td>41200</td>\n      <td>Gasolina</td>\n      <td>11000</td>\n      <td>Color : NEGRO YA TIENE PLACAS WhatsApp o Teleg...</td>\n    </tr>\n    <tr>\n      <th>42</th>\n      <td>BMW 320</td>\n      <td>2009</td>\n      <td>49000</td>\n      <td>Gasolina</td>\n      <td>8200</td>\n      <td>Precio negociable: si Color : Gris 4 puertas. ...</td>\n    </tr>\n    <tr>\n      <th>43</th>\n      <td>Nissan Sentra</td>\n      <td>2013</td>\n      <td>14000</td>\n      <td>Gasolina</td>\n      <td>6200</td>\n      <td>Color : Negro DESCRIPCIÓN CALIFICACIONES SEGUR...</td>\n    </tr>\n    <tr>\n      <th>44</th>\n      <td>Hyundai Accent</td>\n      <td>2014</td>\n      <td>66000</td>\n      <td>Gasolina</td>\n      <td>7500</td>\n      <td>Precio negociable: si Color : CELESTE METALICO...</td>\n    </tr>\n  </tbody>\n</table>\n</div>"
     },
     "execution_count": 77,
     "metadata": {},
     "output_type": "execute_result"
    }
   ],
   "source": [
    "list_ds(\"April\")[2]"
   ],
   "metadata": {
    "collapsed": false,
    "ExecuteTime": {
     "start_time": "2023-04-24T23:12:51.257026Z",
     "end_time": "2023-04-24T23:12:51.348026Z"
    }
   }
  }
 ],
 "metadata": {
  "kernelspec": {
   "display_name": "Python 3",
   "language": "python",
   "name": "python3"
  },
  "language_info": {
   "codemirror_mode": {
    "name": "ipython",
    "version": 2
   },
   "file_extension": ".py",
   "mimetype": "text/x-python",
   "name": "python",
   "nbconvert_exporter": "python",
   "pygments_lexer": "ipython2",
   "version": "2.7.6"
  }
 },
 "nbformat": 4,
 "nbformat_minor": 0
}
