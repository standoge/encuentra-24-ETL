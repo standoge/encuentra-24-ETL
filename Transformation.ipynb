{
 "cells": [
  {
   "cell_type": "markdown",
   "source": [
    "## Dependencies"
   ],
   "metadata": {
    "collapsed": false
   }
  },
  {
   "cell_type": "markdown",
   "source": [
    "---"
   ],
   "metadata": {
    "collapsed": false
   }
  },
  {
   "cell_type": "code",
   "execution_count": 88,
   "outputs": [],
   "source": [
    "import os\n",
    "import pandas as pd"
   ],
   "metadata": {
    "collapsed": false,
    "ExecuteTime": {
     "start_time": "2023-04-26T21:04:00.661033Z",
     "end_time": "2023-04-26T21:04:00.749032Z"
    }
   }
  },
  {
   "cell_type": "markdown",
   "source": [
    "## Transformation"
   ],
   "metadata": {
    "collapsed": false
   }
  },
  {
   "cell_type": "markdown",
   "source": [
    "---"
   ],
   "metadata": {
    "collapsed": false
   }
  },
  {
   "cell_type": "markdown",
   "source": [
    "### Functions:"
   ],
   "metadata": {
    "collapsed": false
   }
  },
  {
   "cell_type": "code",
   "execution_count": 89,
   "metadata": {
    "collapsed": true,
    "ExecuteTime": {
     "start_time": "2023-04-26T21:04:00.684034Z",
     "end_time": "2023-04-26T21:04:00.827034Z"
    }
   },
   "outputs": [],
   "source": [
    "def replace_datapoint(value:str, replacement:any, datalist: list[any]) -> None:\n",
    "    \"\"\"\n",
    "    Replace a datapoint if we know the value of datapoint to replace. Useful for kilometers list bug.\n",
    "    :param value: value of datapoint to remove.\n",
    "    :param replacement: value of datapoint to insert.\n",
    "    :param datalist: list where the operation will be applied.\n",
    "    \"\"\"\n",
    "    try:\n",
    "        to_replace = datalist.index(value)\n",
    "        datalist[to_replace] = replacement\n",
    "    except ValueError as ve:\n",
    "        print(\"That values doesn't exists\")\n"
   ]
  },
  {
   "cell_type": "code",
   "execution_count": 90,
   "outputs": [],
   "source": [
    "def fix_tuples(csv:str, index:int) -> pd.DataFrame:\n",
    "    \"\"\"\n",
    "    Fix displaced tuples in csv file.\n",
    "    :param csv: name of file to fix (without extension).\n",
    "    :param index: index of registry in description column to delete.\n",
    "    :return: dataframe with tuples fixed.\n",
    "    \"\"\"\n",
    "    dataframe = pd.read_csv(f\"persistence/{csv}.csv\")\n",
    "\n",
    "    models = list(dataframe[\"model\"])\n",
    "    year = list(dataframe[\"year\"])\n",
    "    kilometer =  list(dataframe[\"kilometers\"])\n",
    "    engine = list(dataframe[\"engine\"])\n",
    "    price = list(dataframe[\"price\"])\n",
    "    descriptions = list(dataframe[\"description\"])\n",
    "\n",
    "    lists = [models, year, kilometer, engine, price]\n",
    "    lists = [data_list.pop(0) for data_list in lists]\n",
    "    descriptions.pop(index)\n",
    "\n",
    "    return pd.DataFrame({\n",
    "        \"model\": models,\n",
    "        \"year\": year,\n",
    "        \"kilometers\": kilometer,\n",
    "        \"engine\": engine,\n",
    "        \"price\": price,\n",
    "        \"description\": descriptions\n",
    "    })\n"
   ],
   "metadata": {
    "collapsed": false,
    "ExecuteTime": {
     "start_time": "2023-04-26T21:04:00.705031Z",
     "end_time": "2023-04-26T21:04:00.846035Z"
    }
   }
  },
  {
   "cell_type": "code",
   "execution_count": 91,
   "outputs": [],
   "source": [
    "def group_ds(func) -> list[pd.DataFrame]:\n",
    "   \"\"\"\n",
    "   Decorator to transform the list of files names to list of dataframes.\n",
    "   :param func: function to decorate.\n",
    "   :return: list of dataframes.\n",
    "   \"\"\"\n",
    "   def wrapper(*args):\n",
    "       files = func(*args)\n",
    "       dsets = []\n",
    "       for file in files:\n",
    "           frame = pd.read_csv(f\"persistence/{file}\")\n",
    "           dsets.append(frame)\n",
    "       return dsets\n",
    "   return wrapper"
   ],
   "metadata": {
    "collapsed": false,
    "ExecuteTime": {
     "start_time": "2023-04-26T21:04:00.726032Z",
     "end_time": "2023-04-26T21:04:00.846035Z"
    }
   }
  },
  {
   "cell_type": "code",
   "execution_count": 92,
   "outputs": [],
   "source": [
    "@group_ds\n",
    "def list_ds(month:str) -> list[\"str\"]:\n",
    "    \"\"\"\n",
    "    List files in persistence directory by month.\n",
    "    :param month: dataset prefix.\n",
    "    :return: list of datasets with month prefix.\n",
    "    \"\"\"\n",
    "    path = os.getcwd()\n",
    "    files = os.listdir(f\"{path}/persistence\")\n",
    "    return [file for file in files if file.startswith(month)]\n"
   ],
   "metadata": {
    "collapsed": false,
    "ExecuteTime": {
     "start_time": "2023-04-26T21:04:00.741031Z",
     "end_time": "2023-04-26T21:04:00.847033Z"
    }
   }
  },
  {
   "cell_type": "code",
   "execution_count": 93,
   "outputs": [],
   "source": [
    "def concatenate_frames(dataframes: list[pd.DataFrame]) -> pd.DataFrame:\n",
    "    \"\"\"\n",
    "    Concatenate a list of dataframe in a single one.\n",
    "    :param dataframes: list of dataframe to concat in a single one.\n",
    "    :return: dataframe with dataframes concatenated.\n",
    "    \"\"\"\n",
    "    concatenation = pd.concat(dataframes)\n",
    "    concatenation = (\n",
    "        concatenation\n",
    "        .drop_duplicates()\n",
    "        .reset_index()\n",
    "        .drop(\"index\", axis=1)\n",
    "    )\n",
    "\n",
    "    return concatenation\n"
   ],
   "metadata": {
    "collapsed": false,
    "ExecuteTime": {
     "start_time": "2023-04-26T21:04:00.754032Z",
     "end_time": "2023-04-26T21:04:00.848035Z"
    }
   }
  },
  {
   "cell_type": "markdown",
   "source": [
    "### Messy datapoints:"
   ],
   "metadata": {
    "collapsed": false
   }
  },
  {
   "cell_type": "markdown",
   "source": [
    " Since some ads don't have their fields complete, the scraper skip to the next field extracting for example the `engine` value inside `kilometers`, due kilometers field was empty and was skipped."
   ],
   "metadata": {
    "collapsed": false
   }
  },
  {
   "cell_type": "code",
   "execution_count": 94,
   "outputs": [
    {
     "data": {
      "text/plain": "              model  year  kilometers    engine  price  \\\n40          Kia Rio  2016       82500  Gasolina   9500   \n41  Hyundai Elantra  2018       41200  Gasolina  11000   \n42          BMW 320  2009       49000  Gasolina   8200   \n43    Nissan Sentra  2013       14000  Gasolina   6200   \n44   Hyundai Accent  2014       66000  Gasolina   7500   \n\n                                          description  \n40  Precio negociable: si Color : Negro DESCRIPCIÓ...  \n41  Color : NEGRO YA TIENE PLACAS WhatsApp o Teleg...  \n42  Precio negociable: si Color : Gris 4 puertas. ...  \n43  Color : Negro DESCRIPCIÓN CALIFICACIONES SEGUR...  \n44  Precio negociable: si Color : CELESTE METALICO...  ",
      "text/html": "<div>\n<style scoped>\n    .dataframe tbody tr th:only-of-type {\n        vertical-align: middle;\n    }\n\n    .dataframe tbody tr th {\n        vertical-align: top;\n    }\n\n    .dataframe thead th {\n        text-align: right;\n    }\n</style>\n<table border=\"1\" class=\"dataframe\">\n  <thead>\n    <tr style=\"text-align: right;\">\n      <th></th>\n      <th>model</th>\n      <th>year</th>\n      <th>kilometers</th>\n      <th>engine</th>\n      <th>price</th>\n      <th>description</th>\n    </tr>\n  </thead>\n  <tbody>\n    <tr>\n      <th>40</th>\n      <td>Kia Rio</td>\n      <td>2016</td>\n      <td>82500</td>\n      <td>Gasolina</td>\n      <td>9500</td>\n      <td>Precio negociable: si Color : Negro DESCRIPCIÓ...</td>\n    </tr>\n    <tr>\n      <th>41</th>\n      <td>Hyundai Elantra</td>\n      <td>2018</td>\n      <td>41200</td>\n      <td>Gasolina</td>\n      <td>11000</td>\n      <td>Color : NEGRO YA TIENE PLACAS WhatsApp o Teleg...</td>\n    </tr>\n    <tr>\n      <th>42</th>\n      <td>BMW 320</td>\n      <td>2009</td>\n      <td>49000</td>\n      <td>Gasolina</td>\n      <td>8200</td>\n      <td>Precio negociable: si Color : Gris 4 puertas. ...</td>\n    </tr>\n    <tr>\n      <th>43</th>\n      <td>Nissan Sentra</td>\n      <td>2013</td>\n      <td>14000</td>\n      <td>Gasolina</td>\n      <td>6200</td>\n      <td>Color : Negro DESCRIPCIÓN CALIFICACIONES SEGUR...</td>\n    </tr>\n    <tr>\n      <th>44</th>\n      <td>Hyundai Accent</td>\n      <td>2014</td>\n      <td>66000</td>\n      <td>Gasolina</td>\n      <td>7500</td>\n      <td>Precio negociable: si Color : CELESTE METALICO...</td>\n    </tr>\n  </tbody>\n</table>\n</div>"
     },
     "execution_count": 94,
     "metadata": {},
     "output_type": "execute_result"
    }
   ],
   "source": [
    "frame = pd.read_csv(\"persistence/April-08.csv\")\n",
    "frame.tail(5)"
   ],
   "metadata": {
    "collapsed": false,
    "ExecuteTime": {
     "start_time": "2023-04-26T21:04:00.769032Z",
     "end_time": "2023-04-26T21:04:00.849035Z"
    }
   }
  },
  {
   "cell_type": "markdown",
   "source": [
    "### Displaced tuples:"
   ],
   "metadata": {
    "collapsed": false
   }
  },
  {
   "cell_type": "markdown",
   "source": [
    "Since some ads structure and the way that data was extracted happens a displacement for one ad that wasn't extracted as it should be, so I've to remove some unusable datapoins to keep the coherence between `model` and `description`, due the unwanted behavior affect the `description` values."
   ],
   "metadata": {
    "collapsed": false
   }
  },
  {
   "cell_type": "code",
   "execution_count": 95,
   "outputs": [],
   "source": [
    "# frame = fix_tuples(\"April-08\", 33)"
   ],
   "metadata": {
    "collapsed": false,
    "ExecuteTime": {
     "start_time": "2023-04-26T21:04:00.796033Z",
     "end_time": "2023-04-26T21:04:00.849035Z"
    }
   }
  },
  {
   "cell_type": "code",
   "execution_count": 96,
   "outputs": [],
   "source": [
    "# frame.tail()"
   ],
   "metadata": {
    "collapsed": false,
    "ExecuteTime": {
     "start_time": "2023-04-26T21:04:00.814036Z",
     "end_time": "2023-04-26T21:04:00.849035Z"
    }
   }
  },
  {
   "cell_type": "code",
   "execution_count": 97,
   "outputs": [],
   "source": [
    "# frame.to_csv(\"persistence/March-21.csv\", index=False)"
   ],
   "metadata": {
    "collapsed": false,
    "ExecuteTime": {
     "start_time": "2023-04-26T21:04:00.831030Z",
     "end_time": "2023-04-26T21:04:00.850035Z"
    }
   }
  },
  {
   "cell_type": "markdown",
   "source": [
    "### Concatenation:"
   ],
   "metadata": {
    "collapsed": false
   }
  },
  {
   "cell_type": "code",
   "execution_count": 98,
   "outputs": [],
   "source": [
    "february = concatenate_frames(list_ds(\"February\"))\n",
    "march = concatenate_frames(list_ds(\"March\"))\n",
    "april = concatenate_frames(list_ds(\"April\"))"
   ],
   "metadata": {
    "collapsed": false,
    "ExecuteTime": {
     "start_time": "2023-04-26T21:04:00.849035Z",
     "end_time": "2023-04-26T21:04:01.124035Z"
    }
   }
  },
  {
   "cell_type": "code",
   "execution_count": 99,
   "outputs": [
    {
     "data": {
      "text/plain": "               model  year  kilometers    engine  price  \\\n0      Nissan Sentra  2018       60323  Gasolina   9850   \n1          Kia Forte  2017       53000  Gasolina   9000   \n2         Honda City  2013      209470  Gasolina   7900   \n3          Kia Forte  2016      116672  Gasolina   6975   \n4        Honda Civic  2017       66000  Gasolina  13500   \n..               ...   ...         ...       ...    ...   \n155   Chevrolet Aveo  2017       43000  Gasolina  14300   \n156  Volkswagen Golf  1996      200000  Gasolina   2000   \n157    Nissan Sentra  2017       86000  Gasolina   7900   \n158    Nissan Sentra  2002           0  Gasolina   4500   \n159    Nissan Sentra  2013       74000  Gasolina   6700   \n\n                                           description  \n0    Garantía: Como es visto no hay garantía\\nFinan...  \n1    Garantía: Como es visto no hay garantía\\nFinan...  \n2    Financiamiento: no\\nPrecio negociable: si\\nCol...  \n3    Garantía: Como es visto no hay garantía\\nFinan...  \n4    Garantía: Garantía de fabrica restante.\\nFinan...  \n..                                                 ...  \n155  Color : Vino metálico Mantenimiento al día en ...  \n156  Garantía: Como es visto no hay garantía Financ...  \n157  Precio negociable: si Color : gris DESCRIPCIÓN...  \n158  DESCRIPCIÓN CALIFICACIONES SEGURIDAD Nissan se...  \n159  Precio negociable: si Color : Gris DESCRIPCIÓN...  \n\n[160 rows x 6 columns]",
      "text/html": "<div>\n<style scoped>\n    .dataframe tbody tr th:only-of-type {\n        vertical-align: middle;\n    }\n\n    .dataframe tbody tr th {\n        vertical-align: top;\n    }\n\n    .dataframe thead th {\n        text-align: right;\n    }\n</style>\n<table border=\"1\" class=\"dataframe\">\n  <thead>\n    <tr style=\"text-align: right;\">\n      <th></th>\n      <th>model</th>\n      <th>year</th>\n      <th>kilometers</th>\n      <th>engine</th>\n      <th>price</th>\n      <th>description</th>\n    </tr>\n  </thead>\n  <tbody>\n    <tr>\n      <th>0</th>\n      <td>Nissan Sentra</td>\n      <td>2018</td>\n      <td>60323</td>\n      <td>Gasolina</td>\n      <td>9850</td>\n      <td>Garantía: Como es visto no hay garantía\\nFinan...</td>\n    </tr>\n    <tr>\n      <th>1</th>\n      <td>Kia Forte</td>\n      <td>2017</td>\n      <td>53000</td>\n      <td>Gasolina</td>\n      <td>9000</td>\n      <td>Garantía: Como es visto no hay garantía\\nFinan...</td>\n    </tr>\n    <tr>\n      <th>2</th>\n      <td>Honda City</td>\n      <td>2013</td>\n      <td>209470</td>\n      <td>Gasolina</td>\n      <td>7900</td>\n      <td>Financiamiento: no\\nPrecio negociable: si\\nCol...</td>\n    </tr>\n    <tr>\n      <th>3</th>\n      <td>Kia Forte</td>\n      <td>2016</td>\n      <td>116672</td>\n      <td>Gasolina</td>\n      <td>6975</td>\n      <td>Garantía: Como es visto no hay garantía\\nFinan...</td>\n    </tr>\n    <tr>\n      <th>4</th>\n      <td>Honda Civic</td>\n      <td>2017</td>\n      <td>66000</td>\n      <td>Gasolina</td>\n      <td>13500</td>\n      <td>Garantía: Garantía de fabrica restante.\\nFinan...</td>\n    </tr>\n    <tr>\n      <th>...</th>\n      <td>...</td>\n      <td>...</td>\n      <td>...</td>\n      <td>...</td>\n      <td>...</td>\n      <td>...</td>\n    </tr>\n    <tr>\n      <th>155</th>\n      <td>Chevrolet Aveo</td>\n      <td>2017</td>\n      <td>43000</td>\n      <td>Gasolina</td>\n      <td>14300</td>\n      <td>Color : Vino metálico Mantenimiento al día en ...</td>\n    </tr>\n    <tr>\n      <th>156</th>\n      <td>Volkswagen Golf</td>\n      <td>1996</td>\n      <td>200000</td>\n      <td>Gasolina</td>\n      <td>2000</td>\n      <td>Garantía: Como es visto no hay garantía Financ...</td>\n    </tr>\n    <tr>\n      <th>157</th>\n      <td>Nissan Sentra</td>\n      <td>2017</td>\n      <td>86000</td>\n      <td>Gasolina</td>\n      <td>7900</td>\n      <td>Precio negociable: si Color : gris DESCRIPCIÓN...</td>\n    </tr>\n    <tr>\n      <th>158</th>\n      <td>Nissan Sentra</td>\n      <td>2002</td>\n      <td>0</td>\n      <td>Gasolina</td>\n      <td>4500</td>\n      <td>DESCRIPCIÓN CALIFICACIONES SEGURIDAD Nissan se...</td>\n    </tr>\n    <tr>\n      <th>159</th>\n      <td>Nissan Sentra</td>\n      <td>2013</td>\n      <td>74000</td>\n      <td>Gasolina</td>\n      <td>6700</td>\n      <td>Precio negociable: si Color : Gris DESCRIPCIÓN...</td>\n    </tr>\n  </tbody>\n</table>\n<p>160 rows × 6 columns</p>\n</div>"
     },
     "execution_count": 99,
     "metadata": {},
     "output_type": "execute_result"
    }
   ],
   "source": [
    "months = [february, march, april]\n",
    "concatenate_frames(months)"
   ],
   "metadata": {
    "collapsed": false,
    "ExecuteTime": {
     "start_time": "2023-04-26T21:04:01.048031Z",
     "end_time": "2023-04-26T21:04:01.125036Z"
    }
   }
  }
 ],
 "metadata": {
  "kernelspec": {
   "display_name": "Python 3",
   "language": "python",
   "name": "python3"
  },
  "language_info": {
   "codemirror_mode": {
    "name": "ipython",
    "version": 2
   },
   "file_extension": ".py",
   "mimetype": "text/x-python",
   "name": "python",
   "nbconvert_exporter": "python",
   "pygments_lexer": "ipython2",
   "version": "2.7.6"
  }
 },
 "nbformat": 4,
 "nbformat_minor": 0
}
