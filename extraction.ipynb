{
 "cells": [
  {
   "cell_type": "markdown",
   "source": [
    "## Init 🍄"
   ],
   "metadata": {
    "collapsed": false
   }
  },
  {
   "cell_type": "markdown",
   "source": [
    "---"
   ],
   "metadata": {
    "collapsed": false
   }
  },
  {
   "cell_type": "markdown",
   "source": [
    "### Dependencies:"
   ],
   "metadata": {
    "collapsed": false
   }
  },
  {
   "cell_type": "code",
   "execution_count": null,
   "outputs": [],
   "source": [
    "import yaml\n",
    "import re\n",
    "from datetime import datetime\n",
    "import pandas as pd"
   ],
   "metadata": {
    "collapsed": false
   }
  },
  {
   "cell_type": "code",
   "execution_count": null,
   "outputs": [],
   "source": [
    "from selenium import webdriver\n",
    "from selenium.webdriver.common.by import By\n",
    "from selenium.webdriver.support.ui import WebDriverWait\n",
    "from selenium.webdriver.support import expected_conditions as EC"
   ],
   "metadata": {
    "collapsed": false
   }
  },
  {
   "cell_type": "code",
   "execution_count": null,
   "outputs": [],
   "source": [
    "from selenium.common.exceptions import NoSuchElementException\n",
    "from selenium.common.exceptions import TimeoutException"
   ],
   "metadata": {
    "collapsed": false
   }
  },
  {
   "cell_type": "code",
   "execution_count": null,
   "outputs": [],
   "source": [
    "edge:object = webdriver.Edge(executable_path=\"./utils/msedgedriver.exe\")"
   ],
   "metadata": {
    "collapsed": false
   }
  },
  {
   "cell_type": "markdown",
   "source": [
    "### Functions:"
   ],
   "metadata": {
    "collapsed": false
   }
  },
  {
   "cell_type": "code",
   "execution_count": null,
   "outputs": [],
   "source": [
    "def resources(name:str) -> dict[str:str]:\n",
    "    \"\"\"Read xpath.yml file that contains xpath's to scrape\"\"\"\n",
    "\n",
    "    with open(\"xpath.yml\", \"r\") as f:\n",
    "        content:dict[str:str] = yaml.safe_load(f)\n",
    "        return content[name]"
   ],
   "metadata": {
    "collapsed": false
   }
  },
  {
   "cell_type": "code",
   "execution_count": null,
   "outputs": [],
   "source": [
    "def close_prompt(driver:object) -> None:\n",
    "    \"\"\"Close ad window\"\"\"\n",
    "\n",
    "    button:str = \"//a[@class='btn btn-subscription-light']\"\n",
    "    driver.find_element(by=By.XPATH, value=button).click()"
   ],
   "metadata": {
    "collapsed": false
   }
  },
  {
   "cell_type": "code",
   "execution_count": null,
   "outputs": [],
   "source": [
    "def choose_category(category:str, driver:object) -> None:\n",
    "    \"\"\"Choose ad category\"\"\"\n",
    "\n",
    "    driver.find_element(by=By.XPATH, value=category).click()"
   ],
   "metadata": {
    "collapsed": false
   }
  },
  {
   "cell_type": "code",
   "execution_count": null,
   "outputs": [],
   "source": [
    "def click_element(element:object, path:str) -> None:\n",
    "    \"\"\"Click element on the current document\"\"\"\n",
    "\n",
    "    button = element.find_element(by=By.XPATH, value=path)\n",
    "    button.click()"
   ],
   "metadata": {
    "collapsed": false
   }
  },
  {
   "cell_type": "code",
   "execution_count": null,
   "outputs": [],
   "source": [
    "def extract_description(element:object, path:str) -> str:\n",
    "    \"\"\"Extract ad description on the current document\"\"\"\n",
    "\n",
    "    description:str = element.find_element(by=By.XPATH, value=path)\n",
    "    return description"
   ],
   "metadata": {
    "collapsed": false
   }
  },
  {
   "cell_type": "code",
   "execution_count": null,
   "outputs": [],
   "source": [
    "def extract_feature(element:object, path:str) -> list[str]:\n",
    "    \"\"\"Extract some feature from list document based on xpath used.\"\"\"\n",
    "\n",
    "    feature = []\n",
    "\n",
    "    try:\n",
    "        feature:str = element.find_elements(by=By.XPATH, value=path)\n",
    "        feature = [data_point.text for data_point in feature]\n",
    "        return feature\n",
    "    except Exception:\n",
    "        feature.append(\"Web wasn't able to scrape the feature\")"
   ],
   "metadata": {
    "collapsed": false
   }
  },
  {
   "cell_type": "code",
   "execution_count": null,
   "outputs": [],
   "source": [
    "def persistence(dataframe:pd.DataFrame) -> None:\n",
    "    \"\"\"Generate .csv file from data scraped\"\"\"\n",
    "\n",
    "    file_name = datetime.today().strftime(\"%B-%d\")\n",
    "    dataframe.to_csv(f\"persistence/{file_name}.csv\", index=False)"
   ],
   "metadata": {
    "collapsed": false
   }
  },
  {
   "cell_type": "code",
   "execution_count": null,
   "outputs": [],
   "source": [
    "def get_len(features:list[list[str]]) -> bool:\n",
    "    \"\"\"\n",
    "    Check if all features has the same length to create new df\n",
    "    :param features: list of features extracted with scraping\n",
    "    :return: a list with all lengths where first place is the len of the first element and the mostly accepted.\n",
    "    \"\"\"\n",
    "\n",
    "    base_len = len(features[0])\n",
    "    lengths = []\n",
    "    lengths.append(base_len)\n",
    "    for feature in features:\n",
    "        if len(feature) == base_len:\n",
    "            continue\n",
    "        else:\n",
    "             lengths.append(len(feature))\n",
    "    return lengths"
   ],
   "metadata": {
    "collapsed": false
   }
  },
  {
   "cell_type": "code",
   "execution_count": 48,
   "outputs": [],
   "source": [
    "def check_len(lengths:list[int]) -> bool:\n",
    "    for length in lengths[1:]:\n",
    "        if length != lengths[0]:\n",
    "            return False\n",
    "        return True"
   ],
   "metadata": {
    "collapsed": false
   }
  },
  {
   "cell_type": "markdown",
   "source": [
    "## Extraction 🧲"
   ],
   "metadata": {
    "collapsed": false
   }
  },
  {
   "cell_type": "markdown",
   "source": [
    "----"
   ],
   "metadata": {
    "collapsed": false
   }
  },
  {
   "cell_type": "markdown",
   "source": [
    "### Sedan:"
   ],
   "metadata": {
    "collapsed": false
   }
  },
  {
   "cell_type": "markdown",
   "source": [
    "Variables pool."
   ],
   "metadata": {
    "collapsed": false
   }
  },
  {
   "cell_type": "code",
   "execution_count": null,
   "outputs": [],
   "source": [
    "descriptions:list[str] = []\n",
    "prices:list[int] = []\n",
    "models:list[str] = []\n",
    "years:list[int] = []\n",
    "kilometers:list[int] = []\n",
    "engines:list[str] = []\n",
    "\n",
    "# seconds\n",
    "DELAY:int = 2"
   ],
   "metadata": {
    "collapsed": false
   }
  },
  {
   "cell_type": "code",
   "execution_count": null,
   "outputs": [],
   "source": [
    "sedan = resources(\"cars_sedan\")"
   ],
   "metadata": {
    "collapsed": false
   }
  },
  {
   "cell_type": "markdown",
   "source": [
    "Get web & close initial prompt."
   ],
   "metadata": {
    "collapsed": false
   }
  },
  {
   "cell_type": "code",
   "execution_count": null,
   "outputs": [],
   "source": [
    "edge.get(sedan[\"url\"])"
   ],
   "metadata": {
    "collapsed": false
   }
  },
  {
   "cell_type": "code",
   "execution_count": null,
   "outputs": [],
   "source": [
    "close_prompt(edge)"
   ],
   "metadata": {
    "collapsed": false
   }
  },
  {
   "cell_type": "code",
   "execution_count": null,
   "outputs": [],
   "source": [
    "elements = edge.find_elements(by=By.XPATH, value=sedan[\"ad\"])"
   ],
   "metadata": {
    "collapsed": false
   }
  },
  {
   "cell_type": "markdown",
   "source": [
    "Extract descriptions."
   ],
   "metadata": {
    "collapsed": false
   }
  },
  {
   "cell_type": "code",
   "execution_count": null,
   "outputs": [],
   "source": [
    "elements[0].click()\n",
    "try:\n",
    "    for element in range(len(elements)):\n",
    "        dynamic_delay = WebDriverWait(edge, DELAY).until(EC.presence_of_element_located((By.XPATH, sedan[\"description\"])))\n",
    "        temp = extract_description(edge, sedan[\"description\"])\n",
    "        descriptions.append(temp.text)\n",
    "        click_element(edge, sedan[\"next\"])\n",
    "except TimeoutException as TE:\n",
    "    descriptions.append(\"Web wasn't able to scrape descriptions\")\n",
    "except NoSuchElementException as NSE:\n",
    "    click_element(edge, sedan[\"exit\"])"
   ],
   "metadata": {
    "collapsed": false
   }
  },
  {
   "cell_type": "markdown",
   "source": [
    "Extract prices & models."
   ],
   "metadata": {
    "collapsed": false
   }
  },
  {
   "cell_type": "code",
   "execution_count": null,
   "outputs": [],
   "source": [
    "prices = extract_feature(edge, sedan[\"price\"])\n",
    "models = extract_feature(edge, sedan[\"model\"])"
   ],
   "metadata": {
    "collapsed": false
   }
  },
  {
   "cell_type": "markdown",
   "source": [
    "Extract car year, engine & kilometers."
   ],
   "metadata": {
    "collapsed": false
   }
  },
  {
   "cell_type": "code",
   "execution_count": null,
   "outputs": [],
   "source": [
    "years = extract_feature(edge, sedan[\"year\"])\n",
    "engines = extract_feature(edge, sedan[\"engine\"])\n",
    "kilometers = extract_feature(edge, sedan[\"kilometers\"])"
   ],
   "metadata": {
    "collapsed": false
   }
  },
  {
   "cell_type": "code",
   "execution_count": null,
   "outputs": [],
   "source": [
    "lengths = [prices, models, years, engines, kilometers, descriptions]\n",
    "get_len(lengths)"
   ],
   "metadata": {
    "collapsed": false
   }
  },
  {
   "cell_type": "markdown",
   "source": [
    "## Cleaning 🤿"
   ],
   "metadata": {
    "collapsed": false
   }
  },
  {
   "cell_type": "markdown",
   "source": [
    "### Functions:"
   ],
   "metadata": {
    "collapsed": false
   }
  },
  {
   "cell_type": "code",
   "execution_count": null,
   "outputs": [],
   "source": [
    "def parse_price(dataframe: pd.DataFrame, feature:str, pattern:str) -> None:\n",
    "    \"\"\"\n",
    "    Parse financial features like prices. Works with $#,### or $#,###\\n* pattern\n",
    "    :param dataframe: object towards apply transformation\n",
    "    :param feature: feature name towards apply transformation\n",
    "    :param pattern: feature pattern to transform\n",
    "    \"\"\"\n",
    "    dataframe[feature] = dataframe [feature] \\\n",
    "        .str.extract(pattern) \\\n",
    "        .applymap(lambda price: int(price.replace(\",\",\"\")))\n"
   ],
   "metadata": {
    "collapsed": false
   }
  },
  {
   "cell_type": "code",
   "execution_count": null,
   "outputs": [],
   "source": [
    "def remove_chars(dataframe: pd.DataFrame, feature:str, wildcards:str) -> pd.Series:\n",
    "    \"\"\"\n",
    "    Remove escaped characters from features like indented large extracts of text\n",
    "    :param dataframe: object towards apply transformation\n",
    "    :param feature: feature name towards apply transformation\n",
    "    :param wildcards: escaped characters to remove\n",
    "    :return: Serie without escaped characters\n",
    "    \"\"\"\n",
    "    return (dataframe\n",
    "    .apply(\n",
    "        lambda row: row[feature]\n",
    "        ,axis = 1\n",
    "    )\n",
    "    .apply(\n",
    "        lambda extracted_f: re.sub(wildcards, r' ', extracted_f)\n",
    "    )\n",
    "    )\n"
   ],
   "metadata": {
    "collapsed": false
   }
  },
  {
   "cell_type": "code",
   "execution_count": null,
   "outputs": [],
   "source": [
    "PRICE_RG: str = r\"^\\$(?P<prices>\\d+,\\d+)?\"\n",
    "KM_REG: str = r\"(?P<km>^\\d+)\"\n",
    "CHARACTER_RG:str = '(\\n|\\r)+'"
   ],
   "metadata": {
    "collapsed": false
   }
  },
  {
   "cell_type": "markdown",
   "source": [
    "---"
   ],
   "metadata": {
    "collapsed": false
   }
  },
  {
   "cell_type": "markdown",
   "source": [
    "Remove noise elements from data list"
   ],
   "metadata": {
    "collapsed": false
   }
  },
  {
   "cell_type": "code",
   "execution_count": null,
   "outputs": [],
   "source": [
    "# engines.append(\"Gasolina\")"
   ],
   "metadata": {
    "collapsed": false
   }
  },
  {
   "cell_type": "code",
   "execution_count": null,
   "outputs": [],
   "source": [
    "# years.remove(\"Ver más\")"
   ],
   "metadata": {
    "collapsed": false
   }
  },
  {
   "cell_type": "code",
   "execution_count": null,
   "outputs": [],
   "source": [
    "# models.remove(\"Blue Book Encuentra24\")"
   ],
   "metadata": {
    "collapsed": false
   }
  },
  {
   "cell_type": "code",
   "execution_count": null,
   "outputs": [],
   "source": [
    "# kilometers.remove(\"Gasolina\")\n",
    "# kilometers.insert(-2, \"0\")"
   ],
   "metadata": {
    "collapsed": false
   }
  },
  {
   "cell_type": "code",
   "execution_count": null,
   "outputs": [],
   "source": [
    "# # engines.pop(-1)"
   ],
   "metadata": {
    "collapsed": false
   }
  },
  {
   "cell_type": "markdown",
   "source": [
    "Create dataframe to process data extracted"
   ],
   "metadata": {
    "collapsed": false
   }
  },
  {
   "cell_type": "code",
   "execution_count": 46,
   "outputs": [
    {
     "data": {
      "text/plain": "[41, 41, 41, 41, 41, 41]"
     },
     "execution_count": 46,
     "metadata": {},
     "output_type": "execute_result"
    }
   ],
   "source": [
    "lengths = [len(engines), len(models), len(years), len(kilometers), len(prices),len(descriptions)]"
   ],
   "metadata": {
    "collapsed": false
   }
  },
  {
   "cell_type": "code",
   "execution_count": 38,
   "outputs": [],
   "source": [
    "df_temp = pd.DataFrame({\n",
    "    \"model\": models,\n",
    "    \"year\": years,\n",
    "    \"kilometers\": kilometers,\n",
    "    \"engine\": engines,\n",
    "    \"price\": prices,\n",
    "    \"description\": descriptions\n",
    "})"
   ],
   "metadata": {
    "collapsed": false
   }
  },
  {
   "cell_type": "code",
   "execution_count": 39,
   "outputs": [
    {
     "data": {
      "text/plain": "                   model  year kilometers    engine                   price  \\\n0   Mitsubishi Mirage G4  2018   60000 km  Gasolina   $8,500\\n(Rebajado 3%)   \n1                Kia Rio  2020   56000 km  Gasolina  $10,500\\n(Rebajado 2%)   \n2                Mazda 3  2013   91260 km  Gasolina                  $6,500   \n3         Toyota Corolla  2009  195504 km   Híbrido                 $17,000   \n4              Toyota iA  2018      66 km  Gasolina                 $11,000   \n5           Nissan Versa  2020   28235 km  Gasolina   $8,200\\n(Rebajado 4%)   \n6                Kia Rio  2016   97911 km  Gasolina                  $7,500   \n7       Volkswagen Jetta  2014  131400 km  Gasolina                  $7,450   \n8      Mitsubishi Lancer  2015   60000 km  Gasolina   $8,500\\n(Rebajado 3%)   \n9          Nissan Sentra  2013  140000 km  Gasolina                  $6,200   \n10       Hyundai Elantra  2015  118000 km  Gasolina                  $8,500   \n11  Mitsubishi Mirage G4  2019   28000 km  Gasolina                  $8,800   \n12         Nissan Sentra  2014   73233 km  Gasolina                  $7,300   \n13     Mitsubishi Lancer  2009  250000 km  Gasolina                  $5,900   \n14               Kia Rio  2016   64000 km  Gasolina                  $8,200   \n15            Ford Focus  2008     141 km  Gasolina                  $3,500   \n16           Honda Civic  2014  106000 km  Gasolina                  $8,300   \n17        Hyundai Accent  2014    7600 km  Gasolina                  $7,600   \n18       Chevrolet Spark  2020   83903 km  Gasolina                  $7,350   \n19         Nissan Almera  2011   92585 km  Gasolina                  $6,500   \n20               BMW 328  2007  143600 km  Gasolina                  $7,000   \n21     Mitsubishi Galant  2009  100000 km  Gasolina                  $4,200   \n22        Toyota Corolla  2016  183465 km  Gasolina                  $9,900   \n23      Volkswagen Jetta  2014  131000 km  Gasolina                  $7,850   \n24               BMW 328  2011  120000 km  Gasolina                  $9,500   \n25         Nissan Sentra  2010   75362 km  Gasolina  $4,900\\n(Rebajado 13%)   \n26     Mercedes Benz 200  1988  195000 km  Gasolina                  $4,000   \n27        Daihatsu Rocky  1992  150000 km    Diesel                  $5,000   \n28               Mazda 3  2011  133000 km  Gasolina   $5,800\\n(Rebajado 2%)   \n29           Honda Civic  2019   45000 km  Gasolina                 $15,000   \n30     Mercedes Benz 230  2007  148000 km  Gasolina                  $8,500   \n31     Mitsubishi Mirage  2000  262634 km  Gasolina                  $3,300   \n32            Ford Focus  2007  200000 km  Gasolina                  $3,600   \n33            Dodge DART  2013   88000 km  Gasolina                  $6,500   \n34           Nissan Juke  2016      73 km  Gasolina                 $10,800   \n35               Kia Rio  2019   46992 km  Gasolina                 $10,500   \n36         Nissan Sentra  2013   14000 km  Gasolina   $6,200\\n(Rebajado 5%)   \n37          Nissan Versa  2017   78000 km  Gasolina   $7,600\\n(Rebajado 3%)   \n38           Ford Fiesta  2019   39000 km  Gasolina                  $8,150   \n39             Kia Forte  2017   76000 km  Gasolina   $8,100\\n(Rebajado 2%)   \n40        Hyundai Sonata  2005  141000 km  Gasolina                  $2,900   \n\n                                          description  \n0   Color : Blanco\\nSe vende Mitsubishi G4 2018. A...  \n1   Color : Gris\\nSe vende Kia Río 2020. Automátic...  \n2   Precio negociable: si\\nColor : Rojo\\nMotor 2.0...  \n3   Garantía: Como es visto no hay garantía\\nPreci...  \n4   Precio negociable: si\\nColor : Azul\\nSe vende ...  \n5   Precio negociable: si\\nBonito Nissan Versa 202...  \n6   Financiamiento: no\\nPrecio negociable: si\\nCol...  \n7   Garantía: Como es visto no hay garantía\\nFinan...  \n8   Precio negociable: si\\nColor : Negro\\nSe vende...  \n9   Precio negociable: no\\nDESCRIPCIÓN\\nCALIFICACI...  \n10  DESCRIPCIÓN\\nCALIFICACIONES\\nSEGURIDAD\\nHyunda...  \n11  Color : Negro\\nSEDAN FULL , MANDOS AL TIMON , ...  \n12  Financiamiento: no\\nDESCRIPCIÓN\\nCALIFICACIONE...  \n13  Color : Negro\\nMItsubishi Lancer 2009, motor 2...  \n14  Precio negociable: si\\nColor : Blanco\\nDESCRIP...  \n15  Precio negociable: si\\nColor : Negro\\nDESCRIPC...  \n16  Color : Gris\\nDESCRIPCIÓN\\nCALIFICACIONES\\nSEG...  \n17  Precio negociable: si\\nColor : Plateado\\nDESCR...  \n18  Garantía: Como es visto no hay garantía\\nFinan...  \n19  Precio negociable: si\\nColor : Gris\\nNissan Al...  \n20  Precio negociable: si\\nColor : GRIS\\nSunroof\\n...  \n21  Precio negociable: si\\nColor : Blanco\\nMitsubi...  \n22  Garantía: Como es visto no hay garantía\\nFinan...  \n23  Financiamiento: no\\nPrecio negociable: si\\nCol...  \n24  BMW 328i, rines especiales, asientos de cuero,...  \n25  Precio negociable: si\\nDESCRIPCIÓN\\nCALIFICACI...  \n26  Garantía: Como es visto no hay garantía\\nPreci...  \n27        Color : Rojo y Negro\\nSeñor Guzmán contacto  \n28  Precio negociable: si\\nVendo mazda 3 año 2011 ...  \n29  Financiamiento: no\\nPrecio negociable: si\\nCol...  \n30  Color : Plata Iridio Metalizado\\nDe agencia, p...  \n31  Garantía: Como es visto no hay garantía\\nPreci...  \n32  Garantía: Como es visto no hay garantía\\nFinan...  \n33  Color : Rojo.\\nInteresados Illamarme  .\\nVersi...  \n34  Precio negociable: si\\nNissan Juke 2016 en exc...  \n35  Financiamiento: no\\nPrecio negociable: si\\nFul...  \n36  Color : Negro\\nDESCRIPCIÓN\\nCALIFICACIONES\\nSE...  \n37  Color : Azul\\nDESCRIPCIÓN\\nCALIFICACIONES\\nSEG...  \n38  Garantía: Como es visto no hay garantía\\nFORD ...  \n39      DESCRIPCIÓN\\nCALIFICACIONES\\nSEGURIDAD\\nFIJOS  \n40  Financiamiento: no\\nPrecio negociable: si\\nCol...  ",
      "text/html": "<div>\n<style scoped>\n    .dataframe tbody tr th:only-of-type {\n        vertical-align: middle;\n    }\n\n    .dataframe tbody tr th {\n        vertical-align: top;\n    }\n\n    .dataframe thead th {\n        text-align: right;\n    }\n</style>\n<table border=\"1\" class=\"dataframe\">\n  <thead>\n    <tr style=\"text-align: right;\">\n      <th></th>\n      <th>model</th>\n      <th>year</th>\n      <th>kilometers</th>\n      <th>engine</th>\n      <th>price</th>\n      <th>description</th>\n    </tr>\n  </thead>\n  <tbody>\n    <tr>\n      <th>0</th>\n      <td>Mitsubishi Mirage G4</td>\n      <td>2018</td>\n      <td>60000 km</td>\n      <td>Gasolina</td>\n      <td>$8,500\\n(Rebajado 3%)</td>\n      <td>Color : Blanco\\nSe vende Mitsubishi G4 2018. A...</td>\n    </tr>\n    <tr>\n      <th>1</th>\n      <td>Kia Rio</td>\n      <td>2020</td>\n      <td>56000 km</td>\n      <td>Gasolina</td>\n      <td>$10,500\\n(Rebajado 2%)</td>\n      <td>Color : Gris\\nSe vende Kia Río 2020. Automátic...</td>\n    </tr>\n    <tr>\n      <th>2</th>\n      <td>Mazda 3</td>\n      <td>2013</td>\n      <td>91260 km</td>\n      <td>Gasolina</td>\n      <td>$6,500</td>\n      <td>Precio negociable: si\\nColor : Rojo\\nMotor 2.0...</td>\n    </tr>\n    <tr>\n      <th>3</th>\n      <td>Toyota Corolla</td>\n      <td>2009</td>\n      <td>195504 km</td>\n      <td>Híbrido</td>\n      <td>$17,000</td>\n      <td>Garantía: Como es visto no hay garantía\\nPreci...</td>\n    </tr>\n    <tr>\n      <th>4</th>\n      <td>Toyota iA</td>\n      <td>2018</td>\n      <td>66 km</td>\n      <td>Gasolina</td>\n      <td>$11,000</td>\n      <td>Precio negociable: si\\nColor : Azul\\nSe vende ...</td>\n    </tr>\n    <tr>\n      <th>5</th>\n      <td>Nissan Versa</td>\n      <td>2020</td>\n      <td>28235 km</td>\n      <td>Gasolina</td>\n      <td>$8,200\\n(Rebajado 4%)</td>\n      <td>Precio negociable: si\\nBonito Nissan Versa 202...</td>\n    </tr>\n    <tr>\n      <th>6</th>\n      <td>Kia Rio</td>\n      <td>2016</td>\n      <td>97911 km</td>\n      <td>Gasolina</td>\n      <td>$7,500</td>\n      <td>Financiamiento: no\\nPrecio negociable: si\\nCol...</td>\n    </tr>\n    <tr>\n      <th>7</th>\n      <td>Volkswagen Jetta</td>\n      <td>2014</td>\n      <td>131400 km</td>\n      <td>Gasolina</td>\n      <td>$7,450</td>\n      <td>Garantía: Como es visto no hay garantía\\nFinan...</td>\n    </tr>\n    <tr>\n      <th>8</th>\n      <td>Mitsubishi Lancer</td>\n      <td>2015</td>\n      <td>60000 km</td>\n      <td>Gasolina</td>\n      <td>$8,500\\n(Rebajado 3%)</td>\n      <td>Precio negociable: si\\nColor : Negro\\nSe vende...</td>\n    </tr>\n    <tr>\n      <th>9</th>\n      <td>Nissan Sentra</td>\n      <td>2013</td>\n      <td>140000 km</td>\n      <td>Gasolina</td>\n      <td>$6,200</td>\n      <td>Precio negociable: no\\nDESCRIPCIÓN\\nCALIFICACI...</td>\n    </tr>\n    <tr>\n      <th>10</th>\n      <td>Hyundai Elantra</td>\n      <td>2015</td>\n      <td>118000 km</td>\n      <td>Gasolina</td>\n      <td>$8,500</td>\n      <td>DESCRIPCIÓN\\nCALIFICACIONES\\nSEGURIDAD\\nHyunda...</td>\n    </tr>\n    <tr>\n      <th>11</th>\n      <td>Mitsubishi Mirage G4</td>\n      <td>2019</td>\n      <td>28000 km</td>\n      <td>Gasolina</td>\n      <td>$8,800</td>\n      <td>Color : Negro\\nSEDAN FULL , MANDOS AL TIMON , ...</td>\n    </tr>\n    <tr>\n      <th>12</th>\n      <td>Nissan Sentra</td>\n      <td>2014</td>\n      <td>73233 km</td>\n      <td>Gasolina</td>\n      <td>$7,300</td>\n      <td>Financiamiento: no\\nDESCRIPCIÓN\\nCALIFICACIONE...</td>\n    </tr>\n    <tr>\n      <th>13</th>\n      <td>Mitsubishi Lancer</td>\n      <td>2009</td>\n      <td>250000 km</td>\n      <td>Gasolina</td>\n      <td>$5,900</td>\n      <td>Color : Negro\\nMItsubishi Lancer 2009, motor 2...</td>\n    </tr>\n    <tr>\n      <th>14</th>\n      <td>Kia Rio</td>\n      <td>2016</td>\n      <td>64000 km</td>\n      <td>Gasolina</td>\n      <td>$8,200</td>\n      <td>Precio negociable: si\\nColor : Blanco\\nDESCRIP...</td>\n    </tr>\n    <tr>\n      <th>15</th>\n      <td>Ford Focus</td>\n      <td>2008</td>\n      <td>141 km</td>\n      <td>Gasolina</td>\n      <td>$3,500</td>\n      <td>Precio negociable: si\\nColor : Negro\\nDESCRIPC...</td>\n    </tr>\n    <tr>\n      <th>16</th>\n      <td>Honda Civic</td>\n      <td>2014</td>\n      <td>106000 km</td>\n      <td>Gasolina</td>\n      <td>$8,300</td>\n      <td>Color : Gris\\nDESCRIPCIÓN\\nCALIFICACIONES\\nSEG...</td>\n    </tr>\n    <tr>\n      <th>17</th>\n      <td>Hyundai Accent</td>\n      <td>2014</td>\n      <td>7600 km</td>\n      <td>Gasolina</td>\n      <td>$7,600</td>\n      <td>Precio negociable: si\\nColor : Plateado\\nDESCR...</td>\n    </tr>\n    <tr>\n      <th>18</th>\n      <td>Chevrolet Spark</td>\n      <td>2020</td>\n      <td>83903 km</td>\n      <td>Gasolina</td>\n      <td>$7,350</td>\n      <td>Garantía: Como es visto no hay garantía\\nFinan...</td>\n    </tr>\n    <tr>\n      <th>19</th>\n      <td>Nissan Almera</td>\n      <td>2011</td>\n      <td>92585 km</td>\n      <td>Gasolina</td>\n      <td>$6,500</td>\n      <td>Precio negociable: si\\nColor : Gris\\nNissan Al...</td>\n    </tr>\n    <tr>\n      <th>20</th>\n      <td>BMW 328</td>\n      <td>2007</td>\n      <td>143600 km</td>\n      <td>Gasolina</td>\n      <td>$7,000</td>\n      <td>Precio negociable: si\\nColor : GRIS\\nSunroof\\n...</td>\n    </tr>\n    <tr>\n      <th>21</th>\n      <td>Mitsubishi Galant</td>\n      <td>2009</td>\n      <td>100000 km</td>\n      <td>Gasolina</td>\n      <td>$4,200</td>\n      <td>Precio negociable: si\\nColor : Blanco\\nMitsubi...</td>\n    </tr>\n    <tr>\n      <th>22</th>\n      <td>Toyota Corolla</td>\n      <td>2016</td>\n      <td>183465 km</td>\n      <td>Gasolina</td>\n      <td>$9,900</td>\n      <td>Garantía: Como es visto no hay garantía\\nFinan...</td>\n    </tr>\n    <tr>\n      <th>23</th>\n      <td>Volkswagen Jetta</td>\n      <td>2014</td>\n      <td>131000 km</td>\n      <td>Gasolina</td>\n      <td>$7,850</td>\n      <td>Financiamiento: no\\nPrecio negociable: si\\nCol...</td>\n    </tr>\n    <tr>\n      <th>24</th>\n      <td>BMW 328</td>\n      <td>2011</td>\n      <td>120000 km</td>\n      <td>Gasolina</td>\n      <td>$9,500</td>\n      <td>BMW 328i, rines especiales, asientos de cuero,...</td>\n    </tr>\n    <tr>\n      <th>25</th>\n      <td>Nissan Sentra</td>\n      <td>2010</td>\n      <td>75362 km</td>\n      <td>Gasolina</td>\n      <td>$4,900\\n(Rebajado 13%)</td>\n      <td>Precio negociable: si\\nDESCRIPCIÓN\\nCALIFICACI...</td>\n    </tr>\n    <tr>\n      <th>26</th>\n      <td>Mercedes Benz 200</td>\n      <td>1988</td>\n      <td>195000 km</td>\n      <td>Gasolina</td>\n      <td>$4,000</td>\n      <td>Garantía: Como es visto no hay garantía\\nPreci...</td>\n    </tr>\n    <tr>\n      <th>27</th>\n      <td>Daihatsu Rocky</td>\n      <td>1992</td>\n      <td>150000 km</td>\n      <td>Diesel</td>\n      <td>$5,000</td>\n      <td>Color : Rojo y Negro\\nSeñor Guzmán contacto</td>\n    </tr>\n    <tr>\n      <th>28</th>\n      <td>Mazda 3</td>\n      <td>2011</td>\n      <td>133000 km</td>\n      <td>Gasolina</td>\n      <td>$5,800\\n(Rebajado 2%)</td>\n      <td>Precio negociable: si\\nVendo mazda 3 año 2011 ...</td>\n    </tr>\n    <tr>\n      <th>29</th>\n      <td>Honda Civic</td>\n      <td>2019</td>\n      <td>45000 km</td>\n      <td>Gasolina</td>\n      <td>$15,000</td>\n      <td>Financiamiento: no\\nPrecio negociable: si\\nCol...</td>\n    </tr>\n    <tr>\n      <th>30</th>\n      <td>Mercedes Benz 230</td>\n      <td>2007</td>\n      <td>148000 km</td>\n      <td>Gasolina</td>\n      <td>$8,500</td>\n      <td>Color : Plata Iridio Metalizado\\nDe agencia, p...</td>\n    </tr>\n    <tr>\n      <th>31</th>\n      <td>Mitsubishi Mirage</td>\n      <td>2000</td>\n      <td>262634 km</td>\n      <td>Gasolina</td>\n      <td>$3,300</td>\n      <td>Garantía: Como es visto no hay garantía\\nPreci...</td>\n    </tr>\n    <tr>\n      <th>32</th>\n      <td>Ford Focus</td>\n      <td>2007</td>\n      <td>200000 km</td>\n      <td>Gasolina</td>\n      <td>$3,600</td>\n      <td>Garantía: Como es visto no hay garantía\\nFinan...</td>\n    </tr>\n    <tr>\n      <th>33</th>\n      <td>Dodge DART</td>\n      <td>2013</td>\n      <td>88000 km</td>\n      <td>Gasolina</td>\n      <td>$6,500</td>\n      <td>Color : Rojo.\\nInteresados Illamarme  .\\nVersi...</td>\n    </tr>\n    <tr>\n      <th>34</th>\n      <td>Nissan Juke</td>\n      <td>2016</td>\n      <td>73 km</td>\n      <td>Gasolina</td>\n      <td>$10,800</td>\n      <td>Precio negociable: si\\nNissan Juke 2016 en exc...</td>\n    </tr>\n    <tr>\n      <th>35</th>\n      <td>Kia Rio</td>\n      <td>2019</td>\n      <td>46992 km</td>\n      <td>Gasolina</td>\n      <td>$10,500</td>\n      <td>Financiamiento: no\\nPrecio negociable: si\\nFul...</td>\n    </tr>\n    <tr>\n      <th>36</th>\n      <td>Nissan Sentra</td>\n      <td>2013</td>\n      <td>14000 km</td>\n      <td>Gasolina</td>\n      <td>$6,200\\n(Rebajado 5%)</td>\n      <td>Color : Negro\\nDESCRIPCIÓN\\nCALIFICACIONES\\nSE...</td>\n    </tr>\n    <tr>\n      <th>37</th>\n      <td>Nissan Versa</td>\n      <td>2017</td>\n      <td>78000 km</td>\n      <td>Gasolina</td>\n      <td>$7,600\\n(Rebajado 3%)</td>\n      <td>Color : Azul\\nDESCRIPCIÓN\\nCALIFICACIONES\\nSEG...</td>\n    </tr>\n    <tr>\n      <th>38</th>\n      <td>Ford Fiesta</td>\n      <td>2019</td>\n      <td>39000 km</td>\n      <td>Gasolina</td>\n      <td>$8,150</td>\n      <td>Garantía: Como es visto no hay garantía\\nFORD ...</td>\n    </tr>\n    <tr>\n      <th>39</th>\n      <td>Kia Forte</td>\n      <td>2017</td>\n      <td>76000 km</td>\n      <td>Gasolina</td>\n      <td>$8,100\\n(Rebajado 2%)</td>\n      <td>DESCRIPCIÓN\\nCALIFICACIONES\\nSEGURIDAD\\nFIJOS</td>\n    </tr>\n    <tr>\n      <th>40</th>\n      <td>Hyundai Sonata</td>\n      <td>2005</td>\n      <td>141000 km</td>\n      <td>Gasolina</td>\n      <td>$2,900</td>\n      <td>Financiamiento: no\\nPrecio negociable: si\\nCol...</td>\n    </tr>\n  </tbody>\n</table>\n</div>"
     },
     "execution_count": 39,
     "metadata": {},
     "output_type": "execute_result"
    }
   ],
   "source": [
    "df_temp"
   ],
   "metadata": {
    "collapsed": false
   }
  },
  {
   "cell_type": "markdown",
   "source": [
    "Parse features type from dataframe"
   ],
   "metadata": {
    "collapsed": false
   }
  },
  {
   "cell_type": "code",
   "execution_count": 40,
   "outputs": [],
   "source": [
    "parse_price(df_temp, \"price\", PRICE_RG)"
   ],
   "metadata": {
    "collapsed": false
   }
  },
  {
   "cell_type": "code",
   "execution_count": 41,
   "outputs": [],
   "source": [
    "df_temp[\"kilometers\"] = df_temp[\"kilometers\"].str.extract(KM_REG).applymap(int)\n",
    "df_temp[\"year\"] = df_temp[\"year\"].map(int)"
   ],
   "metadata": {
    "collapsed": false
   }
  },
  {
   "cell_type": "code",
   "execution_count": 42,
   "outputs": [],
   "source": [
    "df_temp[\"description\"] = remove_chars(df_temp, \"description\", CHARACTER_RG)"
   ],
   "metadata": {
    "collapsed": false
   }
  },
  {
   "cell_type": "code",
   "execution_count": 43,
   "outputs": [
    {
     "data": {
      "text/plain": "                   model  year  kilometers    engine  price  \\\n0   Mitsubishi Mirage G4  2018       60000  Gasolina   8500   \n1                Kia Rio  2020       56000  Gasolina  10500   \n2                Mazda 3  2013       91260  Gasolina   6500   \n3         Toyota Corolla  2009      195504   Híbrido  17000   \n4              Toyota iA  2018          66  Gasolina  11000   \n5           Nissan Versa  2020       28235  Gasolina   8200   \n6                Kia Rio  2016       97911  Gasolina   7500   \n7       Volkswagen Jetta  2014      131400  Gasolina   7450   \n8      Mitsubishi Lancer  2015       60000  Gasolina   8500   \n9          Nissan Sentra  2013      140000  Gasolina   6200   \n10       Hyundai Elantra  2015      118000  Gasolina   8500   \n11  Mitsubishi Mirage G4  2019       28000  Gasolina   8800   \n12         Nissan Sentra  2014       73233  Gasolina   7300   \n13     Mitsubishi Lancer  2009      250000  Gasolina   5900   \n14               Kia Rio  2016       64000  Gasolina   8200   \n15            Ford Focus  2008         141  Gasolina   3500   \n16           Honda Civic  2014      106000  Gasolina   8300   \n17        Hyundai Accent  2014        7600  Gasolina   7600   \n18       Chevrolet Spark  2020       83903  Gasolina   7350   \n19         Nissan Almera  2011       92585  Gasolina   6500   \n20               BMW 328  2007      143600  Gasolina   7000   \n21     Mitsubishi Galant  2009      100000  Gasolina   4200   \n22        Toyota Corolla  2016      183465  Gasolina   9900   \n23      Volkswagen Jetta  2014      131000  Gasolina   7850   \n24               BMW 328  2011      120000  Gasolina   9500   \n25         Nissan Sentra  2010       75362  Gasolina   4900   \n26     Mercedes Benz 200  1988      195000  Gasolina   4000   \n27        Daihatsu Rocky  1992      150000    Diesel   5000   \n28               Mazda 3  2011      133000  Gasolina   5800   \n29           Honda Civic  2019       45000  Gasolina  15000   \n30     Mercedes Benz 230  2007      148000  Gasolina   8500   \n31     Mitsubishi Mirage  2000      262634  Gasolina   3300   \n32            Ford Focus  2007      200000  Gasolina   3600   \n33            Dodge DART  2013       88000  Gasolina   6500   \n34           Nissan Juke  2016          73  Gasolina  10800   \n35               Kia Rio  2019       46992  Gasolina  10500   \n36         Nissan Sentra  2013       14000  Gasolina   6200   \n37          Nissan Versa  2017       78000  Gasolina   7600   \n38           Ford Fiesta  2019       39000  Gasolina   8150   \n39             Kia Forte  2017       76000  Gasolina   8100   \n40        Hyundai Sonata  2005      141000  Gasolina   2900   \n\n                                          description  \n0   Color : Blanco Se vende Mitsubishi G4 2018. Au...  \n1   Color : Gris Se vende Kia Río 2020. Automático...  \n2   Precio negociable: si Color : Rojo Motor 2.0 S...  \n3   Garantía: Como es visto no hay garantía Precio...  \n4   Precio negociable: si Color : Azul Se vende to...  \n5   Precio negociable: si Bonito Nissan Versa 2020...  \n6   Financiamiento: no Precio negociable: si Color...  \n7   Garantía: Como es visto no hay garantía Financ...  \n8   Precio negociable: si Color : Negro Se vende M...  \n9   Precio negociable: no DESCRIPCIÓN CALIFICACION...  \n10  DESCRIPCIÓN CALIFICACIONES SEGURIDAD Hyundai E...  \n11  Color : Negro SEDAN FULL , MANDOS AL TIMON , T...  \n12  Financiamiento: no DESCRIPCIÓN CALIFICACIONES ...  \n13  Color : Negro MItsubishi Lancer 2009, motor 2....  \n14  Precio negociable: si Color : Blanco DESCRIPCI...  \n15  Precio negociable: si Color : Negro DESCRIPCIÓ...  \n16  Color : Gris DESCRIPCIÓN CALIFICACIONES SEGURIDAD  \n17  Precio negociable: si Color : Plateado DESCRIP...  \n18  Garantía: Como es visto no hay garantía Financ...  \n19  Precio negociable: si Color : Gris Nissan Alme...  \n20  Precio negociable: si Color : GRIS Sunroof Pin...  \n21  Precio negociable: si Color : Blanco Mitsubish...  \n22  Garantía: Como es visto no hay garantía Financ...  \n23  Financiamiento: no Precio negociable: si Color...  \n24  BMW 328i, rines especiales, asientos de cuero,...  \n25  Precio negociable: si DESCRIPCIÓN CALIFICACION...  \n26  Garantía: Como es visto no hay garantía Precio...  \n27         Color : Rojo y Negro Señor Guzmán contacto  \n28  Precio negociable: si Vendo mazda 3 año 2011 M...  \n29  Financiamiento: no Precio negociable: si Color...  \n30  Color : Plata Iridio Metalizado De agencia, pa...  \n31  Garantía: Como es visto no hay garantía Precio...  \n32  Garantía: Como es visto no hay garantía Financ...  \n33  Color : Rojo. Interesados Illamarme  . Version...  \n34  Precio negociable: si Nissan Juke 2016 en exce...  \n35  Financiamiento: no Precio negociable: si Full ...  \n36  Color : Negro DESCRIPCIÓN CALIFICACIONES SEGUR...  \n37  Color : Azul DESCRIPCIÓN CALIFICACIONES SEGURI...  \n38  Garantía: Como es visto no hay garantía FORD F...  \n39         DESCRIPCIÓN CALIFICACIONES SEGURIDAD FIJOS  \n40  Financiamiento: no Precio negociable: si Color...  ",
      "text/html": "<div>\n<style scoped>\n    .dataframe tbody tr th:only-of-type {\n        vertical-align: middle;\n    }\n\n    .dataframe tbody tr th {\n        vertical-align: top;\n    }\n\n    .dataframe thead th {\n        text-align: right;\n    }\n</style>\n<table border=\"1\" class=\"dataframe\">\n  <thead>\n    <tr style=\"text-align: right;\">\n      <th></th>\n      <th>model</th>\n      <th>year</th>\n      <th>kilometers</th>\n      <th>engine</th>\n      <th>price</th>\n      <th>description</th>\n    </tr>\n  </thead>\n  <tbody>\n    <tr>\n      <th>0</th>\n      <td>Mitsubishi Mirage G4</td>\n      <td>2018</td>\n      <td>60000</td>\n      <td>Gasolina</td>\n      <td>8500</td>\n      <td>Color : Blanco Se vende Mitsubishi G4 2018. Au...</td>\n    </tr>\n    <tr>\n      <th>1</th>\n      <td>Kia Rio</td>\n      <td>2020</td>\n      <td>56000</td>\n      <td>Gasolina</td>\n      <td>10500</td>\n      <td>Color : Gris Se vende Kia Río 2020. Automático...</td>\n    </tr>\n    <tr>\n      <th>2</th>\n      <td>Mazda 3</td>\n      <td>2013</td>\n      <td>91260</td>\n      <td>Gasolina</td>\n      <td>6500</td>\n      <td>Precio negociable: si Color : Rojo Motor 2.0 S...</td>\n    </tr>\n    <tr>\n      <th>3</th>\n      <td>Toyota Corolla</td>\n      <td>2009</td>\n      <td>195504</td>\n      <td>Híbrido</td>\n      <td>17000</td>\n      <td>Garantía: Como es visto no hay garantía Precio...</td>\n    </tr>\n    <tr>\n      <th>4</th>\n      <td>Toyota iA</td>\n      <td>2018</td>\n      <td>66</td>\n      <td>Gasolina</td>\n      <td>11000</td>\n      <td>Precio negociable: si Color : Azul Se vende to...</td>\n    </tr>\n    <tr>\n      <th>5</th>\n      <td>Nissan Versa</td>\n      <td>2020</td>\n      <td>28235</td>\n      <td>Gasolina</td>\n      <td>8200</td>\n      <td>Precio negociable: si Bonito Nissan Versa 2020...</td>\n    </tr>\n    <tr>\n      <th>6</th>\n      <td>Kia Rio</td>\n      <td>2016</td>\n      <td>97911</td>\n      <td>Gasolina</td>\n      <td>7500</td>\n      <td>Financiamiento: no Precio negociable: si Color...</td>\n    </tr>\n    <tr>\n      <th>7</th>\n      <td>Volkswagen Jetta</td>\n      <td>2014</td>\n      <td>131400</td>\n      <td>Gasolina</td>\n      <td>7450</td>\n      <td>Garantía: Como es visto no hay garantía Financ...</td>\n    </tr>\n    <tr>\n      <th>8</th>\n      <td>Mitsubishi Lancer</td>\n      <td>2015</td>\n      <td>60000</td>\n      <td>Gasolina</td>\n      <td>8500</td>\n      <td>Precio negociable: si Color : Negro Se vende M...</td>\n    </tr>\n    <tr>\n      <th>9</th>\n      <td>Nissan Sentra</td>\n      <td>2013</td>\n      <td>140000</td>\n      <td>Gasolina</td>\n      <td>6200</td>\n      <td>Precio negociable: no DESCRIPCIÓN CALIFICACION...</td>\n    </tr>\n    <tr>\n      <th>10</th>\n      <td>Hyundai Elantra</td>\n      <td>2015</td>\n      <td>118000</td>\n      <td>Gasolina</td>\n      <td>8500</td>\n      <td>DESCRIPCIÓN CALIFICACIONES SEGURIDAD Hyundai E...</td>\n    </tr>\n    <tr>\n      <th>11</th>\n      <td>Mitsubishi Mirage G4</td>\n      <td>2019</td>\n      <td>28000</td>\n      <td>Gasolina</td>\n      <td>8800</td>\n      <td>Color : Negro SEDAN FULL , MANDOS AL TIMON , T...</td>\n    </tr>\n    <tr>\n      <th>12</th>\n      <td>Nissan Sentra</td>\n      <td>2014</td>\n      <td>73233</td>\n      <td>Gasolina</td>\n      <td>7300</td>\n      <td>Financiamiento: no DESCRIPCIÓN CALIFICACIONES ...</td>\n    </tr>\n    <tr>\n      <th>13</th>\n      <td>Mitsubishi Lancer</td>\n      <td>2009</td>\n      <td>250000</td>\n      <td>Gasolina</td>\n      <td>5900</td>\n      <td>Color : Negro MItsubishi Lancer 2009, motor 2....</td>\n    </tr>\n    <tr>\n      <th>14</th>\n      <td>Kia Rio</td>\n      <td>2016</td>\n      <td>64000</td>\n      <td>Gasolina</td>\n      <td>8200</td>\n      <td>Precio negociable: si Color : Blanco DESCRIPCI...</td>\n    </tr>\n    <tr>\n      <th>15</th>\n      <td>Ford Focus</td>\n      <td>2008</td>\n      <td>141</td>\n      <td>Gasolina</td>\n      <td>3500</td>\n      <td>Precio negociable: si Color : Negro DESCRIPCIÓ...</td>\n    </tr>\n    <tr>\n      <th>16</th>\n      <td>Honda Civic</td>\n      <td>2014</td>\n      <td>106000</td>\n      <td>Gasolina</td>\n      <td>8300</td>\n      <td>Color : Gris DESCRIPCIÓN CALIFICACIONES SEGURIDAD</td>\n    </tr>\n    <tr>\n      <th>17</th>\n      <td>Hyundai Accent</td>\n      <td>2014</td>\n      <td>7600</td>\n      <td>Gasolina</td>\n      <td>7600</td>\n      <td>Precio negociable: si Color : Plateado DESCRIP...</td>\n    </tr>\n    <tr>\n      <th>18</th>\n      <td>Chevrolet Spark</td>\n      <td>2020</td>\n      <td>83903</td>\n      <td>Gasolina</td>\n      <td>7350</td>\n      <td>Garantía: Como es visto no hay garantía Financ...</td>\n    </tr>\n    <tr>\n      <th>19</th>\n      <td>Nissan Almera</td>\n      <td>2011</td>\n      <td>92585</td>\n      <td>Gasolina</td>\n      <td>6500</td>\n      <td>Precio negociable: si Color : Gris Nissan Alme...</td>\n    </tr>\n    <tr>\n      <th>20</th>\n      <td>BMW 328</td>\n      <td>2007</td>\n      <td>143600</td>\n      <td>Gasolina</td>\n      <td>7000</td>\n      <td>Precio negociable: si Color : GRIS Sunroof Pin...</td>\n    </tr>\n    <tr>\n      <th>21</th>\n      <td>Mitsubishi Galant</td>\n      <td>2009</td>\n      <td>100000</td>\n      <td>Gasolina</td>\n      <td>4200</td>\n      <td>Precio negociable: si Color : Blanco Mitsubish...</td>\n    </tr>\n    <tr>\n      <th>22</th>\n      <td>Toyota Corolla</td>\n      <td>2016</td>\n      <td>183465</td>\n      <td>Gasolina</td>\n      <td>9900</td>\n      <td>Garantía: Como es visto no hay garantía Financ...</td>\n    </tr>\n    <tr>\n      <th>23</th>\n      <td>Volkswagen Jetta</td>\n      <td>2014</td>\n      <td>131000</td>\n      <td>Gasolina</td>\n      <td>7850</td>\n      <td>Financiamiento: no Precio negociable: si Color...</td>\n    </tr>\n    <tr>\n      <th>24</th>\n      <td>BMW 328</td>\n      <td>2011</td>\n      <td>120000</td>\n      <td>Gasolina</td>\n      <td>9500</td>\n      <td>BMW 328i, rines especiales, asientos de cuero,...</td>\n    </tr>\n    <tr>\n      <th>25</th>\n      <td>Nissan Sentra</td>\n      <td>2010</td>\n      <td>75362</td>\n      <td>Gasolina</td>\n      <td>4900</td>\n      <td>Precio negociable: si DESCRIPCIÓN CALIFICACION...</td>\n    </tr>\n    <tr>\n      <th>26</th>\n      <td>Mercedes Benz 200</td>\n      <td>1988</td>\n      <td>195000</td>\n      <td>Gasolina</td>\n      <td>4000</td>\n      <td>Garantía: Como es visto no hay garantía Precio...</td>\n    </tr>\n    <tr>\n      <th>27</th>\n      <td>Daihatsu Rocky</td>\n      <td>1992</td>\n      <td>150000</td>\n      <td>Diesel</td>\n      <td>5000</td>\n      <td>Color : Rojo y Negro Señor Guzmán contacto</td>\n    </tr>\n    <tr>\n      <th>28</th>\n      <td>Mazda 3</td>\n      <td>2011</td>\n      <td>133000</td>\n      <td>Gasolina</td>\n      <td>5800</td>\n      <td>Precio negociable: si Vendo mazda 3 año 2011 M...</td>\n    </tr>\n    <tr>\n      <th>29</th>\n      <td>Honda Civic</td>\n      <td>2019</td>\n      <td>45000</td>\n      <td>Gasolina</td>\n      <td>15000</td>\n      <td>Financiamiento: no Precio negociable: si Color...</td>\n    </tr>\n    <tr>\n      <th>30</th>\n      <td>Mercedes Benz 230</td>\n      <td>2007</td>\n      <td>148000</td>\n      <td>Gasolina</td>\n      <td>8500</td>\n      <td>Color : Plata Iridio Metalizado De agencia, pa...</td>\n    </tr>\n    <tr>\n      <th>31</th>\n      <td>Mitsubishi Mirage</td>\n      <td>2000</td>\n      <td>262634</td>\n      <td>Gasolina</td>\n      <td>3300</td>\n      <td>Garantía: Como es visto no hay garantía Precio...</td>\n    </tr>\n    <tr>\n      <th>32</th>\n      <td>Ford Focus</td>\n      <td>2007</td>\n      <td>200000</td>\n      <td>Gasolina</td>\n      <td>3600</td>\n      <td>Garantía: Como es visto no hay garantía Financ...</td>\n    </tr>\n    <tr>\n      <th>33</th>\n      <td>Dodge DART</td>\n      <td>2013</td>\n      <td>88000</td>\n      <td>Gasolina</td>\n      <td>6500</td>\n      <td>Color : Rojo. Interesados Illamarme  . Version...</td>\n    </tr>\n    <tr>\n      <th>34</th>\n      <td>Nissan Juke</td>\n      <td>2016</td>\n      <td>73</td>\n      <td>Gasolina</td>\n      <td>10800</td>\n      <td>Precio negociable: si Nissan Juke 2016 en exce...</td>\n    </tr>\n    <tr>\n      <th>35</th>\n      <td>Kia Rio</td>\n      <td>2019</td>\n      <td>46992</td>\n      <td>Gasolina</td>\n      <td>10500</td>\n      <td>Financiamiento: no Precio negociable: si Full ...</td>\n    </tr>\n    <tr>\n      <th>36</th>\n      <td>Nissan Sentra</td>\n      <td>2013</td>\n      <td>14000</td>\n      <td>Gasolina</td>\n      <td>6200</td>\n      <td>Color : Negro DESCRIPCIÓN CALIFICACIONES SEGUR...</td>\n    </tr>\n    <tr>\n      <th>37</th>\n      <td>Nissan Versa</td>\n      <td>2017</td>\n      <td>78000</td>\n      <td>Gasolina</td>\n      <td>7600</td>\n      <td>Color : Azul DESCRIPCIÓN CALIFICACIONES SEGURI...</td>\n    </tr>\n    <tr>\n      <th>38</th>\n      <td>Ford Fiesta</td>\n      <td>2019</td>\n      <td>39000</td>\n      <td>Gasolina</td>\n      <td>8150</td>\n      <td>Garantía: Como es visto no hay garantía FORD F...</td>\n    </tr>\n    <tr>\n      <th>39</th>\n      <td>Kia Forte</td>\n      <td>2017</td>\n      <td>76000</td>\n      <td>Gasolina</td>\n      <td>8100</td>\n      <td>DESCRIPCIÓN CALIFICACIONES SEGURIDAD FIJOS</td>\n    </tr>\n    <tr>\n      <th>40</th>\n      <td>Hyundai Sonata</td>\n      <td>2005</td>\n      <td>141000</td>\n      <td>Gasolina</td>\n      <td>2900</td>\n      <td>Financiamiento: no Precio negociable: si Color...</td>\n    </tr>\n  </tbody>\n</table>\n</div>"
     },
     "execution_count": 43,
     "metadata": {},
     "output_type": "execute_result"
    }
   ],
   "source": [
    "df_temp"
   ],
   "metadata": {
    "collapsed": false
   }
  },
  {
   "cell_type": "markdown",
   "source": [
    "Generate .csv file for persistence from cleaned dataframe"
   ],
   "metadata": {
    "collapsed": false
   }
  },
  {
   "cell_type": "code",
   "execution_count": 44,
   "outputs": [],
   "source": [
    "persistence(df_temp)"
   ],
   "metadata": {
    "collapsed": false
   }
  }
 ],
 "metadata": {
  "kernelspec": {
   "display_name": "Python 3",
   "language": "python",
   "name": "python3"
  },
  "language_info": {
   "codemirror_mode": {
    "name": "ipython",
    "version": 2
   },
   "file_extension": ".py",
   "mimetype": "text/x-python",
   "name": "python",
   "nbconvert_exporter": "python",
   "pygments_lexer": "ipython2",
   "version": "2.7.6"
  }
 },
 "nbformat": 4,
 "nbformat_minor": 0
}
