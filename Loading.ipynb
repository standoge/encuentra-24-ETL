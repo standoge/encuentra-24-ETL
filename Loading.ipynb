{
 "cells": [
  {
   "cell_type": "markdown",
   "source": [
    "## Dependencies"
   ],
   "metadata": {
    "collapsed": false
   }
  },
  {
   "cell_type": "markdown",
   "source": [
    "---"
   ],
   "metadata": {
    "collapsed": false
   }
  },
  {
   "cell_type": "code",
   "execution_count": 39,
   "metadata": {
    "collapsed": true,
    "ExecuteTime": {
     "end_time": "2023-05-04T19:47:54.038693800Z",
     "start_time": "2023-05-04T19:47:53.957693700Z"
    }
   },
   "outputs": [],
   "source": [
    "import pandas as pd"
   ]
  },
  {
   "cell_type": "markdown",
   "source": [
    "## Pre-loading"
   ],
   "metadata": {
    "collapsed": false
   }
  },
  {
   "cell_type": "markdown",
   "source": [
    "---"
   ],
   "metadata": {
    "collapsed": false
   }
  },
  {
   "cell_type": "markdown",
   "source": [
    "### Functions:"
   ],
   "metadata": {
    "collapsed": false
   }
  },
  {
   "cell_type": "code",
   "execution_count": 40,
   "outputs": [],
   "source": [
    "def add_uid(func):\n",
    "    \"\"\"\n",
    "    Add uid to the dimension created.\n",
    "    :param func: function that creates dimensions.\n",
    "    :return: the dimension created by the function + an uid.\n",
    "    \"\"\"\n",
    "    def wrapper(**kargs) -> pd.DataFrame:\n",
    "        dim = func(**kargs)\n",
    "        dim[f\"{kargs['column']}_id\"] = dim.index + 1\n",
    "        return dim\n",
    "    return wrapper"
   ],
   "metadata": {
    "collapsed": false,
    "ExecuteTime": {
     "end_time": "2023-05-04T19:47:54.038693800Z",
     "start_time": "2023-05-04T19:47:53.983692300Z"
    }
   }
  },
  {
   "cell_type": "code",
   "execution_count": 41,
   "outputs": [],
   "source": [
    "def create_dim(column:str, dataframe: pd.DataFrame) -> pd.DataFrame:\n",
    "    \"\"\"\n",
    "    Extract the feature and parse it to a dataframe.\n",
    "    :param column: feature to extract.\n",
    "    :param dataframe: object where feature will be extracted.\n",
    "    :return: dataframe with the feature and its new column.\n",
    "    \"\"\"\n",
    "    dim = dataframe[f\"{column}\"].to_frame()\n",
    "    return dim"
   ],
   "metadata": {
    "collapsed": false,
    "ExecuteTime": {
     "end_time": "2023-05-04T19:47:54.039692500Z",
     "start_time": "2023-05-04T19:47:53.997694900Z"
    }
   }
  },
  {
   "cell_type": "markdown",
   "source": [
    "### Dimensions & facts:"
   ],
   "metadata": {
    "collapsed": false
   }
  },
  {
   "cell_type": "markdown",
   "source": [
    "First of all is required to split the dataframes in `Dimensions`, where they can be related with the `Facts` by an unique id."
   ],
   "metadata": {
    "collapsed": false
   }
  },
  {
   "cell_type": "code",
   "execution_count": 42,
   "outputs": [],
   "source": [
    "df_temp = pd.read_csv(\"persistence/sedan-cards_march-april.csv\")"
   ],
   "metadata": {
    "collapsed": false,
    "ExecuteTime": {
     "end_time": "2023-05-04T19:47:54.049697600Z",
     "start_time": "2023-05-04T19:47:54.012691800Z"
    }
   }
  },
  {
   "cell_type": "code",
   "execution_count": 48,
   "outputs": [],
   "source": [
    "columns = df_temp.columns.to_list()\n",
    "dimensions_keys = [\"model\", \"description\", \"engine\"]\n",
    "facts_keys = [\"year\", \"kilometers\", \"price\"]"
   ],
   "metadata": {
    "collapsed": false,
    "ExecuteTime": {
     "end_time": "2023-05-04T19:48:46.320180300Z",
     "start_time": "2023-05-04T19:48:46.298182100Z"
    }
   }
  },
  {
   "cell_type": "code",
   "execution_count": 49,
   "outputs": [],
   "source": [
    "create_dim_uid = add_uid(create_dim)\n",
    "dimensions_df = []\n",
    "facts_df = []"
   ],
   "metadata": {
    "collapsed": false,
    "ExecuteTime": {
     "end_time": "2023-05-04T19:48:47.233179200Z",
     "start_time": "2023-05-04T19:48:47.200180900Z"
    }
   }
  },
  {
   "cell_type": "code",
   "execution_count": 50,
   "outputs": [],
   "source": [
    "for column in columns:\n",
    "    if column in dimensions_keys:\n",
    "        dim = create_dim_uid(column=column, dataframe=df_temp)\n",
    "        dimensions_df.append(dim)\n",
    "    elif column in facts_keys:\n",
    "        fact = create_dim_uid(column=column, dataframe=df_temp)\n",
    "        facts_df.append(fact)"
   ],
   "metadata": {
    "collapsed": false,
    "ExecuteTime": {
     "end_time": "2023-05-04T19:48:47.975288700Z",
     "start_time": "2023-05-04T19:48:47.942297200Z"
    }
   }
  },
  {
   "cell_type": "code",
   "execution_count": 57,
   "outputs": [],
   "source": [
    "dim_model = dimensions_df[0]\n",
    "dim_engine = dimensions_df[1]\n",
    "dim_description = dimensions_df[2]\n",
    "\n",
    "dim_facts = pd.concat(facts_df, axis=1)\n",
    "dim_facts = dim_facts.rename(columns={\"year_id\":\"model_id\",\"kilometers_id\":\"engine_id\",\"price_id\":\"description_id\"})"
   ],
   "metadata": {
    "collapsed": false,
    "ExecuteTime": {
     "end_time": "2023-05-04T20:15:32.073851900Z",
     "start_time": "2023-05-04T20:15:32.057852300Z"
    }
   }
  }
 ],
 "metadata": {
  "kernelspec": {
   "display_name": "Python 3",
   "language": "python",
   "name": "python3"
  },
  "language_info": {
   "codemirror_mode": {
    "name": "ipython",
    "version": 2
   },
   "file_extension": ".py",
   "mimetype": "text/x-python",
   "name": "python",
   "nbconvert_exporter": "python",
   "pygments_lexer": "ipython2",
   "version": "2.7.6"
  }
 },
 "nbformat": 4,
 "nbformat_minor": 0
}
