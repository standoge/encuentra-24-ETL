{
 "cells": [
  {
   "cell_type": "markdown",
   "source": [
    "## Dependencies"
   ],
   "metadata": {
    "collapsed": false
   }
  },
  {
   "cell_type": "markdown",
   "source": [
    "---"
   ],
   "metadata": {
    "collapsed": false
   }
  },
  {
   "cell_type": "code",
   "execution_count": 63,
   "metadata": {
    "collapsed": true,
    "ExecuteTime": {
     "end_time": "2023-05-04T20:50:07.818060400Z",
     "start_time": "2023-05-04T20:50:07.795063700Z"
    }
   },
   "outputs": [],
   "source": [
    "import pandas as pd"
   ]
  },
  {
   "cell_type": "markdown",
   "source": [
    "## Functions"
   ],
   "metadata": {
    "collapsed": false
   }
  },
  {
   "cell_type": "code",
   "execution_count": 40,
   "outputs": [],
   "source": [
    "def add_uid(func):\n",
    "    \"\"\"\n",
    "    Add uid to the dimension created.\n",
    "    :param func: function that creates dimensions.\n",
    "    :return: the dimension created by the function + an uid.\n",
    "    \"\"\"\n",
    "    def wrapper(**kargs) -> pd.DataFrame:\n",
    "        dim = func(**kargs)\n",
    "        dim[f\"{kargs['column']}_id\"] = dim.index + 1\n",
    "        return dim\n",
    "    return wrapper"
   ],
   "metadata": {
    "collapsed": false,
    "ExecuteTime": {
     "end_time": "2023-05-04T19:47:54.038693800Z",
     "start_time": "2023-05-04T19:47:53.983692300Z"
    }
   }
  },
  {
   "cell_type": "code",
   "execution_count": 41,
   "outputs": [],
   "source": [
    "def create_dim(column:str, dataframe: pd.DataFrame) -> pd.DataFrame:\n",
    "    \"\"\"\n",
    "    Extract the feature and parse it to a dataframe.\n",
    "    :param column: feature to extract.\n",
    "    :param dataframe: object where feature will be extracted.\n",
    "    :return: dataframe with the feature and its new column.\n",
    "    \"\"\"\n",
    "    dim = dataframe[f\"{column}\"].to_frame()\n",
    "    return dim"
   ],
   "metadata": {
    "collapsed": false,
    "ExecuteTime": {
     "end_time": "2023-05-04T19:47:54.039692500Z",
     "start_time": "2023-05-04T19:47:53.997694900Z"
    }
   }
  },
  {
   "cell_type": "code",
   "execution_count": 83,
   "outputs": [],
   "source": [
    "def entities_persistence(dataframe:pd.DataFrame) -> None:\n",
    "    \"\"\"\n",
    "    .csv dataframes to be used as entities in DWH.\n",
    "    :param dataframe: entity to be exported.\n",
    "    \"\"\"\n",
    "    file_name = dataframe.columns.to_list()[0]\n",
    "    type_df = str(dataframe.dtypes[0])\n",
    "\n",
    "    if type_df == \"object\":\n",
    "        dataframe.to_csv(f\"persistence/dimensions/dim_{file_name}.csv\", index=False)\n",
    "    elif type_df == \"int64\":\n",
    "        dataframe.to_csv(f\"persistence/facts/fact_{file_name}.csv\", index=False)\n"
   ],
   "metadata": {
    "collapsed": false,
    "ExecuteTime": {
     "end_time": "2023-05-04T21:05:39.494308300Z",
     "start_time": "2023-05-04T21:05:39.462316500Z"
    }
   }
  },
  {
   "cell_type": "markdown",
   "source": [
    "## Dimensions & facts"
   ],
   "metadata": {
    "collapsed": false
   }
  },
  {
   "cell_type": "markdown",
   "source": [
    "First of all is required to split the dataframes in `Dimensions`, where they can be related with the `Facts` by an unique id."
   ],
   "metadata": {
    "collapsed": false
   }
  },
  {
   "cell_type": "code",
   "execution_count": null,
   "outputs": [],
   "source": [
    "create_dim_uid = add_uid(create_dim)\n",
    "dimensions_df = []\n",
    "facts_df = []\n",
    "dimensions_keys = [\"model\", \"description\", \"engine\"]\n",
    "facts_keys = [\"year\", \"kilometers\", \"price\"]"
   ],
   "metadata": {
    "collapsed": false
   }
  },
  {
   "cell_type": "code",
   "execution_count": 42,
   "outputs": [],
   "source": [
    "df_temp = pd.read_csv(\"persistence/sedan-cards_march-april.csv\")\n",
    "columns = df_temp.columns.to_list()"
   ],
   "metadata": {
    "collapsed": false,
    "ExecuteTime": {
     "end_time": "2023-05-04T19:47:54.049697600Z",
     "start_time": "2023-05-04T19:47:54.012691800Z"
    }
   }
  },
  {
   "cell_type": "markdown",
   "source": [
    "Create dataframes and store them in a list regarding if the dataframe is a `Dimension` or is a `Fact`. The rule defining whether it pertains to one or the other are keys defined in `dimensions_keys` and `facts_keys`."
   ],
   "metadata": {
    "collapsed": false
   }
  },
  {
   "cell_type": "code",
   "execution_count": 50,
   "outputs": [],
   "source": [
    "for column in columns:\n",
    "    if column in dimensions_keys:\n",
    "        dim = create_dim_uid(column=column, dataframe=df_temp)\n",
    "        dimensions_df.append(dim)\n",
    "    elif column in facts_keys:\n",
    "        fact = create_dim_uid(column=column, dataframe=df_temp)\n",
    "        facts_df.append(fact)"
   ],
   "metadata": {
    "collapsed": false,
    "ExecuteTime": {
     "end_time": "2023-05-04T19:48:47.975288700Z",
     "start_time": "2023-05-04T19:48:47.942297200Z"
    }
   }
  },
  {
   "cell_type": "markdown",
   "source": [
    "Start model elements:"
   ],
   "metadata": {
    "collapsed": false
   }
  },
  {
   "cell_type": "code",
   "execution_count": 58,
   "outputs": [],
   "source": [
    "dim_model = dimensions_df[0]\n",
    "dim_engine = dimensions_df[1]\n",
    "dim_description = dimensions_df[2]\n",
    "\n",
    "facts = pd.concat(facts_df, axis=1)\n",
    "facts = facts.rename(columns={\"year_id\":\"model_id\",\"kilometers_id\":\"engine_id\",\"price_id\":\"description_id\"})"
   ],
   "metadata": {
    "collapsed": false,
    "ExecuteTime": {
     "end_time": "2023-05-04T20:33:42.830041500Z",
     "start_time": "2023-05-04T20:33:42.808044100Z"
    }
   }
  },
  {
   "cell_type": "markdown",
   "source": [
    "## Export dimensions & facts"
   ],
   "metadata": {
    "collapsed": false
   }
  },
  {
   "cell_type": "code",
   "execution_count": 85,
   "outputs": [],
   "source": [
    "for dimension in dimensions_df:\n",
    "    entities_persistence(dimension)"
   ],
   "metadata": {
    "collapsed": false,
    "ExecuteTime": {
     "end_time": "2023-05-04T21:07:14.888775700Z",
     "start_time": "2023-05-04T21:07:14.816771600Z"
    }
   }
  },
  {
   "cell_type": "code",
   "execution_count": 86,
   "outputs": [],
   "source": [
    "entities_persistence(facts)"
   ],
   "metadata": {
    "collapsed": false,
    "ExecuteTime": {
     "end_time": "2023-05-04T21:07:17.937843800Z",
     "start_time": "2023-05-04T21:07:17.901846400Z"
    }
   }
  }
 ],
 "metadata": {
  "kernelspec": {
   "display_name": "Python 3",
   "language": "python",
   "name": "python3"
  },
  "language_info": {
   "codemirror_mode": {
    "name": "ipython",
    "version": 2
   },
   "file_extension": ".py",
   "mimetype": "text/x-python",
   "name": "python",
   "nbconvert_exporter": "python",
   "pygments_lexer": "ipython2",
   "version": "2.7.6"
  }
 },
 "nbformat": 4,
 "nbformat_minor": 0
}
