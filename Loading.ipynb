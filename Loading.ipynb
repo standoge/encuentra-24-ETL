{
 "cells": [
  {
   "cell_type": "markdown",
   "source": [
    "## Dependencies"
   ],
   "metadata": {
    "collapsed": false
   }
  },
  {
   "cell_type": "markdown",
   "source": [
    "---"
   ],
   "metadata": {
    "collapsed": false
   }
  },
  {
   "cell_type": "markdown",
   "source": [
    "## Pre-loading"
   ],
   "metadata": {
    "collapsed": false
   }
  },
  {
   "cell_type": "markdown",
   "source": [
    "---"
   ],
   "metadata": {
    "collapsed": false
   }
  },
  {
   "cell_type": "code",
   "execution_count": 4,
   "metadata": {
    "collapsed": true,
    "ExecuteTime": {
     "start_time": "2023-05-02T22:41:44.935201Z",
     "end_time": "2023-05-02T22:41:44.957199Z"
    }
   },
   "outputs": [],
   "source": [
    "import pandas as pd"
   ]
  },
  {
   "cell_type": "markdown",
   "source": [
    "### Functions:"
   ],
   "metadata": {
    "collapsed": false
   }
  },
  {
   "cell_type": "code",
   "execution_count": 12,
   "outputs": [],
   "source": [
    "def add_uid(func):\n",
    "    \"\"\"\n",
    "    Add uid to the dimension created.\n",
    "    :param func: function that creates dimensions.\n",
    "    :return: the dimension created by the function + an uid.\n",
    "    \"\"\"\n",
    "    def wrapper(**kargs) -> pd.DataFrame:\n",
    "        dim = func(**kargs)\n",
    "        dim[f\"{kargs['column']}_id\"] = dim.index + 1\n",
    "        return dim\n",
    "    return wrapper"
   ],
   "metadata": {
    "collapsed": false,
    "ExecuteTime": {
     "start_time": "2023-05-02T23:09:03.605057Z",
     "end_time": "2023-05-02T23:09:03.632087Z"
    }
   }
  },
  {
   "cell_type": "code",
   "execution_count": 13,
   "outputs": [],
   "source": [
    "@add_uid\n",
    "def create_dim(column:str, dataframe: pd.DataFrame) -> pd.DataFrame:\n",
    "    \"\"\"\n",
    "    Extract the feature and parse it to a dataframe.\n",
    "    :param column: feature to extract.\n",
    "    :param dataframe: object where feature will be extracted.\n",
    "    :return: dataframe with the feature and its new column.\n",
    "    \"\"\"\n",
    "    dim = dataframe[f\"{column}\"].to_frame()\n",
    "    return dim"
   ],
   "metadata": {
    "collapsed": false,
    "ExecuteTime": {
     "start_time": "2023-05-02T23:09:10.138478Z",
     "end_time": "2023-05-02T23:09:10.158474Z"
    }
   }
  },
  {
   "cell_type": "markdown",
   "source": [
    "### Dimensions & facts:"
   ],
   "metadata": {
    "collapsed": false
   }
  },
  {
   "cell_type": "markdown",
   "source": [
    "First of all is required to split the dataframes in `Dimensions`, where they can be related with the `Facts` by an unique id."
   ],
   "metadata": {
    "collapsed": false
   }
  },
  {
   "cell_type": "code",
   "execution_count": 14,
   "outputs": [],
   "source": [
    "df_temp = pd.read_csv(\"persistence/sedan-cards_march-april.csv\")"
   ],
   "metadata": {
    "collapsed": false,
    "ExecuteTime": {
     "start_time": "2023-05-02T23:10:20.351958Z",
     "end_time": "2023-05-02T23:10:20.370955Z"
    }
   }
  },
  {
   "cell_type": "code",
   "execution_count": 17,
   "outputs": [
    {
     "data": {
      "text/plain": "                    model  year  kilometers    engine  price  \\\n152  Mitsubishi Mirage G4  2021        4000  Gasolina  10000   \n117            Ford Focus  2008         141  Gasolina   3500   \n29        Chevrolet Spark  2016       75005  Gasolina   7500   \n149  Mitsubishi Mirage G4  2021        3000  Gasolina  12000   \n72      Mercedes Benz 200  1988      195000  Gasolina   4000   \n\n                                           description  \n152  Color : Negro Bonito Mitsubishi Mirage G4 2021...  \n117  Color : Negro DESCRIPCIÓN ARTÍCULOS CALIFICACI...  \n29   Garantía: Como es visto no hay garantía\\nFinan...  \n149  Precio negociable: no Color : Gris Vendo Mitsu...  \n72   Garantía: Como es visto no hay garantía Precio...  ",
      "text/html": "<div>\n<style scoped>\n    .dataframe tbody tr th:only-of-type {\n        vertical-align: middle;\n    }\n\n    .dataframe tbody tr th {\n        vertical-align: top;\n    }\n\n    .dataframe thead th {\n        text-align: right;\n    }\n</style>\n<table border=\"1\" class=\"dataframe\">\n  <thead>\n    <tr style=\"text-align: right;\">\n      <th></th>\n      <th>model</th>\n      <th>year</th>\n      <th>kilometers</th>\n      <th>engine</th>\n      <th>price</th>\n      <th>description</th>\n    </tr>\n  </thead>\n  <tbody>\n    <tr>\n      <th>152</th>\n      <td>Mitsubishi Mirage G4</td>\n      <td>2021</td>\n      <td>4000</td>\n      <td>Gasolina</td>\n      <td>10000</td>\n      <td>Color : Negro Bonito Mitsubishi Mirage G4 2021...</td>\n    </tr>\n    <tr>\n      <th>117</th>\n      <td>Ford Focus</td>\n      <td>2008</td>\n      <td>141</td>\n      <td>Gasolina</td>\n      <td>3500</td>\n      <td>Color : Negro DESCRIPCIÓN ARTÍCULOS CALIFICACI...</td>\n    </tr>\n    <tr>\n      <th>29</th>\n      <td>Chevrolet Spark</td>\n      <td>2016</td>\n      <td>75005</td>\n      <td>Gasolina</td>\n      <td>7500</td>\n      <td>Garantía: Como es visto no hay garantía\\nFinan...</td>\n    </tr>\n    <tr>\n      <th>149</th>\n      <td>Mitsubishi Mirage G4</td>\n      <td>2021</td>\n      <td>3000</td>\n      <td>Gasolina</td>\n      <td>12000</td>\n      <td>Precio negociable: no Color : Gris Vendo Mitsu...</td>\n    </tr>\n    <tr>\n      <th>72</th>\n      <td>Mercedes Benz 200</td>\n      <td>1988</td>\n      <td>195000</td>\n      <td>Gasolina</td>\n      <td>4000</td>\n      <td>Garantía: Como es visto no hay garantía Precio...</td>\n    </tr>\n  </tbody>\n</table>\n</div>"
     },
     "execution_count": 17,
     "metadata": {},
     "output_type": "execute_result"
    }
   ],
   "source": [
    "df_temp.sample(5)"
   ],
   "metadata": {
    "collapsed": false,
    "ExecuteTime": {
     "start_time": "2023-05-02T23:12:03.729227Z",
     "end_time": "2023-05-02T23:12:03.749224Z"
    }
   }
  },
  {
   "cell_type": "code",
   "execution_count": 56,
   "outputs": [],
   "source": [
    "columns = df_temp.columns.to_list()\n",
    "dimensions = [\"model\", \"description\",\"engine\"]\n",
    "facts = [\"year\",\"kilometers\",\"price\"]"
   ],
   "metadata": {
    "collapsed": false,
    "ExecuteTime": {
     "start_time": "2023-05-02T23:32:10.632064Z",
     "end_time": "2023-05-02T23:32:10.679067Z"
    }
   }
  },
  {
   "cell_type": "code",
   "execution_count": 57,
   "outputs": [],
   "source": [
    "create_dim_uid = create_dim"
   ],
   "metadata": {
    "collapsed": false,
    "ExecuteTime": {
     "start_time": "2023-05-02T23:32:12.781122Z",
     "end_time": "2023-05-02T23:32:12.810148Z"
    }
   }
  },
  {
   "cell_type": "code",
   "execution_count": 58,
   "outputs": [
    {
     "name": "stdout",
     "output_type": "stream",
     "text": [
      "d\n",
      "f\n",
      "f\n",
      "d\n",
      "f\n",
      "d\n"
     ]
    }
   ],
   "source": [
    "for column in columns:\n",
    "    if column in dimensions and columns in facts:\n",
    "        print(\"a\")\n",
    "    elif column in dimensions:\n",
    "        print(\"d\")\n",
    "    elif column in facts:\n",
    "        print(\"f\")\n",
    "    else:\n",
    "        print(\"no one\")"
   ],
   "metadata": {
    "collapsed": false,
    "ExecuteTime": {
     "start_time": "2023-05-02T23:32:14.921982Z",
     "end_time": "2023-05-02T23:32:14.944980Z"
    }
   }
  },
  {
   "cell_type": "code",
   "execution_count": 9,
   "outputs": [
    {
     "name": "stdout",
     "output_type": "stream",
     "text": [
      "3 3\n"
     ]
    }
   ],
   "source": [
    "print(len(dimensions), len(facts))"
   ],
   "metadata": {
    "collapsed": false,
    "ExecuteTime": {
     "start_time": "2023-05-02T22:41:45.064229Z",
     "end_time": "2023-05-02T22:41:45.098225Z"
    }
   }
  }
 ],
 "metadata": {
  "kernelspec": {
   "display_name": "Python 3",
   "language": "python",
   "name": "python3"
  },
  "language_info": {
   "codemirror_mode": {
    "name": "ipython",
    "version": 2
   },
   "file_extension": ".py",
   "mimetype": "text/x-python",
   "name": "python",
   "nbconvert_exporter": "python",
   "pygments_lexer": "ipython2",
   "version": "2.7.6"
  }
 },
 "nbformat": 4,
 "nbformat_minor": 0
}
