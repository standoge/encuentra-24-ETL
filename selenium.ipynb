{
 "cells": [
  {
   "cell_type": "markdown",
   "source": [
    "## Init 🍄"
   ],
   "metadata": {
    "collapsed": false
   }
  },
  {
   "cell_type": "markdown",
   "source": [
    "---"
   ],
   "metadata": {
    "collapsed": false
   }
  },
  {
   "cell_type": "markdown",
   "source": [
    "### Dependencies:"
   ],
   "metadata": {
    "collapsed": false
   }
  },
  {
   "cell_type": "code",
   "execution_count": 36,
   "outputs": [],
   "source": [
    "import yaml\n",
    "import re\n",
    "from datetime import datetime\n",
    "import pandas as pd"
   ],
   "metadata": {
    "collapsed": false
   }
  },
  {
   "cell_type": "code",
   "execution_count": 37,
   "outputs": [],
   "source": [
    "from selenium import webdriver\n",
    "from selenium.webdriver.common.by import By\n",
    "from selenium.webdriver.edge.service import Service\n",
    "from webdriver_manager.microsoft import EdgeChromiumDriverManager\n",
    "from selenium.webdriver.support.ui import WebDriverWait\n",
    "from selenium.webdriver.support import expected_conditions as EC"
   ],
   "metadata": {
    "collapsed": false
   }
  },
  {
   "cell_type": "code",
   "execution_count": 38,
   "outputs": [],
   "source": [
    "from selenium.common.exceptions import NoSuchElementException\n",
    "from selenium.common.exceptions import TimeoutException"
   ],
   "metadata": {
    "collapsed": false
   }
  },
  {
   "cell_type": "code",
   "execution_count": 39,
   "outputs": [],
   "source": [
    "# edge:object = webdriver.Edge(executable_path=\"./utils/msedgedriver.exe\")\n",
    "edge = webdriver.Edge(service=Service(EdgeChromiumDriverManager().install()))\n",
    "edge.maximize_window()"
   ],
   "metadata": {
    "collapsed": false
   }
  },
  {
   "cell_type": "markdown",
   "source": [
    "### Functions:"
   ],
   "metadata": {
    "collapsed": false
   }
  },
  {
   "cell_type": "code",
   "execution_count": 40,
   "outputs": [],
   "source": [
    "def resources(name:str) -> dict[str:str]:\n",
    "    \"\"\"Read xpath.yml file that contains xpath's to scrape\"\"\"\n",
    "\n",
    "    with open(\"xpath.yml\", \"r\") as f:\n",
    "        content:dict[str:str] = yaml.safe_load(f)\n",
    "        return content[name]"
   ],
   "metadata": {
    "collapsed": false
   }
  },
  {
   "cell_type": "code",
   "execution_count": 41,
   "outputs": [],
   "source": [
    "def close_prompt(driver:object) -> None:\n",
    "    \"\"\"Close ad window\"\"\"\n",
    "\n",
    "    button:str = \"//a[@class='btn btn-subscription-light']\"\n",
    "    driver.find_element(by=By.XPATH, value=button).click()"
   ],
   "metadata": {
    "collapsed": false
   }
  },
  {
   "cell_type": "code",
   "execution_count": 42,
   "outputs": [],
   "source": [
    "def choose_category(category:str, driver:object) -> None:\n",
    "    \"\"\"Choose ad category\"\"\"\n",
    "\n",
    "    driver.find_element(by=By.XPATH, value=category).click()"
   ],
   "metadata": {
    "collapsed": false
   }
  },
  {
   "cell_type": "code",
   "execution_count": 43,
   "outputs": [],
   "source": [
    "def click_element(element:object, path:str) -> None:\n",
    "    \"\"\"Click element on the current document\"\"\"\n",
    "\n",
    "    button = element.find_element(by=By.XPATH, value=path)\n",
    "    button.click()"
   ],
   "metadata": {
    "collapsed": false
   }
  },
  {
   "cell_type": "code",
   "execution_count": 44,
   "outputs": [],
   "source": [
    "def extract_description(element:object, path:str) -> str:\n",
    "    \"\"\"Extract ad description on the current document\"\"\"\n",
    "\n",
    "    description:str = element.find_element(by=By.XPATH, value=path)\n",
    "    return description"
   ],
   "metadata": {
    "collapsed": false
   }
  },
  {
   "cell_type": "code",
   "execution_count": 45,
   "outputs": [],
   "source": [
    "def extract_feature(element:object, path:str) -> list[str]:\n",
    "    \"\"\"Extract some feature from list document based on xpath used.\"\"\"\n",
    "\n",
    "    feature = []\n",
    "\n",
    "    try:\n",
    "        feature:str = element.find_elements(by=By.XPATH, value=path)\n",
    "        feature = [data_point.text for data_point in feature]\n",
    "        return feature\n",
    "    except Exception:\n",
    "        feature.append(\"Web wasn't able to scrape the feature\")"
   ],
   "metadata": {
    "collapsed": false
   }
  },
  {
   "cell_type": "code",
   "execution_count": 46,
   "outputs": [],
   "source": [
    "def persistence(dataframe:pd.DataFrame) -> None:\n",
    "    \"\"\"Generate .csv file from data scraped\"\"\"\n",
    "\n",
    "    file_name = datetime.today().strftime(\"%B-%d\")\n",
    "    dataframe.to_csv(f\"persistence/{file_name}.csv\", index=False)"
   ],
   "metadata": {
    "collapsed": false
   }
  },
  {
   "cell_type": "code",
   "execution_count": 47,
   "outputs": [],
   "source": [
    "def get_len(features:list[list[str]]) -> bool:\n",
    "    \"\"\"\n",
    "    Check if all features has the same length to create new df\n",
    "    :param features: list of features extracted with scraping\n",
    "    :return: a list with all lengths where first place is the len of the first element and the mostly accepted.\n",
    "    \"\"\"\n",
    "\n",
    "    base_len = len(features[0])\n",
    "    lengths = []\n",
    "    lengths.append(base_len)\n",
    "    for feature in features:\n",
    "        if len(feature) == base_len:\n",
    "            continue\n",
    "        else:\n",
    "             lengths.append(len(feature))\n",
    "    return lengths"
   ],
   "metadata": {
    "collapsed": false
   }
  },
  {
   "cell_type": "code",
   "execution_count": 48,
   "outputs": [],
   "source": [
    "def check_len(lengths:list[int]) -> bool:\n",
    "    \"\"\"\n",
    "    Check if all elements in list has the same value.\n",
    "    :param lengths: list of lengths\n",
    "    :return: a boolean\n",
    "    \"\"\"\n",
    "    for length in lengths[1:]:\n",
    "        if length != lengths[0]:\n",
    "            return False\n",
    "        return True"
   ],
   "metadata": {
    "collapsed": false
   }
  },
  {
   "cell_type": "markdown",
   "source": [
    "## Extraction 🧲"
   ],
   "metadata": {
    "collapsed": false
   }
  },
  {
   "cell_type": "markdown",
   "source": [
    "----"
   ],
   "metadata": {
    "collapsed": false
   }
  },
  {
   "cell_type": "markdown",
   "source": [
    "### Sedan:"
   ],
   "metadata": {
    "collapsed": false
   }
  },
  {
   "cell_type": "markdown",
   "source": [
    "Variables pool."
   ],
   "metadata": {
    "collapsed": false
   }
  },
  {
   "cell_type": "code",
   "execution_count": 49,
   "outputs": [],
   "source": [
    "descriptions:list[str] = []\n",
    "prices:list[int] = []\n",
    "models:list[str] = []\n",
    "years:list[int] = []\n",
    "kilometers:list[int] = []\n",
    "engines:list[str] = []\n",
    "\n",
    "# seconds\n",
    "DELAY:int = 1"
   ],
   "metadata": {
    "collapsed": false
   }
  },
  {
   "cell_type": "code",
   "execution_count": 50,
   "outputs": [],
   "source": [
    "sedan = resources(\"cars_sedan\")"
   ],
   "metadata": {
    "collapsed": false
   }
  },
  {
   "cell_type": "markdown",
   "source": [
    "Get web & close initial prompt."
   ],
   "metadata": {
    "collapsed": false
   }
  },
  {
   "cell_type": "code",
   "execution_count": 51,
   "outputs": [],
   "source": [
    "edge.get(sedan[\"url\"])"
   ],
   "metadata": {
    "collapsed": false
   }
  },
  {
   "cell_type": "code",
   "execution_count": 52,
   "outputs": [],
   "source": [
    "close_prompt(edge)"
   ],
   "metadata": {
    "collapsed": false
   }
  },
  {
   "cell_type": "code",
   "execution_count": 53,
   "outputs": [],
   "source": [
    "elements = edge.find_elements(by=By.XPATH, value=sedan[\"ad\"])"
   ],
   "metadata": {
    "collapsed": false
   }
  },
  {
   "cell_type": "markdown",
   "source": [
    "Extract descriptions."
   ],
   "metadata": {
    "collapsed": false
   }
  },
  {
   "cell_type": "code",
   "execution_count": 54,
   "outputs": [],
   "source": [
    "elements[0].click()\n",
    "try:\n",
    "    for element in range(len(elements)):\n",
    "        dynamic_delay = WebDriverWait(edge, DELAY).until(EC.presence_of_element_located((By.XPATH, sedan[\"description\"])))\n",
    "        temp = extract_description(edge, sedan[\"description\"])\n",
    "        descriptions.append(temp.text)\n",
    "        click_element(edge, sedan[\"next\"])\n",
    "except TimeoutException as TE:\n",
    "    descriptions.append(\"Web wasn't able to scrape descriptions\")\n",
    "except NoSuchElementException as NSE:\n",
    "    click_element(edge, sedan[\"exit\"])"
   ],
   "metadata": {
    "collapsed": false
   }
  },
  {
   "cell_type": "markdown",
   "source": [
    "Extract prices & models."
   ],
   "metadata": {
    "collapsed": false
   }
  },
  {
   "cell_type": "code",
   "execution_count": 55,
   "outputs": [],
   "source": [
    "prices = extract_feature(edge, sedan[\"price\"])\n",
    "models = extract_feature(edge, sedan[\"model\"])"
   ],
   "metadata": {
    "collapsed": false
   }
  },
  {
   "cell_type": "markdown",
   "source": [
    "Extract car year, engine & kilometers."
   ],
   "metadata": {
    "collapsed": false
   }
  },
  {
   "cell_type": "code",
   "execution_count": 56,
   "outputs": [],
   "source": [
    "years = extract_feature(edge, sedan[\"year\"])\n",
    "engines = extract_feature(edge, sedan[\"engine\"])\n",
    "kilometers = extract_feature(edge, sedan[\"kilometers\"])"
   ],
   "metadata": {
    "collapsed": false
   }
  },
  {
   "cell_type": "code",
   "execution_count": 57,
   "outputs": [
    {
     "data": {
      "text/plain": "[41, 42, 42, 40]"
     },
     "execution_count": 57,
     "metadata": {},
     "output_type": "execute_result"
    }
   ],
   "source": [
    "lengths = [prices, models, years, engines, kilometers, descriptions]\n",
    "get_len(lengths)"
   ],
   "metadata": {
    "collapsed": false
   }
  },
  {
   "cell_type": "markdown",
   "source": [
    "## Cleaning 🤿"
   ],
   "metadata": {
    "collapsed": false
   }
  },
  {
   "cell_type": "markdown",
   "source": [
    "### Functions:"
   ],
   "metadata": {
    "collapsed": false
   }
  },
  {
   "cell_type": "code",
   "execution_count": 58,
   "outputs": [],
   "source": [
    "def parse_price(dataframe: pd.DataFrame, feature:str, pattern:str) -> None:\n",
    "    \"\"\"\n",
    "    Parse financial features like prices. Works with $#,### or $#,###\\n* pattern\n",
    "    :param dataframe: object towards apply transformation\n",
    "    :param feature: feature name towards apply transformation\n",
    "    :param pattern: feature pattern to transform\n",
    "    \"\"\"\n",
    "    dataframe[feature] = dataframe [feature] \\\n",
    "        .str.extract(pattern) \\\n",
    "        .applymap(lambda price: int(price.replace(\",\",\"\")))\n"
   ],
   "metadata": {
    "collapsed": false
   }
  },
  {
   "cell_type": "code",
   "execution_count": 59,
   "outputs": [],
   "source": [
    "def remove_chars(dataframe: pd.DataFrame, feature:str, wildcards:str) -> pd.Series:\n",
    "    \"\"\"\n",
    "    Remove escaped characters from features like indented large extracts of text\n",
    "    :param dataframe: object towards apply transformation\n",
    "    :param feature: feature name towards apply transformation\n",
    "    :param wildcards: escaped characters to remove\n",
    "    :return: Serie without escaped characters\n",
    "    \"\"\"\n",
    "    return (dataframe\n",
    "    .apply(\n",
    "        lambda row: row[feature]\n",
    "        ,axis = 1\n",
    "    )\n",
    "    .apply(\n",
    "        lambda extracted_f: re.sub(wildcards, r' ', extracted_f)\n",
    "    )\n",
    "    )\n"
   ],
   "metadata": {
    "collapsed": false
   }
  },
  {
   "cell_type": "code",
   "execution_count": 60,
   "outputs": [],
   "source": [
    "PRICE_RG: str = r\"^\\$(?P<prices>\\d+,\\d+)?\"\n",
    "KM_REG: str = r\"(?P<km>^\\d+)\"\n",
    "CHARACTER_RG:str = '(\\n|\\r)+'"
   ],
   "metadata": {
    "collapsed": false
   }
  },
  {
   "cell_type": "markdown",
   "source": [
    "---"
   ],
   "metadata": {
    "collapsed": false
   }
  },
  {
   "cell_type": "markdown",
   "source": [
    "Remove noise elements from data list"
   ],
   "metadata": {
    "collapsed": false
   }
  },
  {
   "cell_type": "code",
   "execution_count": 61,
   "outputs": [],
   "source": [
    "# engines.append(\"Gasolina\")"
   ],
   "metadata": {
    "collapsed": false
   }
  },
  {
   "cell_type": "code",
   "execution_count": 62,
   "outputs": [],
   "source": [
    "years.remove(\"Ver más\")"
   ],
   "metadata": {
    "collapsed": false
   }
  },
  {
   "cell_type": "code",
   "execution_count": 63,
   "outputs": [],
   "source": [
    "models.remove(\"Blue Book Encuentra24\")"
   ],
   "metadata": {
    "collapsed": false
   }
  },
  {
   "cell_type": "code",
   "execution_count": 64,
   "outputs": [],
   "source": [
    "# kilometers.remove(\"Gasolina\")\n",
    "# kilometers.insert(-2, \"0\")"
   ],
   "metadata": {
    "collapsed": false
   }
  },
  {
   "cell_type": "code",
   "execution_count": 65,
   "outputs": [],
   "source": [
    "# # engines.pop(-1)"
   ],
   "metadata": {
    "collapsed": false
   }
  },
  {
   "cell_type": "markdown",
   "source": [
    "Create dataframe to process data extracted"
   ],
   "metadata": {
    "collapsed": false
   }
  },
  {
   "cell_type": "code",
   "execution_count": 66,
   "outputs": [
    {
     "data": {
      "text/plain": "[41, 41, 41, 41, 41, 40]"
     },
     "execution_count": 66,
     "metadata": {},
     "output_type": "execute_result"
    }
   ],
   "source": [
    "lengths = [len(engines), len(models), len(years), len(kilometers), len(prices),len(descriptions)]\n",
    "lengths"
   ],
   "metadata": {
    "collapsed": false
   }
  },
  {
   "cell_type": "markdown",
   "source": [
    "This was necessary due exists an announcement with no description"
   ],
   "metadata": {
    "collapsed": false
   }
  },
  {
   "cell_type": "code",
   "execution_count": 67,
   "outputs": [],
   "source": [
    "# descriptions.insert(-9, \"No description\")"
   ],
   "metadata": {
    "collapsed": false
   }
  },
  {
   "cell_type": "code",
   "execution_count": 68,
   "outputs": [],
   "source": [
    "# descriptions.append(\"No description\")"
   ],
   "metadata": {
    "collapsed": false
   }
  },
  {
   "cell_type": "code",
   "execution_count": 69,
   "outputs": [],
   "source": [
    "if check_len(lengths):\n",
    "\n",
    "    df_temp = pd.DataFrame({\n",
    "        \"model\": models,\n",
    "        \"year\": years,\n",
    "        \"kilometers\": kilometers,\n",
    "        \"engine\": engines,\n",
    "        \"price\": prices,\n",
    "        \"description\": descriptions\n",
    "    })\n",
    "\n",
    "    # Parse features. String to number and raw string with characters to structured string.\n",
    "    parse_price(df_temp, \"price\", PRICE_RG)\n",
    "    df_temp[\"kilometers\"] = df_temp[\"kilometers\"].str.extract(KM_REG).applymap(int)\n",
    "    df_temp[\"year\"] = df_temp[\"year\"].map(int)\n",
    "    df_temp[\"description\"] = remove_chars(df_temp, \"description\", CHARACTER_RG)\n",
    "\n",
    "    # Export dataframe in .csv format\n",
    "    persistence(df_temp)"
   ],
   "metadata": {
    "collapsed": false
   }
  },
  {
   "cell_type": "code",
   "execution_count": 70,
   "outputs": [
    {
     "data": {
      "text/plain": "                   model  year  kilometers    engine  price  \\\n0   Mitsubishi Mirage G4  2021        3000  Gasolina  12600   \n1           Nissan Versa  2017       78000  Gasolina   7400   \n2              Kia Forte  2016       34000  Gasolina   6900   \n3   Mitsubishi Mirage G4  2018       60000  Gasolina   8500   \n4      Mitsubishi Lancer  2017       68000  Gasolina   8700   \n5            Honda Civic  2018       30000  Gasolina  15000   \n6         Toyota Corolla  1999      254128  Gasolina   4000   \n7          Nissan Sentra  2014       98000  Gasolina   7400   \n8          Nissan Sentra  2017      109435  Gasolina   7500   \n9   Mitsubishi Mirage G4  2021        4000  Gasolina  10000   \n10               Kia Rio  2020       56000  Gasolina  10500   \n11         Nissan Sentra  2015       60000  Gasolina   9400   \n12      Volkswagen Jetta  2002      256000  Gasolina   4350   \n13         Nissan Sentra  2018       57000  Gasolina   8700   \n14        Toyota Corolla  2010      168000  Gasolina   7700   \n15          Toyota Yaris  2014       58300  Gasolina  11500   \n16        Chevrolet Aveo  2017       43000  Gasolina  14300   \n17          Toyota Yaris  2008      271000  Gasolina   6900   \n18  Mitsubishi Mirage G4  2019       76700  Gasolina   8500   \n19        Toyota Corolla  2014      116260  Gasolina   9500   \n20               Kia Rio  2017      120000  Gasolina   8600   \n21              Scion iA  2016           1  Gasolina   8500   \n22       Volkswagen Golf  1996      200000  Gasolina   2000   \n23         Dodge Caliber  2008      132856  Gasolina   4800   \n24        Toyota Corolla  2009      195504   Híbrido  17000   \n25             Toyota iA  2018          66  Gasolina  11000   \n26          Nissan Versa  2020       28235  Gasolina   8200   \n27               Kia Rio  2016       97911  Gasolina   7500   \n28         Nissan Sentra  2017       86000  Gasolina   7900   \n29     Mitsubishi Lancer  2015       64000  Gasolina   7200   \n30         Nissan Sentra  2013      140000  Gasolina   6200   \n31         Nissan Sentra  2014       73233  Gasolina   7300   \n32               Kia Rio  2016       64000  Gasolina   8200   \n33           Honda Civic  2014      106000  Gasolina   8300   \n34        Hyundai Accent  2014        7600  Gasolina   7600   \n35       Chevrolet Spark  2020       83903  Gasolina   7350   \n36               Kia Rio  2016       82500  Gasolina   9500   \n37       Hyundai Elantra  2018       41200  Gasolina  11000   \n38         Nissan Sentra  2013       74000  Gasolina   6700   \n39         Nissan Sentra  2013       14000  Gasolina   6200   \n40        Hyundai Accent  2014       66000  Gasolina   7500   \n\n                                          description  \n0   Color : Azul DESCRIPCIÓN CALIFICACIONES SEGURI...  \n1   Financiamiento: si DESCRIPCIÓN CALIFICACIONES ...  \n2   Color : Blanco Se vende Mitsubishi G4 2018. Au...  \n3   Color : Azul Vendo Mitsubishi Lancer 2017 Full...  \n4   Precio negociable: si Vendo Honda Civid 2018 E...  \n5   Garantía: Como es visto no hay garantía Precio...  \n6   Color : Negro DESCRIPCIÓN CALIFICACIONES SEGUR...  \n7   Financiamiento: no Precio negociable: si Color...  \n8   Color : Negro Bonito Mitsubishi Mirage G4 2021...  \n9   Color : Gris Se vende Kia Río 2020. Automático...  \n10  Precio negociable: si Color : Negro DESCRIPCIÓ...  \n11  Garantía: Como es visto no hay garantía Financ...  \n12  Precio negociable: si Caja automatica, motor 1...  \n13  Color : GRIS DESCRIPCIÓN CALIFICACIONES SEGURI...  \n14  DESCRIPCIÓN CALIFICACIONES SEGURIDAD Vendo Car...  \n15  Color : Vino metálico Mantenimiento al día en ...  \n16  Precio negociable: si Color : Blanco DESCRIPCI...  \n17  Precio negociable: si Mitsubishi mirage G4 201...  \n18  Financiamiento: no Precio negociable: no DESCR...  \n19  Color : ROJO DESCRIPCIÓN CALIFICACIONES SEGURI...  \n20  Color : Gris Motor 1.5 Aire acondicionado Rine...  \n21  Garantía: Como es visto no hay garantía Financ...  \n22  DESCRIPCIÓN ARTÍCULOS CALIFICACIONES SEGURIDAD...  \n23  Garantía: Como es visto no hay garantía Precio...  \n24  Precio negociable: si Color : Azul Se vende to...  \n25  Precio negociable: si Bonito Nissan Versa 2020...  \n26  Financiamiento: no Precio negociable: si Color...  \n27  Precio negociable: si Color : gris DESCRIPCIÓN...  \n28  Garantía: Como es visto no hay garantía Precio...  \n29  Precio negociable: no DESCRIPCIÓN CALIFICACION...  \n30  Financiamiento: no DESCRIPCIÓN CALIFICACIONES ...  \n31                                     No description  \n32  Precio negociable: si Color : Blanco DESCRIPCI...  \n33  Color : Gris DESCRIPCIÓN CALIFICACIONES SEGURIDAD  \n34  Precio negociable: si Color : Plateado DESCRIP...  \n35  Garantía: Como es visto no hay garantía Financ...  \n36  Precio negociable: si Color : Negro DESCRIPCIÓ...  \n37  Color : NEGRO YA TIENE PLACAS WhatsApp o Teleg...  \n38  Precio negociable: si Color : Gris DESCRIPCIÓN...  \n39  Color : Negro DESCRIPCIÓN CALIFICACIONES SEGUR...  \n40  Precio negociable: si Color : CELESTE METALICO...  ",
      "text/html": "<div>\n<style scoped>\n    .dataframe tbody tr th:only-of-type {\n        vertical-align: middle;\n    }\n\n    .dataframe tbody tr th {\n        vertical-align: top;\n    }\n\n    .dataframe thead th {\n        text-align: right;\n    }\n</style>\n<table border=\"1\" class=\"dataframe\">\n  <thead>\n    <tr style=\"text-align: right;\">\n      <th></th>\n      <th>model</th>\n      <th>year</th>\n      <th>kilometers</th>\n      <th>engine</th>\n      <th>price</th>\n      <th>description</th>\n    </tr>\n  </thead>\n  <tbody>\n    <tr>\n      <th>0</th>\n      <td>Mitsubishi Mirage G4</td>\n      <td>2021</td>\n      <td>3000</td>\n      <td>Gasolina</td>\n      <td>12600</td>\n      <td>Color : Azul DESCRIPCIÓN CALIFICACIONES SEGURI...</td>\n    </tr>\n    <tr>\n      <th>1</th>\n      <td>Nissan Versa</td>\n      <td>2017</td>\n      <td>78000</td>\n      <td>Gasolina</td>\n      <td>7400</td>\n      <td>Financiamiento: si DESCRIPCIÓN CALIFICACIONES ...</td>\n    </tr>\n    <tr>\n      <th>2</th>\n      <td>Kia Forte</td>\n      <td>2016</td>\n      <td>34000</td>\n      <td>Gasolina</td>\n      <td>6900</td>\n      <td>Color : Blanco Se vende Mitsubishi G4 2018. Au...</td>\n    </tr>\n    <tr>\n      <th>3</th>\n      <td>Mitsubishi Mirage G4</td>\n      <td>2018</td>\n      <td>60000</td>\n      <td>Gasolina</td>\n      <td>8500</td>\n      <td>Color : Azul Vendo Mitsubishi Lancer 2017 Full...</td>\n    </tr>\n    <tr>\n      <th>4</th>\n      <td>Mitsubishi Lancer</td>\n      <td>2017</td>\n      <td>68000</td>\n      <td>Gasolina</td>\n      <td>8700</td>\n      <td>Precio negociable: si Vendo Honda Civid 2018 E...</td>\n    </tr>\n    <tr>\n      <th>5</th>\n      <td>Honda Civic</td>\n      <td>2018</td>\n      <td>30000</td>\n      <td>Gasolina</td>\n      <td>15000</td>\n      <td>Garantía: Como es visto no hay garantía Precio...</td>\n    </tr>\n    <tr>\n      <th>6</th>\n      <td>Toyota Corolla</td>\n      <td>1999</td>\n      <td>254128</td>\n      <td>Gasolina</td>\n      <td>4000</td>\n      <td>Color : Negro DESCRIPCIÓN CALIFICACIONES SEGUR...</td>\n    </tr>\n    <tr>\n      <th>7</th>\n      <td>Nissan Sentra</td>\n      <td>2014</td>\n      <td>98000</td>\n      <td>Gasolina</td>\n      <td>7400</td>\n      <td>Financiamiento: no Precio negociable: si Color...</td>\n    </tr>\n    <tr>\n      <th>8</th>\n      <td>Nissan Sentra</td>\n      <td>2017</td>\n      <td>109435</td>\n      <td>Gasolina</td>\n      <td>7500</td>\n      <td>Color : Negro Bonito Mitsubishi Mirage G4 2021...</td>\n    </tr>\n    <tr>\n      <th>9</th>\n      <td>Mitsubishi Mirage G4</td>\n      <td>2021</td>\n      <td>4000</td>\n      <td>Gasolina</td>\n      <td>10000</td>\n      <td>Color : Gris Se vende Kia Río 2020. Automático...</td>\n    </tr>\n    <tr>\n      <th>10</th>\n      <td>Kia Rio</td>\n      <td>2020</td>\n      <td>56000</td>\n      <td>Gasolina</td>\n      <td>10500</td>\n      <td>Precio negociable: si Color : Negro DESCRIPCIÓ...</td>\n    </tr>\n    <tr>\n      <th>11</th>\n      <td>Nissan Sentra</td>\n      <td>2015</td>\n      <td>60000</td>\n      <td>Gasolina</td>\n      <td>9400</td>\n      <td>Garantía: Como es visto no hay garantía Financ...</td>\n    </tr>\n    <tr>\n      <th>12</th>\n      <td>Volkswagen Jetta</td>\n      <td>2002</td>\n      <td>256000</td>\n      <td>Gasolina</td>\n      <td>4350</td>\n      <td>Precio negociable: si Caja automatica, motor 1...</td>\n    </tr>\n    <tr>\n      <th>13</th>\n      <td>Nissan Sentra</td>\n      <td>2018</td>\n      <td>57000</td>\n      <td>Gasolina</td>\n      <td>8700</td>\n      <td>Color : GRIS DESCRIPCIÓN CALIFICACIONES SEGURI...</td>\n    </tr>\n    <tr>\n      <th>14</th>\n      <td>Toyota Corolla</td>\n      <td>2010</td>\n      <td>168000</td>\n      <td>Gasolina</td>\n      <td>7700</td>\n      <td>DESCRIPCIÓN CALIFICACIONES SEGURIDAD Vendo Car...</td>\n    </tr>\n    <tr>\n      <th>15</th>\n      <td>Toyota Yaris</td>\n      <td>2014</td>\n      <td>58300</td>\n      <td>Gasolina</td>\n      <td>11500</td>\n      <td>Color : Vino metálico Mantenimiento al día en ...</td>\n    </tr>\n    <tr>\n      <th>16</th>\n      <td>Chevrolet Aveo</td>\n      <td>2017</td>\n      <td>43000</td>\n      <td>Gasolina</td>\n      <td>14300</td>\n      <td>Precio negociable: si Color : Blanco DESCRIPCI...</td>\n    </tr>\n    <tr>\n      <th>17</th>\n      <td>Toyota Yaris</td>\n      <td>2008</td>\n      <td>271000</td>\n      <td>Gasolina</td>\n      <td>6900</td>\n      <td>Precio negociable: si Mitsubishi mirage G4 201...</td>\n    </tr>\n    <tr>\n      <th>18</th>\n      <td>Mitsubishi Mirage G4</td>\n      <td>2019</td>\n      <td>76700</td>\n      <td>Gasolina</td>\n      <td>8500</td>\n      <td>Financiamiento: no Precio negociable: no DESCR...</td>\n    </tr>\n    <tr>\n      <th>19</th>\n      <td>Toyota Corolla</td>\n      <td>2014</td>\n      <td>116260</td>\n      <td>Gasolina</td>\n      <td>9500</td>\n      <td>Color : ROJO DESCRIPCIÓN CALIFICACIONES SEGURI...</td>\n    </tr>\n    <tr>\n      <th>20</th>\n      <td>Kia Rio</td>\n      <td>2017</td>\n      <td>120000</td>\n      <td>Gasolina</td>\n      <td>8600</td>\n      <td>Color : Gris Motor 1.5 Aire acondicionado Rine...</td>\n    </tr>\n    <tr>\n      <th>21</th>\n      <td>Scion iA</td>\n      <td>2016</td>\n      <td>1</td>\n      <td>Gasolina</td>\n      <td>8500</td>\n      <td>Garantía: Como es visto no hay garantía Financ...</td>\n    </tr>\n    <tr>\n      <th>22</th>\n      <td>Volkswagen Golf</td>\n      <td>1996</td>\n      <td>200000</td>\n      <td>Gasolina</td>\n      <td>2000</td>\n      <td>DESCRIPCIÓN ARTÍCULOS CALIFICACIONES SEGURIDAD...</td>\n    </tr>\n    <tr>\n      <th>23</th>\n      <td>Dodge Caliber</td>\n      <td>2008</td>\n      <td>132856</td>\n      <td>Gasolina</td>\n      <td>4800</td>\n      <td>Garantía: Como es visto no hay garantía Precio...</td>\n    </tr>\n    <tr>\n      <th>24</th>\n      <td>Toyota Corolla</td>\n      <td>2009</td>\n      <td>195504</td>\n      <td>Híbrido</td>\n      <td>17000</td>\n      <td>Precio negociable: si Color : Azul Se vende to...</td>\n    </tr>\n    <tr>\n      <th>25</th>\n      <td>Toyota iA</td>\n      <td>2018</td>\n      <td>66</td>\n      <td>Gasolina</td>\n      <td>11000</td>\n      <td>Precio negociable: si Bonito Nissan Versa 2020...</td>\n    </tr>\n    <tr>\n      <th>26</th>\n      <td>Nissan Versa</td>\n      <td>2020</td>\n      <td>28235</td>\n      <td>Gasolina</td>\n      <td>8200</td>\n      <td>Financiamiento: no Precio negociable: si Color...</td>\n    </tr>\n    <tr>\n      <th>27</th>\n      <td>Kia Rio</td>\n      <td>2016</td>\n      <td>97911</td>\n      <td>Gasolina</td>\n      <td>7500</td>\n      <td>Precio negociable: si Color : gris DESCRIPCIÓN...</td>\n    </tr>\n    <tr>\n      <th>28</th>\n      <td>Nissan Sentra</td>\n      <td>2017</td>\n      <td>86000</td>\n      <td>Gasolina</td>\n      <td>7900</td>\n      <td>Garantía: Como es visto no hay garantía Precio...</td>\n    </tr>\n    <tr>\n      <th>29</th>\n      <td>Mitsubishi Lancer</td>\n      <td>2015</td>\n      <td>64000</td>\n      <td>Gasolina</td>\n      <td>7200</td>\n      <td>Precio negociable: no DESCRIPCIÓN CALIFICACION...</td>\n    </tr>\n    <tr>\n      <th>30</th>\n      <td>Nissan Sentra</td>\n      <td>2013</td>\n      <td>140000</td>\n      <td>Gasolina</td>\n      <td>6200</td>\n      <td>Financiamiento: no DESCRIPCIÓN CALIFICACIONES ...</td>\n    </tr>\n    <tr>\n      <th>31</th>\n      <td>Nissan Sentra</td>\n      <td>2014</td>\n      <td>73233</td>\n      <td>Gasolina</td>\n      <td>7300</td>\n      <td>No description</td>\n    </tr>\n    <tr>\n      <th>32</th>\n      <td>Kia Rio</td>\n      <td>2016</td>\n      <td>64000</td>\n      <td>Gasolina</td>\n      <td>8200</td>\n      <td>Precio negociable: si Color : Blanco DESCRIPCI...</td>\n    </tr>\n    <tr>\n      <th>33</th>\n      <td>Honda Civic</td>\n      <td>2014</td>\n      <td>106000</td>\n      <td>Gasolina</td>\n      <td>8300</td>\n      <td>Color : Gris DESCRIPCIÓN CALIFICACIONES SEGURIDAD</td>\n    </tr>\n    <tr>\n      <th>34</th>\n      <td>Hyundai Accent</td>\n      <td>2014</td>\n      <td>7600</td>\n      <td>Gasolina</td>\n      <td>7600</td>\n      <td>Precio negociable: si Color : Plateado DESCRIP...</td>\n    </tr>\n    <tr>\n      <th>35</th>\n      <td>Chevrolet Spark</td>\n      <td>2020</td>\n      <td>83903</td>\n      <td>Gasolina</td>\n      <td>7350</td>\n      <td>Garantía: Como es visto no hay garantía Financ...</td>\n    </tr>\n    <tr>\n      <th>36</th>\n      <td>Kia Rio</td>\n      <td>2016</td>\n      <td>82500</td>\n      <td>Gasolina</td>\n      <td>9500</td>\n      <td>Precio negociable: si Color : Negro DESCRIPCIÓ...</td>\n    </tr>\n    <tr>\n      <th>37</th>\n      <td>Hyundai Elantra</td>\n      <td>2018</td>\n      <td>41200</td>\n      <td>Gasolina</td>\n      <td>11000</td>\n      <td>Color : NEGRO YA TIENE PLACAS WhatsApp o Teleg...</td>\n    </tr>\n    <tr>\n      <th>38</th>\n      <td>Nissan Sentra</td>\n      <td>2013</td>\n      <td>74000</td>\n      <td>Gasolina</td>\n      <td>6700</td>\n      <td>Precio negociable: si Color : Gris DESCRIPCIÓN...</td>\n    </tr>\n    <tr>\n      <th>39</th>\n      <td>Nissan Sentra</td>\n      <td>2013</td>\n      <td>14000</td>\n      <td>Gasolina</td>\n      <td>6200</td>\n      <td>Color : Negro DESCRIPCIÓN CALIFICACIONES SEGUR...</td>\n    </tr>\n    <tr>\n      <th>40</th>\n      <td>Hyundai Accent</td>\n      <td>2014</td>\n      <td>66000</td>\n      <td>Gasolina</td>\n      <td>7500</td>\n      <td>Precio negociable: si Color : CELESTE METALICO...</td>\n    </tr>\n  </tbody>\n</table>\n</div>"
     },
     "execution_count": 70,
     "metadata": {},
     "output_type": "execute_result"
    }
   ],
   "source": [
    "df_temp"
   ],
   "metadata": {
    "collapsed": false
   }
  }
 ],
 "metadata": {
  "kernelspec": {
   "display_name": "Python 3",
   "language": "python",
   "name": "python3"
  },
  "language_info": {
   "codemirror_mode": {
    "name": "ipython",
    "version": 2
   },
   "file_extension": ".py",
   "mimetype": "text/x-python",
   "name": "python",
   "nbconvert_exporter": "python",
   "pygments_lexer": "ipython2",
   "version": "2.7.6"
  }
 },
 "nbformat": 4,
 "nbformat_minor": 0
}
