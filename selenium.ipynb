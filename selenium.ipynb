{
 "cells": [
  {
   "cell_type": "markdown",
   "source": [
    "## Init 🍄"
   ],
   "metadata": {
    "collapsed": false
   }
  },
  {
   "cell_type": "markdown",
   "source": [
    "---"
   ],
   "metadata": {
    "collapsed": false
   }
  },
  {
   "cell_type": "markdown",
   "source": [
    "### Dependencies:"
   ],
   "metadata": {
    "collapsed": false
   }
  },
  {
   "cell_type": "code",
   "execution_count": 1,
   "outputs": [],
   "source": [
    "import yaml\n",
    "import re\n",
    "from datetime import datetime\n",
    "import pandas as pd"
   ],
   "metadata": {
    "collapsed": false
   }
  },
  {
   "cell_type": "code",
   "execution_count": 2,
   "outputs": [],
   "source": [
    "from selenium import webdriver\n",
    "from selenium.webdriver.common.by import By\n",
    "from selenium.webdriver.edge.service import Service\n",
    "from webdriver_manager.microsoft import EdgeChromiumDriverManager\n",
    "from selenium.webdriver.support.ui import WebDriverWait\n",
    "from selenium.webdriver.support import expected_conditions as EC"
   ],
   "metadata": {
    "collapsed": false
   }
  },
  {
   "cell_type": "code",
   "execution_count": 3,
   "outputs": [],
   "source": [
    "from selenium.common.exceptions import NoSuchElementException\n",
    "from selenium.common.exceptions import TimeoutException"
   ],
   "metadata": {
    "collapsed": false
   }
  },
  {
   "cell_type": "code",
   "execution_count": 4,
   "outputs": [
    {
     "name": "stderr",
     "output_type": "stream",
     "text": [
      "[WDM] - Downloading: 100%|██████████| 8.15M/8.15M [00:03<00:00, 2.22MB/s]\n"
     ]
    }
   ],
   "source": [
    "# edge:object = webdriver.Edge(executable_path=\"./utils/msedgedriver.exe\")\n",
    "edge = webdriver.Edge(service=Service(EdgeChromiumDriverManager().install()))\n",
    "edge.maximize_window()"
   ],
   "metadata": {
    "collapsed": false
   }
  },
  {
   "cell_type": "markdown",
   "source": [
    "### Functions:"
   ],
   "metadata": {
    "collapsed": false
   }
  },
  {
   "cell_type": "code",
   "execution_count": 5,
   "outputs": [],
   "source": [
    "def resources(name:str) -> dict[str:str]:\n",
    "    \"\"\"Read xpath.yml file that contains xpath's to scrape\"\"\"\n",
    "\n",
    "    with open(\"xpath.yml\", \"r\") as f:\n",
    "        content:dict[str:str] = yaml.safe_load(f)\n",
    "        return content[name]"
   ],
   "metadata": {
    "collapsed": false
   }
  },
  {
   "cell_type": "code",
   "execution_count": 6,
   "outputs": [],
   "source": [
    "def close_prompt(driver:object) -> None:\n",
    "    \"\"\"Close ad window\"\"\"\n",
    "\n",
    "    button:str = \"//a[@class='btn btn-subscription-light']\"\n",
    "    driver.find_element(by=By.XPATH, value=button).click()"
   ],
   "metadata": {
    "collapsed": false
   }
  },
  {
   "cell_type": "code",
   "execution_count": 7,
   "outputs": [],
   "source": [
    "def choose_category(category:str, driver:object) -> None:\n",
    "    \"\"\"Choose ad category\"\"\"\n",
    "\n",
    "    driver.find_element(by=By.XPATH, value=category).click()"
   ],
   "metadata": {
    "collapsed": false
   }
  },
  {
   "cell_type": "code",
   "execution_count": 8,
   "outputs": [],
   "source": [
    "def click_element(element:object, path:str) -> None:\n",
    "    \"\"\"Click element on the current document\"\"\"\n",
    "\n",
    "    button = element.find_element(by=By.XPATH, value=path)\n",
    "    button.click()"
   ],
   "metadata": {
    "collapsed": false
   }
  },
  {
   "cell_type": "code",
   "execution_count": 9,
   "outputs": [],
   "source": [
    "def extract_description(element:object, path:str) -> str:\n",
    "    \"\"\"Extract ad description on the current document\"\"\"\n",
    "\n",
    "    description:str = element.find_element(by=By.XPATH, value=path)\n",
    "    return description"
   ],
   "metadata": {
    "collapsed": false
   }
  },
  {
   "cell_type": "code",
   "execution_count": 10,
   "outputs": [],
   "source": [
    "def extract_feature(element:object, path:str) -> list[str]:\n",
    "    \"\"\"Extract some feature from list document based on xpath used.\"\"\"\n",
    "\n",
    "    feature = []\n",
    "\n",
    "    try:\n",
    "        feature:str = element.find_elements(by=By.XPATH, value=path)\n",
    "        feature = [data_point.text for data_point in feature]\n",
    "        return feature\n",
    "    except Exception:\n",
    "        feature.append(\"Web wasn't able to scrape the feature\")"
   ],
   "metadata": {
    "collapsed": false
   }
  },
  {
   "cell_type": "code",
   "execution_count": 11,
   "outputs": [],
   "source": [
    "def persistence(dataframe:pd.DataFrame) -> None:\n",
    "    \"\"\"Generate .csv file from data scraped\"\"\"\n",
    "\n",
    "    file_name = datetime.today().strftime(\"%B-%d\")\n",
    "    dataframe.to_csv(f\"persistence/{file_name}.csv\", index=False)"
   ],
   "metadata": {
    "collapsed": false
   }
  },
  {
   "cell_type": "code",
   "execution_count": 12,
   "outputs": [],
   "source": [
    "def get_len(features:list[list[str]]) -> bool:\n",
    "    \"\"\"\n",
    "    Check if all features has the same length to create new df\n",
    "    :param features: list of features extracted with scraping\n",
    "    :return: a list with all lengths where first place is the len of the first element and the mostly accepted.\n",
    "    \"\"\"\n",
    "\n",
    "    base_len = len(features[0])\n",
    "    lengths = []\n",
    "    lengths.append(base_len)\n",
    "    for feature in features:\n",
    "        if len(feature) == base_len:\n",
    "            continue\n",
    "        else:\n",
    "             lengths.append(len(feature))\n",
    "    return lengths"
   ],
   "metadata": {
    "collapsed": false
   }
  },
  {
   "cell_type": "code",
   "execution_count": 13,
   "outputs": [],
   "source": [
    "def check_len(lengths:list[int]) -> bool:\n",
    "    \"\"\"\n",
    "    Check if all elements in list has the same value.\n",
    "    :param lengths: list of lengths\n",
    "    :return: a boolean\n",
    "    \"\"\"\n",
    "    for length in lengths[1:]:\n",
    "        if length != lengths[0]:\n",
    "            return False\n",
    "        return True"
   ],
   "metadata": {
    "collapsed": false
   }
  },
  {
   "cell_type": "markdown",
   "source": [
    "## Extraction 🧲"
   ],
   "metadata": {
    "collapsed": false
   }
  },
  {
   "cell_type": "markdown",
   "source": [
    "----"
   ],
   "metadata": {
    "collapsed": false
   }
  },
  {
   "cell_type": "markdown",
   "source": [
    "### Sedan:"
   ],
   "metadata": {
    "collapsed": false
   }
  },
  {
   "cell_type": "markdown",
   "source": [
    "Variables pool."
   ],
   "metadata": {
    "collapsed": false
   }
  },
  {
   "cell_type": "code",
   "execution_count": 14,
   "outputs": [],
   "source": [
    "descriptions:list[str] = []\n",
    "prices:list[int] = []\n",
    "models:list[str] = []\n",
    "years:list[int] = []\n",
    "kilometers:list[int] = []\n",
    "engines:list[str] = []\n",
    "\n",
    "# seconds\n",
    "DELAY:int = 1"
   ],
   "metadata": {
    "collapsed": false
   }
  },
  {
   "cell_type": "code",
   "execution_count": 15,
   "outputs": [],
   "source": [
    "sedan = resources(\"cars_sedan\")"
   ],
   "metadata": {
    "collapsed": false
   }
  },
  {
   "cell_type": "markdown",
   "source": [
    "Get web & close initial prompt."
   ],
   "metadata": {
    "collapsed": false
   }
  },
  {
   "cell_type": "code",
   "execution_count": 16,
   "outputs": [],
   "source": [
    "edge.get(sedan[\"url\"])"
   ],
   "metadata": {
    "collapsed": false
   }
  },
  {
   "cell_type": "code",
   "execution_count": 17,
   "outputs": [],
   "source": [
    "close_prompt(edge)"
   ],
   "metadata": {
    "collapsed": false
   }
  },
  {
   "cell_type": "code",
   "execution_count": 18,
   "outputs": [],
   "source": [
    "elements = edge.find_elements(by=By.XPATH, value=sedan[\"ad\"])"
   ],
   "metadata": {
    "collapsed": false
   }
  },
  {
   "cell_type": "markdown",
   "source": [
    "Extract descriptions."
   ],
   "metadata": {
    "collapsed": false
   }
  },
  {
   "cell_type": "code",
   "execution_count": 19,
   "outputs": [],
   "source": [
    "elements[0].click()\n",
    "try:\n",
    "    for element in range(len(elements)):\n",
    "        dynamic_delay = WebDriverWait(edge, DELAY).until(EC.presence_of_element_located((By.XPATH, sedan[\"description\"])))\n",
    "        temp = extract_description(edge, sedan[\"description\"])\n",
    "        descriptions.append(temp.text)\n",
    "        click_element(edge, sedan[\"next\"])\n",
    "except TimeoutException as TE:\n",
    "    descriptions.append(\"Web wasn't able to scrape descriptions\")\n",
    "except NoSuchElementException as NSE:\n",
    "    click_element(edge, sedan[\"exit\"])"
   ],
   "metadata": {
    "collapsed": false
   }
  },
  {
   "cell_type": "markdown",
   "source": [
    "Extract prices & models."
   ],
   "metadata": {
    "collapsed": false
   }
  },
  {
   "cell_type": "code",
   "execution_count": 20,
   "outputs": [],
   "source": [
    "prices = extract_feature(edge, sedan[\"price\"])\n",
    "models = extract_feature(edge, sedan[\"model\"])"
   ],
   "metadata": {
    "collapsed": false
   }
  },
  {
   "cell_type": "markdown",
   "source": [
    "Extract car year, engine & kilometers."
   ],
   "metadata": {
    "collapsed": false
   }
  },
  {
   "cell_type": "code",
   "execution_count": 21,
   "outputs": [],
   "source": [
    "years = extract_feature(edge, sedan[\"year\"])\n",
    "engines = extract_feature(edge, sedan[\"engine\"])\n",
    "kilometers = extract_feature(edge, sedan[\"kilometers\"])"
   ],
   "metadata": {
    "collapsed": false
   }
  },
  {
   "cell_type": "code",
   "execution_count": 22,
   "outputs": [
    {
     "data": {
      "text/plain": "[42, 43, 43, 41, 41]"
     },
     "execution_count": 22,
     "metadata": {},
     "output_type": "execute_result"
    }
   ],
   "source": [
    "lengths = [prices, models, years, engines, kilometers, descriptions]\n",
    "get_len(lengths)"
   ],
   "metadata": {
    "collapsed": false
   }
  },
  {
   "cell_type": "markdown",
   "source": [
    "## Cleaning 🤿"
   ],
   "metadata": {
    "collapsed": false
   }
  },
  {
   "cell_type": "markdown",
   "source": [
    "### Functions:"
   ],
   "metadata": {
    "collapsed": false
   }
  },
  {
   "cell_type": "code",
   "execution_count": 23,
   "outputs": [],
   "source": [
    "def parse_price(dataframe: pd.DataFrame, feature:str, pattern:str) -> None:\n",
    "    \"\"\"\n",
    "    Parse financial features like prices. Works with $#,### or $#,###\\n* pattern\n",
    "    :param dataframe: object towards apply transformation\n",
    "    :param feature: feature name towards apply transformation\n",
    "    :param pattern: feature pattern to transform\n",
    "    \"\"\"\n",
    "    dataframe[feature] = dataframe [feature] \\\n",
    "        .str.extract(pattern) \\\n",
    "        .applymap(lambda price: int(price.replace(\",\",\"\")))\n"
   ],
   "metadata": {
    "collapsed": false
   }
  },
  {
   "cell_type": "code",
   "execution_count": 24,
   "outputs": [],
   "source": [
    "def remove_chars(dataframe: pd.DataFrame, feature:str, wildcards:str) -> pd.Series:\n",
    "    \"\"\"\n",
    "    Remove escaped characters from features like indented large extracts of text\n",
    "    :param dataframe: object towards apply transformation\n",
    "    :param feature: feature name towards apply transformation\n",
    "    :param wildcards: escaped characters to remove\n",
    "    :return: Serie without escaped characters\n",
    "    \"\"\"\n",
    "    return (dataframe\n",
    "    .apply(\n",
    "        lambda row: row[feature]\n",
    "        ,axis = 1\n",
    "    )\n",
    "    .apply(\n",
    "        lambda extracted_f: re.sub(wildcards, r' ', extracted_f)\n",
    "    )\n",
    "    )\n"
   ],
   "metadata": {
    "collapsed": false
   }
  },
  {
   "cell_type": "code",
   "execution_count": 86,
   "outputs": [],
   "source": [
    "def replace_datapoint(value:str, replacement:any, datalist: list[any]) -> None:\n",
    "    \"\"\"\n",
    "    Replace a datapoint if we know the value of datapoint to replace. Useful for kilometers list bug.\n",
    "    :param value: value of datapoint to remove\n",
    "    :param replacement: value of datapoint to insert\n",
    "    :param datalist: list where the operation will be applied\n",
    "    \"\"\"\n",
    "    try:\n",
    "        to_replace = datalist.index(value)\n",
    "        datalist[to_replace] = replacement\n",
    "    except ValueError as ve:\n",
    "        print(\"That values doesn't exists\")"
   ],
   "metadata": {
    "collapsed": false
   }
  },
  {
   "cell_type": "code",
   "execution_count": 25,
   "outputs": [],
   "source": [
    "PRICE_RG: str = r\"^\\$(?P<prices>\\d+,\\d+)?\"\n",
    "KM_REG: str = r\"(?P<km>^\\d+)\"\n",
    "CHARACTER_RG:str = '(\\n|\\r)+'"
   ],
   "metadata": {
    "collapsed": false
   }
  },
  {
   "cell_type": "markdown",
   "source": [
    "---"
   ],
   "metadata": {
    "collapsed": false
   }
  },
  {
   "cell_type": "markdown",
   "source": [
    "Remove noise elements from data list"
   ],
   "metadata": {
    "collapsed": false
   }
  },
  {
   "cell_type": "code",
   "execution_count": 26,
   "outputs": [],
   "source": [
    "# engines.append(\"Gasolina\")"
   ],
   "metadata": {
    "collapsed": false
   }
  },
  {
   "cell_type": "code",
   "execution_count": 27,
   "outputs": [],
   "source": [
    "years.remove(\"Ver más\")"
   ],
   "metadata": {
    "collapsed": false
   }
  },
  {
   "cell_type": "code",
   "execution_count": 28,
   "outputs": [],
   "source": [
    "models.remove(\"Blue Book Encuentra24\")"
   ],
   "metadata": {
    "collapsed": false
   }
  },
  {
   "cell_type": "code",
   "execution_count": 29,
   "outputs": [],
   "source": [
    "# kilometers.remove(\"Gasolina\")\n",
    "# kilometers.insert(-2, \"0\")"
   ],
   "metadata": {
    "collapsed": false
   }
  },
  {
   "cell_type": "code",
   "execution_count": 88,
   "outputs": [
    {
     "data": {
      "text/plain": "12"
     },
     "execution_count": 88,
     "metadata": {},
     "output_type": "execute_result"
    }
   ],
   "source": [
    "# # engines.pop(-1)"
   ],
   "metadata": {
    "collapsed": false
   }
  },
  {
   "cell_type": "markdown",
   "source": [
    "Create dataframe to process data extracted"
   ],
   "metadata": {
    "collapsed": false
   }
  },
  {
   "cell_type": "code",
   "execution_count": 68,
   "outputs": [
    {
     "data": {
      "text/plain": "[42, 42, 42, 42, 42, 42]"
     },
     "execution_count": 68,
     "metadata": {},
     "output_type": "execute_result"
    }
   ],
   "source": [
    "lengths = [len(engines), len(models), len(years), len(kilometers), len(prices),len(descriptions)]\n",
    "lengths"
   ],
   "metadata": {
    "collapsed": false
   }
  },
  {
   "cell_type": "markdown",
   "source": [
    "This is necessary when exists an announcement with no description or engine. Basically to append missing values."
   ],
   "metadata": {
    "collapsed": false
   }
  },
  {
   "cell_type": "code",
   "execution_count": 43,
   "outputs": [],
   "source": [
    "# descriptions.insert(-15, \"No description\")"
   ],
   "metadata": {
    "collapsed": false
   }
  },
  {
   "cell_type": "code",
   "execution_count": 33,
   "outputs": [],
   "source": [
    "# descriptions.append(\"No description\")"
   ],
   "metadata": {
    "collapsed": false
   }
  },
  {
   "cell_type": "code",
   "execution_count": 76,
   "outputs": [
    {
     "data": {
      "text/plain": "'0 km'"
     },
     "execution_count": 76,
     "metadata": {},
     "output_type": "execute_result"
    }
   ],
   "source": [
    "# -7\n",
    "kilometers[-7]"
   ],
   "metadata": {
    "collapsed": false
   }
  },
  {
   "cell_type": "code",
   "execution_count": 77,
   "outputs": [],
   "source": [
    "if check_len(lengths):\n",
    "\n",
    "    df_temp = pd.DataFrame({\n",
    "        \"model\": models,\n",
    "        \"year\": years,\n",
    "        \"kilometers\": kilometers,\n",
    "        \"engine\": engines,\n",
    "        \"price\": prices,\n",
    "        \"description\": descriptions\n",
    "    })\n",
    "\n",
    "    # Parse features. String to number and raw string with characters to structured string.\n",
    "    parse_price(df_temp, \"price\", PRICE_RG)\n",
    "    df_temp[\"kilometers\"] = df_temp[\"kilometers\"].str.extract(KM_REG).applymap(int)\n",
    "    df_temp[\"year\"] = df_temp[\"year\"].map(int)\n",
    "    df_temp[\"description\"] = remove_chars(df_temp, \"description\", CHARACTER_RG)\n",
    "\n",
    "    # Export dataframe in .csv format\n",
    "    persistence(df_temp)"
   ],
   "metadata": {
    "collapsed": false
   }
  },
  {
   "cell_type": "code",
   "execution_count": 78,
   "outputs": [
    {
     "data": {
      "text/plain": "                   model  year  kilometers    engine  price  \\\n0   Mitsubishi Mirage G4  2021        3000  Gasolina  12000   \n1         Toyota Corolla  2018       39000  Gasolina  11500   \n2           Nissan Versa  2017       78000  Gasolina   7400   \n3              Kia Forte  2016       34000  Gasolina   6900   \n4          Nissan Sentra  2015       89300  Gasolina   7600   \n5          Nissan Sentra  2015      112646  Gasolina   5975   \n6        Chevrolet Spark  2020       83903  Gasolina   7350   \n7           Suzuki Aerio  2003      150000  Gasolina   3000   \n8          Nissan ALTIMA  2013      110065  Gasolina   6500   \n9        Hyundai Elantra  2018       22500  Gasolina  10200   \n10         Nissan Sentra  2014       98000  Gasolina   7400   \n11         Nissan Sentra  2017      109435  Gasolina   7500   \n12  Mitsubishi Mirage G4  2021        4000  Gasolina  10000   \n13         Nissan Sentra  2015       60000  Gasolina   9200   \n14      Volkswagen Jetta  2002      258000  Gasolina   4250   \n15         Nissan Sentra  2018       57000  Gasolina   8700   \n16        Toyota Corolla  2010      168000  Gasolina   7700   \n17          Toyota Yaris  2014       58300  Gasolina  11500   \n18        Chevrolet Aveo  2017       43000  Gasolina  14300   \n19          Toyota Yaris  2008      271000  Gasolina   6900   \n20  Mitsubishi Mirage G4  2019       76700  Gasolina   8500   \n21        Toyota Corolla  2014      116260  Gasolina   9500   \n22               Kia Rio  2017      120000  Gasolina   8600   \n23              Scion iA  2016           1  Gasolina   8500   \n24       Volkswagen Golf  1996      200000  Gasolina   2000   \n25         Dodge Caliber  2008      132856  Gasolina   4800   \n26        Toyota Corolla  2009      195504   Híbrido  17000   \n27             Toyota iA  2018          66  Gasolina  11000   \n28          Nissan Versa  2020       28235  Gasolina   8200   \n29               Kia Rio  2016       97911  Gasolina   7500   \n30         Nissan Sentra  2017       86000  Gasolina   7900   \n31     Mitsubishi Lancer  2015       64000  Gasolina   7200   \n32         Nissan Sentra  2013      140000  Gasolina   6200   \n33         Nissan Sentra  2014       73233  Gasolina   7300   \n34               Kia Rio  2016       64000  Gasolina   8200   \n35         Nissan Sentra  2002           0  Gasolina   4500   \n36        Hyundai Accent  2014        7600  Gasolina   7600   \n37               Kia Rio  2016       82500  Gasolina   9500   \n38       Hyundai Elantra  2018       41200  Gasolina  11000   \n39         Nissan Sentra  2013       74000  Gasolina   6700   \n40         Nissan Sentra  2013       14000  Gasolina   6200   \n41        Hyundai Accent  2014       66000  Gasolina   7500   \n\n                                          description  \n0   Precio negociable: si Color : Negro perlado CO...  \n1   Color : Azul DESCRIPCIÓN CALIFICACIONES SEGURI...  \n2   Financiamiento: si DESCRIPCIÓN CALIFICACIONES ...  \n3   Garantía: Como es visto no hay garantía Color ...  \n4   Garantía: Como es visto no hay garantía Financ...  \n5   Garantía: Como es visto no hay garantía Financ...  \n6   Precio negociable: si Color : Gris DESCRIPCIÓN...  \n7   Color : GRIS Nissan Altima 2013 Full Extras Au...  \n8   Precio negociable: si Color : Gris En venta Hy...  \n9   Color : Negro DESCRIPCIÓN CALIFICACIONES SEGUR...  \n10  Financiamiento: no Precio negociable: si Color...  \n11  Color : Negro Bonito Mitsubishi Mirage G4 2021...  \n12  Precio negociable: si Color : Negro DESCRIPCIÓ...  \n13  Garantía: Como es visto no hay garantía Financ...  \n14  Precio negociable: si Caja automatica, motor 1...  \n15  Color : GRIS DESCRIPCIÓN CALIFICACIONES SEGURI...  \n16  DESCRIPCIÓN CALIFICACIONES SEGURIDAD Vendo Car...  \n17  Color : Vino metálico Mantenimiento al día en ...  \n18  Precio negociable: si Color : Blanco DESCRIPCI...  \n19  Precio negociable: si Mitsubishi mirage G4 201...  \n20  Financiamiento: no Precio negociable: no DESCR...  \n21  Color : ROJO DESCRIPCIÓN CALIFICACIONES SEGURI...  \n22  Color : Gris Motor 1.5 Aire acondicionado Rine...  \n23  Garantía: Como es visto no hay garantía Financ...  \n24  DESCRIPCIÓN ARTÍCULOS CALIFICACIONES SEGURIDAD...  \n25  Garantía: Como es visto no hay garantía Precio...  \n26                                     No description  \n27  Precio negociable: si Color : Azul Se vende to...  \n28  Precio negociable: si Bonito Nissan Versa 2020...  \n29  Financiamiento: no Precio negociable: si Color...  \n30  Precio negociable: si Color : gris DESCRIPCIÓN...  \n31  Garantía: Como es visto no hay garantía Precio...  \n32  Precio negociable: no DESCRIPCIÓN CALIFICACION...  \n33  Financiamiento: no DESCRIPCIÓN CALIFICACIONES ...  \n34  Precio negociable: si Color : Blanco DESCRIPCI...  \n35  DESCRIPCIÓN CALIFICACIONES SEGURIDAD Nissan se...  \n36  Precio negociable: si Color : Plateado DESCRIP...  \n37  Precio negociable: si Color : Negro DESCRIPCIÓ...  \n38  Color : NEGRO YA TIENE PLACAS WhatsApp o Teleg...  \n39  Precio negociable: si Color : Gris DESCRIPCIÓN...  \n40  Color : Negro DESCRIPCIÓN CALIFICACIONES SEGUR...  \n41  Precio negociable: si Color : CELESTE METALICO...  ",
      "text/html": "<div>\n<style scoped>\n    .dataframe tbody tr th:only-of-type {\n        vertical-align: middle;\n    }\n\n    .dataframe tbody tr th {\n        vertical-align: top;\n    }\n\n    .dataframe thead th {\n        text-align: right;\n    }\n</style>\n<table border=\"1\" class=\"dataframe\">\n  <thead>\n    <tr style=\"text-align: right;\">\n      <th></th>\n      <th>model</th>\n      <th>year</th>\n      <th>kilometers</th>\n      <th>engine</th>\n      <th>price</th>\n      <th>description</th>\n    </tr>\n  </thead>\n  <tbody>\n    <tr>\n      <th>0</th>\n      <td>Mitsubishi Mirage G4</td>\n      <td>2021</td>\n      <td>3000</td>\n      <td>Gasolina</td>\n      <td>12000</td>\n      <td>Precio negociable: si Color : Negro perlado CO...</td>\n    </tr>\n    <tr>\n      <th>1</th>\n      <td>Toyota Corolla</td>\n      <td>2018</td>\n      <td>39000</td>\n      <td>Gasolina</td>\n      <td>11500</td>\n      <td>Color : Azul DESCRIPCIÓN CALIFICACIONES SEGURI...</td>\n    </tr>\n    <tr>\n      <th>2</th>\n      <td>Nissan Versa</td>\n      <td>2017</td>\n      <td>78000</td>\n      <td>Gasolina</td>\n      <td>7400</td>\n      <td>Financiamiento: si DESCRIPCIÓN CALIFICACIONES ...</td>\n    </tr>\n    <tr>\n      <th>3</th>\n      <td>Kia Forte</td>\n      <td>2016</td>\n      <td>34000</td>\n      <td>Gasolina</td>\n      <td>6900</td>\n      <td>Garantía: Como es visto no hay garantía Color ...</td>\n    </tr>\n    <tr>\n      <th>4</th>\n      <td>Nissan Sentra</td>\n      <td>2015</td>\n      <td>89300</td>\n      <td>Gasolina</td>\n      <td>7600</td>\n      <td>Garantía: Como es visto no hay garantía Financ...</td>\n    </tr>\n    <tr>\n      <th>5</th>\n      <td>Nissan Sentra</td>\n      <td>2015</td>\n      <td>112646</td>\n      <td>Gasolina</td>\n      <td>5975</td>\n      <td>Garantía: Como es visto no hay garantía Financ...</td>\n    </tr>\n    <tr>\n      <th>6</th>\n      <td>Chevrolet Spark</td>\n      <td>2020</td>\n      <td>83903</td>\n      <td>Gasolina</td>\n      <td>7350</td>\n      <td>Precio negociable: si Color : Gris DESCRIPCIÓN...</td>\n    </tr>\n    <tr>\n      <th>7</th>\n      <td>Suzuki Aerio</td>\n      <td>2003</td>\n      <td>150000</td>\n      <td>Gasolina</td>\n      <td>3000</td>\n      <td>Color : GRIS Nissan Altima 2013 Full Extras Au...</td>\n    </tr>\n    <tr>\n      <th>8</th>\n      <td>Nissan ALTIMA</td>\n      <td>2013</td>\n      <td>110065</td>\n      <td>Gasolina</td>\n      <td>6500</td>\n      <td>Precio negociable: si Color : Gris En venta Hy...</td>\n    </tr>\n    <tr>\n      <th>9</th>\n      <td>Hyundai Elantra</td>\n      <td>2018</td>\n      <td>22500</td>\n      <td>Gasolina</td>\n      <td>10200</td>\n      <td>Color : Negro DESCRIPCIÓN CALIFICACIONES SEGUR...</td>\n    </tr>\n    <tr>\n      <th>10</th>\n      <td>Nissan Sentra</td>\n      <td>2014</td>\n      <td>98000</td>\n      <td>Gasolina</td>\n      <td>7400</td>\n      <td>Financiamiento: no Precio negociable: si Color...</td>\n    </tr>\n    <tr>\n      <th>11</th>\n      <td>Nissan Sentra</td>\n      <td>2017</td>\n      <td>109435</td>\n      <td>Gasolina</td>\n      <td>7500</td>\n      <td>Color : Negro Bonito Mitsubishi Mirage G4 2021...</td>\n    </tr>\n    <tr>\n      <th>12</th>\n      <td>Mitsubishi Mirage G4</td>\n      <td>2021</td>\n      <td>4000</td>\n      <td>Gasolina</td>\n      <td>10000</td>\n      <td>Precio negociable: si Color : Negro DESCRIPCIÓ...</td>\n    </tr>\n    <tr>\n      <th>13</th>\n      <td>Nissan Sentra</td>\n      <td>2015</td>\n      <td>60000</td>\n      <td>Gasolina</td>\n      <td>9200</td>\n      <td>Garantía: Como es visto no hay garantía Financ...</td>\n    </tr>\n    <tr>\n      <th>14</th>\n      <td>Volkswagen Jetta</td>\n      <td>2002</td>\n      <td>258000</td>\n      <td>Gasolina</td>\n      <td>4250</td>\n      <td>Precio negociable: si Caja automatica, motor 1...</td>\n    </tr>\n    <tr>\n      <th>15</th>\n      <td>Nissan Sentra</td>\n      <td>2018</td>\n      <td>57000</td>\n      <td>Gasolina</td>\n      <td>8700</td>\n      <td>Color : GRIS DESCRIPCIÓN CALIFICACIONES SEGURI...</td>\n    </tr>\n    <tr>\n      <th>16</th>\n      <td>Toyota Corolla</td>\n      <td>2010</td>\n      <td>168000</td>\n      <td>Gasolina</td>\n      <td>7700</td>\n      <td>DESCRIPCIÓN CALIFICACIONES SEGURIDAD Vendo Car...</td>\n    </tr>\n    <tr>\n      <th>17</th>\n      <td>Toyota Yaris</td>\n      <td>2014</td>\n      <td>58300</td>\n      <td>Gasolina</td>\n      <td>11500</td>\n      <td>Color : Vino metálico Mantenimiento al día en ...</td>\n    </tr>\n    <tr>\n      <th>18</th>\n      <td>Chevrolet Aveo</td>\n      <td>2017</td>\n      <td>43000</td>\n      <td>Gasolina</td>\n      <td>14300</td>\n      <td>Precio negociable: si Color : Blanco DESCRIPCI...</td>\n    </tr>\n    <tr>\n      <th>19</th>\n      <td>Toyota Yaris</td>\n      <td>2008</td>\n      <td>271000</td>\n      <td>Gasolina</td>\n      <td>6900</td>\n      <td>Precio negociable: si Mitsubishi mirage G4 201...</td>\n    </tr>\n    <tr>\n      <th>20</th>\n      <td>Mitsubishi Mirage G4</td>\n      <td>2019</td>\n      <td>76700</td>\n      <td>Gasolina</td>\n      <td>8500</td>\n      <td>Financiamiento: no Precio negociable: no DESCR...</td>\n    </tr>\n    <tr>\n      <th>21</th>\n      <td>Toyota Corolla</td>\n      <td>2014</td>\n      <td>116260</td>\n      <td>Gasolina</td>\n      <td>9500</td>\n      <td>Color : ROJO DESCRIPCIÓN CALIFICACIONES SEGURI...</td>\n    </tr>\n    <tr>\n      <th>22</th>\n      <td>Kia Rio</td>\n      <td>2017</td>\n      <td>120000</td>\n      <td>Gasolina</td>\n      <td>8600</td>\n      <td>Color : Gris Motor 1.5 Aire acondicionado Rine...</td>\n    </tr>\n    <tr>\n      <th>23</th>\n      <td>Scion iA</td>\n      <td>2016</td>\n      <td>1</td>\n      <td>Gasolina</td>\n      <td>8500</td>\n      <td>Garantía: Como es visto no hay garantía Financ...</td>\n    </tr>\n    <tr>\n      <th>24</th>\n      <td>Volkswagen Golf</td>\n      <td>1996</td>\n      <td>200000</td>\n      <td>Gasolina</td>\n      <td>2000</td>\n      <td>DESCRIPCIÓN ARTÍCULOS CALIFICACIONES SEGURIDAD...</td>\n    </tr>\n    <tr>\n      <th>25</th>\n      <td>Dodge Caliber</td>\n      <td>2008</td>\n      <td>132856</td>\n      <td>Gasolina</td>\n      <td>4800</td>\n      <td>Garantía: Como es visto no hay garantía Precio...</td>\n    </tr>\n    <tr>\n      <th>26</th>\n      <td>Toyota Corolla</td>\n      <td>2009</td>\n      <td>195504</td>\n      <td>Híbrido</td>\n      <td>17000</td>\n      <td>No description</td>\n    </tr>\n    <tr>\n      <th>27</th>\n      <td>Toyota iA</td>\n      <td>2018</td>\n      <td>66</td>\n      <td>Gasolina</td>\n      <td>11000</td>\n      <td>Precio negociable: si Color : Azul Se vende to...</td>\n    </tr>\n    <tr>\n      <th>28</th>\n      <td>Nissan Versa</td>\n      <td>2020</td>\n      <td>28235</td>\n      <td>Gasolina</td>\n      <td>8200</td>\n      <td>Precio negociable: si Bonito Nissan Versa 2020...</td>\n    </tr>\n    <tr>\n      <th>29</th>\n      <td>Kia Rio</td>\n      <td>2016</td>\n      <td>97911</td>\n      <td>Gasolina</td>\n      <td>7500</td>\n      <td>Financiamiento: no Precio negociable: si Color...</td>\n    </tr>\n    <tr>\n      <th>30</th>\n      <td>Nissan Sentra</td>\n      <td>2017</td>\n      <td>86000</td>\n      <td>Gasolina</td>\n      <td>7900</td>\n      <td>Precio negociable: si Color : gris DESCRIPCIÓN...</td>\n    </tr>\n    <tr>\n      <th>31</th>\n      <td>Mitsubishi Lancer</td>\n      <td>2015</td>\n      <td>64000</td>\n      <td>Gasolina</td>\n      <td>7200</td>\n      <td>Garantía: Como es visto no hay garantía Precio...</td>\n    </tr>\n    <tr>\n      <th>32</th>\n      <td>Nissan Sentra</td>\n      <td>2013</td>\n      <td>140000</td>\n      <td>Gasolina</td>\n      <td>6200</td>\n      <td>Precio negociable: no DESCRIPCIÓN CALIFICACION...</td>\n    </tr>\n    <tr>\n      <th>33</th>\n      <td>Nissan Sentra</td>\n      <td>2014</td>\n      <td>73233</td>\n      <td>Gasolina</td>\n      <td>7300</td>\n      <td>Financiamiento: no DESCRIPCIÓN CALIFICACIONES ...</td>\n    </tr>\n    <tr>\n      <th>34</th>\n      <td>Kia Rio</td>\n      <td>2016</td>\n      <td>64000</td>\n      <td>Gasolina</td>\n      <td>8200</td>\n      <td>Precio negociable: si Color : Blanco DESCRIPCI...</td>\n    </tr>\n    <tr>\n      <th>35</th>\n      <td>Nissan Sentra</td>\n      <td>2002</td>\n      <td>0</td>\n      <td>Gasolina</td>\n      <td>4500</td>\n      <td>DESCRIPCIÓN CALIFICACIONES SEGURIDAD Nissan se...</td>\n    </tr>\n    <tr>\n      <th>36</th>\n      <td>Hyundai Accent</td>\n      <td>2014</td>\n      <td>7600</td>\n      <td>Gasolina</td>\n      <td>7600</td>\n      <td>Precio negociable: si Color : Plateado DESCRIP...</td>\n    </tr>\n    <tr>\n      <th>37</th>\n      <td>Kia Rio</td>\n      <td>2016</td>\n      <td>82500</td>\n      <td>Gasolina</td>\n      <td>9500</td>\n      <td>Precio negociable: si Color : Negro DESCRIPCIÓ...</td>\n    </tr>\n    <tr>\n      <th>38</th>\n      <td>Hyundai Elantra</td>\n      <td>2018</td>\n      <td>41200</td>\n      <td>Gasolina</td>\n      <td>11000</td>\n      <td>Color : NEGRO YA TIENE PLACAS WhatsApp o Teleg...</td>\n    </tr>\n    <tr>\n      <th>39</th>\n      <td>Nissan Sentra</td>\n      <td>2013</td>\n      <td>74000</td>\n      <td>Gasolina</td>\n      <td>6700</td>\n      <td>Precio negociable: si Color : Gris DESCRIPCIÓN...</td>\n    </tr>\n    <tr>\n      <th>40</th>\n      <td>Nissan Sentra</td>\n      <td>2013</td>\n      <td>14000</td>\n      <td>Gasolina</td>\n      <td>6200</td>\n      <td>Color : Negro DESCRIPCIÓN CALIFICACIONES SEGUR...</td>\n    </tr>\n    <tr>\n      <th>41</th>\n      <td>Hyundai Accent</td>\n      <td>2014</td>\n      <td>66000</td>\n      <td>Gasolina</td>\n      <td>7500</td>\n      <td>Precio negociable: si Color : CELESTE METALICO...</td>\n    </tr>\n  </tbody>\n</table>\n</div>"
     },
     "execution_count": 78,
     "metadata": {},
     "output_type": "execute_result"
    }
   ],
   "source": [
    "df_temp"
   ],
   "metadata": {
    "collapsed": false
   }
  }
 ],
 "metadata": {
  "kernelspec": {
   "display_name": "Python 3",
   "language": "python",
   "name": "python3"
  },
  "language_info": {
   "codemirror_mode": {
    "name": "ipython",
    "version": 2
   },
   "file_extension": ".py",
   "mimetype": "text/x-python",
   "name": "python",
   "nbconvert_exporter": "python",
   "pygments_lexer": "ipython2",
   "version": "2.7.6"
  }
 },
 "nbformat": 4,
 "nbformat_minor": 0
}
