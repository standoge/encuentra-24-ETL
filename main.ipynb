{
 "cells": [
  {
   "cell_type": "code",
   "execution_count": 73,
   "outputs": [],
   "source": [
    "from selenium import webdriver\n",
    "from selenium.webdriver.common.by import By"
   ],
   "metadata": {
    "collapsed": false
   }
  },
  {
   "cell_type": "code",
   "execution_count": 74,
   "outputs": [],
   "source": [
    "URL = \"https://www.encuentra24.com/el-salvador-es/autos-usados?q=f_style.3|imagesonly.on|number.50\""
   ],
   "metadata": {
    "collapsed": false
   }
  },
  {
   "cell_type": "code",
   "execution_count": 75,
   "outputs": [],
   "source": [
    "driver = webdriver.Edge(executable_path=\"./utils/msedgedriver.exe\")\n",
    "driver.get(URL)"
   ],
   "metadata": {
    "collapsed": false
   }
  },
  {
   "cell_type": "code",
   "execution_count": 76,
   "outputs": [],
   "source": [
    "def select_country(country:str):\n",
    "    country = f\"/{country}-es/clasificados\"\n",
    "    path = f\"//a[contains(@href, '{country}')]\"\n",
    "    print(path)\n",
    "    return driver.find_element(by=By.XPATH, value=path)"
   ],
   "metadata": {
    "collapsed": false
   }
  },
  {
   "cell_type": "code",
   "execution_count": 77,
   "outputs": [],
   "source": [
    "def close_window():\n",
    "    button = \"//a[@class='btn btn-subscription-light']\"\n",
    "    driver.find_element(by=By.XPATH, value=button).click()"
   ],
   "metadata": {
    "collapsed": false
   }
  },
  {
   "cell_type": "code",
   "execution_count": 78,
   "outputs": [],
   "source": [
    "def choose_category(category:str):\n",
    "    driver.find_element(by=By.XPATH, value=category).click()"
   ],
   "metadata": {
    "collapsed": false
   }
  },
  {
   "cell_type": "code",
   "execution_count": 79,
   "outputs": [],
   "source": [
    "def price():\n",
    "    price:str = \"//div[@class='ann-ad-tile__price']\""
   ],
   "metadata": {
    "collapsed": false
   }
  },
  {
   "cell_type": "code",
   "execution_count": 80,
   "outputs": [],
   "source": [
    "close_window()"
   ],
   "metadata": {
    "collapsed": false
   }
  },
  {
   "cell_type": "markdown",
   "source": [
    "### Container"
   ],
   "metadata": {
    "collapsed": false
   }
  },
  {
   "cell_type": "code",
   "execution_count": 81,
   "outputs": [
    {
     "data": {
      "text/plain": "[<selenium.webdriver.remote.webelement.WebElement (session=\"77a57eb8da8f62aa4ed589eb58591fca\", element=\"b1af2963-19c2-4c2f-a2a1-f5e325a53157\")>]"
     },
     "execution_count": 81,
     "metadata": {},
     "output_type": "execute_result"
    }
   ],
   "source": [
    "elements = driver.find_elements(by=By.XPATH, value=\"//div[@class='ann-subcat-listing']\")\n",
    "elements"
   ],
   "metadata": {
    "collapsed": false
   }
  },
  {
   "cell_type": "markdown",
   "source": [
    "### Prices"
   ],
   "metadata": {
    "collapsed": false
   }
  },
  {
   "cell_type": "code",
   "execution_count": 82,
   "outputs": [
    {
     "data": {
      "text/plain": "[<selenium.webdriver.remote.webelement.WebElement (session=\"77a57eb8da8f62aa4ed589eb58591fca\", element=\"e386fafa-dc38-4ca3-a50f-743d3b9f36e1\")>,\n <selenium.webdriver.remote.webelement.WebElement (session=\"77a57eb8da8f62aa4ed589eb58591fca\", element=\"dfa66d6b-28d4-4253-bf52-70c06b8093cd\")>,\n <selenium.webdriver.remote.webelement.WebElement (session=\"77a57eb8da8f62aa4ed589eb58591fca\", element=\"bcaefdf4-30ef-4581-a523-5283a1ecb403\")>,\n <selenium.webdriver.remote.webelement.WebElement (session=\"77a57eb8da8f62aa4ed589eb58591fca\", element=\"bc8be6f6-7717-4437-b23f-da7a938a40a1\")>,\n <selenium.webdriver.remote.webelement.WebElement (session=\"77a57eb8da8f62aa4ed589eb58591fca\", element=\"242731ca-1faf-4335-a568-26e14fb2f938\")>,\n <selenium.webdriver.remote.webelement.WebElement (session=\"77a57eb8da8f62aa4ed589eb58591fca\", element=\"a3b9c001-dca2-4a11-9681-62a1793b9f1f\")>,\n <selenium.webdriver.remote.webelement.WebElement (session=\"77a57eb8da8f62aa4ed589eb58591fca\", element=\"82aba1c9-35e1-4c33-b2dc-6c3bbe96ffd7\")>,\n <selenium.webdriver.remote.webelement.WebElement (session=\"77a57eb8da8f62aa4ed589eb58591fca\", element=\"784984fb-491b-4325-bded-63bbbb90b295\")>,\n <selenium.webdriver.remote.webelement.WebElement (session=\"77a57eb8da8f62aa4ed589eb58591fca\", element=\"2b3464ce-e79f-4da9-91ae-4afd1d2fe76b\")>,\n <selenium.webdriver.remote.webelement.WebElement (session=\"77a57eb8da8f62aa4ed589eb58591fca\", element=\"2f29fcdb-a31a-4971-85c8-562ac7947f13\")>,\n <selenium.webdriver.remote.webelement.WebElement (session=\"77a57eb8da8f62aa4ed589eb58591fca\", element=\"531e96e0-2c0c-424d-8b2f-c9c868f1ae0b\")>,\n <selenium.webdriver.remote.webelement.WebElement (session=\"77a57eb8da8f62aa4ed589eb58591fca\", element=\"f0c357b3-0c81-44bd-aa45-56de450015be\")>,\n <selenium.webdriver.remote.webelement.WebElement (session=\"77a57eb8da8f62aa4ed589eb58591fca\", element=\"961846df-f228-433f-b4d0-8dd06643a41e\")>,\n <selenium.webdriver.remote.webelement.WebElement (session=\"77a57eb8da8f62aa4ed589eb58591fca\", element=\"d0638b01-70a8-4b85-ace6-5ac193a99b8f\")>,\n <selenium.webdriver.remote.webelement.WebElement (session=\"77a57eb8da8f62aa4ed589eb58591fca\", element=\"4f249503-6d8c-47d2-a821-44553572ad3d\")>,\n <selenium.webdriver.remote.webelement.WebElement (session=\"77a57eb8da8f62aa4ed589eb58591fca\", element=\"3df35900-efea-4e41-8469-7c48d7bb8184\")>,\n <selenium.webdriver.remote.webelement.WebElement (session=\"77a57eb8da8f62aa4ed589eb58591fca\", element=\"7605c51e-210a-4055-be70-603fdeff94e1\")>,\n <selenium.webdriver.remote.webelement.WebElement (session=\"77a57eb8da8f62aa4ed589eb58591fca\", element=\"d319cc76-eb7d-41dc-bf06-c92285eecc31\")>,\n <selenium.webdriver.remote.webelement.WebElement (session=\"77a57eb8da8f62aa4ed589eb58591fca\", element=\"52419f78-0f7c-46ef-b2e0-68a473fee9fe\")>,\n <selenium.webdriver.remote.webelement.WebElement (session=\"77a57eb8da8f62aa4ed589eb58591fca\", element=\"aaa807ab-2af8-464f-83eb-8e294d61808b\")>,\n <selenium.webdriver.remote.webelement.WebElement (session=\"77a57eb8da8f62aa4ed589eb58591fca\", element=\"a3d2d57e-5293-4c86-8398-3f3c2653bfea\")>,\n <selenium.webdriver.remote.webelement.WebElement (session=\"77a57eb8da8f62aa4ed589eb58591fca\", element=\"bc5665c8-71a4-46a2-8493-64a521d40f3c\")>,\n <selenium.webdriver.remote.webelement.WebElement (session=\"77a57eb8da8f62aa4ed589eb58591fca\", element=\"106adc9a-baa1-46e6-94f4-f7f32da2c6f8\")>,\n <selenium.webdriver.remote.webelement.WebElement (session=\"77a57eb8da8f62aa4ed589eb58591fca\", element=\"56ed17c6-1116-4731-a02f-f8c515ee379e\")>,\n <selenium.webdriver.remote.webelement.WebElement (session=\"77a57eb8da8f62aa4ed589eb58591fca\", element=\"6475d975-f029-4476-af0c-5a5de1873868\")>,\n <selenium.webdriver.remote.webelement.WebElement (session=\"77a57eb8da8f62aa4ed589eb58591fca\", element=\"54d7dc79-b5c5-4183-bf60-adc8d56c7a25\")>,\n <selenium.webdriver.remote.webelement.WebElement (session=\"77a57eb8da8f62aa4ed589eb58591fca\", element=\"af9ac842-a31a-4828-8d78-888df2da0940\")>,\n <selenium.webdriver.remote.webelement.WebElement (session=\"77a57eb8da8f62aa4ed589eb58591fca\", element=\"0e0f7c8f-10ce-4065-8f5c-ab432b8627b9\")>,\n <selenium.webdriver.remote.webelement.WebElement (session=\"77a57eb8da8f62aa4ed589eb58591fca\", element=\"718cf8b0-0248-4ee6-85d3-02d653ec6b90\")>,\n <selenium.webdriver.remote.webelement.WebElement (session=\"77a57eb8da8f62aa4ed589eb58591fca\", element=\"7ac1c14a-c730-4300-91d5-082fc91bf01f\")>,\n <selenium.webdriver.remote.webelement.WebElement (session=\"77a57eb8da8f62aa4ed589eb58591fca\", element=\"175749e9-3b14-4c80-b281-f8a447559866\")>,\n <selenium.webdriver.remote.webelement.WebElement (session=\"77a57eb8da8f62aa4ed589eb58591fca\", element=\"04541009-b856-4ee2-8b06-15fe0cfe8363\")>,\n <selenium.webdriver.remote.webelement.WebElement (session=\"77a57eb8da8f62aa4ed589eb58591fca\", element=\"d658b82a-34fd-4581-82ed-292b56277879\")>,\n <selenium.webdriver.remote.webelement.WebElement (session=\"77a57eb8da8f62aa4ed589eb58591fca\", element=\"f31aa5cb-2052-4340-9491-4f44e1d53f6d\")>,\n <selenium.webdriver.remote.webelement.WebElement (session=\"77a57eb8da8f62aa4ed589eb58591fca\", element=\"5aed7450-033d-4257-a518-159afc272093\")>,\n <selenium.webdriver.remote.webelement.WebElement (session=\"77a57eb8da8f62aa4ed589eb58591fca\", element=\"e26f9bcf-59e4-4b27-a150-a6e994c48934\")>,\n <selenium.webdriver.remote.webelement.WebElement (session=\"77a57eb8da8f62aa4ed589eb58591fca\", element=\"508c7ac8-7f77-4082-b345-b4ea8c5687ee\")>,\n <selenium.webdriver.remote.webelement.WebElement (session=\"77a57eb8da8f62aa4ed589eb58591fca\", element=\"ce601c52-f44b-481c-a9f2-e63e8c5d9b22\")>,\n <selenium.webdriver.remote.webelement.WebElement (session=\"77a57eb8da8f62aa4ed589eb58591fca\", element=\"f3286c21-e6f2-4fd8-94b5-113fe07a281e\")>,\n <selenium.webdriver.remote.webelement.WebElement (session=\"77a57eb8da8f62aa4ed589eb58591fca\", element=\"496cced0-e110-4387-a23c-9000e876bca4\")>,\n <selenium.webdriver.remote.webelement.WebElement (session=\"77a57eb8da8f62aa4ed589eb58591fca\", element=\"a335c816-882e-47a4-92c6-1e91972c256c\")>,\n <selenium.webdriver.remote.webelement.WebElement (session=\"77a57eb8da8f62aa4ed589eb58591fca\", element=\"801b2fb0-d762-479e-af6b-85643d099c1e\")>,\n <selenium.webdriver.remote.webelement.WebElement (session=\"77a57eb8da8f62aa4ed589eb58591fca\", element=\"513a45f2-0bc0-4ade-b506-5aa9cae7b763\")>,\n <selenium.webdriver.remote.webelement.WebElement (session=\"77a57eb8da8f62aa4ed589eb58591fca\", element=\"1c03b84f-eb99-4a20-ab6c-ee1cfa54cd01\")>,\n <selenium.webdriver.remote.webelement.WebElement (session=\"77a57eb8da8f62aa4ed589eb58591fca\", element=\"9bce8f58-d5fa-4201-8eda-18ead3dc76e7\")>,\n <selenium.webdriver.remote.webelement.WebElement (session=\"77a57eb8da8f62aa4ed589eb58591fca\", element=\"77b857a9-8aa9-4fc4-95dd-e5a8a8645155\")>,\n <selenium.webdriver.remote.webelement.WebElement (session=\"77a57eb8da8f62aa4ed589eb58591fca\", element=\"3052a350-33fc-49cd-8fcd-c0dfbd845745\")>,\n <selenium.webdriver.remote.webelement.WebElement (session=\"77a57eb8da8f62aa4ed589eb58591fca\", element=\"5bdac19f-6a75-4869-8f0c-25401de8808f\")>,\n <selenium.webdriver.remote.webelement.WebElement (session=\"77a57eb8da8f62aa4ed589eb58591fca\", element=\"ee75575f-8666-46a5-a93e-75c5283c86b2\")>,\n <selenium.webdriver.remote.webelement.WebElement (session=\"77a57eb8da8f62aa4ed589eb58591fca\", element=\"699544c7-e7fd-4d8d-a350-8249f6d2da76\")>]"
     },
     "execution_count": 82,
     "metadata": {},
     "output_type": "execute_result"
    }
   ],
   "source": [
    "prices_obs = driver.find_elements(by=By.XPATH, value=\"//div[@class='ann-ad-tile__price']\")\n",
    "prices_obs"
   ],
   "metadata": {
    "collapsed": false
   }
  },
  {
   "cell_type": "markdown",
   "source": [
    "### Description"
   ],
   "metadata": {
    "collapsed": false
   }
  },
  {
   "cell_type": "code",
   "execution_count": 83,
   "outputs": [],
   "source": [
    "ad:str = \"//div[@class='ann-ad-tile__content']\"\n",
    "descrip:str = \"//div[@class='row-fluid']\""
   ],
   "metadata": {
    "collapsed": false
   }
  },
  {
   "cell_type": "code",
   "execution_count": 84,
   "outputs": [],
   "source": [
    "def description(element:object) -> object:\n",
    "    descriptions:object = element.find_element(by=By.XPATH, value=descrip)\n",
    "    return descriptions.text"
   ],
   "metadata": {
    "collapsed": false
   }
  },
  {
   "cell_type": "code",
   "execution_count": 85,
   "outputs": [],
   "source": [
    "def elements(driver:object) -> object:\n",
    "   ads:list[object] = driver.find_elements(by=By.XPATH, value=ad)\n",
    "   return ads"
   ],
   "metadata": {
    "collapsed": false
   }
  },
  {
   "cell_type": "code",
   "execution_count": 86,
   "outputs": [],
   "source": [
    "def back(element):\n",
    "    exit:str = \"//div[@clas='d3-detailpager__element d3-detailpager__element--back']/a\"\n",
    "    element.find_element(by=By.XPATH, value=exit).click()"
   ],
   "metadata": {
    "collapsed": false
   }
  },
  {
   "cell_type": "code",
   "execution_count": 87,
   "outputs": [],
   "source": [
    "def clean_text(text:str, character, new_char) -> str:\n",
    "    return text.replace(character,new_char)"
   ],
   "metadata": {
    "collapsed": false
   }
  },
  {
   "cell_type": "code",
   "execution_count": 88,
   "outputs": [
    {
     "ename": "StaleElementReferenceException",
     "evalue": "Message: stale element reference: element is not attached to the page document\n  (Session info: MicrosoftEdge=109.0.1518.78)\n",
     "output_type": "error",
     "traceback": [
      "\u001B[1;31m---------------------------------------------------------------------------\u001B[0m",
      "\u001B[1;31mStaleElementReferenceException\u001B[0m            Traceback (most recent call last)",
      "Cell \u001B[1;32mIn[88], line 5\u001B[0m\n\u001B[0;32m      3\u001B[0m \u001B[38;5;28;01mfor\u001B[39;00m element \u001B[38;5;129;01min\u001B[39;00m els:\n\u001B[0;32m      4\u001B[0m     element\u001B[38;5;241m.\u001B[39mclick()\n\u001B[1;32m----> 5\u001B[0m     criptions\u001B[38;5;241m.\u001B[39mappend(\u001B[43mdescription\u001B[49m\u001B[43m(\u001B[49m\u001B[43melement\u001B[49m\u001B[43m)\u001B[49m)\n\u001B[0;32m      6\u001B[0m     back(element)\n",
      "Cell \u001B[1;32mIn[84], line 2\u001B[0m, in \u001B[0;36mdescription\u001B[1;34m(element)\u001B[0m\n\u001B[0;32m      1\u001B[0m \u001B[38;5;28;01mdef\u001B[39;00m \u001B[38;5;21mdescription\u001B[39m(element:\u001B[38;5;28mobject\u001B[39m) \u001B[38;5;241m-\u001B[39m\u001B[38;5;241m>\u001B[39m \u001B[38;5;28mobject\u001B[39m:\n\u001B[1;32m----> 2\u001B[0m     descriptions:\u001B[38;5;28mobject\u001B[39m \u001B[38;5;241m=\u001B[39m \u001B[43melement\u001B[49m\u001B[38;5;241;43m.\u001B[39;49m\u001B[43mfind_element\u001B[49m\u001B[43m(\u001B[49m\u001B[43mby\u001B[49m\u001B[38;5;241;43m=\u001B[39;49m\u001B[43mBy\u001B[49m\u001B[38;5;241;43m.\u001B[39;49m\u001B[43mXPATH\u001B[49m\u001B[43m,\u001B[49m\u001B[43m \u001B[49m\u001B[43mvalue\u001B[49m\u001B[38;5;241;43m=\u001B[39;49m\u001B[43mdescrip\u001B[49m\u001B[43m)\u001B[49m\n\u001B[0;32m      3\u001B[0m     \u001B[38;5;28;01mreturn\u001B[39;00m descriptions\u001B[38;5;241m.\u001B[39mtext\n",
      "File \u001B[1;32m~\\miniconda3\\envs\\Scraping\\lib\\site-packages\\selenium\\webdriver\\remote\\webelement.py:658\u001B[0m, in \u001B[0;36mWebElement.find_element\u001B[1;34m(self, by, value)\u001B[0m\n\u001B[0;32m    655\u001B[0m         by \u001B[38;5;241m=\u001B[39m By\u001B[38;5;241m.\u001B[39mCSS_SELECTOR\n\u001B[0;32m    656\u001B[0m         value \u001B[38;5;241m=\u001B[39m \u001B[38;5;124m'\u001B[39m\u001B[38;5;124m[name=\u001B[39m\u001B[38;5;124m\"\u001B[39m\u001B[38;5;132;01m%s\u001B[39;00m\u001B[38;5;124m\"\u001B[39m\u001B[38;5;124m]\u001B[39m\u001B[38;5;124m'\u001B[39m \u001B[38;5;241m%\u001B[39m value\n\u001B[1;32m--> 658\u001B[0m \u001B[38;5;28;01mreturn\u001B[39;00m \u001B[38;5;28;43mself\u001B[39;49m\u001B[38;5;241;43m.\u001B[39;49m\u001B[43m_execute\u001B[49m\u001B[43m(\u001B[49m\u001B[43mCommand\u001B[49m\u001B[38;5;241;43m.\u001B[39;49m\u001B[43mFIND_CHILD_ELEMENT\u001B[49m\u001B[43m,\u001B[49m\n\u001B[0;32m    659\u001B[0m \u001B[43m                     \u001B[49m\u001B[43m{\u001B[49m\u001B[38;5;124;43m\"\u001B[39;49m\u001B[38;5;124;43musing\u001B[39;49m\u001B[38;5;124;43m\"\u001B[39;49m\u001B[43m:\u001B[49m\u001B[43m \u001B[49m\u001B[43mby\u001B[49m\u001B[43m,\u001B[49m\u001B[43m \u001B[49m\u001B[38;5;124;43m\"\u001B[39;49m\u001B[38;5;124;43mvalue\u001B[39;49m\u001B[38;5;124;43m\"\u001B[39;49m\u001B[43m:\u001B[49m\u001B[43m \u001B[49m\u001B[43mvalue\u001B[49m\u001B[43m}\u001B[49m\u001B[43m)\u001B[49m[\u001B[38;5;124m'\u001B[39m\u001B[38;5;124mvalue\u001B[39m\u001B[38;5;124m'\u001B[39m]\n",
      "File \u001B[1;32m~\\miniconda3\\envs\\Scraping\\lib\\site-packages\\selenium\\webdriver\\remote\\webelement.py:633\u001B[0m, in \u001B[0;36mWebElement._execute\u001B[1;34m(self, command, params)\u001B[0m\n\u001B[0;32m    631\u001B[0m     params \u001B[38;5;241m=\u001B[39m {}\n\u001B[0;32m    632\u001B[0m params[\u001B[38;5;124m'\u001B[39m\u001B[38;5;124mid\u001B[39m\u001B[38;5;124m'\u001B[39m] \u001B[38;5;241m=\u001B[39m \u001B[38;5;28mself\u001B[39m\u001B[38;5;241m.\u001B[39m_id\n\u001B[1;32m--> 633\u001B[0m \u001B[38;5;28;01mreturn\u001B[39;00m \u001B[38;5;28;43mself\u001B[39;49m\u001B[38;5;241;43m.\u001B[39;49m\u001B[43m_parent\u001B[49m\u001B[38;5;241;43m.\u001B[39;49m\u001B[43mexecute\u001B[49m\u001B[43m(\u001B[49m\u001B[43mcommand\u001B[49m\u001B[43m,\u001B[49m\u001B[43m \u001B[49m\u001B[43mparams\u001B[49m\u001B[43m)\u001B[49m\n",
      "File \u001B[1;32m~\\miniconda3\\envs\\Scraping\\lib\\site-packages\\selenium\\webdriver\\remote\\webdriver.py:321\u001B[0m, in \u001B[0;36mWebDriver.execute\u001B[1;34m(self, driver_command, params)\u001B[0m\n\u001B[0;32m    319\u001B[0m response \u001B[38;5;241m=\u001B[39m \u001B[38;5;28mself\u001B[39m\u001B[38;5;241m.\u001B[39mcommand_executor\u001B[38;5;241m.\u001B[39mexecute(driver_command, params)\n\u001B[0;32m    320\u001B[0m \u001B[38;5;28;01mif\u001B[39;00m response:\n\u001B[1;32m--> 321\u001B[0m     \u001B[38;5;28;43mself\u001B[39;49m\u001B[38;5;241;43m.\u001B[39;49m\u001B[43merror_handler\u001B[49m\u001B[38;5;241;43m.\u001B[39;49m\u001B[43mcheck_response\u001B[49m\u001B[43m(\u001B[49m\u001B[43mresponse\u001B[49m\u001B[43m)\u001B[49m\n\u001B[0;32m    322\u001B[0m     response[\u001B[38;5;124m'\u001B[39m\u001B[38;5;124mvalue\u001B[39m\u001B[38;5;124m'\u001B[39m] \u001B[38;5;241m=\u001B[39m \u001B[38;5;28mself\u001B[39m\u001B[38;5;241m.\u001B[39m_unwrap_value(\n\u001B[0;32m    323\u001B[0m         response\u001B[38;5;241m.\u001B[39mget(\u001B[38;5;124m'\u001B[39m\u001B[38;5;124mvalue\u001B[39m\u001B[38;5;124m'\u001B[39m, \u001B[38;5;28;01mNone\u001B[39;00m))\n\u001B[0;32m    324\u001B[0m     \u001B[38;5;28;01mreturn\u001B[39;00m response\n",
      "File \u001B[1;32m~\\miniconda3\\envs\\Scraping\\lib\\site-packages\\selenium\\webdriver\\remote\\errorhandler.py:242\u001B[0m, in \u001B[0;36mErrorHandler.check_response\u001B[1;34m(self, response)\u001B[0m\n\u001B[0;32m    240\u001B[0m         alert_text \u001B[38;5;241m=\u001B[39m value[\u001B[38;5;124m'\u001B[39m\u001B[38;5;124malert\u001B[39m\u001B[38;5;124m'\u001B[39m]\u001B[38;5;241m.\u001B[39mget(\u001B[38;5;124m'\u001B[39m\u001B[38;5;124mtext\u001B[39m\u001B[38;5;124m'\u001B[39m)\n\u001B[0;32m    241\u001B[0m     \u001B[38;5;28;01mraise\u001B[39;00m exception_class(message, screen, stacktrace, alert_text)\n\u001B[1;32m--> 242\u001B[0m \u001B[38;5;28;01mraise\u001B[39;00m exception_class(message, screen, stacktrace)\n",
      "\u001B[1;31mStaleElementReferenceException\u001B[0m: Message: stale element reference: element is not attached to the page document\n  (Session info: MicrosoftEdge=109.0.1518.78)\n"
     ]
    }
   ],
   "source": [
    "els = elements(driver)\n",
    "criptions = []\n",
    "for element in els:\n",
    "    element.click()\n",
    "    criptions.append(description(element))\n",
    "    back(element)"
   ],
   "metadata": {
    "collapsed": false
   }
  },
  {
   "cell_type": "code",
   "execution_count": null,
   "outputs": [],
   "source": [
    "# exit:str = \"//div[@clas='d3-detailpager__element d3-detailpager__element--back']\"\n",
    "# driver.find_element(by=By.XPATH, value=exit).click()"
   ],
   "metadata": {
    "collapsed": false
   }
  }
 ],
 "metadata": {
  "kernelspec": {
   "display_name": "Python 3",
   "language": "python",
   "name": "python3"
  },
  "language_info": {
   "codemirror_mode": {
    "name": "ipython",
    "version": 2
   },
   "file_extension": ".py",
   "mimetype": "text/x-python",
   "name": "python",
   "nbconvert_exporter": "python",
   "pygments_lexer": "ipython2",
   "version": "2.7.6"
  }
 },
 "nbformat": 4,
 "nbformat_minor": 0
}
