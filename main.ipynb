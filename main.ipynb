{
 "cells": [
  {
   "cell_type": "code",
   "execution_count": 42,
   "outputs": [],
   "source": [
    "import yaml\n",
    "import pandas as pd"
   ],
   "metadata": {
    "collapsed": false
   }
  },
  {
   "cell_type": "code",
   "execution_count": 43,
   "outputs": [],
   "source": [
    "from selenium import webdriver\n",
    "from selenium.webdriver.common.by import By\n",
    "from selenium.webdriver.support.ui import WebDriverWait\n",
    "from selenium.webdriver.support import expected_conditions as EC\n",
    "from selenium.common.exceptions import TimeoutException"
   ],
   "metadata": {
    "collapsed": false
   }
  },
  {
   "cell_type": "code",
   "execution_count": 44,
   "outputs": [],
   "source": [
    "options = webdriver.ChromeOptions()\n",
    "options.add_argument(\"--incognito\")"
   ],
   "metadata": {
    "collapsed": false
   }
  },
  {
   "cell_type": "code",
   "execution_count": 45,
   "outputs": [],
   "source": [
    "from selenium.common.exceptions import NoSuchElementException"
   ],
   "metadata": {
    "collapsed": false
   }
  },
  {
   "cell_type": "code",
   "execution_count": 46,
   "outputs": [],
   "source": [
    "edge:object = webdriver.Edge(executable_path=\"./utils/msedgedriver.exe\")"
   ],
   "metadata": {
    "collapsed": false
   }
  },
  {
   "cell_type": "markdown",
   "source": [
    "### Functions:"
   ],
   "metadata": {
    "collapsed": false
   }
  },
  {
   "cell_type": "code",
   "execution_count": 47,
   "outputs": [],
   "source": [
    "def resources(name:str) -> dict[str:str]:\n",
    "    with open(\"xpath.yml\", \"r\") as f:\n",
    "        content:dict[str:str] = yaml.safe_load(f)\n",
    "        return content[name]"
   ],
   "metadata": {
    "collapsed": false
   }
  },
  {
   "cell_type": "code",
   "execution_count": 48,
   "outputs": [],
   "source": [
    "def close_window(driver:object) -> None:\n",
    "    button:str = \"//a[@class='btn btn-subscription-light']\"\n",
    "    driver.find_element(by=By.XPATH, value=button).click()"
   ],
   "metadata": {
    "collapsed": false
   }
  },
  {
   "cell_type": "code",
   "execution_count": 49,
   "outputs": [],
   "source": [
    "def choose_category(category:str, driver:object) -> None:\n",
    "    driver.find_element(by=By.XPATH, value=category).click()"
   ],
   "metadata": {
    "collapsed": false
   }
  },
  {
   "cell_type": "code",
   "execution_count": 50,
   "outputs": [],
   "source": [
    "def close_ad(element:object,path:str) -> None:\n",
    "    button = element.find_element(by=By.XPATH, value=path)\n",
    "    button.click()"
   ],
   "metadata": {
    "collapsed": false
   }
  },
  {
   "cell_type": "code",
   "execution_count": 51,
   "outputs": [],
   "source": [
    "def extract_description(element:object, path:str) -> str:\n",
    "    description:str = element.find_element(by=By.XPATH, value=path)\n",
    "    return description"
   ],
   "metadata": {
    "collapsed": false
   }
  },
  {
   "cell_type": "markdown",
   "source": [
    "## Extraction 🧲"
   ],
   "metadata": {
    "collapsed": false
   }
  },
  {
   "cell_type": "markdown",
   "source": [
    "### Sedan cars:"
   ],
   "metadata": {
    "collapsed": false
   }
  },
  {
   "cell_type": "code",
   "execution_count": 52,
   "outputs": [],
   "source": [
    "descriptions:list[str] = []\n",
    "prices:list[int] = []\n",
    "models:list[str] = []\n",
    "# seconds\n",
    "DELAY = 3"
   ],
   "metadata": {
    "collapsed": false
   }
  },
  {
   "cell_type": "code",
   "execution_count": 53,
   "outputs": [],
   "source": [
    "sedan = resources(\"cars_sedan\")"
   ],
   "metadata": {
    "collapsed": false
   }
  },
  {
   "cell_type": "code",
   "execution_count": 54,
   "outputs": [],
   "source": [
    "edge.get(sedan[\"url\"])"
   ],
   "metadata": {
    "collapsed": false
   }
  },
  {
   "cell_type": "code",
   "execution_count": 55,
   "outputs": [],
   "source": [
    "close_window(edge)"
   ],
   "metadata": {
    "collapsed": false
   }
  },
  {
   "cell_type": "code",
   "execution_count": 56,
   "outputs": [],
   "source": [
    "elements = edge.find_elements(by=By.XPATH, value=sedan[\"ad\"])"
   ],
   "metadata": {
    "collapsed": false
   }
  },
  {
   "cell_type": "markdown",
   "source": [
    "Extract descriptions"
   ],
   "metadata": {
    "collapsed": false
   }
  },
  {
   "cell_type": "code",
   "execution_count": 57,
   "outputs": [],
   "source": [
    "head = edge.find_element(by=By.XPATH, value=sedan[\"ad\"])\n",
    "head.click()\n",
    "try:\n",
    "    for element in range(5):\n",
    "       dynamic_delay = WebDriverWait(edge, DELAY).until(EC.presence_of_element_located((By.XPATH, sedan[\"description\"])))\n",
    "       # edge.implicitly_wait(1)\n",
    "       temp = extract_description(edge, sedan[\"description\"])\n",
    "       descriptions.append(temp.text)\n",
    "       close_ad(edge, sedan[\"next\"])\n",
    "except TimeoutException as TE:\n",
    "    descriptions.append(\"Web wasn't able to load\")\n",
    "except NoSuchElementException as NSE:\n",
    "    close_ad(edge, sedan[\"exit\"])"
   ],
   "metadata": {
    "collapsed": false
   }
  },
  {
   "cell_type": "markdown",
   "source": [
    "Extract prices"
   ],
   "metadata": {
    "collapsed": false
   }
  },
  {
   "cell_type": "code",
   "execution_count": 58,
   "outputs": [],
   "source": [
    "# prices_obs = driver.find_elements(by=By.XPATH, value=\"//div[@class='ann-ad-tile__price']\")"
   ],
   "metadata": {
    "collapsed": false
   }
  },
  {
   "cell_type": "markdown",
   "source": [
    "Extract titles"
   ],
   "metadata": {
    "collapsed": false
   }
  },
  {
   "cell_type": "code",
   "execution_count": 59,
   "outputs": [
    {
     "data": {
      "text/plain": "['Garantía: Como es visto no hay garantía\\nFinanciamiento: no\\nPrecio negociable: si\\nColor : AZUL\\n¡VEHÍCULO CON PLACAS LISTAS!\\n\\nNISSAN SENTRA SV 2018 $9,850.00.\\n\\nPara mayor información puede comunicarse al por medio de llamada o WhatsApp.\\n\\nEnlace pagina web:\\n\\n\\n\\nCARACTERÍSTICAS:\\n\\n- Arranca y rueda.\\n- 60,323 KILOMETROS actuales.\\n- Bolsas buenas.\\n- Llave de aproximación.\\n- Sunroof.\\n- Halógenos.\\n- Pantalla touch.\\n- Cámara de retroceso.\\n- Transmisión automática.\\n- Motor 1.8 L de 4 CIL.\\n- Rines Especiales.\\n- Paquete electrico.\\n- Mandos al timón.\\n- Conexion bluetooth.\\n- Full extras.\\n\\nPRECIO: $9, FUERA DE ADUANA.\\n\\nPARA MAYOR INFORMACIÓN COMUNICARSE AL TELÉFONO O WHATSAPP: / .\\n\\n#sedan #importaciondevehiculos #carros #ventadevehiculos #venta #importacion #ventacarros #Nissan #Sentra #sentrasv #nissansentrasv',\n 'Garantía: Como es visto no hay garantía\\nFinanciamiento: no\\nColor : Azul\\nDESCRIPCIÓN\\nCALIFICACIÓN\\nSEGURIDAD\\nVendo Kia Forte 2017\\n53 mil millas\\nBolsas buenas todas\\nCero códigos\\nTraspaso directo\\nAC funcionando al 100\\nPintura y tapicería buena\\nMandos al timón\\nHand free y Bluetooth\\nSuspensión y dirección buena\\nTransmisión automática\\nA toda prueba mecánica',\n 'Financiamiento: no\\nPrecio negociable: si\\nColor : Gris oscuro perla bicolor\\nhonda city LX',\n 'Financiamiento: no\\nPrecio negociable: si\\nDESCRIPCIÓN\\nCALIFICACIÓN\\nSEGURIDAD\\nSolo gente seria,\\nMOTOR 1.8 CON SISTEMA ECO, MOTOR Y CAJA 10/10\\n\\n10/10 TAPICERIA IMPECABLE\\n\\nPANTALLA,BLUETOOH,AUXILIAR,USB\\n\\nMILLAS REALES MANTENIMIENTO AL DIA\\n\\nBOLSAS BUENAS\\n\\nCAMARA DE RETROCESO\\n\\nPOLARIZADO\\n\\nAIRE FUNCIONANDO AL 100',\n 'Color : Rojo y Negro\\nSeñor Guzmán contacto']"
     },
     "execution_count": 59,
     "metadata": {},
     "output_type": "execute_result"
    }
   ],
   "source": [],
   "metadata": {
    "collapsed": false
   }
  },
  {
   "cell_type": "markdown",
   "source": [
    "## Main:"
   ],
   "metadata": {
    "collapsed": false
   }
  }
 ],
 "metadata": {
  "kernelspec": {
   "display_name": "Python 3",
   "language": "python",
   "name": "python3"
  },
  "language_info": {
   "codemirror_mode": {
    "name": "ipython",
    "version": 2
   },
   "file_extension": ".py",
   "mimetype": "text/x-python",
   "name": "python",
   "nbconvert_exporter": "python",
   "pygments_lexer": "ipython2",
   "version": "2.7.6"
  }
 },
 "nbformat": 4,
 "nbformat_minor": 0
}
