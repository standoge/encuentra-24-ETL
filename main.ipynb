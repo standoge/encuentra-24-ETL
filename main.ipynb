{
 "cells": [
  {
   "cell_type": "code",
   "execution_count": 42,
   "outputs": [],
   "source": [
    "import yaml\n",
    "import pandas as pd"
   ],
   "metadata": {
    "collapsed": false
   }
  },
  {
   "cell_type": "code",
   "execution_count": 43,
   "outputs": [],
   "source": [
    "from selenium import webdriver\n",
    "from selenium.webdriver.common.by import By\n",
    "from selenium.webdriver.support.ui import WebDriverWait\n",
    "from selenium.webdriver.support import expected_conditions as EC\n",
    "from selenium.common.exceptions import TimeoutException"
   ],
   "metadata": {
    "collapsed": false
   }
  },
  {
   "cell_type": "code",
   "execution_count": 44,
   "outputs": [],
   "source": [
    "options = webdriver.ChromeOptions()\n",
    "options.add_argument(\"--incognito\")"
   ],
   "metadata": {
    "collapsed": false
   }
  },
  {
   "cell_type": "code",
   "execution_count": 45,
   "outputs": [],
   "source": [
    "from selenium.common.exceptions import NoSuchElementException"
   ],
   "metadata": {
    "collapsed": false
   }
  },
  {
   "cell_type": "code",
   "execution_count": 46,
   "outputs": [],
   "source": [
    "edge:object = webdriver.Edge(executable_path=\"./utils/msedgedriver.exe\")"
   ],
   "metadata": {
    "collapsed": false
   }
  },
  {
   "cell_type": "markdown",
   "source": [
    "### Functions:"
   ],
   "metadata": {
    "collapsed": false
   }
  },
  {
   "cell_type": "code",
   "execution_count": 47,
   "outputs": [],
   "source": [
    "def resources(name:str) -> dict[str:str]:\n",
    "    with open(\"xpath.yml\", \"r\") as f:\n",
    "        content:dict[str:str] = yaml.safe_load(f)\n",
    "        return content[name]"
   ],
   "metadata": {
    "collapsed": false
   }
  },
  {
   "cell_type": "code",
   "execution_count": 48,
   "outputs": [],
   "source": [
    "def close_window(driver:object) -> None:\n",
    "    button:str = \"//a[@class='btn btn-subscription-light']\"\n",
    "    driver.find_element(by=By.XPATH, value=button).click()"
   ],
   "metadata": {
    "collapsed": false
   }
  },
  {
   "cell_type": "code",
   "execution_count": 49,
   "outputs": [],
   "source": [
    "def choose_category(category:str, driver:object) -> None:\n",
    "    driver.find_element(by=By.XPATH, value=category).click()"
   ],
   "metadata": {
    "collapsed": false
   }
  },
  {
   "cell_type": "code",
   "execution_count": 50,
   "outputs": [],
   "source": [
    "def close_ad(element:object,path:str) -> None:\n",
    "    button = element.find_element(by=By.XPATH, value=path)\n",
    "    button.click()"
   ],
   "metadata": {
    "collapsed": false
   }
  },
  {
   "cell_type": "code",
   "execution_count": 51,
   "outputs": [],
   "source": [
    "def extract_description(element:object, path:str) -> str:\n",
    "    description:str = element.find_element(by=By.XPATH, value=path)\n",
    "    return description"
   ],
   "metadata": {
    "collapsed": false
   }
  },
  {
   "cell_type": "code",
   "execution_count": null,
   "outputs": [],
   "source": [
    "def extract_price(element:object, path:str) -> str:\n",
    "    price:str = element.find_element(by=By.XPATH, value=path)\n",
    "    return price"
   ],
   "metadata": {
    "collapsed": false
   }
  },
  {
   "cell_type": "markdown",
   "source": [
    "## Extraction 🧲"
   ],
   "metadata": {
    "collapsed": false
   }
  },
  {
   "cell_type": "markdown",
   "source": [
    "### Sedan cars:"
   ],
   "metadata": {
    "collapsed": false
   }
  },
  {
   "cell_type": "code",
   "execution_count": 64,
   "outputs": [],
   "source": [
    "descriptions:list[str] = []\n",
    "prices:list[str] = []\n",
    "models:list[str] = []\n",
    "# seconds\n",
    "DELAY = 3"
   ],
   "metadata": {
    "collapsed": false
   }
  },
  {
   "cell_type": "code",
   "execution_count": 91,
   "outputs": [],
   "source": [
    "sedan = resources(\"cars_sedan\")"
   ],
   "metadata": {
    "collapsed": false
   }
  },
  {
   "cell_type": "code",
   "execution_count": 54,
   "outputs": [],
   "source": [
    "edge.get(sedan[\"url\"])"
   ],
   "metadata": {
    "collapsed": false
   }
  },
  {
   "cell_type": "code",
   "execution_count": 55,
   "outputs": [],
   "source": [
    "close_window(edge)"
   ],
   "metadata": {
    "collapsed": false
   }
  },
  {
   "cell_type": "code",
   "execution_count": 56,
   "outputs": [],
   "source": [
    "elements = edge.find_elements(by=By.XPATH, value=sedan[\"ad\"])"
   ],
   "metadata": {
    "collapsed": false
   }
  },
  {
   "cell_type": "markdown",
   "source": [
    "Extract descriptions"
   ],
   "metadata": {
    "collapsed": false
   }
  },
  {
   "cell_type": "code",
   "execution_count": 57,
   "outputs": [],
   "source": [
    "head = edge.find_element(by=By.XPATH, value=sedan[\"ad\"])\n",
    "head.click()\n",
    "try:\n",
    "    for element in range(5):\n",
    "       dynamic_delay = WebDriverWait(edge, DELAY).until(EC.presence_of_element_located((By.XPATH, sedan[\"description\"])))\n",
    "       temp = extract_description(edge, sedan[\"description\"])\n",
    "       descriptions.append(temp.text)\n",
    "       close_ad(edge, sedan[\"next\"])\n",
    "except TimeoutException as TE:\n",
    "    descriptions.append(\"Web wasn't able to scrape descriptions\")\n",
    "except NoSuchElementException as NSE:\n",
    "    close_ad(edge, sedan[\"exit\"])"
   ],
   "metadata": {
    "collapsed": false
   }
  },
  {
   "cell_type": "markdown",
   "source": [
    "Extract prices"
   ],
   "metadata": {
    "collapsed": false
   }
  },
  {
   "cell_type": "code",
   "execution_count": 93,
   "outputs": [
    {
     "name": "stdout",
     "output_type": "stream",
     "text": [
      "['$9,850', '$9,000', '$8,000\\n(Rebajado 4%)', '$10,800', '$5,000', '$5,800\\n(Rebajado 2%)', '$7,350', '$15,000', '$8,500', '$3,300', '$12,300', '$3,600', '$6,500', '$10,800', '$7,200', '$8,800', '$7,075', '$10,500', '$5,500', '$3,600', '$9,500', '$4,800', '$13,900', '$11,500', '$5,500\\n(Rebajado 7%)', '$4,500', '$9,300', '$8,500', '$11,600', '$11,900', '$7,500', '$10,500', '$10,800\\n(Rebajado 6%)', '$5,500', '$6,700', '$7,800', '$10,000', '$6,300\\n(Rebajado 10%)', '$6,500', '$9,300\\n(Rebajado 2%)', '$7,200', '$8,200', '$7,800\\n(Rebajado 1%)', '$8,150', '$8,300\\n(Rebajado 1%)', '$8,500', '$6,950', '$2,900', '$11,900']\n"
     ]
    }
   ],
   "source": [
    "try:\n",
    "    prices = edge.find_elements(by=By.XPATH, value=sedan[\"price\"])\n",
    "    prices = [price.text for price in prices]\n",
    "    print(prices)\n",
    "except Exception as e:\n",
    "    prices.append(\"Web wasn't able to scrape prices\")"
   ],
   "metadata": {
    "collapsed": false
   }
  },
  {
   "cell_type": "markdown",
   "source": [
    "Extract models"
   ],
   "metadata": {
    "collapsed": false
   }
  },
  {
   "cell_type": "code",
   "execution_count": 92,
   "outputs": [
    {
     "name": "stdout",
     "output_type": "stream",
     "text": [
      "['Nissan Sentra', 'Kia Forte', 'Honda City', 'Toyota Corolla', 'Daihatsu Rocky', 'Mazda 3', 'Chevrolet Spark', 'Honda Civic', 'Mercedes Benz 230', 'Mitsubishi Mirage', 'Blue Book Encuentra24', 'Toyota Yaris', 'Ford Focus', 'Dodge DART', 'Nissan Juke', 'Hyundai Accent', 'Hyundai Santa Fe', 'Nissan Sentra', 'Kia Rio', 'Nissan Versa', 'Nissan Sentra', 'Kia Rio', 'Mazda 3', 'Honda Civic', 'Hyundai Elantra', 'Mazda 6', 'Honda Civic', 'Kia Rio', 'Kia Rio', 'Toyota Corolla', 'Toyota Corolla', 'Chevrolet Spark', 'Honda Civic', 'Toyota Corolla', 'Toyota Yaris', 'Nissan Sentra', 'Toyota Matrix', 'Ford Figo', 'Chevrolet Cruze', 'Nissan Versa', 'Kia SOUL', 'Scion xD', 'Nissan Sentra', 'Nissan Versa', 'Ford Fiesta', 'Kia Forte', 'Jaguar Type S', 'Hyundai Sonata', 'Hyundai Sonata', 'Nissan Sentra']\n"
     ]
    }
   ],
   "source": [
    "try:\n",
    "    models = edge.find_elements(by=By.XPATH, value=sedan[\"model\"])\n",
    "    models = [model.text for model in models]\n",
    "    print(models)\n",
    "except Exception as e:\n",
    "    models.append(\"Web wasn't able to scrape prices\")"
   ],
   "metadata": {
    "collapsed": false
   }
  },
  {
   "cell_type": "markdown",
   "source": [
    "## Main:"
   ],
   "metadata": {
    "collapsed": false
   }
  }
 ],
 "metadata": {
  "kernelspec": {
   "display_name": "Python 3",
   "language": "python",
   "name": "python3"
  },
  "language_info": {
   "codemirror_mode": {
    "name": "ipython",
    "version": 2
   },
   "file_extension": ".py",
   "mimetype": "text/x-python",
   "name": "python",
   "nbconvert_exporter": "python",
   "pygments_lexer": "ipython2",
   "version": "2.7.6"
  }
 },
 "nbformat": 4,
 "nbformat_minor": 0
}
