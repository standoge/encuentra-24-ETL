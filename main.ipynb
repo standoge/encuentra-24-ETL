{
 "cells": [
  {
   "cell_type": "code",
   "execution_count": 218,
   "outputs": [],
   "source": [
    "import yaml\n",
    "from datetime import datetime\n",
    "import pandas as pd"
   ],
   "metadata": {
    "collapsed": false
   }
  },
  {
   "cell_type": "code",
   "execution_count": 168,
   "outputs": [],
   "source": [
    "from selenium import webdriver\n",
    "from selenium.webdriver.common.by import By\n",
    "from selenium.webdriver.support.ui import WebDriverWait\n",
    "from selenium.webdriver.support import expected_conditions as EC"
   ],
   "metadata": {
    "collapsed": false
   }
  },
  {
   "cell_type": "code",
   "execution_count": 169,
   "outputs": [],
   "source": [
    "from selenium.common.exceptions import NoSuchElementException\n",
    "from selenium.common.exceptions import TimeoutException"
   ],
   "metadata": {
    "collapsed": false
   }
  },
  {
   "cell_type": "code",
   "execution_count": 170,
   "outputs": [],
   "source": [
    "edge:object = webdriver.Edge(executable_path=\"./utils/msedgedriver.exe\")"
   ],
   "metadata": {
    "collapsed": false
   }
  },
  {
   "cell_type": "markdown",
   "source": [
    "### Functions:"
   ],
   "metadata": {
    "collapsed": false
   }
  },
  {
   "cell_type": "code",
   "execution_count": 171,
   "outputs": [],
   "source": [
    "def resources(name:str) -> dict[str:str]:\n",
    "    \"\"\"Read xpath.yml file that contains xpath's to scrape\"\"\"\n",
    "\n",
    "    with open(\"xpath.yml\", \"r\") as f:\n",
    "        content:dict[str:str] = yaml.safe_load(f)\n",
    "        return content[name]"
   ],
   "metadata": {
    "collapsed": false
   }
  },
  {
   "cell_type": "code",
   "execution_count": 172,
   "outputs": [],
   "source": [
    "def close_window(driver:object) -> None:\n",
    "    \"\"\"Close ad window\"\"\"\n",
    "\n",
    "    button:str = \"//a[@class='btn btn-subscription-light']\"\n",
    "    driver.find_element(by=By.XPATH, value=button).click()"
   ],
   "metadata": {
    "collapsed": false
   }
  },
  {
   "cell_type": "code",
   "execution_count": 173,
   "outputs": [],
   "source": [
    "def choose_category(category:str, driver:object) -> None:\n",
    "    \"\"\"Choose ad category\"\"\"\n",
    "\n",
    "    driver.find_element(by=By.XPATH, value=category).click()"
   ],
   "metadata": {
    "collapsed": false
   }
  },
  {
   "cell_type": "code",
   "execution_count": 174,
   "outputs": [],
   "source": [
    "def click_element(element:object, path:str) -> None:\n",
    "    \"\"\"Click element on the current document\"\"\"\n",
    "\n",
    "    button = element.find_element(by=By.XPATH, value=path)\n",
    "    button.click()"
   ],
   "metadata": {
    "collapsed": false
   }
  },
  {
   "cell_type": "code",
   "execution_count": 175,
   "outputs": [],
   "source": [
    "def extract_description(element:object, path:str) -> str:\n",
    "    \"\"\"Extract ad description on the current document\"\"\"\n",
    "\n",
    "    description:str = element.find_element(by=By.XPATH, value=path)\n",
    "    return description"
   ],
   "metadata": {
    "collapsed": false
   }
  },
  {
   "cell_type": "code",
   "execution_count": 176,
   "outputs": [],
   "source": [
    "def extract_prices(element:object, path:str) -> list[str]:\n",
    "    \"\"\"Extract prices from list document\"\"\"\n",
    "\n",
    "    prices:str = element.find_elements(by=By.XPATH, value=path)\n",
    "    return prices"
   ],
   "metadata": {
    "collapsed": false
   }
  },
  {
   "cell_type": "code",
   "execution_count": null,
   "outputs": [],
   "source": [
    "def extract_models(element:object, path:str) -> list[str]:\n",
    "    \"\"\"Extract models from list document\"\"\"\n",
    "\n",
    "    models:str = element.find_elements(by=By.XPATH, value=path)\n",
    "    return models"
   ],
   "metadata": {
    "collapsed": false
   }
  },
  {
   "cell_type": "code",
   "execution_count": null,
   "outputs": [],
   "source": [
    "def persistence(dataframe:pd.Dataframe) -> None:\n",
    "    \"\"\"Generate .csv file from data scraped\"\"\"\n",
    "\n",
    "    file_name = datetime.today().strftime(\"%B-%d\")\n",
    "    dataframe.to_csv(f\"persistence/{file_name}.csv\", index=False)"
   ],
   "metadata": {
    "collapsed": false
   }
  },
  {
   "cell_type": "markdown",
   "source": [
    "## Extraction 🧲"
   ],
   "metadata": {
    "collapsed": false
   }
  },
  {
   "cell_type": "markdown",
   "source": [
    "### Sedan cars:"
   ],
   "metadata": {
    "collapsed": false
   }
  },
  {
   "cell_type": "code",
   "execution_count": 226,
   "outputs": [],
   "source": [
    "dynamic_delay:object\n",
    "descriptions:list[str] = []\n",
    "prices:list[str] = []\n",
    "models:list[str] = []\n",
    "# seconds\n",
    "DELAY:int = 3"
   ],
   "metadata": {
    "collapsed": false
   }
  },
  {
   "cell_type": "code",
   "execution_count": 178,
   "outputs": [],
   "source": [
    "sedan = resources(\"cars_sedan\")"
   ],
   "metadata": {
    "collapsed": false
   }
  },
  {
   "cell_type": "code",
   "execution_count": 179,
   "outputs": [],
   "source": [
    "edge.get(sedan[\"url\"])"
   ],
   "metadata": {
    "collapsed": false
   }
  },
  {
   "cell_type": "code",
   "execution_count": 180,
   "outputs": [],
   "source": [
    "close_window(edge)"
   ],
   "metadata": {
    "collapsed": false
   }
  },
  {
   "cell_type": "code",
   "execution_count": 181,
   "outputs": [],
   "source": [
    "elements = edge.find_elements(by=By.XPATH, value=sedan[\"ad\"])"
   ],
   "metadata": {
    "collapsed": false
   }
  },
  {
   "cell_type": "markdown",
   "source": [
    "Extract descriptions"
   ],
   "metadata": {
    "collapsed": false
   }
  },
  {
   "cell_type": "code",
   "execution_count": 182,
   "outputs": [],
   "source": [
    "head = edge.find_element(by=By.XPATH, value=sedan[\"ad\"])\n",
    "head.click()\n",
    "try:\n",
    "    for element in range(len(elements)):\n",
    "        dynamic_delay = WebDriverWait(edge, DELAY).until(EC.presence_of_element_located((By.XPATH, sedan[\"description\"])))\n",
    "        temp = extract_description(edge, sedan[\"description\"])\n",
    "        descriptions.append(temp.text)\n",
    "        click_element(edge, sedan[\"next\"])\n",
    "except TimeoutException as TE:\n",
    "    descriptions.append(\"Web wasn't able to scrape descriptions\")\n",
    "except NoSuchElementException as NSE:\n",
    "    click_element(edge, sedan[\"exit\"])"
   ],
   "metadata": {
    "collapsed": false
   }
  },
  {
   "cell_type": "markdown",
   "source": [
    "Extract prices"
   ],
   "metadata": {
    "collapsed": false
   }
  },
  {
   "cell_type": "code",
   "execution_count": 184,
   "outputs": [],
   "source": [
    "try:\n",
    "    prices = edge.find_elements(by=By.XPATH, value=sedan[\"price\"])\n",
    "    prices = [price.text for price in prices]\n",
    "except Exception as e:\n",
    "    prices.append(\"Web wasn't able to scrape prices\")"
   ],
   "metadata": {
    "collapsed": false
   }
  },
  {
   "cell_type": "markdown",
   "source": [
    "Extract models"
   ],
   "metadata": {
    "collapsed": false
   }
  },
  {
   "cell_type": "code",
   "execution_count": 207,
   "outputs": [],
   "source": [
    "try:\n",
    "    models = edge.find_elements(by=By.XPATH, value=sedan[\"model\"])\n",
    "    models = [model.text for model in models]\n",
    "except Exception as e:\n",
    "    models.append(\"Web wasn't able to scrape prices\")"
   ],
   "metadata": {
    "collapsed": false
   }
  },
  {
   "cell_type": "markdown",
   "source": [
    "## Procesing ⚙"
   ],
   "metadata": {
    "collapsed": false
   }
  },
  {
   "cell_type": "code",
   "execution_count": 209,
   "outputs": [],
   "source": [
    "models.remove(\"Blue Book Encuentra24\")"
   ],
   "metadata": {
    "collapsed": false
   }
  },
  {
   "cell_type": "code",
   "execution_count": 211,
   "outputs": [],
   "source": [
    "df = pd.DataFrame(\n",
    "    {\n",
    "        \"model\": models,\n",
    "        \"price\": prices,\n",
    "        \"description\": descriptions\n",
    "    }\n",
    ")"
   ],
   "metadata": {
    "collapsed": false
   }
  },
  {
   "cell_type": "code",
   "execution_count": 225,
   "outputs": [
    {
     "data": {
      "text/plain": "                model                   price  \\\n0       Nissan Sentra                  $9,850   \n1           Kia Forte                  $9,000   \n2          Honda City   $8,000\\n(Rebajado 4%)   \n3      Toyota Corolla                 $10,800   \n4      Daihatsu Rocky                  $5,000   \n5             Mazda 3   $5,800\\n(Rebajado 2%)   \n6     Chevrolet Spark                  $7,350   \n7         Honda Civic                 $15,000   \n8   Mercedes Benz 230                  $8,500   \n9   Mitsubishi Mirage                  $3,300   \n10       Toyota Yaris                 $12,300   \n11         Ford Focus                  $3,600   \n12         Dodge DART                  $6,500   \n13        Nissan Juke                 $10,800   \n14     Hyundai Accent                  $7,200   \n15   Hyundai Santa Fe                  $8,800   \n16      Nissan Sentra                  $7,075   \n17            Kia Rio                 $10,500   \n18       Nissan Versa                  $5,500   \n19      Nissan Sentra                  $3,600   \n20            Kia Rio                  $9,500   \n21            Mazda 3                  $4,800   \n22        Honda Civic                 $13,900   \n23    Hyundai Elantra                 $11,500   \n24            Mazda 6   $5,500\\n(Rebajado 7%)   \n25        Honda Civic                  $4,500   \n26            Kia Rio                  $9,300   \n27            Kia Rio                  $8,500   \n28     Toyota Corolla                 $11,600   \n29     Toyota Corolla                 $11,900   \n30    Chevrolet Spark                  $7,500   \n31        Honda Civic                 $10,500   \n32     Toyota Corolla  $10,800\\n(Rebajado 6%)   \n33       Toyota Yaris                  $5,500   \n34      Nissan Sentra                  $6,700   \n35      Toyota Matrix                  $7,800   \n36          Ford Figo                 $10,000   \n37    Chevrolet Cruze  $6,300\\n(Rebajado 10%)   \n38       Nissan Versa                  $6,500   \n39           Kia SOUL   $9,300\\n(Rebajado 2%)   \n40           Scion xD                  $7,200   \n41      Nissan Sentra                  $8,200   \n42       Nissan Versa   $7,800\\n(Rebajado 1%)   \n43        Ford Fiesta                  $8,150   \n44          Kia Forte   $8,300\\n(Rebajado 1%)   \n45      Jaguar Type S                  $8,500   \n46     Hyundai Sonata                  $6,950   \n47     Hyundai Sonata                  $2,900   \n48      Nissan Sentra                 $11,900   \n\n                                          description  \n0   Garantía: Como es visto no hay garantía\\nFinan...  \n1   Garantía: Como es visto no hay garantía\\nFinan...  \n2   Financiamiento: no\\nPrecio negociable: si\\nCol...  \n3   Financiamiento: no\\nPrecio negociable: si\\nDES...  \n4         Color : Rojo y Negro\\nSeñor Guzmán contacto  \n5   Precio negociable: si\\nVendo mazda 3 año 2011 ...  \n6   Garantía: Como es visto no hay garantía\\nFinan...  \n7   Financiamiento: no\\nPrecio negociable: si\\nCol...  \n8   Color : Plata Iridio Metalizado\\nDe agencia, p...  \n9   Garantía: Como es visto no hay garantía\\nPreci...  \n10  Financiamiento: no\\nPrecio negociable: si\\nCol...  \n11  Garantía: Como es visto no hay garantía\\nFinan...  \n12  Color : Rojo.\\nInteresados Illamarme  . Versio...  \n13  Precio negociable: si\\nNissan Juke 2016 en exc...  \n14  Financiamiento: no\\nPrecio negociable: si\\nDES...  \n15  Precio negociable: si\\nColor : Azul\\nDESCRIPCI...  \n16  Garantía: Como es visto no hay garantía\\nFinan...  \n17  Financiamiento: no\\nPrecio negociable: si\\nFul...  \n18  Color : Negro\\nDESCRIPCIÓN\\nCALIFICACIÓN\\nSEGU...  \n19  Financiamiento: no\\nPrecio negociable: si\\nCol...  \n20  Precio negociable: si\\nColor : Negro\\nDESCRIPC...  \n21  Precio negociable: si\\nColor : Negro\\n**Mazda ...  \n22  Garantía: Garantía de fabrica restante.\\nFinan...  \n23  Color : NEGRO\\nYA TIENE PLACAS\\nWhatsApp o Tel...  \n24  Precio negociable: si\\nDESCRIPCIÓN\\nCALIFICACI...  \n25  Precio negociable: si\\nColor : Blanco\\nDESCRIP...  \n26  Precio negociable: si\\nVendo kia río 2018 en o...  \n27  Financiamiento: si\\nColor : Azul\\nDESCRIPCIÓN\\...  \n28  Precio negociable: si\\nColor : Negro\\nDESCRIPC...  \n29  Precio negociable: si\\nColor : Negro\\nSEDAN CO...  \n30  Garantía: Como es visto no hay garantía\\nFinan...  \n31  DESCRIPCIÓN\\nCALIFICACIÓN\\nSEGURIDAD\\nvendo o ...  \n32  Precio negociable: si\\nColor : Rojo\\nDESCRIPCI...  \n33  Precio negociable: si\\nColor : Celeste\\nDESCRI...  \n34  Color : Negro\\nDESCRIPCIÓN\\nCALIFICACIÓN\\nSEGU...  \n35  Precio negociable: si\\nColor : Blanco\\nTIPO SE...  \n36  Financiamiento: no\\nPrecio negociable: si\\nCol...  \n37  Precio negociable: si\\nColor : Gris\\nDESCRIPCI...  \n38  DESCRIPCIÓN\\nCALIFICACIÓN\\nSEGURIDAD\\nNissan V...  \n39  Color : Beige\\nDESCRIPCIÓN\\nARTÍCULOS\\nCALIFIC...  \n40               Precio negociable: si\\nColor : verde  \n41  Color : Negro\\nDESCRIPCIÓN\\nCALIFICACIÓN\\nSEGU...  \n42  Color : Azul\\nDESCRIPCIÓN\\nCALIFICACIÓN\\nSEGUR...  \n43  Garantía: Como es visto no hay garantía\\nFORD ...  \n44   DESCRIPCIÓN\\nCALIFICACIÓN\\nSEGURIDAD\\nNEGOCIABLE  \n45  Precio negociable: si\\nColor : Gris\\nSe Vende ...  \n46  Precio negociable: si\\nColor : Blanco Perla\\nD...  \n47  Financiamiento: no\\nPrecio negociable: si\\nCol...  \n48  Color : Gris Oscuro (Charcole)\\nDESCRIPCIÓN\\nC...  ",
      "text/html": "<div>\n<style scoped>\n    .dataframe tbody tr th:only-of-type {\n        vertical-align: middle;\n    }\n\n    .dataframe tbody tr th {\n        vertical-align: top;\n    }\n\n    .dataframe thead th {\n        text-align: right;\n    }\n</style>\n<table border=\"1\" class=\"dataframe\">\n  <thead>\n    <tr style=\"text-align: right;\">\n      <th></th>\n      <th>model</th>\n      <th>price</th>\n      <th>description</th>\n    </tr>\n  </thead>\n  <tbody>\n    <tr>\n      <th>0</th>\n      <td>Nissan Sentra</td>\n      <td>$9,850</td>\n      <td>Garantía: Como es visto no hay garantía\\nFinan...</td>\n    </tr>\n    <tr>\n      <th>1</th>\n      <td>Kia Forte</td>\n      <td>$9,000</td>\n      <td>Garantía: Como es visto no hay garantía\\nFinan...</td>\n    </tr>\n    <tr>\n      <th>2</th>\n      <td>Honda City</td>\n      <td>$8,000\\n(Rebajado 4%)</td>\n      <td>Financiamiento: no\\nPrecio negociable: si\\nCol...</td>\n    </tr>\n    <tr>\n      <th>3</th>\n      <td>Toyota Corolla</td>\n      <td>$10,800</td>\n      <td>Financiamiento: no\\nPrecio negociable: si\\nDES...</td>\n    </tr>\n    <tr>\n      <th>4</th>\n      <td>Daihatsu Rocky</td>\n      <td>$5,000</td>\n      <td>Color : Rojo y Negro\\nSeñor Guzmán contacto</td>\n    </tr>\n    <tr>\n      <th>5</th>\n      <td>Mazda 3</td>\n      <td>$5,800\\n(Rebajado 2%)</td>\n      <td>Precio negociable: si\\nVendo mazda 3 año 2011 ...</td>\n    </tr>\n    <tr>\n      <th>6</th>\n      <td>Chevrolet Spark</td>\n      <td>$7,350</td>\n      <td>Garantía: Como es visto no hay garantía\\nFinan...</td>\n    </tr>\n    <tr>\n      <th>7</th>\n      <td>Honda Civic</td>\n      <td>$15,000</td>\n      <td>Financiamiento: no\\nPrecio negociable: si\\nCol...</td>\n    </tr>\n    <tr>\n      <th>8</th>\n      <td>Mercedes Benz 230</td>\n      <td>$8,500</td>\n      <td>Color : Plata Iridio Metalizado\\nDe agencia, p...</td>\n    </tr>\n    <tr>\n      <th>9</th>\n      <td>Mitsubishi Mirage</td>\n      <td>$3,300</td>\n      <td>Garantía: Como es visto no hay garantía\\nPreci...</td>\n    </tr>\n    <tr>\n      <th>10</th>\n      <td>Toyota Yaris</td>\n      <td>$12,300</td>\n      <td>Financiamiento: no\\nPrecio negociable: si\\nCol...</td>\n    </tr>\n    <tr>\n      <th>11</th>\n      <td>Ford Focus</td>\n      <td>$3,600</td>\n      <td>Garantía: Como es visto no hay garantía\\nFinan...</td>\n    </tr>\n    <tr>\n      <th>12</th>\n      <td>Dodge DART</td>\n      <td>$6,500</td>\n      <td>Color : Rojo.\\nInteresados Illamarme  . Versio...</td>\n    </tr>\n    <tr>\n      <th>13</th>\n      <td>Nissan Juke</td>\n      <td>$10,800</td>\n      <td>Precio negociable: si\\nNissan Juke 2016 en exc...</td>\n    </tr>\n    <tr>\n      <th>14</th>\n      <td>Hyundai Accent</td>\n      <td>$7,200</td>\n      <td>Financiamiento: no\\nPrecio negociable: si\\nDES...</td>\n    </tr>\n    <tr>\n      <th>15</th>\n      <td>Hyundai Santa Fe</td>\n      <td>$8,800</td>\n      <td>Precio negociable: si\\nColor : Azul\\nDESCRIPCI...</td>\n    </tr>\n    <tr>\n      <th>16</th>\n      <td>Nissan Sentra</td>\n      <td>$7,075</td>\n      <td>Garantía: Como es visto no hay garantía\\nFinan...</td>\n    </tr>\n    <tr>\n      <th>17</th>\n      <td>Kia Rio</td>\n      <td>$10,500</td>\n      <td>Financiamiento: no\\nPrecio negociable: si\\nFul...</td>\n    </tr>\n    <tr>\n      <th>18</th>\n      <td>Nissan Versa</td>\n      <td>$5,500</td>\n      <td>Color : Negro\\nDESCRIPCIÓN\\nCALIFICACIÓN\\nSEGU...</td>\n    </tr>\n    <tr>\n      <th>19</th>\n      <td>Nissan Sentra</td>\n      <td>$3,600</td>\n      <td>Financiamiento: no\\nPrecio negociable: si\\nCol...</td>\n    </tr>\n    <tr>\n      <th>20</th>\n      <td>Kia Rio</td>\n      <td>$9,500</td>\n      <td>Precio negociable: si\\nColor : Negro\\nDESCRIPC...</td>\n    </tr>\n    <tr>\n      <th>21</th>\n      <td>Mazda 3</td>\n      <td>$4,800</td>\n      <td>Precio negociable: si\\nColor : Negro\\n**Mazda ...</td>\n    </tr>\n    <tr>\n      <th>22</th>\n      <td>Honda Civic</td>\n      <td>$13,900</td>\n      <td>Garantía: Garantía de fabrica restante.\\nFinan...</td>\n    </tr>\n    <tr>\n      <th>23</th>\n      <td>Hyundai Elantra</td>\n      <td>$11,500</td>\n      <td>Color : NEGRO\\nYA TIENE PLACAS\\nWhatsApp o Tel...</td>\n    </tr>\n    <tr>\n      <th>24</th>\n      <td>Mazda 6</td>\n      <td>$5,500\\n(Rebajado 7%)</td>\n      <td>Precio negociable: si\\nDESCRIPCIÓN\\nCALIFICACI...</td>\n    </tr>\n    <tr>\n      <th>25</th>\n      <td>Honda Civic</td>\n      <td>$4,500</td>\n      <td>Precio negociable: si\\nColor : Blanco\\nDESCRIP...</td>\n    </tr>\n    <tr>\n      <th>26</th>\n      <td>Kia Rio</td>\n      <td>$9,300</td>\n      <td>Precio negociable: si\\nVendo kia río 2018 en o...</td>\n    </tr>\n    <tr>\n      <th>27</th>\n      <td>Kia Rio</td>\n      <td>$8,500</td>\n      <td>Financiamiento: si\\nColor : Azul\\nDESCRIPCIÓN\\...</td>\n    </tr>\n    <tr>\n      <th>28</th>\n      <td>Toyota Corolla</td>\n      <td>$11,600</td>\n      <td>Precio negociable: si\\nColor : Negro\\nDESCRIPC...</td>\n    </tr>\n    <tr>\n      <th>29</th>\n      <td>Toyota Corolla</td>\n      <td>$11,900</td>\n      <td>Precio negociable: si\\nColor : Negro\\nSEDAN CO...</td>\n    </tr>\n    <tr>\n      <th>30</th>\n      <td>Chevrolet Spark</td>\n      <td>$7,500</td>\n      <td>Garantía: Como es visto no hay garantía\\nFinan...</td>\n    </tr>\n    <tr>\n      <th>31</th>\n      <td>Honda Civic</td>\n      <td>$10,500</td>\n      <td>DESCRIPCIÓN\\nCALIFICACIÓN\\nSEGURIDAD\\nvendo o ...</td>\n    </tr>\n    <tr>\n      <th>32</th>\n      <td>Toyota Corolla</td>\n      <td>$10,800\\n(Rebajado 6%)</td>\n      <td>Precio negociable: si\\nColor : Rojo\\nDESCRIPCI...</td>\n    </tr>\n    <tr>\n      <th>33</th>\n      <td>Toyota Yaris</td>\n      <td>$5,500</td>\n      <td>Precio negociable: si\\nColor : Celeste\\nDESCRI...</td>\n    </tr>\n    <tr>\n      <th>34</th>\n      <td>Nissan Sentra</td>\n      <td>$6,700</td>\n      <td>Color : Negro\\nDESCRIPCIÓN\\nCALIFICACIÓN\\nSEGU...</td>\n    </tr>\n    <tr>\n      <th>35</th>\n      <td>Toyota Matrix</td>\n      <td>$7,800</td>\n      <td>Precio negociable: si\\nColor : Blanco\\nTIPO SE...</td>\n    </tr>\n    <tr>\n      <th>36</th>\n      <td>Ford Figo</td>\n      <td>$10,000</td>\n      <td>Financiamiento: no\\nPrecio negociable: si\\nCol...</td>\n    </tr>\n    <tr>\n      <th>37</th>\n      <td>Chevrolet Cruze</td>\n      <td>$6,300\\n(Rebajado 10%)</td>\n      <td>Precio negociable: si\\nColor : Gris\\nDESCRIPCI...</td>\n    </tr>\n    <tr>\n      <th>38</th>\n      <td>Nissan Versa</td>\n      <td>$6,500</td>\n      <td>DESCRIPCIÓN\\nCALIFICACIÓN\\nSEGURIDAD\\nNissan V...</td>\n    </tr>\n    <tr>\n      <th>39</th>\n      <td>Kia SOUL</td>\n      <td>$9,300\\n(Rebajado 2%)</td>\n      <td>Color : Beige\\nDESCRIPCIÓN\\nARTÍCULOS\\nCALIFIC...</td>\n    </tr>\n    <tr>\n      <th>40</th>\n      <td>Scion xD</td>\n      <td>$7,200</td>\n      <td>Precio negociable: si\\nColor : verde</td>\n    </tr>\n    <tr>\n      <th>41</th>\n      <td>Nissan Sentra</td>\n      <td>$8,200</td>\n      <td>Color : Negro\\nDESCRIPCIÓN\\nCALIFICACIÓN\\nSEGU...</td>\n    </tr>\n    <tr>\n      <th>42</th>\n      <td>Nissan Versa</td>\n      <td>$7,800\\n(Rebajado 1%)</td>\n      <td>Color : Azul\\nDESCRIPCIÓN\\nCALIFICACIÓN\\nSEGUR...</td>\n    </tr>\n    <tr>\n      <th>43</th>\n      <td>Ford Fiesta</td>\n      <td>$8,150</td>\n      <td>Garantía: Como es visto no hay garantía\\nFORD ...</td>\n    </tr>\n    <tr>\n      <th>44</th>\n      <td>Kia Forte</td>\n      <td>$8,300\\n(Rebajado 1%)</td>\n      <td>DESCRIPCIÓN\\nCALIFICACIÓN\\nSEGURIDAD\\nNEGOCIABLE</td>\n    </tr>\n    <tr>\n      <th>45</th>\n      <td>Jaguar Type S</td>\n      <td>$8,500</td>\n      <td>Precio negociable: si\\nColor : Gris\\nSe Vende ...</td>\n    </tr>\n    <tr>\n      <th>46</th>\n      <td>Hyundai Sonata</td>\n      <td>$6,950</td>\n      <td>Precio negociable: si\\nColor : Blanco Perla\\nD...</td>\n    </tr>\n    <tr>\n      <th>47</th>\n      <td>Hyundai Sonata</td>\n      <td>$2,900</td>\n      <td>Financiamiento: no\\nPrecio negociable: si\\nCol...</td>\n    </tr>\n    <tr>\n      <th>48</th>\n      <td>Nissan Sentra</td>\n      <td>$11,900</td>\n      <td>Color : Gris Oscuro (Charcole)\\nDESCRIPCIÓN\\nC...</td>\n    </tr>\n  </tbody>\n</table>\n</div>"
     },
     "execution_count": 225,
     "metadata": {},
     "output_type": "execute_result"
    }
   ],
   "source": [
    "df"
   ],
   "metadata": {
    "collapsed": false
   }
  }
 ],
 "metadata": {
  "kernelspec": {
   "display_name": "Python 3",
   "language": "python",
   "name": "python3"
  },
  "language_info": {
   "codemirror_mode": {
    "name": "ipython",
    "version": 2
   },
   "file_extension": ".py",
   "mimetype": "text/x-python",
   "name": "python",
   "nbconvert_exporter": "python",
   "pygments_lexer": "ipython2",
   "version": "2.7.6"
  }
 },
 "nbformat": 4,
 "nbformat_minor": 0
}
