{
 "cells": [
  {
   "cell_type": "markdown",
   "source": [
    "## Others 🍄"
   ],
   "metadata": {
    "collapsed": false
   }
  },
  {
   "cell_type": "markdown",
   "source": [
    "---"
   ],
   "metadata": {
    "collapsed": false
   }
  },
  {
   "cell_type": "markdown",
   "source": [
    "### Dependencies:"
   ],
   "metadata": {
    "collapsed": false
   }
  },
  {
   "cell_type": "code",
   "execution_count": 1,
   "outputs": [],
   "source": [
    "import yaml\n",
    "from datetime import datetime\n",
    "import pandas as pd"
   ],
   "metadata": {
    "collapsed": false
   }
  },
  {
   "cell_type": "code",
   "execution_count": 22,
   "outputs": [],
   "source": [
    "from selenium import webdriver\n",
    "from selenium.webdriver.common.by import By\n",
    "from selenium.webdriver.support.ui import WebDriverWait\n",
    "from selenium.webdriver.support import expected_conditions as EC"
   ],
   "metadata": {
    "collapsed": false
   }
  },
  {
   "cell_type": "code",
   "execution_count": 23,
   "outputs": [],
   "source": [
    "from selenium.common.exceptions import NoSuchElementException\n",
    "from selenium.common.exceptions import TimeoutException"
   ],
   "metadata": {
    "collapsed": false
   }
  },
  {
   "cell_type": "code",
   "execution_count": 24,
   "outputs": [],
   "source": [
    "edge:object = webdriver.Edge(executable_path=\"./utils/msedgedriver.exe\")"
   ],
   "metadata": {
    "collapsed": false
   }
  },
  {
   "cell_type": "markdown",
   "source": [
    "### Functions:"
   ],
   "metadata": {
    "collapsed": false
   }
  },
  {
   "cell_type": "code",
   "execution_count": 25,
   "outputs": [],
   "source": [
    "def resources(name:str) -> dict[str:str]:\n",
    "    \"\"\"Read xpath.yml file that contains xpath's to scrape\"\"\"\n",
    "\n",
    "    with open(\"xpath.yml\", \"r\") as f:\n",
    "        content:dict[str:str] = yaml.safe_load(f)\n",
    "        return content[name]"
   ],
   "metadata": {
    "collapsed": false
   }
  },
  {
   "cell_type": "code",
   "execution_count": 26,
   "outputs": [],
   "source": [
    "def close_prompt(driver:object) -> None:\n",
    "    \"\"\"Close ad window\"\"\"\n",
    "\n",
    "    button:str = \"//a[@class='btn btn-subscription-light']\"\n",
    "    driver.find_element(by=By.XPATH, value=button).click()"
   ],
   "metadata": {
    "collapsed": false
   }
  },
  {
   "cell_type": "code",
   "execution_count": 27,
   "outputs": [],
   "source": [
    "def choose_category(category:str, driver:object) -> None:\n",
    "    \"\"\"Choose ad category\"\"\"\n",
    "\n",
    "    driver.find_element(by=By.XPATH, value=category).click()"
   ],
   "metadata": {
    "collapsed": false
   }
  },
  {
   "cell_type": "code",
   "execution_count": 28,
   "outputs": [],
   "source": [
    "def click_element(element:object, path:str) -> None:\n",
    "    \"\"\"Click element on the current document\"\"\"\n",
    "\n",
    "    button = element.find_element(by=By.XPATH, value=path)\n",
    "    button.click()"
   ],
   "metadata": {
    "collapsed": false
   }
  },
  {
   "cell_type": "code",
   "execution_count": 29,
   "outputs": [],
   "source": [
    "def extract_description(element:object, path:str) -> str:\n",
    "    \"\"\"Extract ad description on the current document\"\"\"\n",
    "\n",
    "    description:str = element.find_element(by=By.XPATH, value=path)\n",
    "    return description"
   ],
   "metadata": {
    "collapsed": false
   }
  },
  {
   "cell_type": "code",
   "execution_count": 30,
   "outputs": [],
   "source": [
    "def extract_feature(element:object, path:str) -> list[str]:\n",
    "    \"\"\"Extract some feature from list document based on xpath used.\"\"\"\n",
    "\n",
    "    feature = []\n",
    "\n",
    "    try:\n",
    "        feature:str = element.find_elements(by=By.XPATH, value=path)\n",
    "        feature = [data_point.text for data_point in feature]\n",
    "        return feature\n",
    "    except Exception:\n",
    "        feature.append(\"Web wasn't able to scrape the feature\")"
   ],
   "metadata": {
    "collapsed": false
   }
  },
  {
   "cell_type": "code",
   "execution_count": 31,
   "outputs": [],
   "source": [
    "def persistence(dataframe:pd.DataFrame) -> None:\n",
    "    \"\"\"Generate .csv file from data scraped\"\"\"\n",
    "\n",
    "    file_name = datetime.today().strftime(\"%B-%d\")\n",
    "    dataframe.to_csv(f\"persistence/{file_name}.csv\", index=False)"
   ],
   "metadata": {
    "collapsed": false
   }
  },
  {
   "cell_type": "code",
   "execution_count": 32,
   "outputs": [],
   "source": [
    "def parse_price(dataframe: pd.DataFrame, column:str, pattern:str) -> None:\n",
    "    \"\"\"\n",
    "    Cast string prices to int prices.\n",
    "    Works with $#,### or $#,###\\n* pattern\n",
    "    \"\"\"\n",
    "\n",
    "\n",
    "    dataframe[column] = dataframe [column] \\\n",
    "        .str.extract(pattern) \\\n",
    "        .applymap(lambda price: int(price.replace(\",\",\"\")))\n"
   ],
   "metadata": {
    "collapsed": false
   }
  },
  {
   "cell_type": "code",
   "execution_count": 55,
   "outputs": [],
   "source": [
    "def check_len(features:list[list[str]]) -> bool:\n",
    "    base_len = len(features[0])\n",
    "    lengths = []\n",
    "    lengths.append(base_len)\n",
    "    for feature in features:\n",
    "        if len(feature) == base_len:\n",
    "            continue\n",
    "        else:\n",
    "             lengths.append(len(feature))\n",
    "    return lengths"
   ],
   "metadata": {
    "collapsed": false
   }
  },
  {
   "cell_type": "markdown",
   "source": [
    "## Extraction 🧲"
   ],
   "metadata": {
    "collapsed": false
   }
  },
  {
   "cell_type": "markdown",
   "source": [
    "----"
   ],
   "metadata": {
    "collapsed": false
   }
  },
  {
   "cell_type": "markdown",
   "source": [
    "### Sedan:"
   ],
   "metadata": {
    "collapsed": false
   }
  },
  {
   "cell_type": "markdown",
   "source": [
    "Variables pool."
   ],
   "metadata": {
    "collapsed": false
   }
  },
  {
   "cell_type": "code",
   "execution_count": 33,
   "outputs": [],
   "source": [
    "descriptions:list[str] = []\n",
    "prices:list[int] = []\n",
    "models:list[str] = []\n",
    "years:list[int] = []\n",
    "kilometers:list[int] = []\n",
    "engines:list[str] = []\n",
    "\n",
    "# seconds\n",
    "DELAY:int = 3"
   ],
   "metadata": {
    "collapsed": false
   }
  },
  {
   "cell_type": "code",
   "execution_count": 34,
   "outputs": [],
   "source": [
    "sedan = resources(\"cars_sedan\")"
   ],
   "metadata": {
    "collapsed": false
   }
  },
  {
   "cell_type": "markdown",
   "source": [
    "Get web & close initial prompt."
   ],
   "metadata": {
    "collapsed": false
   }
  },
  {
   "cell_type": "code",
   "execution_count": 35,
   "outputs": [],
   "source": [
    "edge.get(sedan[\"url\"])"
   ],
   "metadata": {
    "collapsed": false
   }
  },
  {
   "cell_type": "code",
   "execution_count": 36,
   "outputs": [],
   "source": [
    "close_prompt(edge)"
   ],
   "metadata": {
    "collapsed": false
   }
  },
  {
   "cell_type": "code",
   "execution_count": 37,
   "outputs": [],
   "source": [
    "elements = edge.find_elements(by=By.XPATH, value=sedan[\"ad\"])"
   ],
   "metadata": {
    "collapsed": false
   }
  },
  {
   "cell_type": "markdown",
   "source": [
    "Extract descriptions."
   ],
   "metadata": {
    "collapsed": false
   }
  },
  {
   "cell_type": "code",
   "execution_count": 38,
   "outputs": [],
   "source": [
    "elements[0].click()\n",
    "try:\n",
    "    for element in range(len(elements)):\n",
    "        dynamic_delay = WebDriverWait(edge, DELAY).until(EC.presence_of_element_located((By.XPATH, sedan[\"description\"])))\n",
    "        temp = extract_description(edge, sedan[\"description\"])\n",
    "        descriptions.append(temp.text)\n",
    "        click_element(edge, sedan[\"next\"])\n",
    "except TimeoutException as TE:\n",
    "    descriptions.append(\"Web wasn't able to scrape descriptions\")\n",
    "except NoSuchElementException as NSE:\n",
    "    click_element(edge, sedan[\"exit\"])"
   ],
   "metadata": {
    "collapsed": false
   }
  },
  {
   "cell_type": "markdown",
   "source": [
    "Extract prices & models."
   ],
   "metadata": {
    "collapsed": false
   }
  },
  {
   "cell_type": "code",
   "execution_count": 39,
   "outputs": [],
   "source": [
    "prices = extract_feature(edge, sedan[\"price\"])\n",
    "models = extract_feature(edge, sedan[\"model\"])\n",
    "# models.remove(\"Blue Book Encuentra24\")"
   ],
   "metadata": {
    "collapsed": false
   }
  },
  {
   "cell_type": "markdown",
   "source": [
    "Extract car year, engine & kilometers."
   ],
   "metadata": {
    "collapsed": false
   }
  },
  {
   "cell_type": "code",
   "execution_count": 40,
   "outputs": [],
   "source": [
    "years = extract_feature(edge, sedan[\"year\"])\n",
    "engines = extract_feature(edge, sedan[\"engine\"])\n",
    "kilometers = extract_feature(edge, sedan[\"kilometers\"])"
   ],
   "metadata": {
    "collapsed": false
   }
  },
  {
   "cell_type": "code",
   "execution_count": 56,
   "outputs": [
    {
     "data": {
      "text/plain": "[47, 48, 48, 46]"
     },
     "execution_count": 56,
     "metadata": {},
     "output_type": "execute_result"
    }
   ],
   "source": [
    "lengths = [prices, models, years, engines, kilometers, descriptions]\n",
    "check_len(lengths)"
   ],
   "metadata": {
    "collapsed": false
   }
  },
  {
   "cell_type": "markdown",
   "source": [
    "## Transformation ⚙"
   ],
   "metadata": {
    "collapsed": false
   }
  },
  {
   "cell_type": "markdown",
   "source": [
    "There exist a missing kilometer value, so in kilometers actually was append a engine type instead a kilometer value due it's value is missing."
   ],
   "metadata": {
    "collapsed": false
   }
  },
  {
   "cell_type": "markdown",
   "source": [
    "---"
   ],
   "metadata": {
    "collapsed": false
   }
  },
  {
   "cell_type": "code",
   "execution_count": null,
   "outputs": [],
   "source": [
    "# years.remove(\"Ver más\")\n",
    "# engines.append(\"Gasolina\")\n",
    "# kilometers.remove(\"Gasolina\")\n",
    "# kilometers.insert(-2,\"0\")"
   ],
   "metadata": {
    "collapsed": false
   }
  },
  {
   "cell_type": "markdown",
   "source": [
    "Temporal df to apply transformation and after save it as csv."
   ],
   "metadata": {
    "collapsed": false
   }
  },
  {
   "cell_type": "code",
   "execution_count": 41,
   "outputs": [
    {
     "ename": "ValueError",
     "evalue": "All arrays must be of the same length",
     "output_type": "error",
     "traceback": [
      "\u001B[1;31m---------------------------------------------------------------------------\u001B[0m",
      "\u001B[1;31mValueError\u001B[0m                                Traceback (most recent call last)",
      "Cell \u001B[1;32mIn[41], line 1\u001B[0m\n\u001B[1;32m----> 1\u001B[0m df_temp \u001B[38;5;241m=\u001B[39m \u001B[43mpd\u001B[49m\u001B[38;5;241;43m.\u001B[39;49m\u001B[43mDataFrame\u001B[49m\u001B[43m(\u001B[49m\u001B[43m{\u001B[49m\n\u001B[0;32m      2\u001B[0m \u001B[43m    \u001B[49m\u001B[38;5;124;43m\"\u001B[39;49m\u001B[38;5;124;43mmodel\u001B[39;49m\u001B[38;5;124;43m\"\u001B[39;49m\u001B[43m:\u001B[49m\u001B[43m \u001B[49m\u001B[43mmodels\u001B[49m\u001B[43m,\u001B[49m\n\u001B[0;32m      3\u001B[0m \u001B[43m    \u001B[49m\u001B[38;5;124;43m\"\u001B[39;49m\u001B[38;5;124;43myear\u001B[39;49m\u001B[38;5;124;43m\"\u001B[39;49m\u001B[43m:\u001B[49m\u001B[43m \u001B[49m\u001B[43myears\u001B[49m\u001B[43m,\u001B[49m\n\u001B[0;32m      4\u001B[0m \u001B[43m    \u001B[49m\u001B[38;5;124;43m\"\u001B[39;49m\u001B[38;5;124;43mkilometers\u001B[39;49m\u001B[38;5;124;43m\"\u001B[39;49m\u001B[43m:\u001B[49m\u001B[43m \u001B[49m\u001B[43mkilometers\u001B[49m\u001B[43m,\u001B[49m\n\u001B[0;32m      5\u001B[0m \u001B[43m    \u001B[49m\u001B[38;5;124;43m\"\u001B[39;49m\u001B[38;5;124;43mengine\u001B[39;49m\u001B[38;5;124;43m\"\u001B[39;49m\u001B[43m:\u001B[49m\u001B[43m \u001B[49m\u001B[43mengines\u001B[49m\u001B[43m,\u001B[49m\n\u001B[0;32m      6\u001B[0m \u001B[43m    \u001B[49m\u001B[38;5;124;43m\"\u001B[39;49m\u001B[38;5;124;43mprice\u001B[39;49m\u001B[38;5;124;43m\"\u001B[39;49m\u001B[43m:\u001B[49m\u001B[43m \u001B[49m\u001B[43mprices\u001B[49m\u001B[43m,\u001B[49m\n\u001B[0;32m      7\u001B[0m \u001B[43m    \u001B[49m\u001B[38;5;124;43m\"\u001B[39;49m\u001B[38;5;124;43mdescription\u001B[39;49m\u001B[38;5;124;43m\"\u001B[39;49m\u001B[43m:\u001B[49m\u001B[43m \u001B[49m\u001B[43mdescriptions\u001B[49m\n\u001B[0;32m      8\u001B[0m \u001B[43m}\u001B[49m\u001B[43m)\u001B[49m\n",
      "File \u001B[1;32m~\\miniconda3\\envs\\Scraping\\lib\\site-packages\\pandas\\core\\frame.py:663\u001B[0m, in \u001B[0;36mDataFrame.__init__\u001B[1;34m(self, data, index, columns, dtype, copy)\u001B[0m\n\u001B[0;32m    657\u001B[0m     mgr \u001B[38;5;241m=\u001B[39m \u001B[38;5;28mself\u001B[39m\u001B[38;5;241m.\u001B[39m_init_mgr(\n\u001B[0;32m    658\u001B[0m         data, axes\u001B[38;5;241m=\u001B[39m{\u001B[38;5;124m\"\u001B[39m\u001B[38;5;124mindex\u001B[39m\u001B[38;5;124m\"\u001B[39m: index, \u001B[38;5;124m\"\u001B[39m\u001B[38;5;124mcolumns\u001B[39m\u001B[38;5;124m\"\u001B[39m: columns}, dtype\u001B[38;5;241m=\u001B[39mdtype, copy\u001B[38;5;241m=\u001B[39mcopy\n\u001B[0;32m    659\u001B[0m     )\n\u001B[0;32m    661\u001B[0m \u001B[38;5;28;01melif\u001B[39;00m \u001B[38;5;28misinstance\u001B[39m(data, \u001B[38;5;28mdict\u001B[39m):\n\u001B[0;32m    662\u001B[0m     \u001B[38;5;66;03m# GH#38939 de facto copy defaults to False only in non-dict cases\u001B[39;00m\n\u001B[1;32m--> 663\u001B[0m     mgr \u001B[38;5;241m=\u001B[39m \u001B[43mdict_to_mgr\u001B[49m\u001B[43m(\u001B[49m\u001B[43mdata\u001B[49m\u001B[43m,\u001B[49m\u001B[43m \u001B[49m\u001B[43mindex\u001B[49m\u001B[43m,\u001B[49m\u001B[43m \u001B[49m\u001B[43mcolumns\u001B[49m\u001B[43m,\u001B[49m\u001B[43m \u001B[49m\u001B[43mdtype\u001B[49m\u001B[38;5;241;43m=\u001B[39;49m\u001B[43mdtype\u001B[49m\u001B[43m,\u001B[49m\u001B[43m \u001B[49m\u001B[43mcopy\u001B[49m\u001B[38;5;241;43m=\u001B[39;49m\u001B[43mcopy\u001B[49m\u001B[43m,\u001B[49m\u001B[43m \u001B[49m\u001B[43mtyp\u001B[49m\u001B[38;5;241;43m=\u001B[39;49m\u001B[43mmanager\u001B[49m\u001B[43m)\u001B[49m\n\u001B[0;32m    664\u001B[0m \u001B[38;5;28;01melif\u001B[39;00m \u001B[38;5;28misinstance\u001B[39m(data, ma\u001B[38;5;241m.\u001B[39mMaskedArray):\n\u001B[0;32m    665\u001B[0m     \u001B[38;5;28;01mimport\u001B[39;00m \u001B[38;5;21;01mnumpy\u001B[39;00m\u001B[38;5;21;01m.\u001B[39;00m\u001B[38;5;21;01mma\u001B[39;00m\u001B[38;5;21;01m.\u001B[39;00m\u001B[38;5;21;01mmrecords\u001B[39;00m \u001B[38;5;28;01mas\u001B[39;00m \u001B[38;5;21;01mmrecords\u001B[39;00m\n",
      "File \u001B[1;32m~\\miniconda3\\envs\\Scraping\\lib\\site-packages\\pandas\\core\\internals\\construction.py:493\u001B[0m, in \u001B[0;36mdict_to_mgr\u001B[1;34m(data, index, columns, dtype, typ, copy)\u001B[0m\n\u001B[0;32m    489\u001B[0m     \u001B[38;5;28;01melse\u001B[39;00m:\n\u001B[0;32m    490\u001B[0m         \u001B[38;5;66;03m# dtype check to exclude e.g. range objects, scalars\u001B[39;00m\n\u001B[0;32m    491\u001B[0m         arrays \u001B[38;5;241m=\u001B[39m [x\u001B[38;5;241m.\u001B[39mcopy() \u001B[38;5;28;01mif\u001B[39;00m \u001B[38;5;28mhasattr\u001B[39m(x, \u001B[38;5;124m\"\u001B[39m\u001B[38;5;124mdtype\u001B[39m\u001B[38;5;124m\"\u001B[39m) \u001B[38;5;28;01melse\u001B[39;00m x \u001B[38;5;28;01mfor\u001B[39;00m x \u001B[38;5;129;01min\u001B[39;00m arrays]\n\u001B[1;32m--> 493\u001B[0m \u001B[38;5;28;01mreturn\u001B[39;00m \u001B[43marrays_to_mgr\u001B[49m\u001B[43m(\u001B[49m\u001B[43marrays\u001B[49m\u001B[43m,\u001B[49m\u001B[43m \u001B[49m\u001B[43mcolumns\u001B[49m\u001B[43m,\u001B[49m\u001B[43m \u001B[49m\u001B[43mindex\u001B[49m\u001B[43m,\u001B[49m\u001B[43m \u001B[49m\u001B[43mdtype\u001B[49m\u001B[38;5;241;43m=\u001B[39;49m\u001B[43mdtype\u001B[49m\u001B[43m,\u001B[49m\u001B[43m \u001B[49m\u001B[43mtyp\u001B[49m\u001B[38;5;241;43m=\u001B[39;49m\u001B[43mtyp\u001B[49m\u001B[43m,\u001B[49m\u001B[43m \u001B[49m\u001B[43mconsolidate\u001B[49m\u001B[38;5;241;43m=\u001B[39;49m\u001B[43mcopy\u001B[49m\u001B[43m)\u001B[49m\n",
      "File \u001B[1;32m~\\miniconda3\\envs\\Scraping\\lib\\site-packages\\pandas\\core\\internals\\construction.py:118\u001B[0m, in \u001B[0;36marrays_to_mgr\u001B[1;34m(arrays, columns, index, dtype, verify_integrity, typ, consolidate)\u001B[0m\n\u001B[0;32m    115\u001B[0m \u001B[38;5;28;01mif\u001B[39;00m verify_integrity:\n\u001B[0;32m    116\u001B[0m     \u001B[38;5;66;03m# figure out the index, if necessary\u001B[39;00m\n\u001B[0;32m    117\u001B[0m     \u001B[38;5;28;01mif\u001B[39;00m index \u001B[38;5;129;01mis\u001B[39;00m \u001B[38;5;28;01mNone\u001B[39;00m:\n\u001B[1;32m--> 118\u001B[0m         index \u001B[38;5;241m=\u001B[39m \u001B[43m_extract_index\u001B[49m\u001B[43m(\u001B[49m\u001B[43marrays\u001B[49m\u001B[43m)\u001B[49m\n\u001B[0;32m    119\u001B[0m     \u001B[38;5;28;01melse\u001B[39;00m:\n\u001B[0;32m    120\u001B[0m         index \u001B[38;5;241m=\u001B[39m ensure_index(index)\n",
      "File \u001B[1;32m~\\miniconda3\\envs\\Scraping\\lib\\site-packages\\pandas\\core\\internals\\construction.py:666\u001B[0m, in \u001B[0;36m_extract_index\u001B[1;34m(data)\u001B[0m\n\u001B[0;32m    664\u001B[0m lengths \u001B[38;5;241m=\u001B[39m \u001B[38;5;28mlist\u001B[39m(\u001B[38;5;28mset\u001B[39m(raw_lengths))\n\u001B[0;32m    665\u001B[0m \u001B[38;5;28;01mif\u001B[39;00m \u001B[38;5;28mlen\u001B[39m(lengths) \u001B[38;5;241m>\u001B[39m \u001B[38;5;241m1\u001B[39m:\n\u001B[1;32m--> 666\u001B[0m     \u001B[38;5;28;01mraise\u001B[39;00m \u001B[38;5;167;01mValueError\u001B[39;00m(\u001B[38;5;124m\"\u001B[39m\u001B[38;5;124mAll arrays must be of the same length\u001B[39m\u001B[38;5;124m\"\u001B[39m)\n\u001B[0;32m    668\u001B[0m \u001B[38;5;28;01mif\u001B[39;00m have_dicts:\n\u001B[0;32m    669\u001B[0m     \u001B[38;5;28;01mraise\u001B[39;00m \u001B[38;5;167;01mValueError\u001B[39;00m(\n\u001B[0;32m    670\u001B[0m         \u001B[38;5;124m\"\u001B[39m\u001B[38;5;124mMixing dicts with non-Series may lead to ambiguous ordering.\u001B[39m\u001B[38;5;124m\"\u001B[39m\n\u001B[0;32m    671\u001B[0m     )\n",
      "\u001B[1;31mValueError\u001B[0m: All arrays must be of the same length"
     ]
    }
   ],
   "source": [
    "df_temp = pd.DataFrame({\n",
    "    \"model\": models,\n",
    "    \"year\": years,\n",
    "    \"kilometers\": kilometers,\n",
    "    \"engine\": engines,\n",
    "    \"price\": prices,\n",
    "    \"description\": descriptions\n",
    "})"
   ],
   "metadata": {
    "collapsed": false
   }
  },
  {
   "cell_type": "markdown",
   "source": [
    "### Parse columns:"
   ],
   "metadata": {
    "collapsed": false
   }
  },
  {
   "cell_type": "markdown",
   "source": [
    "Chance column dtype from str -> int"
   ],
   "metadata": {
    "collapsed": false
   }
  },
  {
   "cell_type": "code",
   "execution_count": null,
   "outputs": [],
   "source": [
    "price_rg:str = r\"^\\$(?P<prices>\\d+,\\d+)?\"\n",
    "parse_price(df_temp, \"price\", price_rg)"
   ],
   "metadata": {
    "collapsed": false
   }
  },
  {
   "cell_type": "code",
   "execution_count": null,
   "outputs": [],
   "source": [
    "km_rg: str = r\"(?P<km>^\\d+)\"\n",
    "df_temp[\"kilometers\"] = df_temp[\"kilometers\"].str.extract(km_rg).applymap(int)"
   ],
   "metadata": {
    "collapsed": false
   }
  },
  {
   "cell_type": "code",
   "execution_count": null,
   "outputs": [],
   "source": [
    "df_temp[\"year\"] = df_temp[\"year\"].map(int)"
   ],
   "metadata": {
    "collapsed": false
   }
  },
  {
   "cell_type": "code",
   "execution_count": 209,
   "outputs": [],
   "source": [
    "persistence(df_temp)"
   ],
   "metadata": {
    "collapsed": false
   }
  },
  {
   "cell_type": "markdown",
   "source": [
    "### Dummies:"
   ],
   "metadata": {
    "collapsed": false
   }
  },
  {
   "cell_type": "markdown",
   "source": [
    "Dummies for categorical variables"
   ],
   "metadata": {
    "collapsed": false
   }
  },
  {
   "cell_type": "code",
   "execution_count": 14,
   "outputs": [],
   "source": [
    "df = pd.read_csv(\"./persistence/February-13.csv\")\n",
    "df_dum = df.copy()"
   ],
   "metadata": {
    "collapsed": false
   }
  },
  {
   "cell_type": "code",
   "execution_count": 17,
   "outputs": [],
   "source": [
    "dummies = pd.get_dummies(df_dum[\"engine\"], prefix=\"engine\")\n",
    "df_dum = pd.concat([df_dum, dummies], axis=1)"
   ],
   "metadata": {
    "collapsed": false
   }
  },
  {
   "cell_type": "code",
   "execution_count": 20,
   "outputs": [],
   "source": [
    "df_dum = df_dum.drop([\"engine\"], axis=1)"
   ],
   "metadata": {
    "collapsed": false
   }
  },
  {
   "cell_type": "code",
   "execution_count": 21,
   "outputs": [
    {
     "data": {
      "text/plain": "                model  year  kilometers  price  \\\n0       Nissan Sentra  2018       60323   9850   \n1           Kia Forte  2017       53000   9000   \n2          Honda City  2013      209470   7900   \n3           Kia Forte  2016      116672   6975   \n4         Honda Civic  2017       66000  13500   \n5      Toyota Corolla  2016       95500  10800   \n6      Daihatsu Rocky  1992      150000   5000   \n7             Mazda 3  2011      133000   5800   \n8     Chevrolet Spark  2020       83903   7350   \n9         Honda Civic  2019       45000  15000   \n10  Mercedes Benz 230  2007      148000   8500   \n11  Mitsubishi Mirage  2000      262634   3300   \n12       Toyota Yaris  2015      105000  12300   \n13         Ford Focus  2007      200000   3600   \n14         Dodge DART  2013       88000   6500   \n15        Nissan Juke  2016          73  10800   \n16   Hyundai Santa Fe  2011      139457   8800   \n17      Nissan Sentra  2017       88267   7075   \n18            Kia Rio  2019       46992  10500   \n19      Nissan Sentra  2021      127580   3600   \n20            Kia Rio  2016       82500   9500   \n21            Mazda 3  2010      155742   4800   \n22    Hyundai Elantra  2018       41200  11500   \n23            Mazda 6  2012      112000   5500   \n24        Honda Civic  2006         192   4500   \n25            Kia Rio  2018       51000   9300   \n26            Kia Rio  2016      111689   8500   \n27     Toyota Corolla  2017         113  11600   \n28     Toyota Corolla  2018       38000  11900   \n29    Chevrolet Spark  2016       75005   7500   \n30        Honda Civic  2014          62  10500   \n31       Toyota Yaris  2008      149800   5500   \n32      Nissan Sentra  2013       14000   6500   \n33      Toyota Matrix  2010        2345   7800   \n34          Ford Figo  2017       46000  10000   \n35    Chevrolet Cruze  2014       89700   6300   \n36       Nissan Versa  2014      173809   6500   \n37           Kia SOUL  2016       81570   9300   \n38       Nissan Versa  2017       75000   7800   \n39        Ford Fiesta  2019       39000   8150   \n40          Kia Forte  2017       76000   8300   \n41      Jaguar Type S  2007       75300   8500   \n42     Hyundai Sonata  2013           0   6950   \n43     Hyundai Sonata  2005      141000   2900   \n44      Nissan Sentra  2017       67000  11900   \n\n                                          description  engine_Diesel  \\\n0   Garantía: Como es visto no hay garantía\\nFinan...              0   \n1   Garantía: Como es visto no hay garantía\\nFinan...              0   \n2   Financiamiento: no\\nPrecio negociable: si\\nCol...              0   \n3   Garantía: Como es visto no hay garantía\\nFinan...              0   \n4   Garantía: Garantía de fabrica restante.\\nFinan...              0   \n5   Financiamiento: no\\nPrecio negociable: si\\nDES...              0   \n6         Color : Rojo y Negro\\nSeñor Guzmán contacto              1   \n7   Precio negociable: si\\nVendo mazda 3 año 2011 ...              0   \n8   Garantía: Como es visto no hay garantía\\nFinan...              0   \n9   Financiamiento: no\\nPrecio negociable: si\\nCol...              0   \n10  Color : Plata Iridio Metalizado\\nDe agencia, p...              0   \n11  Garantía: Como es visto no hay garantía\\nPreci...              0   \n12  Financiamiento: no\\nPrecio negociable: si\\nCol...              0   \n13  Garantía: Como es visto no hay garantía\\nFinan...              0   \n14  Color : Rojo.\\nInteresados Illamarme  . Versio...              0   \n15  Precio negociable: si\\nNissan Juke 2016 en exc...              0   \n16  Precio negociable: si\\nColor : Azul\\nDESCRIPCI...              0   \n17  Garantía: Como es visto no hay garantía\\nFinan...              0   \n18  Financiamiento: no\\nPrecio negociable: si\\nFul...              0   \n19  Financiamiento: no\\nPrecio negociable: si\\nCol...              0   \n20  Precio negociable: si\\nColor : Negro\\nDESCRIPC...              0   \n21  Precio negociable: si\\nColor : Negro\\n**Mazda ...              0   \n22  Color : NEGRO\\nYA TIENE PLACAS\\nWhatsApp o Tel...              0   \n23  Precio negociable: si\\nDESCRIPCIÓN\\nCALIFICACI...              0   \n24  Precio negociable: si\\nColor : Blanco\\nDESCRIP...              0   \n25  Precio negociable: si\\nVendo kia río 2018 en o...              0   \n26  Financiamiento: si\\nColor : Azul\\nDESCRIPCIÓN\\...              0   \n27  Precio negociable: si\\nColor : Negro\\nDESCRIPC...              0   \n28  Precio negociable: si\\nColor : Negro\\nSEDAN CO...              0   \n29  Garantía: Como es visto no hay garantía\\nFinan...              0   \n30  DESCRIPCIÓN\\nCALIFICACIÓN\\nSEGURIDAD\\nvendo o ...              0   \n31  Precio negociable: si\\nColor : Celeste\\nDESCRI...              0   \n32  Color : Negro\\nDESCRIPCIÓN\\nCALIFICACIÓN\\nSEGU...              0   \n33  Precio negociable: si\\nColor : Blanco\\nTIPO SE...              0   \n34  Financiamiento: no\\nPrecio negociable: si\\nCol...              0   \n35  Precio negociable: si\\nColor : Gris\\nDESCRIPCI...              0   \n36  DESCRIPCIÓN\\nCALIFICACIÓN\\nSEGURIDAD\\nNissan V...              0   \n37  Color : Beige\\nDESCRIPCIÓN\\nARTÍCULOS\\nCALIFIC...              0   \n38  Color : Azul\\nDESCRIPCIÓN\\nCALIFICACIÓN\\nSEGUR...              0   \n39  Garantía: Como es visto no hay garantía\\nFORD ...              0   \n40   DESCRIPCIÓN\\nCALIFICACIÓN\\nSEGURIDAD\\nNEGOCIABLE              0   \n41  Precio negociable: si\\nColor : Gris\\nSe Vende ...              0   \n42  Precio negociable: si\\nColor : Blanco Perla\\nD...              0   \n43  Financiamiento: no\\nPrecio negociable: si\\nCol...              0   \n44  Color : Gris Oscuro (Charcole)\\nDESCRIPCIÓN\\nC...              0   \n\n    engine_Gasolina  \n0                 1  \n1                 1  \n2                 1  \n3                 1  \n4                 1  \n5                 1  \n6                 0  \n7                 1  \n8                 1  \n9                 1  \n10                1  \n11                1  \n12                1  \n13                1  \n14                1  \n15                1  \n16                1  \n17                1  \n18                1  \n19                1  \n20                1  \n21                1  \n22                1  \n23                1  \n24                1  \n25                1  \n26                1  \n27                1  \n28                1  \n29                1  \n30                1  \n31                1  \n32                1  \n33                1  \n34                1  \n35                1  \n36                1  \n37                1  \n38                1  \n39                1  \n40                1  \n41                1  \n42                1  \n43                1  \n44                1  ",
      "text/html": "<div>\n<style scoped>\n    .dataframe tbody tr th:only-of-type {\n        vertical-align: middle;\n    }\n\n    .dataframe tbody tr th {\n        vertical-align: top;\n    }\n\n    .dataframe thead th {\n        text-align: right;\n    }\n</style>\n<table border=\"1\" class=\"dataframe\">\n  <thead>\n    <tr style=\"text-align: right;\">\n      <th></th>\n      <th>model</th>\n      <th>year</th>\n      <th>kilometers</th>\n      <th>price</th>\n      <th>description</th>\n      <th>engine_Diesel</th>\n      <th>engine_Gasolina</th>\n    </tr>\n  </thead>\n  <tbody>\n    <tr>\n      <th>0</th>\n      <td>Nissan Sentra</td>\n      <td>2018</td>\n      <td>60323</td>\n      <td>9850</td>\n      <td>Garantía: Como es visto no hay garantía\\nFinan...</td>\n      <td>0</td>\n      <td>1</td>\n    </tr>\n    <tr>\n      <th>1</th>\n      <td>Kia Forte</td>\n      <td>2017</td>\n      <td>53000</td>\n      <td>9000</td>\n      <td>Garantía: Como es visto no hay garantía\\nFinan...</td>\n      <td>0</td>\n      <td>1</td>\n    </tr>\n    <tr>\n      <th>2</th>\n      <td>Honda City</td>\n      <td>2013</td>\n      <td>209470</td>\n      <td>7900</td>\n      <td>Financiamiento: no\\nPrecio negociable: si\\nCol...</td>\n      <td>0</td>\n      <td>1</td>\n    </tr>\n    <tr>\n      <th>3</th>\n      <td>Kia Forte</td>\n      <td>2016</td>\n      <td>116672</td>\n      <td>6975</td>\n      <td>Garantía: Como es visto no hay garantía\\nFinan...</td>\n      <td>0</td>\n      <td>1</td>\n    </tr>\n    <tr>\n      <th>4</th>\n      <td>Honda Civic</td>\n      <td>2017</td>\n      <td>66000</td>\n      <td>13500</td>\n      <td>Garantía: Garantía de fabrica restante.\\nFinan...</td>\n      <td>0</td>\n      <td>1</td>\n    </tr>\n    <tr>\n      <th>5</th>\n      <td>Toyota Corolla</td>\n      <td>2016</td>\n      <td>95500</td>\n      <td>10800</td>\n      <td>Financiamiento: no\\nPrecio negociable: si\\nDES...</td>\n      <td>0</td>\n      <td>1</td>\n    </tr>\n    <tr>\n      <th>6</th>\n      <td>Daihatsu Rocky</td>\n      <td>1992</td>\n      <td>150000</td>\n      <td>5000</td>\n      <td>Color : Rojo y Negro\\nSeñor Guzmán contacto</td>\n      <td>1</td>\n      <td>0</td>\n    </tr>\n    <tr>\n      <th>7</th>\n      <td>Mazda 3</td>\n      <td>2011</td>\n      <td>133000</td>\n      <td>5800</td>\n      <td>Precio negociable: si\\nVendo mazda 3 año 2011 ...</td>\n      <td>0</td>\n      <td>1</td>\n    </tr>\n    <tr>\n      <th>8</th>\n      <td>Chevrolet Spark</td>\n      <td>2020</td>\n      <td>83903</td>\n      <td>7350</td>\n      <td>Garantía: Como es visto no hay garantía\\nFinan...</td>\n      <td>0</td>\n      <td>1</td>\n    </tr>\n    <tr>\n      <th>9</th>\n      <td>Honda Civic</td>\n      <td>2019</td>\n      <td>45000</td>\n      <td>15000</td>\n      <td>Financiamiento: no\\nPrecio negociable: si\\nCol...</td>\n      <td>0</td>\n      <td>1</td>\n    </tr>\n    <tr>\n      <th>10</th>\n      <td>Mercedes Benz 230</td>\n      <td>2007</td>\n      <td>148000</td>\n      <td>8500</td>\n      <td>Color : Plata Iridio Metalizado\\nDe agencia, p...</td>\n      <td>0</td>\n      <td>1</td>\n    </tr>\n    <tr>\n      <th>11</th>\n      <td>Mitsubishi Mirage</td>\n      <td>2000</td>\n      <td>262634</td>\n      <td>3300</td>\n      <td>Garantía: Como es visto no hay garantía\\nPreci...</td>\n      <td>0</td>\n      <td>1</td>\n    </tr>\n    <tr>\n      <th>12</th>\n      <td>Toyota Yaris</td>\n      <td>2015</td>\n      <td>105000</td>\n      <td>12300</td>\n      <td>Financiamiento: no\\nPrecio negociable: si\\nCol...</td>\n      <td>0</td>\n      <td>1</td>\n    </tr>\n    <tr>\n      <th>13</th>\n      <td>Ford Focus</td>\n      <td>2007</td>\n      <td>200000</td>\n      <td>3600</td>\n      <td>Garantía: Como es visto no hay garantía\\nFinan...</td>\n      <td>0</td>\n      <td>1</td>\n    </tr>\n    <tr>\n      <th>14</th>\n      <td>Dodge DART</td>\n      <td>2013</td>\n      <td>88000</td>\n      <td>6500</td>\n      <td>Color : Rojo.\\nInteresados Illamarme  . Versio...</td>\n      <td>0</td>\n      <td>1</td>\n    </tr>\n    <tr>\n      <th>15</th>\n      <td>Nissan Juke</td>\n      <td>2016</td>\n      <td>73</td>\n      <td>10800</td>\n      <td>Precio negociable: si\\nNissan Juke 2016 en exc...</td>\n      <td>0</td>\n      <td>1</td>\n    </tr>\n    <tr>\n      <th>16</th>\n      <td>Hyundai Santa Fe</td>\n      <td>2011</td>\n      <td>139457</td>\n      <td>8800</td>\n      <td>Precio negociable: si\\nColor : Azul\\nDESCRIPCI...</td>\n      <td>0</td>\n      <td>1</td>\n    </tr>\n    <tr>\n      <th>17</th>\n      <td>Nissan Sentra</td>\n      <td>2017</td>\n      <td>88267</td>\n      <td>7075</td>\n      <td>Garantía: Como es visto no hay garantía\\nFinan...</td>\n      <td>0</td>\n      <td>1</td>\n    </tr>\n    <tr>\n      <th>18</th>\n      <td>Kia Rio</td>\n      <td>2019</td>\n      <td>46992</td>\n      <td>10500</td>\n      <td>Financiamiento: no\\nPrecio negociable: si\\nFul...</td>\n      <td>0</td>\n      <td>1</td>\n    </tr>\n    <tr>\n      <th>19</th>\n      <td>Nissan Sentra</td>\n      <td>2021</td>\n      <td>127580</td>\n      <td>3600</td>\n      <td>Financiamiento: no\\nPrecio negociable: si\\nCol...</td>\n      <td>0</td>\n      <td>1</td>\n    </tr>\n    <tr>\n      <th>20</th>\n      <td>Kia Rio</td>\n      <td>2016</td>\n      <td>82500</td>\n      <td>9500</td>\n      <td>Precio negociable: si\\nColor : Negro\\nDESCRIPC...</td>\n      <td>0</td>\n      <td>1</td>\n    </tr>\n    <tr>\n      <th>21</th>\n      <td>Mazda 3</td>\n      <td>2010</td>\n      <td>155742</td>\n      <td>4800</td>\n      <td>Precio negociable: si\\nColor : Negro\\n**Mazda ...</td>\n      <td>0</td>\n      <td>1</td>\n    </tr>\n    <tr>\n      <th>22</th>\n      <td>Hyundai Elantra</td>\n      <td>2018</td>\n      <td>41200</td>\n      <td>11500</td>\n      <td>Color : NEGRO\\nYA TIENE PLACAS\\nWhatsApp o Tel...</td>\n      <td>0</td>\n      <td>1</td>\n    </tr>\n    <tr>\n      <th>23</th>\n      <td>Mazda 6</td>\n      <td>2012</td>\n      <td>112000</td>\n      <td>5500</td>\n      <td>Precio negociable: si\\nDESCRIPCIÓN\\nCALIFICACI...</td>\n      <td>0</td>\n      <td>1</td>\n    </tr>\n    <tr>\n      <th>24</th>\n      <td>Honda Civic</td>\n      <td>2006</td>\n      <td>192</td>\n      <td>4500</td>\n      <td>Precio negociable: si\\nColor : Blanco\\nDESCRIP...</td>\n      <td>0</td>\n      <td>1</td>\n    </tr>\n    <tr>\n      <th>25</th>\n      <td>Kia Rio</td>\n      <td>2018</td>\n      <td>51000</td>\n      <td>9300</td>\n      <td>Precio negociable: si\\nVendo kia río 2018 en o...</td>\n      <td>0</td>\n      <td>1</td>\n    </tr>\n    <tr>\n      <th>26</th>\n      <td>Kia Rio</td>\n      <td>2016</td>\n      <td>111689</td>\n      <td>8500</td>\n      <td>Financiamiento: si\\nColor : Azul\\nDESCRIPCIÓN\\...</td>\n      <td>0</td>\n      <td>1</td>\n    </tr>\n    <tr>\n      <th>27</th>\n      <td>Toyota Corolla</td>\n      <td>2017</td>\n      <td>113</td>\n      <td>11600</td>\n      <td>Precio negociable: si\\nColor : Negro\\nDESCRIPC...</td>\n      <td>0</td>\n      <td>1</td>\n    </tr>\n    <tr>\n      <th>28</th>\n      <td>Toyota Corolla</td>\n      <td>2018</td>\n      <td>38000</td>\n      <td>11900</td>\n      <td>Precio negociable: si\\nColor : Negro\\nSEDAN CO...</td>\n      <td>0</td>\n      <td>1</td>\n    </tr>\n    <tr>\n      <th>29</th>\n      <td>Chevrolet Spark</td>\n      <td>2016</td>\n      <td>75005</td>\n      <td>7500</td>\n      <td>Garantía: Como es visto no hay garantía\\nFinan...</td>\n      <td>0</td>\n      <td>1</td>\n    </tr>\n    <tr>\n      <th>30</th>\n      <td>Honda Civic</td>\n      <td>2014</td>\n      <td>62</td>\n      <td>10500</td>\n      <td>DESCRIPCIÓN\\nCALIFICACIÓN\\nSEGURIDAD\\nvendo o ...</td>\n      <td>0</td>\n      <td>1</td>\n    </tr>\n    <tr>\n      <th>31</th>\n      <td>Toyota Yaris</td>\n      <td>2008</td>\n      <td>149800</td>\n      <td>5500</td>\n      <td>Precio negociable: si\\nColor : Celeste\\nDESCRI...</td>\n      <td>0</td>\n      <td>1</td>\n    </tr>\n    <tr>\n      <th>32</th>\n      <td>Nissan Sentra</td>\n      <td>2013</td>\n      <td>14000</td>\n      <td>6500</td>\n      <td>Color : Negro\\nDESCRIPCIÓN\\nCALIFICACIÓN\\nSEGU...</td>\n      <td>0</td>\n      <td>1</td>\n    </tr>\n    <tr>\n      <th>33</th>\n      <td>Toyota Matrix</td>\n      <td>2010</td>\n      <td>2345</td>\n      <td>7800</td>\n      <td>Precio negociable: si\\nColor : Blanco\\nTIPO SE...</td>\n      <td>0</td>\n      <td>1</td>\n    </tr>\n    <tr>\n      <th>34</th>\n      <td>Ford Figo</td>\n      <td>2017</td>\n      <td>46000</td>\n      <td>10000</td>\n      <td>Financiamiento: no\\nPrecio negociable: si\\nCol...</td>\n      <td>0</td>\n      <td>1</td>\n    </tr>\n    <tr>\n      <th>35</th>\n      <td>Chevrolet Cruze</td>\n      <td>2014</td>\n      <td>89700</td>\n      <td>6300</td>\n      <td>Precio negociable: si\\nColor : Gris\\nDESCRIPCI...</td>\n      <td>0</td>\n      <td>1</td>\n    </tr>\n    <tr>\n      <th>36</th>\n      <td>Nissan Versa</td>\n      <td>2014</td>\n      <td>173809</td>\n      <td>6500</td>\n      <td>DESCRIPCIÓN\\nCALIFICACIÓN\\nSEGURIDAD\\nNissan V...</td>\n      <td>0</td>\n      <td>1</td>\n    </tr>\n    <tr>\n      <th>37</th>\n      <td>Kia SOUL</td>\n      <td>2016</td>\n      <td>81570</td>\n      <td>9300</td>\n      <td>Color : Beige\\nDESCRIPCIÓN\\nARTÍCULOS\\nCALIFIC...</td>\n      <td>0</td>\n      <td>1</td>\n    </tr>\n    <tr>\n      <th>38</th>\n      <td>Nissan Versa</td>\n      <td>2017</td>\n      <td>75000</td>\n      <td>7800</td>\n      <td>Color : Azul\\nDESCRIPCIÓN\\nCALIFICACIÓN\\nSEGUR...</td>\n      <td>0</td>\n      <td>1</td>\n    </tr>\n    <tr>\n      <th>39</th>\n      <td>Ford Fiesta</td>\n      <td>2019</td>\n      <td>39000</td>\n      <td>8150</td>\n      <td>Garantía: Como es visto no hay garantía\\nFORD ...</td>\n      <td>0</td>\n      <td>1</td>\n    </tr>\n    <tr>\n      <th>40</th>\n      <td>Kia Forte</td>\n      <td>2017</td>\n      <td>76000</td>\n      <td>8300</td>\n      <td>DESCRIPCIÓN\\nCALIFICACIÓN\\nSEGURIDAD\\nNEGOCIABLE</td>\n      <td>0</td>\n      <td>1</td>\n    </tr>\n    <tr>\n      <th>41</th>\n      <td>Jaguar Type S</td>\n      <td>2007</td>\n      <td>75300</td>\n      <td>8500</td>\n      <td>Precio negociable: si\\nColor : Gris\\nSe Vende ...</td>\n      <td>0</td>\n      <td>1</td>\n    </tr>\n    <tr>\n      <th>42</th>\n      <td>Hyundai Sonata</td>\n      <td>2013</td>\n      <td>0</td>\n      <td>6950</td>\n      <td>Precio negociable: si\\nColor : Blanco Perla\\nD...</td>\n      <td>0</td>\n      <td>1</td>\n    </tr>\n    <tr>\n      <th>43</th>\n      <td>Hyundai Sonata</td>\n      <td>2005</td>\n      <td>141000</td>\n      <td>2900</td>\n      <td>Financiamiento: no\\nPrecio negociable: si\\nCol...</td>\n      <td>0</td>\n      <td>1</td>\n    </tr>\n    <tr>\n      <th>44</th>\n      <td>Nissan Sentra</td>\n      <td>2017</td>\n      <td>67000</td>\n      <td>11900</td>\n      <td>Color : Gris Oscuro (Charcole)\\nDESCRIPCIÓN\\nC...</td>\n      <td>0</td>\n      <td>1</td>\n    </tr>\n  </tbody>\n</table>\n</div>"
     },
     "execution_count": 21,
     "metadata": {},
     "output_type": "execute_result"
    }
   ],
   "source": [
    "df_dum"
   ],
   "metadata": {
    "collapsed": false
   }
  },
  {
   "cell_type": "markdown",
   "source": [
    "### Stats:"
   ],
   "metadata": {
    "collapsed": false
   }
  },
  {
   "cell_type": "markdown",
   "source": [
    "Basic information about new extraction stored in df."
   ],
   "metadata": {
    "collapsed": false
   }
  }
 ],
 "metadata": {
  "kernelspec": {
   "display_name": "Python 3",
   "language": "python",
   "name": "python3"
  },
  "language_info": {
   "codemirror_mode": {
    "name": "ipython",
    "version": 2
   },
   "file_extension": ".py",
   "mimetype": "text/x-python",
   "name": "python",
   "nbconvert_exporter": "python",
   "pygments_lexer": "ipython2",
   "version": "2.7.6"
  }
 },
 "nbformat": 4,
 "nbformat_minor": 0
}
