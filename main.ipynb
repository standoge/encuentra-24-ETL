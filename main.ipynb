{
 "cells": [
  {
   "cell_type": "code",
   "execution_count": 66,
   "outputs": [],
   "source": [
    "from selenium import webdriver\n",
    "from selenium.webdriver.common.by import By"
   ],
   "metadata": {
    "collapsed": false
   }
  },
  {
   "cell_type": "code",
   "execution_count": 67,
   "outputs": [],
   "source": [
    "# URL = \"https://www.encuentra24.com/\"\n",
    "# URL = \"https://www.encuentra24.com/el-salvador-es/clasificados\"\n",
    "URL = \"https://www.encuentra24.com/el-salvador-es/autos-usados?q=f_style.3|imagesonly.on|number.50\""
   ],
   "metadata": {
    "collapsed": false
   }
  },
  {
   "cell_type": "code",
   "execution_count": 68,
   "outputs": [],
   "source": [
    "driver = webdriver.Edge(executable_path=\"./utils/msedgedriver.exe\")\n",
    "driver.get(URL)"
   ],
   "metadata": {
    "collapsed": false
   }
  },
  {
   "cell_type": "code",
   "execution_count": 69,
   "outputs": [],
   "source": [
    "def select_country(country:str):\n",
    "    country = f\"/{country}-es/clasificados\"\n",
    "    path = f\"//a[contains(@href, '{country}')]\"\n",
    "    print(path)\n",
    "    return driver.find_element(by=By.XPATH, value=path)"
   ],
   "metadata": {
    "collapsed": false
   }
  },
  {
   "cell_type": "code",
   "execution_count": 70,
   "outputs": [],
   "source": [
    "def close_window():\n",
    "    button = \"//a[@class='btn btn-subscription-light']\"\n",
    "    driver.find_element(by=By.XPATH, value=button).click()"
   ],
   "metadata": {
    "collapsed": false
   }
  },
  {
   "cell_type": "code",
   "execution_count": 71,
   "outputs": [],
   "source": [
    "def choose_category(category:str):\n",
    "    driver.find_element(by=By.XPATH, value=category).click()"
   ],
   "metadata": {
    "collapsed": false
   }
  },
  {
   "cell_type": "code",
   "execution_count": 72,
   "outputs": [],
   "source": [
    "def price():\n",
    "    price:str = \"//div[@class='ann-ad-tile__price']\""
   ],
   "metadata": {
    "collapsed": false
   }
  },
  {
   "cell_type": "code",
   "execution_count": 73,
   "outputs": [],
   "source": [
    "close_window()"
   ],
   "metadata": {
    "collapsed": false
   }
  },
  {
   "cell_type": "markdown",
   "source": [
    "### Container"
   ],
   "metadata": {
    "collapsed": false
   }
  },
  {
   "cell_type": "code",
   "execution_count": 74,
   "outputs": [],
   "source": [
    "# elements = driver.find_elements(by=By.XPATH, value=\"//div[@class='ann-ad-tile']\")\n",
    "elements = driver.find_elements(by=By.XPATH, value=\"//div[@class='ann-subcat-listing']\")"
   ],
   "metadata": {
    "collapsed": false
   }
  },
  {
   "cell_type": "markdown",
   "source": [
    "### Prices"
   ],
   "metadata": {
    "collapsed": false
   }
  },
  {
   "cell_type": "code",
   "execution_count": 75,
   "outputs": [],
   "source": [
    "prices_obs = driver.find_elements(by=By.XPATH, value=\"//div[@class='ann-ad-tile__price']\")\n",
    "# [price.text for price in prices_obs]"
   ],
   "metadata": {
    "collapsed": false
   }
  },
  {
   "cell_type": "markdown",
   "source": [
    "### Description"
   ],
   "metadata": {
    "collapsed": false
   }
  },
  {
   "cell_type": "code",
   "execution_count": 76,
   "outputs": [],
   "source": [
    "def description(driver:object) -> object:\n",
    "    ad:str = \"//div[@class='ann-ad-tile__content']\"\n",
    "    descrip:str = \"//div[@class='row-fluid']\"\n",
    "    driver.find_element(by=By.XPATH, value=ad).click()\n",
    "    descriptions:object = driver.find_element(by=By.XPATH, value=descrip)\n",
    "    # descriptions:object = driver.find_elements(by=By.XPATH, value=\"//div[@class='ann-ad-tile__short-description']\")\n",
    "    return descriptions.text\n",
    "    # descriptions:list[str] = [description.text for description in descriptions]\n",
    "    # return descriptions"
   ],
   "metadata": {
    "collapsed": false
   }
  },
  {
   "cell_type": "code",
   "execution_count": 77,
   "outputs": [
    {
     "data": {
      "text/plain": "'Garantía: Como es visto no hay garantía\\nFinanciamiento: no\\nPrecio negociable: si\\nColor : AZUL\\n¡VEHÍCULO CON PLACAS LISTAS!\\n\\nNISSAN SENTRA SV 2018 $9,850.00.\\n\\nPara mayor información puede comunicarse al por medio de llamada o WhatsApp.\\n\\nEnlace pagina web:\\n\\n\\n\\nCARACTERÍSTICAS:\\n\\n- Arranca y rueda.\\n- 60,323 KILOMETROS actuales.\\n- Bolsas buenas.\\n- Llave de aproximación.\\n- Sunroof.\\n- Halógenos.\\n- Pantalla touch.\\n- Cámara de retroceso.\\n- Transmisión automática.\\n- Motor 1.8 L de 4 CIL.\\n- Rines Especiales.\\n- Paquete electrico.\\n- Mandos al timón.\\n- Conexion bluetooth.\\n- Full extras.\\n\\nPRECIO: $9, FUERA DE ADUANA.\\n\\nPARA MAYOR INFORMACIÓN COMUNICARSE AL TELÉFONO O WHATSAPP: / .\\n\\n#sedan #importaciondevehiculos #carros #ventadevehiculos #venta #importacion #ventacarros #Nissan #Sentra #sentrasv #nissansentrasv'"
     },
     "execution_count": 77,
     "metadata": {},
     "output_type": "execute_result"
    }
   ],
   "source": [
    "description(driver)"
   ],
   "metadata": {
    "collapsed": false
   }
  }
 ],
 "metadata": {
  "kernelspec": {
   "display_name": "Python 3",
   "language": "python",
   "name": "python3"
  },
  "language_info": {
   "codemirror_mode": {
    "name": "ipython",
    "version": 2
   },
   "file_extension": ".py",
   "mimetype": "text/x-python",
   "name": "python",
   "nbconvert_exporter": "python",
   "pygments_lexer": "ipython2",
   "version": "2.7.6"
  }
 },
 "nbformat": 4,
 "nbformat_minor": 0
}
