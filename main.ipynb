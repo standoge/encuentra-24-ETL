{
 "cells": [
  {
   "cell_type": "code",
   "execution_count": 73,
   "outputs": [],
   "source": [
    "from selenium import webdriver\n",
    "from selenium.webdriver.common.by import By"
   ],
   "metadata": {
    "collapsed": false
   }
  },
  {
   "cell_type": "code",
   "execution_count": 74,
   "outputs": [],
   "source": [
    "URL = \"https://www.encuentra24.com/el-salvador-es/autos-usados?q=f_style.3|imagesonly.on|number.50\""
   ],
   "metadata": {
    "collapsed": false
   }
  },
  {
   "cell_type": "code",
   "execution_count": 75,
   "outputs": [],
   "source": [
    "driver = webdriver.Edge(executable_path=\"./utils/msedgedriver.exe\")\n",
    "driver.get(URL)"
   ],
   "metadata": {
    "collapsed": false
   }
  },
  {
   "cell_type": "code",
   "execution_count": 77,
   "outputs": [],
   "source": [
    "def close_window():\n",
    "    button = \"//a[@class='btn btn-subscription-light']\"\n",
    "    driver.find_element(by=By.XPATH, value=button).click()"
   ],
   "metadata": {
    "collapsed": false
   }
  },
  {
   "cell_type": "code",
   "execution_count": 78,
   "outputs": [],
   "source": [
    "def choose_category(category:str):\n",
    "    driver.find_element(by=By.XPATH, value=category).click()"
   ],
   "metadata": {
    "collapsed": false
   }
  },
  {
   "cell_type": "code",
   "execution_count": 80,
   "outputs": [],
   "source": [
    "close_window()"
   ],
   "metadata": {
    "collapsed": false
   }
  },
  {
   "cell_type": "markdown",
   "source": [
    "### Container"
   ],
   "metadata": {
    "collapsed": false
   }
  },
  {
   "cell_type": "code",
   "execution_count": 81,
   "outputs": [
    {
     "data": {
      "text/plain": "[<selenium.webdriver.remote.webelement.WebElement (session=\"77a57eb8da8f62aa4ed589eb58591fca\", element=\"b1af2963-19c2-4c2f-a2a1-f5e325a53157\")>]"
     },
     "execution_count": 81,
     "metadata": {},
     "output_type": "execute_result"
    }
   ],
   "source": [
    "elements = driver.find_elements(by=By.XPATH, value=\"//div[@class='ann-subcat-listing']\")\n",
    "elements"
   ],
   "metadata": {
    "collapsed": false
   }
  },
  {
   "cell_type": "markdown",
   "source": [
    "### Prices"
   ],
   "metadata": {
    "collapsed": false
   }
  },
  {
   "cell_type": "code",
   "execution_count": 82,
   "outputs": [
    {
     "data": {
      "text/plain": "[<selenium.webdriver.remote.webelement.WebElement (session=\"77a57eb8da8f62aa4ed589eb58591fca\", element=\"e386fafa-dc38-4ca3-a50f-743d3b9f36e1\")>,\n <selenium.webdriver.remote.webelement.WebElement (session=\"77a57eb8da8f62aa4ed589eb58591fca\", element=\"dfa66d6b-28d4-4253-bf52-70c06b8093cd\")>,\n <selenium.webdriver.remote.webelement.WebElement (session=\"77a57eb8da8f62aa4ed589eb58591fca\", element=\"bcaefdf4-30ef-4581-a523-5283a1ecb403\")>,\n <selenium.webdriver.remote.webelement.WebElement (session=\"77a57eb8da8f62aa4ed589eb58591fca\", element=\"bc8be6f6-7717-4437-b23f-da7a938a40a1\")>,\n <selenium.webdriver.remote.webelement.WebElement (session=\"77a57eb8da8f62aa4ed589eb58591fca\", element=\"242731ca-1faf-4335-a568-26e14fb2f938\")>,\n <selenium.webdriver.remote.webelement.WebElement (session=\"77a57eb8da8f62aa4ed589eb58591fca\", element=\"a3b9c001-dca2-4a11-9681-62a1793b9f1f\")>,\n <selenium.webdriver.remote.webelement.WebElement (session=\"77a57eb8da8f62aa4ed589eb58591fca\", element=\"82aba1c9-35e1-4c33-b2dc-6c3bbe96ffd7\")>,\n <selenium.webdriver.remote.webelement.WebElement (session=\"77a57eb8da8f62aa4ed589eb58591fca\", element=\"784984fb-491b-4325-bded-63bbbb90b295\")>,\n <selenium.webdriver.remote.webelement.WebElement (session=\"77a57eb8da8f62aa4ed589eb58591fca\", element=\"2b3464ce-e79f-4da9-91ae-4afd1d2fe76b\")>,\n <selenium.webdriver.remote.webelement.WebElement (session=\"77a57eb8da8f62aa4ed589eb58591fca\", element=\"2f29fcdb-a31a-4971-85c8-562ac7947f13\")>,\n <selenium.webdriver.remote.webelement.WebElement (session=\"77a57eb8da8f62aa4ed589eb58591fca\", element=\"531e96e0-2c0c-424d-8b2f-c9c868f1ae0b\")>,\n <selenium.webdriver.remote.webelement.WebElement (session=\"77a57eb8da8f62aa4ed589eb58591fca\", element=\"f0c357b3-0c81-44bd-aa45-56de450015be\")>,\n <selenium.webdriver.remote.webelement.WebElement (session=\"77a57eb8da8f62aa4ed589eb58591fca\", element=\"961846df-f228-433f-b4d0-8dd06643a41e\")>,\n <selenium.webdriver.remote.webelement.WebElement (session=\"77a57eb8da8f62aa4ed589eb58591fca\", element=\"d0638b01-70a8-4b85-ace6-5ac193a99b8f\")>,\n <selenium.webdriver.remote.webelement.WebElement (session=\"77a57eb8da8f62aa4ed589eb58591fca\", element=\"4f249503-6d8c-47d2-a821-44553572ad3d\")>,\n <selenium.webdriver.remote.webelement.WebElement (session=\"77a57eb8da8f62aa4ed589eb58591fca\", element=\"3df35900-efea-4e41-8469-7c48d7bb8184\")>,\n <selenium.webdriver.remote.webelement.WebElement (session=\"77a57eb8da8f62aa4ed589eb58591fca\", element=\"7605c51e-210a-4055-be70-603fdeff94e1\")>,\n <selenium.webdriver.remote.webelement.WebElement (session=\"77a57eb8da8f62aa4ed589eb58591fca\", element=\"d319cc76-eb7d-41dc-bf06-c92285eecc31\")>,\n <selenium.webdriver.remote.webelement.WebElement (session=\"77a57eb8da8f62aa4ed589eb58591fca\", element=\"52419f78-0f7c-46ef-b2e0-68a473fee9fe\")>,\n <selenium.webdriver.remote.webelement.WebElement (session=\"77a57eb8da8f62aa4ed589eb58591fca\", element=\"aaa807ab-2af8-464f-83eb-8e294d61808b\")>,\n <selenium.webdriver.remote.webelement.WebElement (session=\"77a57eb8da8f62aa4ed589eb58591fca\", element=\"a3d2d57e-5293-4c86-8398-3f3c2653bfea\")>,\n <selenium.webdriver.remote.webelement.WebElement (session=\"77a57eb8da8f62aa4ed589eb58591fca\", element=\"bc5665c8-71a4-46a2-8493-64a521d40f3c\")>,\n <selenium.webdriver.remote.webelement.WebElement (session=\"77a57eb8da8f62aa4ed589eb58591fca\", element=\"106adc9a-baa1-46e6-94f4-f7f32da2c6f8\")>,\n <selenium.webdriver.remote.webelement.WebElement (session=\"77a57eb8da8f62aa4ed589eb58591fca\", element=\"56ed17c6-1116-4731-a02f-f8c515ee379e\")>,\n <selenium.webdriver.remote.webelement.WebElement (session=\"77a57eb8da8f62aa4ed589eb58591fca\", element=\"6475d975-f029-4476-af0c-5a5de1873868\")>,\n <selenium.webdriver.remote.webelement.WebElement (session=\"77a57eb8da8f62aa4ed589eb58591fca\", element=\"54d7dc79-b5c5-4183-bf60-adc8d56c7a25\")>,\n <selenium.webdriver.remote.webelement.WebElement (session=\"77a57eb8da8f62aa4ed589eb58591fca\", element=\"af9ac842-a31a-4828-8d78-888df2da0940\")>,\n <selenium.webdriver.remote.webelement.WebElement (session=\"77a57eb8da8f62aa4ed589eb58591fca\", element=\"0e0f7c8f-10ce-4065-8f5c-ab432b8627b9\")>,\n <selenium.webdriver.remote.webelement.WebElement (session=\"77a57eb8da8f62aa4ed589eb58591fca\", element=\"718cf8b0-0248-4ee6-85d3-02d653ec6b90\")>,\n <selenium.webdriver.remote.webelement.WebElement (session=\"77a57eb8da8f62aa4ed589eb58591fca\", element=\"7ac1c14a-c730-4300-91d5-082fc91bf01f\")>,\n <selenium.webdriver.remote.webelement.WebElement (session=\"77a57eb8da8f62aa4ed589eb58591fca\", element=\"175749e9-3b14-4c80-b281-f8a447559866\")>,\n <selenium.webdriver.remote.webelement.WebElement (session=\"77a57eb8da8f62aa4ed589eb58591fca\", element=\"04541009-b856-4ee2-8b06-15fe0cfe8363\")>,\n <selenium.webdriver.remote.webelement.WebElement (session=\"77a57eb8da8f62aa4ed589eb58591fca\", element=\"d658b82a-34fd-4581-82ed-292b56277879\")>,\n <selenium.webdriver.remote.webelement.WebElement (session=\"77a57eb8da8f62aa4ed589eb58591fca\", element=\"f31aa5cb-2052-4340-9491-4f44e1d53f6d\")>,\n <selenium.webdriver.remote.webelement.WebElement (session=\"77a57eb8da8f62aa4ed589eb58591fca\", element=\"5aed7450-033d-4257-a518-159afc272093\")>,\n <selenium.webdriver.remote.webelement.WebElement (session=\"77a57eb8da8f62aa4ed589eb58591fca\", element=\"e26f9bcf-59e4-4b27-a150-a6e994c48934\")>,\n <selenium.webdriver.remote.webelement.WebElement (session=\"77a57eb8da8f62aa4ed589eb58591fca\", element=\"508c7ac8-7f77-4082-b345-b4ea8c5687ee\")>,\n <selenium.webdriver.remote.webelement.WebElement (session=\"77a57eb8da8f62aa4ed589eb58591fca\", element=\"ce601c52-f44b-481c-a9f2-e63e8c5d9b22\")>,\n <selenium.webdriver.remote.webelement.WebElement (session=\"77a57eb8da8f62aa4ed589eb58591fca\", element=\"f3286c21-e6f2-4fd8-94b5-113fe07a281e\")>,\n <selenium.webdriver.remote.webelement.WebElement (session=\"77a57eb8da8f62aa4ed589eb58591fca\", element=\"496cced0-e110-4387-a23c-9000e876bca4\")>,\n <selenium.webdriver.remote.webelement.WebElement (session=\"77a57eb8da8f62aa4ed589eb58591fca\", element=\"a335c816-882e-47a4-92c6-1e91972c256c\")>,\n <selenium.webdriver.remote.webelement.WebElement (session=\"77a57eb8da8f62aa4ed589eb58591fca\", element=\"801b2fb0-d762-479e-af6b-85643d099c1e\")>,\n <selenium.webdriver.remote.webelement.WebElement (session=\"77a57eb8da8f62aa4ed589eb58591fca\", element=\"513a45f2-0bc0-4ade-b506-5aa9cae7b763\")>,\n <selenium.webdriver.remote.webelement.WebElement (session=\"77a57eb8da8f62aa4ed589eb58591fca\", element=\"1c03b84f-eb99-4a20-ab6c-ee1cfa54cd01\")>,\n <selenium.webdriver.remote.webelement.WebElement (session=\"77a57eb8da8f62aa4ed589eb58591fca\", element=\"9bce8f58-d5fa-4201-8eda-18ead3dc76e7\")>,\n <selenium.webdriver.remote.webelement.WebElement (session=\"77a57eb8da8f62aa4ed589eb58591fca\", element=\"77b857a9-8aa9-4fc4-95dd-e5a8a8645155\")>,\n <selenium.webdriver.remote.webelement.WebElement (session=\"77a57eb8da8f62aa4ed589eb58591fca\", element=\"3052a350-33fc-49cd-8fcd-c0dfbd845745\")>,\n <selenium.webdriver.remote.webelement.WebElement (session=\"77a57eb8da8f62aa4ed589eb58591fca\", element=\"5bdac19f-6a75-4869-8f0c-25401de8808f\")>,\n <selenium.webdriver.remote.webelement.WebElement (session=\"77a57eb8da8f62aa4ed589eb58591fca\", element=\"ee75575f-8666-46a5-a93e-75c5283c86b2\")>,\n <selenium.webdriver.remote.webelement.WebElement (session=\"77a57eb8da8f62aa4ed589eb58591fca\", element=\"699544c7-e7fd-4d8d-a350-8249f6d2da76\")>]"
     },
     "execution_count": 82,
     "metadata": {},
     "output_type": "execute_result"
    }
   ],
   "source": [
    "prices_obs = driver.find_elements(by=By.XPATH, value=\"//div[@class='ann-ad-tile__price']\")\n",
    "prices_obs"
   ],
   "metadata": {
    "collapsed": false
   }
  },
  {
   "cell_type": "markdown",
   "source": [
    "### Description"
   ],
   "metadata": {
    "collapsed": false
   }
  }
 ],
 "metadata": {
  "kernelspec": {
   "display_name": "Python 3",
   "language": "python",
   "name": "python3"
  },
  "language_info": {
   "codemirror_mode": {
    "name": "ipython",
    "version": 2
   },
   "file_extension": ".py",
   "mimetype": "text/x-python",
   "name": "python",
   "nbconvert_exporter": "python",
   "pygments_lexer": "ipython2",
   "version": "2.7.6"
  }
 },
 "nbformat": 4,
 "nbformat_minor": 0
}
