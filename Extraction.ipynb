{
 "cells": [
  {
   "cell_type": "markdown",
   "source": [
    "## Dependencies"
   ],
   "metadata": {
    "collapsed": false
   }
  },
  {
   "cell_type": "markdown",
   "source": [
    "---"
   ],
   "metadata": {
    "collapsed": false
   }
  },
  {
   "cell_type": "code",
   "execution_count": 20,
   "outputs": [],
   "source": [
    "import yaml\n",
    "import re\n",
    "from datetime import datetime\n",
    "import pandas as pd"
   ],
   "metadata": {
    "collapsed": false,
    "ExecuteTime": {
     "end_time": "2023-09-26T02:16:34.841397400Z",
     "start_time": "2023-09-26T02:16:34.654118900Z"
    }
   }
  },
  {
   "cell_type": "code",
   "execution_count": 21,
   "outputs": [],
   "source": [
    "from selenium import webdriver\n",
    "from selenium.webdriver.common.by import By\n",
    "from selenium.webdriver.edge.service import Service\n",
    "from webdriver_manager.microsoft import EdgeChromiumDriverManager\n",
    "from selenium.webdriver.support.ui import WebDriverWait\n",
    "from selenium.webdriver.edge.options import Options\n",
    "from selenium.webdriver.support import expected_conditions as EC\n",
    "from selenium.common.exceptions import NoSuchElementException\n",
    "from selenium.common.exceptions import TimeoutException\n"
   ],
   "metadata": {
    "collapsed": false,
    "ExecuteTime": {
     "end_time": "2023-09-26T02:16:34.922543900Z",
     "start_time": "2023-09-26T02:16:34.674398500Z"
    }
   }
  },
  {
   "cell_type": "markdown",
   "source": [
    "Setting up web driver."
   ],
   "metadata": {
    "collapsed": false
   }
  },
  {
   "cell_type": "code",
   "execution_count": 22,
   "outputs": [],
   "source": [
    "EdgeOptions = Options()\n",
    "EdgeOptions.add_argument(\"--headless\")\n",
    "edge = webdriver.Edge(service=Service(EdgeChromiumDriverManager().install()), options=EdgeOptions)"
   ],
   "metadata": {
    "collapsed": false,
    "ExecuteTime": {
     "end_time": "2023-09-26T02:16:38.010529600Z",
     "start_time": "2023-09-26T02:16:34.687517400Z"
    }
   }
  },
  {
   "cell_type": "markdown",
   "source": [
    "## Extract"
   ],
   "metadata": {
    "collapsed": false
   }
  },
  {
   "cell_type": "markdown",
   "source": [
    "---"
   ],
   "metadata": {
    "collapsed": false
   }
  },
  {
   "cell_type": "markdown",
   "source": [
    "### Functions:"
   ],
   "metadata": {
    "collapsed": false
   }
  },
  {
   "cell_type": "code",
   "execution_count": 23,
   "outputs": [],
   "source": [
    "def resources(name: str) -> dict[str:str]:\n",
    "    \"\"\"Read yaml file to get xpath resources\n",
    "    \n",
    "    :param name: name of the resource to extract\n",
    "    :return: the xpath\n",
    "    \"\"\"\n",
    "    with open(\"xpath.yml\", \"r\") as f:\n",
    "        content: dict[str:str] = yaml.safe_load(f)\n",
    "        return content[name]"
   ],
   "metadata": {
    "collapsed": false,
    "ExecuteTime": {
     "end_time": "2023-09-26T02:16:38.026656300Z",
     "start_time": "2023-09-26T02:16:38.012531300Z"
    }
   }
  },
  {
   "cell_type": "code",
   "execution_count": 24,
   "outputs": [],
   "source": [
    "def close_prompt(driver: webdriver) -> None:\n",
    "    \"\"\"Close prompt when is required\n",
    "    \n",
    "    :param driver: browser instance \n",
    "    \"\"\"\n",
    "    button: str = \"//a[@class='btn btn-subscription-light']\"\n",
    "    driver.find_element(by=By.XPATH, value=button).click()"
   ],
   "metadata": {
    "collapsed": false,
    "ExecuteTime": {
     "end_time": "2023-09-26T02:16:38.052146100Z",
     "start_time": "2023-09-26T02:16:38.028787300Z"
    }
   }
  },
  {
   "cell_type": "code",
   "execution_count": 25,
   "outputs": [],
   "source": [
    "def click_element(element: webdriver, path: str) -> None:\n",
    "    \"\"\"Click on element in the current browser page\n",
    "    \n",
    "    :param element: browser instance\n",
    "    :param path: xpath of element to click\n",
    "    \"\"\"\n",
    "    button = element.find_element(by=By.XPATH, value=path)\n",
    "    button.click()"
   ],
   "metadata": {
    "collapsed": false,
    "ExecuteTime": {
     "end_time": "2023-09-26T02:16:38.075567100Z",
     "start_time": "2023-09-26T02:16:38.042997700Z"
    }
   }
  },
  {
   "cell_type": "code",
   "execution_count": 26,
   "outputs": [],
   "source": [
    "def extract_feature_in(element: webdriver, path: str) -> str:\n",
    "    \"\"\"Extract ad feature where current browser page is the ad page\n",
    "    \n",
    "    :param element: browser instance\n",
    "    :param path: xpath of feature to extract\n",
    "    :return: feature extracted\n",
    "    \"\"\"\n",
    "    feature: str = element.find_element(by=By.XPATH, value=path)\n",
    "    return feature"
   ],
   "metadata": {
    "collapsed": false,
    "ExecuteTime": {
     "end_time": "2023-09-26T02:16:38.076565300Z",
     "start_time": "2023-09-26T02:16:38.058145700Z"
    }
   }
  },
  {
   "cell_type": "code",
   "execution_count": 27,
   "outputs": [],
   "source": [
    "def extract_feature_out(element: webdriver, path: str) -> list[str]:\n",
    "    \"\"\"Extract ad feature where current browser page is the listing page (not in the ad)\n",
    "    \n",
    "    :param element: browser instance\n",
    "    :param path: xpath of feature to extract\n",
    "    :return: list of features\n",
    "    \"\"\"\n",
    "    feature = []\n",
    "\n",
    "    try:\n",
    "        feature: str = element.find_elements(by=By.XPATH, value=path)\n",
    "        feature = [data_point.text for data_point in feature]\n",
    "        return feature\n",
    "    except Exception:\n",
    "        feature.append(\"Web wasn't able to scrape the feature\")"
   ],
   "metadata": {
    "collapsed": false,
    "ExecuteTime": {
     "end_time": "2023-09-26T02:16:38.123213500Z",
     "start_time": "2023-09-26T02:16:38.074565700Z"
    }
   }
  },
  {
   "cell_type": "code",
   "execution_count": 28,
   "outputs": [],
   "source": [
    "def persistence(dataframe: pd.DataFrame) -> None:\n",
    "    \"\"\"Save dataframe to csv file\n",
    "    \n",
    "    :param dataframe: dataframe to save\n",
    "    \"\"\"\n",
    "    file_name = datetime.today().strftime(\"%B-%d\")\n",
    "    dataframe.to_csv(f\"persistence/{file_name}.csv\", index=False)"
   ],
   "metadata": {
    "collapsed": false,
    "ExecuteTime": {
     "end_time": "2023-09-26T02:16:38.123213500Z",
     "start_time": "2023-09-26T02:16:38.088791100Z"
    }
   }
  },
  {
   "cell_type": "code",
   "execution_count": 29,
   "outputs": [],
   "source": [
    "def get_len(features: list[list[str]]) -> bool:\n",
    "    \"\"\"Check if all features has the same length to create new df\n",
    "    \n",
    "    :param features: list of features extracted with scraping\n",
    "    :return: a list with all lengths where first place is the len of the first element and the mostly accepted.\n",
    "    \"\"\"\n",
    "    base_len = len(features[0])\n",
    "    lengths = []\n",
    "    lengths.append(base_len)\n",
    "    for feature in features:\n",
    "        if len(feature) == base_len:\n",
    "            continue\n",
    "        else:\n",
    "            lengths.append(len(feature))\n",
    "    return lengths"
   ],
   "metadata": {
    "collapsed": false,
    "ExecuteTime": {
     "end_time": "2023-09-26T02:16:38.124212600Z",
     "start_time": "2023-09-26T02:16:38.104909800Z"
    }
   }
  },
  {
   "cell_type": "code",
   "execution_count": 30,
   "outputs": [],
   "source": [
    "def check_len(lengths: list[int]) -> bool:\n",
    "    \"\"\"Check if all elements in list has the same value.\n",
    "    \n",
    "    :param lengths: list of lengths\n",
    "    :return: a boolean\n",
    "    \"\"\"\n",
    "    for length in lengths[1:]:\n",
    "        if length != lengths[0]:\n",
    "            return False\n",
    "        return True"
   ],
   "metadata": {
    "collapsed": false,
    "ExecuteTime": {
     "end_time": "2023-09-26T02:16:38.144592500Z",
     "start_time": "2023-09-26T02:16:38.119211800Z"
    }
   }
  },
  {
   "cell_type": "markdown",
   "source": [
    "Variables pool."
   ],
   "metadata": {
    "collapsed": false
   }
  },
  {
   "cell_type": "code",
   "execution_count": 31,
   "outputs": [],
   "source": [
    "descriptions: list[str] = []\n",
    "prices: list[int] = []\n",
    "models: list[str] = []\n",
    "years: list[int] = []\n",
    "kilometers: list[int] = []\n",
    "engines: list[str] = []\n",
    "\n",
    "# seconds\n",
    "DELAY: int = 1\n",
    "SEDAN = resources(\"cars_sedan\")"
   ],
   "metadata": {
    "collapsed": false,
    "ExecuteTime": {
     "end_time": "2023-09-26T02:16:38.178751200Z",
     "start_time": "2023-09-26T02:16:38.134474500Z"
    }
   }
  },
  {
   "cell_type": "markdown",
   "source": [
    "Get web page and close prompt (when is required)."
   ],
   "metadata": {
    "collapsed": false
   }
  },
  {
   "cell_type": "code",
   "execution_count": 32,
   "outputs": [],
   "source": [
    "edge.get(SEDAN[\"url\"])\n",
    "# close_prompt(edge)"
   ],
   "metadata": {
    "collapsed": false,
    "ExecuteTime": {
     "end_time": "2023-09-26T02:16:42.554359100Z",
     "start_time": "2023-09-26T02:16:38.149752600Z"
    }
   }
  },
  {
   "cell_type": "markdown",
   "source": [
    "Extract car features."
   ],
   "metadata": {
    "collapsed": false
   }
  },
  {
   "cell_type": "code",
   "execution_count": 33,
   "outputs": [],
   "source": [
    "# Get this list of ads and click on the first one\n",
    "elements = edge.find_elements(by=By.XPATH, value=SEDAN[\"ad\"])\n",
    "elements[0].click()\n",
    "\n",
    "try:\n",
    "    for element in range(len(elements)):\n",
    "        # Wait until the element is present to avoid missing data\n",
    "        dynamic_delay = WebDriverWait(edge, DELAY).until(\n",
    "            EC.presence_of_element_located((By.XPATH, SEDAN[\"description\"])))\n",
    "\n",
    "        brand_str = extract_feature_in(edge, SEDAN[\"brand\"]).text\n",
    "        model_str = extract_feature_in(edge, SEDAN[\"model\"]).text\n",
    "        models.append(brand_str + \" \" + model_str)\n",
    "\n",
    "        descriptions.append(extract_feature_in(edge, SEDAN[\"description\"]).text)\n",
    "        prices.append(extract_feature_in(edge, SEDAN[\"price\"]).text)\n",
    "        kilometers.append(extract_feature_in(edge, SEDAN[\"kilometers\"]).text)\n",
    "        engines.append(extract_feature_in(edge, SEDAN[\"engine\"]).text)\n",
    "        years.append(extract_feature_in(edge, SEDAN[\"year\"]).text)\n",
    "\n",
    "        click_element(edge, SEDAN[\"next\"])\n",
    "except TimeoutException as TE:\n",
    "    descriptions.append(\"Web wasn't able to scrape descriptions\")\n",
    "except NoSuchElementException as NSE:\n",
    "    click_element(edge, SEDAN[\"exit\"])"
   ],
   "metadata": {
    "collapsed": false,
    "ExecuteTime": {
     "end_time": "2023-09-26T02:18:55.796449300Z",
     "start_time": "2023-09-26T02:16:42.561359200Z"
    }
   }
  },
  {
   "cell_type": "markdown",
   "source": [
    "## Export"
   ],
   "metadata": {
    "collapsed": false
   }
  },
  {
   "cell_type": "markdown",
   "source": [
    "---"
   ],
   "metadata": {
    "collapsed": false
   }
  },
  {
   "cell_type": "markdown",
   "source": [
    "### Functions:"
   ],
   "metadata": {
    "collapsed": false
   }
  },
  {
   "cell_type": "code",
   "execution_count": 34,
   "outputs": [],
   "source": [
    "def parse_price(dataframe: pd.DataFrame, feature: str, pattern: str) -> None:\n",
    "    \"\"\"Parse financial features like prices. Works with $#,### (not dot)\n",
    "    \n",
    "    :param dataframe: object towards apply transformation\n",
    "    :param feature: feature name towards apply transformation\n",
    "    :param pattern: feature pattern to transform\n",
    "    \"\"\"\n",
    "    dataframe[feature] = dataframe[feature] \\\n",
    "        .str.extract(pattern) \\\n",
    "        .applymap(lambda price: int(price.replace(\",\", \"\")))\n"
   ],
   "metadata": {
    "collapsed": false,
    "ExecuteTime": {
     "end_time": "2023-09-26T02:18:55.818447100Z",
     "start_time": "2023-09-26T02:18:55.798448200Z"
    }
   }
  },
  {
   "cell_type": "code",
   "execution_count": 35,
   "outputs": [],
   "source": [
    "def remove_chars(dataframe: pd.DataFrame, feature: str, wildcards: str) -> pd.Series:\n",
    "    \"\"\"Remove escaped characters from features like indented large extracts of text\n",
    "    \n",
    "    :param dataframe: object towards apply transformation\n",
    "    :param feature: feature name towards apply transformation\n",
    "    :param wildcards: escaped characters to remove\n",
    "    :return: Serie without escaped characters\n",
    "    \"\"\"\n",
    "    return (dataframe\n",
    "    .apply(\n",
    "        lambda row: row[feature]\n",
    "        , axis=1\n",
    "    )\n",
    "    .apply(\n",
    "        lambda extracted_f: re.sub(wildcards, r' ', extracted_f)\n",
    "    )\n",
    "    )\n"
   ],
   "metadata": {
    "collapsed": false,
    "ExecuteTime": {
     "end_time": "2023-09-26T02:18:55.851445700Z",
     "start_time": "2023-09-26T02:18:55.815445800Z"
    }
   }
  },
  {
   "cell_type": "code",
   "execution_count": 36,
   "outputs": [],
   "source": [
    "PRICE_RG: str = r\"^\\$(?P<prices>\\d+,?\\d+)?\"\n",
    "KM_REG: str = r\"(?P<km>^\\d+)\"\n",
    "CHARACTER_RG: str = '(\\n|\\r)+'"
   ],
   "metadata": {
    "collapsed": false,
    "ExecuteTime": {
     "end_time": "2023-09-26T02:18:55.852446300Z",
     "start_time": "2023-09-26T02:18:55.830450600Z"
    }
   }
  },
  {
   "cell_type": "markdown",
   "source": [
    "Check that all features has the same length."
   ],
   "metadata": {
    "collapsed": false
   }
  },
  {
   "cell_type": "code",
   "execution_count": 37,
   "outputs": [
    {
     "data": {
      "text/plain": "[43, 43, 43, 43, 43, 43]"
     },
     "execution_count": 37,
     "metadata": {},
     "output_type": "execute_result"
    }
   ],
   "source": [
    "lengths = [len(engines), len(models), len(years), len(kilometers), len(prices), len(descriptions)]\n",
    "lengths"
   ],
   "metadata": {
    "collapsed": false,
    "ExecuteTime": {
     "end_time": "2023-09-26T02:18:55.877444700Z",
     "start_time": "2023-09-26T02:18:55.845445500Z"
    }
   }
  },
  {
   "cell_type": "markdown",
   "source": [
    "Create dataframe to transform data extracted"
   ],
   "metadata": {
    "collapsed": false
   }
  },
  {
   "cell_type": "code",
   "execution_count": 38,
   "outputs": [],
   "source": [
    "if check_len(lengths):\n",
    "    df_temp = pd.DataFrame({\n",
    "        \"model\": models,\n",
    "        \"year\": years,\n",
    "        \"kilometers\": kilometers,\n",
    "        \"engine\": engines,\n",
    "        \"price\": prices,\n",
    "        \"description\": descriptions\n",
    "    })\n",
    "\n",
    "    # Parse features. String to number and raw string with characters to structured string.\n",
    "    parse_price(df_temp, \"price\", PRICE_RG)\n",
    "    df_temp[\"kilometers\"] = df_temp[\"kilometers\"].str.extract(KM_REG).applymap(int)\n",
    "    df_temp[\"year\"] = df_temp[\"year\"].map(int)\n",
    "    df_temp[\"description\"] = remove_chars(df_temp, \"description\", CHARACTER_RG)\n",
    "\n",
    "    persistence(df_temp)\n"
   ],
   "metadata": {
    "collapsed": false,
    "ExecuteTime": {
     "end_time": "2023-09-26T02:18:55.963589500Z",
     "start_time": "2023-09-26T02:18:55.862447200Z"
    }
   }
  },
  {
   "cell_type": "code",
   "execution_count": 39,
   "outputs": [
    {
     "data": {
      "text/plain": "                      model  year  kilometers    engine  price  \\\n0               Honda Civic  2016      109100  Gasolina  14650   \n1   Chevrolet Cruze Limited  2018       25000  Gasolina   8475   \n2     Hyundai Elantra Coupe  2013      151000  Gasolina   6100   \n3               Honda Civic  2018       31000  Gasolina  11600   \n4               Honda Civic  2015       99000  Gasolina   9500   \n5               Honda Civic  2008      260000  Gasolina   4800   \n6                 Kia Forte  2015      146000  Gasolina   7600   \n7               Toyota Echo  2003      210000  Gasolina   4500   \n8                   Mazda 6  2014       80538  Gasolina   7500   \n9           Chevrolet Sonic  2013           0  Gasolina   5100   \n10            Nissan Sentra  2019          70  Gasolina   8500   \n11            Nissan Sentra  2017         122  Gasolina   6100   \n12                  Mazda 6  2006       60000  Gasolina   3000   \n13              Honda Civic  2018       85000  Gasolina  12500   \n14              Honda Civic  2015       61065  Gasolina  14500   \n15            Nissan Sentra  2015       72000  Gasolina   7000   \n16              Ford Fiesta  2017      125367  Gasolina   6000   \n17            Nissan Sentra  2020       32000  Gasolina  13500   \n18             Nissan Versa  2019       40205  Gasolina   7800   \n19           Toyota Corolla  1996           0  Gasolina   5500   \n20            Nissan Sentra  2019           0  Gasolina   9300   \n21                Kia Forte  2012      139000  Gasolina   6400   \n22                  Kia Rio  2018       70929  Gasolina   9000   \n23           Hyundai Accent  2005        1000  Gasolina   2650   \n24            Nissan Sentra  2018       74741  Gasolina   7500   \n25            Nissan Sentra  2016       47000  Gasolina   8300   \n26               Ford Focus  2013      141000  Gasolina   5000   \n27     Volkswagen Jetta GLI  2014       78000  Gasolina   9000   \n28             BMW 3 Series  2015      114000  Gasolina  15500   \n29                    Kia E  2000           0  Gasolina   2500   \n30                Kia Forte  2020       65000  Gasolina  12999   \n31                Acura TLX  2015       11100  Gasolina  11000   \n32        Mitsubishi Lancer  2010      115000  Gasolina   6000   \n33              Honda Civic  2017       34000  Gasolina  11500   \n34           Hyundai Accent  2010      193588  Gasolina   5000   \n35             Nissan Versa  2018       78720  Gasolina   8300   \n36             Nissan Versa  2013       67000  Gasolina   6000   \n37          Chevrolet Sonic  2012      110048  Gasolina   5200   \n38            Mazda Protege  2001      178000  Gasolina   3000   \n39          Hyundai Elantra  2018       78000  Gasolina   9900   \n40            Jeep Renegade  2019       31000  Gasolina  11500   \n41            Jeep Renegade  2019       50000  Gasolina  11800   \n42             Nissan Versa  2014      171356  Gasolina   6200   \n\n                                          description  \n0   DESCRIPCIÓN CALIFICACIONES SEGURIDAD Honda Civ...  \n1   Color : Negro Año 2018 Chevrolet Cruze LT sólo...  \n2   Color : Rojo DESCRIPCIÓN CALIFICACIONES SEGURI...  \n3   Color : Color Sonic Gray Pearl Honda Civic EXL...  \n4   Garantía: Como es visto no hay garantía Precio...  \n5   Color : Plata DESCRIPCIÓN CALIFICACIONES SEGUR...  \n6   Precio negociable: si Color : Negro DESCRIPCIÓ...  \n7   Precio negociable: si Color : Color Gris DESCR...  \n8   Precio negociable: si Color : Negro DESCRIPCIÓ...  \n9   Color : Gris oscuro DESCRIPCIÓN ARTÍCULOS CALI...  \n10  Precio negociable: si Color : Negro Se vende n...  \n11  Color : Azul DESCRIPCIÓN CALIFICACIONES SEGURI...  \n12  Garantía: Como es visto no hay garantía Financ...  \n13  Color : Azul Tel y whatsapp - Honda Civic Full...  \n14  Precio negociable: si Color : Gris DESCRIPCIÓN...  \n15  Color : NEGRO DESCRIPCIÓN CALIFICACIONES SEGUR...  \n16  Precio negociable: si Color : Negro DESCRIPCIÓ...  \n17  Precio negociable: si Vendo Nissan Sentra 2020...  \n18  Disponible con traspaso directo, crédito fisca...  \n19  Precio negociable: si Color : Amarillo DESCRIP...  \n20  Financiamiento: no Precio negociable: si Funci...  \n21  Garantía: Como es visto no hay garantía Financ...  \n22  Se vende bonito Kia Rio EX 2018 - A/C funciona...  \n23  Precio negociable: si Color : Azul DESCRIPCIÓN...  \n24  Color : Azul NISAN SENTRA 2018 full extras cám...  \n25  Precio negociable: si DESCRIPCIÓN CALIFICACION...  \n26  Precio negociable: si Color : Negro DESCRIPCIÓ...  \n27  Garantía: Como es visto no hay garantía Financ...  \n28  Color : Orion gray DESCRIPCIÓN CALIFICACIONES ...  \n29  Financiamiento: si Precio negociable: si Color...  \n30  Precio negociable: si Color : Gris Plata Vendo...  \n31  Garantía: Como es visto no hay garantía Precio...  \n32  Financiamiento: no Precio negociable: si Detal...  \n33  DESCRIPCIÓN ARTÍCULOS CALIFICACIONES SEGURIDAD...  \n34  Precio negociable: si Color : Gris DESCRIPCIÓN...  \n35  Precio negociable: si Color : Gris NISSAN VERS...  \n36  Color : Negro DESCRIPCIÓN CALIFICACIONES SEGUR...  \n37  Garantía: Como es visto no hay garantía Financ...  \n38  Vendo Mazda protege 2001 bastante negociable. ...  \n39  Precio negociable: si Color : AZUL $9,900.00 p...  \n40            Precio negociable: si Color : Naranjado  \n41  Precio negociable: si Color : Naranjado 31,000...  \n42  Garantía: Como es visto no hay garantía Financ...  ",
      "text/html": "<div>\n<style scoped>\n    .dataframe tbody tr th:only-of-type {\n        vertical-align: middle;\n    }\n\n    .dataframe tbody tr th {\n        vertical-align: top;\n    }\n\n    .dataframe thead th {\n        text-align: right;\n    }\n</style>\n<table border=\"1\" class=\"dataframe\">\n  <thead>\n    <tr style=\"text-align: right;\">\n      <th></th>\n      <th>model</th>\n      <th>year</th>\n      <th>kilometers</th>\n      <th>engine</th>\n      <th>price</th>\n      <th>description</th>\n    </tr>\n  </thead>\n  <tbody>\n    <tr>\n      <th>0</th>\n      <td>Honda Civic</td>\n      <td>2016</td>\n      <td>109100</td>\n      <td>Gasolina</td>\n      <td>14650</td>\n      <td>DESCRIPCIÓN CALIFICACIONES SEGURIDAD Honda Civ...</td>\n    </tr>\n    <tr>\n      <th>1</th>\n      <td>Chevrolet Cruze Limited</td>\n      <td>2018</td>\n      <td>25000</td>\n      <td>Gasolina</td>\n      <td>8475</td>\n      <td>Color : Negro Año 2018 Chevrolet Cruze LT sólo...</td>\n    </tr>\n    <tr>\n      <th>2</th>\n      <td>Hyundai Elantra Coupe</td>\n      <td>2013</td>\n      <td>151000</td>\n      <td>Gasolina</td>\n      <td>6100</td>\n      <td>Color : Rojo DESCRIPCIÓN CALIFICACIONES SEGURI...</td>\n    </tr>\n    <tr>\n      <th>3</th>\n      <td>Honda Civic</td>\n      <td>2018</td>\n      <td>31000</td>\n      <td>Gasolina</td>\n      <td>11600</td>\n      <td>Color : Color Sonic Gray Pearl Honda Civic EXL...</td>\n    </tr>\n    <tr>\n      <th>4</th>\n      <td>Honda Civic</td>\n      <td>2015</td>\n      <td>99000</td>\n      <td>Gasolina</td>\n      <td>9500</td>\n      <td>Garantía: Como es visto no hay garantía Precio...</td>\n    </tr>\n    <tr>\n      <th>5</th>\n      <td>Honda Civic</td>\n      <td>2008</td>\n      <td>260000</td>\n      <td>Gasolina</td>\n      <td>4800</td>\n      <td>Color : Plata DESCRIPCIÓN CALIFICACIONES SEGUR...</td>\n    </tr>\n    <tr>\n      <th>6</th>\n      <td>Kia Forte</td>\n      <td>2015</td>\n      <td>146000</td>\n      <td>Gasolina</td>\n      <td>7600</td>\n      <td>Precio negociable: si Color : Negro DESCRIPCIÓ...</td>\n    </tr>\n    <tr>\n      <th>7</th>\n      <td>Toyota Echo</td>\n      <td>2003</td>\n      <td>210000</td>\n      <td>Gasolina</td>\n      <td>4500</td>\n      <td>Precio negociable: si Color : Color Gris DESCR...</td>\n    </tr>\n    <tr>\n      <th>8</th>\n      <td>Mazda 6</td>\n      <td>2014</td>\n      <td>80538</td>\n      <td>Gasolina</td>\n      <td>7500</td>\n      <td>Precio negociable: si Color : Negro DESCRIPCIÓ...</td>\n    </tr>\n    <tr>\n      <th>9</th>\n      <td>Chevrolet Sonic</td>\n      <td>2013</td>\n      <td>0</td>\n      <td>Gasolina</td>\n      <td>5100</td>\n      <td>Color : Gris oscuro DESCRIPCIÓN ARTÍCULOS CALI...</td>\n    </tr>\n    <tr>\n      <th>10</th>\n      <td>Nissan Sentra</td>\n      <td>2019</td>\n      <td>70</td>\n      <td>Gasolina</td>\n      <td>8500</td>\n      <td>Precio negociable: si Color : Negro Se vende n...</td>\n    </tr>\n    <tr>\n      <th>11</th>\n      <td>Nissan Sentra</td>\n      <td>2017</td>\n      <td>122</td>\n      <td>Gasolina</td>\n      <td>6100</td>\n      <td>Color : Azul DESCRIPCIÓN CALIFICACIONES SEGURI...</td>\n    </tr>\n    <tr>\n      <th>12</th>\n      <td>Mazda 6</td>\n      <td>2006</td>\n      <td>60000</td>\n      <td>Gasolina</td>\n      <td>3000</td>\n      <td>Garantía: Como es visto no hay garantía Financ...</td>\n    </tr>\n    <tr>\n      <th>13</th>\n      <td>Honda Civic</td>\n      <td>2018</td>\n      <td>85000</td>\n      <td>Gasolina</td>\n      <td>12500</td>\n      <td>Color : Azul Tel y whatsapp - Honda Civic Full...</td>\n    </tr>\n    <tr>\n      <th>14</th>\n      <td>Honda Civic</td>\n      <td>2015</td>\n      <td>61065</td>\n      <td>Gasolina</td>\n      <td>14500</td>\n      <td>Precio negociable: si Color : Gris DESCRIPCIÓN...</td>\n    </tr>\n    <tr>\n      <th>15</th>\n      <td>Nissan Sentra</td>\n      <td>2015</td>\n      <td>72000</td>\n      <td>Gasolina</td>\n      <td>7000</td>\n      <td>Color : NEGRO DESCRIPCIÓN CALIFICACIONES SEGUR...</td>\n    </tr>\n    <tr>\n      <th>16</th>\n      <td>Ford Fiesta</td>\n      <td>2017</td>\n      <td>125367</td>\n      <td>Gasolina</td>\n      <td>6000</td>\n      <td>Precio negociable: si Color : Negro DESCRIPCIÓ...</td>\n    </tr>\n    <tr>\n      <th>17</th>\n      <td>Nissan Sentra</td>\n      <td>2020</td>\n      <td>32000</td>\n      <td>Gasolina</td>\n      <td>13500</td>\n      <td>Precio negociable: si Vendo Nissan Sentra 2020...</td>\n    </tr>\n    <tr>\n      <th>18</th>\n      <td>Nissan Versa</td>\n      <td>2019</td>\n      <td>40205</td>\n      <td>Gasolina</td>\n      <td>7800</td>\n      <td>Disponible con traspaso directo, crédito fisca...</td>\n    </tr>\n    <tr>\n      <th>19</th>\n      <td>Toyota Corolla</td>\n      <td>1996</td>\n      <td>0</td>\n      <td>Gasolina</td>\n      <td>5500</td>\n      <td>Precio negociable: si Color : Amarillo DESCRIP...</td>\n    </tr>\n    <tr>\n      <th>20</th>\n      <td>Nissan Sentra</td>\n      <td>2019</td>\n      <td>0</td>\n      <td>Gasolina</td>\n      <td>9300</td>\n      <td>Financiamiento: no Precio negociable: si Funci...</td>\n    </tr>\n    <tr>\n      <th>21</th>\n      <td>Kia Forte</td>\n      <td>2012</td>\n      <td>139000</td>\n      <td>Gasolina</td>\n      <td>6400</td>\n      <td>Garantía: Como es visto no hay garantía Financ...</td>\n    </tr>\n    <tr>\n      <th>22</th>\n      <td>Kia Rio</td>\n      <td>2018</td>\n      <td>70929</td>\n      <td>Gasolina</td>\n      <td>9000</td>\n      <td>Se vende bonito Kia Rio EX 2018 - A/C funciona...</td>\n    </tr>\n    <tr>\n      <th>23</th>\n      <td>Hyundai Accent</td>\n      <td>2005</td>\n      <td>1000</td>\n      <td>Gasolina</td>\n      <td>2650</td>\n      <td>Precio negociable: si Color : Azul DESCRIPCIÓN...</td>\n    </tr>\n    <tr>\n      <th>24</th>\n      <td>Nissan Sentra</td>\n      <td>2018</td>\n      <td>74741</td>\n      <td>Gasolina</td>\n      <td>7500</td>\n      <td>Color : Azul NISAN SENTRA 2018 full extras cám...</td>\n    </tr>\n    <tr>\n      <th>25</th>\n      <td>Nissan Sentra</td>\n      <td>2016</td>\n      <td>47000</td>\n      <td>Gasolina</td>\n      <td>8300</td>\n      <td>Precio negociable: si DESCRIPCIÓN CALIFICACION...</td>\n    </tr>\n    <tr>\n      <th>26</th>\n      <td>Ford Focus</td>\n      <td>2013</td>\n      <td>141000</td>\n      <td>Gasolina</td>\n      <td>5000</td>\n      <td>Precio negociable: si Color : Negro DESCRIPCIÓ...</td>\n    </tr>\n    <tr>\n      <th>27</th>\n      <td>Volkswagen Jetta GLI</td>\n      <td>2014</td>\n      <td>78000</td>\n      <td>Gasolina</td>\n      <td>9000</td>\n      <td>Garantía: Como es visto no hay garantía Financ...</td>\n    </tr>\n    <tr>\n      <th>28</th>\n      <td>BMW 3 Series</td>\n      <td>2015</td>\n      <td>114000</td>\n      <td>Gasolina</td>\n      <td>15500</td>\n      <td>Color : Orion gray DESCRIPCIÓN CALIFICACIONES ...</td>\n    </tr>\n    <tr>\n      <th>29</th>\n      <td>Kia E</td>\n      <td>2000</td>\n      <td>0</td>\n      <td>Gasolina</td>\n      <td>2500</td>\n      <td>Financiamiento: si Precio negociable: si Color...</td>\n    </tr>\n    <tr>\n      <th>30</th>\n      <td>Kia Forte</td>\n      <td>2020</td>\n      <td>65000</td>\n      <td>Gasolina</td>\n      <td>12999</td>\n      <td>Precio negociable: si Color : Gris Plata Vendo...</td>\n    </tr>\n    <tr>\n      <th>31</th>\n      <td>Acura TLX</td>\n      <td>2015</td>\n      <td>11100</td>\n      <td>Gasolina</td>\n      <td>11000</td>\n      <td>Garantía: Como es visto no hay garantía Precio...</td>\n    </tr>\n    <tr>\n      <th>32</th>\n      <td>Mitsubishi Lancer</td>\n      <td>2010</td>\n      <td>115000</td>\n      <td>Gasolina</td>\n      <td>6000</td>\n      <td>Financiamiento: no Precio negociable: si Detal...</td>\n    </tr>\n    <tr>\n      <th>33</th>\n      <td>Honda Civic</td>\n      <td>2017</td>\n      <td>34000</td>\n      <td>Gasolina</td>\n      <td>11500</td>\n      <td>DESCRIPCIÓN ARTÍCULOS CALIFICACIONES SEGURIDAD...</td>\n    </tr>\n    <tr>\n      <th>34</th>\n      <td>Hyundai Accent</td>\n      <td>2010</td>\n      <td>193588</td>\n      <td>Gasolina</td>\n      <td>5000</td>\n      <td>Precio negociable: si Color : Gris DESCRIPCIÓN...</td>\n    </tr>\n    <tr>\n      <th>35</th>\n      <td>Nissan Versa</td>\n      <td>2018</td>\n      <td>78720</td>\n      <td>Gasolina</td>\n      <td>8300</td>\n      <td>Precio negociable: si Color : Gris NISSAN VERS...</td>\n    </tr>\n    <tr>\n      <th>36</th>\n      <td>Nissan Versa</td>\n      <td>2013</td>\n      <td>67000</td>\n      <td>Gasolina</td>\n      <td>6000</td>\n      <td>Color : Negro DESCRIPCIÓN CALIFICACIONES SEGUR...</td>\n    </tr>\n    <tr>\n      <th>37</th>\n      <td>Chevrolet Sonic</td>\n      <td>2012</td>\n      <td>110048</td>\n      <td>Gasolina</td>\n      <td>5200</td>\n      <td>Garantía: Como es visto no hay garantía Financ...</td>\n    </tr>\n    <tr>\n      <th>38</th>\n      <td>Mazda Protege</td>\n      <td>2001</td>\n      <td>178000</td>\n      <td>Gasolina</td>\n      <td>3000</td>\n      <td>Vendo Mazda protege 2001 bastante negociable. ...</td>\n    </tr>\n    <tr>\n      <th>39</th>\n      <td>Hyundai Elantra</td>\n      <td>2018</td>\n      <td>78000</td>\n      <td>Gasolina</td>\n      <td>9900</td>\n      <td>Precio negociable: si Color : AZUL $9,900.00 p...</td>\n    </tr>\n    <tr>\n      <th>40</th>\n      <td>Jeep Renegade</td>\n      <td>2019</td>\n      <td>31000</td>\n      <td>Gasolina</td>\n      <td>11500</td>\n      <td>Precio negociable: si Color : Naranjado</td>\n    </tr>\n    <tr>\n      <th>41</th>\n      <td>Jeep Renegade</td>\n      <td>2019</td>\n      <td>50000</td>\n      <td>Gasolina</td>\n      <td>11800</td>\n      <td>Precio negociable: si Color : Naranjado 31,000...</td>\n    </tr>\n    <tr>\n      <th>42</th>\n      <td>Nissan Versa</td>\n      <td>2014</td>\n      <td>171356</td>\n      <td>Gasolina</td>\n      <td>6200</td>\n      <td>Garantía: Como es visto no hay garantía Financ...</td>\n    </tr>\n  </tbody>\n</table>\n</div>"
     },
     "execution_count": 39,
     "metadata": {},
     "output_type": "execute_result"
    }
   ],
   "source": [
    "df_temp"
   ],
   "metadata": {
    "collapsed": false,
    "ExecuteTime": {
     "end_time": "2023-09-26T02:18:55.975589600Z",
     "start_time": "2023-09-26T02:18:55.890446400Z"
    }
   }
  }
 ],
 "metadata": {
  "kernelspec": {
   "display_name": "Python 3",
   "language": "python",
   "name": "python3"
  },
  "language_info": {
   "codemirror_mode": {
    "name": "ipython",
    "version": 2
   },
   "file_extension": ".py",
   "mimetype": "text/x-python",
   "name": "python",
   "nbconvert_exporter": "python",
   "pygments_lexer": "ipython2",
   "version": "2.7.6"
  }
 },
 "nbformat": 4,
 "nbformat_minor": 0
}
