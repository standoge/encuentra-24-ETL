{
 "cells": [
  {
   "cell_type": "markdown",
   "source": [
    "## Dependencies"
   ],
   "metadata": {
    "collapsed": false
   }
  },
  {
   "cell_type": "markdown",
   "source": [
    "---"
   ],
   "metadata": {
    "collapsed": false
   }
  },
  {
   "cell_type": "code",
   "execution_count": 1,
   "outputs": [],
   "source": [
    "import yaml\n",
    "import re\n",
    "from datetime import datetime\n",
    "import pandas as pd"
   ],
   "metadata": {
    "collapsed": false,
    "ExecuteTime": {
     "end_time": "2023-11-05T20:37:26.454847200Z",
     "start_time": "2023-11-05T20:37:24.594216800Z"
    }
   }
  },
  {
   "cell_type": "code",
   "execution_count": 2,
   "outputs": [],
   "source": [
    "from selenium import webdriver\n",
    "from selenium.webdriver.common.by import By\n",
    "from selenium.webdriver.edge.service import Service\n",
    "from webdriver_manager.microsoft import EdgeChromiumDriverManager\n",
    "from selenium.webdriver.support.ui import WebDriverWait\n",
    "from selenium.webdriver.edge.options import Options\n",
    "from selenium.webdriver.support import expected_conditions as EC\n",
    "from selenium.common.exceptions import NoSuchElementException\n",
    "from selenium.common.exceptions import TimeoutException\n"
   ],
   "metadata": {
    "collapsed": false,
    "ExecuteTime": {
     "end_time": "2023-11-05T20:37:26.683049100Z",
     "start_time": "2023-11-05T20:37:26.454847200Z"
    }
   }
  },
  {
   "cell_type": "markdown",
   "source": [
    "Setting up web driver."
   ],
   "metadata": {
    "collapsed": false
   }
  },
  {
   "cell_type": "code",
   "execution_count": 3,
   "outputs": [
    {
     "name": "stderr",
     "output_type": "stream",
     "text": [
      "[WDM] - Downloading: 100%|██████████| 8.00M/8.00M [00:07<00:00, 1.12MB/s]\n"
     ]
    }
   ],
   "source": [
    "EdgeOptions = Options()\n",
    "EdgeOptions.add_argument(\"--headless\")\n",
    "edge = webdriver.Edge(service=Service(EdgeChromiumDriverManager().install()), options=EdgeOptions)\n",
    "# edge = webdriver.Edge(service=Service(EdgeChromiumDriverManager().install()))\n"
   ],
   "metadata": {
    "collapsed": false,
    "ExecuteTime": {
     "end_time": "2023-11-05T20:37:38.008206800Z",
     "start_time": "2023-11-05T20:37:26.685649700Z"
    }
   }
  },
  {
   "cell_type": "markdown",
   "source": [
    "## Extract"
   ],
   "metadata": {
    "collapsed": false
   }
  },
  {
   "cell_type": "markdown",
   "source": [
    "---"
   ],
   "metadata": {
    "collapsed": false
   }
  },
  {
   "cell_type": "markdown",
   "source": [
    "### Functions:"
   ],
   "metadata": {
    "collapsed": false
   }
  },
  {
   "cell_type": "code",
   "execution_count": 4,
   "outputs": [],
   "source": [
    "def resources(name: str) -> dict[str:str]:\n",
    "    \"\"\"Read yaml file to get xpath resources\n",
    "    \n",
    "    :param name: name of the resource to extract\n",
    "    :return: the xpath\n",
    "    \"\"\"\n",
    "    with open(\"xpath.yml\", \"r\") as f:\n",
    "        content: dict[str:str] = yaml.safe_load(f)\n",
    "        return content[name]"
   ],
   "metadata": {
    "collapsed": false,
    "ExecuteTime": {
     "end_time": "2023-11-05T20:37:38.030626Z",
     "start_time": "2023-11-05T20:37:38.013047100Z"
    }
   }
  },
  {
   "cell_type": "code",
   "execution_count": 5,
   "outputs": [],
   "source": [
    "def close_prompt(driver: webdriver) -> None:\n",
    "    \"\"\"Close prompt when is required\n",
    "    \n",
    "    :param driver: browser instance \n",
    "    \"\"\"\n",
    "    button: str = \"//a[@class='btn btn-subscription-light']\"\n",
    "    driver.find_element(by=By.XPATH, value=button).click()"
   ],
   "metadata": {
    "collapsed": false,
    "ExecuteTime": {
     "end_time": "2023-11-05T20:37:38.065404500Z",
     "start_time": "2023-11-05T20:37:38.026647700Z"
    }
   }
  },
  {
   "cell_type": "code",
   "execution_count": 6,
   "outputs": [],
   "source": [
    "def click_element(element: webdriver, path: str) -> None:\n",
    "    \"\"\"Click on element in the current browser page\n",
    "    \n",
    "    :param element: browser instance\n",
    "    :param path: xpath of element to click\n",
    "    \"\"\"\n",
    "    button = element.find_element(by=By.XPATH, value=path)\n",
    "    button.click()"
   ],
   "metadata": {
    "collapsed": false,
    "ExecuteTime": {
     "end_time": "2023-11-05T20:37:38.065404500Z",
     "start_time": "2023-11-05T20:37:38.041558Z"
    }
   }
  },
  {
   "cell_type": "code",
   "execution_count": 7,
   "outputs": [],
   "source": [
    "def extract_feature_in(element: webdriver, path: str) -> str:\n",
    "    \"\"\"Extract ad feature where current browser page is the ad page\n",
    "    \n",
    "    :param element: browser instance\n",
    "    :param path: xpath of feature to extract\n",
    "    :return: feature extracted\n",
    "    \"\"\"\n",
    "    feature: str = element.find_element(by=By.XPATH, value=path)\n",
    "    return feature"
   ],
   "metadata": {
    "collapsed": false,
    "ExecuteTime": {
     "end_time": "2023-11-05T20:37:38.098473200Z",
     "start_time": "2023-11-05T20:37:38.062364800Z"
    }
   }
  },
  {
   "cell_type": "code",
   "execution_count": 8,
   "outputs": [],
   "source": [
    "def extract_feature_out(element: webdriver, path: str) -> list[str]:\n",
    "    \"\"\"Extract ad feature where current browser page is the listing page (not in the ad)\n",
    "    \n",
    "    :param element: browser instance\n",
    "    :param path: xpath of feature to extract\n",
    "    :return: list of features\n",
    "    \"\"\"\n",
    "    feature = []\n",
    "\n",
    "    try:\n",
    "        feature: str = element.find_elements(by=By.XPATH, value=path)\n",
    "        feature = [data_point.text for data_point in feature]\n",
    "        return feature\n",
    "    except Exception:\n",
    "        feature.append(\"Web wasn't able to scrape the feature\")"
   ],
   "metadata": {
    "collapsed": false,
    "ExecuteTime": {
     "end_time": "2023-11-05T20:37:38.132151300Z",
     "start_time": "2023-11-05T20:37:38.079768300Z"
    }
   }
  },
  {
   "cell_type": "code",
   "execution_count": 9,
   "outputs": [],
   "source": [
    "def persistence(dataframe: pd.DataFrame) -> None:\n",
    "    \"\"\"Save dataframe to csv file\n",
    "    \n",
    "    :param dataframe: dataframe to save\n",
    "    \"\"\"\n",
    "    file_name = datetime.today().strftime(\"%B-%d\")\n",
    "    dataframe.to_csv(f\"persistence/{file_name}.csv\", index=False)"
   ],
   "metadata": {
    "collapsed": false,
    "ExecuteTime": {
     "end_time": "2023-11-05T20:37:38.132151300Z",
     "start_time": "2023-11-05T20:37:38.095887800Z"
    }
   }
  },
  {
   "cell_type": "code",
   "execution_count": 10,
   "outputs": [],
   "source": [
    "def get_len(features: list[list[str]]) -> bool:\n",
    "    \"\"\"Check if all features has the same length to create new df\n",
    "    \n",
    "    :param features: list of features extracted with scraping\n",
    "    :return: a list with all lengths where first place is the len of the first element and the mostly accepted.\n",
    "    \"\"\"\n",
    "    base_len = len(features[0])\n",
    "    lengths = []\n",
    "    lengths.append(base_len)\n",
    "    for feature in features:\n",
    "        if len(feature) == base_len:\n",
    "            continue\n",
    "        else:\n",
    "            lengths.append(len(feature))\n",
    "    return lengths"
   ],
   "metadata": {
    "collapsed": false,
    "ExecuteTime": {
     "end_time": "2023-11-05T20:37:38.132151300Z",
     "start_time": "2023-11-05T20:37:38.111259800Z"
    }
   }
  },
  {
   "cell_type": "code",
   "execution_count": 11,
   "outputs": [],
   "source": [
    "def check_len(lengths: list[int]) -> bool:\n",
    "    \"\"\"Check if all elements in list has the same value.\n",
    "    \n",
    "    :param lengths: list of lengths\n",
    "    :return: a boolean\n",
    "    \"\"\"\n",
    "    for length in lengths[1:]:\n",
    "        if length != lengths[0]:\n",
    "            return False\n",
    "        return True"
   ],
   "metadata": {
    "collapsed": false,
    "ExecuteTime": {
     "end_time": "2023-11-05T20:37:38.159678700Z",
     "start_time": "2023-11-05T20:37:38.127036Z"
    }
   }
  },
  {
   "cell_type": "markdown",
   "source": [
    "Variables pool."
   ],
   "metadata": {
    "collapsed": false
   }
  },
  {
   "cell_type": "code",
   "execution_count": 12,
   "outputs": [],
   "source": [
    "descriptions: list[str] = []\n",
    "prices: list[int] = []\n",
    "models: list[str] = []\n",
    "years: list[int] = []\n",
    "kilometers: list[int] = []\n",
    "engines: list[str] = []\n",
    "\n",
    "# seconds\n",
    "DELAY: int = 1\n",
    "SEDAN = resources(\"cars_sedan\")"
   ],
   "metadata": {
    "collapsed": false,
    "ExecuteTime": {
     "end_time": "2023-11-05T20:37:38.218390600Z",
     "start_time": "2023-11-05T20:37:38.145257Z"
    }
   }
  },
  {
   "cell_type": "markdown",
   "source": [
    "Get web page and close prompt (when is required)."
   ],
   "metadata": {
    "collapsed": false
   }
  },
  {
   "cell_type": "code",
   "execution_count": 13,
   "outputs": [],
   "source": [
    "edge.get(SEDAN[\"url\"])\n",
    "# close_prompt(edge)"
   ],
   "metadata": {
    "collapsed": false,
    "ExecuteTime": {
     "end_time": "2023-11-05T20:37:50.648154200Z",
     "start_time": "2023-11-05T20:37:38.162194600Z"
    }
   }
  },
  {
   "cell_type": "markdown",
   "source": [
    "Extract car features."
   ],
   "metadata": {
    "collapsed": false
   }
  },
  {
   "cell_type": "code",
   "execution_count": 14,
   "outputs": [],
   "source": [
    "# Get this list of ads and click on the first one\n",
    "elements = edge.find_elements(by=By.XPATH, value=SEDAN[\"ad\"])\n",
    "elements[0].click()\n",
    "\n",
    "try:\n",
    "    for element in range(len(elements)):\n",
    "        # Wait until the element is present to avoid missing data\n",
    "        dynamic_delay = WebDriverWait(edge, DELAY).until(\n",
    "            EC.presence_of_element_located((By.XPATH, SEDAN[\"description\"])))\n",
    "\n",
    "        brand_str = extract_feature_in(edge, SEDAN[\"brand\"]).text\n",
    "        model_str = extract_feature_in(edge, SEDAN[\"model\"]).text\n",
    "        models.append(brand_str + \" \" + model_str)\n",
    "\n",
    "        descriptions.append(extract_feature_in(edge, SEDAN[\"description\"]).text)\n",
    "        prices.append(extract_feature_in(edge, SEDAN[\"price\"]).text)\n",
    "        kilometers.append(extract_feature_in(edge, SEDAN[\"kilometers\"]).text)\n",
    "        engines.append(extract_feature_in(edge, SEDAN[\"engine\"]).text)\n",
    "        years.append(extract_feature_in(edge, SEDAN[\"year\"]).text)\n",
    "\n",
    "        click_element(edge, SEDAN[\"next\"])\n",
    "except TimeoutException as TE:\n",
    "    descriptions.append(\"Web wasn't able to scrape descriptions\")\n",
    "except NoSuchElementException as NSE:\n",
    "    click_element(edge, SEDAN[\"exit\"])"
   ],
   "metadata": {
    "collapsed": false,
    "ExecuteTime": {
     "end_time": "2023-11-05T20:40:35.494072300Z",
     "start_time": "2023-11-05T20:37:50.656797Z"
    }
   }
  },
  {
   "cell_type": "markdown",
   "source": [
    "## Export"
   ],
   "metadata": {
    "collapsed": false
   }
  },
  {
   "cell_type": "markdown",
   "source": [
    "---"
   ],
   "metadata": {
    "collapsed": false
   }
  },
  {
   "cell_type": "markdown",
   "source": [
    "### Functions:"
   ],
   "metadata": {
    "collapsed": false
   }
  },
  {
   "cell_type": "code",
   "execution_count": 15,
   "outputs": [],
   "source": [
    "def parse_price(dataframe: pd.DataFrame, feature: str, pattern: str) -> None:\n",
    "    \"\"\"Parse financial features like prices. Works with $#,### (not dot)\n",
    "    \n",
    "    :param dataframe: object towards apply transformation\n",
    "    :param feature: feature name towards apply transformation\n",
    "    :param pattern: feature pattern to transform\n",
    "    \"\"\"\n",
    "    dataframe[feature] = dataframe[feature] \\\n",
    "        .str.extract(pattern) \\\n",
    "        .applymap(lambda price: int(price.replace(\",\", \"\")))\n"
   ],
   "metadata": {
    "collapsed": false,
    "ExecuteTime": {
     "end_time": "2023-11-05T20:40:35.511214400Z",
     "start_time": "2023-11-05T20:40:35.496069700Z"
    }
   }
  },
  {
   "cell_type": "code",
   "execution_count": 16,
   "outputs": [],
   "source": [
    "def remove_chars(dataframe: pd.DataFrame, feature: str, wildcards: str) -> pd.Series:\n",
    "    \"\"\"Remove escaped characters from features like indented large extracts of text\n",
    "    \n",
    "    :param dataframe: object towards apply transformation\n",
    "    :param feature: feature name towards apply transformation\n",
    "    :param wildcards: escaped characters to remove\n",
    "    :return: Serie without escaped characters\n",
    "    \"\"\"\n",
    "    return (dataframe\n",
    "    .apply(\n",
    "        lambda row: row[feature]\n",
    "        , axis=1\n",
    "    )\n",
    "    .apply(\n",
    "        lambda extracted_f: re.sub(wildcards, r' ', extracted_f)\n",
    "    )\n",
    "    )\n"
   ],
   "metadata": {
    "collapsed": false,
    "ExecuteTime": {
     "end_time": "2023-11-05T20:40:35.557413700Z",
     "start_time": "2023-11-05T20:40:35.512213700Z"
    }
   }
  },
  {
   "cell_type": "code",
   "execution_count": 17,
   "outputs": [],
   "source": [
    "PRICE_RG: str = r\"^\\$(?P<prices>\\d+,?\\d+)?\"\n",
    "KM_REG: str = r\"(?P<km>^\\d+)\"\n",
    "CHARACTER_RG: str = '(\\n|\\r)+'"
   ],
   "metadata": {
    "collapsed": false,
    "ExecuteTime": {
     "end_time": "2023-11-05T20:40:35.558412200Z",
     "start_time": "2023-11-05T20:40:35.525097600Z"
    }
   }
  },
  {
   "cell_type": "markdown",
   "source": [
    "Check that all features has the same length."
   ],
   "metadata": {
    "collapsed": false
   }
  },
  {
   "cell_type": "code",
   "execution_count": 18,
   "outputs": [
    {
     "data": {
      "text/plain": "[50, 50, 50, 50, 50, 50]"
     },
     "execution_count": 18,
     "metadata": {},
     "output_type": "execute_result"
    }
   ],
   "source": [
    "lengths = [len(engines), len(models), len(years), len(kilometers), len(prices), len(descriptions)]\n",
    "lengths"
   ],
   "metadata": {
    "collapsed": false,
    "ExecuteTime": {
     "end_time": "2023-11-05T20:40:35.559414400Z",
     "start_time": "2023-11-05T20:40:35.542414300Z"
    }
   }
  },
  {
   "cell_type": "code",
   "execution_count": 19,
   "outputs": [],
   "source": [
    "prices = [price.replace(\".\", \",\") for price in prices]"
   ],
   "metadata": {
    "collapsed": false,
    "ExecuteTime": {
     "end_time": "2023-11-05T20:40:35.579525700Z",
     "start_time": "2023-11-05T20:40:35.556413800Z"
    }
   }
  },
  {
   "cell_type": "markdown",
   "source": [
    "Create dataframe to transform data extracted"
   ],
   "metadata": {
    "collapsed": false
   }
  },
  {
   "cell_type": "code",
   "execution_count": 20,
   "outputs": [],
   "source": [
    "if check_len(lengths):\n",
    "    df_temp = pd.DataFrame({\n",
    "        \"model\": models,\n",
    "        \"year\": years,\n",
    "        \"kilometers\": kilometers,\n",
    "        \"engine\": engines,\n",
    "        \"price\": prices,\n",
    "        \"description\": descriptions\n",
    "    })\n",
    "\n",
    "    # Parse features. String to number and raw string with characters to structured string.\n",
    "    parse_price(df_temp, \"price\", PRICE_RG)\n",
    "    df_temp[\"kilometers\"] = df_temp[\"kilometers\"].str.extract(KM_REG).applymap(int)\n",
    "    df_temp[\"year\"] = df_temp[\"year\"].map(int)\n",
    "    df_temp[\"description\"] = remove_chars(df_temp, \"description\", CHARACTER_RG)\n",
    "\n",
    "    persistence(df_temp)\n"
   ],
   "metadata": {
    "collapsed": false,
    "ExecuteTime": {
     "end_time": "2023-11-05T20:40:35.640513800Z",
     "start_time": "2023-11-05T20:40:35.593763400Z"
    }
   }
  },
  {
   "cell_type": "code",
   "execution_count": 21,
   "outputs": [
    {
     "data": {
      "text/plain": "                        model  year  kilometers    engine  price  \\\n0   otros + Datsun 120 Y 1979  1979           0  Gasolina   3900   \n1              Toyota Corolla  2018       65500  Gasolina  12400   \n2                    Kia SOUL  2018       45000  Gasolina  10500   \n3                     Kia Rio  2014       67000  Gasolina   6700   \n4               Nissan Sentra  2018      146500  Gasolina   8100   \n5                 Honda Civic  2003         300  Gasolina   5300   \n6                  Ford Focus  2007      200000  Gasolina   3200   \n7               Nissan Sentra  2011      184303  Gasolina   5200   \n8              Toyota Corolla  1999         156  Gasolina   4600   \n9              Hyundai Accent  2003      226691  Gasolina   3700   \n10                Kia Picanto  2023       20280  Gasolina  13000   \n11                Honda Civic  2019       46771  Gasolina  13950   \n12               Nissan Versa  2015       60500  Gasolina   6500   \n13                Honda Civic  2019       84000  Gasolina  11000   \n14              Nissan Sentra  2017          92  Gasolina   9250   \n15                Toyota 1000  1984          48  Gasolina   3600   \n16              Nissan Sentra  2014      122481  Gasolina   4800   \n17                  Kia Forte  2012      140000  Gasolina   6400   \n18            Hyundai Elantra  2013       87000  Gasolina   8300   \n19              Nissan Sentra  2016       95600  Gasolina   8000   \n20            Chevrolet Sonic  2016       87000  Gasolina   5100   \n21             Hyundai Accent  2001        1975  Gasolina   3100   \n22              Nissan Sentra  2020       32000  Gasolina  13000   \n23           Volkswagen Jetta  2010      175418  Gasolina   5000   \n24              Toyota Tercel  1993      180000  Gasolina   2700   \n25             Hyundai Accent  2016      144000  Gasolina   7900   \n26            Hyundai Elantra  2018       96000  Gasolina   9900   \n27            Hyundai Elantra  2001        5000  Gasolina   3500   \n28             Hyundai Accent  2014      222223  Gasolina   7200   \n29              Nissan Sentra  2017       61000  Gasolina   7400   \n30            Hyundai Elantra  2020       37000  Gasolina  10900   \n31             Chevrolet Aveo  2010           3  Gasolina   4300   \n32              Nissan Sentra  2024         131  Gasolina   6400   \n33                   Kia SOUL  2016         104  Gasolina    850   \n34                Honda Civic  2010      245710  Gasolina   6200   \n35            Chevrolet Sonic  2012       11000  Gasolina   4500   \n36              Nissan Murano  2014       97000  Gasolina   9500   \n37             Hyundai Accent  2020       35000  Gasolina  10300   \n38              Toyota Matrix  2009         194  Gasolina   6700   \n39            Hyundai Elantra  2001           0  Gasolina   3500   \n40                   Kia SOUL  2015       86000  Gasolina   8800   \n41                Honda Civic  2010      245231  Gasolina   6200   \n42              Nissan Sentra  2016       57500  Gasolina   8700   \n43                  Kia Forte  2017       75000  Gasolina   9200   \n44                    Kia RIO  2017      106000  Gasolina   7600   \n45    Chevrolet Cruze Limited  2018       25000  Gasolina   8475   \n46                Honda Civic  2016      109500  Gasolina  13000   \n47                  Kia Forte  2012      139000  Gasolina   6300   \n48       Volkswagen Jetta GLI  2014       78000  Gasolina   9000   \n49                      Kia E  2000           0  Gasolina   2500   \n\n                                          description  \n0   Precio negociable: si Color : Verde A los aman...  \n1   Garantía: Como es visto no hay garantía Financ...  \n2   Color : Blanco Bolsas Buenas (todas) A/C En ex...  \n3   Financiamiento: no Precio negociable: si Color...  \n4   Color : Gris Bonito Nissan Sentra SV 2018, sis...  \n5   Precio negociable: si Color : Negro DESCRIPCIÓ...  \n6   Garantía: Como es visto no hay garantía Color ...  \n7   Color : Negro DESCRIPCIÓN CALIFICACIONES SEGUR...  \n8   Financiamiento: no Precio negociable: si Color...  \n9   Precio negociable: no Color : Gris DESCRIPCIÓN...  \n10  Color : GRIS OSCURO SUPER ECONOMICO 70KM/GALON...  \n11  Garantía: Como es visto no hay garantía Financ...  \n12  Precio negociable: si DESCRIPCIÓN CALIFICACION...  \n13  Garantía: Como es visto no hay garantía Financ...  \n14  Color : Negro DESCRIPCIÓN CALIFICACIONES SEGUR...  \n15  Precio negociable: si Color : Negro Toyota Cor...  \n16  Color : Gris Rata DESCRIPCIÓN CALIFICACIONES S...  \n17  DESCRIPCIÓN CALIFICACIONES SEGURIDAD Kia forte...  \n18  Garantía: Como es visto no hay garantía Financ...  \n19  Precio negociable: si Color : Azul DESCRIPCIÓN...  \n20  Precio negociable: si Color : Gris DESCRIPCIÓN...  \n21  Precio negociable: si DESCRIPCIÓN CALIFICACION...  \n22  Precio negociable: si Vendo Nissan Sentra 2020...  \n23  Financiamiento: no Precio negociable: si Color...  \n24  DESCRIPCIÓN CALIFICACIONES SEGURIDAD Vendo Toy...  \n25  Precio negociable: si Color : Azul DESCRIPCIÓN...  \n26  Color : Rojo Hyundai Elantra 2018 SEL Motor 2....  \n27  Precio negociable: si DESCRIPCIÓN CALIFICACION...  \n28  Precio negociable: si Color : Negro DESCRIPCIÓ...  \n29  Precio negociable: si DESCRIPCIÓN CALIFICACION...  \n30  Precio negociable: si Color : NEGRO HYUNDAI EL...  \n31  Financiamiento: no Precio negociable: si DESCR...  \n32  Precio negociable: si Color : Blanco A toda Pr...  \n33  Precio negociable: si Color : Negro DESCRIPCIÓ...  \n34  DESCRIPCIÓN CALIFICACIONES SEGURIDAD Vendo Hon...  \n35  Precio negociable: si Color : Rojo DESCRIPCIÓN...  \n36                 Precio negociable: si Color : OCRE  \n37  Precio negociable: si Color : Gris MOTOR 1.6 T...  \n38  Color : Rojo Todo en regla.aire . pantalla cam...  \n39  Precio negociable: si Color : Verde DESCRIPCIÓ...  \n40  Garantía: Como es visto no hay garantía Financ...  \n41  Precio negociable: si Color : Gris DESCRIPCIÓN...  \n42  Precio negociable: si Color : Rojo DESCRIPCIÓN...  \n43  Color : Café DESCRIPCIÓN CALIFICACIONES SEGURI...  \n44  Color : Negro DESCRIPCIÓN CALIFICACIONES SEGUR...  \n45  Color : Negro Año 2018 Chevrolet Cruze LT (Paq...  \n46  Color : Gris DESCRIPCIÓN CALIFICACIONES SEGURI...  \n47  Garantía: Como es visto no hay garantía Financ...  \n48  Garantía: Como es visto no hay garantía Financ...  \n49  Financiamiento: si Precio negociable: si Color...  ",
      "text/html": "<div>\n<style scoped>\n    .dataframe tbody tr th:only-of-type {\n        vertical-align: middle;\n    }\n\n    .dataframe tbody tr th {\n        vertical-align: top;\n    }\n\n    .dataframe thead th {\n        text-align: right;\n    }\n</style>\n<table border=\"1\" class=\"dataframe\">\n  <thead>\n    <tr style=\"text-align: right;\">\n      <th></th>\n      <th>model</th>\n      <th>year</th>\n      <th>kilometers</th>\n      <th>engine</th>\n      <th>price</th>\n      <th>description</th>\n    </tr>\n  </thead>\n  <tbody>\n    <tr>\n      <th>0</th>\n      <td>otros + Datsun 120 Y 1979</td>\n      <td>1979</td>\n      <td>0</td>\n      <td>Gasolina</td>\n      <td>3900</td>\n      <td>Precio negociable: si Color : Verde A los aman...</td>\n    </tr>\n    <tr>\n      <th>1</th>\n      <td>Toyota Corolla</td>\n      <td>2018</td>\n      <td>65500</td>\n      <td>Gasolina</td>\n      <td>12400</td>\n      <td>Garantía: Como es visto no hay garantía Financ...</td>\n    </tr>\n    <tr>\n      <th>2</th>\n      <td>Kia SOUL</td>\n      <td>2018</td>\n      <td>45000</td>\n      <td>Gasolina</td>\n      <td>10500</td>\n      <td>Color : Blanco Bolsas Buenas (todas) A/C En ex...</td>\n    </tr>\n    <tr>\n      <th>3</th>\n      <td>Kia Rio</td>\n      <td>2014</td>\n      <td>67000</td>\n      <td>Gasolina</td>\n      <td>6700</td>\n      <td>Financiamiento: no Precio negociable: si Color...</td>\n    </tr>\n    <tr>\n      <th>4</th>\n      <td>Nissan Sentra</td>\n      <td>2018</td>\n      <td>146500</td>\n      <td>Gasolina</td>\n      <td>8100</td>\n      <td>Color : Gris Bonito Nissan Sentra SV 2018, sis...</td>\n    </tr>\n    <tr>\n      <th>5</th>\n      <td>Honda Civic</td>\n      <td>2003</td>\n      <td>300</td>\n      <td>Gasolina</td>\n      <td>5300</td>\n      <td>Precio negociable: si Color : Negro DESCRIPCIÓ...</td>\n    </tr>\n    <tr>\n      <th>6</th>\n      <td>Ford Focus</td>\n      <td>2007</td>\n      <td>200000</td>\n      <td>Gasolina</td>\n      <td>3200</td>\n      <td>Garantía: Como es visto no hay garantía Color ...</td>\n    </tr>\n    <tr>\n      <th>7</th>\n      <td>Nissan Sentra</td>\n      <td>2011</td>\n      <td>184303</td>\n      <td>Gasolina</td>\n      <td>5200</td>\n      <td>Color : Negro DESCRIPCIÓN CALIFICACIONES SEGUR...</td>\n    </tr>\n    <tr>\n      <th>8</th>\n      <td>Toyota Corolla</td>\n      <td>1999</td>\n      <td>156</td>\n      <td>Gasolina</td>\n      <td>4600</td>\n      <td>Financiamiento: no Precio negociable: si Color...</td>\n    </tr>\n    <tr>\n      <th>9</th>\n      <td>Hyundai Accent</td>\n      <td>2003</td>\n      <td>226691</td>\n      <td>Gasolina</td>\n      <td>3700</td>\n      <td>Precio negociable: no Color : Gris DESCRIPCIÓN...</td>\n    </tr>\n    <tr>\n      <th>10</th>\n      <td>Kia Picanto</td>\n      <td>2023</td>\n      <td>20280</td>\n      <td>Gasolina</td>\n      <td>13000</td>\n      <td>Color : GRIS OSCURO SUPER ECONOMICO 70KM/GALON...</td>\n    </tr>\n    <tr>\n      <th>11</th>\n      <td>Honda Civic</td>\n      <td>2019</td>\n      <td>46771</td>\n      <td>Gasolina</td>\n      <td>13950</td>\n      <td>Garantía: Como es visto no hay garantía Financ...</td>\n    </tr>\n    <tr>\n      <th>12</th>\n      <td>Nissan Versa</td>\n      <td>2015</td>\n      <td>60500</td>\n      <td>Gasolina</td>\n      <td>6500</td>\n      <td>Precio negociable: si DESCRIPCIÓN CALIFICACION...</td>\n    </tr>\n    <tr>\n      <th>13</th>\n      <td>Honda Civic</td>\n      <td>2019</td>\n      <td>84000</td>\n      <td>Gasolina</td>\n      <td>11000</td>\n      <td>Garantía: Como es visto no hay garantía Financ...</td>\n    </tr>\n    <tr>\n      <th>14</th>\n      <td>Nissan Sentra</td>\n      <td>2017</td>\n      <td>92</td>\n      <td>Gasolina</td>\n      <td>9250</td>\n      <td>Color : Negro DESCRIPCIÓN CALIFICACIONES SEGUR...</td>\n    </tr>\n    <tr>\n      <th>15</th>\n      <td>Toyota 1000</td>\n      <td>1984</td>\n      <td>48</td>\n      <td>Gasolina</td>\n      <td>3600</td>\n      <td>Precio negociable: si Color : Negro Toyota Cor...</td>\n    </tr>\n    <tr>\n      <th>16</th>\n      <td>Nissan Sentra</td>\n      <td>2014</td>\n      <td>122481</td>\n      <td>Gasolina</td>\n      <td>4800</td>\n      <td>Color : Gris Rata DESCRIPCIÓN CALIFICACIONES S...</td>\n    </tr>\n    <tr>\n      <th>17</th>\n      <td>Kia Forte</td>\n      <td>2012</td>\n      <td>140000</td>\n      <td>Gasolina</td>\n      <td>6400</td>\n      <td>DESCRIPCIÓN CALIFICACIONES SEGURIDAD Kia forte...</td>\n    </tr>\n    <tr>\n      <th>18</th>\n      <td>Hyundai Elantra</td>\n      <td>2013</td>\n      <td>87000</td>\n      <td>Gasolina</td>\n      <td>8300</td>\n      <td>Garantía: Como es visto no hay garantía Financ...</td>\n    </tr>\n    <tr>\n      <th>19</th>\n      <td>Nissan Sentra</td>\n      <td>2016</td>\n      <td>95600</td>\n      <td>Gasolina</td>\n      <td>8000</td>\n      <td>Precio negociable: si Color : Azul DESCRIPCIÓN...</td>\n    </tr>\n    <tr>\n      <th>20</th>\n      <td>Chevrolet Sonic</td>\n      <td>2016</td>\n      <td>87000</td>\n      <td>Gasolina</td>\n      <td>5100</td>\n      <td>Precio negociable: si Color : Gris DESCRIPCIÓN...</td>\n    </tr>\n    <tr>\n      <th>21</th>\n      <td>Hyundai Accent</td>\n      <td>2001</td>\n      <td>1975</td>\n      <td>Gasolina</td>\n      <td>3100</td>\n      <td>Precio negociable: si DESCRIPCIÓN CALIFICACION...</td>\n    </tr>\n    <tr>\n      <th>22</th>\n      <td>Nissan Sentra</td>\n      <td>2020</td>\n      <td>32000</td>\n      <td>Gasolina</td>\n      <td>13000</td>\n      <td>Precio negociable: si Vendo Nissan Sentra 2020...</td>\n    </tr>\n    <tr>\n      <th>23</th>\n      <td>Volkswagen Jetta</td>\n      <td>2010</td>\n      <td>175418</td>\n      <td>Gasolina</td>\n      <td>5000</td>\n      <td>Financiamiento: no Precio negociable: si Color...</td>\n    </tr>\n    <tr>\n      <th>24</th>\n      <td>Toyota Tercel</td>\n      <td>1993</td>\n      <td>180000</td>\n      <td>Gasolina</td>\n      <td>2700</td>\n      <td>DESCRIPCIÓN CALIFICACIONES SEGURIDAD Vendo Toy...</td>\n    </tr>\n    <tr>\n      <th>25</th>\n      <td>Hyundai Accent</td>\n      <td>2016</td>\n      <td>144000</td>\n      <td>Gasolina</td>\n      <td>7900</td>\n      <td>Precio negociable: si Color : Azul DESCRIPCIÓN...</td>\n    </tr>\n    <tr>\n      <th>26</th>\n      <td>Hyundai Elantra</td>\n      <td>2018</td>\n      <td>96000</td>\n      <td>Gasolina</td>\n      <td>9900</td>\n      <td>Color : Rojo Hyundai Elantra 2018 SEL Motor 2....</td>\n    </tr>\n    <tr>\n      <th>27</th>\n      <td>Hyundai Elantra</td>\n      <td>2001</td>\n      <td>5000</td>\n      <td>Gasolina</td>\n      <td>3500</td>\n      <td>Precio negociable: si DESCRIPCIÓN CALIFICACION...</td>\n    </tr>\n    <tr>\n      <th>28</th>\n      <td>Hyundai Accent</td>\n      <td>2014</td>\n      <td>222223</td>\n      <td>Gasolina</td>\n      <td>7200</td>\n      <td>Precio negociable: si Color : Negro DESCRIPCIÓ...</td>\n    </tr>\n    <tr>\n      <th>29</th>\n      <td>Nissan Sentra</td>\n      <td>2017</td>\n      <td>61000</td>\n      <td>Gasolina</td>\n      <td>7400</td>\n      <td>Precio negociable: si DESCRIPCIÓN CALIFICACION...</td>\n    </tr>\n    <tr>\n      <th>30</th>\n      <td>Hyundai Elantra</td>\n      <td>2020</td>\n      <td>37000</td>\n      <td>Gasolina</td>\n      <td>10900</td>\n      <td>Precio negociable: si Color : NEGRO HYUNDAI EL...</td>\n    </tr>\n    <tr>\n      <th>31</th>\n      <td>Chevrolet Aveo</td>\n      <td>2010</td>\n      <td>3</td>\n      <td>Gasolina</td>\n      <td>4300</td>\n      <td>Financiamiento: no Precio negociable: si DESCR...</td>\n    </tr>\n    <tr>\n      <th>32</th>\n      <td>Nissan Sentra</td>\n      <td>2024</td>\n      <td>131</td>\n      <td>Gasolina</td>\n      <td>6400</td>\n      <td>Precio negociable: si Color : Blanco A toda Pr...</td>\n    </tr>\n    <tr>\n      <th>33</th>\n      <td>Kia SOUL</td>\n      <td>2016</td>\n      <td>104</td>\n      <td>Gasolina</td>\n      <td>850</td>\n      <td>Precio negociable: si Color : Negro DESCRIPCIÓ...</td>\n    </tr>\n    <tr>\n      <th>34</th>\n      <td>Honda Civic</td>\n      <td>2010</td>\n      <td>245710</td>\n      <td>Gasolina</td>\n      <td>6200</td>\n      <td>DESCRIPCIÓN CALIFICACIONES SEGURIDAD Vendo Hon...</td>\n    </tr>\n    <tr>\n      <th>35</th>\n      <td>Chevrolet Sonic</td>\n      <td>2012</td>\n      <td>11000</td>\n      <td>Gasolina</td>\n      <td>4500</td>\n      <td>Precio negociable: si Color : Rojo DESCRIPCIÓN...</td>\n    </tr>\n    <tr>\n      <th>36</th>\n      <td>Nissan Murano</td>\n      <td>2014</td>\n      <td>97000</td>\n      <td>Gasolina</td>\n      <td>9500</td>\n      <td>Precio negociable: si Color : OCRE</td>\n    </tr>\n    <tr>\n      <th>37</th>\n      <td>Hyundai Accent</td>\n      <td>2020</td>\n      <td>35000</td>\n      <td>Gasolina</td>\n      <td>10300</td>\n      <td>Precio negociable: si Color : Gris MOTOR 1.6 T...</td>\n    </tr>\n    <tr>\n      <th>38</th>\n      <td>Toyota Matrix</td>\n      <td>2009</td>\n      <td>194</td>\n      <td>Gasolina</td>\n      <td>6700</td>\n      <td>Color : Rojo Todo en regla.aire . pantalla cam...</td>\n    </tr>\n    <tr>\n      <th>39</th>\n      <td>Hyundai Elantra</td>\n      <td>2001</td>\n      <td>0</td>\n      <td>Gasolina</td>\n      <td>3500</td>\n      <td>Precio negociable: si Color : Verde DESCRIPCIÓ...</td>\n    </tr>\n    <tr>\n      <th>40</th>\n      <td>Kia SOUL</td>\n      <td>2015</td>\n      <td>86000</td>\n      <td>Gasolina</td>\n      <td>8800</td>\n      <td>Garantía: Como es visto no hay garantía Financ...</td>\n    </tr>\n    <tr>\n      <th>41</th>\n      <td>Honda Civic</td>\n      <td>2010</td>\n      <td>245231</td>\n      <td>Gasolina</td>\n      <td>6200</td>\n      <td>Precio negociable: si Color : Gris DESCRIPCIÓN...</td>\n    </tr>\n    <tr>\n      <th>42</th>\n      <td>Nissan Sentra</td>\n      <td>2016</td>\n      <td>57500</td>\n      <td>Gasolina</td>\n      <td>8700</td>\n      <td>Precio negociable: si Color : Rojo DESCRIPCIÓN...</td>\n    </tr>\n    <tr>\n      <th>43</th>\n      <td>Kia Forte</td>\n      <td>2017</td>\n      <td>75000</td>\n      <td>Gasolina</td>\n      <td>9200</td>\n      <td>Color : Café DESCRIPCIÓN CALIFICACIONES SEGURI...</td>\n    </tr>\n    <tr>\n      <th>44</th>\n      <td>Kia RIO</td>\n      <td>2017</td>\n      <td>106000</td>\n      <td>Gasolina</td>\n      <td>7600</td>\n      <td>Color : Negro DESCRIPCIÓN CALIFICACIONES SEGUR...</td>\n    </tr>\n    <tr>\n      <th>45</th>\n      <td>Chevrolet Cruze Limited</td>\n      <td>2018</td>\n      <td>25000</td>\n      <td>Gasolina</td>\n      <td>8475</td>\n      <td>Color : Negro Año 2018 Chevrolet Cruze LT (Paq...</td>\n    </tr>\n    <tr>\n      <th>46</th>\n      <td>Honda Civic</td>\n      <td>2016</td>\n      <td>109500</td>\n      <td>Gasolina</td>\n      <td>13000</td>\n      <td>Color : Gris DESCRIPCIÓN CALIFICACIONES SEGURI...</td>\n    </tr>\n    <tr>\n      <th>47</th>\n      <td>Kia Forte</td>\n      <td>2012</td>\n      <td>139000</td>\n      <td>Gasolina</td>\n      <td>6300</td>\n      <td>Garantía: Como es visto no hay garantía Financ...</td>\n    </tr>\n    <tr>\n      <th>48</th>\n      <td>Volkswagen Jetta GLI</td>\n      <td>2014</td>\n      <td>78000</td>\n      <td>Gasolina</td>\n      <td>9000</td>\n      <td>Garantía: Como es visto no hay garantía Financ...</td>\n    </tr>\n    <tr>\n      <th>49</th>\n      <td>Kia E</td>\n      <td>2000</td>\n      <td>0</td>\n      <td>Gasolina</td>\n      <td>2500</td>\n      <td>Financiamiento: si Precio negociable: si Color...</td>\n    </tr>\n  </tbody>\n</table>\n</div>"
     },
     "execution_count": 21,
     "metadata": {},
     "output_type": "execute_result"
    }
   ],
   "source": [
    "df_temp"
   ],
   "metadata": {
    "collapsed": false,
    "ExecuteTime": {
     "end_time": "2023-11-05T20:40:35.667110200Z",
     "start_time": "2023-11-05T20:40:35.618995800Z"
    }
   }
  }
 ],
 "metadata": {
  "kernelspec": {
   "display_name": "Python 3",
   "language": "python",
   "name": "python3"
  },
  "language_info": {
   "codemirror_mode": {
    "name": "ipython",
    "version": 2
   },
   "file_extension": ".py",
   "mimetype": "text/x-python",
   "name": "python",
   "nbconvert_exporter": "python",
   "pygments_lexer": "ipython2",
   "version": "2.7.6"
  }
 },
 "nbformat": 4,
 "nbformat_minor": 0
}
