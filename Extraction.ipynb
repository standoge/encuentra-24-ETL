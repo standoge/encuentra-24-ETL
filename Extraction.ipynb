{
 "cells": [
  {
   "cell_type": "markdown",
   "source": [
    "## Dependencies"
   ],
   "metadata": {
    "collapsed": false
   }
  },
  {
   "cell_type": "markdown",
   "source": [
    "---"
   ],
   "metadata": {
    "collapsed": false
   }
  },
  {
   "cell_type": "code",
   "execution_count": 1,
   "outputs": [],
   "source": [
    "import yaml\n",
    "import re\n",
    "from datetime import datetime\n",
    "import pandas as pd"
   ],
   "metadata": {
    "collapsed": false,
    "ExecuteTime": {
     "end_time": "2023-10-17T05:30:28.795883300Z",
     "start_time": "2023-10-17T05:30:27.935758100Z"
    }
   }
  },
  {
   "cell_type": "code",
   "execution_count": 2,
   "outputs": [],
   "source": [
    "from selenium import webdriver\n",
    "from selenium.webdriver.common.by import By\n",
    "from selenium.webdriver.edge.service import Service\n",
    "from webdriver_manager.microsoft import EdgeChromiumDriverManager\n",
    "from selenium.webdriver.support.ui import WebDriverWait\n",
    "from selenium.webdriver.edge.options import Options\n",
    "from selenium.webdriver.support import expected_conditions as EC\n",
    "from selenium.common.exceptions import NoSuchElementException\n",
    "from selenium.common.exceptions import TimeoutException\n"
   ],
   "metadata": {
    "collapsed": false,
    "ExecuteTime": {
     "end_time": "2023-10-17T05:30:29.212647900Z",
     "start_time": "2023-10-17T05:30:28.795883300Z"
    }
   }
  },
  {
   "cell_type": "markdown",
   "source": [
    "Setting up web driver."
   ],
   "metadata": {
    "collapsed": false
   }
  },
  {
   "cell_type": "code",
   "execution_count": 3,
   "outputs": [
    {
     "name": "stderr",
     "output_type": "stream",
     "text": [
      "[WDM] - Downloading: 100%|██████████| 7.76M/7.76M [00:01<00:00, 4.83MB/s]\n"
     ]
    }
   ],
   "source": [
    "EdgeOptions = Options()\n",
    "EdgeOptions.add_argument(\"--headless\")\n",
    "edge = webdriver.Edge(service=Service(EdgeChromiumDriverManager().install()), options=EdgeOptions)\n",
    "# edge = webdriver.Edge(service=Service(EdgeChromiumDriverManager().install()))\n"
   ],
   "metadata": {
    "collapsed": false,
    "ExecuteTime": {
     "end_time": "2023-10-17T05:30:33.898543200Z",
     "start_time": "2023-10-17T05:30:29.213645300Z"
    }
   }
  },
  {
   "cell_type": "markdown",
   "source": [
    "## Extract"
   ],
   "metadata": {
    "collapsed": false
   }
  },
  {
   "cell_type": "markdown",
   "source": [
    "---"
   ],
   "metadata": {
    "collapsed": false
   }
  },
  {
   "cell_type": "markdown",
   "source": [
    "### Functions:"
   ],
   "metadata": {
    "collapsed": false
   }
  },
  {
   "cell_type": "code",
   "execution_count": 4,
   "outputs": [],
   "source": [
    "def resources(name: str) -> dict[str:str]:\n",
    "    \"\"\"Read yaml file to get xpath resources\n",
    "    \n",
    "    :param name: name of the resource to extract\n",
    "    :return: the xpath\n",
    "    \"\"\"\n",
    "    with open(\"xpath.yml\", \"r\") as f:\n",
    "        content: dict[str:str] = yaml.safe_load(f)\n",
    "        return content[name]"
   ],
   "metadata": {
    "collapsed": false,
    "ExecuteTime": {
     "end_time": "2023-10-17T05:30:33.919582100Z",
     "start_time": "2023-10-17T05:30:33.898543200Z"
    }
   }
  },
  {
   "cell_type": "code",
   "execution_count": 5,
   "outputs": [],
   "source": [
    "def close_prompt(driver: webdriver) -> None:\n",
    "    \"\"\"Close prompt when is required\n",
    "    \n",
    "    :param driver: browser instance \n",
    "    \"\"\"\n",
    "    button: str = \"//a[@class='btn btn-subscription-light']\"\n",
    "    driver.find_element(by=By.XPATH, value=button).click()"
   ],
   "metadata": {
    "collapsed": false,
    "ExecuteTime": {
     "end_time": "2023-10-17T05:30:33.965641700Z",
     "start_time": "2023-10-17T05:30:33.919582100Z"
    }
   }
  },
  {
   "cell_type": "code",
   "execution_count": 6,
   "outputs": [],
   "source": [
    "def click_element(element: webdriver, path: str) -> None:\n",
    "    \"\"\"Click on element in the current browser page\n",
    "    \n",
    "    :param element: browser instance\n",
    "    :param path: xpath of element to click\n",
    "    \"\"\"\n",
    "    button = element.find_element(by=By.XPATH, value=path)\n",
    "    button.click()"
   ],
   "metadata": {
    "collapsed": false,
    "ExecuteTime": {
     "end_time": "2023-10-17T05:30:33.965641700Z",
     "start_time": "2023-10-17T05:30:33.935860400Z"
    }
   }
  },
  {
   "cell_type": "code",
   "execution_count": 7,
   "outputs": [],
   "source": [
    "def extract_feature_in(element: webdriver, path: str) -> str:\n",
    "    \"\"\"Extract ad feature where current browser page is the ad page\n",
    "    \n",
    "    :param element: browser instance\n",
    "    :param path: xpath of feature to extract\n",
    "    :return: feature extracted\n",
    "    \"\"\"\n",
    "    feature: str = element.find_element(by=By.XPATH, value=path)\n",
    "    return feature"
   ],
   "metadata": {
    "collapsed": false,
    "ExecuteTime": {
     "end_time": "2023-10-17T05:30:33.965641700Z",
     "start_time": "2023-10-17T05:30:33.949625100Z"
    }
   }
  },
  {
   "cell_type": "code",
   "execution_count": 8,
   "outputs": [],
   "source": [
    "def extract_feature_out(element: webdriver, path: str) -> list[str]:\n",
    "    \"\"\"Extract ad feature where current browser page is the listing page (not in the ad)\n",
    "    \n",
    "    :param element: browser instance\n",
    "    :param path: xpath of feature to extract\n",
    "    :return: list of features\n",
    "    \"\"\"\n",
    "    feature = []\n",
    "\n",
    "    try:\n",
    "        feature: str = element.find_elements(by=By.XPATH, value=path)\n",
    "        feature = [data_point.text for data_point in feature]\n",
    "        return feature\n",
    "    except Exception:\n",
    "        feature.append(\"Web wasn't able to scrape the feature\")"
   ],
   "metadata": {
    "collapsed": false,
    "ExecuteTime": {
     "end_time": "2023-10-17T05:30:33.991915100Z",
     "start_time": "2023-10-17T05:30:33.965641700Z"
    }
   }
  },
  {
   "cell_type": "code",
   "execution_count": 9,
   "outputs": [],
   "source": [
    "def persistence(dataframe: pd.DataFrame) -> None:\n",
    "    \"\"\"Save dataframe to csv file\n",
    "    \n",
    "    :param dataframe: dataframe to save\n",
    "    \"\"\"\n",
    "    file_name = datetime.today().strftime(\"%B-%d\")\n",
    "    dataframe.to_csv(f\"persistence/{file_name}.csv\", index=False)"
   ],
   "metadata": {
    "collapsed": false,
    "ExecuteTime": {
     "end_time": "2023-10-17T05:30:34.023711300Z",
     "start_time": "2023-10-17T05:30:33.985917300Z"
    }
   }
  },
  {
   "cell_type": "code",
   "execution_count": 10,
   "outputs": [],
   "source": [
    "def get_len(features: list[list[str]]) -> bool:\n",
    "    \"\"\"Check if all features has the same length to create new df\n",
    "    \n",
    "    :param features: list of features extracted with scraping\n",
    "    :return: a list with all lengths where first place is the len of the first element and the mostly accepted.\n",
    "    \"\"\"\n",
    "    base_len = len(features[0])\n",
    "    lengths = []\n",
    "    lengths.append(base_len)\n",
    "    for feature in features:\n",
    "        if len(feature) == base_len:\n",
    "            continue\n",
    "        else:\n",
    "            lengths.append(len(feature))\n",
    "    return lengths"
   ],
   "metadata": {
    "collapsed": false,
    "ExecuteTime": {
     "end_time": "2023-10-17T05:30:34.023711300Z",
     "start_time": "2023-10-17T05:30:33.999509300Z"
    }
   }
  },
  {
   "cell_type": "code",
   "execution_count": 11,
   "outputs": [],
   "source": [
    "def check_len(lengths: list[int]) -> bool:\n",
    "    \"\"\"Check if all elements in list has the same value.\n",
    "    \n",
    "    :param lengths: list of lengths\n",
    "    :return: a boolean\n",
    "    \"\"\"\n",
    "    for length in lengths[1:]:\n",
    "        if length != lengths[0]:\n",
    "            return False\n",
    "        return True"
   ],
   "metadata": {
    "collapsed": false,
    "ExecuteTime": {
     "end_time": "2023-10-17T05:30:34.056601200Z",
     "start_time": "2023-10-17T05:30:34.020711300Z"
    }
   }
  },
  {
   "cell_type": "markdown",
   "source": [
    "Variables pool."
   ],
   "metadata": {
    "collapsed": false
   }
  },
  {
   "cell_type": "code",
   "execution_count": 12,
   "outputs": [],
   "source": [
    "descriptions: list[str] = []\n",
    "prices: list[int] = []\n",
    "models: list[str] = []\n",
    "years: list[int] = []\n",
    "kilometers: list[int] = []\n",
    "engines: list[str] = []\n",
    "\n",
    "# seconds\n",
    "DELAY: int = 1\n",
    "SEDAN = resources(\"cars_sedan\")"
   ],
   "metadata": {
    "collapsed": false,
    "ExecuteTime": {
     "end_time": "2023-10-17T05:30:34.086855500Z",
     "start_time": "2023-10-17T05:30:34.035531800Z"
    }
   }
  },
  {
   "cell_type": "markdown",
   "source": [
    "Get web page and close prompt (when is required)."
   ],
   "metadata": {
    "collapsed": false
   }
  },
  {
   "cell_type": "code",
   "execution_count": 13,
   "outputs": [],
   "source": [
    "edge.get(SEDAN[\"url\"])\n",
    "# close_prompt(edge)"
   ],
   "metadata": {
    "collapsed": false,
    "ExecuteTime": {
     "end_time": "2023-10-17T05:30:41.498722200Z",
     "start_time": "2023-10-17T05:30:34.053598800Z"
    }
   }
  },
  {
   "cell_type": "markdown",
   "source": [
    "Extract car features."
   ],
   "metadata": {
    "collapsed": false
   }
  },
  {
   "cell_type": "code",
   "execution_count": 14,
   "outputs": [],
   "source": [
    "# Get this list of ads and click on the first one\n",
    "elements = edge.find_elements(by=By.XPATH, value=SEDAN[\"ad\"])\n",
    "elements[0].click()\n",
    "\n",
    "try:\n",
    "    for element in range(len(elements)):\n",
    "        # Wait until the element is present to avoid missing data\n",
    "        dynamic_delay = WebDriverWait(edge, DELAY).until(\n",
    "            EC.presence_of_element_located((By.XPATH, SEDAN[\"description\"])))\n",
    "\n",
    "        brand_str = extract_feature_in(edge, SEDAN[\"brand\"]).text\n",
    "        model_str = extract_feature_in(edge, SEDAN[\"model\"]).text\n",
    "        models.append(brand_str + \" \" + model_str)\n",
    "\n",
    "        descriptions.append(extract_feature_in(edge, SEDAN[\"description\"]).text)\n",
    "        prices.append(extract_feature_in(edge, SEDAN[\"price\"]).text)\n",
    "        kilometers.append(extract_feature_in(edge, SEDAN[\"kilometers\"]).text)\n",
    "        engines.append(extract_feature_in(edge, SEDAN[\"engine\"]).text)\n",
    "        years.append(extract_feature_in(edge, SEDAN[\"year\"]).text)\n",
    "\n",
    "        click_element(edge, SEDAN[\"next\"])\n",
    "except TimeoutException as TE:\n",
    "    descriptions.append(\"Web wasn't able to scrape descriptions\")\n",
    "except NoSuchElementException as NSE:\n",
    "    click_element(edge, SEDAN[\"exit\"])"
   ],
   "metadata": {
    "collapsed": false,
    "ExecuteTime": {
     "end_time": "2023-10-17T05:32:40.938859Z",
     "start_time": "2023-10-17T05:30:41.502721600Z"
    }
   }
  },
  {
   "cell_type": "markdown",
   "source": [
    "## Export"
   ],
   "metadata": {
    "collapsed": false
   }
  },
  {
   "cell_type": "markdown",
   "source": [
    "---"
   ],
   "metadata": {
    "collapsed": false
   }
  },
  {
   "cell_type": "markdown",
   "source": [
    "### Functions:"
   ],
   "metadata": {
    "collapsed": false
   }
  },
  {
   "cell_type": "code",
   "execution_count": 15,
   "outputs": [],
   "source": [
    "def parse_price(dataframe: pd.DataFrame, feature: str, pattern: str) -> None:\n",
    "    \"\"\"Parse financial features like prices. Works with $#,### (not dot)\n",
    "    \n",
    "    :param dataframe: object towards apply transformation\n",
    "    :param feature: feature name towards apply transformation\n",
    "    :param pattern: feature pattern to transform\n",
    "    \"\"\"\n",
    "    dataframe[feature] = dataframe[feature] \\\n",
    "        .str.extract(pattern) \\\n",
    "        .applymap(lambda price: int(price.replace(\",\", \"\")))\n"
   ],
   "metadata": {
    "collapsed": false,
    "ExecuteTime": {
     "end_time": "2023-10-17T05:32:41.035957700Z",
     "start_time": "2023-10-17T05:32:40.932859Z"
    }
   }
  },
  {
   "cell_type": "code",
   "execution_count": 16,
   "outputs": [],
   "source": [
    "def remove_chars(dataframe: pd.DataFrame, feature: str, wildcards: str) -> pd.Series:\n",
    "    \"\"\"Remove escaped characters from features like indented large extracts of text\n",
    "    \n",
    "    :param dataframe: object towards apply transformation\n",
    "    :param feature: feature name towards apply transformation\n",
    "    :param wildcards: escaped characters to remove\n",
    "    :return: Serie without escaped characters\n",
    "    \"\"\"\n",
    "    return (dataframe\n",
    "    .apply(\n",
    "        lambda row: row[feature]\n",
    "        , axis=1\n",
    "    )\n",
    "    .apply(\n",
    "        lambda extracted_f: re.sub(wildcards, r' ', extracted_f)\n",
    "    )\n",
    "    )\n"
   ],
   "metadata": {
    "collapsed": false,
    "ExecuteTime": {
     "end_time": "2023-10-17T05:32:41.035957700Z",
     "start_time": "2023-10-17T05:32:40.963960700Z"
    }
   }
  },
  {
   "cell_type": "code",
   "execution_count": 17,
   "outputs": [],
   "source": [
    "PRICE_RG: str = r\"^\\$(?P<prices>\\d+,?\\d+)?\"\n",
    "KM_REG: str = r\"(?P<km>^\\d+)\"\n",
    "CHARACTER_RG: str = '(\\n|\\r)+'"
   ],
   "metadata": {
    "collapsed": false,
    "ExecuteTime": {
     "end_time": "2023-10-17T05:32:41.101961100Z",
     "start_time": "2023-10-17T05:32:40.983958200Z"
    }
   }
  },
  {
   "cell_type": "markdown",
   "source": [
    "Check that all features has the same length."
   ],
   "metadata": {
    "collapsed": false
   }
  },
  {
   "cell_type": "code",
   "execution_count": 18,
   "outputs": [
    {
     "data": {
      "text/plain": "[50, 50, 50, 50, 50, 50]"
     },
     "execution_count": 18,
     "metadata": {},
     "output_type": "execute_result"
    }
   ],
   "source": [
    "lengths = [len(engines), len(models), len(years), len(kilometers), len(prices), len(descriptions)]\n",
    "lengths"
   ],
   "metadata": {
    "collapsed": false,
    "ExecuteTime": {
     "end_time": "2023-10-17T05:32:41.102958900Z",
     "start_time": "2023-10-17T05:32:40.992960Z"
    }
   }
  },
  {
   "cell_type": "code",
   "execution_count": 21,
   "outputs": [],
   "source": [
    "prices = [price.replace(\".\", \",\") for price in prices]"
   ],
   "metadata": {
    "collapsed": false,
    "ExecuteTime": {
     "end_time": "2023-10-17T05:38:57.705486800Z",
     "start_time": "2023-10-17T05:38:57.689280100Z"
    }
   }
  },
  {
   "cell_type": "markdown",
   "source": [
    "Create dataframe to transform data extracted"
   ],
   "metadata": {
    "collapsed": false
   }
  },
  {
   "cell_type": "code",
   "execution_count": 22,
   "outputs": [],
   "source": [
    "if check_len(lengths):\n",
    "    df_temp = pd.DataFrame({\n",
    "        \"model\": models,\n",
    "        \"year\": years,\n",
    "        \"kilometers\": kilometers,\n",
    "        \"engine\": engines,\n",
    "        \"price\": prices,\n",
    "        \"description\": descriptions\n",
    "    })\n",
    "\n",
    "    # Parse features. String to number and raw string with characters to structured string.\n",
    "    parse_price(df_temp, \"price\", PRICE_RG)\n",
    "    df_temp[\"kilometers\"] = df_temp[\"kilometers\"].str.extract(KM_REG).applymap(int)\n",
    "    df_temp[\"year\"] = df_temp[\"year\"].map(int)\n",
    "    df_temp[\"description\"] = remove_chars(df_temp, \"description\", CHARACTER_RG)\n",
    "\n",
    "    persistence(df_temp)\n"
   ],
   "metadata": {
    "collapsed": false,
    "ExecuteTime": {
     "end_time": "2023-10-17T05:38:59.319389300Z",
     "start_time": "2023-10-17T05:38:59.303171Z"
    }
   }
  },
  {
   "cell_type": "code",
   "execution_count": 23,
   "outputs": [
    {
     "data": {
      "text/plain": "                        model  year  kilometers    engine  price  \\\n0                    Kia SOUL  2018       43000  Gasolina  10800   \n1               Nissan Sentra  2016       95600  Gasolina   8000   \n2   otros + Datsun 120 Y 1979  1979           0  Gasolina   3900   \n3                 Honda Civic  2019       46771  Gasolina  13950   \n4                    Kia SOUL  2015       86000  Gasolina   8800   \n5                     Kia RIO  2015       70852  Gasolina   7600   \n6           Mitsubishi Lancer  2010      150000  Gasolina   5800   \n7                 Honda Civic  2013      243626  Gasolina   7800   \n8               Nissan Sentra  2017       61000  Gasolina   7400   \n9             Hyundai Elantra  2013          60  Gasolina    700   \n10            Hyundai Elantra  2020       37000  Gasolina  10900   \n11            Hyundai Elantra  2020       48000  Gasolina  10900   \n12             Chevrolet Aveo  2010           3  Gasolina   4500   \n13            Hyundai Elantra  2016      100000  Gasolina   8300   \n14                Honda Civic  2015       99000  Gasolina   8500   \n15            Hyundai Elantra  2016          84  Gasolina  10000   \n16            Hyundai Elantra  2018          47  Gasolina  12500   \n17              Nissan Sentra  2024         131  Gasolina   6400   \n18                   Kia SOUL  2016         104  Gasolina    850   \n19                Honda Civic  2010      245710  Gasolina   6200   \n20            Chevrolet Sonic  2012       11000  Gasolina   4500   \n21              Nissan Murano  2014       97000  Gasolina   9500   \n22             Hyundai Accent  2020       35000  Gasolina  10300   \n23            Chevrolet Cruze  2018       96210  Gasolina   6900   \n24              Nissan Sentra  2020       32000  Gasolina  13200   \n25              Toyota Matrix  2009         194  Gasolina   6700   \n26            Hyundai Elantra  2001           0  Gasolina   3700   \n27              Toyota Tercel  1996       46000  Gasolina   3700   \n28                Honda Civic  2010      245231  Gasolina   6200   \n29              Nissan Sentra  2016       57500  Gasolina   8700   \n30                  Kia Forte  2017       75000  Gasolina   9200   \n31                    Kia RIO  2017      106000  Gasolina   7600   \n32    Chevrolet Cruze Limited  2018       25000  Gasolina   8475   \n33                Honda Civic  2015       99000  Gasolina   8500   \n34                Toyota Echo  2003      210000  Gasolina   4500   \n35                    Mazda 6  2014       80538  Gasolina   7500   \n36            Chevrolet Sonic  2013           0  Gasolina   5100   \n37              Nissan Sentra  2017         122  Gasolina   6100   \n38                    Mazda 6  2006       60000  Gasolina   2990   \n39                Honda Civic  2018       85000  Gasolina  12500   \n40                Honda Civic  2016      109500  Gasolina  13000   \n41                Honda Civic  2015       61065  Gasolina  14500   \n42              Nissan Sentra  2015       72000  Gasolina   6850   \n43                Ford Fiesta  2017      125367  Gasolina   6000   \n44               Nissan Versa  2019       40205  Gasolina   7800   \n45             Toyota Corolla  1996           0  Gasolina   5500   \n46                  Kia Forte  2012      139000  Gasolina   6300   \n47                    Kia Rio  2018       70929  Gasolina   9000   \n48       Volkswagen Jetta GLI  2014       78000  Gasolina   9000   \n49                      Kia E  2000           0  Gasolina   2500   \n\n                                          description  \n0   Color : Blanco Bolsas Buenas (todas) A/C En ex...  \n1   Precio negociable: si Color : Azul DESCRIPCIÓN...  \n2   Precio negociable: si Color : Verde Vendo boni...  \n3   Garantía: Como es visto no hay garantía Financ...  \n4   Garantía: Como es visto no hay garantía Financ...  \n5   Precio negociable: si Color : Blanca perla DES...  \n6   Financiamiento: no Precio negociable: si Se ve...  \n7   DESCRIPCIÓN CALIFICACIONES SEGURIDAD Honda civ...  \n8   Precio negociable: si DESCRIPCIÓN CALIFICACION...  \n9   Precio negociable: si Color : Blanco DESCRIPCI...  \n10  Precio negociable: si Color : NEGRO HYUNDAI EL...  \n11  Precio negociable: si Color : GRIS HYUNDAI ELA...  \n12  Financiamiento: no Precio negociable: si DESCR...  \n13  Garantía: Como es visto no hay garantía Financ...  \n14  Garantía: Como es visto no hay garantía Financ...  \n15  Garantía: Como es visto no hay garantía Color ...  \n16  Color : Blanco Se vende un 2018 Hyundai Elantr...  \n17  Precio negociable: si Color : Blanco A toda Pr...  \n18  Precio negociable: si Color : Negro DESCRIPCIÓ...  \n19  DESCRIPCIÓN CALIFICACIONES SEGURIDAD Vendo Hon...  \n20  Precio negociable: si Color : Rojo DESCRIPCIÓN...  \n21                 Precio negociable: si Color : OCRE  \n22  Precio negociable: si Color : Gris MOTOR 1.6 T...  \n23  Garantía: Como es visto no hay garantía Financ...  \n24  Financiamiento: si Precio negociable: si Vendo...  \n25  Color : Rojo Todo en regla.aire . pantalla cam...  \n26  Precio negociable: si Color : Verde DESCRIPCIÓ...  \n27  Financiamiento: no Precio negociable: si Color...  \n28  Precio negociable: si Color : Gris DESCRIPCIÓN...  \n29  Precio negociable: si Color : Rojo DESCRIPCIÓN...  \n30  Color : Café DESCRIPCIÓN CALIFICACIONES SEGURI...  \n31  Color : Negro DESCRIPCIÓN CALIFICACIONES SEGUR...  \n32  Color : Negro Año 2018 Chevrolet Cruze LT (Paq...  \n33  Garantía: Como es visto no hay garantía Precio...  \n34  Precio negociable: si Color : Color Gris DESCR...  \n35  Precio negociable: si Color : Negro DESCRIPCIÓ...  \n36  Color : Gris oscuro DESCRIPCIÓN ARTÍCULOS CALI...  \n37  Color : Azul DESCRIPCIÓN CALIFICACIONES SEGURI...  \n38  Garantía: Como es visto no hay garantía Financ...  \n39  Color : Azul Tel y whatsapp - Honda Civic Full...  \n40  Color : Gris DESCRIPCIÓN CALIFICACIONES SEGURI...  \n41  Precio negociable: si Color : Gris DESCRIPCIÓN...  \n42  Color : NEGRO DESCRIPCIÓN CALIFICACIONES SEGUR...  \n43  Precio negociable: si Color : Negro DESCRIPCIÓ...  \n44  Disponible con traspaso directo, crédito fisca...  \n45  Precio negociable: si Color : Amarillo DESCRIP...  \n46  Garantía: Como es visto no hay garantía Financ...  \n47  Se vende bonito Kia Rio EX 2018 - A/C funciona...  \n48  Garantía: Como es visto no hay garantía Financ...  \n49  Financiamiento: si Precio negociable: si Color...  ",
      "text/html": "<div>\n<style scoped>\n    .dataframe tbody tr th:only-of-type {\n        vertical-align: middle;\n    }\n\n    .dataframe tbody tr th {\n        vertical-align: top;\n    }\n\n    .dataframe thead th {\n        text-align: right;\n    }\n</style>\n<table border=\"1\" class=\"dataframe\">\n  <thead>\n    <tr style=\"text-align: right;\">\n      <th></th>\n      <th>model</th>\n      <th>year</th>\n      <th>kilometers</th>\n      <th>engine</th>\n      <th>price</th>\n      <th>description</th>\n    </tr>\n  </thead>\n  <tbody>\n    <tr>\n      <th>0</th>\n      <td>Kia SOUL</td>\n      <td>2018</td>\n      <td>43000</td>\n      <td>Gasolina</td>\n      <td>10800</td>\n      <td>Color : Blanco Bolsas Buenas (todas) A/C En ex...</td>\n    </tr>\n    <tr>\n      <th>1</th>\n      <td>Nissan Sentra</td>\n      <td>2016</td>\n      <td>95600</td>\n      <td>Gasolina</td>\n      <td>8000</td>\n      <td>Precio negociable: si Color : Azul DESCRIPCIÓN...</td>\n    </tr>\n    <tr>\n      <th>2</th>\n      <td>otros + Datsun 120 Y 1979</td>\n      <td>1979</td>\n      <td>0</td>\n      <td>Gasolina</td>\n      <td>3900</td>\n      <td>Precio negociable: si Color : Verde Vendo boni...</td>\n    </tr>\n    <tr>\n      <th>3</th>\n      <td>Honda Civic</td>\n      <td>2019</td>\n      <td>46771</td>\n      <td>Gasolina</td>\n      <td>13950</td>\n      <td>Garantía: Como es visto no hay garantía Financ...</td>\n    </tr>\n    <tr>\n      <th>4</th>\n      <td>Kia SOUL</td>\n      <td>2015</td>\n      <td>86000</td>\n      <td>Gasolina</td>\n      <td>8800</td>\n      <td>Garantía: Como es visto no hay garantía Financ...</td>\n    </tr>\n    <tr>\n      <th>5</th>\n      <td>Kia RIO</td>\n      <td>2015</td>\n      <td>70852</td>\n      <td>Gasolina</td>\n      <td>7600</td>\n      <td>Precio negociable: si Color : Blanca perla DES...</td>\n    </tr>\n    <tr>\n      <th>6</th>\n      <td>Mitsubishi Lancer</td>\n      <td>2010</td>\n      <td>150000</td>\n      <td>Gasolina</td>\n      <td>5800</td>\n      <td>Financiamiento: no Precio negociable: si Se ve...</td>\n    </tr>\n    <tr>\n      <th>7</th>\n      <td>Honda Civic</td>\n      <td>2013</td>\n      <td>243626</td>\n      <td>Gasolina</td>\n      <td>7800</td>\n      <td>DESCRIPCIÓN CALIFICACIONES SEGURIDAD Honda civ...</td>\n    </tr>\n    <tr>\n      <th>8</th>\n      <td>Nissan Sentra</td>\n      <td>2017</td>\n      <td>61000</td>\n      <td>Gasolina</td>\n      <td>7400</td>\n      <td>Precio negociable: si DESCRIPCIÓN CALIFICACION...</td>\n    </tr>\n    <tr>\n      <th>9</th>\n      <td>Hyundai Elantra</td>\n      <td>2013</td>\n      <td>60</td>\n      <td>Gasolina</td>\n      <td>700</td>\n      <td>Precio negociable: si Color : Blanco DESCRIPCI...</td>\n    </tr>\n    <tr>\n      <th>10</th>\n      <td>Hyundai Elantra</td>\n      <td>2020</td>\n      <td>37000</td>\n      <td>Gasolina</td>\n      <td>10900</td>\n      <td>Precio negociable: si Color : NEGRO HYUNDAI EL...</td>\n    </tr>\n    <tr>\n      <th>11</th>\n      <td>Hyundai Elantra</td>\n      <td>2020</td>\n      <td>48000</td>\n      <td>Gasolina</td>\n      <td>10900</td>\n      <td>Precio negociable: si Color : GRIS HYUNDAI ELA...</td>\n    </tr>\n    <tr>\n      <th>12</th>\n      <td>Chevrolet Aveo</td>\n      <td>2010</td>\n      <td>3</td>\n      <td>Gasolina</td>\n      <td>4500</td>\n      <td>Financiamiento: no Precio negociable: si DESCR...</td>\n    </tr>\n    <tr>\n      <th>13</th>\n      <td>Hyundai Elantra</td>\n      <td>2016</td>\n      <td>100000</td>\n      <td>Gasolina</td>\n      <td>8300</td>\n      <td>Garantía: Como es visto no hay garantía Financ...</td>\n    </tr>\n    <tr>\n      <th>14</th>\n      <td>Honda Civic</td>\n      <td>2015</td>\n      <td>99000</td>\n      <td>Gasolina</td>\n      <td>8500</td>\n      <td>Garantía: Como es visto no hay garantía Financ...</td>\n    </tr>\n    <tr>\n      <th>15</th>\n      <td>Hyundai Elantra</td>\n      <td>2016</td>\n      <td>84</td>\n      <td>Gasolina</td>\n      <td>10000</td>\n      <td>Garantía: Como es visto no hay garantía Color ...</td>\n    </tr>\n    <tr>\n      <th>16</th>\n      <td>Hyundai Elantra</td>\n      <td>2018</td>\n      <td>47</td>\n      <td>Gasolina</td>\n      <td>12500</td>\n      <td>Color : Blanco Se vende un 2018 Hyundai Elantr...</td>\n    </tr>\n    <tr>\n      <th>17</th>\n      <td>Nissan Sentra</td>\n      <td>2024</td>\n      <td>131</td>\n      <td>Gasolina</td>\n      <td>6400</td>\n      <td>Precio negociable: si Color : Blanco A toda Pr...</td>\n    </tr>\n    <tr>\n      <th>18</th>\n      <td>Kia SOUL</td>\n      <td>2016</td>\n      <td>104</td>\n      <td>Gasolina</td>\n      <td>850</td>\n      <td>Precio negociable: si Color : Negro DESCRIPCIÓ...</td>\n    </tr>\n    <tr>\n      <th>19</th>\n      <td>Honda Civic</td>\n      <td>2010</td>\n      <td>245710</td>\n      <td>Gasolina</td>\n      <td>6200</td>\n      <td>DESCRIPCIÓN CALIFICACIONES SEGURIDAD Vendo Hon...</td>\n    </tr>\n    <tr>\n      <th>20</th>\n      <td>Chevrolet Sonic</td>\n      <td>2012</td>\n      <td>11000</td>\n      <td>Gasolina</td>\n      <td>4500</td>\n      <td>Precio negociable: si Color : Rojo DESCRIPCIÓN...</td>\n    </tr>\n    <tr>\n      <th>21</th>\n      <td>Nissan Murano</td>\n      <td>2014</td>\n      <td>97000</td>\n      <td>Gasolina</td>\n      <td>9500</td>\n      <td>Precio negociable: si Color : OCRE</td>\n    </tr>\n    <tr>\n      <th>22</th>\n      <td>Hyundai Accent</td>\n      <td>2020</td>\n      <td>35000</td>\n      <td>Gasolina</td>\n      <td>10300</td>\n      <td>Precio negociable: si Color : Gris MOTOR 1.6 T...</td>\n    </tr>\n    <tr>\n      <th>23</th>\n      <td>Chevrolet Cruze</td>\n      <td>2018</td>\n      <td>96210</td>\n      <td>Gasolina</td>\n      <td>6900</td>\n      <td>Garantía: Como es visto no hay garantía Financ...</td>\n    </tr>\n    <tr>\n      <th>24</th>\n      <td>Nissan Sentra</td>\n      <td>2020</td>\n      <td>32000</td>\n      <td>Gasolina</td>\n      <td>13200</td>\n      <td>Financiamiento: si Precio negociable: si Vendo...</td>\n    </tr>\n    <tr>\n      <th>25</th>\n      <td>Toyota Matrix</td>\n      <td>2009</td>\n      <td>194</td>\n      <td>Gasolina</td>\n      <td>6700</td>\n      <td>Color : Rojo Todo en regla.aire . pantalla cam...</td>\n    </tr>\n    <tr>\n      <th>26</th>\n      <td>Hyundai Elantra</td>\n      <td>2001</td>\n      <td>0</td>\n      <td>Gasolina</td>\n      <td>3700</td>\n      <td>Precio negociable: si Color : Verde DESCRIPCIÓ...</td>\n    </tr>\n    <tr>\n      <th>27</th>\n      <td>Toyota Tercel</td>\n      <td>1996</td>\n      <td>46000</td>\n      <td>Gasolina</td>\n      <td>3700</td>\n      <td>Financiamiento: no Precio negociable: si Color...</td>\n    </tr>\n    <tr>\n      <th>28</th>\n      <td>Honda Civic</td>\n      <td>2010</td>\n      <td>245231</td>\n      <td>Gasolina</td>\n      <td>6200</td>\n      <td>Precio negociable: si Color : Gris DESCRIPCIÓN...</td>\n    </tr>\n    <tr>\n      <th>29</th>\n      <td>Nissan Sentra</td>\n      <td>2016</td>\n      <td>57500</td>\n      <td>Gasolina</td>\n      <td>8700</td>\n      <td>Precio negociable: si Color : Rojo DESCRIPCIÓN...</td>\n    </tr>\n    <tr>\n      <th>30</th>\n      <td>Kia Forte</td>\n      <td>2017</td>\n      <td>75000</td>\n      <td>Gasolina</td>\n      <td>9200</td>\n      <td>Color : Café DESCRIPCIÓN CALIFICACIONES SEGURI...</td>\n    </tr>\n    <tr>\n      <th>31</th>\n      <td>Kia RIO</td>\n      <td>2017</td>\n      <td>106000</td>\n      <td>Gasolina</td>\n      <td>7600</td>\n      <td>Color : Negro DESCRIPCIÓN CALIFICACIONES SEGUR...</td>\n    </tr>\n    <tr>\n      <th>32</th>\n      <td>Chevrolet Cruze Limited</td>\n      <td>2018</td>\n      <td>25000</td>\n      <td>Gasolina</td>\n      <td>8475</td>\n      <td>Color : Negro Año 2018 Chevrolet Cruze LT (Paq...</td>\n    </tr>\n    <tr>\n      <th>33</th>\n      <td>Honda Civic</td>\n      <td>2015</td>\n      <td>99000</td>\n      <td>Gasolina</td>\n      <td>8500</td>\n      <td>Garantía: Como es visto no hay garantía Precio...</td>\n    </tr>\n    <tr>\n      <th>34</th>\n      <td>Toyota Echo</td>\n      <td>2003</td>\n      <td>210000</td>\n      <td>Gasolina</td>\n      <td>4500</td>\n      <td>Precio negociable: si Color : Color Gris DESCR...</td>\n    </tr>\n    <tr>\n      <th>35</th>\n      <td>Mazda 6</td>\n      <td>2014</td>\n      <td>80538</td>\n      <td>Gasolina</td>\n      <td>7500</td>\n      <td>Precio negociable: si Color : Negro DESCRIPCIÓ...</td>\n    </tr>\n    <tr>\n      <th>36</th>\n      <td>Chevrolet Sonic</td>\n      <td>2013</td>\n      <td>0</td>\n      <td>Gasolina</td>\n      <td>5100</td>\n      <td>Color : Gris oscuro DESCRIPCIÓN ARTÍCULOS CALI...</td>\n    </tr>\n    <tr>\n      <th>37</th>\n      <td>Nissan Sentra</td>\n      <td>2017</td>\n      <td>122</td>\n      <td>Gasolina</td>\n      <td>6100</td>\n      <td>Color : Azul DESCRIPCIÓN CALIFICACIONES SEGURI...</td>\n    </tr>\n    <tr>\n      <th>38</th>\n      <td>Mazda 6</td>\n      <td>2006</td>\n      <td>60000</td>\n      <td>Gasolina</td>\n      <td>2990</td>\n      <td>Garantía: Como es visto no hay garantía Financ...</td>\n    </tr>\n    <tr>\n      <th>39</th>\n      <td>Honda Civic</td>\n      <td>2018</td>\n      <td>85000</td>\n      <td>Gasolina</td>\n      <td>12500</td>\n      <td>Color : Azul Tel y whatsapp - Honda Civic Full...</td>\n    </tr>\n    <tr>\n      <th>40</th>\n      <td>Honda Civic</td>\n      <td>2016</td>\n      <td>109500</td>\n      <td>Gasolina</td>\n      <td>13000</td>\n      <td>Color : Gris DESCRIPCIÓN CALIFICACIONES SEGURI...</td>\n    </tr>\n    <tr>\n      <th>41</th>\n      <td>Honda Civic</td>\n      <td>2015</td>\n      <td>61065</td>\n      <td>Gasolina</td>\n      <td>14500</td>\n      <td>Precio negociable: si Color : Gris DESCRIPCIÓN...</td>\n    </tr>\n    <tr>\n      <th>42</th>\n      <td>Nissan Sentra</td>\n      <td>2015</td>\n      <td>72000</td>\n      <td>Gasolina</td>\n      <td>6850</td>\n      <td>Color : NEGRO DESCRIPCIÓN CALIFICACIONES SEGUR...</td>\n    </tr>\n    <tr>\n      <th>43</th>\n      <td>Ford Fiesta</td>\n      <td>2017</td>\n      <td>125367</td>\n      <td>Gasolina</td>\n      <td>6000</td>\n      <td>Precio negociable: si Color : Negro DESCRIPCIÓ...</td>\n    </tr>\n    <tr>\n      <th>44</th>\n      <td>Nissan Versa</td>\n      <td>2019</td>\n      <td>40205</td>\n      <td>Gasolina</td>\n      <td>7800</td>\n      <td>Disponible con traspaso directo, crédito fisca...</td>\n    </tr>\n    <tr>\n      <th>45</th>\n      <td>Toyota Corolla</td>\n      <td>1996</td>\n      <td>0</td>\n      <td>Gasolina</td>\n      <td>5500</td>\n      <td>Precio negociable: si Color : Amarillo DESCRIP...</td>\n    </tr>\n    <tr>\n      <th>46</th>\n      <td>Kia Forte</td>\n      <td>2012</td>\n      <td>139000</td>\n      <td>Gasolina</td>\n      <td>6300</td>\n      <td>Garantía: Como es visto no hay garantía Financ...</td>\n    </tr>\n    <tr>\n      <th>47</th>\n      <td>Kia Rio</td>\n      <td>2018</td>\n      <td>70929</td>\n      <td>Gasolina</td>\n      <td>9000</td>\n      <td>Se vende bonito Kia Rio EX 2018 - A/C funciona...</td>\n    </tr>\n    <tr>\n      <th>48</th>\n      <td>Volkswagen Jetta GLI</td>\n      <td>2014</td>\n      <td>78000</td>\n      <td>Gasolina</td>\n      <td>9000</td>\n      <td>Garantía: Como es visto no hay garantía Financ...</td>\n    </tr>\n    <tr>\n      <th>49</th>\n      <td>Kia E</td>\n      <td>2000</td>\n      <td>0</td>\n      <td>Gasolina</td>\n      <td>2500</td>\n      <td>Financiamiento: si Precio negociable: si Color...</td>\n    </tr>\n  </tbody>\n</table>\n</div>"
     },
     "execution_count": 23,
     "metadata": {},
     "output_type": "execute_result"
    }
   ],
   "source": [
    "df_temp"
   ],
   "metadata": {
    "collapsed": false,
    "ExecuteTime": {
     "end_time": "2023-10-17T05:39:02.237957200Z",
     "start_time": "2023-10-17T05:39:02.201609600Z"
    }
   }
  }
 ],
 "metadata": {
  "kernelspec": {
   "display_name": "Python 3",
   "language": "python",
   "name": "python3"
  },
  "language_info": {
   "codemirror_mode": {
    "name": "ipython",
    "version": 2
   },
   "file_extension": ".py",
   "mimetype": "text/x-python",
   "name": "python",
   "nbconvert_exporter": "python",
   "pygments_lexer": "ipython2",
   "version": "2.7.6"
  }
 },
 "nbformat": 4,
 "nbformat_minor": 0
}
