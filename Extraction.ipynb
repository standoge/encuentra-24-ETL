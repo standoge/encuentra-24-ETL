{
 "cells": [
  {
   "cell_type": "markdown",
   "source": [
    "## Dependencies"
   ],
   "metadata": {
    "collapsed": false
   }
  },
  {
   "cell_type": "markdown",
   "source": [
    "---"
   ],
   "metadata": {
    "collapsed": false
   }
  },
  {
   "cell_type": "code",
   "execution_count": 1,
   "outputs": [],
   "source": [
    "import yaml\n",
    "import re\n",
    "from datetime import datetime\n",
    "import pandas as pd"
   ],
   "metadata": {
    "collapsed": false,
    "ExecuteTime": {
     "end_time": "2024-03-21T06:45:20.834266Z",
     "start_time": "2024-03-21T06:45:20.060311Z"
    }
   }
  },
  {
   "cell_type": "code",
   "execution_count": 2,
   "outputs": [],
   "source": [
    "from selenium import webdriver\n",
    "from selenium.webdriver.common.by import By\n",
    "from selenium.webdriver.edge.service import Service\n",
    "from webdriver_manager.microsoft import EdgeChromiumDriverManager\n",
    "from selenium.webdriver.support.ui import WebDriverWait\n",
    "from selenium.webdriver.edge.options import Options\n",
    "from selenium.webdriver.support import expected_conditions as EC\n",
    "from selenium.common.exceptions import NoSuchElementException\n",
    "from selenium.common.exceptions import TimeoutException\n"
   ],
   "metadata": {
    "collapsed": false,
    "ExecuteTime": {
     "end_time": "2024-03-21T06:45:21.067017Z",
     "start_time": "2024-03-21T06:45:20.835282Z"
    }
   }
  },
  {
   "cell_type": "markdown",
   "source": [
    "Setting up web driver."
   ],
   "metadata": {
    "collapsed": false
   }
  },
  {
   "cell_type": "code",
   "execution_count": 3,
   "outputs": [
    {
     "name": "stderr",
     "output_type": "stream",
     "text": [
      "[WDM] - Downloading: 100%|██████████| 8.96M/8.96M [00:03<00:00, 2.77MB/s]\n"
     ]
    }
   ],
   "source": [
    "EdgeOptions = Options()\n",
    "EdgeOptions.add_argument(\"--headless\")\n",
    "edge = webdriver.Edge(service=Service(EdgeChromiumDriverManager().install()), options=EdgeOptions)\n",
    "# edge = webdriver.Edge(service=Service(EdgeChromiumDriverManager().install()))\n"
   ],
   "metadata": {
    "collapsed": false,
    "ExecuteTime": {
     "end_time": "2024-03-21T06:45:28.395828Z",
     "start_time": "2024-03-21T06:45:21.068040Z"
    }
   }
  },
  {
   "cell_type": "markdown",
   "source": [
    "## Extract"
   ],
   "metadata": {
    "collapsed": false
   }
  },
  {
   "cell_type": "markdown",
   "source": [
    "---"
   ],
   "metadata": {
    "collapsed": false
   }
  },
  {
   "cell_type": "markdown",
   "source": [
    "### Functions:"
   ],
   "metadata": {
    "collapsed": false
   }
  },
  {
   "cell_type": "code",
   "execution_count": 4,
   "outputs": [],
   "source": [
    "def resources(name: str) -> dict[str:str]:\n",
    "    \"\"\"Read yaml file to get xpath resources\n",
    "    \n",
    "    :param name: name of the resource to extract\n",
    "    :return: the xpath\n",
    "    \"\"\"\n",
    "    with open(\"xpath.yml\", \"r\") as f:\n",
    "        content: dict[str:str] = yaml.safe_load(f)\n",
    "        return content[name]"
   ],
   "metadata": {
    "collapsed": false,
    "ExecuteTime": {
     "end_time": "2024-03-21T06:45:28.410827Z",
     "start_time": "2024-03-21T06:45:28.397831Z"
    }
   }
  },
  {
   "cell_type": "code",
   "execution_count": 5,
   "outputs": [],
   "source": [
    "def close_prompt(driver: webdriver) -> None:\n",
    "    \"\"\"Close prompt when is required\n",
    "    \n",
    "    :param driver: browser instance \n",
    "    \"\"\"\n",
    "    button: str = \"//a[@class='btn btn-subscription-light']\"\n",
    "    driver.find_element(by=By.XPATH, value=button).click()"
   ],
   "metadata": {
    "collapsed": false,
    "ExecuteTime": {
     "end_time": "2024-03-21T06:45:28.426830Z",
     "start_time": "2024-03-21T06:45:28.412829Z"
    }
   }
  },
  {
   "cell_type": "code",
   "execution_count": 6,
   "outputs": [],
   "source": [
    "def click_element(element: webdriver, path: str) -> None:\n",
    "    \"\"\"Click on element in the current browser page\n",
    "    \n",
    "    :param element: browser instance\n",
    "    :param path: xpath of element to click\n",
    "    \"\"\"\n",
    "    button = element.find_element(by=By.XPATH, value=path)\n",
    "    button.click()"
   ],
   "metadata": {
    "collapsed": false,
    "ExecuteTime": {
     "end_time": "2024-03-21T06:45:28.441830Z",
     "start_time": "2024-03-21T06:45:28.428829Z"
    }
   }
  },
  {
   "cell_type": "code",
   "execution_count": 7,
   "outputs": [],
   "source": [
    "def extract_feature_in(element: webdriver, path: str) -> str:\n",
    "    \"\"\"Extract ad feature where current browser page is the ad page\n",
    "    \n",
    "    :param element: browser instance\n",
    "    :param path: xpath of feature to extract\n",
    "    :return: feature extracted\n",
    "    \"\"\"\n",
    "    feature: str = element.find_element(by=By.XPATH, value=path)\n",
    "    return feature"
   ],
   "metadata": {
    "collapsed": false,
    "ExecuteTime": {
     "end_time": "2024-03-21T06:45:28.457827Z",
     "start_time": "2024-03-21T06:45:28.443828Z"
    }
   }
  },
  {
   "cell_type": "code",
   "execution_count": 8,
   "outputs": [],
   "source": [
    "def extract_feature_out(element: webdriver, path: str) -> list[str]:\n",
    "    \"\"\"Extract ad feature where current browser page is the listing page (not in the ad)\n",
    "    \n",
    "    :param element: browser instance\n",
    "    :param path: xpath of feature to extract\n",
    "    :return: list of features\n",
    "    \"\"\"\n",
    "    feature = []\n",
    "\n",
    "    try:\n",
    "        feature: str = element.find_elements(by=By.XPATH, value=path)\n",
    "        feature = [data_point.text for data_point in feature]\n",
    "        return feature\n",
    "    except Exception:\n",
    "        feature.append(\"Web wasn't able to scrape the feature\")"
   ],
   "metadata": {
    "collapsed": false,
    "ExecuteTime": {
     "end_time": "2024-03-21T06:45:28.473832Z",
     "start_time": "2024-03-21T06:45:28.459829Z"
    }
   }
  },
  {
   "cell_type": "code",
   "execution_count": 9,
   "outputs": [],
   "source": [
    "def persistence(dataframe: pd.DataFrame) -> None:\n",
    "    \"\"\"Save dataframe to csv file\n",
    "    \n",
    "    :param dataframe: dataframe to save\n",
    "    \"\"\"\n",
    "    file_name = datetime.today().strftime(\"%B-%d\")\n",
    "    dataframe.to_csv(f\"persistence/{file_name}.csv\", index=False)"
   ],
   "metadata": {
    "collapsed": false,
    "ExecuteTime": {
     "end_time": "2024-03-21T06:45:28.489830Z",
     "start_time": "2024-03-21T06:45:28.475828Z"
    }
   }
  },
  {
   "cell_type": "code",
   "execution_count": 10,
   "outputs": [],
   "source": [
    "def get_len(features: list[list[str]]) -> bool:\n",
    "    \"\"\"Check if all features has the same length to create new df\n",
    "    \n",
    "    :param features: list of features extracted with scraping\n",
    "    :return: a list with all lengths where first place is the len of the first element and the mostly accepted.\n",
    "    \"\"\"\n",
    "    base_len = len(features[0])\n",
    "    lengths = []\n",
    "    lengths.append(base_len)\n",
    "    for feature in features:\n",
    "        if len(feature) == base_len:\n",
    "            continue\n",
    "        else:\n",
    "            lengths.append(len(feature))\n",
    "    return lengths"
   ],
   "metadata": {
    "collapsed": false,
    "ExecuteTime": {
     "end_time": "2024-03-21T06:45:28.505830Z",
     "start_time": "2024-03-21T06:45:28.492831Z"
    }
   }
  },
  {
   "cell_type": "code",
   "execution_count": 11,
   "outputs": [],
   "source": [
    "def check_len(lengths: list[int]) -> bool:\n",
    "    \"\"\"Check if all elements in list has the same value.\n",
    "    \n",
    "    :param lengths: list of lengths\n",
    "    :return: a boolean\n",
    "    \"\"\"\n",
    "    for length in lengths[1:]:\n",
    "        if length != lengths[0]:\n",
    "            return False\n",
    "        return True"
   ],
   "metadata": {
    "collapsed": false,
    "ExecuteTime": {
     "end_time": "2024-03-21T06:45:28.521827Z",
     "start_time": "2024-03-21T06:45:28.506830Z"
    }
   }
  },
  {
   "cell_type": "markdown",
   "source": [
    "Variables pool."
   ],
   "metadata": {
    "collapsed": false
   }
  },
  {
   "cell_type": "code",
   "execution_count": 12,
   "outputs": [],
   "source": [
    "descriptions: list[str] = []\n",
    "prices: list[int] = []\n",
    "models: list[str] = []\n",
    "years: list[int] = []\n",
    "kilometers: list[int] = []\n",
    "engines: list[str] = []\n",
    "\n",
    "# seconds\n",
    "DELAY: int = 1\n",
    "SEDAN = resources(\"cars_sedan\")"
   ],
   "metadata": {
    "collapsed": false,
    "ExecuteTime": {
     "end_time": "2024-03-21T06:45:28.537829Z",
     "start_time": "2024-03-21T06:45:28.523829Z"
    }
   }
  },
  {
   "cell_type": "markdown",
   "source": [
    "Get web page and close prompt (when is required)."
   ],
   "metadata": {
    "collapsed": false
   }
  },
  {
   "cell_type": "code",
   "execution_count": 13,
   "outputs": [],
   "source": [
    "edge.get(SEDAN[\"url\"])\n",
    "# close_prompt(edge)"
   ],
   "metadata": {
    "collapsed": false,
    "ExecuteTime": {
     "end_time": "2024-03-21T06:45:34.630058Z",
     "start_time": "2024-03-21T06:45:28.539829Z"
    }
   }
  },
  {
   "cell_type": "markdown",
   "source": [
    "Extract car features."
   ],
   "metadata": {
    "collapsed": false
   }
  },
  {
   "cell_type": "code",
   "execution_count": 14,
   "outputs": [],
   "source": [
    "# Get this list of ads and click on the first one\n",
    "elements = edge.find_elements(by=By.XPATH, value=SEDAN[\"ad\"])\n",
    "elements[0].click()\n",
    "\n",
    "try:\n",
    "    for element in range(len(elements)):\n",
    "        # Wait until the element is present to avoid missing data\n",
    "        dynamic_delay = WebDriverWait(edge, DELAY).until(\n",
    "            EC.presence_of_element_located((By.XPATH, SEDAN[\"description\"])))\n",
    "\n",
    "        brand_str = extract_feature_in(edge, SEDAN[\"brand\"]).text\n",
    "        model_str = extract_feature_in(edge, SEDAN[\"model\"]).text\n",
    "        models.append(brand_str + \" \" + model_str)\n",
    "\n",
    "        descriptions.append(extract_feature_in(edge, SEDAN[\"description\"]).text)\n",
    "        prices.append(extract_feature_in(edge, SEDAN[\"price\"]).text)\n",
    "        kilometers.append(extract_feature_in(edge, SEDAN[\"kilometers\"]).text)\n",
    "        engines.append(extract_feature_in(edge, SEDAN[\"engine\"]).text)\n",
    "        years.append(extract_feature_in(edge, SEDAN[\"year\"]).text)\n",
    "\n",
    "        click_element(edge, SEDAN[\"next\"])\n",
    "except TimeoutException as TE:\n",
    "    descriptions.append(\"Web wasn't able to scrape descriptions\")\n",
    "except NoSuchElementException as NSE:\n",
    "    click_element(edge, SEDAN[\"exit\"])"
   ],
   "metadata": {
    "collapsed": false,
    "ExecuteTime": {
     "end_time": "2024-03-21T06:47:31.696887Z",
     "start_time": "2024-03-21T06:45:34.631059Z"
    }
   }
  },
  {
   "cell_type": "markdown",
   "source": [
    "## Export"
   ],
   "metadata": {
    "collapsed": false
   }
  },
  {
   "cell_type": "markdown",
   "source": [
    "---"
   ],
   "metadata": {
    "collapsed": false
   }
  },
  {
   "cell_type": "markdown",
   "source": [
    "### Functions:"
   ],
   "metadata": {
    "collapsed": false
   }
  },
  {
   "cell_type": "code",
   "execution_count": 15,
   "outputs": [],
   "source": [
    "def parse_price(dataframe: pd.DataFrame, feature: str, pattern: str) -> None:\n",
    "    \"\"\"Parse financial features like prices. Works with $#,### (not dot)\n",
    "    \n",
    "    :param dataframe: object towards apply transformation\n",
    "    :param feature: feature name towards apply transformation\n",
    "    :param pattern: feature pattern to transform\n",
    "    \"\"\"\n",
    "\n",
    "    dataframe[feature] = dataframe[feature] \\\n",
    "        .str.extract(pattern) \\\n",
    "        .applymap(lambda price: int(price.replace(\",\", \"\")))\n"
   ],
   "metadata": {
    "collapsed": false,
    "ExecuteTime": {
     "end_time": "2024-03-21T06:47:31.712887Z",
     "start_time": "2024-03-21T06:47:31.697890Z"
    }
   }
  },
  {
   "cell_type": "code",
   "execution_count": 16,
   "outputs": [],
   "source": [
    "def remove_chars(dataframe: pd.DataFrame, feature: str, wildcards: str) -> pd.Series:\n",
    "    \"\"\"Remove escaped characters from features like indented large extracts of text\n",
    "    \n",
    "    :param dataframe: object towards apply transformation\n",
    "    :param feature: feature name towards apply transformation\n",
    "    :param wildcards: escaped characters to remove\n",
    "    :return: Serie without escaped characters\n",
    "    \"\"\"\n",
    "    return (dataframe\n",
    "    .apply(\n",
    "        lambda row: row[feature]\n",
    "        , axis=1\n",
    "    )\n",
    "    .apply(\n",
    "        lambda extracted_f: re.sub(wildcards, r' ', extracted_f)\n",
    "    )\n",
    "    )\n"
   ],
   "metadata": {
    "collapsed": false,
    "ExecuteTime": {
     "end_time": "2024-03-21T06:47:31.728887Z",
     "start_time": "2024-03-21T06:47:31.713890Z"
    }
   }
  },
  {
   "cell_type": "code",
   "execution_count": 17,
   "outputs": [],
   "source": [
    "PRICE_RG: str = r\"^\\$(?P<prices>\\d+,?\\d+)?\"\n",
    "KM_REG: str = r\"(?P<km>^\\d+)\"\n",
    "CHARACTER_RG: str = '(\\n|\\r)+'"
   ],
   "metadata": {
    "collapsed": false,
    "ExecuteTime": {
     "end_time": "2024-03-21T06:47:31.744889Z",
     "start_time": "2024-03-21T06:47:31.729888Z"
    }
   }
  },
  {
   "cell_type": "markdown",
   "source": [
    "Check that all features has the same length."
   ],
   "metadata": {
    "collapsed": false
   }
  },
  {
   "cell_type": "code",
   "execution_count": 18,
   "outputs": [],
   "source": [
    "lengths = [len(engines), len(models), len(years), len(kilometers), len(prices), len(descriptions)]\n",
    "prices = [price.replace(\".\", \",\") for price in prices]"
   ],
   "metadata": {
    "collapsed": false,
    "ExecuteTime": {
     "end_time": "2024-03-21T06:47:31.760890Z",
     "start_time": "2024-03-21T06:47:31.745889Z"
    }
   }
  },
  {
   "cell_type": "markdown",
   "source": [
    "Create dataframe to transform data extracted"
   ],
   "metadata": {
    "collapsed": false
   }
  },
  {
   "cell_type": "code",
   "outputs": [],
   "source": [
    "if check_len(lengths):\n",
    "    df_temp = pd.DataFrame({\n",
    "        \"model\": models,\n",
    "        \"year\": years,\n",
    "        \"kilometers\": kilometers,\n",
    "        \"engine\": engines,\n",
    "        \"price\": prices,\n",
    "        \"description\": descriptions\n",
    "    })\n",
    "\n",
    "    # Parse features. String to number and raw string with characters to structured string.\n",
    "    parse_price(df_temp, \"price\", PRICE_RG)\n",
    "    df_temp[\"kilometers\"] = df_temp[\"kilometers\"].str.extract(KM_REG).applymap(int)\n",
    "    df_temp[\"year\"] = df_temp[\"year\"].map(int)\n",
    "    df_temp[\"description\"] = remove_chars(df_temp, \"description\", CHARACTER_RG)\n",
    "\n",
    "    persistence(df_temp)\n"
   ],
   "metadata": {
    "collapsed": false,
    "ExecuteTime": {
     "end_time": "2024-03-21T06:47:31.792889Z",
     "start_time": "2024-03-21T06:47:31.762888Z"
    }
   },
   "execution_count": 19
  },
  {
   "cell_type": "code",
   "outputs": [
    {
     "data": {
      "text/plain": "                   model  year  kilometers    engine  price  \\\n0         Toyota Corolla  2020       72195  Gasolina  12700   \n1         Toyota Corolla  2020       66595  Gasolina  12300   \n2          Nissan Sentra  2020       45577  Gasolina   9950   \n3         Hyundai Accent  2020       36000  Gasolina  11600   \n4                Mazda 3  2010       89600  Gasolina   5000   \n5          Nissan Sentra  2018       97269  Gasolina   8800   \n6         Toyota Corolla  2020       63318  Gasolina  11950   \n7                Kia RIO  2017       73000  Gasolina   7850   \n8   Mitsubishi Mirage G4  2019      120000  Gasolina   7600   \n9          Nissan Sentra  2020       33000  Gasolina  12500   \n10       Volkswagen Polo  2002           1  Gasolina   1700   \n11     Mitsubishi Lancer  2015       85000  Gasolina   6750   \n12             Toyota iA  2017       61195  Gasolina   7900   \n13  Mitsubishi Mirage G4  2017       86000  Gasolina   7900   \n14           Honda Civic  2020       60000  Gasolina  18900   \n15         Nissan Sentra  2017      179115  Gasolina   8500   \n16         Nissan Almera  2003      200000  Gasolina   3300   \n17     Mitsubishi Lancer  2016       81395  Gasolina   8200   \n18       Hyundai Elantra  2014         144  Gasolina   7500   \n19  Mitsubishi Mirage G4  2018       90000  Gasolina   7300   \n20             Kia Forte  2016       94000  Gasolina   7000   \n21              Kia SOUL  2013      108366  Gasolina   7300   \n22             Fiat 500L  2014      106315  Gasolina   7800   \n23         Nissan Sentra  2014      134213  Gasolina   7000   \n24           Honda Civic  2010      211417  Gasolina   5899   \n25        Toyota Corolla  2022       23427  Gasolina  21800   \n26         Toyota Tercel  1993      120000  Gasolina   3900   \n27               Kia Rio  2017       72000  Gasolina   7999   \n28       Hyundai Elantra  2008      205000  Gasolina   4700   \n29         Nissan Sentra  2014       88028  Gasolina   6500   \n30           Honda Civic  2019       59000  Gasolina  11000   \n31       Toyota Yaris iA  2019       26866  Gasolina  11300   \n32       Hyundai Elantra  2012      201263  Gasolina   6350   \n33              Honda EF  1989       10000  Gasolina   4950   \n34               Kia Rio  2008      128000  Gasolina   5000   \n35           Nissan Juke  2014      100000  Gasolina   7799   \n36               Kia RIO  2014       77000  Gasolina   6800   \n37     Mitsubishi Lancer  2015      110000  Gasolina   7100   \n38          Toyota Yaris  2008      134411  Gasolina   6300   \n39       Hyundai Elantra  2018       99000  Gasolina   9500   \n\n                                          description  \n0   Garantía: Como es visto no hay garantía Financ...  \n1   Garantía: Como es visto no hay garantía Financ...  \n2   Garantía: Como es visto no hay garantía Financ...  \n3   Color : Azul Accent 2020 Transmision Manual Ex...  \n4   Color : azul Se vende: carro Mazda 3, año 2010...  \n5   Precio negociable: si Color : Negro NISSAN SEN...  \n6   Garantía: Como es visto no hay garantía Financ...  \n7   Color : Gris DESCRIPCIÓN CALIFICACIONES SEGURI...  \n8   Vendo económico vehículo sedan 41 km por litro...  \n9   Precio negociable: si Vendo Nissan Sentra 2020...  \n10  se puede usar quema aceite tira humo. detalles...  \n11  Precio negociable: si Color : Gris Se vende Mi...  \n12  Garantía: Como es visto no hay garantía Financ...  \n13  Garantía: 30 días, garantía limitada en 1000 k...  \n14  Garantía: 30 días, garantía limitada en 1000 k...  \n15  Precio negociable: si Color : Gris DESCRIPCIÓN...  \n16  Precio negociable: no Color : BEIGE Vendo NISS...  \n17  Color : Blanco Cámara de retroceso Asientos de...  \n18  Garantía: Como es visto no hay garantía Financ...  \n19  Precio negociable: si Color : Gris Mitsubishi ...  \n20  Color : Negro DESCRIPCIÓN CALIFICACIONES SEGUR...  \n21  Financiamiento: no Precio negociable: si Color...  \n22  Financiamiento: no Precio negociable: si Color...  \n23  Financiamiento: no Precio negociable: si Color...  \n24  Precio negociable: si Color : Gris DESCRIPCIÓN...  \n25  Garantía: Garantía de fabrica restante. Precio...  \n26  Precio negociable: si Color : Rojo DESCRIPCIÓN...  \n27  Precio negociable: si Color : Blanco DESCRIPCI...  \n28  Precio negociable: si Color : Gris DESCRIPCIÓN...  \n29  Precio negociable: si Color : Negro DESCRIPCIÓ...  \n30  Financiamiento: no Precio negociable: si Color...  \n31  Precio negociable: si Color : Azul Toyota Yari...  \n32  Precio negociable: si Color : Azul DESCRIPCIÓN...  \n33  Honda EF 89 OEM Timón de SI Silvines y Stop St...  \n34  Precio negociable: si Color : Gris DESCRIPCIÓN...  \n35  Precio negociable: si Color : Gris Motor 1.6 A...  \n36  Precio negociable: si Color : Gris DESCRIPCIÓN...  \n37  Color : azul 1 Automático 2 Motor 2.0 con sist...  \n38  Financiamiento: no Precio negociable: si Color...  \n39  Color : Rojo Hyundai Elantra 2018 SEL Motor 2....  ",
      "text/html": "<div>\n<style scoped>\n    .dataframe tbody tr th:only-of-type {\n        vertical-align: middle;\n    }\n\n    .dataframe tbody tr th {\n        vertical-align: top;\n    }\n\n    .dataframe thead th {\n        text-align: right;\n    }\n</style>\n<table border=\"1\" class=\"dataframe\">\n  <thead>\n    <tr style=\"text-align: right;\">\n      <th></th>\n      <th>model</th>\n      <th>year</th>\n      <th>kilometers</th>\n      <th>engine</th>\n      <th>price</th>\n      <th>description</th>\n    </tr>\n  </thead>\n  <tbody>\n    <tr>\n      <th>0</th>\n      <td>Toyota Corolla</td>\n      <td>2020</td>\n      <td>72195</td>\n      <td>Gasolina</td>\n      <td>12700</td>\n      <td>Garantía: Como es visto no hay garantía Financ...</td>\n    </tr>\n    <tr>\n      <th>1</th>\n      <td>Toyota Corolla</td>\n      <td>2020</td>\n      <td>66595</td>\n      <td>Gasolina</td>\n      <td>12300</td>\n      <td>Garantía: Como es visto no hay garantía Financ...</td>\n    </tr>\n    <tr>\n      <th>2</th>\n      <td>Nissan Sentra</td>\n      <td>2020</td>\n      <td>45577</td>\n      <td>Gasolina</td>\n      <td>9950</td>\n      <td>Garantía: Como es visto no hay garantía Financ...</td>\n    </tr>\n    <tr>\n      <th>3</th>\n      <td>Hyundai Accent</td>\n      <td>2020</td>\n      <td>36000</td>\n      <td>Gasolina</td>\n      <td>11600</td>\n      <td>Color : Azul Accent 2020 Transmision Manual Ex...</td>\n    </tr>\n    <tr>\n      <th>4</th>\n      <td>Mazda 3</td>\n      <td>2010</td>\n      <td>89600</td>\n      <td>Gasolina</td>\n      <td>5000</td>\n      <td>Color : azul Se vende: carro Mazda 3, año 2010...</td>\n    </tr>\n    <tr>\n      <th>5</th>\n      <td>Nissan Sentra</td>\n      <td>2018</td>\n      <td>97269</td>\n      <td>Gasolina</td>\n      <td>8800</td>\n      <td>Precio negociable: si Color : Negro NISSAN SEN...</td>\n    </tr>\n    <tr>\n      <th>6</th>\n      <td>Toyota Corolla</td>\n      <td>2020</td>\n      <td>63318</td>\n      <td>Gasolina</td>\n      <td>11950</td>\n      <td>Garantía: Como es visto no hay garantía Financ...</td>\n    </tr>\n    <tr>\n      <th>7</th>\n      <td>Kia RIO</td>\n      <td>2017</td>\n      <td>73000</td>\n      <td>Gasolina</td>\n      <td>7850</td>\n      <td>Color : Gris DESCRIPCIÓN CALIFICACIONES SEGURI...</td>\n    </tr>\n    <tr>\n      <th>8</th>\n      <td>Mitsubishi Mirage G4</td>\n      <td>2019</td>\n      <td>120000</td>\n      <td>Gasolina</td>\n      <td>7600</td>\n      <td>Vendo económico vehículo sedan 41 km por litro...</td>\n    </tr>\n    <tr>\n      <th>9</th>\n      <td>Nissan Sentra</td>\n      <td>2020</td>\n      <td>33000</td>\n      <td>Gasolina</td>\n      <td>12500</td>\n      <td>Precio negociable: si Vendo Nissan Sentra 2020...</td>\n    </tr>\n    <tr>\n      <th>10</th>\n      <td>Volkswagen Polo</td>\n      <td>2002</td>\n      <td>1</td>\n      <td>Gasolina</td>\n      <td>1700</td>\n      <td>se puede usar quema aceite tira humo. detalles...</td>\n    </tr>\n    <tr>\n      <th>11</th>\n      <td>Mitsubishi Lancer</td>\n      <td>2015</td>\n      <td>85000</td>\n      <td>Gasolina</td>\n      <td>6750</td>\n      <td>Precio negociable: si Color : Gris Se vende Mi...</td>\n    </tr>\n    <tr>\n      <th>12</th>\n      <td>Toyota iA</td>\n      <td>2017</td>\n      <td>61195</td>\n      <td>Gasolina</td>\n      <td>7900</td>\n      <td>Garantía: Como es visto no hay garantía Financ...</td>\n    </tr>\n    <tr>\n      <th>13</th>\n      <td>Mitsubishi Mirage G4</td>\n      <td>2017</td>\n      <td>86000</td>\n      <td>Gasolina</td>\n      <td>7900</td>\n      <td>Garantía: 30 días, garantía limitada en 1000 k...</td>\n    </tr>\n    <tr>\n      <th>14</th>\n      <td>Honda Civic</td>\n      <td>2020</td>\n      <td>60000</td>\n      <td>Gasolina</td>\n      <td>18900</td>\n      <td>Garantía: 30 días, garantía limitada en 1000 k...</td>\n    </tr>\n    <tr>\n      <th>15</th>\n      <td>Nissan Sentra</td>\n      <td>2017</td>\n      <td>179115</td>\n      <td>Gasolina</td>\n      <td>8500</td>\n      <td>Precio negociable: si Color : Gris DESCRIPCIÓN...</td>\n    </tr>\n    <tr>\n      <th>16</th>\n      <td>Nissan Almera</td>\n      <td>2003</td>\n      <td>200000</td>\n      <td>Gasolina</td>\n      <td>3300</td>\n      <td>Precio negociable: no Color : BEIGE Vendo NISS...</td>\n    </tr>\n    <tr>\n      <th>17</th>\n      <td>Mitsubishi Lancer</td>\n      <td>2016</td>\n      <td>81395</td>\n      <td>Gasolina</td>\n      <td>8200</td>\n      <td>Color : Blanco Cámara de retroceso Asientos de...</td>\n    </tr>\n    <tr>\n      <th>18</th>\n      <td>Hyundai Elantra</td>\n      <td>2014</td>\n      <td>144</td>\n      <td>Gasolina</td>\n      <td>7500</td>\n      <td>Garantía: Como es visto no hay garantía Financ...</td>\n    </tr>\n    <tr>\n      <th>19</th>\n      <td>Mitsubishi Mirage G4</td>\n      <td>2018</td>\n      <td>90000</td>\n      <td>Gasolina</td>\n      <td>7300</td>\n      <td>Precio negociable: si Color : Gris Mitsubishi ...</td>\n    </tr>\n    <tr>\n      <th>20</th>\n      <td>Kia Forte</td>\n      <td>2016</td>\n      <td>94000</td>\n      <td>Gasolina</td>\n      <td>7000</td>\n      <td>Color : Negro DESCRIPCIÓN CALIFICACIONES SEGUR...</td>\n    </tr>\n    <tr>\n      <th>21</th>\n      <td>Kia SOUL</td>\n      <td>2013</td>\n      <td>108366</td>\n      <td>Gasolina</td>\n      <td>7300</td>\n      <td>Financiamiento: no Precio negociable: si Color...</td>\n    </tr>\n    <tr>\n      <th>22</th>\n      <td>Fiat 500L</td>\n      <td>2014</td>\n      <td>106315</td>\n      <td>Gasolina</td>\n      <td>7800</td>\n      <td>Financiamiento: no Precio negociable: si Color...</td>\n    </tr>\n    <tr>\n      <th>23</th>\n      <td>Nissan Sentra</td>\n      <td>2014</td>\n      <td>134213</td>\n      <td>Gasolina</td>\n      <td>7000</td>\n      <td>Financiamiento: no Precio negociable: si Color...</td>\n    </tr>\n    <tr>\n      <th>24</th>\n      <td>Honda Civic</td>\n      <td>2010</td>\n      <td>211417</td>\n      <td>Gasolina</td>\n      <td>5899</td>\n      <td>Precio negociable: si Color : Gris DESCRIPCIÓN...</td>\n    </tr>\n    <tr>\n      <th>25</th>\n      <td>Toyota Corolla</td>\n      <td>2022</td>\n      <td>23427</td>\n      <td>Gasolina</td>\n      <td>21800</td>\n      <td>Garantía: Garantía de fabrica restante. Precio...</td>\n    </tr>\n    <tr>\n      <th>26</th>\n      <td>Toyota Tercel</td>\n      <td>1993</td>\n      <td>120000</td>\n      <td>Gasolina</td>\n      <td>3900</td>\n      <td>Precio negociable: si Color : Rojo DESCRIPCIÓN...</td>\n    </tr>\n    <tr>\n      <th>27</th>\n      <td>Kia Rio</td>\n      <td>2017</td>\n      <td>72000</td>\n      <td>Gasolina</td>\n      <td>7999</td>\n      <td>Precio negociable: si Color : Blanco DESCRIPCI...</td>\n    </tr>\n    <tr>\n      <th>28</th>\n      <td>Hyundai Elantra</td>\n      <td>2008</td>\n      <td>205000</td>\n      <td>Gasolina</td>\n      <td>4700</td>\n      <td>Precio negociable: si Color : Gris DESCRIPCIÓN...</td>\n    </tr>\n    <tr>\n      <th>29</th>\n      <td>Nissan Sentra</td>\n      <td>2014</td>\n      <td>88028</td>\n      <td>Gasolina</td>\n      <td>6500</td>\n      <td>Precio negociable: si Color : Negro DESCRIPCIÓ...</td>\n    </tr>\n    <tr>\n      <th>30</th>\n      <td>Honda Civic</td>\n      <td>2019</td>\n      <td>59000</td>\n      <td>Gasolina</td>\n      <td>11000</td>\n      <td>Financiamiento: no Precio negociable: si Color...</td>\n    </tr>\n    <tr>\n      <th>31</th>\n      <td>Toyota Yaris iA</td>\n      <td>2019</td>\n      <td>26866</td>\n      <td>Gasolina</td>\n      <td>11300</td>\n      <td>Precio negociable: si Color : Azul Toyota Yari...</td>\n    </tr>\n    <tr>\n      <th>32</th>\n      <td>Hyundai Elantra</td>\n      <td>2012</td>\n      <td>201263</td>\n      <td>Gasolina</td>\n      <td>6350</td>\n      <td>Precio negociable: si Color : Azul DESCRIPCIÓN...</td>\n    </tr>\n    <tr>\n      <th>33</th>\n      <td>Honda EF</td>\n      <td>1989</td>\n      <td>10000</td>\n      <td>Gasolina</td>\n      <td>4950</td>\n      <td>Honda EF 89 OEM Timón de SI Silvines y Stop St...</td>\n    </tr>\n    <tr>\n      <th>34</th>\n      <td>Kia Rio</td>\n      <td>2008</td>\n      <td>128000</td>\n      <td>Gasolina</td>\n      <td>5000</td>\n      <td>Precio negociable: si Color : Gris DESCRIPCIÓN...</td>\n    </tr>\n    <tr>\n      <th>35</th>\n      <td>Nissan Juke</td>\n      <td>2014</td>\n      <td>100000</td>\n      <td>Gasolina</td>\n      <td>7799</td>\n      <td>Precio negociable: si Color : Gris Motor 1.6 A...</td>\n    </tr>\n    <tr>\n      <th>36</th>\n      <td>Kia RIO</td>\n      <td>2014</td>\n      <td>77000</td>\n      <td>Gasolina</td>\n      <td>6800</td>\n      <td>Precio negociable: si Color : Gris DESCRIPCIÓN...</td>\n    </tr>\n    <tr>\n      <th>37</th>\n      <td>Mitsubishi Lancer</td>\n      <td>2015</td>\n      <td>110000</td>\n      <td>Gasolina</td>\n      <td>7100</td>\n      <td>Color : azul 1 Automático 2 Motor 2.0 con sist...</td>\n    </tr>\n    <tr>\n      <th>38</th>\n      <td>Toyota Yaris</td>\n      <td>2008</td>\n      <td>134411</td>\n      <td>Gasolina</td>\n      <td>6300</td>\n      <td>Financiamiento: no Precio negociable: si Color...</td>\n    </tr>\n    <tr>\n      <th>39</th>\n      <td>Hyundai Elantra</td>\n      <td>2018</td>\n      <td>99000</td>\n      <td>Gasolina</td>\n      <td>9500</td>\n      <td>Color : Rojo Hyundai Elantra 2018 SEL Motor 2....</td>\n    </tr>\n  </tbody>\n</table>\n</div>"
     },
     "execution_count": 20,
     "metadata": {},
     "output_type": "execute_result"
    }
   ],
   "source": [
    "df_temp"
   ],
   "metadata": {
    "collapsed": false,
    "ExecuteTime": {
     "end_time": "2024-03-21T06:47:31.823889Z",
     "start_time": "2024-03-21T06:47:31.793889Z"
    }
   },
   "execution_count": 20
  }
 ],
 "metadata": {
  "kernelspec": {
   "display_name": "Python 3",
   "language": "python",
   "name": "python3"
  },
  "language_info": {
   "codemirror_mode": {
    "name": "ipython",
    "version": 2
   },
   "file_extension": ".py",
   "mimetype": "text/x-python",
   "name": "python",
   "nbconvert_exporter": "python",
   "pygments_lexer": "ipython2",
   "version": "2.7.6"
  }
 },
 "nbformat": 4,
 "nbformat_minor": 0
}
