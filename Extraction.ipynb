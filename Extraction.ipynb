{
 "cells": [
  {
   "cell_type": "markdown",
   "source": [
    "## Dependencies"
   ],
   "metadata": {
    "collapsed": false
   }
  },
  {
   "cell_type": "markdown",
   "source": [
    "---"
   ],
   "metadata": {
    "collapsed": false
   }
  },
  {
   "cell_type": "code",
   "execution_count": 1,
   "outputs": [],
   "source": [
    "import yaml\n",
    "import re\n",
    "from datetime import datetime\n",
    "import pandas as pd"
   ],
   "metadata": {
    "collapsed": false,
    "ExecuteTime": {
     "end_time": "2023-06-29T01:47:49.232693Z",
     "start_time": "2023-06-29T01:47:48.465225100Z"
    }
   }
  },
  {
   "cell_type": "code",
   "execution_count": 2,
   "outputs": [],
   "source": [
    "from selenium import webdriver\n",
    "from selenium.webdriver.common.by import By\n",
    "from selenium.webdriver.edge.service import Service\n",
    "from webdriver_manager.microsoft import EdgeChromiumDriverManager\n",
    "from selenium.webdriver.support.ui import WebDriverWait\n",
    "from selenium.webdriver.support import expected_conditions as EC"
   ],
   "metadata": {
    "collapsed": false,
    "ExecuteTime": {
     "end_time": "2023-06-29T01:47:49.621812700Z",
     "start_time": "2023-06-29T01:47:49.234690100Z"
    }
   }
  },
  {
   "cell_type": "code",
   "execution_count": 3,
   "outputs": [],
   "source": [
    "from selenium.common.exceptions import NoSuchElementException\n",
    "from selenium.common.exceptions import TimeoutException"
   ],
   "metadata": {
    "collapsed": false,
    "ExecuteTime": {
     "end_time": "2023-06-29T01:47:49.639812200Z",
     "start_time": "2023-06-29T01:47:49.435813700Z"
    }
   }
  },
  {
   "cell_type": "code",
   "execution_count": 4,
   "outputs": [
    {
     "name": "stderr",
     "output_type": "stream",
     "text": [
      "[WDM] - Downloading: 100%|██████████| 7.69M/7.69M [00:01<00:00, 4.93MB/s]\n"
     ]
    }
   ],
   "source": [
    "# edge:object = webdriver.Edge(executable_path=\"./utils/msedgedriver.exe\")\n",
    "edge = webdriver.Edge(service=Service(EdgeChromiumDriverManager().install()))\n",
    "edge.maximize_window()"
   ],
   "metadata": {
    "collapsed": false,
    "ExecuteTime": {
     "end_time": "2023-06-29T01:47:53.820076Z",
     "start_time": "2023-06-29T01:47:49.453811100Z"
    }
   }
  },
  {
   "cell_type": "markdown",
   "source": [
    "### Functions:"
   ],
   "metadata": {
    "collapsed": false
   }
  },
  {
   "cell_type": "code",
   "execution_count": 5,
   "outputs": [],
   "source": [
    "def resources(name:str) -> dict[str:str]:\n",
    "    \"\"\"Read xpath.yml file that contains xpath's to scrape\"\"\"\n",
    "\n",
    "    with open(\"xpath.yml\", \"r\") as f:\n",
    "        content:dict[str:str] = yaml.safe_load(f)\n",
    "        return content[name]"
   ],
   "metadata": {
    "collapsed": false,
    "ExecuteTime": {
     "end_time": "2023-06-29T01:47:53.836076800Z",
     "start_time": "2023-06-29T01:47:53.821074200Z"
    }
   }
  },
  {
   "cell_type": "code",
   "execution_count": 6,
   "outputs": [],
   "source": [
    "def close_prompt(driver:object) -> None:\n",
    "    \"\"\"Close ad window\"\"\"\n",
    "\n",
    "    button:str = \"//a[@class='btn btn-subscription-light']\"\n",
    "    driver.find_element(by=By.XPATH, value=button).click()"
   ],
   "metadata": {
    "collapsed": false,
    "ExecuteTime": {
     "end_time": "2023-06-29T01:47:53.886076500Z",
     "start_time": "2023-06-29T01:47:53.838076300Z"
    }
   }
  },
  {
   "cell_type": "code",
   "execution_count": 7,
   "outputs": [],
   "source": [
    "def choose_category(category:str, driver:object) -> None:\n",
    "    \"\"\"Choose ad category\"\"\"\n",
    "\n",
    "    driver.find_element(by=By.XPATH, value=category).click()"
   ],
   "metadata": {
    "collapsed": false,
    "ExecuteTime": {
     "end_time": "2023-06-29T01:47:53.887075500Z",
     "start_time": "2023-06-29T01:47:53.854076400Z"
    }
   }
  },
  {
   "cell_type": "code",
   "execution_count": 8,
   "outputs": [],
   "source": [
    "def click_element(element:object, path:str) -> None:\n",
    "    \"\"\"Click element on the current document\"\"\"\n",
    "\n",
    "    button = element.find_element(by=By.XPATH, value=path)\n",
    "    button.click()"
   ],
   "metadata": {
    "collapsed": false,
    "ExecuteTime": {
     "end_time": "2023-06-29T01:47:53.887075500Z",
     "start_time": "2023-06-29T01:47:53.872079200Z"
    }
   }
  },
  {
   "cell_type": "code",
   "execution_count": 9,
   "outputs": [],
   "source": [
    "def extract_description(element:object, path:str) -> str:\n",
    "    \"\"\"Extract ad description on the current document\"\"\"\n",
    "\n",
    "    description:str = element.find_element(by=By.XPATH, value=path)\n",
    "    return description"
   ],
   "metadata": {
    "collapsed": false,
    "ExecuteTime": {
     "end_time": "2023-06-29T01:47:53.914075500Z",
     "start_time": "2023-06-29T01:47:53.885077400Z"
    }
   }
  },
  {
   "cell_type": "code",
   "execution_count": 10,
   "outputs": [],
   "source": [
    "def extract_feature(element:object, path:str) -> list[str]:\n",
    "    \"\"\"Extract some feature from list document based on xpath used.\"\"\"\n",
    "\n",
    "    feature = []\n",
    "\n",
    "    try:\n",
    "        feature:str = element.find_elements(by=By.XPATH, value=path)\n",
    "        feature = [data_point.text for data_point in feature]\n",
    "        return feature\n",
    "    except Exception:\n",
    "        feature.append(\"Web wasn't able to scrape the feature\")"
   ],
   "metadata": {
    "collapsed": false,
    "ExecuteTime": {
     "end_time": "2023-06-29T01:47:53.956074Z",
     "start_time": "2023-06-29T01:47:53.904074400Z"
    }
   }
  },
  {
   "cell_type": "code",
   "execution_count": 11,
   "outputs": [],
   "source": [
    "def persistence(dataframe:pd.DataFrame) -> None:\n",
    "    \"\"\"Generate .csv file from data scraped\"\"\"\n",
    "\n",
    "    file_name = datetime.today().strftime(\"%B-%d\")\n",
    "    dataframe.to_csv(f\"persistence/{file_name}.csv\", index=False)"
   ],
   "metadata": {
    "collapsed": false,
    "ExecuteTime": {
     "end_time": "2023-06-29T01:47:53.957075400Z",
     "start_time": "2023-06-29T01:47:53.915078100Z"
    }
   }
  },
  {
   "cell_type": "code",
   "execution_count": 12,
   "outputs": [],
   "source": [
    "def get_len(features:list[list[str]]) -> bool:\n",
    "    \"\"\"\n",
    "    Check if all features has the same length to create new df\n",
    "    :param features: list of features extracted with scraping\n",
    "    :return: a list with all lengths where first place is the len of the first element and the mostly accepted.\n",
    "    \"\"\"\n",
    "\n",
    "    base_len = len(features[0])\n",
    "    lengths = []\n",
    "    lengths.append(base_len)\n",
    "    for feature in features:\n",
    "        if len(feature) == base_len:\n",
    "            continue\n",
    "        else:\n",
    "             lengths.append(len(feature))\n",
    "    return lengths"
   ],
   "metadata": {
    "collapsed": false,
    "ExecuteTime": {
     "end_time": "2023-06-29T01:47:53.957075400Z",
     "start_time": "2023-06-29T01:47:53.933075600Z"
    }
   }
  },
  {
   "cell_type": "code",
   "execution_count": 13,
   "outputs": [],
   "source": [
    "def check_len(lengths:list[int]) -> bool:\n",
    "    \"\"\"\n",
    "    Check if all elements in list has the same value.\n",
    "    :param lengths: list of lengths\n",
    "    :return: a boolean\n",
    "    \"\"\"\n",
    "    for length in lengths[1:]:\n",
    "        if length != lengths[0]:\n",
    "            return False\n",
    "        return True"
   ],
   "metadata": {
    "collapsed": false,
    "ExecuteTime": {
     "end_time": "2023-06-29T01:47:53.987075600Z",
     "start_time": "2023-06-29T01:47:53.947075100Z"
    }
   }
  },
  {
   "cell_type": "markdown",
   "source": [
    "Variables pool."
   ],
   "metadata": {
    "collapsed": false
   }
  },
  {
   "cell_type": "code",
   "execution_count": 14,
   "outputs": [],
   "source": [
    "descriptions:list[str] = []\n",
    "prices:list[int] = []\n",
    "models:list[str] = []\n",
    "years:list[int] = []\n",
    "kilometers:list[int] = []\n",
    "engines:list[str] = []\n",
    "\n",
    "# seconds\n",
    "DELAY:int = 1"
   ],
   "metadata": {
    "collapsed": false,
    "ExecuteTime": {
     "end_time": "2023-06-29T01:47:53.988074500Z",
     "start_time": "2023-06-29T01:47:53.963076300Z"
    }
   }
  },
  {
   "cell_type": "code",
   "execution_count": 15,
   "outputs": [],
   "source": [
    "sedan = resources(\"cars_sedan\")"
   ],
   "metadata": {
    "collapsed": false,
    "ExecuteTime": {
     "end_time": "2023-06-29T01:47:54.041076700Z",
     "start_time": "2023-06-29T01:47:53.976075800Z"
    }
   }
  },
  {
   "cell_type": "markdown",
   "source": [
    "Get web & close initial prompt."
   ],
   "metadata": {
    "collapsed": false
   }
  },
  {
   "cell_type": "code",
   "execution_count": 16,
   "outputs": [],
   "source": [
    "edge.get(sedan[\"url\"])"
   ],
   "metadata": {
    "collapsed": false,
    "ExecuteTime": {
     "end_time": "2023-06-29T01:48:17.324124200Z",
     "start_time": "2023-06-29T01:47:53.993075100Z"
    }
   }
  },
  {
   "cell_type": "code",
   "execution_count": 17,
   "outputs": [],
   "source": [
    "# close_prompt(edge)"
   ],
   "metadata": {
    "collapsed": false,
    "ExecuteTime": {
     "end_time": "2023-06-29T01:48:17.340126Z",
     "start_time": "2023-06-29T01:48:17.326123900Z"
    }
   }
  },
  {
   "cell_type": "code",
   "execution_count": 18,
   "outputs": [],
   "source": [
    "elements = edge.find_elements(by=By.XPATH, value=sedan[\"ad\"])"
   ],
   "metadata": {
    "collapsed": false,
    "ExecuteTime": {
     "end_time": "2023-06-29T01:48:17.381125Z",
     "start_time": "2023-06-29T01:48:17.341126Z"
    }
   }
  },
  {
   "cell_type": "markdown",
   "source": [
    "Extract descriptions."
   ],
   "metadata": {
    "collapsed": false
   }
  },
  {
   "cell_type": "code",
   "execution_count": 19,
   "outputs": [],
   "source": [
    "elements[0].click()\n",
    "try:\n",
    "    for element in range(len(elements)):\n",
    "        dynamic_delay = WebDriverWait(edge, DELAY).until(EC.presence_of_element_located((By.XPATH, sedan[\"description\"])))\n",
    "        temp = extract_description(edge, sedan[\"description\"])\n",
    "        descriptions.append(temp.text)\n",
    "        click_element(edge, sedan[\"next\"])\n",
    "except TimeoutException as TE:\n",
    "    descriptions.append(\"Web wasn't able to scrape descriptions\")\n",
    "except NoSuchElementException as NSE:\n",
    "    click_element(edge, sedan[\"exit\"])"
   ],
   "metadata": {
    "collapsed": false,
    "ExecuteTime": {
     "end_time": "2023-06-29T01:57:01.219213400Z",
     "start_time": "2023-06-29T01:48:17.375126500Z"
    }
   }
  },
  {
   "cell_type": "markdown",
   "source": [
    "Extract prices & models."
   ],
   "metadata": {
    "collapsed": false
   }
  },
  {
   "cell_type": "code",
   "execution_count": 20,
   "outputs": [],
   "source": [
    "prices = extract_feature(edge, sedan[\"price\"])\n",
    "models = extract_feature(edge, sedan[\"model\"])"
   ],
   "metadata": {
    "collapsed": false,
    "ExecuteTime": {
     "end_time": "2023-06-29T01:57:01.795469500Z",
     "start_time": "2023-06-29T01:57:01.220214800Z"
    }
   }
  },
  {
   "cell_type": "markdown",
   "source": [
    "Extract car year, engine & kilometers."
   ],
   "metadata": {
    "collapsed": false
   }
  },
  {
   "cell_type": "code",
   "execution_count": 21,
   "outputs": [],
   "source": [
    "years = extract_feature(edge, sedan[\"year\"])\n",
    "engines = extract_feature(edge, sedan[\"engine\"])\n",
    "kilometers = extract_feature(edge, sedan[\"kilometers\"])"
   ],
   "metadata": {
    "collapsed": false,
    "ExecuteTime": {
     "end_time": "2023-06-29T01:57:02.987493900Z",
     "start_time": "2023-06-29T01:57:01.797469800Z"
    }
   }
  },
  {
   "cell_type": "code",
   "execution_count": 22,
   "outputs": [
    {
     "data": {
      "text/plain": "[40, 36]"
     },
     "execution_count": 22,
     "metadata": {},
     "output_type": "execute_result"
    }
   ],
   "source": [
    "lengths = [prices, models, years, engines, kilometers, descriptions]\n",
    "get_len(lengths)"
   ],
   "metadata": {
    "collapsed": false,
    "ExecuteTime": {
     "end_time": "2023-06-29T01:57:03.002492300Z",
     "start_time": "2023-06-29T01:57:02.991495300Z"
    }
   }
  },
  {
   "cell_type": "markdown",
   "source": [
    "## Export"
   ],
   "metadata": {
    "collapsed": false
   }
  },
  {
   "cell_type": "markdown",
   "source": [
    "---"
   ],
   "metadata": {
    "collapsed": false
   }
  },
  {
   "cell_type": "markdown",
   "source": [
    "### Functions:"
   ],
   "metadata": {
    "collapsed": false
   }
  },
  {
   "cell_type": "code",
   "execution_count": 23,
   "outputs": [],
   "source": [
    "def parse_price(dataframe: pd.DataFrame, feature:str, pattern:str) -> None:\n",
    "    \"\"\"\n",
    "    Parse financial features like prices. Works with $#,### (not dot)\n",
    "    :param dataframe: object towards apply transformation\n",
    "    :param feature: feature name towards apply transformation\n",
    "    :param pattern: feature pattern to transform\n",
    "    \"\"\"\n",
    "    dataframe[feature] = dataframe [feature] \\\n",
    "        .str.extract(pattern) \\\n",
    "        .applymap(lambda price: int(price.replace(\",\",\"\")))\n"
   ],
   "metadata": {
    "collapsed": false,
    "ExecuteTime": {
     "end_time": "2023-06-29T01:57:03.059490800Z",
     "start_time": "2023-06-29T01:57:03.004491900Z"
    }
   }
  },
  {
   "cell_type": "code",
   "execution_count": 24,
   "outputs": [],
   "source": [
    "def remove_chars(dataframe: pd.DataFrame, feature:str, wildcards:str) -> pd.Series:\n",
    "    \"\"\"\n",
    "    Remove escaped characters from features like indented large extracts of text\n",
    "    :param dataframe: object towards apply transformation\n",
    "    :param feature: feature name towards apply transformation\n",
    "    :param wildcards: escaped characters to remove\n",
    "    :return: Serie without escaped characters\n",
    "    \"\"\"\n",
    "    return (dataframe\n",
    "    .apply(\n",
    "        lambda row: row[feature]\n",
    "        ,axis = 1\n",
    "    )\n",
    "    .apply(\n",
    "        lambda extracted_f: re.sub(wildcards, r' ', extracted_f)\n",
    "    )\n",
    "    )\n"
   ],
   "metadata": {
    "collapsed": false,
    "ExecuteTime": {
     "end_time": "2023-06-29T01:57:03.066495300Z",
     "start_time": "2023-06-29T01:57:03.018492800Z"
    }
   }
  },
  {
   "cell_type": "code",
   "execution_count": 25,
   "outputs": [],
   "source": [
    "PRICE_RG: str = r\"^\\$(?P<prices>\\d+,?\\d+)?\"\n",
    "KM_REG: str = r\"(?P<km>^\\d+)\"\n",
    "CHARACTER_RG:str = '(\\n|\\r)+'"
   ],
   "metadata": {
    "collapsed": false,
    "ExecuteTime": {
     "end_time": "2023-06-29T01:57:03.066495300Z",
     "start_time": "2023-06-29T01:57:03.034491600Z"
    }
   }
  },
  {
   "cell_type": "markdown",
   "source": [
    "Remove noise from `model` and `years` lists"
   ],
   "metadata": {
    "collapsed": false
   }
  },
  {
   "cell_type": "code",
   "execution_count": 26,
   "outputs": [
    {
     "ename": "ValueError",
     "evalue": "list.remove(x): x not in list",
     "output_type": "error",
     "traceback": [
      "\u001B[1;31m---------------------------------------------------------------------------\u001B[0m",
      "\u001B[1;31mValueError\u001B[0m                                Traceback (most recent call last)",
      "Cell \u001B[1;32mIn[26], line 1\u001B[0m\n\u001B[1;32m----> 1\u001B[0m \u001B[43myears\u001B[49m\u001B[38;5;241;43m.\u001B[39;49m\u001B[43mremove\u001B[49m\u001B[43m(\u001B[49m\u001B[38;5;124;43m\"\u001B[39;49m\u001B[38;5;124;43mVer más\u001B[39;49m\u001B[38;5;124;43m\"\u001B[39;49m\u001B[43m)\u001B[49m\n",
      "\u001B[1;31mValueError\u001B[0m: list.remove(x): x not in list"
     ]
    }
   ],
   "source": [
    "years.remove(\"Ver más\")"
   ],
   "metadata": {
    "collapsed": false,
    "ExecuteTime": {
     "end_time": "2023-06-29T01:57:03.850493500Z",
     "start_time": "2023-06-29T01:57:03.048494300Z"
    }
   }
  },
  {
   "cell_type": "code",
   "execution_count": 27,
   "outputs": [
    {
     "ename": "ValueError",
     "evalue": "list.remove(x): x not in list",
     "output_type": "error",
     "traceback": [
      "\u001B[1;31m---------------------------------------------------------------------------\u001B[0m",
      "\u001B[1;31mValueError\u001B[0m                                Traceback (most recent call last)",
      "Cell \u001B[1;32mIn[27], line 1\u001B[0m\n\u001B[1;32m----> 1\u001B[0m \u001B[43mmodels\u001B[49m\u001B[38;5;241;43m.\u001B[39;49m\u001B[43mremove\u001B[49m\u001B[43m(\u001B[49m\u001B[38;5;124;43m\"\u001B[39;49m\u001B[38;5;124;43mBlue Book Encuentra24\u001B[39;49m\u001B[38;5;124;43m\"\u001B[39;49m\u001B[43m)\u001B[49m\n",
      "\u001B[1;31mValueError\u001B[0m: list.remove(x): x not in list"
     ]
    }
   ],
   "source": [
    "models.remove(\"Blue Book Encuentra24\")"
   ],
   "metadata": {
    "collapsed": false,
    "ExecuteTime": {
     "end_time": "2023-06-29T02:35:54.493965700Z",
     "start_time": "2023-06-29T02:35:54.444099500Z"
    }
   }
  },
  {
   "cell_type": "code",
   "execution_count": 54,
   "outputs": [
    {
     "data": {
      "text/plain": "[40, 40, 40, 40, 40, 40]"
     },
     "execution_count": 54,
     "metadata": {},
     "output_type": "execute_result"
    }
   ],
   "source": [
    "lengths = [len(engines), len(models), len(years), len(kilometers), len(prices),len(descriptions)]\n",
    "lengths"
   ],
   "metadata": {
    "collapsed": false,
    "ExecuteTime": {
     "end_time": "2023-06-29T02:40:37.463969400Z",
     "start_time": "2023-06-29T02:40:37.450968700Z"
    }
   }
  },
  {
   "cell_type": "code",
   "execution_count": 58,
   "outputs": [],
   "source": [
    "prices[23] = \"$0,00\""
   ],
   "metadata": {
    "collapsed": false,
    "ExecuteTime": {
     "end_time": "2023-06-29T02:41:47.708793100Z",
     "start_time": "2023-06-29T02:41:47.686771400Z"
    }
   }
  },
  {
   "cell_type": "markdown",
   "source": [
    "Create dataframe to transform data extracted"
   ],
   "metadata": {
    "collapsed": false
   }
  },
  {
   "cell_type": "code",
   "execution_count": 59,
   "outputs": [],
   "source": [
    "if check_len(lengths):\n",
    "\n",
    "    df_temp = pd.DataFrame({\n",
    "        \"model\": models,\n",
    "        \"year\": years,\n",
    "        \"kilometers\": kilometers,\n",
    "        \"engine\": engines,\n",
    "        \"price\": prices,\n",
    "        \"description\": descriptions\n",
    "    })\n",
    "\n",
    "    # Parse features. String to number and raw string with characters to structured string.\n",
    "    parse_price(df_temp, \"price\", PRICE_RG)\n",
    "    df_temp[\"kilometers\"] = df_temp[\"kilometers\"].str.extract(KM_REG).applymap(int)\n",
    "    df_temp[\"year\"] = df_temp[\"year\"].map(int)\n",
    "    df_temp[\"description\"] = remove_chars(df_temp, \"description\", CHARACTER_RG)\n",
    "\n",
    "    persistence(df_temp)\n"
   ],
   "metadata": {
    "collapsed": false,
    "ExecuteTime": {
     "end_time": "2023-06-29T02:41:52.201116600Z",
     "start_time": "2023-06-29T02:41:52.167115900Z"
    }
   }
  },
  {
   "cell_type": "code",
   "execution_count": 60,
   "outputs": [
    {
     "data": {
      "text/plain": "                   model  year  kilometers    engine  price  \\\n0        Hyundai Elantra  2018       77000  Gasolina  10500   \n1            Honda Civic  2017       88590  Gasolina  11500   \n2         Hyundai Accent  2019       78000  Gasolina   9800   \n3   Mitsubishi Mirage G4  2020       14445  Gasolina   7950   \n4          Nissan Sentra  2016       83000  Gasolina   8000   \n5        Chevrolet Sonic  2015          58  Gasolina    520   \n6         Hyundai Accent  2007      155000  Gasolina   4600   \n7        Hyundai Elantra  2015      150355  Gasolina   7975   \n8         Hyundai Accent  2014      133600  Gasolina   7300   \n9   Mitsubishi Mirage G4  2018       60000  Gasolina   8400   \n10            Kia Sephia  1999      189000  Gasolina   2500   \n11     Mitsubishi Lancer  2008      143000  Gasolina   5900   \n12             Kia Forte  2018      113000  Gasolina   9100   \n13            Dodge DART  2013       89000  Gasolina   6200   \n14     Mitsubishi Lancer  2017       68000  Gasolina   8400   \n15        Chevrolet Trax  2021           0  Gasolina      0   \n16           Hyundai EON  2018       44400  Gasolina   8700   \n17        Hyundai Accent  2013           0  Gasolina   6300   \n18          Nissan Versa  2017       87948  Gasolina   6100   \n19  Mitsubishi Mirage G4  2019       72300  Gasolina   7900   \n20          Toyota Yaris  2008      125000  Gasolina   7500   \n21            Kia Cerato  2017       86000  Gasolina  12200   \n22        Toyota Corolla  2019           0  Gasolina  14600   \n23        Toyota Corolla  2001           0  Gasolina      0   \n24       Chevrolet Sonic  2017          86  Gasolina   7200   \n25        Hyundai Accent  2016          90  Gasolina   7500   \n26        Hyundai Accent  2013      100000  Gasolina   6400   \n27         Nissan Sentra  2018      126880  Gasolina   8500   \n28           Honda Civic  2018       58266  Gasolina  12500   \n29  Mitsubishi Mirage G4  2020       69000  Gasolina   9000   \n30         Jeep Renegade  2019       48000  Gasolina  12600   \n31       Hyundai Elantra  2013       65000  Gasolina   7500   \n32               Kia RIO  2013      124000  Gasolina   7700   \n33               BMW 328  2011      165000  Gasolina   8500   \n34          Nissan Versa  2014      171356  Gasolina   6700   \n35       Hyundai Elantra  2017       57000  Gasolina  13500   \n36               BMW 328  2012       90000  Gasolina  10500   \n37        Hyundai Accent  2014        7600  Gasolina   7600   \n38          Nissan Versa  2017       83330  Gasolina   8000   \n39         Nissan Sentra  2013       74000  Gasolina   5500   \n\n                                          description  \n0   Precio negociable: si Color : AZUL 3 modos de ...  \n1   Color : Gris DESCRIPCIÓN ARTÍCULOS CALIFICACIO...  \n2   Precio negociable: si Color : Negro Hyundai Ac...  \n3   Garantía: Como es visto no hay garantía Financ...  \n4   Financiamiento: no Precio negociable: si Color...  \n5   Precio negociable: si Color : Gris DESCRIPCIÓN...  \n6   Precio negociable: si Color : Gris rata DESCRI...  \n7   Color : ROJO DESCRIPCIÓN CALIFICACIONES SEGURI...  \n8   Precio negociable: si Color : Cafe DESCRIPCIÓN...  \n9   Color : Blanco Se vende Mitsubishi G4 2018. Au...  \n10  Precio negociable: si DESCRIPCIÓN CALIFICACION...  \n11  Vehiculo de agencia, un solo dueño, solo 143 m...  \n12  Garantía: Como es visto no hay garantía Financ...  \n13  Precio negociable: si Color : Rojo Puede verlo...  \n14  Color : Azul Vendo Mitsubishi Lancer 2017 Full...  \n15  Motor 1.4L TURBO Pantalla con cámara de retroc...  \n16  Garantía: Como es visto no hay garantía Financ...  \n17  Garantía: Como es visto no hay garantía Financ...  \n18  DESCRIPCIÓN CALIFICACIONES SEGURIDAD vehiculo ...  \n19  Financiamiento: no Color : Gris Claro Vendo Mi...  \n20  Financiamiento: no Precio negociable: si DESCR...  \n21  Kia CERATO de Agencia, motor 1.6 super económi...  \n22  Precio negociable: si Color : Cafe Venta de to...  \n23  DESCRIPCIÓN CALIFICACIONES SEGURIDAD Estandar ...  \n24  Color : Gris DESCRIPCIÓN ARTÍCULOS CALIFICACIO...  \n25  DESCRIPCIÓN CALIFICACIONES SEGURIDAD AC Funcio...  \n26  Precio negociable: si Color : Gris oscuro DESC...  \n27                                       Color : Gris  \n28                                      Color : Negro  \n29  Garantía: Garantía Incluida preguntar por los ...  \n30            Precio negociable: si Color : Naranjado  \n31  Precio negociable: si Color : Gris DESCRIPCIÓN...  \n32  Precio negociable: si Color : Blanco DESCRIPCI...  \n33  Precio negociable: si Color : Blanco/Negro Se ...  \n34  Garantía: Como es visto no hay garantía Financ...  \n35  Financiamiento: no Precio negociable: si Color...  \n36  Financiamiento: no Precio negociable: si Color...  \n37  Precio negociable: si Color : Plateado DESCRIP...  \n38  Garantía: Extensa garantía disponible. Solicit...  \n39  Precio negociable: si Color : Gris DESCRIPCIÓN...  ",
      "text/html": "<div>\n<style scoped>\n    .dataframe tbody tr th:only-of-type {\n        vertical-align: middle;\n    }\n\n    .dataframe tbody tr th {\n        vertical-align: top;\n    }\n\n    .dataframe thead th {\n        text-align: right;\n    }\n</style>\n<table border=\"1\" class=\"dataframe\">\n  <thead>\n    <tr style=\"text-align: right;\">\n      <th></th>\n      <th>model</th>\n      <th>year</th>\n      <th>kilometers</th>\n      <th>engine</th>\n      <th>price</th>\n      <th>description</th>\n    </tr>\n  </thead>\n  <tbody>\n    <tr>\n      <th>0</th>\n      <td>Hyundai Elantra</td>\n      <td>2018</td>\n      <td>77000</td>\n      <td>Gasolina</td>\n      <td>10500</td>\n      <td>Precio negociable: si Color : AZUL 3 modos de ...</td>\n    </tr>\n    <tr>\n      <th>1</th>\n      <td>Honda Civic</td>\n      <td>2017</td>\n      <td>88590</td>\n      <td>Gasolina</td>\n      <td>11500</td>\n      <td>Color : Gris DESCRIPCIÓN ARTÍCULOS CALIFICACIO...</td>\n    </tr>\n    <tr>\n      <th>2</th>\n      <td>Hyundai Accent</td>\n      <td>2019</td>\n      <td>78000</td>\n      <td>Gasolina</td>\n      <td>9800</td>\n      <td>Precio negociable: si Color : Negro Hyundai Ac...</td>\n    </tr>\n    <tr>\n      <th>3</th>\n      <td>Mitsubishi Mirage G4</td>\n      <td>2020</td>\n      <td>14445</td>\n      <td>Gasolina</td>\n      <td>7950</td>\n      <td>Garantía: Como es visto no hay garantía Financ...</td>\n    </tr>\n    <tr>\n      <th>4</th>\n      <td>Nissan Sentra</td>\n      <td>2016</td>\n      <td>83000</td>\n      <td>Gasolina</td>\n      <td>8000</td>\n      <td>Financiamiento: no Precio negociable: si Color...</td>\n    </tr>\n    <tr>\n      <th>5</th>\n      <td>Chevrolet Sonic</td>\n      <td>2015</td>\n      <td>58</td>\n      <td>Gasolina</td>\n      <td>520</td>\n      <td>Precio negociable: si Color : Gris DESCRIPCIÓN...</td>\n    </tr>\n    <tr>\n      <th>6</th>\n      <td>Hyundai Accent</td>\n      <td>2007</td>\n      <td>155000</td>\n      <td>Gasolina</td>\n      <td>4600</td>\n      <td>Precio negociable: si Color : Gris rata DESCRI...</td>\n    </tr>\n    <tr>\n      <th>7</th>\n      <td>Hyundai Elantra</td>\n      <td>2015</td>\n      <td>150355</td>\n      <td>Gasolina</td>\n      <td>7975</td>\n      <td>Color : ROJO DESCRIPCIÓN CALIFICACIONES SEGURI...</td>\n    </tr>\n    <tr>\n      <th>8</th>\n      <td>Hyundai Accent</td>\n      <td>2014</td>\n      <td>133600</td>\n      <td>Gasolina</td>\n      <td>7300</td>\n      <td>Precio negociable: si Color : Cafe DESCRIPCIÓN...</td>\n    </tr>\n    <tr>\n      <th>9</th>\n      <td>Mitsubishi Mirage G4</td>\n      <td>2018</td>\n      <td>60000</td>\n      <td>Gasolina</td>\n      <td>8400</td>\n      <td>Color : Blanco Se vende Mitsubishi G4 2018. Au...</td>\n    </tr>\n    <tr>\n      <th>10</th>\n      <td>Kia Sephia</td>\n      <td>1999</td>\n      <td>189000</td>\n      <td>Gasolina</td>\n      <td>2500</td>\n      <td>Precio negociable: si DESCRIPCIÓN CALIFICACION...</td>\n    </tr>\n    <tr>\n      <th>11</th>\n      <td>Mitsubishi Lancer</td>\n      <td>2008</td>\n      <td>143000</td>\n      <td>Gasolina</td>\n      <td>5900</td>\n      <td>Vehiculo de agencia, un solo dueño, solo 143 m...</td>\n    </tr>\n    <tr>\n      <th>12</th>\n      <td>Kia Forte</td>\n      <td>2018</td>\n      <td>113000</td>\n      <td>Gasolina</td>\n      <td>9100</td>\n      <td>Garantía: Como es visto no hay garantía Financ...</td>\n    </tr>\n    <tr>\n      <th>13</th>\n      <td>Dodge DART</td>\n      <td>2013</td>\n      <td>89000</td>\n      <td>Gasolina</td>\n      <td>6200</td>\n      <td>Precio negociable: si Color : Rojo Puede verlo...</td>\n    </tr>\n    <tr>\n      <th>14</th>\n      <td>Mitsubishi Lancer</td>\n      <td>2017</td>\n      <td>68000</td>\n      <td>Gasolina</td>\n      <td>8400</td>\n      <td>Color : Azul Vendo Mitsubishi Lancer 2017 Full...</td>\n    </tr>\n    <tr>\n      <th>15</th>\n      <td>Chevrolet Trax</td>\n      <td>2021</td>\n      <td>0</td>\n      <td>Gasolina</td>\n      <td>0</td>\n      <td>Motor 1.4L TURBO Pantalla con cámara de retroc...</td>\n    </tr>\n    <tr>\n      <th>16</th>\n      <td>Hyundai EON</td>\n      <td>2018</td>\n      <td>44400</td>\n      <td>Gasolina</td>\n      <td>8700</td>\n      <td>Garantía: Como es visto no hay garantía Financ...</td>\n    </tr>\n    <tr>\n      <th>17</th>\n      <td>Hyundai Accent</td>\n      <td>2013</td>\n      <td>0</td>\n      <td>Gasolina</td>\n      <td>6300</td>\n      <td>Garantía: Como es visto no hay garantía Financ...</td>\n    </tr>\n    <tr>\n      <th>18</th>\n      <td>Nissan Versa</td>\n      <td>2017</td>\n      <td>87948</td>\n      <td>Gasolina</td>\n      <td>6100</td>\n      <td>DESCRIPCIÓN CALIFICACIONES SEGURIDAD vehiculo ...</td>\n    </tr>\n    <tr>\n      <th>19</th>\n      <td>Mitsubishi Mirage G4</td>\n      <td>2019</td>\n      <td>72300</td>\n      <td>Gasolina</td>\n      <td>7900</td>\n      <td>Financiamiento: no Color : Gris Claro Vendo Mi...</td>\n    </tr>\n    <tr>\n      <th>20</th>\n      <td>Toyota Yaris</td>\n      <td>2008</td>\n      <td>125000</td>\n      <td>Gasolina</td>\n      <td>7500</td>\n      <td>Financiamiento: no Precio negociable: si DESCR...</td>\n    </tr>\n    <tr>\n      <th>21</th>\n      <td>Kia Cerato</td>\n      <td>2017</td>\n      <td>86000</td>\n      <td>Gasolina</td>\n      <td>12200</td>\n      <td>Kia CERATO de Agencia, motor 1.6 super económi...</td>\n    </tr>\n    <tr>\n      <th>22</th>\n      <td>Toyota Corolla</td>\n      <td>2019</td>\n      <td>0</td>\n      <td>Gasolina</td>\n      <td>14600</td>\n      <td>Precio negociable: si Color : Cafe Venta de to...</td>\n    </tr>\n    <tr>\n      <th>23</th>\n      <td>Toyota Corolla</td>\n      <td>2001</td>\n      <td>0</td>\n      <td>Gasolina</td>\n      <td>0</td>\n      <td>DESCRIPCIÓN CALIFICACIONES SEGURIDAD Estandar ...</td>\n    </tr>\n    <tr>\n      <th>24</th>\n      <td>Chevrolet Sonic</td>\n      <td>2017</td>\n      <td>86</td>\n      <td>Gasolina</td>\n      <td>7200</td>\n      <td>Color : Gris DESCRIPCIÓN ARTÍCULOS CALIFICACIO...</td>\n    </tr>\n    <tr>\n      <th>25</th>\n      <td>Hyundai Accent</td>\n      <td>2016</td>\n      <td>90</td>\n      <td>Gasolina</td>\n      <td>7500</td>\n      <td>DESCRIPCIÓN CALIFICACIONES SEGURIDAD AC Funcio...</td>\n    </tr>\n    <tr>\n      <th>26</th>\n      <td>Hyundai Accent</td>\n      <td>2013</td>\n      <td>100000</td>\n      <td>Gasolina</td>\n      <td>6400</td>\n      <td>Precio negociable: si Color : Gris oscuro DESC...</td>\n    </tr>\n    <tr>\n      <th>27</th>\n      <td>Nissan Sentra</td>\n      <td>2018</td>\n      <td>126880</td>\n      <td>Gasolina</td>\n      <td>8500</td>\n      <td>Color : Gris</td>\n    </tr>\n    <tr>\n      <th>28</th>\n      <td>Honda Civic</td>\n      <td>2018</td>\n      <td>58266</td>\n      <td>Gasolina</td>\n      <td>12500</td>\n      <td>Color : Negro</td>\n    </tr>\n    <tr>\n      <th>29</th>\n      <td>Mitsubishi Mirage G4</td>\n      <td>2020</td>\n      <td>69000</td>\n      <td>Gasolina</td>\n      <td>9000</td>\n      <td>Garantía: Garantía Incluida preguntar por los ...</td>\n    </tr>\n    <tr>\n      <th>30</th>\n      <td>Jeep Renegade</td>\n      <td>2019</td>\n      <td>48000</td>\n      <td>Gasolina</td>\n      <td>12600</td>\n      <td>Precio negociable: si Color : Naranjado</td>\n    </tr>\n    <tr>\n      <th>31</th>\n      <td>Hyundai Elantra</td>\n      <td>2013</td>\n      <td>65000</td>\n      <td>Gasolina</td>\n      <td>7500</td>\n      <td>Precio negociable: si Color : Gris DESCRIPCIÓN...</td>\n    </tr>\n    <tr>\n      <th>32</th>\n      <td>Kia RIO</td>\n      <td>2013</td>\n      <td>124000</td>\n      <td>Gasolina</td>\n      <td>7700</td>\n      <td>Precio negociable: si Color : Blanco DESCRIPCI...</td>\n    </tr>\n    <tr>\n      <th>33</th>\n      <td>BMW 328</td>\n      <td>2011</td>\n      <td>165000</td>\n      <td>Gasolina</td>\n      <td>8500</td>\n      <td>Precio negociable: si Color : Blanco/Negro Se ...</td>\n    </tr>\n    <tr>\n      <th>34</th>\n      <td>Nissan Versa</td>\n      <td>2014</td>\n      <td>171356</td>\n      <td>Gasolina</td>\n      <td>6700</td>\n      <td>Garantía: Como es visto no hay garantía Financ...</td>\n    </tr>\n    <tr>\n      <th>35</th>\n      <td>Hyundai Elantra</td>\n      <td>2017</td>\n      <td>57000</td>\n      <td>Gasolina</td>\n      <td>13500</td>\n      <td>Financiamiento: no Precio negociable: si Color...</td>\n    </tr>\n    <tr>\n      <th>36</th>\n      <td>BMW 328</td>\n      <td>2012</td>\n      <td>90000</td>\n      <td>Gasolina</td>\n      <td>10500</td>\n      <td>Financiamiento: no Precio negociable: si Color...</td>\n    </tr>\n    <tr>\n      <th>37</th>\n      <td>Hyundai Accent</td>\n      <td>2014</td>\n      <td>7600</td>\n      <td>Gasolina</td>\n      <td>7600</td>\n      <td>Precio negociable: si Color : Plateado DESCRIP...</td>\n    </tr>\n    <tr>\n      <th>38</th>\n      <td>Nissan Versa</td>\n      <td>2017</td>\n      <td>83330</td>\n      <td>Gasolina</td>\n      <td>8000</td>\n      <td>Garantía: Extensa garantía disponible. Solicit...</td>\n    </tr>\n    <tr>\n      <th>39</th>\n      <td>Nissan Sentra</td>\n      <td>2013</td>\n      <td>74000</td>\n      <td>Gasolina</td>\n      <td>5500</td>\n      <td>Precio negociable: si Color : Gris DESCRIPCIÓN...</td>\n    </tr>\n  </tbody>\n</table>\n</div>"
     },
     "execution_count": 60,
     "metadata": {},
     "output_type": "execute_result"
    }
   ],
   "source": [
    "df_temp"
   ],
   "metadata": {
    "collapsed": false,
    "ExecuteTime": {
     "end_time": "2023-06-29T02:41:54.345043700Z",
     "start_time": "2023-06-29T02:41:54.315155800Z"
    }
   }
  }
 ],
 "metadata": {
  "kernelspec": {
   "display_name": "Python 3",
   "language": "python",
   "name": "python3"
  },
  "language_info": {
   "codemirror_mode": {
    "name": "ipython",
    "version": 2
   },
   "file_extension": ".py",
   "mimetype": "text/x-python",
   "name": "python",
   "nbconvert_exporter": "python",
   "pygments_lexer": "ipython2",
   "version": "2.7.6"
  }
 },
 "nbformat": 4,
 "nbformat_minor": 0
}
