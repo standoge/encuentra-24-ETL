{
 "cells": [
  {
   "cell_type": "markdown",
   "source": [
    "## Dependencies"
   ],
   "metadata": {
    "collapsed": false
   }
  },
  {
   "cell_type": "markdown",
   "source": [
    "---"
   ],
   "metadata": {
    "collapsed": false
   }
  },
  {
   "cell_type": "code",
   "execution_count": 1,
   "outputs": [],
   "source": [
    "import yaml\n",
    "import re\n",
    "from datetime import datetime\n",
    "import pandas as pd"
   ],
   "metadata": {
    "collapsed": false,
    "ExecuteTime": {
     "end_time": "2023-07-23T01:22:12.625262500Z",
     "start_time": "2023-07-23T01:22:11.892144100Z"
    }
   }
  },
  {
   "cell_type": "code",
   "execution_count": 2,
   "outputs": [],
   "source": [
    "from selenium import webdriver\n",
    "from selenium.webdriver.common.by import By\n",
    "from selenium.webdriver.edge.service import Service\n",
    "from webdriver_manager.microsoft import EdgeChromiumDriverManager\n",
    "from selenium.webdriver.support.ui import WebDriverWait\n",
    "from selenium.webdriver.support import expected_conditions as EC\n",
    "from selenium.common.exceptions import NoSuchElementException\n",
    "from selenium.common.exceptions import TimeoutException\n"
   ],
   "metadata": {
    "collapsed": false,
    "ExecuteTime": {
     "end_time": "2023-07-23T01:22:12.841774700Z",
     "start_time": "2023-07-23T01:22:12.625262500Z"
    }
   }
  },
  {
   "cell_type": "code",
   "execution_count": 3,
   "outputs": [
    {
     "name": "stderr",
     "output_type": "stream",
     "text": [
      "[WDM] - Downloading: 100%|██████████| 7.74M/7.74M [00:01<00:00, 4.48MB/s]\n"
     ]
    }
   ],
   "source": [
    "# edge:object = webdriver.Edge(executable_path=\"./utils/msedgedriver.exe\")\n",
    "edge = webdriver.Edge(service=Service(EdgeChromiumDriverManager().install()))\n",
    "edge.maximize_window()"
   ],
   "metadata": {
    "collapsed": false,
    "ExecuteTime": {
     "end_time": "2023-07-23T01:22:18.072330600Z",
     "start_time": "2023-07-23T01:22:12.841774700Z"
    }
   }
  },
  {
   "cell_type": "markdown",
   "source": [
    "## Extract"
   ],
   "metadata": {
    "collapsed": false
   }
  },
  {
   "cell_type": "markdown",
   "source": [
    "---"
   ],
   "metadata": {
    "collapsed": false
   }
  },
  {
   "cell_type": "markdown",
   "source": [
    "### Functions:"
   ],
   "metadata": {
    "collapsed": false
   }
  },
  {
   "cell_type": "code",
   "execution_count": 4,
   "outputs": [],
   "source": [
    "def resources(name: str) -> dict[str:str]:\n",
    "    \"\"\"Read xpath.yml file that contains xpath's to scrape\"\"\"\n",
    "\n",
    "    with open(\"xpath.yml\", \"r\") as f:\n",
    "        content: dict[str:str] = yaml.safe_load(f)\n",
    "        return content[name]"
   ],
   "metadata": {
    "collapsed": false,
    "ExecuteTime": {
     "end_time": "2023-07-23T01:22:18.077414500Z",
     "start_time": "2023-07-23T01:22:18.070717900Z"
    }
   }
  },
  {
   "cell_type": "code",
   "execution_count": 5,
   "outputs": [],
   "source": [
    "def close_prompt(driver: object) -> None:\n",
    "    \"\"\"Close ad window\"\"\"\n",
    "\n",
    "    button: str = \"//a[@class='btn btn-subscription-light']\"\n",
    "    driver.find_element(by=By.XPATH, value=button).click()"
   ],
   "metadata": {
    "collapsed": false,
    "ExecuteTime": {
     "end_time": "2023-07-23T01:22:18.091414300Z",
     "start_time": "2023-07-23T01:22:18.076413500Z"
    }
   }
  },
  {
   "cell_type": "code",
   "execution_count": 6,
   "outputs": [],
   "source": [
    "def choose_category(category: str, driver: object) -> None:\n",
    "    \"\"\"Choose ad category\"\"\"\n",
    "\n",
    "    driver.find_element(by=By.XPATH, value=category).click()"
   ],
   "metadata": {
    "collapsed": false,
    "ExecuteTime": {
     "end_time": "2023-07-23T01:22:18.141243900Z",
     "start_time": "2023-07-23T01:22:18.093419Z"
    }
   }
  },
  {
   "cell_type": "code",
   "execution_count": 7,
   "outputs": [],
   "source": [
    "def click_element(element: object, path: str) -> None:\n",
    "    \"\"\"Click element on the current document\"\"\"\n",
    "\n",
    "    button = element.find_element(by=By.XPATH, value=path)\n",
    "    button.click()"
   ],
   "metadata": {
    "collapsed": false,
    "ExecuteTime": {
     "end_time": "2023-07-23T01:22:18.142240600Z",
     "start_time": "2023-07-23T01:22:18.109414100Z"
    }
   }
  },
  {
   "cell_type": "code",
   "execution_count": 8,
   "outputs": [],
   "source": [
    "def extract_feature_in(element: object, path: str) -> str:\n",
    "    \"\"\"Extract ad feature where current browser page is in\"\"\"\n",
    "\n",
    "    feature: str = element.find_element(by=By.XPATH, value=path)\n",
    "    return feature"
   ],
   "metadata": {
    "collapsed": false,
    "ExecuteTime": {
     "end_time": "2023-07-23T01:22:18.142240600Z",
     "start_time": "2023-07-23T01:22:18.124414500Z"
    }
   }
  },
  {
   "cell_type": "code",
   "execution_count": 9,
   "outputs": [],
   "source": [
    "def extract_feature_out(element: object, path: str) -> list[str]:\n",
    "    \"\"\"Extract ad feature from list of ads (not within the ad)\"\"\"\n",
    "\n",
    "    feature = []\n",
    "\n",
    "    try:\n",
    "        feature: str = element.find_elements(by=By.XPATH, value=path)\n",
    "        feature = [data_point.text for data_point in feature]\n",
    "        return feature\n",
    "    except Exception:\n",
    "        feature.append(\"Web wasn't able to scrape the feature\")"
   ],
   "metadata": {
    "collapsed": false,
    "ExecuteTime": {
     "end_time": "2023-07-23T01:22:18.155240500Z",
     "start_time": "2023-07-23T01:22:18.140242500Z"
    }
   }
  },
  {
   "cell_type": "code",
   "execution_count": 10,
   "outputs": [],
   "source": [
    "def persistence(dataframe: pd.DataFrame) -> None:\n",
    "    \"\"\"Generate .csv file from data scraped\"\"\"\n",
    "\n",
    "    file_name = datetime.today().strftime(\"%B-%d\")\n",
    "    dataframe.to_csv(f\"persistence/{file_name}.csv\", index=False)"
   ],
   "metadata": {
    "collapsed": false,
    "ExecuteTime": {
     "end_time": "2023-07-23T01:22:18.161903500Z",
     "start_time": "2023-07-23T01:22:18.158114500Z"
    }
   }
  },
  {
   "cell_type": "code",
   "execution_count": 11,
   "outputs": [],
   "source": [
    "def get_len(features: list[list[str]]) -> bool:\n",
    "    \"\"\"\n",
    "    Check if all features has the same length to create new df\n",
    "    :param features: list of features extracted with scraping\n",
    "    :return: a list with all lengths where first place is the len of the first element and the mostly accepted.\n",
    "    \"\"\"\n",
    "\n",
    "    base_len = len(features[0])\n",
    "    lengths = []\n",
    "    lengths.append(base_len)\n",
    "    for feature in features:\n",
    "        if len(feature) == base_len:\n",
    "            continue\n",
    "        else:\n",
    "            lengths.append(len(feature))\n",
    "    return lengths"
   ],
   "metadata": {
    "collapsed": false,
    "ExecuteTime": {
     "end_time": "2023-07-23T01:22:18.178957Z",
     "start_time": "2023-07-23T01:22:18.164901900Z"
    }
   }
  },
  {
   "cell_type": "code",
   "execution_count": 12,
   "outputs": [],
   "source": [
    "def check_len(lengths: list[int]) -> bool:\n",
    "    \"\"\"\n",
    "    Check if all elements in list has the same value.\n",
    "    :param lengths: list of lengths\n",
    "    :return: a boolean\n",
    "    \"\"\"\n",
    "    for length in lengths[1:]:\n",
    "        if length != lengths[0]:\n",
    "            return False\n",
    "        return True"
   ],
   "metadata": {
    "collapsed": false,
    "ExecuteTime": {
     "end_time": "2023-07-23T01:22:18.179957700Z",
     "start_time": "2023-07-23T01:22:18.172415500Z"
    }
   }
  },
  {
   "cell_type": "markdown",
   "source": [
    "Variables pool."
   ],
   "metadata": {
    "collapsed": false
   }
  },
  {
   "cell_type": "code",
   "execution_count": 13,
   "outputs": [],
   "source": [
    "descriptions: list[str] = []\n",
    "prices: list[int] = []\n",
    "models: list[str] = []\n",
    "years: list[int] = []\n",
    "kilometers: list[int] = []\n",
    "engines: list[str] = []\n",
    "\n",
    "# seconds\n",
    "DELAY: int = 1\n",
    "SEDAN = resources(\"cars_sedan\")"
   ],
   "metadata": {
    "collapsed": false,
    "ExecuteTime": {
     "end_time": "2023-07-23T01:22:18.202654800Z",
     "start_time": "2023-07-23T01:22:18.177958400Z"
    }
   }
  },
  {
   "cell_type": "code",
   "execution_count": 14,
   "outputs": [
    {
     "data": {
      "text/plain": "'/html/body/section/div[5]/div/div/div/ul/li[1]/span[3]'"
     },
     "execution_count": 14,
     "metadata": {},
     "output_type": "execute_result"
    }
   ],
   "source": [
    "SEDAN[\"year\"]"
   ],
   "metadata": {
    "collapsed": false,
    "ExecuteTime": {
     "end_time": "2023-07-23T01:22:18.284652200Z",
     "start_time": "2023-07-23T01:22:18.190388800Z"
    }
   }
  },
  {
   "cell_type": "markdown",
   "source": [
    "Get web & close initial prompt (if is required)."
   ],
   "metadata": {
    "collapsed": false
   }
  },
  {
   "cell_type": "code",
   "execution_count": 15,
   "outputs": [],
   "source": [
    "edge.get(SEDAN[\"url\"])\n",
    "# close_prompt(edge)"
   ],
   "metadata": {
    "collapsed": false,
    "ExecuteTime": {
     "end_time": "2023-07-23T01:22:42.080899800Z",
     "start_time": "2023-07-23T01:22:18.210653300Z"
    }
   }
  },
  {
   "cell_type": "markdown",
   "source": [
    "Extract car features."
   ],
   "metadata": {
    "collapsed": false
   }
  },
  {
   "cell_type": "code",
   "execution_count": 16,
   "outputs": [],
   "source": [
    "elements = edge.find_elements(by=By.XPATH, value=SEDAN[\"ad\"])\n",
    "elements[0].click()\n",
    "\n",
    "try:\n",
    "    for element in range(len(elements)):\n",
    "        dynamic_delay = WebDriverWait(edge, DELAY).until(\n",
    "            EC.presence_of_element_located((By.XPATH, SEDAN[\"description\"])))\n",
    "\n",
    "        brand_str = extract_feature_in(edge, SEDAN[\"brand\"]).text\n",
    "        model_str = extract_feature_in(edge, SEDAN[\"model\"]).text\n",
    "        models.append(brand_str + \" \" + model_str)\n",
    "\n",
    "        descriptions.append(extract_feature_in(edge, SEDAN[\"description\"]).text)\n",
    "        prices.append(extract_feature_in(edge, SEDAN[\"price\"]).text)\n",
    "        kilometers.append(extract_feature_in(edge, SEDAN[\"kilometers\"]).text)\n",
    "        engines.append(extract_feature_in(edge, SEDAN[\"engine\"]).text)\n",
    "        years.append(extract_feature_in(edge, SEDAN[\"year\"]).text)\n",
    "\n",
    "        click_element(edge, SEDAN[\"next\"])\n",
    "except TimeoutException as TE:\n",
    "    descriptions.append(\"Web wasn't able to scrape descriptions\")\n",
    "except NoSuchElementException as NSE:\n",
    "    click_element(edge, SEDAN[\"exit\"])"
   ],
   "metadata": {
    "collapsed": false,
    "ExecuteTime": {
     "end_time": "2023-07-23T01:24:05.597546300Z",
     "start_time": "2023-07-23T01:22:42.085900Z"
    }
   }
  },
  {
   "cell_type": "markdown",
   "source": [
    "## Export"
   ],
   "metadata": {
    "collapsed": false
   }
  },
  {
   "cell_type": "markdown",
   "source": [
    "---"
   ],
   "metadata": {
    "collapsed": false
   }
  },
  {
   "cell_type": "markdown",
   "source": [
    "### Functions:"
   ],
   "metadata": {
    "collapsed": false
   }
  },
  {
   "cell_type": "code",
   "execution_count": 17,
   "outputs": [],
   "source": [
    "def parse_price(dataframe: pd.DataFrame, feature: str, pattern: str) -> None:\n",
    "    \"\"\"\n",
    "    Parse financial features like prices. Works with $#,### (not dot)\n",
    "    :param dataframe: object towards apply transformation\n",
    "    :param feature: feature name towards apply transformation\n",
    "    :param pattern: feature pattern to transform\n",
    "    \"\"\"\n",
    "    dataframe[feature] = dataframe[feature] \\\n",
    "        .str.extract(pattern) \\\n",
    "        .applymap(lambda price: int(price.replace(\",\", \"\")))\n"
   ],
   "metadata": {
    "collapsed": false,
    "ExecuteTime": {
     "end_time": "2023-07-23T01:24:05.612549300Z",
     "start_time": "2023-07-23T01:24:05.599545300Z"
    }
   }
  },
  {
   "cell_type": "code",
   "execution_count": 18,
   "outputs": [],
   "source": [
    "def remove_chars(dataframe: pd.DataFrame, feature: str, wildcards: str) -> pd.Series:\n",
    "    \"\"\"\n",
    "    Remove escaped characters from features like indented large extracts of text\n",
    "    :param dataframe: object towards apply transformation\n",
    "    :param feature: feature name towards apply transformation\n",
    "    :param wildcards: escaped characters to remove\n",
    "    :return: Serie without escaped characters\n",
    "    \"\"\"\n",
    "    return (dataframe\n",
    "    .apply(\n",
    "        lambda row: row[feature]\n",
    "        , axis=1\n",
    "    )\n",
    "    .apply(\n",
    "        lambda extracted_f: re.sub(wildcards, r' ', extracted_f)\n",
    "    )\n",
    "    )\n"
   ],
   "metadata": {
    "collapsed": false,
    "ExecuteTime": {
     "end_time": "2023-07-23T01:24:05.651546900Z",
     "start_time": "2023-07-23T01:24:05.613549200Z"
    }
   }
  },
  {
   "cell_type": "code",
   "execution_count": 19,
   "outputs": [],
   "source": [
    "PRICE_RG: str = r\"^\\$(?P<prices>\\d+,?\\d+)?\"\n",
    "KM_REG: str = r\"(?P<km>^\\d+)\"\n",
    "CHARACTER_RG: str = '(\\n|\\r)+'"
   ],
   "metadata": {
    "collapsed": false,
    "ExecuteTime": {
     "end_time": "2023-07-23T01:24:05.651546900Z",
     "start_time": "2023-07-23T01:24:05.628550400Z"
    }
   }
  },
  {
   "cell_type": "markdown",
   "source": [
    "Check that all features has the same length."
   ],
   "metadata": {
    "collapsed": false
   }
  },
  {
   "cell_type": "code",
   "execution_count": 20,
   "outputs": [
    {
     "data": {
      "text/plain": "[35, 35, 35, 35, 35, 35]"
     },
     "execution_count": 20,
     "metadata": {},
     "output_type": "execute_result"
    }
   ],
   "source": [
    "lengths = [len(engines), len(models), len(years), len(kilometers), len(prices), len(descriptions)]\n",
    "lengths"
   ],
   "metadata": {
    "collapsed": false,
    "ExecuteTime": {
     "end_time": "2023-07-23T01:24:05.659549600Z",
     "start_time": "2023-07-23T01:24:05.644548600Z"
    }
   }
  },
  {
   "cell_type": "markdown",
   "source": [
    "Create dataframe to transform data extracted"
   ],
   "metadata": {
    "collapsed": false
   }
  },
  {
   "cell_type": "code",
   "execution_count": 21,
   "outputs": [],
   "source": [
    "if check_len(lengths):\n",
    "    df_temp = pd.DataFrame({\n",
    "        \"model\": models,\n",
    "        \"year\": years,\n",
    "        \"kilometers\": kilometers,\n",
    "        \"engine\": engines,\n",
    "        \"price\": prices,\n",
    "        \"description\": descriptions\n",
    "    })\n",
    "\n",
    "    # Parse features. String to number and raw string with characters to structured string.\n",
    "    parse_price(df_temp, \"price\", PRICE_RG)\n",
    "    df_temp[\"kilometers\"] = df_temp[\"kilometers\"].str.extract(KM_REG).applymap(int)\n",
    "    df_temp[\"year\"] = df_temp[\"year\"].map(int)\n",
    "    df_temp[\"description\"] = remove_chars(df_temp, \"description\", CHARACTER_RG)\n",
    "\n",
    "    persistence(df_temp)\n"
   ],
   "metadata": {
    "collapsed": false,
    "ExecuteTime": {
     "end_time": "2023-07-23T01:24:05.748545200Z",
     "start_time": "2023-07-23T01:24:05.660545900Z"
    }
   }
  },
  {
   "cell_type": "code",
   "execution_count": 22,
   "outputs": [
    {
     "data": {
      "text/plain": "                    model  year  kilometers    engine  price  \\\n0                 Mazda 3  2015         108  Gasolina   8400   \n1           Jeep Renegade  2019       31000  Gasolina  11500   \n2                 Kia Rio  2017      142000  Gasolina   7600   \n3                 BMW 328  2015      110000  Gasolina  16000   \n4              Dodge Dart  2015       74000  Gasolina   7500   \n5              Ford Focus  2007      200000  Gasolina   3000   \n6          otros + DATSUN  1980     1000000  Gasolina   2000   \n7          Chevrolet Aveo  2011      133950  Gasolina   4900   \n8       Mitsubishi Lancer  2013      158000  Gasolina   6700   \n9           Nissan Altima  2005      112000  Gasolina   3800   \n10          Nissan Sentra  2015       16100  Gasolina   6800   \n11        Hyundai Elantra  2015       98000  Gasolina   9100   \n12                Kia Rio  2019      107000  Gasolina   7699   \n13         Toyota Corolla  2007         128  Gasolina   5500   \n14              Kia Forte  2018       69038  Gasolina   8950   \n15         Hyundai Accent  2007      155000  Gasolina   4600   \n16        Hyundai Elantra  2015      150539  Gasolina   7800   \n17         Hyundai Accent  2014      133600  Gasolina   7300   \n18             Kia Sephia  1999      189000  Gasolina   2500   \n19          Nissan Sentra  2017       51000  Gasolina   8199   \n20        Hyundai Elantra  2016      180000  Gasolina   7800   \n21             Dodge DART  2013       89000  Gasolina   6200   \n22           Toyota Yaris  2008      188000  Gasolina   6500   \n23            Hyundai EON  2018       44400  Gasolina   8700   \n24           Nissan Versa  2017       87948  Gasolina   6100   \n25   Mitsubishi Mirage G4  2019       72300  Gasolina   7900   \n26             Kia Cerato  2017       86000  Gasolina  11700   \n27        Hyundai Elantra  2018       77000  Gasolina  10000   \n28          Jeep Renegade  2019       50000  Gasolina  11800   \n29           Nissan Versa  2014      171356  Gasolina   6700   \n30        Chevrolet Cruze  2019       72530  Gasolina   9000   \n31  Mercedes Benz C-Class  2010      125000  Gasolina   9500   \n32        Audi A4 allroad  2010      200000  Gasolina   8500   \n33         Hyundai Accent  2014        7300  Gasolina   7300   \n34           Nissan Versa  2017       83330  Gasolina   8000   \n\n                                          description  \n0   Se vende calidad de vehículo, excelente rendim...  \n1             Precio negociable: si Color : Naranjado  \n2   Precio negociable: si DESCRIPCIÓN CALIFICACION...  \n3   Color : Beige Se agarra carro más ribete, nada...  \n4   Garantía: Como es visto no hay garantía Financ...  \n5   Garantía: Como es visto no hay garantía Color ...  \n6   Color : AZUL NEGRO DATSUN MODELO 210 CLASICO A...  \n7   Precio negociable: si DESCRIPCIÓN ARTÍCULOS CA...  \n8   Precio negociable: si Color : Blanco Mitsubish...  \n9   Precio negociable: si Color : Rojo Vendo Bonit...  \n10  Precio negociable: si Color : Rojo DESCRIPCIÓN...  \n11  Financiamiento: no Precio negociable: si Color...  \n12  Precio negociable: si Kia Rio 2019 en camino a...  \n13  DESCRIPCIÓN CALIFICACIONES SEGURIDAD Se vende ...  \n14  Color : negro Vendo kia forte 2018 motor 2.0 c...  \n15  Precio negociable: si Color : Gris rata DESCRI...  \n16  Color : ROJO DESCRIPCIÓN CALIFICACIONES SEGURI...  \n17  Precio negociable: si Color : Cafe DESCRIPCIÓN...  \n18  Precio negociable: si DESCRIPCIÓN CALIFICACION...  \n19  Garantía: Como es visto no hay garantía Financ...  \n20  Color : Gris DESCRIPCIÓN CALIFICACIONES SEGURI...  \n21  Precio negociable: si Color : Rojo Puede verlo...  \n22  DESCRIPCIÓN CALIFICACIONES SEGURIDAD vendo toy...  \n23  Garantía: Como es visto no hay garantía Financ...  \n24  DESCRIPCIÓN CALIFICACIONES SEGURIDAD vehiculo ...  \n25  Financiamiento: no Color : Gris Claro Vendo Mi...  \n26  Color : Gris Kia CERATO de AGENCIA, motor 1.6 ...  \n27  Precio negociable: si Color : AZUL 3 modos de ...  \n28  Precio negociable: si Color : Naranjado 31,000...  \n29  Garantía: Como es visto no hay garantía Financ...  \n30  Precio negociable: si Color : Rojo Chevrolet C...  \n31  Precio negociable: si Color : Blanco Vendo Mer...  \n32  Precio negociable: si Color : Rojo Vendo Audi ...  \n33  Precio negociable: si Color : Plateado DESCRIP...  \n34  Garantía: Extensa garantía disponible. Solicit...  ",
      "text/html": "<div>\n<style scoped>\n    .dataframe tbody tr th:only-of-type {\n        vertical-align: middle;\n    }\n\n    .dataframe tbody tr th {\n        vertical-align: top;\n    }\n\n    .dataframe thead th {\n        text-align: right;\n    }\n</style>\n<table border=\"1\" class=\"dataframe\">\n  <thead>\n    <tr style=\"text-align: right;\">\n      <th></th>\n      <th>model</th>\n      <th>year</th>\n      <th>kilometers</th>\n      <th>engine</th>\n      <th>price</th>\n      <th>description</th>\n    </tr>\n  </thead>\n  <tbody>\n    <tr>\n      <th>0</th>\n      <td>Mazda 3</td>\n      <td>2015</td>\n      <td>108</td>\n      <td>Gasolina</td>\n      <td>8400</td>\n      <td>Se vende calidad de vehículo, excelente rendim...</td>\n    </tr>\n    <tr>\n      <th>1</th>\n      <td>Jeep Renegade</td>\n      <td>2019</td>\n      <td>31000</td>\n      <td>Gasolina</td>\n      <td>11500</td>\n      <td>Precio negociable: si Color : Naranjado</td>\n    </tr>\n    <tr>\n      <th>2</th>\n      <td>Kia Rio</td>\n      <td>2017</td>\n      <td>142000</td>\n      <td>Gasolina</td>\n      <td>7600</td>\n      <td>Precio negociable: si DESCRIPCIÓN CALIFICACION...</td>\n    </tr>\n    <tr>\n      <th>3</th>\n      <td>BMW 328</td>\n      <td>2015</td>\n      <td>110000</td>\n      <td>Gasolina</td>\n      <td>16000</td>\n      <td>Color : Beige Se agarra carro más ribete, nada...</td>\n    </tr>\n    <tr>\n      <th>4</th>\n      <td>Dodge Dart</td>\n      <td>2015</td>\n      <td>74000</td>\n      <td>Gasolina</td>\n      <td>7500</td>\n      <td>Garantía: Como es visto no hay garantía Financ...</td>\n    </tr>\n    <tr>\n      <th>5</th>\n      <td>Ford Focus</td>\n      <td>2007</td>\n      <td>200000</td>\n      <td>Gasolina</td>\n      <td>3000</td>\n      <td>Garantía: Como es visto no hay garantía Color ...</td>\n    </tr>\n    <tr>\n      <th>6</th>\n      <td>otros + DATSUN</td>\n      <td>1980</td>\n      <td>1000000</td>\n      <td>Gasolina</td>\n      <td>2000</td>\n      <td>Color : AZUL NEGRO DATSUN MODELO 210 CLASICO A...</td>\n    </tr>\n    <tr>\n      <th>7</th>\n      <td>Chevrolet Aveo</td>\n      <td>2011</td>\n      <td>133950</td>\n      <td>Gasolina</td>\n      <td>4900</td>\n      <td>Precio negociable: si DESCRIPCIÓN ARTÍCULOS CA...</td>\n    </tr>\n    <tr>\n      <th>8</th>\n      <td>Mitsubishi Lancer</td>\n      <td>2013</td>\n      <td>158000</td>\n      <td>Gasolina</td>\n      <td>6700</td>\n      <td>Precio negociable: si Color : Blanco Mitsubish...</td>\n    </tr>\n    <tr>\n      <th>9</th>\n      <td>Nissan Altima</td>\n      <td>2005</td>\n      <td>112000</td>\n      <td>Gasolina</td>\n      <td>3800</td>\n      <td>Precio negociable: si Color : Rojo Vendo Bonit...</td>\n    </tr>\n    <tr>\n      <th>10</th>\n      <td>Nissan Sentra</td>\n      <td>2015</td>\n      <td>16100</td>\n      <td>Gasolina</td>\n      <td>6800</td>\n      <td>Precio negociable: si Color : Rojo DESCRIPCIÓN...</td>\n    </tr>\n    <tr>\n      <th>11</th>\n      <td>Hyundai Elantra</td>\n      <td>2015</td>\n      <td>98000</td>\n      <td>Gasolina</td>\n      <td>9100</td>\n      <td>Financiamiento: no Precio negociable: si Color...</td>\n    </tr>\n    <tr>\n      <th>12</th>\n      <td>Kia Rio</td>\n      <td>2019</td>\n      <td>107000</td>\n      <td>Gasolina</td>\n      <td>7699</td>\n      <td>Precio negociable: si Kia Rio 2019 en camino a...</td>\n    </tr>\n    <tr>\n      <th>13</th>\n      <td>Toyota Corolla</td>\n      <td>2007</td>\n      <td>128</td>\n      <td>Gasolina</td>\n      <td>5500</td>\n      <td>DESCRIPCIÓN CALIFICACIONES SEGURIDAD Se vende ...</td>\n    </tr>\n    <tr>\n      <th>14</th>\n      <td>Kia Forte</td>\n      <td>2018</td>\n      <td>69038</td>\n      <td>Gasolina</td>\n      <td>8950</td>\n      <td>Color : negro Vendo kia forte 2018 motor 2.0 c...</td>\n    </tr>\n    <tr>\n      <th>15</th>\n      <td>Hyundai Accent</td>\n      <td>2007</td>\n      <td>155000</td>\n      <td>Gasolina</td>\n      <td>4600</td>\n      <td>Precio negociable: si Color : Gris rata DESCRI...</td>\n    </tr>\n    <tr>\n      <th>16</th>\n      <td>Hyundai Elantra</td>\n      <td>2015</td>\n      <td>150539</td>\n      <td>Gasolina</td>\n      <td>7800</td>\n      <td>Color : ROJO DESCRIPCIÓN CALIFICACIONES SEGURI...</td>\n    </tr>\n    <tr>\n      <th>17</th>\n      <td>Hyundai Accent</td>\n      <td>2014</td>\n      <td>133600</td>\n      <td>Gasolina</td>\n      <td>7300</td>\n      <td>Precio negociable: si Color : Cafe DESCRIPCIÓN...</td>\n    </tr>\n    <tr>\n      <th>18</th>\n      <td>Kia Sephia</td>\n      <td>1999</td>\n      <td>189000</td>\n      <td>Gasolina</td>\n      <td>2500</td>\n      <td>Precio negociable: si DESCRIPCIÓN CALIFICACION...</td>\n    </tr>\n    <tr>\n      <th>19</th>\n      <td>Nissan Sentra</td>\n      <td>2017</td>\n      <td>51000</td>\n      <td>Gasolina</td>\n      <td>8199</td>\n      <td>Garantía: Como es visto no hay garantía Financ...</td>\n    </tr>\n    <tr>\n      <th>20</th>\n      <td>Hyundai Elantra</td>\n      <td>2016</td>\n      <td>180000</td>\n      <td>Gasolina</td>\n      <td>7800</td>\n      <td>Color : Gris DESCRIPCIÓN CALIFICACIONES SEGURI...</td>\n    </tr>\n    <tr>\n      <th>21</th>\n      <td>Dodge DART</td>\n      <td>2013</td>\n      <td>89000</td>\n      <td>Gasolina</td>\n      <td>6200</td>\n      <td>Precio negociable: si Color : Rojo Puede verlo...</td>\n    </tr>\n    <tr>\n      <th>22</th>\n      <td>Toyota Yaris</td>\n      <td>2008</td>\n      <td>188000</td>\n      <td>Gasolina</td>\n      <td>6500</td>\n      <td>DESCRIPCIÓN CALIFICACIONES SEGURIDAD vendo toy...</td>\n    </tr>\n    <tr>\n      <th>23</th>\n      <td>Hyundai EON</td>\n      <td>2018</td>\n      <td>44400</td>\n      <td>Gasolina</td>\n      <td>8700</td>\n      <td>Garantía: Como es visto no hay garantía Financ...</td>\n    </tr>\n    <tr>\n      <th>24</th>\n      <td>Nissan Versa</td>\n      <td>2017</td>\n      <td>87948</td>\n      <td>Gasolina</td>\n      <td>6100</td>\n      <td>DESCRIPCIÓN CALIFICACIONES SEGURIDAD vehiculo ...</td>\n    </tr>\n    <tr>\n      <th>25</th>\n      <td>Mitsubishi Mirage G4</td>\n      <td>2019</td>\n      <td>72300</td>\n      <td>Gasolina</td>\n      <td>7900</td>\n      <td>Financiamiento: no Color : Gris Claro Vendo Mi...</td>\n    </tr>\n    <tr>\n      <th>26</th>\n      <td>Kia Cerato</td>\n      <td>2017</td>\n      <td>86000</td>\n      <td>Gasolina</td>\n      <td>11700</td>\n      <td>Color : Gris Kia CERATO de AGENCIA, motor 1.6 ...</td>\n    </tr>\n    <tr>\n      <th>27</th>\n      <td>Hyundai Elantra</td>\n      <td>2018</td>\n      <td>77000</td>\n      <td>Gasolina</td>\n      <td>10000</td>\n      <td>Precio negociable: si Color : AZUL 3 modos de ...</td>\n    </tr>\n    <tr>\n      <th>28</th>\n      <td>Jeep Renegade</td>\n      <td>2019</td>\n      <td>50000</td>\n      <td>Gasolina</td>\n      <td>11800</td>\n      <td>Precio negociable: si Color : Naranjado 31,000...</td>\n    </tr>\n    <tr>\n      <th>29</th>\n      <td>Nissan Versa</td>\n      <td>2014</td>\n      <td>171356</td>\n      <td>Gasolina</td>\n      <td>6700</td>\n      <td>Garantía: Como es visto no hay garantía Financ...</td>\n    </tr>\n    <tr>\n      <th>30</th>\n      <td>Chevrolet Cruze</td>\n      <td>2019</td>\n      <td>72530</td>\n      <td>Gasolina</td>\n      <td>9000</td>\n      <td>Precio negociable: si Color : Rojo Chevrolet C...</td>\n    </tr>\n    <tr>\n      <th>31</th>\n      <td>Mercedes Benz C-Class</td>\n      <td>2010</td>\n      <td>125000</td>\n      <td>Gasolina</td>\n      <td>9500</td>\n      <td>Precio negociable: si Color : Blanco Vendo Mer...</td>\n    </tr>\n    <tr>\n      <th>32</th>\n      <td>Audi A4 allroad</td>\n      <td>2010</td>\n      <td>200000</td>\n      <td>Gasolina</td>\n      <td>8500</td>\n      <td>Precio negociable: si Color : Rojo Vendo Audi ...</td>\n    </tr>\n    <tr>\n      <th>33</th>\n      <td>Hyundai Accent</td>\n      <td>2014</td>\n      <td>7300</td>\n      <td>Gasolina</td>\n      <td>7300</td>\n      <td>Precio negociable: si Color : Plateado DESCRIP...</td>\n    </tr>\n    <tr>\n      <th>34</th>\n      <td>Nissan Versa</td>\n      <td>2017</td>\n      <td>83330</td>\n      <td>Gasolina</td>\n      <td>8000</td>\n      <td>Garantía: Extensa garantía disponible. Solicit...</td>\n    </tr>\n  </tbody>\n</table>\n</div>"
     },
     "execution_count": 22,
     "metadata": {},
     "output_type": "execute_result"
    }
   ],
   "source": [
    "df_temp"
   ],
   "metadata": {
    "collapsed": false,
    "ExecuteTime": {
     "end_time": "2023-07-23T01:24:05.755546500Z",
     "start_time": "2023-07-23T01:24:05.690546900Z"
    }
   }
  }
 ],
 "metadata": {
  "kernelspec": {
   "display_name": "Python 3",
   "language": "python",
   "name": "python3"
  },
  "language_info": {
   "codemirror_mode": {
    "name": "ipython",
    "version": 2
   },
   "file_extension": ".py",
   "mimetype": "text/x-python",
   "name": "python",
   "nbconvert_exporter": "python",
   "pygments_lexer": "ipython2",
   "version": "2.7.6"
  }
 },
 "nbformat": 4,
 "nbformat_minor": 0
}
