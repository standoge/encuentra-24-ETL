{
 "cells": [
  {
   "cell_type": "markdown",
   "source": [
    "## Dependencies"
   ],
   "metadata": {
    "collapsed": false
   }
  },
  {
   "cell_type": "markdown",
   "source": [
    "---"
   ],
   "metadata": {
    "collapsed": false
   }
  },
  {
   "cell_type": "code",
   "execution_count": 34,
   "outputs": [],
   "source": [
    "import yaml\n",
    "import re\n",
    "from datetime import datetime\n",
    "import pandas as pd\n",
    "from pandas import DataFrame"
   ],
   "metadata": {
    "collapsed": false,
    "ExecuteTime": {
     "end_time": "2023-06-24T04:36:29.548888600Z",
     "start_time": "2023-06-24T04:36:29.412890200Z"
    }
   }
  },
  {
   "cell_type": "code",
   "execution_count": 35,
   "outputs": [],
   "source": [
    "from selenium import webdriver\n",
    "from selenium.webdriver.common.by import By\n",
    "from selenium.webdriver.edge.service import Service\n",
    "from webdriver_manager.microsoft import EdgeChromiumDriverManager\n",
    "from selenium.webdriver.support.ui import WebDriverWait\n",
    "from selenium.webdriver.support import expected_conditions as EC"
   ],
   "metadata": {
    "collapsed": false,
    "ExecuteTime": {
     "end_time": "2023-06-24T04:36:29.667889100Z",
     "start_time": "2023-06-24T04:36:29.428889300Z"
    }
   }
  },
  {
   "cell_type": "code",
   "execution_count": 36,
   "outputs": [],
   "source": [
    "from selenium.common.exceptions import NoSuchElementException\n",
    "from selenium.common.exceptions import TimeoutException"
   ],
   "metadata": {
    "collapsed": false,
    "ExecuteTime": {
     "end_time": "2023-06-24T04:36:29.669888900Z",
     "start_time": "2023-06-24T04:36:29.444889400Z"
    }
   }
  },
  {
   "cell_type": "code",
   "execution_count": 37,
   "outputs": [],
   "source": [
    "# edge:object = webdriver.Edge(executable_path=\"./utils/msedgedriver.exe\")\n",
    "edge = webdriver.Edge(service=Service(EdgeChromiumDriverManager().install()))\n",
    "edge.maximize_window()"
   ],
   "metadata": {
    "collapsed": false,
    "ExecuteTime": {
     "end_time": "2023-06-24T04:36:33.097433600Z",
     "start_time": "2023-06-24T04:36:29.460891400Z"
    }
   }
  },
  {
   "cell_type": "markdown",
   "source": [
    "### Functions:"
   ],
   "metadata": {
    "collapsed": false
   }
  },
  {
   "cell_type": "code",
   "execution_count": 38,
   "outputs": [],
   "source": [
    "def resources(name:str) -> dict[str:str]:\n",
    "    \"\"\"Read xpath.yml file that contains xpath's to scrape\"\"\"\n",
    "\n",
    "    with open(\"xpath.yml\", \"r\") as f:\n",
    "        content:dict[str:str] = yaml.safe_load(f)\n",
    "        return content[name]"
   ],
   "metadata": {
    "collapsed": false,
    "ExecuteTime": {
     "end_time": "2023-06-24T04:36:33.113434800Z",
     "start_time": "2023-06-24T04:36:33.100433900Z"
    }
   }
  },
  {
   "cell_type": "code",
   "execution_count": 39,
   "outputs": [],
   "source": [
    "def close_prompt(driver:object) -> None:\n",
    "    \"\"\"Close ad window\"\"\"\n",
    "\n",
    "    button:str = \"//a[@class='btn btn-subscription-light']\"\n",
    "    driver.find_element(by=By.XPATH, value=button).click()"
   ],
   "metadata": {
    "collapsed": false,
    "ExecuteTime": {
     "end_time": "2023-06-24T04:36:33.137431500Z",
     "start_time": "2023-06-24T04:36:33.115436500Z"
    }
   }
  },
  {
   "cell_type": "code",
   "execution_count": 40,
   "outputs": [],
   "source": [
    "def choose_category(category:str, driver:object) -> None:\n",
    "    \"\"\"Choose ad category\"\"\"\n",
    "\n",
    "    driver.find_element(by=By.XPATH, value=category).click()"
   ],
   "metadata": {
    "collapsed": false,
    "ExecuteTime": {
     "end_time": "2023-06-24T04:36:33.152434100Z",
     "start_time": "2023-06-24T04:36:33.130433800Z"
    }
   }
  },
  {
   "cell_type": "code",
   "execution_count": 41,
   "outputs": [],
   "source": [
    "def click_element(element:object, path:str) -> None:\n",
    "    \"\"\"Click element on the current document\"\"\"\n",
    "\n",
    "    button = element.find_element(by=By.XPATH, value=path)\n",
    "    button.click()"
   ],
   "metadata": {
    "collapsed": false,
    "ExecuteTime": {
     "end_time": "2023-06-24T04:36:33.159432900Z",
     "start_time": "2023-06-24T04:36:33.146436300Z"
    }
   }
  },
  {
   "cell_type": "code",
   "execution_count": 42,
   "outputs": [],
   "source": [
    "def extract_description(element:object, path:str) -> str:\n",
    "    \"\"\"Extract ad description on the current document\"\"\"\n",
    "\n",
    "    description:str = element.find_element(by=By.XPATH, value=path)\n",
    "    return description"
   ],
   "metadata": {
    "collapsed": false,
    "ExecuteTime": {
     "end_time": "2023-06-24T04:36:33.195432300Z",
     "start_time": "2023-06-24T04:36:33.162433800Z"
    }
   }
  },
  {
   "cell_type": "code",
   "execution_count": 43,
   "outputs": [],
   "source": [
    "def extract_feature(element:object, path:str) -> list[str]:\n",
    "    \"\"\"Extract some feature from list document based on xpath used.\"\"\"\n",
    "\n",
    "    feature = []\n",
    "\n",
    "    try:\n",
    "        feature:str = element.find_elements(by=By.XPATH, value=path)\n",
    "        feature = [data_point.text for data_point in feature]\n",
    "        return feature\n",
    "    except Exception:\n",
    "        feature.append(\"Web wasn't able to scrape the feature\")"
   ],
   "metadata": {
    "collapsed": false,
    "ExecuteTime": {
     "end_time": "2023-06-24T04:36:33.196432Z",
     "start_time": "2023-06-24T04:36:33.180435500Z"
    }
   }
  },
  {
   "cell_type": "code",
   "execution_count": 44,
   "outputs": [],
   "source": [
    "def persistence(dataframe:pd.DataFrame) -> None:\n",
    "    \"\"\"Generate .csv file from data scraped\"\"\"\n",
    "\n",
    "    file_name = datetime.today().strftime(\"%B-%d\")\n",
    "    dataframe.to_csv(f\"persistence/{file_name}.csv\", index=False)"
   ],
   "metadata": {
    "collapsed": false,
    "ExecuteTime": {
     "end_time": "2023-06-24T04:36:33.204432200Z",
     "start_time": "2023-06-24T04:36:33.192433500Z"
    }
   }
  },
  {
   "cell_type": "code",
   "execution_count": 45,
   "outputs": [],
   "source": [
    "def get_len(features:list[list[str]]) -> bool:\n",
    "    \"\"\"\n",
    "    Check if all features has the same length to create new df\n",
    "    :param features: list of features extracted with scraping\n",
    "    :return: a list with all lengths where first place is the len of the first element and the mostly accepted.\n",
    "    \"\"\"\n",
    "\n",
    "    base_len = len(features[0])\n",
    "    lengths = []\n",
    "    lengths.append(base_len)\n",
    "    for feature in features:\n",
    "        if len(feature) == base_len:\n",
    "            continue\n",
    "        else:\n",
    "             lengths.append(len(feature))\n",
    "    return lengths"
   ],
   "metadata": {
    "collapsed": false,
    "ExecuteTime": {
     "end_time": "2023-06-24T04:36:33.240432500Z",
     "start_time": "2023-06-24T04:36:33.207433500Z"
    }
   }
  },
  {
   "cell_type": "code",
   "execution_count": 46,
   "outputs": [],
   "source": [
    "def check_len(lengths:list[int]) -> bool:\n",
    "    \"\"\"\n",
    "    Check if all elements in list has the same value.\n",
    "    :param lengths: list of lengths\n",
    "    :return: a boolean\n",
    "    \"\"\"\n",
    "    for length in lengths[1:]:\n",
    "        if length != lengths[0]:\n",
    "            return False\n",
    "        return True"
   ],
   "metadata": {
    "collapsed": false,
    "ExecuteTime": {
     "end_time": "2023-06-24T04:36:33.241432200Z",
     "start_time": "2023-06-24T04:36:33.222433900Z"
    }
   }
  },
  {
   "cell_type": "markdown",
   "source": [
    "Variables pool."
   ],
   "metadata": {
    "collapsed": false
   }
  },
  {
   "cell_type": "code",
   "execution_count": 47,
   "outputs": [],
   "source": [
    "descriptions:list[str] = []\n",
    "prices:list[int] = []\n",
    "models:list[str] = []\n",
    "years:list[int] = []\n",
    "kilometers:list[int] = []\n",
    "engines:list[str] = []\n",
    "\n",
    "# seconds\n",
    "DELAY:int = 1"
   ],
   "metadata": {
    "collapsed": false,
    "ExecuteTime": {
     "end_time": "2023-06-24T04:36:33.254650100Z",
     "start_time": "2023-06-24T04:36:33.238434800Z"
    }
   }
  },
  {
   "cell_type": "code",
   "execution_count": 48,
   "outputs": [],
   "source": [
    "sedan = resources(\"cars_sedan\")"
   ],
   "metadata": {
    "collapsed": false,
    "ExecuteTime": {
     "end_time": "2023-06-24T04:36:33.263426900Z",
     "start_time": "2023-06-24T04:36:33.254650100Z"
    }
   }
  },
  {
   "cell_type": "markdown",
   "source": [
    "Get web & close initial prompt."
   ],
   "metadata": {
    "collapsed": false
   }
  },
  {
   "cell_type": "code",
   "execution_count": 49,
   "outputs": [],
   "source": [
    "edge.get(sedan[\"url\"])"
   ],
   "metadata": {
    "collapsed": false,
    "ExecuteTime": {
     "end_time": "2023-06-24T04:36:39.265742Z",
     "start_time": "2023-06-24T04:36:33.265426900Z"
    }
   }
  },
  {
   "cell_type": "code",
   "execution_count": 50,
   "outputs": [],
   "source": [
    "# close_prompt(edge)"
   ],
   "metadata": {
    "collapsed": false,
    "ExecuteTime": {
     "end_time": "2023-06-24T04:36:39.279741100Z",
     "start_time": "2023-06-24T04:36:39.266745300Z"
    }
   }
  },
  {
   "cell_type": "code",
   "execution_count": 51,
   "outputs": [],
   "source": [
    "elements = edge.find_elements(by=By.XPATH, value=sedan[\"ad\"])"
   ],
   "metadata": {
    "collapsed": false,
    "ExecuteTime": {
     "end_time": "2023-06-24T04:36:39.316741700Z",
     "start_time": "2023-06-24T04:36:39.282742600Z"
    }
   }
  },
  {
   "cell_type": "markdown",
   "source": [
    "Extract descriptions."
   ],
   "metadata": {
    "collapsed": false
   }
  },
  {
   "cell_type": "code",
   "execution_count": 52,
   "outputs": [],
   "source": [
    "elements[0].click()\n",
    "try:\n",
    "    for element in range(len(elements)):\n",
    "        dynamic_delay = WebDriverWait(edge, DELAY).until(EC.presence_of_element_located((By.XPATH, sedan[\"description\"])))\n",
    "        temp = extract_description(edge, sedan[\"description\"])\n",
    "        descriptions.append(temp.text)\n",
    "        click_element(edge, sedan[\"next\"])\n",
    "except TimeoutException as TE:\n",
    "    descriptions.append(\"Web wasn't able to scrape descriptions\")\n",
    "except NoSuchElementException as NSE:\n",
    "    click_element(edge, sedan[\"exit\"])"
   ],
   "metadata": {
    "collapsed": false,
    "ExecuteTime": {
     "end_time": "2023-06-24T04:38:47.092712400Z",
     "start_time": "2023-06-24T04:36:39.317741500Z"
    }
   }
  },
  {
   "cell_type": "markdown",
   "source": [
    "Extract prices & models."
   ],
   "metadata": {
    "collapsed": false
   }
  },
  {
   "cell_type": "code",
   "execution_count": 53,
   "outputs": [],
   "source": [
    "prices = extract_feature(edge, sedan[\"price\"])\n",
    "models = extract_feature(edge, sedan[\"model\"])"
   ],
   "metadata": {
    "collapsed": false,
    "ExecuteTime": {
     "end_time": "2023-06-24T04:38:48.139443100Z",
     "start_time": "2023-06-24T04:38:47.093712500Z"
    }
   }
  },
  {
   "cell_type": "markdown",
   "source": [
    "Extract car year, engine & kilometers."
   ],
   "metadata": {
    "collapsed": false
   }
  },
  {
   "cell_type": "code",
   "execution_count": 54,
   "outputs": [],
   "source": [
    "years = extract_feature(edge, sedan[\"year\"])\n",
    "engines = extract_feature(edge, sedan[\"engine\"])\n",
    "kilometers = extract_feature(edge, sedan[\"kilometers\"])"
   ],
   "metadata": {
    "collapsed": false,
    "ExecuteTime": {
     "end_time": "2023-06-24T04:38:49.054443800Z",
     "start_time": "2023-06-24T04:38:48.140444600Z"
    }
   }
  },
  {
   "cell_type": "code",
   "execution_count": 55,
   "outputs": [
    {
     "data": {
      "text/plain": "[40, 41, 41, 37, 39]"
     },
     "execution_count": 55,
     "metadata": {},
     "output_type": "execute_result"
    }
   ],
   "source": [
    "lengths = [prices, models, years, engines, kilometers, descriptions]\n",
    "get_len(lengths)"
   ],
   "metadata": {
    "collapsed": false,
    "ExecuteTime": {
     "end_time": "2023-06-24T04:38:49.068440800Z",
     "start_time": "2023-06-24T04:38:49.056443700Z"
    }
   }
  },
  {
   "cell_type": "markdown",
   "source": [
    "## Export"
   ],
   "metadata": {
    "collapsed": false
   }
  },
  {
   "cell_type": "markdown",
   "source": [
    "---"
   ],
   "metadata": {
    "collapsed": false
   }
  },
  {
   "cell_type": "markdown",
   "source": [
    "### Functions:"
   ],
   "metadata": {
    "collapsed": false
   }
  },
  {
   "cell_type": "code",
   "execution_count": 56,
   "outputs": [],
   "source": [
    "def parse_price(dataframe: pd.DataFrame, feature:str, pattern:str) -> None:\n",
    "    \"\"\"\n",
    "    Parse financial features like prices. Works with $#,### or $#,###\\n* pattern\n",
    "    :param dataframe: object towards apply transformation\n",
    "    :param feature: feature name towards apply transformation\n",
    "    :param pattern: feature pattern to transform\n",
    "    \"\"\"\n",
    "    dataframe[feature] = dataframe [feature] \\\n",
    "        .str.extract(pattern) \\\n",
    "        .applymap(lambda price: int(price.replace(\",\",\"\")))\n"
   ],
   "metadata": {
    "collapsed": false,
    "ExecuteTime": {
     "end_time": "2023-06-24T04:38:49.128444600Z",
     "start_time": "2023-06-24T04:38:49.072445600Z"
    }
   }
  },
  {
   "cell_type": "code",
   "execution_count": 57,
   "outputs": [],
   "source": [
    "def remove_chars(dataframe: pd.DataFrame, feature:str, wildcards:str) -> pd.Series:\n",
    "    \"\"\"\n",
    "    Remove escaped characters from features like indented large extracts of text\n",
    "    :param dataframe: object towards apply transformation\n",
    "    :param feature: feature name towards apply transformation\n",
    "    :param wildcards: escaped characters to remove\n",
    "    :return: Serie without escaped characters\n",
    "    \"\"\"\n",
    "    return (dataframe\n",
    "    .apply(\n",
    "        lambda row: row[feature]\n",
    "        ,axis = 1\n",
    "    )\n",
    "    .apply(\n",
    "        lambda extracted_f: re.sub(wildcards, r' ', extracted_f)\n",
    "    )\n",
    "    )\n"
   ],
   "metadata": {
    "collapsed": false,
    "ExecuteTime": {
     "end_time": "2023-06-24T04:38:49.156443Z",
     "start_time": "2023-06-24T04:38:49.087444Z"
    }
   }
  },
  {
   "cell_type": "code",
   "execution_count": 58,
   "outputs": [],
   "source": [
    "PRICE_RG: str = r\"^\\$(?P<prices>\\d+,\\d+)?\"\n",
    "KM_REG: str = r\"(?P<km>^\\d+)\"\n",
    "CHARACTER_RG:str = '(\\n|\\r)+'"
   ],
   "metadata": {
    "collapsed": false,
    "ExecuteTime": {
     "end_time": "2023-06-24T04:38:49.156443Z",
     "start_time": "2023-06-24T04:38:49.102443200Z"
    }
   }
  },
  {
   "cell_type": "markdown",
   "source": [
    "Remove noise from `model` and `years` lists"
   ],
   "metadata": {
    "collapsed": false
   }
  },
  {
   "cell_type": "code",
   "execution_count": 59,
   "outputs": [],
   "source": [
    "years.remove(\"Ver más\")"
   ],
   "metadata": {
    "collapsed": false,
    "ExecuteTime": {
     "end_time": "2023-06-24T04:38:49.156443Z",
     "start_time": "2023-06-24T04:38:49.116443700Z"
    }
   }
  },
  {
   "cell_type": "code",
   "execution_count": 60,
   "outputs": [],
   "source": [
    "models.remove(\"Blue Book Encuentra24\")"
   ],
   "metadata": {
    "collapsed": false,
    "ExecuteTime": {
     "end_time": "2023-06-24T04:38:49.157444500Z",
     "start_time": "2023-06-24T04:38:49.136443600Z"
    }
   }
  },
  {
   "cell_type": "code",
   "execution_count": 100,
   "outputs": [
    {
     "data": {
      "text/plain": "[40, 40, 40, 40, 40, 40]"
     },
     "execution_count": 100,
     "metadata": {},
     "output_type": "execute_result"
    }
   ],
   "source": [
    "lengths = [len(engines), len(models), len(years), len(kilometers), len(prices),len(descriptions)]\n",
    "lengths"
   ],
   "metadata": {
    "collapsed": false,
    "ExecuteTime": {
     "end_time": "2023-06-24T04:51:45.329590900Z",
     "start_time": "2023-06-24T04:51:45.316589900Z"
    }
   }
  },
  {
   "cell_type": "markdown",
   "source": [
    "Create dataframe to transform data extracted"
   ],
   "metadata": {
    "collapsed": false
   }
  },
  {
   "cell_type": "code",
   "execution_count": 112,
   "outputs": [],
   "source": [
    "if check_len(lengths):\n",
    "\n",
    "    df_temp = pd.DataFrame({\n",
    "        \"model\": models,\n",
    "        \"year\": years,\n",
    "        \"kilometers\": kilometers,\n",
    "        \"engine\": engines,\n",
    "        \"price\": prices,\n",
    "        \"description\": descriptions\n",
    "    })\n",
    "\n",
    "    # Parse features. String to number and raw string with characters to structured string.\n",
    "    parse_price(df_temp, \"price\", PRICE_RG)\n",
    "    df_temp[\"kilometers\"] = df_temp[\"kilometers\"].str.extract(KM_REG).applymap(int)\n",
    "    df_temp[\"year\"] = df_temp[\"year\"].map(int)\n",
    "    df_temp[\"description\"] = remove_chars(df_temp, \"description\", CHARACTER_RG)\n",
    "\n",
    "    persistence(df_temp)\n"
   ],
   "metadata": {
    "collapsed": false,
    "ExecuteTime": {
     "end_time": "2023-06-24T04:55:03.191032700Z",
     "start_time": "2023-06-24T04:55:03.171033500Z"
    }
   }
  },
  {
   "cell_type": "code",
   "execution_count": 113,
   "outputs": [
    {
     "data": {
      "text/plain": "                   model  year  kilometers    engine  price  \\\n0   Mitsubishi Mirage G4  2020       14445  Gasolina   7950   \n1        Hyundai Elantra  2018       77000  Gasolina  10500   \n2            Honda Civic  2017       88590  Gasolina  11500   \n3         Hyundai Accent  2019       78000  Gasolina   9800   \n4   Mitsubishi Mirage G4  2018       60000  Gasolina   8400   \n5             Kia Sephia  1999      189000  Gasolina   2500   \n6      Mitsubishi Lancer  2008      143000  Gasolina   5900   \n7              Kia Forte  2018      113000  Gasolina   9100   \n8             Dodge DART  2013       89000  Gasolina   6200   \n9                BMW 328  2009      140000  Gasolina   4249   \n10     Mitsubishi Lancer  2017       68000  Gasolina   8400   \n11        Chevrolet Trax  2021           0  Gasolina      0   \n12           Hyundai EON  2018       44400  Gasolina   8700   \n13          Nissan Versa  2017       87948  Gasolina   6100   \n14  Mitsubishi Mirage G4  2019       72300  Gasolina   7900   \n15          Toyota Yaris  2008      125000  Gasolina   7500   \n16            Kia Cerato  2017       86000  Gasolina  12200   \n17      Volkswagen Jetta  2013       25000  Gasolina   6350   \n18        Toyota Corolla  2019           0  Gasolina  14600   \n19        Toyota Corolla  2001           0  Gasolina      0   \n20       Chevrolet Sonic  2017          86  Gasolina   7200   \n21        Hyundai Accent  2016          90  Gasolina   7500   \n22        Hyundai Accent  2013      100000  Gasolina   6400   \n23         Nissan Sentra  2018      126880  Gasolina   8500   \n24           Honda Civic  2018       58266  Gasolina  12500   \n25  Mitsubishi Mirage G4  2020       69000  Gasolina   9000   \n26         Jeep Renegade  2019       48000  Gasolina  12600   \n27       Hyundai Elantra  2013       65000  Gasolina   7500   \n28               Kia RIO  2013      124000  Gasolina   7700   \n29               BMW 328  2011      165000  Gasolina   8500   \n30          Nissan Versa  2014      171356  Gasolina   6700   \n31       Hyundai Elantra  2017       57000  Gasolina  13500   \n32               BMW 328  2012       90000  Gasolina  10500   \n33          Nissan Versa  2017       86104  Gasolina   6700   \n34        Hyundai Accent  2017       96000  Gasolina   8200   \n35          Toyota Yaris  2014       58300  Gasolina  11500   \n36  Mitsubishi Mirage G4  2019       76700  Gasolina   8500   \n37        Hyundai Accent  2014        7600  Gasolina   7600   \n38          Nissan Versa  2017       83330  Gasolina   8000   \n39         Nissan Sentra  2013       74000  Gasolina   5500   \n\n                                          description  \n0   Precio negociable: si Color : AZUL 3 modos de ...  \n1   Color : Gris DESCRIPCIÓN ARTÍCULOS CALIFICACIO...  \n2   Precio negociable: si Color : Negro Hyundai Ac...  \n3   Color : Blanco Se vende Mitsubishi G4 2018. Au...  \n4   Precio negociable: si DESCRIPCIÓN CALIFICACION...  \n5   Vehiculo de agencia, un solo dueño, solo 143 m...  \n6   Garantía: Como es visto no hay garantía Financ...  \n7   Precio negociable: si Color : Rojo Puede verlo...  \n8   Financiamiento: no Precio negociable: si Color...  \n9   Color : Azul Vendo Mitsubishi Lancer 2017 Full...  \n10  Motor 1.4L TURBO Pantalla con cámara de retroc...  \n11  Garantía: Como es visto no hay garantía Financ...  \n12  DESCRIPCIÓN CALIFICACIONES SEGURIDAD vehiculo ...  \n13  Financiamiento: no Color : Gris Claro Vendo Mi...  \n14  Financiamiento: no Precio negociable: si DESCR...  \n15  Kia CERATO de Agencia, motor 1.6 super económi...  \n16  Garantía: Como es visto no hay garantía Financ...  \n17  Precio negociable: si Color : Cafe Venta de to...  \n18  DESCRIPCIÓN CALIFICACIONES SEGURIDAD Estandar ...  \n19  Color : Gris DESCRIPCIÓN ARTÍCULOS CALIFICACIO...  \n20  DESCRIPCIÓN CALIFICACIONES SEGURIDAD AC Funcio...  \n21  Precio negociable: si Color : Gris oscuro DESC...  \n22                                       Color : Gris  \n23                                      Color : Negro  \n24  Garantía: Garantía Incluida preguntar por los ...  \n25            Precio negociable: si Color : Naranjado  \n26                                     No description  \n27  Precio negociable: si Color : Gris DESCRIPCIÓN...  \n28  Precio negociable: si Color : Blanco DESCRIPCI...  \n29  Precio negociable: si Color : Blanco/Negro Se ...  \n30  Garantía: Como es visto no hay garantía Financ...  \n31  Financiamiento: no Precio negociable: si Color...  \n32  Financiamiento: no Precio negociable: si Color...  \n33  Precio negociable: si DESCRIPCIÓN CALIFICACION...  \n34  Color : Negro DESCRIPCIÓN SEGURIDAD Hyundai ac...  \n35  DESCRIPCIÓN CALIFICACIONES SEGURIDAD Vendo Car...  \n36  Precio negociable: si Mitsubishi mirage G4 201...  \n37  Precio negociable: si Color : Plateado DESCRIP...  \n38  Garantía: Extensa garantía disponible. Solicit...  \n39  Precio negociable: si Color : Gris DESCRIPCIÓN...  ",
      "text/html": "<div>\n<style scoped>\n    .dataframe tbody tr th:only-of-type {\n        vertical-align: middle;\n    }\n\n    .dataframe tbody tr th {\n        vertical-align: top;\n    }\n\n    .dataframe thead th {\n        text-align: right;\n    }\n</style>\n<table border=\"1\" class=\"dataframe\">\n  <thead>\n    <tr style=\"text-align: right;\">\n      <th></th>\n      <th>model</th>\n      <th>year</th>\n      <th>kilometers</th>\n      <th>engine</th>\n      <th>price</th>\n      <th>description</th>\n    </tr>\n  </thead>\n  <tbody>\n    <tr>\n      <th>0</th>\n      <td>Mitsubishi Mirage G4</td>\n      <td>2020</td>\n      <td>14445</td>\n      <td>Gasolina</td>\n      <td>7950</td>\n      <td>Precio negociable: si Color : AZUL 3 modos de ...</td>\n    </tr>\n    <tr>\n      <th>1</th>\n      <td>Hyundai Elantra</td>\n      <td>2018</td>\n      <td>77000</td>\n      <td>Gasolina</td>\n      <td>10500</td>\n      <td>Color : Gris DESCRIPCIÓN ARTÍCULOS CALIFICACIO...</td>\n    </tr>\n    <tr>\n      <th>2</th>\n      <td>Honda Civic</td>\n      <td>2017</td>\n      <td>88590</td>\n      <td>Gasolina</td>\n      <td>11500</td>\n      <td>Precio negociable: si Color : Negro Hyundai Ac...</td>\n    </tr>\n    <tr>\n      <th>3</th>\n      <td>Hyundai Accent</td>\n      <td>2019</td>\n      <td>78000</td>\n      <td>Gasolina</td>\n      <td>9800</td>\n      <td>Color : Blanco Se vende Mitsubishi G4 2018. Au...</td>\n    </tr>\n    <tr>\n      <th>4</th>\n      <td>Mitsubishi Mirage G4</td>\n      <td>2018</td>\n      <td>60000</td>\n      <td>Gasolina</td>\n      <td>8400</td>\n      <td>Precio negociable: si DESCRIPCIÓN CALIFICACION...</td>\n    </tr>\n    <tr>\n      <th>5</th>\n      <td>Kia Sephia</td>\n      <td>1999</td>\n      <td>189000</td>\n      <td>Gasolina</td>\n      <td>2500</td>\n      <td>Vehiculo de agencia, un solo dueño, solo 143 m...</td>\n    </tr>\n    <tr>\n      <th>6</th>\n      <td>Mitsubishi Lancer</td>\n      <td>2008</td>\n      <td>143000</td>\n      <td>Gasolina</td>\n      <td>5900</td>\n      <td>Garantía: Como es visto no hay garantía Financ...</td>\n    </tr>\n    <tr>\n      <th>7</th>\n      <td>Kia Forte</td>\n      <td>2018</td>\n      <td>113000</td>\n      <td>Gasolina</td>\n      <td>9100</td>\n      <td>Precio negociable: si Color : Rojo Puede verlo...</td>\n    </tr>\n    <tr>\n      <th>8</th>\n      <td>Dodge DART</td>\n      <td>2013</td>\n      <td>89000</td>\n      <td>Gasolina</td>\n      <td>6200</td>\n      <td>Financiamiento: no Precio negociable: si Color...</td>\n    </tr>\n    <tr>\n      <th>9</th>\n      <td>BMW 328</td>\n      <td>2009</td>\n      <td>140000</td>\n      <td>Gasolina</td>\n      <td>4249</td>\n      <td>Color : Azul Vendo Mitsubishi Lancer 2017 Full...</td>\n    </tr>\n    <tr>\n      <th>10</th>\n      <td>Mitsubishi Lancer</td>\n      <td>2017</td>\n      <td>68000</td>\n      <td>Gasolina</td>\n      <td>8400</td>\n      <td>Motor 1.4L TURBO Pantalla con cámara de retroc...</td>\n    </tr>\n    <tr>\n      <th>11</th>\n      <td>Chevrolet Trax</td>\n      <td>2021</td>\n      <td>0</td>\n      <td>Gasolina</td>\n      <td>0</td>\n      <td>Garantía: Como es visto no hay garantía Financ...</td>\n    </tr>\n    <tr>\n      <th>12</th>\n      <td>Hyundai EON</td>\n      <td>2018</td>\n      <td>44400</td>\n      <td>Gasolina</td>\n      <td>8700</td>\n      <td>DESCRIPCIÓN CALIFICACIONES SEGURIDAD vehiculo ...</td>\n    </tr>\n    <tr>\n      <th>13</th>\n      <td>Nissan Versa</td>\n      <td>2017</td>\n      <td>87948</td>\n      <td>Gasolina</td>\n      <td>6100</td>\n      <td>Financiamiento: no Color : Gris Claro Vendo Mi...</td>\n    </tr>\n    <tr>\n      <th>14</th>\n      <td>Mitsubishi Mirage G4</td>\n      <td>2019</td>\n      <td>72300</td>\n      <td>Gasolina</td>\n      <td>7900</td>\n      <td>Financiamiento: no Precio negociable: si DESCR...</td>\n    </tr>\n    <tr>\n      <th>15</th>\n      <td>Toyota Yaris</td>\n      <td>2008</td>\n      <td>125000</td>\n      <td>Gasolina</td>\n      <td>7500</td>\n      <td>Kia CERATO de Agencia, motor 1.6 super económi...</td>\n    </tr>\n    <tr>\n      <th>16</th>\n      <td>Kia Cerato</td>\n      <td>2017</td>\n      <td>86000</td>\n      <td>Gasolina</td>\n      <td>12200</td>\n      <td>Garantía: Como es visto no hay garantía Financ...</td>\n    </tr>\n    <tr>\n      <th>17</th>\n      <td>Volkswagen Jetta</td>\n      <td>2013</td>\n      <td>25000</td>\n      <td>Gasolina</td>\n      <td>6350</td>\n      <td>Precio negociable: si Color : Cafe Venta de to...</td>\n    </tr>\n    <tr>\n      <th>18</th>\n      <td>Toyota Corolla</td>\n      <td>2019</td>\n      <td>0</td>\n      <td>Gasolina</td>\n      <td>14600</td>\n      <td>DESCRIPCIÓN CALIFICACIONES SEGURIDAD Estandar ...</td>\n    </tr>\n    <tr>\n      <th>19</th>\n      <td>Toyota Corolla</td>\n      <td>2001</td>\n      <td>0</td>\n      <td>Gasolina</td>\n      <td>0</td>\n      <td>Color : Gris DESCRIPCIÓN ARTÍCULOS CALIFICACIO...</td>\n    </tr>\n    <tr>\n      <th>20</th>\n      <td>Chevrolet Sonic</td>\n      <td>2017</td>\n      <td>86</td>\n      <td>Gasolina</td>\n      <td>7200</td>\n      <td>DESCRIPCIÓN CALIFICACIONES SEGURIDAD AC Funcio...</td>\n    </tr>\n    <tr>\n      <th>21</th>\n      <td>Hyundai Accent</td>\n      <td>2016</td>\n      <td>90</td>\n      <td>Gasolina</td>\n      <td>7500</td>\n      <td>Precio negociable: si Color : Gris oscuro DESC...</td>\n    </tr>\n    <tr>\n      <th>22</th>\n      <td>Hyundai Accent</td>\n      <td>2013</td>\n      <td>100000</td>\n      <td>Gasolina</td>\n      <td>6400</td>\n      <td>Color : Gris</td>\n    </tr>\n    <tr>\n      <th>23</th>\n      <td>Nissan Sentra</td>\n      <td>2018</td>\n      <td>126880</td>\n      <td>Gasolina</td>\n      <td>8500</td>\n      <td>Color : Negro</td>\n    </tr>\n    <tr>\n      <th>24</th>\n      <td>Honda Civic</td>\n      <td>2018</td>\n      <td>58266</td>\n      <td>Gasolina</td>\n      <td>12500</td>\n      <td>Garantía: Garantía Incluida preguntar por los ...</td>\n    </tr>\n    <tr>\n      <th>25</th>\n      <td>Mitsubishi Mirage G4</td>\n      <td>2020</td>\n      <td>69000</td>\n      <td>Gasolina</td>\n      <td>9000</td>\n      <td>Precio negociable: si Color : Naranjado</td>\n    </tr>\n    <tr>\n      <th>26</th>\n      <td>Jeep Renegade</td>\n      <td>2019</td>\n      <td>48000</td>\n      <td>Gasolina</td>\n      <td>12600</td>\n      <td>No description</td>\n    </tr>\n    <tr>\n      <th>27</th>\n      <td>Hyundai Elantra</td>\n      <td>2013</td>\n      <td>65000</td>\n      <td>Gasolina</td>\n      <td>7500</td>\n      <td>Precio negociable: si Color : Gris DESCRIPCIÓN...</td>\n    </tr>\n    <tr>\n      <th>28</th>\n      <td>Kia RIO</td>\n      <td>2013</td>\n      <td>124000</td>\n      <td>Gasolina</td>\n      <td>7700</td>\n      <td>Precio negociable: si Color : Blanco DESCRIPCI...</td>\n    </tr>\n    <tr>\n      <th>29</th>\n      <td>BMW 328</td>\n      <td>2011</td>\n      <td>165000</td>\n      <td>Gasolina</td>\n      <td>8500</td>\n      <td>Precio negociable: si Color : Blanco/Negro Se ...</td>\n    </tr>\n    <tr>\n      <th>30</th>\n      <td>Nissan Versa</td>\n      <td>2014</td>\n      <td>171356</td>\n      <td>Gasolina</td>\n      <td>6700</td>\n      <td>Garantía: Como es visto no hay garantía Financ...</td>\n    </tr>\n    <tr>\n      <th>31</th>\n      <td>Hyundai Elantra</td>\n      <td>2017</td>\n      <td>57000</td>\n      <td>Gasolina</td>\n      <td>13500</td>\n      <td>Financiamiento: no Precio negociable: si Color...</td>\n    </tr>\n    <tr>\n      <th>32</th>\n      <td>BMW 328</td>\n      <td>2012</td>\n      <td>90000</td>\n      <td>Gasolina</td>\n      <td>10500</td>\n      <td>Financiamiento: no Precio negociable: si Color...</td>\n    </tr>\n    <tr>\n      <th>33</th>\n      <td>Nissan Versa</td>\n      <td>2017</td>\n      <td>86104</td>\n      <td>Gasolina</td>\n      <td>6700</td>\n      <td>Precio negociable: si DESCRIPCIÓN CALIFICACION...</td>\n    </tr>\n    <tr>\n      <th>34</th>\n      <td>Hyundai Accent</td>\n      <td>2017</td>\n      <td>96000</td>\n      <td>Gasolina</td>\n      <td>8200</td>\n      <td>Color : Negro DESCRIPCIÓN SEGURIDAD Hyundai ac...</td>\n    </tr>\n    <tr>\n      <th>35</th>\n      <td>Toyota Yaris</td>\n      <td>2014</td>\n      <td>58300</td>\n      <td>Gasolina</td>\n      <td>11500</td>\n      <td>DESCRIPCIÓN CALIFICACIONES SEGURIDAD Vendo Car...</td>\n    </tr>\n    <tr>\n      <th>36</th>\n      <td>Mitsubishi Mirage G4</td>\n      <td>2019</td>\n      <td>76700</td>\n      <td>Gasolina</td>\n      <td>8500</td>\n      <td>Precio negociable: si Mitsubishi mirage G4 201...</td>\n    </tr>\n    <tr>\n      <th>37</th>\n      <td>Hyundai Accent</td>\n      <td>2014</td>\n      <td>7600</td>\n      <td>Gasolina</td>\n      <td>7600</td>\n      <td>Precio negociable: si Color : Plateado DESCRIP...</td>\n    </tr>\n    <tr>\n      <th>38</th>\n      <td>Nissan Versa</td>\n      <td>2017</td>\n      <td>83330</td>\n      <td>Gasolina</td>\n      <td>8000</td>\n      <td>Garantía: Extensa garantía disponible. Solicit...</td>\n    </tr>\n    <tr>\n      <th>39</th>\n      <td>Nissan Sentra</td>\n      <td>2013</td>\n      <td>74000</td>\n      <td>Gasolina</td>\n      <td>5500</td>\n      <td>Precio negociable: si Color : Gris DESCRIPCIÓN...</td>\n    </tr>\n  </tbody>\n</table>\n</div>"
     },
     "execution_count": 113,
     "metadata": {},
     "output_type": "execute_result"
    }
   ],
   "source": [
    "df_temp"
   ],
   "metadata": {
    "collapsed": false,
    "ExecuteTime": {
     "end_time": "2023-06-24T04:55:14.554420100Z",
     "start_time": "2023-06-24T04:55:14.548258300Z"
    }
   }
  }
 ],
 "metadata": {
  "kernelspec": {
   "display_name": "Python 3",
   "language": "python",
   "name": "python3"
  },
  "language_info": {
   "codemirror_mode": {
    "name": "ipython",
    "version": 2
   },
   "file_extension": ".py",
   "mimetype": "text/x-python",
   "name": "python",
   "nbconvert_exporter": "python",
   "pygments_lexer": "ipython2",
   "version": "2.7.6"
  }
 },
 "nbformat": 4,
 "nbformat_minor": 0
}
