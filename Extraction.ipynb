{
 "cells": [
  {
   "cell_type": "markdown",
   "source": [
    "## Dependencies"
   ],
   "metadata": {
    "collapsed": false
   }
  },
  {
   "cell_type": "markdown",
   "source": [
    "---"
   ],
   "metadata": {
    "collapsed": false
   }
  },
  {
   "cell_type": "code",
   "execution_count": null,
   "outputs": [],
   "source": [
    "import yaml\n",
    "import re\n",
    "from datetime import datetime\n",
    "import pandas as pd"
   ],
   "metadata": {
    "collapsed": false
   }
  },
  {
   "cell_type": "code",
   "execution_count": null,
   "outputs": [],
   "source": [
    "from selenium import webdriver\n",
    "from selenium.webdriver.common.by import By\n",
    "from selenium.webdriver.edge.service import Service\n",
    "from webdriver_manager.microsoft import EdgeChromiumDriverManager\n",
    "from selenium.webdriver.support.ui import WebDriverWait\n",
    "from selenium.webdriver.support import expected_conditions as EC\n",
    "from selenium.common.exceptions import NoSuchElementException\n",
    "from selenium.common.exceptions import TimeoutException\n"
   ],
   "metadata": {
    "collapsed": false
   }
  },
  {
   "cell_type": "code",
   "execution_count": null,
   "outputs": [],
   "source": [
    "# edge:object = webdriver.Edge(executable_path=\"./utils/msedgedriver.exe\")\n",
    "edge = webdriver.Edge(service=Service(EdgeChromiumDriverManager().install()))\n",
    "edge.maximize_window()"
   ],
   "metadata": {
    "collapsed": false
   }
  },
  {
   "cell_type": "markdown",
   "source": [
    "## Extract"
   ],
   "metadata": {
    "collapsed": false
   }
  },
  {
   "cell_type": "markdown",
   "source": [
    "---"
   ],
   "metadata": {
    "collapsed": false
   }
  },
  {
   "cell_type": "markdown",
   "source": [
    "### Functions:"
   ],
   "metadata": {
    "collapsed": false
   }
  },
  {
   "cell_type": "code",
   "execution_count": null,
   "outputs": [],
   "source": [
    "def resources(name: str) -> dict[str:str]:\n",
    "    \"\"\"Read xpath.yml file that contains xpath's to scrape\"\"\"\n",
    "\n",
    "    with open(\"xpath.yml\", \"r\") as f:\n",
    "        content: dict[str:str] = yaml.safe_load(f)\n",
    "        return content[name]"
   ],
   "metadata": {
    "collapsed": false
   }
  },
  {
   "cell_type": "code",
   "execution_count": null,
   "outputs": [],
   "source": [
    "def close_prompt(driver: object) -> None:\n",
    "    \"\"\"Close ad window\"\"\"\n",
    "\n",
    "    button: str = \"//a[@class='btn btn-subscription-light']\"\n",
    "    driver.find_element(by=By.XPATH, value=button).click()"
   ],
   "metadata": {
    "collapsed": false
   }
  },
  {
   "cell_type": "code",
   "execution_count": null,
   "outputs": [],
   "source": [
    "def choose_category(category: str, driver: object) -> None:\n",
    "    \"\"\"Choose ad category\"\"\"\n",
    "\n",
    "    driver.find_element(by=By.XPATH, value=category).click()"
   ],
   "metadata": {
    "collapsed": false
   }
  },
  {
   "cell_type": "code",
   "execution_count": null,
   "outputs": [],
   "source": [
    "def click_element(element: object, path: str) -> None:\n",
    "    \"\"\"Click element on the current document\"\"\"\n",
    "\n",
    "    button = element.find_element(by=By.XPATH, value=path)\n",
    "    button.click()"
   ],
   "metadata": {
    "collapsed": false
   }
  },
  {
   "cell_type": "code",
   "execution_count": null,
   "outputs": [],
   "source": [
    "def extract_feature_in(element: object, path: str) -> str:\n",
    "    \"\"\"Extract ad feature where current browser page is in\"\"\"\n",
    "\n",
    "    feature: str = element.find_element(by=By.XPATH, value=path)\n",
    "    return feature"
   ],
   "metadata": {
    "collapsed": false
   }
  },
  {
   "cell_type": "code",
   "execution_count": null,
   "outputs": [],
   "source": [
    "def extract_feature_out(element: object, path: str) -> list[str]:\n",
    "    \"\"\"Extract ad feature from list of ads (not within the ad)\"\"\"\n",
    "\n",
    "    feature = []\n",
    "\n",
    "    try:\n",
    "        feature: str = element.find_elements(by=By.XPATH, value=path)\n",
    "        feature = [data_point.text for data_point in feature]\n",
    "        return feature\n",
    "    except Exception:\n",
    "        feature.append(\"Web wasn't able to scrape the feature\")"
   ],
   "metadata": {
    "collapsed": false
   }
  },
  {
   "cell_type": "code",
   "execution_count": null,
   "outputs": [],
   "source": [
    "def persistence(dataframe: pd.DataFrame) -> None:\n",
    "    \"\"\"Generate .csv file from data scraped\"\"\"\n",
    "\n",
    "    file_name = datetime.today().strftime(\"%B-%d\")\n",
    "    dataframe.to_csv(f\"persistence/{file_name}.csv\", index=False)"
   ],
   "metadata": {
    "collapsed": false
   }
  },
  {
   "cell_type": "code",
   "execution_count": null,
   "outputs": [],
   "source": [
    "def get_len(features: list[list[str]]) -> bool:\n",
    "    \"\"\"\n",
    "    Check if all features has the same length to create new df\n",
    "    :param features: list of features extracted with scraping\n",
    "    :return: a list with all lengths where first place is the len of the first element and the mostly accepted.\n",
    "    \"\"\"\n",
    "\n",
    "    base_len = len(features[0])\n",
    "    lengths = []\n",
    "    lengths.append(base_len)\n",
    "    for feature in features:\n",
    "        if len(feature) == base_len:\n",
    "            continue\n",
    "        else:\n",
    "            lengths.append(len(feature))\n",
    "    return lengths"
   ],
   "metadata": {
    "collapsed": false
   }
  },
  {
   "cell_type": "code",
   "execution_count": null,
   "outputs": [],
   "source": [
    "def check_len(lengths: list[int]) -> bool:\n",
    "    \"\"\"\n",
    "    Check if all elements in list has the same value.\n",
    "    :param lengths: list of lengths\n",
    "    :return: a boolean\n",
    "    \"\"\"\n",
    "    for length in lengths[1:]:\n",
    "        if length != lengths[0]:\n",
    "            return False\n",
    "        return True"
   ],
   "metadata": {
    "collapsed": false
   }
  },
  {
   "cell_type": "markdown",
   "source": [
    "Variables pool."
   ],
   "metadata": {
    "collapsed": false
   }
  },
  {
   "cell_type": "code",
   "execution_count": null,
   "outputs": [],
   "source": [
    "descriptions: list[str] = []\n",
    "prices: list[int] = []\n",
    "models: list[str] = []\n",
    "years: list[int] = []\n",
    "kilometers: list[int] = []\n",
    "engines: list[str] = []\n",
    "\n",
    "# seconds\n",
    "DELAY: int = 1\n",
    "SEDAN = resources(\"cars_sedan\")"
   ],
   "metadata": {
    "collapsed": false
   }
  },
  {
   "cell_type": "code",
   "execution_count": null,
   "outputs": [],
   "source": [
    "SEDAN[\"year\"]"
   ],
   "metadata": {
    "collapsed": false
   }
  },
  {
   "cell_type": "markdown",
   "source": [
    "Get web & close initial prompt (if is required)."
   ],
   "metadata": {
    "collapsed": false
   }
  },
  {
   "cell_type": "code",
   "execution_count": null,
   "outputs": [],
   "source": [
    "edge.get(SEDAN[\"url\"])\n",
    "# close_prompt(edge)"
   ],
   "metadata": {
    "collapsed": false
   }
  },
  {
   "cell_type": "markdown",
   "source": [
    "Extract car features."
   ],
   "metadata": {
    "collapsed": false
   }
  },
  {
   "cell_type": "code",
   "execution_count": null,
   "outputs": [],
   "source": [
    "elements = edge.find_elements(by=By.XPATH, value=SEDAN[\"ad\"])\n",
    "elements[0].click()\n",
    "\n",
    "try:\n",
    "    for element in range(len(elements)):\n",
    "        dynamic_delay = WebDriverWait(edge, DELAY).until(\n",
    "            EC.presence_of_element_located((By.XPATH, SEDAN[\"description\"])))\n",
    "\n",
    "        brand_str = extract_feature_in(edge, SEDAN[\"brand\"]).text\n",
    "        model_str = extract_feature_in(edge, SEDAN[\"model\"]).text\n",
    "        models.append(brand_str + \" \" + model_str)\n",
    "\n",
    "        descriptions.append(extract_feature_in(edge, SEDAN[\"description\"]).text)\n",
    "        prices.append(extract_feature_in(edge, SEDAN[\"price\"]).text)\n",
    "        kilometers.append(extract_feature_in(edge, SEDAN[\"kilometers\"]).text)\n",
    "        engines.append(extract_feature_in(edge, SEDAN[\"engine\"]).text)\n",
    "        years.append(extract_feature_in(edge, SEDAN[\"year\"]).text)\n",
    "\n",
    "        click_element(edge, SEDAN[\"next\"])\n",
    "except TimeoutException as TE:\n",
    "    descriptions.append(\"Web wasn't able to scrape descriptions\")\n",
    "except NoSuchElementException as NSE:\n",
    "    click_element(edge, SEDAN[\"exit\"])"
   ],
   "metadata": {
    "collapsed": false
   }
  },
  {
   "cell_type": "markdown",
   "source": [
    "## Export"
   ],
   "metadata": {
    "collapsed": false
   }
  },
  {
   "cell_type": "markdown",
   "source": [
    "---"
   ],
   "metadata": {
    "collapsed": false
   }
  },
  {
   "cell_type": "markdown",
   "source": [
    "### Functions:"
   ],
   "metadata": {
    "collapsed": false
   }
  },
  {
   "cell_type": "code",
   "execution_count": null,
   "outputs": [],
   "source": [
    "def parse_price(dataframe: pd.DataFrame, feature: str, pattern: str) -> None:\n",
    "    \"\"\"\n",
    "    Parse financial features like prices. Works with $#,### (not dot)\n",
    "    :param dataframe: object towards apply transformation\n",
    "    :param feature: feature name towards apply transformation\n",
    "    :param pattern: feature pattern to transform\n",
    "    \"\"\"\n",
    "    dataframe[feature] = dataframe[feature] \\\n",
    "        .str.extract(pattern) \\\n",
    "        .applymap(lambda price: int(price.replace(\",\", \"\")))\n"
   ],
   "metadata": {
    "collapsed": false
   }
  },
  {
   "cell_type": "code",
   "execution_count": null,
   "outputs": [],
   "source": [
    "def remove_chars(dataframe: pd.DataFrame, feature: str, wildcards: str) -> pd.Series:\n",
    "    \"\"\"\n",
    "    Remove escaped characters from features like indented large extracts of text\n",
    "    :param dataframe: object towards apply transformation\n",
    "    :param feature: feature name towards apply transformation\n",
    "    :param wildcards: escaped characters to remove\n",
    "    :return: Serie without escaped characters\n",
    "    \"\"\"\n",
    "    return (dataframe\n",
    "    .apply(\n",
    "        lambda row: row[feature]\n",
    "        , axis=1\n",
    "    )\n",
    "    .apply(\n",
    "        lambda extracted_f: re.sub(wildcards, r' ', extracted_f)\n",
    "    )\n",
    "    )\n"
   ],
   "metadata": {
    "collapsed": false
   }
  },
  {
   "cell_type": "code",
   "execution_count": null,
   "outputs": [],
   "source": [
    "PRICE_RG: str = r\"^\\$(?P<prices>\\d+,?\\d+)?\"\n",
    "KM_REG: str = r\"(?P<km>^\\d+)\"\n",
    "CHARACTER_RG: str = '(\\n|\\r)+'"
   ],
   "metadata": {
    "collapsed": false
   }
  },
  {
   "cell_type": "markdown",
   "source": [
    "Check that all features has the same length."
   ],
   "metadata": {
    "collapsed": false
   }
  },
  {
   "cell_type": "code",
   "execution_count": null,
   "outputs": [],
   "source": [
    "lengths = [len(engines), len(models), len(years), len(kilometers), len(prices), len(descriptions)]\n",
    "lengths"
   ],
   "metadata": {
    "collapsed": false
   }
  },
  {
   "cell_type": "markdown",
   "source": [
    "Create dataframe to transform data extracted"
   ],
   "metadata": {
    "collapsed": false
   }
  },
  {
   "cell_type": "code",
   "execution_count": 24,
   "outputs": [],
   "source": [
    "if check_len(lengths):\n",
    "    df_temp = pd.DataFrame({\n",
    "        \"model\": models,\n",
    "        \"year\": years,\n",
    "        \"kilometers\": kilometers,\n",
    "        \"engine\": engines,\n",
    "        \"price\": prices,\n",
    "        \"description\": descriptions\n",
    "    })\n",
    "\n",
    "    # Parse features. String to number and raw string with characters to structured string.\n",
    "    parse_price(df_temp, \"price\", PRICE_RG)\n",
    "    df_temp[\"kilometers\"] = df_temp[\"kilometers\"].str.extract(KM_REG).applymap(int)\n",
    "    df_temp[\"year\"] = df_temp[\"year\"].map(int)\n",
    "    df_temp[\"description\"] = remove_chars(df_temp, \"description\", CHARACTER_RG)\n",
    "\n",
    "    persistence(df_temp)\n"
   ],
   "metadata": {
    "collapsed": false,
    "ExecuteTime": {
     "end_time": "2023-07-14T05:04:16.195247900Z",
     "start_time": "2023-07-14T05:04:16.173249900Z"
    }
   }
  },
  {
   "cell_type": "code",
   "execution_count": 25,
   "outputs": [
    {
     "data": {
      "text/plain": "                   model  year  kilometers    engine  price  \\\n0      Mitsubishi Lancer  2017       68000  Gasolina   8400   \n1   Mitsubishi Mirage G4  2018       60000  Gasolina   8400   \n2          Nissan Altima  2005      112000  Gasolina   3800   \n3          Nissan Sentra  2015       16100  Gasolina   7200   \n4        Hyundai Elantra  2015       98000  Gasolina   9100   \n5                Kia Rio  2019      107000  Gasolina   7699   \n6         Toyota Corolla  2007         128  Gasolina   5500   \n7              Kia Forte  2018       69038  Gasolina   8950   \n8         Hyundai Accent  2007      155000  Gasolina   4600   \n9        Hyundai Elantra  2015      150365  Gasolina   7975   \n10        Hyundai Accent  2014      133600  Gasolina   7300   \n11            Kia Sephia  1999      189000  Gasolina   2500   \n12       Hyundai Elantra  2016      180000  Gasolina   7800   \n13            Dodge DART  2013       89000  Gasolina   6200   \n14          Toyota Yaris  2008      188000  Gasolina   6500   \n15           Hyundai EON  2018       44400  Gasolina   8700   \n16          Nissan Versa  2017       87948  Gasolina   6100   \n17  Mitsubishi Mirage G4  2019       72300  Gasolina   7900   \n18            Kia Cerato  2017       86000  Gasolina  11700   \n19        Toyota Corolla  2019           0  Gasolina  14600   \n20       Hyundai Elantra  2018       77000  Gasolina  10000   \n21        Toyota Corolla  2001           0  Gasolina      0   \n22       Chevrolet Sonic  2017          86  Gasolina   7200   \n23           Honda Civic  2017       88590  Gasolina  11500   \n24     Mitsubishi Lancer  2017       47250  Gasolina  13500   \n25         Nissan Sentra  2018      126880  Gasolina   8500   \n26           Honda Civic  2018       58266  Gasolina  12500   \n27  Mitsubishi Mirage G4  2020       69000  Gasolina   8500   \n28         Jeep Renegade  2019       50000  Gasolina  12000   \n29          Nissan Versa  2014      171356  Gasolina   6700   \n30        Hyundai Accent  2014        7300  Gasolina   7300   \n31          Nissan Versa  2017       83330  Gasolina   8000   \n\n                                          description  \n0   Color : Azul Vendo Mitsubishi Lancer 2017 Full...  \n1   Color : Blanco Se vende Mitsubishi G4 2018. Au...  \n2   Precio negociable: si Color : Rojo Vendo Bonit...  \n3   Precio negociable: si Color : Rojo DESCRIPCIÓN...  \n4   Financiamiento: no Precio negociable: si Color...  \n5   Precio negociable: si Kia Rio 2019 en camino a...  \n6   DESCRIPCIÓN CALIFICACIONES SEGURIDAD Se vende ...  \n7   Color : negro Vendo kia forte 2018 motor 2.0 c...  \n8   Precio negociable: si Color : Gris rata DESCRI...  \n9   Color : ROJO DESCRIPCIÓN CALIFICACIONES SEGURI...  \n10  Precio negociable: si Color : Cafe DESCRIPCIÓN...  \n11  Precio negociable: si DESCRIPCIÓN CALIFICACION...  \n12  Color : Gris DESCRIPCIÓN CALIFICACIONES SEGURI...  \n13  Precio negociable: si Color : Rojo Puede verlo...  \n14  DESCRIPCIÓN CALIFICACIONES SEGURIDAD vendo toy...  \n15  Garantía: Como es visto no hay garantía Financ...  \n16  DESCRIPCIÓN CALIFICACIONES SEGURIDAD vehiculo ...  \n17  Financiamiento: no Color : Gris Claro Vendo Mi...  \n18  Color : Gris Kia CERATO de Agencia, motor 1.6 ...  \n19  Precio negociable: si Color : Cafe Venta de to...  \n20  Precio negociable: si Color : AZUL 3 modos de ...  \n21  DESCRIPCIÓN CALIFICACIONES SEGURIDAD Estandar ...  \n22  Color : Gris DESCRIPCIÓN ARTÍCULOS CALIFICACIO...  \n23  Color : Gris DESCRIPCIÓN ARTÍCULOS CALIFICACIO...  \n24  Garantía: Como es visto no hay garantía Financ...  \n25                                       Color : Gris  \n26      Color : Negro Cualquier información llamar al  \n27  Garantía: Garantía Incluida preguntar por los ...  \n28            Precio negociable: si Color : Naranjado  \n29  Garantía: Como es visto no hay garantía Financ...  \n30  Precio negociable: si Color : Plateado DESCRIP...  \n31  Garantía: Extensa garantía disponible. Solicit...  ",
      "text/html": "<div>\n<style scoped>\n    .dataframe tbody tr th:only-of-type {\n        vertical-align: middle;\n    }\n\n    .dataframe tbody tr th {\n        vertical-align: top;\n    }\n\n    .dataframe thead th {\n        text-align: right;\n    }\n</style>\n<table border=\"1\" class=\"dataframe\">\n  <thead>\n    <tr style=\"text-align: right;\">\n      <th></th>\n      <th>model</th>\n      <th>year</th>\n      <th>kilometers</th>\n      <th>engine</th>\n      <th>price</th>\n      <th>description</th>\n    </tr>\n  </thead>\n  <tbody>\n    <tr>\n      <th>0</th>\n      <td>Mitsubishi Lancer</td>\n      <td>2017</td>\n      <td>68000</td>\n      <td>Gasolina</td>\n      <td>8400</td>\n      <td>Color : Azul Vendo Mitsubishi Lancer 2017 Full...</td>\n    </tr>\n    <tr>\n      <th>1</th>\n      <td>Mitsubishi Mirage G4</td>\n      <td>2018</td>\n      <td>60000</td>\n      <td>Gasolina</td>\n      <td>8400</td>\n      <td>Color : Blanco Se vende Mitsubishi G4 2018. Au...</td>\n    </tr>\n    <tr>\n      <th>2</th>\n      <td>Nissan Altima</td>\n      <td>2005</td>\n      <td>112000</td>\n      <td>Gasolina</td>\n      <td>3800</td>\n      <td>Precio negociable: si Color : Rojo Vendo Bonit...</td>\n    </tr>\n    <tr>\n      <th>3</th>\n      <td>Nissan Sentra</td>\n      <td>2015</td>\n      <td>16100</td>\n      <td>Gasolina</td>\n      <td>7200</td>\n      <td>Precio negociable: si Color : Rojo DESCRIPCIÓN...</td>\n    </tr>\n    <tr>\n      <th>4</th>\n      <td>Hyundai Elantra</td>\n      <td>2015</td>\n      <td>98000</td>\n      <td>Gasolina</td>\n      <td>9100</td>\n      <td>Financiamiento: no Precio negociable: si Color...</td>\n    </tr>\n    <tr>\n      <th>5</th>\n      <td>Kia Rio</td>\n      <td>2019</td>\n      <td>107000</td>\n      <td>Gasolina</td>\n      <td>7699</td>\n      <td>Precio negociable: si Kia Rio 2019 en camino a...</td>\n    </tr>\n    <tr>\n      <th>6</th>\n      <td>Toyota Corolla</td>\n      <td>2007</td>\n      <td>128</td>\n      <td>Gasolina</td>\n      <td>5500</td>\n      <td>DESCRIPCIÓN CALIFICACIONES SEGURIDAD Se vende ...</td>\n    </tr>\n    <tr>\n      <th>7</th>\n      <td>Kia Forte</td>\n      <td>2018</td>\n      <td>69038</td>\n      <td>Gasolina</td>\n      <td>8950</td>\n      <td>Color : negro Vendo kia forte 2018 motor 2.0 c...</td>\n    </tr>\n    <tr>\n      <th>8</th>\n      <td>Hyundai Accent</td>\n      <td>2007</td>\n      <td>155000</td>\n      <td>Gasolina</td>\n      <td>4600</td>\n      <td>Precio negociable: si Color : Gris rata DESCRI...</td>\n    </tr>\n    <tr>\n      <th>9</th>\n      <td>Hyundai Elantra</td>\n      <td>2015</td>\n      <td>150365</td>\n      <td>Gasolina</td>\n      <td>7975</td>\n      <td>Color : ROJO DESCRIPCIÓN CALIFICACIONES SEGURI...</td>\n    </tr>\n    <tr>\n      <th>10</th>\n      <td>Hyundai Accent</td>\n      <td>2014</td>\n      <td>133600</td>\n      <td>Gasolina</td>\n      <td>7300</td>\n      <td>Precio negociable: si Color : Cafe DESCRIPCIÓN...</td>\n    </tr>\n    <tr>\n      <th>11</th>\n      <td>Kia Sephia</td>\n      <td>1999</td>\n      <td>189000</td>\n      <td>Gasolina</td>\n      <td>2500</td>\n      <td>Precio negociable: si DESCRIPCIÓN CALIFICACION...</td>\n    </tr>\n    <tr>\n      <th>12</th>\n      <td>Hyundai Elantra</td>\n      <td>2016</td>\n      <td>180000</td>\n      <td>Gasolina</td>\n      <td>7800</td>\n      <td>Color : Gris DESCRIPCIÓN CALIFICACIONES SEGURI...</td>\n    </tr>\n    <tr>\n      <th>13</th>\n      <td>Dodge DART</td>\n      <td>2013</td>\n      <td>89000</td>\n      <td>Gasolina</td>\n      <td>6200</td>\n      <td>Precio negociable: si Color : Rojo Puede verlo...</td>\n    </tr>\n    <tr>\n      <th>14</th>\n      <td>Toyota Yaris</td>\n      <td>2008</td>\n      <td>188000</td>\n      <td>Gasolina</td>\n      <td>6500</td>\n      <td>DESCRIPCIÓN CALIFICACIONES SEGURIDAD vendo toy...</td>\n    </tr>\n    <tr>\n      <th>15</th>\n      <td>Hyundai EON</td>\n      <td>2018</td>\n      <td>44400</td>\n      <td>Gasolina</td>\n      <td>8700</td>\n      <td>Garantía: Como es visto no hay garantía Financ...</td>\n    </tr>\n    <tr>\n      <th>16</th>\n      <td>Nissan Versa</td>\n      <td>2017</td>\n      <td>87948</td>\n      <td>Gasolina</td>\n      <td>6100</td>\n      <td>DESCRIPCIÓN CALIFICACIONES SEGURIDAD vehiculo ...</td>\n    </tr>\n    <tr>\n      <th>17</th>\n      <td>Mitsubishi Mirage G4</td>\n      <td>2019</td>\n      <td>72300</td>\n      <td>Gasolina</td>\n      <td>7900</td>\n      <td>Financiamiento: no Color : Gris Claro Vendo Mi...</td>\n    </tr>\n    <tr>\n      <th>18</th>\n      <td>Kia Cerato</td>\n      <td>2017</td>\n      <td>86000</td>\n      <td>Gasolina</td>\n      <td>11700</td>\n      <td>Color : Gris Kia CERATO de Agencia, motor 1.6 ...</td>\n    </tr>\n    <tr>\n      <th>19</th>\n      <td>Toyota Corolla</td>\n      <td>2019</td>\n      <td>0</td>\n      <td>Gasolina</td>\n      <td>14600</td>\n      <td>Precio negociable: si Color : Cafe Venta de to...</td>\n    </tr>\n    <tr>\n      <th>20</th>\n      <td>Hyundai Elantra</td>\n      <td>2018</td>\n      <td>77000</td>\n      <td>Gasolina</td>\n      <td>10000</td>\n      <td>Precio negociable: si Color : AZUL 3 modos de ...</td>\n    </tr>\n    <tr>\n      <th>21</th>\n      <td>Toyota Corolla</td>\n      <td>2001</td>\n      <td>0</td>\n      <td>Gasolina</td>\n      <td>0</td>\n      <td>DESCRIPCIÓN CALIFICACIONES SEGURIDAD Estandar ...</td>\n    </tr>\n    <tr>\n      <th>22</th>\n      <td>Chevrolet Sonic</td>\n      <td>2017</td>\n      <td>86</td>\n      <td>Gasolina</td>\n      <td>7200</td>\n      <td>Color : Gris DESCRIPCIÓN ARTÍCULOS CALIFICACIO...</td>\n    </tr>\n    <tr>\n      <th>23</th>\n      <td>Honda Civic</td>\n      <td>2017</td>\n      <td>88590</td>\n      <td>Gasolina</td>\n      <td>11500</td>\n      <td>Color : Gris DESCRIPCIÓN ARTÍCULOS CALIFICACIO...</td>\n    </tr>\n    <tr>\n      <th>24</th>\n      <td>Mitsubishi Lancer</td>\n      <td>2017</td>\n      <td>47250</td>\n      <td>Gasolina</td>\n      <td>13500</td>\n      <td>Garantía: Como es visto no hay garantía Financ...</td>\n    </tr>\n    <tr>\n      <th>25</th>\n      <td>Nissan Sentra</td>\n      <td>2018</td>\n      <td>126880</td>\n      <td>Gasolina</td>\n      <td>8500</td>\n      <td>Color : Gris</td>\n    </tr>\n    <tr>\n      <th>26</th>\n      <td>Honda Civic</td>\n      <td>2018</td>\n      <td>58266</td>\n      <td>Gasolina</td>\n      <td>12500</td>\n      <td>Color : Negro Cualquier información llamar al</td>\n    </tr>\n    <tr>\n      <th>27</th>\n      <td>Mitsubishi Mirage G4</td>\n      <td>2020</td>\n      <td>69000</td>\n      <td>Gasolina</td>\n      <td>8500</td>\n      <td>Garantía: Garantía Incluida preguntar por los ...</td>\n    </tr>\n    <tr>\n      <th>28</th>\n      <td>Jeep Renegade</td>\n      <td>2019</td>\n      <td>50000</td>\n      <td>Gasolina</td>\n      <td>12000</td>\n      <td>Precio negociable: si Color : Naranjado</td>\n    </tr>\n    <tr>\n      <th>29</th>\n      <td>Nissan Versa</td>\n      <td>2014</td>\n      <td>171356</td>\n      <td>Gasolina</td>\n      <td>6700</td>\n      <td>Garantía: Como es visto no hay garantía Financ...</td>\n    </tr>\n    <tr>\n      <th>30</th>\n      <td>Hyundai Accent</td>\n      <td>2014</td>\n      <td>7300</td>\n      <td>Gasolina</td>\n      <td>7300</td>\n      <td>Precio negociable: si Color : Plateado DESCRIP...</td>\n    </tr>\n    <tr>\n      <th>31</th>\n      <td>Nissan Versa</td>\n      <td>2017</td>\n      <td>83330</td>\n      <td>Gasolina</td>\n      <td>8000</td>\n      <td>Garantía: Extensa garantía disponible. Solicit...</td>\n    </tr>\n  </tbody>\n</table>\n</div>"
     },
     "execution_count": 25,
     "metadata": {},
     "output_type": "execute_result"
    }
   ],
   "source": [
    "df_temp"
   ],
   "metadata": {
    "collapsed": false,
    "ExecuteTime": {
     "end_time": "2023-07-14T05:04:17.983489600Z",
     "start_time": "2023-07-14T05:04:17.966489Z"
    }
   }
  }
 ],
 "metadata": {
  "kernelspec": {
   "display_name": "Python 3",
   "language": "python",
   "name": "python3"
  },
  "language_info": {
   "codemirror_mode": {
    "name": "ipython",
    "version": 2
   },
   "file_extension": ".py",
   "mimetype": "text/x-python",
   "name": "python",
   "nbconvert_exporter": "python",
   "pygments_lexer": "ipython2",
   "version": "2.7.6"
  }
 },
 "nbformat": 4,
 "nbformat_minor": 0
}
