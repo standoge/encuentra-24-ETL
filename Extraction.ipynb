{
 "cells": [
  {
   "cell_type": "markdown",
   "source": [
    "## Dependencies"
   ],
   "metadata": {
    "collapsed": false
   }
  },
  {
   "cell_type": "markdown",
   "source": [
    "---"
   ],
   "metadata": {
    "collapsed": false
   }
  },
  {
   "cell_type": "code",
   "execution_count": 1,
   "outputs": [],
   "source": [
    "import yaml\n",
    "import re\n",
    "from datetime import datetime\n",
    "import pandas as pd\n",
    "from pandas import DataFrame"
   ],
   "metadata": {
    "collapsed": false,
    "ExecuteTime": {
     "end_time": "2023-05-20T02:39:20.696475500Z",
     "start_time": "2023-05-20T02:39:19.247469400Z"
    }
   }
  },
  {
   "cell_type": "code",
   "execution_count": 2,
   "outputs": [],
   "source": [
    "from selenium import webdriver\n",
    "from selenium.webdriver.common.by import By\n",
    "from selenium.webdriver.edge.service import Service\n",
    "from webdriver_manager.microsoft import EdgeChromiumDriverManager\n",
    "from selenium.webdriver.support.ui import WebDriverWait\n",
    "from selenium.webdriver.support import expected_conditions as EC"
   ],
   "metadata": {
    "collapsed": false,
    "ExecuteTime": {
     "end_time": "2023-05-20T02:39:21.383469400Z",
     "start_time": "2023-05-20T02:39:20.700475900Z"
    }
   }
  },
  {
   "cell_type": "code",
   "execution_count": 3,
   "outputs": [],
   "source": [
    "from selenium.common.exceptions import NoSuchElementException\n",
    "from selenium.common.exceptions import TimeoutException"
   ],
   "metadata": {
    "collapsed": false,
    "ExecuteTime": {
     "end_time": "2023-05-20T02:39:21.400469Z",
     "start_time": "2023-05-20T02:39:21.385475700Z"
    }
   }
  },
  {
   "cell_type": "code",
   "execution_count": 4,
   "outputs": [
    {
     "name": "stderr",
     "output_type": "stream",
     "text": [
      "[WDM] - Downloading: 100%|██████████| 8.22M/8.22M [00:01<00:00, 4.91MB/s]\n"
     ]
    }
   ],
   "source": [
    "# edge:object = webdriver.Edge(executable_path=\"./utils/msedgedriver.exe\")\n",
    "edge = webdriver.Edge(service=Service(EdgeChromiumDriverManager().install()))\n",
    "edge.maximize_window()"
   ],
   "metadata": {
    "collapsed": false,
    "ExecuteTime": {
     "end_time": "2023-05-20T02:39:28.495147800Z",
     "start_time": "2023-05-20T02:39:21.404472600Z"
    }
   }
  },
  {
   "cell_type": "markdown",
   "source": [
    "### Functions:"
   ],
   "metadata": {
    "collapsed": false
   }
  },
  {
   "cell_type": "code",
   "execution_count": 5,
   "outputs": [],
   "source": [
    "def resources(name:str) -> dict[str:str]:\n",
    "    \"\"\"Read xpath.yml file that contains xpath's to scrape\"\"\"\n",
    "\n",
    "    with open(\"xpath.yml\", \"r\") as f:\n",
    "        content:dict[str:str] = yaml.safe_load(f)\n",
    "        return content[name]"
   ],
   "metadata": {
    "collapsed": false,
    "ExecuteTime": {
     "end_time": "2023-05-20T02:39:28.590148800Z",
     "start_time": "2023-05-20T02:39:28.507149400Z"
    }
   }
  },
  {
   "cell_type": "code",
   "execution_count": 6,
   "outputs": [],
   "source": [
    "def close_prompt(driver:object) -> None:\n",
    "    \"\"\"Close ad window\"\"\"\n",
    "\n",
    "    button:str = \"//a[@class='btn btn-subscription-light']\"\n",
    "    driver.find_element(by=By.XPATH, value=button).click()"
   ],
   "metadata": {
    "collapsed": false,
    "ExecuteTime": {
     "end_time": "2023-05-20T02:39:28.591150600Z",
     "start_time": "2023-05-20T02:39:28.539153900Z"
    }
   }
  },
  {
   "cell_type": "code",
   "execution_count": 7,
   "outputs": [],
   "source": [
    "def choose_category(category:str, driver:object) -> None:\n",
    "    \"\"\"Choose ad category\"\"\"\n",
    "\n",
    "    driver.find_element(by=By.XPATH, value=category).click()"
   ],
   "metadata": {
    "collapsed": false,
    "ExecuteTime": {
     "end_time": "2023-05-20T02:39:28.592148700Z",
     "start_time": "2023-05-20T02:39:28.565147900Z"
    }
   }
  },
  {
   "cell_type": "code",
   "execution_count": 8,
   "outputs": [],
   "source": [
    "def click_element(element:object, path:str) -> None:\n",
    "    \"\"\"Click element on the current document\"\"\"\n",
    "\n",
    "    button = element.find_element(by=By.XPATH, value=path)\n",
    "    button.click()"
   ],
   "metadata": {
    "collapsed": false,
    "ExecuteTime": {
     "end_time": "2023-05-20T02:39:28.592148700Z",
     "start_time": "2023-05-20T02:39:28.577149500Z"
    }
   }
  },
  {
   "cell_type": "code",
   "execution_count": 9,
   "outputs": [],
   "source": [
    "def extract_description(element:object, path:str) -> str:\n",
    "    \"\"\"Extract ad description on the current document\"\"\"\n",
    "\n",
    "    description:str = element.find_element(by=By.XPATH, value=path)\n",
    "    return description"
   ],
   "metadata": {
    "collapsed": false,
    "ExecuteTime": {
     "end_time": "2023-05-20T02:39:28.632153300Z",
     "start_time": "2023-05-20T02:39:28.593151200Z"
    }
   }
  },
  {
   "cell_type": "code",
   "execution_count": 10,
   "outputs": [],
   "source": [
    "def extract_feature(element:object, path:str) -> list[str]:\n",
    "    \"\"\"Extract some feature from list document based on xpath used.\"\"\"\n",
    "\n",
    "    feature = []\n",
    "\n",
    "    try:\n",
    "        feature:str = element.find_elements(by=By.XPATH, value=path)\n",
    "        feature = [data_point.text for data_point in feature]\n",
    "        return feature\n",
    "    except Exception:\n",
    "        feature.append(\"Web wasn't able to scrape the feature\")"
   ],
   "metadata": {
    "collapsed": false,
    "ExecuteTime": {
     "end_time": "2023-05-20T02:39:28.690148200Z",
     "start_time": "2023-05-20T02:39:28.616149Z"
    }
   }
  },
  {
   "cell_type": "code",
   "execution_count": 11,
   "outputs": [],
   "source": [
    "def persistence(dataframe:pd.DataFrame) -> None:\n",
    "    \"\"\"Generate .csv file from data scraped\"\"\"\n",
    "\n",
    "    file_name = datetime.today().strftime(\"%B-%d\")\n",
    "    dataframe.to_csv(f\"persistence/{file_name}.csv\", index=False)"
   ],
   "metadata": {
    "collapsed": false,
    "ExecuteTime": {
     "end_time": "2023-05-20T02:39:28.690148200Z",
     "start_time": "2023-05-20T02:39:28.640150Z"
    }
   }
  },
  {
   "cell_type": "code",
   "execution_count": 12,
   "outputs": [],
   "source": [
    "def get_len(features:list[list[str]]) -> bool:\n",
    "    \"\"\"\n",
    "    Check if all features has the same length to create new df\n",
    "    :param features: list of features extracted with scraping\n",
    "    :return: a list with all lengths where first place is the len of the first element and the mostly accepted.\n",
    "    \"\"\"\n",
    "\n",
    "    base_len = len(features[0])\n",
    "    lengths = []\n",
    "    lengths.append(base_len)\n",
    "    for feature in features:\n",
    "        if len(feature) == base_len:\n",
    "            continue\n",
    "        else:\n",
    "             lengths.append(len(feature))\n",
    "    return lengths"
   ],
   "metadata": {
    "collapsed": false,
    "ExecuteTime": {
     "end_time": "2023-05-20T02:39:28.691151700Z",
     "start_time": "2023-05-20T02:39:28.655154400Z"
    }
   }
  },
  {
   "cell_type": "code",
   "execution_count": 13,
   "outputs": [],
   "source": [
    "def check_len(lengths:list[int]) -> bool:\n",
    "    \"\"\"\n",
    "    Check if all elements in list has the same value.\n",
    "    :param lengths: list of lengths\n",
    "    :return: a boolean\n",
    "    \"\"\"\n",
    "    for length in lengths[1:]:\n",
    "        if length != lengths[0]:\n",
    "            return False\n",
    "        return True"
   ],
   "metadata": {
    "collapsed": false,
    "ExecuteTime": {
     "end_time": "2023-05-20T02:39:28.691151700Z",
     "start_time": "2023-05-20T02:39:28.671151500Z"
    }
   }
  },
  {
   "cell_type": "markdown",
   "source": [
    "Variables pool."
   ],
   "metadata": {
    "collapsed": false
   }
  },
  {
   "cell_type": "code",
   "execution_count": 14,
   "outputs": [],
   "source": [
    "descriptions:list[str] = []\n",
    "prices:list[int] = []\n",
    "models:list[str] = []\n",
    "years:list[int] = []\n",
    "kilometers:list[int] = []\n",
    "engines:list[str] = []\n",
    "\n",
    "# seconds\n",
    "DELAY:int = 1"
   ],
   "metadata": {
    "collapsed": false,
    "ExecuteTime": {
     "end_time": "2023-05-20T02:39:28.725148600Z",
     "start_time": "2023-05-20T02:39:28.687152500Z"
    }
   }
  },
  {
   "cell_type": "code",
   "execution_count": 15,
   "outputs": [],
   "source": [
    "sedan = resources(\"cars_sedan\")"
   ],
   "metadata": {
    "collapsed": false,
    "ExecuteTime": {
     "end_time": "2023-05-20T02:39:28.807148500Z",
     "start_time": "2023-05-20T02:39:28.699150500Z"
    }
   }
  },
  {
   "cell_type": "markdown",
   "source": [
    "Get web & close initial prompt."
   ],
   "metadata": {
    "collapsed": false
   }
  },
  {
   "cell_type": "code",
   "execution_count": 16,
   "outputs": [],
   "source": [
    "edge.get(sedan[\"url\"])"
   ],
   "metadata": {
    "collapsed": false,
    "ExecuteTime": {
     "end_time": "2023-05-20T02:40:11.089667100Z",
     "start_time": "2023-05-20T02:39:28.733154100Z"
    }
   }
  },
  {
   "cell_type": "code",
   "execution_count": 17,
   "outputs": [],
   "source": [
    "# close_prompt(edge)"
   ],
   "metadata": {
    "collapsed": false,
    "ExecuteTime": {
     "end_time": "2023-05-20T02:40:11.105665600Z",
     "start_time": "2023-05-20T02:40:11.092664300Z"
    }
   }
  },
  {
   "cell_type": "code",
   "execution_count": 18,
   "outputs": [],
   "source": [
    "elements = edge.find_elements(by=By.XPATH, value=sedan[\"ad\"])"
   ],
   "metadata": {
    "collapsed": false,
    "ExecuteTime": {
     "end_time": "2023-05-20T02:40:11.171664100Z",
     "start_time": "2023-05-20T02:40:11.112665700Z"
    }
   }
  },
  {
   "cell_type": "markdown",
   "source": [
    "Extract descriptions."
   ],
   "metadata": {
    "collapsed": false
   }
  },
  {
   "cell_type": "code",
   "execution_count": 19,
   "outputs": [],
   "source": [
    "elements[0].click()\n",
    "try:\n",
    "    for element in range(len(elements)):\n",
    "        dynamic_delay = WebDriverWait(edge, DELAY).until(EC.presence_of_element_located((By.XPATH, sedan[\"description\"])))\n",
    "        temp = extract_description(edge, sedan[\"description\"])\n",
    "        descriptions.append(temp.text)\n",
    "        click_element(edge, sedan[\"next\"])\n",
    "except TimeoutException as TE:\n",
    "    descriptions.append(\"Web wasn't able to scrape descriptions\")\n",
    "except NoSuchElementException as NSE:\n",
    "    click_element(edge, sedan[\"exit\"])"
   ],
   "metadata": {
    "collapsed": false,
    "ExecuteTime": {
     "end_time": "2023-05-20T02:42:38.618812700Z",
     "start_time": "2023-05-20T02:40:11.158664100Z"
    }
   }
  },
  {
   "cell_type": "markdown",
   "source": [
    "Extract prices & models."
   ],
   "metadata": {
    "collapsed": false
   }
  },
  {
   "cell_type": "code",
   "execution_count": 20,
   "outputs": [],
   "source": [
    "prices = extract_feature(edge, sedan[\"price\"])\n",
    "models = extract_feature(edge, sedan[\"model\"])"
   ],
   "metadata": {
    "collapsed": false,
    "ExecuteTime": {
     "end_time": "2023-05-20T02:42:39.557843400Z",
     "start_time": "2023-05-20T02:42:38.624812700Z"
    }
   }
  },
  {
   "cell_type": "markdown",
   "source": [
    "Extract car year, engine & kilometers."
   ],
   "metadata": {
    "collapsed": false
   }
  },
  {
   "cell_type": "code",
   "execution_count": 21,
   "outputs": [],
   "source": [
    "years = extract_feature(edge, sedan[\"year\"])\n",
    "engines = extract_feature(edge, sedan[\"engine\"])\n",
    "kilometers = extract_feature(edge, sedan[\"kilometers\"])"
   ],
   "metadata": {
    "collapsed": false,
    "ExecuteTime": {
     "end_time": "2023-05-20T02:42:40.972843600Z",
     "start_time": "2023-05-20T02:42:39.560844200Z"
    }
   }
  },
  {
   "cell_type": "code",
   "execution_count": 22,
   "outputs": [
    {
     "data": {
      "text/plain": "[40, 41, 41, 37]"
     },
     "execution_count": 22,
     "metadata": {},
     "output_type": "execute_result"
    }
   ],
   "source": [
    "lengths = [prices, models, years, engines, kilometers, descriptions]\n",
    "get_len(lengths)"
   ],
   "metadata": {
    "collapsed": false,
    "ExecuteTime": {
     "end_time": "2023-05-20T02:42:40.990845600Z",
     "start_time": "2023-05-20T02:42:40.976843800Z"
    }
   }
  },
  {
   "cell_type": "code",
   "execution_count": 42,
   "outputs": [
    {
     "data": {
      "text/plain": "'Gasolina'"
     },
     "execution_count": 42,
     "metadata": {},
     "output_type": "execute_result"
    }
   ],
   "source": [
    "kilometers.pop(35)"
   ],
   "metadata": {
    "collapsed": false,
    "ExecuteTime": {
     "end_time": "2023-05-20T02:48:11.106912800Z",
     "start_time": "2023-05-20T02:48:11.081917800Z"
    }
   }
  },
  {
   "cell_type": "code",
   "execution_count": 43,
   "outputs": [
    {
     "ename": "ValueError",
     "evalue": "'Gasolina' is not in list",
     "output_type": "error",
     "traceback": [
      "\u001B[1;31m---------------------------------------------------------------------------\u001B[0m",
      "\u001B[1;31mValueError\u001B[0m                                Traceback (most recent call last)",
      "Cell \u001B[1;32mIn[43], line 1\u001B[0m\n\u001B[1;32m----> 1\u001B[0m \u001B[43mkilometers\u001B[49m\u001B[38;5;241;43m.\u001B[39;49m\u001B[43mindex\u001B[49m\u001B[43m(\u001B[49m\u001B[38;5;124;43m\"\u001B[39;49m\u001B[38;5;124;43mGasolina\u001B[39;49m\u001B[38;5;124;43m\"\u001B[39;49m\u001B[43m)\u001B[49m\n",
      "\u001B[1;31mValueError\u001B[0m: 'Gasolina' is not in list"
     ]
    }
   ],
   "source": [
    "kilometers.index(\"Gasolina\")"
   ],
   "metadata": {
    "collapsed": false,
    "ExecuteTime": {
     "end_time": "2023-05-20T02:48:12.980256800Z",
     "start_time": "2023-05-20T02:48:12.935254700Z"
    }
   }
  },
  {
   "cell_type": "code",
   "execution_count": 41,
   "outputs": [],
   "source": [
    "kilometers.insert(34, \"0 km\")"
   ],
   "metadata": {
    "collapsed": false,
    "ExecuteTime": {
     "end_time": "2023-05-20T02:48:03.126278900Z",
     "start_time": "2023-05-20T02:48:03.094282800Z"
    }
   }
  },
  {
   "cell_type": "markdown",
   "source": [
    "## Export"
   ],
   "metadata": {
    "collapsed": false
   }
  },
  {
   "cell_type": "markdown",
   "source": [
    "---"
   ],
   "metadata": {
    "collapsed": false
   }
  },
  {
   "cell_type": "markdown",
   "source": [
    "### Functions:"
   ],
   "metadata": {
    "collapsed": false
   }
  },
  {
   "cell_type": "code",
   "execution_count": 23,
   "outputs": [],
   "source": [
    "def parse_price(dataframe: pd.DataFrame, feature:str, pattern:str) -> None:\n",
    "    \"\"\"\n",
    "    Parse financial features like prices. Works with $#,### or $#,###\\n* pattern\n",
    "    :param dataframe: object towards apply transformation\n",
    "    :param feature: feature name towards apply transformation\n",
    "    :param pattern: feature pattern to transform\n",
    "    \"\"\"\n",
    "    dataframe[feature] = dataframe [feature] \\\n",
    "        .str.extract(pattern) \\\n",
    "        .applymap(lambda price: int(price.replace(\",\",\"\")))\n"
   ],
   "metadata": {
    "collapsed": false,
    "ExecuteTime": {
     "end_time": "2023-05-20T02:42:41.076843400Z",
     "start_time": "2023-05-20T02:42:40.992843400Z"
    }
   }
  },
  {
   "cell_type": "code",
   "execution_count": 24,
   "outputs": [],
   "source": [
    "def remove_chars(dataframe: pd.DataFrame, feature:str, wildcards:str) -> pd.Series:\n",
    "    \"\"\"\n",
    "    Remove escaped characters from features like indented large extracts of text\n",
    "    :param dataframe: object towards apply transformation\n",
    "    :param feature: feature name towards apply transformation\n",
    "    :param wildcards: escaped characters to remove\n",
    "    :return: Serie without escaped characters\n",
    "    \"\"\"\n",
    "    return (dataframe\n",
    "    .apply(\n",
    "        lambda row: row[feature]\n",
    "        ,axis = 1\n",
    "    )\n",
    "    .apply(\n",
    "        lambda extracted_f: re.sub(wildcards, r' ', extracted_f)\n",
    "    )\n",
    "    )\n"
   ],
   "metadata": {
    "collapsed": false,
    "ExecuteTime": {
     "end_time": "2023-05-20T02:42:41.091841700Z",
     "start_time": "2023-05-20T02:42:41.005843100Z"
    }
   }
  },
  {
   "cell_type": "code",
   "execution_count": 25,
   "outputs": [],
   "source": [
    "PRICE_RG: str = r\"^\\$(?P<prices>\\d+,\\d+)?\"\n",
    "KM_REG: str = r\"(?P<km>^\\d+)\"\n",
    "CHARACTER_RG:str = '(\\n|\\r)+'"
   ],
   "metadata": {
    "collapsed": false,
    "ExecuteTime": {
     "end_time": "2023-05-20T02:42:41.092848400Z",
     "start_time": "2023-05-20T02:42:41.022845300Z"
    }
   }
  },
  {
   "cell_type": "markdown",
   "source": [
    "Remove noise from `model` and `years` lists"
   ],
   "metadata": {
    "collapsed": false
   }
  },
  {
   "cell_type": "code",
   "execution_count": 26,
   "outputs": [],
   "source": [
    "years.remove(\"Ver más\")"
   ],
   "metadata": {
    "collapsed": false,
    "ExecuteTime": {
     "end_time": "2023-05-20T02:42:41.093848500Z",
     "start_time": "2023-05-20T02:42:41.038842600Z"
    }
   }
  },
  {
   "cell_type": "code",
   "execution_count": 27,
   "outputs": [],
   "source": [
    "models.remove(\"Blue Book Encuentra24\")"
   ],
   "metadata": {
    "collapsed": false,
    "ExecuteTime": {
     "end_time": "2023-05-20T02:42:41.093848500Z",
     "start_time": "2023-05-20T02:42:41.054843800Z"
    }
   }
  },
  {
   "cell_type": "code",
   "execution_count": 44,
   "outputs": [
    {
     "data": {
      "text/plain": "[40, 40, 40, 40, 40, 40]"
     },
     "execution_count": 44,
     "metadata": {},
     "output_type": "execute_result"
    }
   ],
   "source": [
    "lengths = [len(engines), len(models), len(years), len(kilometers), len(prices),len(descriptions)]\n",
    "lengths"
   ],
   "metadata": {
    "collapsed": false,
    "ExecuteTime": {
     "end_time": "2023-05-20T02:48:43.856798900Z",
     "start_time": "2023-05-20T02:48:43.832802500Z"
    }
   }
  },
  {
   "cell_type": "markdown",
   "source": [
    "Create dataframe to transform data extracted"
   ],
   "metadata": {
    "collapsed": false
   }
  },
  {
   "cell_type": "code",
   "execution_count": 45,
   "outputs": [],
   "source": [
    "if check_len(lengths):\n",
    "\n",
    "    df_temp = pd.DataFrame({\n",
    "        \"model\": models,\n",
    "        \"year\": years,\n",
    "        \"kilometers\": kilometers,\n",
    "        \"engine\": engines,\n",
    "        \"price\": prices,\n",
    "        \"description\": descriptions\n",
    "    })\n",
    "\n",
    "    # Parse features. String to number and raw string with characters to structured string.\n",
    "    parse_price(df_temp, \"price\", PRICE_RG)\n",
    "    df_temp[\"kilometers\"] = df_temp[\"kilometers\"].str.extract(KM_REG).applymap(int)\n",
    "    df_temp[\"year\"] = df_temp[\"year\"].map(int)\n",
    "    df_temp[\"description\"] = remove_chars(df_temp, \"description\", CHARACTER_RG)\n",
    "\n",
    "    persistence(df_temp)\n"
   ],
   "metadata": {
    "collapsed": false,
    "ExecuteTime": {
     "end_time": "2023-05-20T02:48:45.490655100Z",
     "start_time": "2023-05-20T02:48:45.409652500Z"
    }
   }
  },
  {
   "cell_type": "code",
   "execution_count": 46,
   "outputs": [
    {
     "data": {
      "text/plain": "                    model  year  kilometers    engine  price  \\\n0            Nissan Versa  2017       78000  Gasolina   7100   \n1         Hyundai Elantra  2000      204000  Gasolina   2450   \n2                 Kia Rio  2016         130  Gasolina   7500   \n3            Nissan Versa  2016       99000  Gasolina   6800   \n4         Chevrolet Spark  2020       83903  Gasolina   7350   \n5                 BMW 328  2012       90000  Gasolina  10500   \n6               Kia Forte  2015       72000  Gasolina   7750   \n7            Nissan Versa  2017       86104  Gasolina   7000   \n8          Hyundai Accent  2017       96000  Gasolina   8200   \n9             Honda Civic  2010      208355  Gasolina   6600   \n10                Kia Rio  2009      177700  Gasolina   5200   \n11           Nissan Versa  2016       50000  Gasolina   8500   \n12            Hyundai i20  2012      242000  Gasolina   6300   \n13  Mercedes Benz C-Class  2010      125000  Gasolina   9500   \n14        Audi A4 allroad  2010      200000  Gasolina   8500   \n15                BMW 328  2014         200  Gasolina  13500   \n16          Nissan ALTIMA  2013       18690  Gasolina   6500   \n17         Toyota Corolla  2015       59200  Gasolina  10350   \n18            Kia Spectra  2007      173700  Gasolina   4600   \n19     Hyundai Elantra GT  2005   238979537  Gasolina   4500   \n20               Kia SOUL  2016      105445  Gasolina   8800   \n21         Toyota Corolla  1995           0  Gasolina   2700   \n22       Chevrolet Malibu  2014      123000  Gasolina   7800   \n23           Nissan Versa  2017       52892  Gasolina   7500   \n24          Nissan Sentra  2018       55000  Gasolina   8600   \n25                Mazda 3  2010      157255  Gasolina   5800   \n26              Kia Forte  2020       15100  Gasolina  11700   \n27        Chevrolet Celta  2003           0  Gasolina   3500   \n28          Nissan Sentra  2015       89300  Gasolina   7600   \n29           Suzuki Aerio  2003      150000  Gasolina   3000   \n30          Nissan ALTIMA  2013      110065  Gasolina   6500   \n31          Nissan Sentra  2018       58000  Gasolina   8200   \n32           Toyota Yaris  2014       58300  Gasolina  11500   \n33   Mitsubishi Mirage G4  2019       76700  Gasolina   8500   \n34          Nissan Sentra  2002           0  Gasolina   4500   \n35         Hyundai Accent  2014        7600  Gasolina   7600   \n36             Dodge DART  2013       88000  Gasolina   6400   \n37           Nissan Versa  2017       83330  Gasolina   7500   \n38        Hyundai Elantra  2018       41200  Gasolina  10950   \n39       Chevrolet Malibu  2014      122800  Gasolina   7800   \n\n                                          description  \n0   Color : Azul DESCRIPCIÓN CALIFICACIONES SEGURI...  \n1   Garantía: Como es visto no hay garantía Financ...  \n2   Precio negociable: si Color : Cafe DESCRIPCIÓN...  \n3   Precio negociable: si Color : Negro DESCRIPCIÓ...  \n4   Garantía: Como es visto no hay garantía Financ...  \n5   Financiamiento: no Precio negociable: si Color...  \n6   Garantía: Como es visto no hay garantía Financ...  \n7   Precio negociable: si DESCRIPCIÓN CALIFICACION...  \n8   Color : Negro DESCRIPCIÓN SEGURIDAD Hyundai ac...  \n9   Color : Negro DESCRIPCIÓN CALIFICACIONES SEGUR...  \n10  Precio negociable: si Color : Negro DESCRIPCIÓ...  \n11  DESCRIPCIÓN CALIFICACIONES SEGURIDAD Vendo Nis...  \n12  Precio negociable: si Color : Azul Hiunday i20...  \n13  Precio negociable: si Color : Blanco Vendo Mer...  \n14  Precio negociable: si Color : Rojo Vendo Audi ...  \n15  Financiamiento: no Color : Negro BMW 328 I Año...  \n16  Garantía: Como es visto no hay garantía Financ...  \n17  Garantía: Como es visto no hay garantía Precio...  \n18  Precio negociable: no DESCRIPCIÓN CALIFICACION...  \n19  Garantía: Como es visto no hay garantía Precio...  \n20  Precio negociable: si Color : Verde DESCRIPCIÓ...  \n21  Precio negociable: si Color : Dorado DESCRIPCI...  \n22  Color : Gris DESCRIPCIÓN ARTÍCULOS CALIFICACIO...  \n23  Financiamiento: no Precio negociable: si Color...  \n24  Financiamiento: si Precio negociable: si Color...  \n25  Financiamiento: no Precio negociable: si Color...  \n26  KIA FORTE 2020 FE 2.0. VIN 3KPF24AD1LE,100 MIL...  \n27  Precio negociable: si Color : Rojo Vendo Chevr...  \n28  Garantía: Como es visto no hay garantía Color ...  \n29  Precio negociable: si Color : Gris DESCRIPCIÓN...  \n30  Color : GRIS Nissan Altima 2013 Full Extras Au...  \n31  Precio negociable: si Caja automatica, motor 1...  \n32  DESCRIPCIÓN CALIFICACIONES SEGURIDAD Vendo Car...  \n33  Precio negociable: si Mitsubishi mirage G4 201...  \n34  DESCRIPCIÓN CALIFICACIONES SEGURIDAD Nissan se...  \n35  Precio negociable: si Color : Plateado DESCRIP...  \n36  Color : Rojo. Interesados Illamarme  . Version...  \n37  Garantía: Extensa garantía disponible. Solicit...  \n38  Color : NEGRO YA TIENE PLACAS WhatsApp o Teleg...  \n39  Precio negociable: no Color : Gris DESCRIPCIÓN...  ",
      "text/html": "<div>\n<style scoped>\n    .dataframe tbody tr th:only-of-type {\n        vertical-align: middle;\n    }\n\n    .dataframe tbody tr th {\n        vertical-align: top;\n    }\n\n    .dataframe thead th {\n        text-align: right;\n    }\n</style>\n<table border=\"1\" class=\"dataframe\">\n  <thead>\n    <tr style=\"text-align: right;\">\n      <th></th>\n      <th>model</th>\n      <th>year</th>\n      <th>kilometers</th>\n      <th>engine</th>\n      <th>price</th>\n      <th>description</th>\n    </tr>\n  </thead>\n  <tbody>\n    <tr>\n      <th>0</th>\n      <td>Nissan Versa</td>\n      <td>2017</td>\n      <td>78000</td>\n      <td>Gasolina</td>\n      <td>7100</td>\n      <td>Color : Azul DESCRIPCIÓN CALIFICACIONES SEGURI...</td>\n    </tr>\n    <tr>\n      <th>1</th>\n      <td>Hyundai Elantra</td>\n      <td>2000</td>\n      <td>204000</td>\n      <td>Gasolina</td>\n      <td>2450</td>\n      <td>Garantía: Como es visto no hay garantía Financ...</td>\n    </tr>\n    <tr>\n      <th>2</th>\n      <td>Kia Rio</td>\n      <td>2016</td>\n      <td>130</td>\n      <td>Gasolina</td>\n      <td>7500</td>\n      <td>Precio negociable: si Color : Cafe DESCRIPCIÓN...</td>\n    </tr>\n    <tr>\n      <th>3</th>\n      <td>Nissan Versa</td>\n      <td>2016</td>\n      <td>99000</td>\n      <td>Gasolina</td>\n      <td>6800</td>\n      <td>Precio negociable: si Color : Negro DESCRIPCIÓ...</td>\n    </tr>\n    <tr>\n      <th>4</th>\n      <td>Chevrolet Spark</td>\n      <td>2020</td>\n      <td>83903</td>\n      <td>Gasolina</td>\n      <td>7350</td>\n      <td>Garantía: Como es visto no hay garantía Financ...</td>\n    </tr>\n    <tr>\n      <th>5</th>\n      <td>BMW 328</td>\n      <td>2012</td>\n      <td>90000</td>\n      <td>Gasolina</td>\n      <td>10500</td>\n      <td>Financiamiento: no Precio negociable: si Color...</td>\n    </tr>\n    <tr>\n      <th>6</th>\n      <td>Kia Forte</td>\n      <td>2015</td>\n      <td>72000</td>\n      <td>Gasolina</td>\n      <td>7750</td>\n      <td>Garantía: Como es visto no hay garantía Financ...</td>\n    </tr>\n    <tr>\n      <th>7</th>\n      <td>Nissan Versa</td>\n      <td>2017</td>\n      <td>86104</td>\n      <td>Gasolina</td>\n      <td>7000</td>\n      <td>Precio negociable: si DESCRIPCIÓN CALIFICACION...</td>\n    </tr>\n    <tr>\n      <th>8</th>\n      <td>Hyundai Accent</td>\n      <td>2017</td>\n      <td>96000</td>\n      <td>Gasolina</td>\n      <td>8200</td>\n      <td>Color : Negro DESCRIPCIÓN SEGURIDAD Hyundai ac...</td>\n    </tr>\n    <tr>\n      <th>9</th>\n      <td>Honda Civic</td>\n      <td>2010</td>\n      <td>208355</td>\n      <td>Gasolina</td>\n      <td>6600</td>\n      <td>Color : Negro DESCRIPCIÓN CALIFICACIONES SEGUR...</td>\n    </tr>\n    <tr>\n      <th>10</th>\n      <td>Kia Rio</td>\n      <td>2009</td>\n      <td>177700</td>\n      <td>Gasolina</td>\n      <td>5200</td>\n      <td>Precio negociable: si Color : Negro DESCRIPCIÓ...</td>\n    </tr>\n    <tr>\n      <th>11</th>\n      <td>Nissan Versa</td>\n      <td>2016</td>\n      <td>50000</td>\n      <td>Gasolina</td>\n      <td>8500</td>\n      <td>DESCRIPCIÓN CALIFICACIONES SEGURIDAD Vendo Nis...</td>\n    </tr>\n    <tr>\n      <th>12</th>\n      <td>Hyundai i20</td>\n      <td>2012</td>\n      <td>242000</td>\n      <td>Gasolina</td>\n      <td>6300</td>\n      <td>Precio negociable: si Color : Azul Hiunday i20...</td>\n    </tr>\n    <tr>\n      <th>13</th>\n      <td>Mercedes Benz C-Class</td>\n      <td>2010</td>\n      <td>125000</td>\n      <td>Gasolina</td>\n      <td>9500</td>\n      <td>Precio negociable: si Color : Blanco Vendo Mer...</td>\n    </tr>\n    <tr>\n      <th>14</th>\n      <td>Audi A4 allroad</td>\n      <td>2010</td>\n      <td>200000</td>\n      <td>Gasolina</td>\n      <td>8500</td>\n      <td>Precio negociable: si Color : Rojo Vendo Audi ...</td>\n    </tr>\n    <tr>\n      <th>15</th>\n      <td>BMW 328</td>\n      <td>2014</td>\n      <td>200</td>\n      <td>Gasolina</td>\n      <td>13500</td>\n      <td>Financiamiento: no Color : Negro BMW 328 I Año...</td>\n    </tr>\n    <tr>\n      <th>16</th>\n      <td>Nissan ALTIMA</td>\n      <td>2013</td>\n      <td>18690</td>\n      <td>Gasolina</td>\n      <td>6500</td>\n      <td>Garantía: Como es visto no hay garantía Financ...</td>\n    </tr>\n    <tr>\n      <th>17</th>\n      <td>Toyota Corolla</td>\n      <td>2015</td>\n      <td>59200</td>\n      <td>Gasolina</td>\n      <td>10350</td>\n      <td>Garantía: Como es visto no hay garantía Precio...</td>\n    </tr>\n    <tr>\n      <th>18</th>\n      <td>Kia Spectra</td>\n      <td>2007</td>\n      <td>173700</td>\n      <td>Gasolina</td>\n      <td>4600</td>\n      <td>Precio negociable: no DESCRIPCIÓN CALIFICACION...</td>\n    </tr>\n    <tr>\n      <th>19</th>\n      <td>Hyundai Elantra GT</td>\n      <td>2005</td>\n      <td>238979537</td>\n      <td>Gasolina</td>\n      <td>4500</td>\n      <td>Garantía: Como es visto no hay garantía Precio...</td>\n    </tr>\n    <tr>\n      <th>20</th>\n      <td>Kia SOUL</td>\n      <td>2016</td>\n      <td>105445</td>\n      <td>Gasolina</td>\n      <td>8800</td>\n      <td>Precio negociable: si Color : Verde DESCRIPCIÓ...</td>\n    </tr>\n    <tr>\n      <th>21</th>\n      <td>Toyota Corolla</td>\n      <td>1995</td>\n      <td>0</td>\n      <td>Gasolina</td>\n      <td>2700</td>\n      <td>Precio negociable: si Color : Dorado DESCRIPCI...</td>\n    </tr>\n    <tr>\n      <th>22</th>\n      <td>Chevrolet Malibu</td>\n      <td>2014</td>\n      <td>123000</td>\n      <td>Gasolina</td>\n      <td>7800</td>\n      <td>Color : Gris DESCRIPCIÓN ARTÍCULOS CALIFICACIO...</td>\n    </tr>\n    <tr>\n      <th>23</th>\n      <td>Nissan Versa</td>\n      <td>2017</td>\n      <td>52892</td>\n      <td>Gasolina</td>\n      <td>7500</td>\n      <td>Financiamiento: no Precio negociable: si Color...</td>\n    </tr>\n    <tr>\n      <th>24</th>\n      <td>Nissan Sentra</td>\n      <td>2018</td>\n      <td>55000</td>\n      <td>Gasolina</td>\n      <td>8600</td>\n      <td>Financiamiento: si Precio negociable: si Color...</td>\n    </tr>\n    <tr>\n      <th>25</th>\n      <td>Mazda 3</td>\n      <td>2010</td>\n      <td>157255</td>\n      <td>Gasolina</td>\n      <td>5800</td>\n      <td>Financiamiento: no Precio negociable: si Color...</td>\n    </tr>\n    <tr>\n      <th>26</th>\n      <td>Kia Forte</td>\n      <td>2020</td>\n      <td>15100</td>\n      <td>Gasolina</td>\n      <td>11700</td>\n      <td>KIA FORTE 2020 FE 2.0. VIN 3KPF24AD1LE,100 MIL...</td>\n    </tr>\n    <tr>\n      <th>27</th>\n      <td>Chevrolet Celta</td>\n      <td>2003</td>\n      <td>0</td>\n      <td>Gasolina</td>\n      <td>3500</td>\n      <td>Precio negociable: si Color : Rojo Vendo Chevr...</td>\n    </tr>\n    <tr>\n      <th>28</th>\n      <td>Nissan Sentra</td>\n      <td>2015</td>\n      <td>89300</td>\n      <td>Gasolina</td>\n      <td>7600</td>\n      <td>Garantía: Como es visto no hay garantía Color ...</td>\n    </tr>\n    <tr>\n      <th>29</th>\n      <td>Suzuki Aerio</td>\n      <td>2003</td>\n      <td>150000</td>\n      <td>Gasolina</td>\n      <td>3000</td>\n      <td>Precio negociable: si Color : Gris DESCRIPCIÓN...</td>\n    </tr>\n    <tr>\n      <th>30</th>\n      <td>Nissan ALTIMA</td>\n      <td>2013</td>\n      <td>110065</td>\n      <td>Gasolina</td>\n      <td>6500</td>\n      <td>Color : GRIS Nissan Altima 2013 Full Extras Au...</td>\n    </tr>\n    <tr>\n      <th>31</th>\n      <td>Nissan Sentra</td>\n      <td>2018</td>\n      <td>58000</td>\n      <td>Gasolina</td>\n      <td>8200</td>\n      <td>Precio negociable: si Caja automatica, motor 1...</td>\n    </tr>\n    <tr>\n      <th>32</th>\n      <td>Toyota Yaris</td>\n      <td>2014</td>\n      <td>58300</td>\n      <td>Gasolina</td>\n      <td>11500</td>\n      <td>DESCRIPCIÓN CALIFICACIONES SEGURIDAD Vendo Car...</td>\n    </tr>\n    <tr>\n      <th>33</th>\n      <td>Mitsubishi Mirage G4</td>\n      <td>2019</td>\n      <td>76700</td>\n      <td>Gasolina</td>\n      <td>8500</td>\n      <td>Precio negociable: si Mitsubishi mirage G4 201...</td>\n    </tr>\n    <tr>\n      <th>34</th>\n      <td>Nissan Sentra</td>\n      <td>2002</td>\n      <td>0</td>\n      <td>Gasolina</td>\n      <td>4500</td>\n      <td>DESCRIPCIÓN CALIFICACIONES SEGURIDAD Nissan se...</td>\n    </tr>\n    <tr>\n      <th>35</th>\n      <td>Hyundai Accent</td>\n      <td>2014</td>\n      <td>7600</td>\n      <td>Gasolina</td>\n      <td>7600</td>\n      <td>Precio negociable: si Color : Plateado DESCRIP...</td>\n    </tr>\n    <tr>\n      <th>36</th>\n      <td>Dodge DART</td>\n      <td>2013</td>\n      <td>88000</td>\n      <td>Gasolina</td>\n      <td>6400</td>\n      <td>Color : Rojo. Interesados Illamarme  . Version...</td>\n    </tr>\n    <tr>\n      <th>37</th>\n      <td>Nissan Versa</td>\n      <td>2017</td>\n      <td>83330</td>\n      <td>Gasolina</td>\n      <td>7500</td>\n      <td>Garantía: Extensa garantía disponible. Solicit...</td>\n    </tr>\n    <tr>\n      <th>38</th>\n      <td>Hyundai Elantra</td>\n      <td>2018</td>\n      <td>41200</td>\n      <td>Gasolina</td>\n      <td>10950</td>\n      <td>Color : NEGRO YA TIENE PLACAS WhatsApp o Teleg...</td>\n    </tr>\n    <tr>\n      <th>39</th>\n      <td>Chevrolet Malibu</td>\n      <td>2014</td>\n      <td>122800</td>\n      <td>Gasolina</td>\n      <td>7800</td>\n      <td>Precio negociable: no Color : Gris DESCRIPCIÓN...</td>\n    </tr>\n  </tbody>\n</table>\n</div>"
     },
     "execution_count": 46,
     "metadata": {},
     "output_type": "execute_result"
    }
   ],
   "source": [
    "df_temp"
   ],
   "metadata": {
    "collapsed": false,
    "ExecuteTime": {
     "end_time": "2023-05-20T02:48:47.561078500Z",
     "start_time": "2023-05-20T02:48:47.496080100Z"
    }
   }
  }
 ],
 "metadata": {
  "kernelspec": {
   "display_name": "Python 3",
   "language": "python",
   "name": "python3"
  },
  "language_info": {
   "codemirror_mode": {
    "name": "ipython",
    "version": 2
   },
   "file_extension": ".py",
   "mimetype": "text/x-python",
   "name": "python",
   "nbconvert_exporter": "python",
   "pygments_lexer": "ipython2",
   "version": "2.7.6"
  }
 },
 "nbformat": 4,
 "nbformat_minor": 0
}
