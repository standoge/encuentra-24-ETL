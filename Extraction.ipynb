{
 "cells": [
  {
   "cell_type": "markdown",
   "source": [
    "## Dependencies"
   ],
   "metadata": {
    "collapsed": false
   }
  },
  {
   "cell_type": "markdown",
   "source": [
    "---"
   ],
   "metadata": {
    "collapsed": false
   }
  },
  {
   "cell_type": "code",
   "execution_count": 1,
   "outputs": [],
   "source": [
    "import yaml\n",
    "import re\n",
    "from datetime import datetime\n",
    "import pandas as pd"
   ],
   "metadata": {
    "collapsed": false,
    "ExecuteTime": {
     "end_time": "2024-03-02T02:51:53.010281Z",
     "start_time": "2024-03-02T02:51:52.157284Z"
    }
   }
  },
  {
   "cell_type": "code",
   "execution_count": 2,
   "outputs": [],
   "source": [
    "from selenium import webdriver\n",
    "from selenium.webdriver.common.by import By\n",
    "from selenium.webdriver.edge.service import Service\n",
    "from webdriver_manager.microsoft import EdgeChromiumDriverManager\n",
    "from selenium.webdriver.support.ui import WebDriverWait\n",
    "from selenium.webdriver.edge.options import Options\n",
    "from selenium.webdriver.support import expected_conditions as EC\n",
    "from selenium.common.exceptions import NoSuchElementException\n",
    "from selenium.common.exceptions import TimeoutException\n"
   ],
   "metadata": {
    "collapsed": false,
    "ExecuteTime": {
     "end_time": "2024-03-02T02:51:53.227284Z",
     "start_time": "2024-03-02T02:51:53.012283Z"
    }
   }
  },
  {
   "cell_type": "markdown",
   "source": [
    "Setting up web driver."
   ],
   "metadata": {
    "collapsed": false
   }
  },
  {
   "cell_type": "code",
   "execution_count": 3,
   "outputs": [
    {
     "name": "stderr",
     "output_type": "stream",
     "text": [
      "[WDM] - Downloading: 100%|██████████| 8.96M/8.96M [00:02<00:00, 4.46MB/s]\n"
     ]
    }
   ],
   "source": [
    "EdgeOptions = Options()\n",
    "EdgeOptions.add_argument(\"--headless\")\n",
    "edge = webdriver.Edge(service=Service(EdgeChromiumDriverManager().install()), options=EdgeOptions)\n",
    "# edge = webdriver.Edge(service=Service(EdgeChromiumDriverManager().install()))\n"
   ],
   "metadata": {
    "collapsed": false,
    "ExecuteTime": {
     "end_time": "2024-03-02T02:51:58.164318Z",
     "start_time": "2024-03-02T02:51:53.228283Z"
    }
   }
  },
  {
   "cell_type": "markdown",
   "source": [
    "## Extract"
   ],
   "metadata": {
    "collapsed": false
   }
  },
  {
   "cell_type": "markdown",
   "source": [
    "---"
   ],
   "metadata": {
    "collapsed": false
   }
  },
  {
   "cell_type": "markdown",
   "source": [
    "### Functions:"
   ],
   "metadata": {
    "collapsed": false
   }
  },
  {
   "cell_type": "code",
   "execution_count": 4,
   "outputs": [],
   "source": [
    "def resources(name: str) -> dict[str:str]:\n",
    "    \"\"\"Read yaml file to get xpath resources\n",
    "    \n",
    "    :param name: name of the resource to extract\n",
    "    :return: the xpath\n",
    "    \"\"\"\n",
    "    with open(\"xpath.yml\", \"r\") as f:\n",
    "        content: dict[str:str] = yaml.safe_load(f)\n",
    "        return content[name]"
   ],
   "metadata": {
    "collapsed": false,
    "ExecuteTime": {
     "end_time": "2024-03-02T02:51:58.179319Z",
     "start_time": "2024-03-02T02:51:58.166318Z"
    }
   }
  },
  {
   "cell_type": "code",
   "execution_count": 5,
   "outputs": [],
   "source": [
    "def close_prompt(driver: webdriver) -> None:\n",
    "    \"\"\"Close prompt when is required\n",
    "    \n",
    "    :param driver: browser instance \n",
    "    \"\"\"\n",
    "    button: str = \"//a[@class='btn btn-subscription-light']\"\n",
    "    driver.find_element(by=By.XPATH, value=button).click()"
   ],
   "metadata": {
    "collapsed": false,
    "ExecuteTime": {
     "end_time": "2024-03-02T02:51:58.195319Z",
     "start_time": "2024-03-02T02:51:58.182320Z"
    }
   }
  },
  {
   "cell_type": "code",
   "execution_count": 6,
   "outputs": [],
   "source": [
    "def click_element(element: webdriver, path: str) -> None:\n",
    "    \"\"\"Click on element in the current browser page\n",
    "    \n",
    "    :param element: browser instance\n",
    "    :param path: xpath of element to click\n",
    "    \"\"\"\n",
    "    button = element.find_element(by=By.XPATH, value=path)\n",
    "    button.click()"
   ],
   "metadata": {
    "collapsed": false,
    "ExecuteTime": {
     "end_time": "2024-03-02T02:51:58.210320Z",
     "start_time": "2024-03-02T02:51:58.197319Z"
    }
   }
  },
  {
   "cell_type": "code",
   "execution_count": 7,
   "outputs": [],
   "source": [
    "def extract_feature_in(element: webdriver, path: str) -> str:\n",
    "    \"\"\"Extract ad feature where current browser page is the ad page\n",
    "    \n",
    "    :param element: browser instance\n",
    "    :param path: xpath of feature to extract\n",
    "    :return: feature extracted\n",
    "    \"\"\"\n",
    "    feature: str = element.find_element(by=By.XPATH, value=path)\n",
    "    return feature"
   ],
   "metadata": {
    "collapsed": false,
    "ExecuteTime": {
     "end_time": "2024-03-02T02:51:58.225320Z",
     "start_time": "2024-03-02T02:51:58.211318Z"
    }
   }
  },
  {
   "cell_type": "code",
   "execution_count": 8,
   "outputs": [],
   "source": [
    "def extract_feature_out(element: webdriver, path: str) -> list[str]:\n",
    "    \"\"\"Extract ad feature where current browser page is the listing page (not in the ad)\n",
    "    \n",
    "    :param element: browser instance\n",
    "    :param path: xpath of feature to extract\n",
    "    :return: list of features\n",
    "    \"\"\"\n",
    "    feature = []\n",
    "\n",
    "    try:\n",
    "        feature: str = element.find_elements(by=By.XPATH, value=path)\n",
    "        feature = [data_point.text for data_point in feature]\n",
    "        return feature\n",
    "    except Exception:\n",
    "        feature.append(\"Web wasn't able to scrape the feature\")"
   ],
   "metadata": {
    "collapsed": false,
    "ExecuteTime": {
     "end_time": "2024-03-02T02:51:58.241318Z",
     "start_time": "2024-03-02T02:51:58.227318Z"
    }
   }
  },
  {
   "cell_type": "code",
   "execution_count": 9,
   "outputs": [],
   "source": [
    "def persistence(dataframe: pd.DataFrame) -> None:\n",
    "    \"\"\"Save dataframe to csv file\n",
    "    \n",
    "    :param dataframe: dataframe to save\n",
    "    \"\"\"\n",
    "    file_name = datetime.today().strftime(\"%B-%d\")\n",
    "    dataframe.to_csv(f\"persistence/{file_name}.csv\", index=False)"
   ],
   "metadata": {
    "collapsed": false,
    "ExecuteTime": {
     "end_time": "2024-03-02T02:51:58.256318Z",
     "start_time": "2024-03-02T02:51:58.243319Z"
    }
   }
  },
  {
   "cell_type": "code",
   "execution_count": 10,
   "outputs": [],
   "source": [
    "def get_len(features: list[list[str]]) -> bool:\n",
    "    \"\"\"Check if all features has the same length to create new df\n",
    "    \n",
    "    :param features: list of features extracted with scraping\n",
    "    :return: a list with all lengths where first place is the len of the first element and the mostly accepted.\n",
    "    \"\"\"\n",
    "    base_len = len(features[0])\n",
    "    lengths = []\n",
    "    lengths.append(base_len)\n",
    "    for feature in features:\n",
    "        if len(feature) == base_len:\n",
    "            continue\n",
    "        else:\n",
    "            lengths.append(len(feature))\n",
    "    return lengths"
   ],
   "metadata": {
    "collapsed": false,
    "ExecuteTime": {
     "end_time": "2024-03-02T02:51:58.272319Z",
     "start_time": "2024-03-02T02:51:58.258320Z"
    }
   }
  },
  {
   "cell_type": "code",
   "execution_count": 11,
   "outputs": [],
   "source": [
    "def check_len(lengths: list[int]) -> bool:\n",
    "    \"\"\"Check if all elements in list has the same value.\n",
    "    \n",
    "    :param lengths: list of lengths\n",
    "    :return: a boolean\n",
    "    \"\"\"\n",
    "    for length in lengths[1:]:\n",
    "        if length != lengths[0]:\n",
    "            return False\n",
    "        return True"
   ],
   "metadata": {
    "collapsed": false,
    "ExecuteTime": {
     "end_time": "2024-03-02T02:51:58.288318Z",
     "start_time": "2024-03-02T02:51:58.274320Z"
    }
   }
  },
  {
   "cell_type": "markdown",
   "source": [
    "Variables pool."
   ],
   "metadata": {
    "collapsed": false
   }
  },
  {
   "cell_type": "code",
   "execution_count": 12,
   "outputs": [],
   "source": [
    "descriptions: list[str] = []\n",
    "prices: list[int] = []\n",
    "models: list[str] = []\n",
    "years: list[int] = []\n",
    "kilometers: list[int] = []\n",
    "engines: list[str] = []\n",
    "\n",
    "# seconds\n",
    "DELAY: int = 1\n",
    "SEDAN = resources(\"cars_sedan\")"
   ],
   "metadata": {
    "collapsed": false,
    "ExecuteTime": {
     "end_time": "2024-03-02T02:51:58.304318Z",
     "start_time": "2024-03-02T02:51:58.289318Z"
    }
   }
  },
  {
   "cell_type": "markdown",
   "source": [
    "Get web page and close prompt (when is required)."
   ],
   "metadata": {
    "collapsed": false
   }
  },
  {
   "cell_type": "code",
   "execution_count": 13,
   "outputs": [],
   "source": [
    "edge.get(SEDAN[\"url\"])\n",
    "# close_prompt(edge)"
   ],
   "metadata": {
    "collapsed": false,
    "ExecuteTime": {
     "end_time": "2024-03-02T02:52:05.303343Z",
     "start_time": "2024-03-02T02:51:58.305318Z"
    }
   }
  },
  {
   "cell_type": "markdown",
   "source": [
    "Extract car features."
   ],
   "metadata": {
    "collapsed": false
   }
  },
  {
   "cell_type": "code",
   "execution_count": 14,
   "outputs": [],
   "source": [
    "# Get this list of ads and click on the first one\n",
    "elements = edge.find_elements(by=By.XPATH, value=SEDAN[\"ad\"])\n",
    "elements[0].click()\n",
    "\n",
    "try:\n",
    "    for element in range(len(elements)):\n",
    "        # Wait until the element is present to avoid missing data\n",
    "        dynamic_delay = WebDriverWait(edge, DELAY).until(\n",
    "            EC.presence_of_element_located((By.XPATH, SEDAN[\"description\"])))\n",
    "\n",
    "        brand_str = extract_feature_in(edge, SEDAN[\"brand\"]).text\n",
    "        model_str = extract_feature_in(edge, SEDAN[\"model\"]).text\n",
    "        models.append(brand_str + \" \" + model_str)\n",
    "\n",
    "        descriptions.append(extract_feature_in(edge, SEDAN[\"description\"]).text)\n",
    "        prices.append(extract_feature_in(edge, SEDAN[\"price\"]).text)\n",
    "        kilometers.append(extract_feature_in(edge, SEDAN[\"kilometers\"]).text)\n",
    "        engines.append(extract_feature_in(edge, SEDAN[\"engine\"]).text)\n",
    "        years.append(extract_feature_in(edge, SEDAN[\"year\"]).text)\n",
    "\n",
    "        click_element(edge, SEDAN[\"next\"])\n",
    "except TimeoutException as TE:\n",
    "    descriptions.append(\"Web wasn't able to scrape descriptions\")\n",
    "except NoSuchElementException as NSE:\n",
    "    click_element(edge, SEDAN[\"exit\"])"
   ],
   "metadata": {
    "collapsed": false,
    "ExecuteTime": {
     "end_time": "2024-03-02T02:53:48.671008Z",
     "start_time": "2024-03-02T02:52:05.305343Z"
    }
   }
  },
  {
   "cell_type": "markdown",
   "source": [
    "## Export"
   ],
   "metadata": {
    "collapsed": false
   }
  },
  {
   "cell_type": "markdown",
   "source": [
    "---"
   ],
   "metadata": {
    "collapsed": false
   }
  },
  {
   "cell_type": "markdown",
   "source": [
    "### Functions:"
   ],
   "metadata": {
    "collapsed": false
   }
  },
  {
   "cell_type": "code",
   "execution_count": 15,
   "outputs": [],
   "source": [
    "def parse_price(dataframe: pd.DataFrame, feature: str, pattern: str) -> None:\n",
    "    \"\"\"Parse financial features like prices. Works with $#,### (not dot)\n",
    "    \n",
    "    :param dataframe: object towards apply transformation\n",
    "    :param feature: feature name towards apply transformation\n",
    "    :param pattern: feature pattern to transform\n",
    "    \"\"\"\n",
    "\n",
    "    dataframe[feature] = dataframe[feature] \\\n",
    "        .str.extract(pattern) \\\n",
    "        .applymap(lambda price: int(price.replace(\",\", \"\")))\n"
   ],
   "metadata": {
    "collapsed": false,
    "ExecuteTime": {
     "end_time": "2024-03-02T02:53:48.686009Z",
     "start_time": "2024-03-02T02:53:48.672008Z"
    }
   }
  },
  {
   "cell_type": "code",
   "execution_count": 16,
   "outputs": [],
   "source": [
    "def remove_chars(dataframe: pd.DataFrame, feature: str, wildcards: str) -> pd.Series:\n",
    "    \"\"\"Remove escaped characters from features like indented large extracts of text\n",
    "    \n",
    "    :param dataframe: object towards apply transformation\n",
    "    :param feature: feature name towards apply transformation\n",
    "    :param wildcards: escaped characters to remove\n",
    "    :return: Serie without escaped characters\n",
    "    \"\"\"\n",
    "    return (dataframe\n",
    "    .apply(\n",
    "        lambda row: row[feature]\n",
    "        , axis=1\n",
    "    )\n",
    "    .apply(\n",
    "        lambda extracted_f: re.sub(wildcards, r' ', extracted_f)\n",
    "    )\n",
    "    )\n"
   ],
   "metadata": {
    "collapsed": false,
    "ExecuteTime": {
     "end_time": "2024-03-02T02:53:48.701011Z",
     "start_time": "2024-03-02T02:53:48.688009Z"
    }
   }
  },
  {
   "cell_type": "code",
   "execution_count": 17,
   "outputs": [],
   "source": [
    "PRICE_RG: str = r\"^\\$(?P<prices>\\d+,?\\d+)?\"\n",
    "KM_REG: str = r\"(?P<km>^\\d+)\"\n",
    "CHARACTER_RG: str = '(\\n|\\r)+'"
   ],
   "metadata": {
    "collapsed": false,
    "ExecuteTime": {
     "end_time": "2024-03-02T02:53:48.717008Z",
     "start_time": "2024-03-02T02:53:48.703009Z"
    }
   }
  },
  {
   "cell_type": "markdown",
   "source": [
    "Check that all features has the same length."
   ],
   "metadata": {
    "collapsed": false
   }
  },
  {
   "cell_type": "code",
   "execution_count": 18,
   "outputs": [],
   "source": [
    "lengths = [len(engines), len(models), len(years), len(kilometers), len(prices), len(descriptions)]\n",
    "prices = [price.replace(\".\", \",\") for price in prices]"
   ],
   "metadata": {
    "collapsed": false,
    "ExecuteTime": {
     "end_time": "2024-03-02T02:53:48.733011Z",
     "start_time": "2024-03-02T02:53:48.719011Z"
    }
   }
  },
  {
   "cell_type": "markdown",
   "source": [
    "Create dataframe to transform data extracted"
   ],
   "metadata": {
    "collapsed": false
   }
  },
  {
   "cell_type": "code",
   "outputs": [],
   "source": [
    "if check_len(lengths):\n",
    "    df_temp = pd.DataFrame({\n",
    "        \"model\": models,\n",
    "        \"year\": years,\n",
    "        \"kilometers\": kilometers,\n",
    "        \"engine\": engines,\n",
    "        \"price\": prices,\n",
    "        \"description\": descriptions\n",
    "    })\n",
    "\n",
    "    # Parse features. String to number and raw string with characters to structured string.\n",
    "    parse_price(df_temp, \"price\", PRICE_RG)\n",
    "    df_temp[\"kilometers\"] = df_temp[\"kilometers\"].str.extract(KM_REG).applymap(int)\n",
    "    df_temp[\"year\"] = df_temp[\"year\"].map(int)\n",
    "    df_temp[\"description\"] = remove_chars(df_temp, \"description\", CHARACTER_RG)\n",
    "\n",
    "    persistence(df_temp)\n"
   ],
   "metadata": {
    "collapsed": false,
    "ExecuteTime": {
     "end_time": "2024-03-02T02:53:48.765008Z",
     "start_time": "2024-03-02T02:53:48.735010Z"
    }
   },
   "execution_count": 19
  },
  {
   "cell_type": "code",
   "outputs": [
    {
     "data": {
      "text/plain": "                        model  year  kilometers    engine  price  \\\n0               Nissan Sentra  2014      134213  Gasolina   7000   \n1              Toyota Corolla  2020       63318  Gasolina  11950   \n2                     Mazda 3  2010       89600  Gasolina   5000   \n3   otros + Datsun 120 Y 1979  1979           0  Gasolina   3750   \n4                 Nissan Juke  2014      100000  Gasolina   7799   \n5                    Kia SOUL  2013      108366  Gasolina   7500   \n6                   Fiat 500L  2014      106315  Gasolina   8000   \n7                     Kia RIO  2015      129000  Gasolina   6500   \n8                Nissan Versa  2016      124000  Gasolina   6000   \n9                 Honda Civic  2010      211417  Gasolina   5899   \n10             Toyota Corolla  2022       23427  Gasolina  21800   \n11             Hyundai Accent  2020       36000  Gasolina  11800   \n12              Toyota Tercel  1993      120000  Gasolina   3900   \n13              Nissan Sentra  2014       88028  Gasolina   6500   \n14                Honda Civic  2019       59000  Gasolina  11000   \n15            Toyota Yaris iA  2019       26866  Gasolina  12200   \n16            Hyundai Elantra  2012      201263  Gasolina   6350   \n17                   Honda EF  1989       10000  Gasolina   4950   \n18                    Kia Rio  2008      128000  Gasolina   5000   \n19                    Mazda 3  2008      111195  Gasolina   4000   \n20             Hyundai Accent  2016       60000  Gasolina   7800   \n21             Toyota Corolla  2018       50000  Gasolina  11500   \n22                    Kia RIO  2014       77000  Gasolina   7700   \n23                    Kia RIO  2017       73000  Gasolina   8200   \n24              Nissan Sentra  2008      143500  Gasolina   4800   \n25             Hyundai Accent  2016       87000  Gasolina   7900   \n26                  Honda Fit  2013         167  Gasolina   6600   \n27                Nissan Note  2014           0  Gasolina   6000   \n28             Hyundai Accent  2002      135678  Gasolina   2700   \n29             Hyundai Accent  2010      108140  Gasolina   4200   \n30          Mitsubishi Lancer  2017       60000  Gasolina   8500   \n31                    BMW 328  2011       91000  Gasolina   5500   \n32                Honda Civic  2019       59100  Gasolina  12500   \n33               Nissan Versa  2013       90520  Gasolina   5500   \n34               Toyota Yaris  2008      134411  Gasolina   6300   \n35                Honda Civic  2016       89000  Gasolina  10900   \n36              Nissan Sentra  2020       32000  Gasolina  13000   \n37              Nissan Sentra  2012      150000  Gasolina   5950   \n38                    Mazda 3  2015       66000  Gasolina   8900   \n39            Hyundai Elantra  2018       99000  Gasolina   9500   \n\n                                          description  \n0   Financiamiento: no Precio negociable: si Color...  \n1   Garantía: Como es visto no hay garantía Financ...  \n2   Color : azul Se vende: carro Mazda 3, año 2010...  \n3   Precio negociable: si Color : Verde En excelen...  \n4   Precio negociable: si Color : Gris Motor 1.6 A...  \n5   Financiamiento: no Precio negociable: si Color...  \n6   Financiamiento: no Precio negociable: si Color...  \n7   Color : Rojo DESCRIPCIÓN CALIFICACIONES SEGURI...  \n8   Precio negociable: si Color : Negro DESCRIPCIÓ...  \n9   Precio negociable: si Color : Gris DESCRIPCIÓN...  \n10  Garantía: Garantía de fabrica restante. Precio...  \n11  Color : Azul Accent 2020 Transmision Manual Ex...  \n12  Precio negociable: si Color : Rojo DESCRIPCIÓN...  \n13  Precio negociable: si Color : Negro DESCRIPCIÓ...  \n14  Financiamiento: no Precio negociable: si Color...  \n15  Precio negociable: si Color : Azul Toyota Yari...  \n16  Precio negociable: si Color : Azul DESCRIPCIÓN...  \n17  Honda EF 89 OEM Timón de SI Silvines y Stop St...  \n18  Precio negociable: si Color : Gris DESCRIPCIÓN...  \n19  Financiamiento: no Precio negociable: no Color...  \n20  Financiamiento: si Precio negociable: no Color...  \n21  Financiamiento: si Precio negociable: si Color...  \n22  Color : Gris DESCRIPCIÓN CALIFICACIONES SEGURI...  \n23  Precio negociable: si Color : Gris DESCRIPCIÓN...  \n24  Precio negociable: si Color : Gris DESCRIPCIÓN...  \n25  Garantía: Extensa garantía disponible. Solicit...  \n26  Precio negociable: si Color : Blanco DESCRIPCI...  \n27  Precio negociable: si Color : Celeste Vendo Ni...  \n28  Precio negociable: si Color : Dorado metalico ...  \n29  Color : Gris DESCRIPCIÓN CALIFICACIONES SEGURI...  \n30  Precio negociable: si Color : Rojo Solo vendo,...  \n31  Color : Rojo El baúl no cierra, la manecilla d...  \n32  Precio negociable: si Color : Negro Honda Civi...  \n33  DESCRIPCIÓN CALIFICACIONES SEGURIDAD Suspensió...  \n34  Financiamiento: no Precio negociable: si Color...  \n35  Color : Azul DESCRIPCIÓN CALIFICACIONES SEGURI...  \n36  Precio negociable: si Vendo Nissan Sentra 2020...  \n37  Precio negociable: si Color : Gris DESCRIPCIÓN...  \n38  Color : Rojo premium Vendo mi Mazda 3 extra li...  \n39  Color : Rojo Hyundai Elantra 2018 SEL Motor 2....  ",
      "text/html": "<div>\n<style scoped>\n    .dataframe tbody tr th:only-of-type {\n        vertical-align: middle;\n    }\n\n    .dataframe tbody tr th {\n        vertical-align: top;\n    }\n\n    .dataframe thead th {\n        text-align: right;\n    }\n</style>\n<table border=\"1\" class=\"dataframe\">\n  <thead>\n    <tr style=\"text-align: right;\">\n      <th></th>\n      <th>model</th>\n      <th>year</th>\n      <th>kilometers</th>\n      <th>engine</th>\n      <th>price</th>\n      <th>description</th>\n    </tr>\n  </thead>\n  <tbody>\n    <tr>\n      <th>0</th>\n      <td>Nissan Sentra</td>\n      <td>2014</td>\n      <td>134213</td>\n      <td>Gasolina</td>\n      <td>7000</td>\n      <td>Financiamiento: no Precio negociable: si Color...</td>\n    </tr>\n    <tr>\n      <th>1</th>\n      <td>Toyota Corolla</td>\n      <td>2020</td>\n      <td>63318</td>\n      <td>Gasolina</td>\n      <td>11950</td>\n      <td>Garantía: Como es visto no hay garantía Financ...</td>\n    </tr>\n    <tr>\n      <th>2</th>\n      <td>Mazda 3</td>\n      <td>2010</td>\n      <td>89600</td>\n      <td>Gasolina</td>\n      <td>5000</td>\n      <td>Color : azul Se vende: carro Mazda 3, año 2010...</td>\n    </tr>\n    <tr>\n      <th>3</th>\n      <td>otros + Datsun 120 Y 1979</td>\n      <td>1979</td>\n      <td>0</td>\n      <td>Gasolina</td>\n      <td>3750</td>\n      <td>Precio negociable: si Color : Verde En excelen...</td>\n    </tr>\n    <tr>\n      <th>4</th>\n      <td>Nissan Juke</td>\n      <td>2014</td>\n      <td>100000</td>\n      <td>Gasolina</td>\n      <td>7799</td>\n      <td>Precio negociable: si Color : Gris Motor 1.6 A...</td>\n    </tr>\n    <tr>\n      <th>5</th>\n      <td>Kia SOUL</td>\n      <td>2013</td>\n      <td>108366</td>\n      <td>Gasolina</td>\n      <td>7500</td>\n      <td>Financiamiento: no Precio negociable: si Color...</td>\n    </tr>\n    <tr>\n      <th>6</th>\n      <td>Fiat 500L</td>\n      <td>2014</td>\n      <td>106315</td>\n      <td>Gasolina</td>\n      <td>8000</td>\n      <td>Financiamiento: no Precio negociable: si Color...</td>\n    </tr>\n    <tr>\n      <th>7</th>\n      <td>Kia RIO</td>\n      <td>2015</td>\n      <td>129000</td>\n      <td>Gasolina</td>\n      <td>6500</td>\n      <td>Color : Rojo DESCRIPCIÓN CALIFICACIONES SEGURI...</td>\n    </tr>\n    <tr>\n      <th>8</th>\n      <td>Nissan Versa</td>\n      <td>2016</td>\n      <td>124000</td>\n      <td>Gasolina</td>\n      <td>6000</td>\n      <td>Precio negociable: si Color : Negro DESCRIPCIÓ...</td>\n    </tr>\n    <tr>\n      <th>9</th>\n      <td>Honda Civic</td>\n      <td>2010</td>\n      <td>211417</td>\n      <td>Gasolina</td>\n      <td>5899</td>\n      <td>Precio negociable: si Color : Gris DESCRIPCIÓN...</td>\n    </tr>\n    <tr>\n      <th>10</th>\n      <td>Toyota Corolla</td>\n      <td>2022</td>\n      <td>23427</td>\n      <td>Gasolina</td>\n      <td>21800</td>\n      <td>Garantía: Garantía de fabrica restante. Precio...</td>\n    </tr>\n    <tr>\n      <th>11</th>\n      <td>Hyundai Accent</td>\n      <td>2020</td>\n      <td>36000</td>\n      <td>Gasolina</td>\n      <td>11800</td>\n      <td>Color : Azul Accent 2020 Transmision Manual Ex...</td>\n    </tr>\n    <tr>\n      <th>12</th>\n      <td>Toyota Tercel</td>\n      <td>1993</td>\n      <td>120000</td>\n      <td>Gasolina</td>\n      <td>3900</td>\n      <td>Precio negociable: si Color : Rojo DESCRIPCIÓN...</td>\n    </tr>\n    <tr>\n      <th>13</th>\n      <td>Nissan Sentra</td>\n      <td>2014</td>\n      <td>88028</td>\n      <td>Gasolina</td>\n      <td>6500</td>\n      <td>Precio negociable: si Color : Negro DESCRIPCIÓ...</td>\n    </tr>\n    <tr>\n      <th>14</th>\n      <td>Honda Civic</td>\n      <td>2019</td>\n      <td>59000</td>\n      <td>Gasolina</td>\n      <td>11000</td>\n      <td>Financiamiento: no Precio negociable: si Color...</td>\n    </tr>\n    <tr>\n      <th>15</th>\n      <td>Toyota Yaris iA</td>\n      <td>2019</td>\n      <td>26866</td>\n      <td>Gasolina</td>\n      <td>12200</td>\n      <td>Precio negociable: si Color : Azul Toyota Yari...</td>\n    </tr>\n    <tr>\n      <th>16</th>\n      <td>Hyundai Elantra</td>\n      <td>2012</td>\n      <td>201263</td>\n      <td>Gasolina</td>\n      <td>6350</td>\n      <td>Precio negociable: si Color : Azul DESCRIPCIÓN...</td>\n    </tr>\n    <tr>\n      <th>17</th>\n      <td>Honda EF</td>\n      <td>1989</td>\n      <td>10000</td>\n      <td>Gasolina</td>\n      <td>4950</td>\n      <td>Honda EF 89 OEM Timón de SI Silvines y Stop St...</td>\n    </tr>\n    <tr>\n      <th>18</th>\n      <td>Kia Rio</td>\n      <td>2008</td>\n      <td>128000</td>\n      <td>Gasolina</td>\n      <td>5000</td>\n      <td>Precio negociable: si Color : Gris DESCRIPCIÓN...</td>\n    </tr>\n    <tr>\n      <th>19</th>\n      <td>Mazda 3</td>\n      <td>2008</td>\n      <td>111195</td>\n      <td>Gasolina</td>\n      <td>4000</td>\n      <td>Financiamiento: no Precio negociable: no Color...</td>\n    </tr>\n    <tr>\n      <th>20</th>\n      <td>Hyundai Accent</td>\n      <td>2016</td>\n      <td>60000</td>\n      <td>Gasolina</td>\n      <td>7800</td>\n      <td>Financiamiento: si Precio negociable: no Color...</td>\n    </tr>\n    <tr>\n      <th>21</th>\n      <td>Toyota Corolla</td>\n      <td>2018</td>\n      <td>50000</td>\n      <td>Gasolina</td>\n      <td>11500</td>\n      <td>Financiamiento: si Precio negociable: si Color...</td>\n    </tr>\n    <tr>\n      <th>22</th>\n      <td>Kia RIO</td>\n      <td>2014</td>\n      <td>77000</td>\n      <td>Gasolina</td>\n      <td>7700</td>\n      <td>Color : Gris DESCRIPCIÓN CALIFICACIONES SEGURI...</td>\n    </tr>\n    <tr>\n      <th>23</th>\n      <td>Kia RIO</td>\n      <td>2017</td>\n      <td>73000</td>\n      <td>Gasolina</td>\n      <td>8200</td>\n      <td>Precio negociable: si Color : Gris DESCRIPCIÓN...</td>\n    </tr>\n    <tr>\n      <th>24</th>\n      <td>Nissan Sentra</td>\n      <td>2008</td>\n      <td>143500</td>\n      <td>Gasolina</td>\n      <td>4800</td>\n      <td>Precio negociable: si Color : Gris DESCRIPCIÓN...</td>\n    </tr>\n    <tr>\n      <th>25</th>\n      <td>Hyundai Accent</td>\n      <td>2016</td>\n      <td>87000</td>\n      <td>Gasolina</td>\n      <td>7900</td>\n      <td>Garantía: Extensa garantía disponible. Solicit...</td>\n    </tr>\n    <tr>\n      <th>26</th>\n      <td>Honda Fit</td>\n      <td>2013</td>\n      <td>167</td>\n      <td>Gasolina</td>\n      <td>6600</td>\n      <td>Precio negociable: si Color : Blanco DESCRIPCI...</td>\n    </tr>\n    <tr>\n      <th>27</th>\n      <td>Nissan Note</td>\n      <td>2014</td>\n      <td>0</td>\n      <td>Gasolina</td>\n      <td>6000</td>\n      <td>Precio negociable: si Color : Celeste Vendo Ni...</td>\n    </tr>\n    <tr>\n      <th>28</th>\n      <td>Hyundai Accent</td>\n      <td>2002</td>\n      <td>135678</td>\n      <td>Gasolina</td>\n      <td>2700</td>\n      <td>Precio negociable: si Color : Dorado metalico ...</td>\n    </tr>\n    <tr>\n      <th>29</th>\n      <td>Hyundai Accent</td>\n      <td>2010</td>\n      <td>108140</td>\n      <td>Gasolina</td>\n      <td>4200</td>\n      <td>Color : Gris DESCRIPCIÓN CALIFICACIONES SEGURI...</td>\n    </tr>\n    <tr>\n      <th>30</th>\n      <td>Mitsubishi Lancer</td>\n      <td>2017</td>\n      <td>60000</td>\n      <td>Gasolina</td>\n      <td>8500</td>\n      <td>Precio negociable: si Color : Rojo Solo vendo,...</td>\n    </tr>\n    <tr>\n      <th>31</th>\n      <td>BMW 328</td>\n      <td>2011</td>\n      <td>91000</td>\n      <td>Gasolina</td>\n      <td>5500</td>\n      <td>Color : Rojo El baúl no cierra, la manecilla d...</td>\n    </tr>\n    <tr>\n      <th>32</th>\n      <td>Honda Civic</td>\n      <td>2019</td>\n      <td>59100</td>\n      <td>Gasolina</td>\n      <td>12500</td>\n      <td>Precio negociable: si Color : Negro Honda Civi...</td>\n    </tr>\n    <tr>\n      <th>33</th>\n      <td>Nissan Versa</td>\n      <td>2013</td>\n      <td>90520</td>\n      <td>Gasolina</td>\n      <td>5500</td>\n      <td>DESCRIPCIÓN CALIFICACIONES SEGURIDAD Suspensió...</td>\n    </tr>\n    <tr>\n      <th>34</th>\n      <td>Toyota Yaris</td>\n      <td>2008</td>\n      <td>134411</td>\n      <td>Gasolina</td>\n      <td>6300</td>\n      <td>Financiamiento: no Precio negociable: si Color...</td>\n    </tr>\n    <tr>\n      <th>35</th>\n      <td>Honda Civic</td>\n      <td>2016</td>\n      <td>89000</td>\n      <td>Gasolina</td>\n      <td>10900</td>\n      <td>Color : Azul DESCRIPCIÓN CALIFICACIONES SEGURI...</td>\n    </tr>\n    <tr>\n      <th>36</th>\n      <td>Nissan Sentra</td>\n      <td>2020</td>\n      <td>32000</td>\n      <td>Gasolina</td>\n      <td>13000</td>\n      <td>Precio negociable: si Vendo Nissan Sentra 2020...</td>\n    </tr>\n    <tr>\n      <th>37</th>\n      <td>Nissan Sentra</td>\n      <td>2012</td>\n      <td>150000</td>\n      <td>Gasolina</td>\n      <td>5950</td>\n      <td>Precio negociable: si Color : Gris DESCRIPCIÓN...</td>\n    </tr>\n    <tr>\n      <th>38</th>\n      <td>Mazda 3</td>\n      <td>2015</td>\n      <td>66000</td>\n      <td>Gasolina</td>\n      <td>8900</td>\n      <td>Color : Rojo premium Vendo mi Mazda 3 extra li...</td>\n    </tr>\n    <tr>\n      <th>39</th>\n      <td>Hyundai Elantra</td>\n      <td>2018</td>\n      <td>99000</td>\n      <td>Gasolina</td>\n      <td>9500</td>\n      <td>Color : Rojo Hyundai Elantra 2018 SEL Motor 2....</td>\n    </tr>\n  </tbody>\n</table>\n</div>"
     },
     "execution_count": 20,
     "metadata": {},
     "output_type": "execute_result"
    }
   ],
   "source": [
    "df_temp"
   ],
   "metadata": {
    "collapsed": false,
    "ExecuteTime": {
     "end_time": "2024-03-02T02:53:48.796007Z",
     "start_time": "2024-03-02T02:53:48.766008Z"
    }
   },
   "execution_count": 20
  }
 ],
 "metadata": {
  "kernelspec": {
   "display_name": "Python 3",
   "language": "python",
   "name": "python3"
  },
  "language_info": {
   "codemirror_mode": {
    "name": "ipython",
    "version": 2
   },
   "file_extension": ".py",
   "mimetype": "text/x-python",
   "name": "python",
   "nbconvert_exporter": "python",
   "pygments_lexer": "ipython2",
   "version": "2.7.6"
  }
 },
 "nbformat": 4,
 "nbformat_minor": 0
}
