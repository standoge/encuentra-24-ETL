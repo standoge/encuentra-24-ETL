{
 "cells": [
  {
   "cell_type": "markdown",
   "source": [
    "## Dependencies"
   ],
   "metadata": {
    "collapsed": false
   }
  },
  {
   "cell_type": "markdown",
   "source": [
    "---"
   ],
   "metadata": {
    "collapsed": false
   }
  },
  {
   "cell_type": "code",
   "execution_count": null,
   "outputs": [],
   "source": [
    "import yaml\n",
    "import re\n",
    "from datetime import datetime\n",
    "import pandas as pd"
   ],
   "metadata": {
    "collapsed": false
   }
  },
  {
   "cell_type": "code",
   "execution_count": null,
   "outputs": [],
   "source": [
    "from selenium import webdriver\n",
    "from selenium.webdriver.common.by import By\n",
    "from selenium.webdriver.edge.service import Service\n",
    "from webdriver_manager.microsoft import EdgeChromiumDriverManager\n",
    "from selenium.webdriver.support.ui import WebDriverWait\n",
    "from selenium.webdriver.edge.options import Options\n",
    "from selenium.webdriver.support import expected_conditions as EC\n",
    "from selenium.common.exceptions import NoSuchElementException\n",
    "from selenium.common.exceptions import TimeoutException\n"
   ],
   "metadata": {
    "collapsed": false
   }
  },
  {
   "cell_type": "markdown",
   "source": [
    "Setting up web driver."
   ],
   "metadata": {
    "collapsed": false
   }
  },
  {
   "cell_type": "code",
   "execution_count": null,
   "outputs": [],
   "source": [
    "EdgeOptions = Options()\n",
    "EdgeOptions.add_argument(\"--headless\")\n",
    "edge = webdriver.Edge(service=Service(EdgeChromiumDriverManager().install()), options=EdgeOptions)\n",
    "# edge = webdriver.Edge(service=Service(EdgeChromiumDriverManager().install()))\n"
   ],
   "metadata": {
    "collapsed": false
   }
  },
  {
   "cell_type": "markdown",
   "source": [
    "## Extract"
   ],
   "metadata": {
    "collapsed": false
   }
  },
  {
   "cell_type": "markdown",
   "source": [
    "---"
   ],
   "metadata": {
    "collapsed": false
   }
  },
  {
   "cell_type": "markdown",
   "source": [
    "### Functions:"
   ],
   "metadata": {
    "collapsed": false
   }
  },
  {
   "cell_type": "code",
   "execution_count": null,
   "outputs": [],
   "source": [
    "def resources(name: str) -> dict[str:str]:\n",
    "    \"\"\"Read yaml file to get xpath resources\n",
    "    \n",
    "    :param name: name of the resource to extract\n",
    "    :return: the xpath\n",
    "    \"\"\"\n",
    "    with open(\"xpath.yml\", \"r\") as f:\n",
    "        content: dict[str:str] = yaml.safe_load(f)\n",
    "        return content[name]"
   ],
   "metadata": {
    "collapsed": false
   }
  },
  {
   "cell_type": "code",
   "execution_count": null,
   "outputs": [],
   "source": [
    "def close_prompt(driver: webdriver) -> None:\n",
    "    \"\"\"Close prompt when is required\n",
    "    \n",
    "    :param driver: browser instance \n",
    "    \"\"\"\n",
    "    button: str = \"//a[@class='btn btn-subscription-light']\"\n",
    "    driver.find_element(by=By.XPATH, value=button).click()"
   ],
   "metadata": {
    "collapsed": false
   }
  },
  {
   "cell_type": "code",
   "execution_count": null,
   "outputs": [],
   "source": [
    "def click_element(element: webdriver, path: str) -> None:\n",
    "    \"\"\"Click on element in the current browser page\n",
    "    \n",
    "    :param element: browser instance\n",
    "    :param path: xpath of element to click\n",
    "    \"\"\"\n",
    "    button = element.find_element(by=By.XPATH, value=path)\n",
    "    button.click()"
   ],
   "metadata": {
    "collapsed": false
   }
  },
  {
   "cell_type": "code",
   "execution_count": null,
   "outputs": [],
   "source": [
    "def extract_feature_in(element: webdriver, path: str) -> str:\n",
    "    \"\"\"Extract ad feature where current browser page is the ad page\n",
    "    \n",
    "    :param element: browser instance\n",
    "    :param path: xpath of feature to extract\n",
    "    :return: feature extracted\n",
    "    \"\"\"\n",
    "    feature: str = element.find_element(by=By.XPATH, value=path)\n",
    "    return feature"
   ],
   "metadata": {
    "collapsed": false
   }
  },
  {
   "cell_type": "code",
   "execution_count": null,
   "outputs": [],
   "source": [
    "def extract_feature_out(element: webdriver, path: str) -> list[str]:\n",
    "    \"\"\"Extract ad feature where current browser page is the listing page (not in the ad)\n",
    "    \n",
    "    :param element: browser instance\n",
    "    :param path: xpath of feature to extract\n",
    "    :return: list of features\n",
    "    \"\"\"\n",
    "    feature = []\n",
    "\n",
    "    try:\n",
    "        feature: str = element.find_elements(by=By.XPATH, value=path)\n",
    "        feature = [data_point.text for data_point in feature]\n",
    "        return feature\n",
    "    except Exception:\n",
    "        feature.append(\"Web wasn't able to scrape the feature\")"
   ],
   "metadata": {
    "collapsed": false
   }
  },
  {
   "cell_type": "code",
   "execution_count": null,
   "outputs": [],
   "source": [
    "def persistence(dataframe: pd.DataFrame) -> None:\n",
    "    \"\"\"Save dataframe to csv file\n",
    "    \n",
    "    :param dataframe: dataframe to save\n",
    "    \"\"\"\n",
    "    file_name = datetime.today().strftime(\"%B-%d\")\n",
    "    dataframe.to_csv(f\"persistence/{file_name}.csv\", index=False)"
   ],
   "metadata": {
    "collapsed": false
   }
  },
  {
   "cell_type": "code",
   "execution_count": null,
   "outputs": [],
   "source": [
    "def get_len(features: list[list[str]]) -> bool:\n",
    "    \"\"\"Check if all features has the same length to create new df\n",
    "    \n",
    "    :param features: list of features extracted with scraping\n",
    "    :return: a list with all lengths where first place is the len of the first element and the mostly accepted.\n",
    "    \"\"\"\n",
    "    base_len = len(features[0])\n",
    "    lengths = []\n",
    "    lengths.append(base_len)\n",
    "    for feature in features:\n",
    "        if len(feature) == base_len:\n",
    "            continue\n",
    "        else:\n",
    "            lengths.append(len(feature))\n",
    "    return lengths"
   ],
   "metadata": {
    "collapsed": false
   }
  },
  {
   "cell_type": "code",
   "execution_count": null,
   "outputs": [],
   "source": [
    "def check_len(lengths: list[int]) -> bool:\n",
    "    \"\"\"Check if all elements in list has the same value.\n",
    "    \n",
    "    :param lengths: list of lengths\n",
    "    :return: a boolean\n",
    "    \"\"\"\n",
    "    for length in lengths[1:]:\n",
    "        if length != lengths[0]:\n",
    "            return False\n",
    "        return True"
   ],
   "metadata": {
    "collapsed": false
   }
  },
  {
   "cell_type": "markdown",
   "source": [
    "Variables pool."
   ],
   "metadata": {
    "collapsed": false
   }
  },
  {
   "cell_type": "code",
   "execution_count": null,
   "outputs": [],
   "source": [
    "descriptions: list[str] = []\n",
    "prices: list[int] = []\n",
    "models: list[str] = []\n",
    "years: list[int] = []\n",
    "kilometers: list[int] = []\n",
    "engines: list[str] = []\n",
    "\n",
    "# seconds\n",
    "DELAY: int = 1\n",
    "SEDAN = resources(\"cars_sedan\")"
   ],
   "metadata": {
    "collapsed": false
   }
  },
  {
   "cell_type": "markdown",
   "source": [
    "Get web page and close prompt (when is required)."
   ],
   "metadata": {
    "collapsed": false
   }
  },
  {
   "cell_type": "code",
   "execution_count": null,
   "outputs": [],
   "source": [
    "edge.get(SEDAN[\"url\"])\n",
    "# close_prompt(edge)"
   ],
   "metadata": {
    "collapsed": false
   }
  },
  {
   "cell_type": "markdown",
   "source": [
    "Extract car features."
   ],
   "metadata": {
    "collapsed": false
   }
  },
  {
   "cell_type": "code",
   "execution_count": null,
   "outputs": [],
   "source": [
    "# Get this list of ads and click on the first one\n",
    "elements = edge.find_elements(by=By.XPATH, value=SEDAN[\"ad\"])\n",
    "elements[0].click()\n",
    "\n",
    "try:\n",
    "    for element in range(len(elements)):\n",
    "        # Wait until the element is present to avoid missing data\n",
    "        dynamic_delay = WebDriverWait(edge, DELAY).until(\n",
    "            EC.presence_of_element_located((By.XPATH, SEDAN[\"description\"])))\n",
    "\n",
    "        brand_str = extract_feature_in(edge, SEDAN[\"brand\"]).text\n",
    "        model_str = extract_feature_in(edge, SEDAN[\"model\"]).text\n",
    "        models.append(brand_str + \" \" + model_str)\n",
    "\n",
    "        descriptions.append(extract_feature_in(edge, SEDAN[\"description\"]).text)\n",
    "        prices.append(extract_feature_in(edge, SEDAN[\"price\"]).text)\n",
    "        kilometers.append(extract_feature_in(edge, SEDAN[\"kilometers\"]).text)\n",
    "        engines.append(extract_feature_in(edge, SEDAN[\"engine\"]).text)\n",
    "        years.append(extract_feature_in(edge, SEDAN[\"year\"]).text)\n",
    "\n",
    "        click_element(edge, SEDAN[\"next\"])\n",
    "except TimeoutException as TE:\n",
    "    descriptions.append(\"Web wasn't able to scrape descriptions\")\n",
    "except NoSuchElementException as NSE:\n",
    "    click_element(edge, SEDAN[\"exit\"])"
   ],
   "metadata": {
    "collapsed": false
   }
  },
  {
   "cell_type": "markdown",
   "source": [
    "## Export"
   ],
   "metadata": {
    "collapsed": false
   }
  },
  {
   "cell_type": "markdown",
   "source": [
    "---"
   ],
   "metadata": {
    "collapsed": false
   }
  },
  {
   "cell_type": "markdown",
   "source": [
    "### Functions:"
   ],
   "metadata": {
    "collapsed": false
   }
  },
  {
   "cell_type": "code",
   "execution_count": null,
   "outputs": [],
   "source": [
    "def parse_price(dataframe: pd.DataFrame, feature: str, pattern: str) -> None:\n",
    "    \"\"\"Parse financial features like prices. Works with $#,### (not dot)\n",
    "    \n",
    "    :param dataframe: object towards apply transformation\n",
    "    :param feature: feature name towards apply transformation\n",
    "    :param pattern: feature pattern to transform\n",
    "    \"\"\"\n",
    "    dataframe[feature] = dataframe[feature] \\\n",
    "        .str.extract(pattern) \\\n",
    "        .applymap(lambda price: int(price.replace(\",\", \"\")))\n"
   ],
   "metadata": {
    "collapsed": false
   }
  },
  {
   "cell_type": "code",
   "execution_count": null,
   "outputs": [],
   "source": [
    "def remove_chars(dataframe: pd.DataFrame, feature: str, wildcards: str) -> pd.Series:\n",
    "    \"\"\"Remove escaped characters from features like indented large extracts of text\n",
    "    \n",
    "    :param dataframe: object towards apply transformation\n",
    "    :param feature: feature name towards apply transformation\n",
    "    :param wildcards: escaped characters to remove\n",
    "    :return: Serie without escaped characters\n",
    "    \"\"\"\n",
    "    return (dataframe\n",
    "    .apply(\n",
    "        lambda row: row[feature]\n",
    "        , axis=1\n",
    "    )\n",
    "    .apply(\n",
    "        lambda extracted_f: re.sub(wildcards, r' ', extracted_f)\n",
    "    )\n",
    "    )\n"
   ],
   "metadata": {
    "collapsed": false
   }
  },
  {
   "cell_type": "code",
   "execution_count": null,
   "outputs": [],
   "source": [
    "PRICE_RG: str = r\"^\\$(?P<prices>\\d+,?\\d+)?\"\n",
    "KM_REG: str = r\"(?P<km>^\\d+)\"\n",
    "CHARACTER_RG: str = '(\\n|\\r)+'"
   ],
   "metadata": {
    "collapsed": false
   }
  },
  {
   "cell_type": "markdown",
   "source": [
    "Check that all features has the same length."
   ],
   "metadata": {
    "collapsed": false
   }
  },
  {
   "cell_type": "code",
   "execution_count": null,
   "outputs": [],
   "source": [
    "lengths = [len(engines), len(models), len(years), len(kilometers), len(prices), len(descriptions)]\n",
    "lengths"
   ],
   "metadata": {
    "collapsed": false
   }
  },
  {
   "cell_type": "code",
   "execution_count": null,
   "outputs": [],
   "source": [
    "prices = [price.replace(\".\", \",\") for price in prices]"
   ],
   "metadata": {
    "collapsed": false
   }
  },
  {
   "cell_type": "markdown",
   "source": [
    "Create dataframe to transform data extracted"
   ],
   "metadata": {
    "collapsed": false
   }
  },
  {
   "cell_type": "code",
   "execution_count": 45,
   "outputs": [],
   "source": [
    "if check_len(lengths):\n",
    "    df_temp = pd.DataFrame({\n",
    "        \"model\": models,\n",
    "        \"year\": years,\n",
    "        \"kilometers\": kilometers,\n",
    "        \"engine\": engines,\n",
    "        \"price\": prices,\n",
    "        \"description\": descriptions\n",
    "    })\n",
    "\n",
    "    # Parse features. String to number and raw string with characters to structured string.\n",
    "    parse_price(df_temp, \"price\", PRICE_RG)\n",
    "    df_temp[\"kilometers\"] = df_temp[\"kilometers\"].str.extract(KM_REG).applymap(int)\n",
    "    df_temp[\"year\"] = df_temp[\"year\"].map(int)\n",
    "    df_temp[\"description\"] = remove_chars(df_temp, \"description\", CHARACTER_RG)\n",
    "\n",
    "    persistence(df_temp)\n"
   ],
   "metadata": {
    "collapsed": false,
    "ExecuteTime": {
     "end_time": "2024-01-08T00:26:35.786502400Z",
     "start_time": "2024-01-08T00:26:35.754503300Z"
    }
   }
  },
  {
   "cell_type": "code",
   "outputs": [
    {
     "data": {
      "text/plain": "                        model  year  kilometers    engine  price  \\\n0              Toyota Corolla  2021       52179  Gasolina  13600   \n1             Hyundai Elantra  2017       59000  Gasolina   9800   \n2              Toyota Corolla  2018       71306  Gasolina   9950   \n3               Nissan Sentra  2018       70822  Gasolina   6200   \n4              Toyota Corolla  2018       68000  Gasolina  11500   \n5        Mitsubishi Mirage G4  2018       66000  Gasolina   7900   \n6                Nissan Versa  2017       86000  Gasolina   6200   \n7                   Kia Forte  2012       89000  Gasolina   6000   \n8             Chevrolet Sonic  2018      135422  Gasolina   7300   \n9              Toyota Corolla  1996         180  Gasolina   4000   \n10             Hyundai Accent  2015      110000  Gasolina   7000   \n11               Toyota Yaris  2009      194000  Gasolina   6600   \n12          Mitsubishi Lancer  2015      110000  Gasolina   8000   \n13               Nissan Versa  2013       90520  Gasolina   5500   \n14             Toyota Corolla  2016       52281  Gasolina  10800   \n15             Hyundai Accent  2016       99000  Gasolina   7690   \n16          Mitsubishi Mirage  2018       99000  Gasolina   7790   \n17       Mitsubishi Mirage G4  2017       66000  Gasolina   7700   \n18             Toyota Corolla  2002      193079  Gasolina   3500   \n19                  Kia Forte  2017       44000  Gasolina   8500   \n20               Nissan Versa  2016      100000  Gasolina   6500   \n21               Toyota Yaris  2008      134411  Gasolina   6300   \n22                Hyundai i10  2016     1440000  Gasolina   6100   \n23                Honda Civic  2016       89000  Gasolina    200   \n24          Volkswagen Passat  2017       73225  Gasolina  11900   \n25                Honda Civic  2018       46700  Gasolina  12500   \n26            Volkswagen Polo  2002      188477  Gasolina   2300   \n27                    BMW 328  2012       91500  Gasolina   9000   \n28               Nissan Versa  2017       10877  Gasolina   6700   \n29                    Mazda 3  2010      127200  Gasolina   4800   \n30                    Kia Rio  2017       83000  Gasolina   8500   \n31          Mitsubishi Galant  2003      160843  Gasolina   3500   \n32                Honda Civic  2019       30000  Gasolina  12400   \n33              Nissan Sentra  2020       32000  Gasolina  13000   \n34                  Kia Forte  2020       65000  Gasolina  10500   \n35              Nissan Sentra  2017       34000  Gasolina   6300   \n36  otros + Datsun 120 Y 1979  1979           0  Gasolina   3900   \n37                    Kia RIO  2017       83000  Gasolina   8500   \n38              Nissan Sentra  2019       56000  Gasolina   9000   \n39              Nissan Sentra  2015       80000  Gasolina   7500   \n40             Hyundai Accent  2016       14400  Gasolina   7700   \n41                Honda Civic  2010      245710  Gasolina   6200   \n42                Honda Civic  2010      245231  Gasolina   6200   \n43            Hyundai Elantra  2016      180000  Gasolina   7800   \n\n                                          description  \n0   Garantía: Como es visto no hay garantía Financ...  \n1   Precio negociable: si Color : Negro DESCRIPCIÓ...  \n2   Garantía: Como es visto no hay garantía Financ...  \n3   Garantía: Como es visto no hay garantía Financ...  \n4   Vendo Toyota Corolla 2018. Full extras. Automá...  \n5   Vendo Mitsubishi Mirage G4 2018 Full extras, c...  \n6   Precio negociable: si Color : Azul DESCRIPCIÓN...  \n7   Color : Black DESCRIPCIÓN CALIFICACIONES SEGUR...  \n8   Color : Gris Carro en buenas condiciones, de u...  \n9   Color : Rojo vino DESCRIPCIÓN CALIFICACIONES S...  \n10  Color : Blanco DESCRIPCIÓN CALIFICACIONES SEGU...  \n11  Garantía: Como es visto no hay garantía Financ...  \n12  Color : azul Automatico, precio negociable Mot...  \n13  DESCRIPCIÓN CALIFICACIONES SEGURIDAD Suspensió...  \n14  Financiamiento: no Precio negociable: si Color...  \n15  Garantía: Como es visto no hay garantía Financ...  \n16  Garantía: Como es visto no hay garantía Financ...  \n17  Color : Gris Se vende Mitsubishi Mirage G4 201...  \n18  Precio negociable: si DESCRIPCIÓN CALIFICACION...  \n19  Precio negociable: si Color : Blanco DESCRIPCI...  \n20  Precio negociable: si DESCRIPCIÓN CALIFICACION...  \n21  Financiamiento: no Precio negociable: si Color...  \n22  Precio negociable: si Color : Gris Rata Vendo ...  \n23  Color : Azul DESCRIPCIÓN CALIFICACIONES SEGURI...  \n24  Garantía: Como es visto no hay garantía Financ...  \n25  Precio negociable: si Color : BLANCO En excele...  \n26  Precio negociable: si Color : Azul oscuro vend...  \n27  Bmw 328i E92 LCI 2012, todos sus mantenimiento...  \n28  Precio negociable: si Color : Gris DESCRIPCIÓN...  \n29  Precio negociable: si Color : negro Vendo mazd...  \n30  Color : Blanco DESCRIPCIÓN CALIFICACIONES SEGU...  \n31  Garantía: Como es visto no hay garantía Financ...  \n32  Precio negociable: si Vendo Honda Civic 2019, ...  \n33  Precio negociable: si Vendo Nissan Sentra 2020...  \n34  Precio negociable: si Vendo Kia Forte 2020, Mo...  \n35  Precio negociable: si DESCRIPCIÓN CALIFICACION...  \n36  Precio negociable: si Color : Verde A los aman...  \n37  Precio negociable: si Color : Gris Plata DESCR...  \n38  Color : Gris Nissan Sentra SV 2019 Airbags fro...  \n39  Garantía: Como es visto no hay garantía Financ...  \n40  Precio negociable: si Color : Azul DESCRIPCIÓN...  \n41  DESCRIPCIÓN CALIFICACIONES SEGURIDAD Vendo Hon...  \n42  Precio negociable: si Color : Gris DESCRIPCIÓN...  \n43  Precio negociable: si Color : Gris DESCRIPCIÓN...  ",
      "text/html": "<div>\n<style scoped>\n    .dataframe tbody tr th:only-of-type {\n        vertical-align: middle;\n    }\n\n    .dataframe tbody tr th {\n        vertical-align: top;\n    }\n\n    .dataframe thead th {\n        text-align: right;\n    }\n</style>\n<table border=\"1\" class=\"dataframe\">\n  <thead>\n    <tr style=\"text-align: right;\">\n      <th></th>\n      <th>model</th>\n      <th>year</th>\n      <th>kilometers</th>\n      <th>engine</th>\n      <th>price</th>\n      <th>description</th>\n    </tr>\n  </thead>\n  <tbody>\n    <tr>\n      <th>0</th>\n      <td>Toyota Corolla</td>\n      <td>2021</td>\n      <td>52179</td>\n      <td>Gasolina</td>\n      <td>13600</td>\n      <td>Garantía: Como es visto no hay garantía Financ...</td>\n    </tr>\n    <tr>\n      <th>1</th>\n      <td>Hyundai Elantra</td>\n      <td>2017</td>\n      <td>59000</td>\n      <td>Gasolina</td>\n      <td>9800</td>\n      <td>Precio negociable: si Color : Negro DESCRIPCIÓ...</td>\n    </tr>\n    <tr>\n      <th>2</th>\n      <td>Toyota Corolla</td>\n      <td>2018</td>\n      <td>71306</td>\n      <td>Gasolina</td>\n      <td>9950</td>\n      <td>Garantía: Como es visto no hay garantía Financ...</td>\n    </tr>\n    <tr>\n      <th>3</th>\n      <td>Nissan Sentra</td>\n      <td>2018</td>\n      <td>70822</td>\n      <td>Gasolina</td>\n      <td>6200</td>\n      <td>Garantía: Como es visto no hay garantía Financ...</td>\n    </tr>\n    <tr>\n      <th>4</th>\n      <td>Toyota Corolla</td>\n      <td>2018</td>\n      <td>68000</td>\n      <td>Gasolina</td>\n      <td>11500</td>\n      <td>Vendo Toyota Corolla 2018. Full extras. Automá...</td>\n    </tr>\n    <tr>\n      <th>5</th>\n      <td>Mitsubishi Mirage G4</td>\n      <td>2018</td>\n      <td>66000</td>\n      <td>Gasolina</td>\n      <td>7900</td>\n      <td>Vendo Mitsubishi Mirage G4 2018 Full extras, c...</td>\n    </tr>\n    <tr>\n      <th>6</th>\n      <td>Nissan Versa</td>\n      <td>2017</td>\n      <td>86000</td>\n      <td>Gasolina</td>\n      <td>6200</td>\n      <td>Precio negociable: si Color : Azul DESCRIPCIÓN...</td>\n    </tr>\n    <tr>\n      <th>7</th>\n      <td>Kia Forte</td>\n      <td>2012</td>\n      <td>89000</td>\n      <td>Gasolina</td>\n      <td>6000</td>\n      <td>Color : Black DESCRIPCIÓN CALIFICACIONES SEGUR...</td>\n    </tr>\n    <tr>\n      <th>8</th>\n      <td>Chevrolet Sonic</td>\n      <td>2018</td>\n      <td>135422</td>\n      <td>Gasolina</td>\n      <td>7300</td>\n      <td>Color : Gris Carro en buenas condiciones, de u...</td>\n    </tr>\n    <tr>\n      <th>9</th>\n      <td>Toyota Corolla</td>\n      <td>1996</td>\n      <td>180</td>\n      <td>Gasolina</td>\n      <td>4000</td>\n      <td>Color : Rojo vino DESCRIPCIÓN CALIFICACIONES S...</td>\n    </tr>\n    <tr>\n      <th>10</th>\n      <td>Hyundai Accent</td>\n      <td>2015</td>\n      <td>110000</td>\n      <td>Gasolina</td>\n      <td>7000</td>\n      <td>Color : Blanco DESCRIPCIÓN CALIFICACIONES SEGU...</td>\n    </tr>\n    <tr>\n      <th>11</th>\n      <td>Toyota Yaris</td>\n      <td>2009</td>\n      <td>194000</td>\n      <td>Gasolina</td>\n      <td>6600</td>\n      <td>Garantía: Como es visto no hay garantía Financ...</td>\n    </tr>\n    <tr>\n      <th>12</th>\n      <td>Mitsubishi Lancer</td>\n      <td>2015</td>\n      <td>110000</td>\n      <td>Gasolina</td>\n      <td>8000</td>\n      <td>Color : azul Automatico, precio negociable Mot...</td>\n    </tr>\n    <tr>\n      <th>13</th>\n      <td>Nissan Versa</td>\n      <td>2013</td>\n      <td>90520</td>\n      <td>Gasolina</td>\n      <td>5500</td>\n      <td>DESCRIPCIÓN CALIFICACIONES SEGURIDAD Suspensió...</td>\n    </tr>\n    <tr>\n      <th>14</th>\n      <td>Toyota Corolla</td>\n      <td>2016</td>\n      <td>52281</td>\n      <td>Gasolina</td>\n      <td>10800</td>\n      <td>Financiamiento: no Precio negociable: si Color...</td>\n    </tr>\n    <tr>\n      <th>15</th>\n      <td>Hyundai Accent</td>\n      <td>2016</td>\n      <td>99000</td>\n      <td>Gasolina</td>\n      <td>7690</td>\n      <td>Garantía: Como es visto no hay garantía Financ...</td>\n    </tr>\n    <tr>\n      <th>16</th>\n      <td>Mitsubishi Mirage</td>\n      <td>2018</td>\n      <td>99000</td>\n      <td>Gasolina</td>\n      <td>7790</td>\n      <td>Garantía: Como es visto no hay garantía Financ...</td>\n    </tr>\n    <tr>\n      <th>17</th>\n      <td>Mitsubishi Mirage G4</td>\n      <td>2017</td>\n      <td>66000</td>\n      <td>Gasolina</td>\n      <td>7700</td>\n      <td>Color : Gris Se vende Mitsubishi Mirage G4 201...</td>\n    </tr>\n    <tr>\n      <th>18</th>\n      <td>Toyota Corolla</td>\n      <td>2002</td>\n      <td>193079</td>\n      <td>Gasolina</td>\n      <td>3500</td>\n      <td>Precio negociable: si DESCRIPCIÓN CALIFICACION...</td>\n    </tr>\n    <tr>\n      <th>19</th>\n      <td>Kia Forte</td>\n      <td>2017</td>\n      <td>44000</td>\n      <td>Gasolina</td>\n      <td>8500</td>\n      <td>Precio negociable: si Color : Blanco DESCRIPCI...</td>\n    </tr>\n    <tr>\n      <th>20</th>\n      <td>Nissan Versa</td>\n      <td>2016</td>\n      <td>100000</td>\n      <td>Gasolina</td>\n      <td>6500</td>\n      <td>Precio negociable: si DESCRIPCIÓN CALIFICACION...</td>\n    </tr>\n    <tr>\n      <th>21</th>\n      <td>Toyota Yaris</td>\n      <td>2008</td>\n      <td>134411</td>\n      <td>Gasolina</td>\n      <td>6300</td>\n      <td>Financiamiento: no Precio negociable: si Color...</td>\n    </tr>\n    <tr>\n      <th>22</th>\n      <td>Hyundai i10</td>\n      <td>2016</td>\n      <td>1440000</td>\n      <td>Gasolina</td>\n      <td>6100</td>\n      <td>Precio negociable: si Color : Gris Rata Vendo ...</td>\n    </tr>\n    <tr>\n      <th>23</th>\n      <td>Honda Civic</td>\n      <td>2016</td>\n      <td>89000</td>\n      <td>Gasolina</td>\n      <td>200</td>\n      <td>Color : Azul DESCRIPCIÓN CALIFICACIONES SEGURI...</td>\n    </tr>\n    <tr>\n      <th>24</th>\n      <td>Volkswagen Passat</td>\n      <td>2017</td>\n      <td>73225</td>\n      <td>Gasolina</td>\n      <td>11900</td>\n      <td>Garantía: Como es visto no hay garantía Financ...</td>\n    </tr>\n    <tr>\n      <th>25</th>\n      <td>Honda Civic</td>\n      <td>2018</td>\n      <td>46700</td>\n      <td>Gasolina</td>\n      <td>12500</td>\n      <td>Precio negociable: si Color : BLANCO En excele...</td>\n    </tr>\n    <tr>\n      <th>26</th>\n      <td>Volkswagen Polo</td>\n      <td>2002</td>\n      <td>188477</td>\n      <td>Gasolina</td>\n      <td>2300</td>\n      <td>Precio negociable: si Color : Azul oscuro vend...</td>\n    </tr>\n    <tr>\n      <th>27</th>\n      <td>BMW 328</td>\n      <td>2012</td>\n      <td>91500</td>\n      <td>Gasolina</td>\n      <td>9000</td>\n      <td>Bmw 328i E92 LCI 2012, todos sus mantenimiento...</td>\n    </tr>\n    <tr>\n      <th>28</th>\n      <td>Nissan Versa</td>\n      <td>2017</td>\n      <td>10877</td>\n      <td>Gasolina</td>\n      <td>6700</td>\n      <td>Precio negociable: si Color : Gris DESCRIPCIÓN...</td>\n    </tr>\n    <tr>\n      <th>29</th>\n      <td>Mazda 3</td>\n      <td>2010</td>\n      <td>127200</td>\n      <td>Gasolina</td>\n      <td>4800</td>\n      <td>Precio negociable: si Color : negro Vendo mazd...</td>\n    </tr>\n    <tr>\n      <th>30</th>\n      <td>Kia Rio</td>\n      <td>2017</td>\n      <td>83000</td>\n      <td>Gasolina</td>\n      <td>8500</td>\n      <td>Color : Blanco DESCRIPCIÓN CALIFICACIONES SEGU...</td>\n    </tr>\n    <tr>\n      <th>31</th>\n      <td>Mitsubishi Galant</td>\n      <td>2003</td>\n      <td>160843</td>\n      <td>Gasolina</td>\n      <td>3500</td>\n      <td>Garantía: Como es visto no hay garantía Financ...</td>\n    </tr>\n    <tr>\n      <th>32</th>\n      <td>Honda Civic</td>\n      <td>2019</td>\n      <td>30000</td>\n      <td>Gasolina</td>\n      <td>12400</td>\n      <td>Precio negociable: si Vendo Honda Civic 2019, ...</td>\n    </tr>\n    <tr>\n      <th>33</th>\n      <td>Nissan Sentra</td>\n      <td>2020</td>\n      <td>32000</td>\n      <td>Gasolina</td>\n      <td>13000</td>\n      <td>Precio negociable: si Vendo Nissan Sentra 2020...</td>\n    </tr>\n    <tr>\n      <th>34</th>\n      <td>Kia Forte</td>\n      <td>2020</td>\n      <td>65000</td>\n      <td>Gasolina</td>\n      <td>10500</td>\n      <td>Precio negociable: si Vendo Kia Forte 2020, Mo...</td>\n    </tr>\n    <tr>\n      <th>35</th>\n      <td>Nissan Sentra</td>\n      <td>2017</td>\n      <td>34000</td>\n      <td>Gasolina</td>\n      <td>6300</td>\n      <td>Precio negociable: si DESCRIPCIÓN CALIFICACION...</td>\n    </tr>\n    <tr>\n      <th>36</th>\n      <td>otros + Datsun 120 Y 1979</td>\n      <td>1979</td>\n      <td>0</td>\n      <td>Gasolina</td>\n      <td>3900</td>\n      <td>Precio negociable: si Color : Verde A los aman...</td>\n    </tr>\n    <tr>\n      <th>37</th>\n      <td>Kia RIO</td>\n      <td>2017</td>\n      <td>83000</td>\n      <td>Gasolina</td>\n      <td>8500</td>\n      <td>Precio negociable: si Color : Gris Plata DESCR...</td>\n    </tr>\n    <tr>\n      <th>38</th>\n      <td>Nissan Sentra</td>\n      <td>2019</td>\n      <td>56000</td>\n      <td>Gasolina</td>\n      <td>9000</td>\n      <td>Color : Gris Nissan Sentra SV 2019 Airbags fro...</td>\n    </tr>\n    <tr>\n      <th>39</th>\n      <td>Nissan Sentra</td>\n      <td>2015</td>\n      <td>80000</td>\n      <td>Gasolina</td>\n      <td>7500</td>\n      <td>Garantía: Como es visto no hay garantía Financ...</td>\n    </tr>\n    <tr>\n      <th>40</th>\n      <td>Hyundai Accent</td>\n      <td>2016</td>\n      <td>14400</td>\n      <td>Gasolina</td>\n      <td>7700</td>\n      <td>Precio negociable: si Color : Azul DESCRIPCIÓN...</td>\n    </tr>\n    <tr>\n      <th>41</th>\n      <td>Honda Civic</td>\n      <td>2010</td>\n      <td>245710</td>\n      <td>Gasolina</td>\n      <td>6200</td>\n      <td>DESCRIPCIÓN CALIFICACIONES SEGURIDAD Vendo Hon...</td>\n    </tr>\n    <tr>\n      <th>42</th>\n      <td>Honda Civic</td>\n      <td>2010</td>\n      <td>245231</td>\n      <td>Gasolina</td>\n      <td>6200</td>\n      <td>Precio negociable: si Color : Gris DESCRIPCIÓN...</td>\n    </tr>\n    <tr>\n      <th>43</th>\n      <td>Hyundai Elantra</td>\n      <td>2016</td>\n      <td>180000</td>\n      <td>Gasolina</td>\n      <td>7800</td>\n      <td>Precio negociable: si Color : Gris DESCRIPCIÓN...</td>\n    </tr>\n  </tbody>\n</table>\n</div>"
     },
     "execution_count": 46,
     "metadata": {},
     "output_type": "execute_result"
    }
   ],
   "source": [
    "df_temp"
   ],
   "metadata": {
    "collapsed": false,
    "ExecuteTime": {
     "end_time": "2024-01-08T00:26:39.329584400Z",
     "start_time": "2024-01-08T00:26:39.307584300Z"
    }
   },
   "execution_count": 46
  }
 ],
 "metadata": {
  "kernelspec": {
   "display_name": "Python 3",
   "language": "python",
   "name": "python3"
  },
  "language_info": {
   "codemirror_mode": {
    "name": "ipython",
    "version": 2
   },
   "file_extension": ".py",
   "mimetype": "text/x-python",
   "name": "python",
   "nbconvert_exporter": "python",
   "pygments_lexer": "ipython2",
   "version": "2.7.6"
  }
 },
 "nbformat": 4,
 "nbformat_minor": 0
}
