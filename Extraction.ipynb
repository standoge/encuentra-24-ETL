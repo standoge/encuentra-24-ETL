{
 "cells": [
  {
   "cell_type": "markdown",
   "source": [
    "## Dependencies"
   ],
   "metadata": {
    "collapsed": false
   }
  },
  {
   "cell_type": "markdown",
   "source": [
    "---"
   ],
   "metadata": {
    "collapsed": false
   }
  },
  {
   "cell_type": "code",
   "execution_count": 1,
   "outputs": [],
   "source": [
    "import yaml\n",
    "import re\n",
    "from datetime import datetime\n",
    "import pandas as pd"
   ],
   "metadata": {
    "collapsed": false,
    "ExecuteTime": {
     "end_time": "2023-09-12T05:15:32.980232400Z",
     "start_time": "2023-09-12T05:15:31.781282400Z"
    }
   }
  },
  {
   "cell_type": "code",
   "execution_count": 2,
   "outputs": [],
   "source": [
    "from selenium import webdriver\n",
    "from selenium.webdriver.common.by import By\n",
    "from selenium.webdriver.edge.service import Service\n",
    "from webdriver_manager.microsoft import EdgeChromiumDriverManager\n",
    "from selenium.webdriver.support.ui import WebDriverWait\n",
    "from selenium.webdriver.edge.options import Options\n",
    "from selenium.webdriver.support import expected_conditions as EC\n",
    "from selenium.common.exceptions import NoSuchElementException\n",
    "from selenium.common.exceptions import TimeoutException\n"
   ],
   "metadata": {
    "collapsed": false,
    "ExecuteTime": {
     "end_time": "2023-09-12T05:15:33.760496600Z",
     "start_time": "2023-09-12T05:15:32.981234200Z"
    }
   }
  },
  {
   "cell_type": "markdown",
   "source": [
    "Setting up web driver."
   ],
   "metadata": {
    "collapsed": false
   }
  },
  {
   "cell_type": "code",
   "execution_count": 3,
   "outputs": [
    {
     "name": "stderr",
     "output_type": "stream",
     "text": [
      "[WDM] - Downloading: 100%|██████████| 7.73M/7.73M [00:01<00:00, 5.39MB/s]\n"
     ]
    }
   ],
   "source": [
    "EdgeOptions = Options()\n",
    "EdgeOptions.add_argument(\"--headless\")\n",
    "edge = webdriver.Edge(service=Service(EdgeChromiumDriverManager().install()), options=EdgeOptions)"
   ],
   "metadata": {
    "collapsed": false,
    "ExecuteTime": {
     "end_time": "2023-09-12T05:15:38.828509600Z",
     "start_time": "2023-09-12T05:15:33.761497400Z"
    }
   }
  },
  {
   "cell_type": "markdown",
   "source": [
    "## Extract"
   ],
   "metadata": {
    "collapsed": false
   }
  },
  {
   "cell_type": "markdown",
   "source": [
    "---"
   ],
   "metadata": {
    "collapsed": false
   }
  },
  {
   "cell_type": "markdown",
   "source": [
    "### Functions:"
   ],
   "metadata": {
    "collapsed": false
   }
  },
  {
   "cell_type": "code",
   "execution_count": 4,
   "outputs": [],
   "source": [
    "def resources(name: str) -> dict[str:str]:\n",
    "    \"\"\"Read yaml file to get xpath resources\n",
    "    \n",
    "    :param name: name of the resource to extract\n",
    "    :return: the xpath\n",
    "    \"\"\"\n",
    "    with open(\"xpath.yml\", \"r\") as f:\n",
    "        content: dict[str:str] = yaml.safe_load(f)\n",
    "        return content[name]"
   ],
   "metadata": {
    "collapsed": false,
    "ExecuteTime": {
     "end_time": "2023-09-12T05:15:38.855509700Z",
     "start_time": "2023-09-12T05:15:38.828509600Z"
    }
   }
  },
  {
   "cell_type": "code",
   "execution_count": 5,
   "outputs": [],
   "source": [
    "def close_prompt(driver: webdriver) -> None:\n",
    "    \"\"\"Close prompt when is required\n",
    "    \n",
    "    :param driver: browser instance \n",
    "    \"\"\"\n",
    "    button: str = \"//a[@class='btn btn-subscription-light']\"\n",
    "    driver.find_element(by=By.XPATH, value=button).click()"
   ],
   "metadata": {
    "collapsed": false,
    "ExecuteTime": {
     "end_time": "2023-09-12T05:15:38.897509100Z",
     "start_time": "2023-09-12T05:15:38.846510700Z"
    }
   }
  },
  {
   "cell_type": "code",
   "execution_count": 6,
   "outputs": [],
   "source": [
    "def click_element(element: webdriver, path: str) -> None:\n",
    "    \"\"\"Click on element in the current browser page\n",
    "    \n",
    "    :param element: browser instance\n",
    "    :param path: xpath of element to click\n",
    "    \"\"\"\n",
    "    button = element.find_element(by=By.XPATH, value=path)\n",
    "    button.click()"
   ],
   "metadata": {
    "collapsed": false,
    "ExecuteTime": {
     "end_time": "2023-09-12T05:15:38.898511500Z",
     "start_time": "2023-09-12T05:15:38.858509900Z"
    }
   }
  },
  {
   "cell_type": "code",
   "execution_count": 7,
   "outputs": [],
   "source": [
    "def extract_feature_in(element: webdriver, path: str) -> str:\n",
    "    \"\"\"Extract ad feature where current browser page is the ad page\n",
    "    \n",
    "    :param element: browser instance\n",
    "    :param path: xpath of feature to extract\n",
    "    :return: feature extracted\n",
    "    \"\"\"\n",
    "    feature: str = element.find_element(by=By.XPATH, value=path)\n",
    "    return feature"
   ],
   "metadata": {
    "collapsed": false,
    "ExecuteTime": {
     "end_time": "2023-09-12T05:15:38.899510300Z",
     "start_time": "2023-09-12T05:15:38.876513200Z"
    }
   }
  },
  {
   "cell_type": "code",
   "execution_count": 8,
   "outputs": [],
   "source": [
    "def extract_feature_out(element: webdriver, path: str) -> list[str]:\n",
    "    \"\"\"Extract ad feature where current browser page is the listing page (not in the ad)\n",
    "    \n",
    "    :param element: browser instance\n",
    "    :param path: xpath of feature to extract\n",
    "    :return: list of features\n",
    "    \"\"\"\n",
    "    feature = []\n",
    "\n",
    "    try:\n",
    "        feature: str = element.find_elements(by=By.XPATH, value=path)\n",
    "        feature = [data_point.text for data_point in feature]\n",
    "        return feature\n",
    "    except Exception:\n",
    "        feature.append(\"Web wasn't able to scrape the feature\")"
   ],
   "metadata": {
    "collapsed": false,
    "ExecuteTime": {
     "end_time": "2023-09-12T05:15:38.925509600Z",
     "start_time": "2023-09-12T05:15:38.891508900Z"
    }
   }
  },
  {
   "cell_type": "code",
   "execution_count": 9,
   "outputs": [],
   "source": [
    "def persistence(dataframe: pd.DataFrame) -> None:\n",
    "    \"\"\"Save dataframe to csv file\n",
    "    \n",
    "    :param dataframe: dataframe to save\n",
    "    \"\"\"\n",
    "    file_name = datetime.today().strftime(\"%B-%d\")\n",
    "    dataframe.to_csv(f\"persistence/{file_name}.csv\", index=False)"
   ],
   "metadata": {
    "collapsed": false,
    "ExecuteTime": {
     "end_time": "2023-09-12T05:15:38.926509900Z",
     "start_time": "2023-09-12T05:15:38.906510600Z"
    }
   }
  },
  {
   "cell_type": "code",
   "execution_count": 10,
   "outputs": [],
   "source": [
    "def get_len(features: list[list[str]]) -> bool:\n",
    "    \"\"\"Check if all features has the same length to create new df\n",
    "    \n",
    "    :param features: list of features extracted with scraping\n",
    "    :return: a list with all lengths where first place is the len of the first element and the mostly accepted.\n",
    "    \"\"\"\n",
    "    base_len = len(features[0])\n",
    "    lengths = []\n",
    "    lengths.append(base_len)\n",
    "    for feature in features:\n",
    "        if len(feature) == base_len:\n",
    "            continue\n",
    "        else:\n",
    "            lengths.append(len(feature))\n",
    "    return lengths"
   ],
   "metadata": {
    "collapsed": false,
    "ExecuteTime": {
     "end_time": "2023-09-12T05:15:38.968511500Z",
     "start_time": "2023-09-12T05:15:38.922509Z"
    }
   }
  },
  {
   "cell_type": "code",
   "execution_count": 11,
   "outputs": [],
   "source": [
    "def check_len(lengths: list[int]) -> bool:\n",
    "    \"\"\"Check if all elements in list has the same value.\n",
    "    \n",
    "    :param lengths: list of lengths\n",
    "    :return: a boolean\n",
    "    \"\"\"\n",
    "    for length in lengths[1:]:\n",
    "        if length != lengths[0]:\n",
    "            return False\n",
    "        return True"
   ],
   "metadata": {
    "collapsed": false,
    "ExecuteTime": {
     "end_time": "2023-09-12T05:15:38.969511900Z",
     "start_time": "2023-09-12T05:15:38.941510200Z"
    }
   }
  },
  {
   "cell_type": "markdown",
   "source": [
    "Variables pool."
   ],
   "metadata": {
    "collapsed": false
   }
  },
  {
   "cell_type": "code",
   "execution_count": 12,
   "outputs": [],
   "source": [
    "descriptions: list[str] = []\n",
    "prices: list[int] = []\n",
    "models: list[str] = []\n",
    "years: list[int] = []\n",
    "kilometers: list[int] = []\n",
    "engines: list[str] = []\n",
    "\n",
    "# seconds\n",
    "DELAY: int = 1\n",
    "SEDAN = resources(\"cars_sedan\")"
   ],
   "metadata": {
    "collapsed": false,
    "ExecuteTime": {
     "end_time": "2023-09-12T05:15:38.971509400Z",
     "start_time": "2023-09-12T05:15:38.955509600Z"
    }
   }
  },
  {
   "cell_type": "markdown",
   "source": [
    "Get web page and close prompt (when is required)."
   ],
   "metadata": {
    "collapsed": false
   }
  },
  {
   "cell_type": "code",
   "execution_count": 13,
   "outputs": [],
   "source": [
    "edge.get(SEDAN[\"url\"])\n",
    "# close_prompt(edge)"
   ],
   "metadata": {
    "collapsed": false,
    "ExecuteTime": {
     "end_time": "2023-09-12T05:15:46.082999Z",
     "start_time": "2023-09-12T05:15:38.970511400Z"
    }
   }
  },
  {
   "cell_type": "markdown",
   "source": [
    "Extract car features."
   ],
   "metadata": {
    "collapsed": false
   }
  },
  {
   "cell_type": "code",
   "execution_count": 14,
   "outputs": [],
   "source": [
    "# Get this list of ads and click on the first one\n",
    "elements = edge.find_elements(by=By.XPATH, value=SEDAN[\"ad\"])\n",
    "elements[0].click()\n",
    "\n",
    "try:\n",
    "    for element in range(len(elements)):\n",
    "        # Wait until the element is present to avoid missing data\n",
    "        dynamic_delay = WebDriverWait(edge, DELAY).until(\n",
    "            EC.presence_of_element_located((By.XPATH, SEDAN[\"description\"])))\n",
    "\n",
    "        brand_str = extract_feature_in(edge, SEDAN[\"brand\"]).text\n",
    "        model_str = extract_feature_in(edge, SEDAN[\"model\"]).text\n",
    "        models.append(brand_str + \" \" + model_str)\n",
    "\n",
    "        descriptions.append(extract_feature_in(edge, SEDAN[\"description\"]).text)\n",
    "        prices.append(extract_feature_in(edge, SEDAN[\"price\"]).text)\n",
    "        kilometers.append(extract_feature_in(edge, SEDAN[\"kilometers\"]).text)\n",
    "        engines.append(extract_feature_in(edge, SEDAN[\"engine\"]).text)\n",
    "        years.append(extract_feature_in(edge, SEDAN[\"year\"]).text)\n",
    "\n",
    "        click_element(edge, SEDAN[\"next\"])\n",
    "except TimeoutException as TE:\n",
    "    descriptions.append(\"Web wasn't able to scrape descriptions\")\n",
    "except NoSuchElementException as NSE:\n",
    "    click_element(edge, SEDAN[\"exit\"])"
   ],
   "metadata": {
    "collapsed": false,
    "ExecuteTime": {
     "end_time": "2023-09-12T05:17:38.676243900Z",
     "start_time": "2023-09-12T05:15:46.091998600Z"
    }
   }
  },
  {
   "cell_type": "markdown",
   "source": [
    "## Export"
   ],
   "metadata": {
    "collapsed": false
   }
  },
  {
   "cell_type": "markdown",
   "source": [
    "---"
   ],
   "metadata": {
    "collapsed": false
   }
  },
  {
   "cell_type": "markdown",
   "source": [
    "### Functions:"
   ],
   "metadata": {
    "collapsed": false
   }
  },
  {
   "cell_type": "code",
   "execution_count": 15,
   "outputs": [],
   "source": [
    "def parse_price(dataframe: pd.DataFrame, feature: str, pattern: str) -> None:\n",
    "    \"\"\"Parse financial features like prices. Works with $#,### (not dot)\n",
    "    \n",
    "    :param dataframe: object towards apply transformation\n",
    "    :param feature: feature name towards apply transformation\n",
    "    :param pattern: feature pattern to transform\n",
    "    \"\"\"\n",
    "    dataframe[feature] = dataframe[feature] \\\n",
    "        .str.extract(pattern) \\\n",
    "        .applymap(lambda price: int(price.replace(\",\", \"\")))\n"
   ],
   "metadata": {
    "collapsed": false,
    "ExecuteTime": {
     "end_time": "2023-09-12T05:17:38.700243500Z",
     "start_time": "2023-09-12T05:17:38.678246Z"
    }
   }
  },
  {
   "cell_type": "code",
   "execution_count": 16,
   "outputs": [],
   "source": [
    "def remove_chars(dataframe: pd.DataFrame, feature: str, wildcards: str) -> pd.Series:\n",
    "    \"\"\"Remove escaped characters from features like indented large extracts of text\n",
    "    \n",
    "    :param dataframe: object towards apply transformation\n",
    "    :param feature: feature name towards apply transformation\n",
    "    :param wildcards: escaped characters to remove\n",
    "    :return: Serie without escaped characters\n",
    "    \"\"\"\n",
    "    return (dataframe\n",
    "    .apply(\n",
    "        lambda row: row[feature]\n",
    "        , axis=1\n",
    "    )\n",
    "    .apply(\n",
    "        lambda extracted_f: re.sub(wildcards, r' ', extracted_f)\n",
    "    )\n",
    "    )\n"
   ],
   "metadata": {
    "collapsed": false,
    "ExecuteTime": {
     "end_time": "2023-09-12T05:17:38.742247600Z",
     "start_time": "2023-09-12T05:17:38.696244800Z"
    }
   }
  },
  {
   "cell_type": "code",
   "execution_count": 17,
   "outputs": [],
   "source": [
    "PRICE_RG: str = r\"^\\$(?P<prices>\\d+,?\\d+)?\"\n",
    "KM_REG: str = r\"(?P<km>^\\d+)\"\n",
    "CHARACTER_RG: str = '(\\n|\\r)+'"
   ],
   "metadata": {
    "collapsed": false,
    "ExecuteTime": {
     "end_time": "2023-09-12T05:17:38.743250300Z",
     "start_time": "2023-09-12T05:17:38.711243700Z"
    }
   }
  },
  {
   "cell_type": "markdown",
   "source": [
    "Check that all features has the same length."
   ],
   "metadata": {
    "collapsed": false
   }
  },
  {
   "cell_type": "code",
   "execution_count": 18,
   "outputs": [
    {
     "data": {
      "text/plain": "[45, 45, 45, 45, 45, 45]"
     },
     "execution_count": 18,
     "metadata": {},
     "output_type": "execute_result"
    }
   ],
   "source": [
    "lengths = [len(engines), len(models), len(years), len(kilometers), len(prices), len(descriptions)]\n",
    "lengths"
   ],
   "metadata": {
    "collapsed": false,
    "ExecuteTime": {
     "end_time": "2023-09-12T05:17:38.744244600Z",
     "start_time": "2023-09-12T05:17:38.725245100Z"
    }
   }
  },
  {
   "cell_type": "markdown",
   "source": [
    "Create dataframe to transform data extracted"
   ],
   "metadata": {
    "collapsed": false
   }
  },
  {
   "cell_type": "code",
   "execution_count": 19,
   "outputs": [],
   "source": [
    "if check_len(lengths):\n",
    "    df_temp = pd.DataFrame({\n",
    "        \"model\": models,\n",
    "        \"year\": years,\n",
    "        \"kilometers\": kilometers,\n",
    "        \"engine\": engines,\n",
    "        \"price\": prices,\n",
    "        \"description\": descriptions\n",
    "    })\n",
    "\n",
    "    # Parse features. String to number and raw string with characters to structured string.\n",
    "    parse_price(df_temp, \"price\", PRICE_RG)\n",
    "    df_temp[\"kilometers\"] = df_temp[\"kilometers\"].str.extract(KM_REG).applymap(int)\n",
    "    df_temp[\"year\"] = df_temp[\"year\"].map(int)\n",
    "    df_temp[\"description\"] = remove_chars(df_temp, \"description\", CHARACTER_RG)\n",
    "\n",
    "    persistence(df_temp)\n"
   ],
   "metadata": {
    "collapsed": false,
    "ExecuteTime": {
     "end_time": "2023-09-12T05:17:38.830243500Z",
     "start_time": "2023-09-12T05:17:38.751242500Z"
    }
   }
  },
  {
   "cell_type": "code",
   "execution_count": 20,
   "outputs": [
    {
     "data": {
      "text/plain": "                   model  year  kilometers    engine  price  \\\n0          Nissan Sentra  2009      115000  Gasolina   4500   \n1   Volkswagen Jetta GLI  2014       78000  Gasolina   9000   \n2            Honda Civic  2015       61065  Gasolina  15000   \n3          Nissan Sentra  2015       72000  Gasolina   7000   \n4            Ford Fiesta  2017      125367  Gasolina   6300   \n5          Nissan Sentra  2020       32000  Gasolina  13500   \n6         Hyundai Accent  2017      114000  Gasolina   7900   \n7            Honda Civic  2012      130000  Gasolina   6800   \n8           Nissan Versa  2019       40205  Gasolina   7800   \n9         Toyota Corolla  1996           0  Gasolina   5500   \n10         Nissan Sentra  2019           0  Gasolina   9300   \n11             Kia Forte  2012      139000  Gasolina   6400   \n12          Nissan Versa  2011      110000  Gasolina   4500   \n13               Kia Rio  2018       70929  Gasolina   9000   \n14         Nissan Sentra  2020       32000  Gasolina  13700   \n15        Hyundai Accent  2005        1000  Gasolina   2650   \n16         Nissan Sentra  2018       74741  Gasolina   8000   \n17         Nissan Sentra  2016       47000  Gasolina   8300   \n18            Ford Focus  2013      141000  Gasolina   5000   \n19          BMW 3 Series  2015      114000  Gasolina  15500   \n20                 Kia E  2000           0  Gasolina   2500   \n21             Kia Forte  2020       65000  Gasolina  12999   \n22             Acura TLX  2015       11100  Gasolina  11000   \n23     Mitsubishi Lancer  2010      115000  Gasolina   6000   \n24           Honda Civic  2017       34000  Gasolina  11500   \n25          Nissan Versa  2017      135000  Gasolina   6300   \n26        Hyundai Accent  2010      193588  Gasolina   5000   \n27          Nissan Versa  2018       78720  Gasolina   8300   \n28          Nissan Versa  2013       67000  Gasolina   6100   \n29       Chevrolet Sonic  2012      110048  Gasolina   5200   \n30               Mazda 3  2015       89000  Gasolina   8500   \n31         Mazda Protege  2001      178000  Gasolina   3000   \n32       Chevrolet Cruze  2016      107234  Gasolina   8500   \n33         Nissan Sentra  2018       73000  Gasolina   8700   \n34          Nissan Versa  2018           0  Gasolina   7600   \n35             Kia Forte  2017       73000  Gasolina   8900   \n36       Hyundai Elantra  2016       78000  Gasolina   8850   \n37             Kia Forte  2017       94000  Gasolina   8300   \n38       Hyundai Elantra  2018       78000  Gasolina   9900   \n39         Jeep Renegade  2019       31000  Gasolina  11500   \n40       Hyundai Elantra  2016      180000  Gasolina   7800   \n41     Mitsubishi Lancer  2017       47250  Gasolina  13500   \n42         Jeep Renegade  2019       50000  Gasolina  11800   \n43          Nissan Versa  2014      171356  Gasolina   6200   \n44         Nissan Sentra  2013       74000  Gasolina   5500   \n\n                                          description  \n0   Precio negociable: si Color : Gris DESCRIPCIÓN...  \n1   Garantía: Como es visto no hay garantía Financ...  \n2   Color : Gris DESCRIPCIÓN CALIFICACIONES SEGURI...  \n3   Color : NEGRO DESCRIPCIÓN CALIFICACIONES SEGUR...  \n4   Precio negociable: si Color : Negro DESCRIPCIÓ...  \n5   Precio negociable: si Vendo Nissan Sentra 2020...  \n6   Precio negociable: si DESCRIPCIÓN SEGURIDAD Ve...  \n7   Garantía: Como es visto no hay garantía Financ...  \n8   Disponible con traspaso directo, crédito fisca...  \n9   Precio negociable: si Color : Amarillo DESCRIP...  \n10  Financiamiento: no Precio negociable: si Funci...  \n11  Garantía: Como es visto no hay garantía Financ...  \n12  Garantía: Como es visto no hay garantía Financ...  \n13  Se vende bonito Kia Rio EX 2018 - A/C funciona...  \n14  Precio negociable: si Vendo Nissan Sentra 2020...  \n15  Precio negociable: si Color : Azul DESCRIPCIÓN...  \n16  Color : Azul NISAN SENTRA 2018 full extras cám...  \n17  Precio negociable: si DESCRIPCIÓN CALIFICACION...  \n18  Precio negociable: si Color : Negro DESCRIPCIÓ...  \n19  Color : Orion gray DESCRIPCIÓN CALIFICACIONES ...  \n20  Financiamiento: si Precio negociable: si Color...  \n21  Precio negociable: si Color : Gris Plata Vendo...  \n22  Garantía: Como es visto no hay garantía Precio...  \n23  Financiamiento: no Precio negociable: si Preci...  \n24  DESCRIPCIÓN ARTÍCULOS CALIFICACIONES SEGURIDAD...  \n25  Precio negociable: si Color : Blanco DESCRIPCI...  \n26  Precio negociable: si Color : Gris DESCRIPCIÓN...  \n27  Precio negociable: si Color : Gris NISSAN VERS...  \n28  Color : Negro DESCRIPCIÓN CALIFICACIONES SEGUR...  \n29  Garantía: Como es visto no hay garantía Financ...  \n30  Precio negociable: si Mazda 3 SPORT 2015 motor...  \n31  Vendo Mazda protege 2001 bastante negociable. ...  \n32  DESCRIPCIÓN ARTÍCULOS CALIFICACIONES SEGURIDAD...  \n33  Financiamiento: no Precio negociable: si Color...  \n34  Precio negociable: si Color : Negro Nissan Ver...  \n35  Garantía: Como es visto no hay garantía Financ...  \n36  Financiamiento: no Precio negociable: si Color...  \n37  Precio negociable: si Color : Negro DESCRIPCIÓ...  \n38  Precio negociable: si Color : AZUL $9,900.00 p...  \n39            Precio negociable: si Color : Naranjado  \n40  Color : Gris DESCRIPCIÓN CALIFICACIONES SEGURI...  \n41  Garantía: Como es visto no hay garantía Financ...  \n42  Precio negociable: si Color : Naranjado 31,000...  \n43  Garantía: Como es visto no hay garantía Financ...  \n44  Precio negociable: si Color : Gris DESCRIPCIÓN...  ",
      "text/html": "<div>\n<style scoped>\n    .dataframe tbody tr th:only-of-type {\n        vertical-align: middle;\n    }\n\n    .dataframe tbody tr th {\n        vertical-align: top;\n    }\n\n    .dataframe thead th {\n        text-align: right;\n    }\n</style>\n<table border=\"1\" class=\"dataframe\">\n  <thead>\n    <tr style=\"text-align: right;\">\n      <th></th>\n      <th>model</th>\n      <th>year</th>\n      <th>kilometers</th>\n      <th>engine</th>\n      <th>price</th>\n      <th>description</th>\n    </tr>\n  </thead>\n  <tbody>\n    <tr>\n      <th>0</th>\n      <td>Nissan Sentra</td>\n      <td>2009</td>\n      <td>115000</td>\n      <td>Gasolina</td>\n      <td>4500</td>\n      <td>Precio negociable: si Color : Gris DESCRIPCIÓN...</td>\n    </tr>\n    <tr>\n      <th>1</th>\n      <td>Volkswagen Jetta GLI</td>\n      <td>2014</td>\n      <td>78000</td>\n      <td>Gasolina</td>\n      <td>9000</td>\n      <td>Garantía: Como es visto no hay garantía Financ...</td>\n    </tr>\n    <tr>\n      <th>2</th>\n      <td>Honda Civic</td>\n      <td>2015</td>\n      <td>61065</td>\n      <td>Gasolina</td>\n      <td>15000</td>\n      <td>Color : Gris DESCRIPCIÓN CALIFICACIONES SEGURI...</td>\n    </tr>\n    <tr>\n      <th>3</th>\n      <td>Nissan Sentra</td>\n      <td>2015</td>\n      <td>72000</td>\n      <td>Gasolina</td>\n      <td>7000</td>\n      <td>Color : NEGRO DESCRIPCIÓN CALIFICACIONES SEGUR...</td>\n    </tr>\n    <tr>\n      <th>4</th>\n      <td>Ford Fiesta</td>\n      <td>2017</td>\n      <td>125367</td>\n      <td>Gasolina</td>\n      <td>6300</td>\n      <td>Precio negociable: si Color : Negro DESCRIPCIÓ...</td>\n    </tr>\n    <tr>\n      <th>5</th>\n      <td>Nissan Sentra</td>\n      <td>2020</td>\n      <td>32000</td>\n      <td>Gasolina</td>\n      <td>13500</td>\n      <td>Precio negociable: si Vendo Nissan Sentra 2020...</td>\n    </tr>\n    <tr>\n      <th>6</th>\n      <td>Hyundai Accent</td>\n      <td>2017</td>\n      <td>114000</td>\n      <td>Gasolina</td>\n      <td>7900</td>\n      <td>Precio negociable: si DESCRIPCIÓN SEGURIDAD Ve...</td>\n    </tr>\n    <tr>\n      <th>7</th>\n      <td>Honda Civic</td>\n      <td>2012</td>\n      <td>130000</td>\n      <td>Gasolina</td>\n      <td>6800</td>\n      <td>Garantía: Como es visto no hay garantía Financ...</td>\n    </tr>\n    <tr>\n      <th>8</th>\n      <td>Nissan Versa</td>\n      <td>2019</td>\n      <td>40205</td>\n      <td>Gasolina</td>\n      <td>7800</td>\n      <td>Disponible con traspaso directo, crédito fisca...</td>\n    </tr>\n    <tr>\n      <th>9</th>\n      <td>Toyota Corolla</td>\n      <td>1996</td>\n      <td>0</td>\n      <td>Gasolina</td>\n      <td>5500</td>\n      <td>Precio negociable: si Color : Amarillo DESCRIP...</td>\n    </tr>\n    <tr>\n      <th>10</th>\n      <td>Nissan Sentra</td>\n      <td>2019</td>\n      <td>0</td>\n      <td>Gasolina</td>\n      <td>9300</td>\n      <td>Financiamiento: no Precio negociable: si Funci...</td>\n    </tr>\n    <tr>\n      <th>11</th>\n      <td>Kia Forte</td>\n      <td>2012</td>\n      <td>139000</td>\n      <td>Gasolina</td>\n      <td>6400</td>\n      <td>Garantía: Como es visto no hay garantía Financ...</td>\n    </tr>\n    <tr>\n      <th>12</th>\n      <td>Nissan Versa</td>\n      <td>2011</td>\n      <td>110000</td>\n      <td>Gasolina</td>\n      <td>4500</td>\n      <td>Garantía: Como es visto no hay garantía Financ...</td>\n    </tr>\n    <tr>\n      <th>13</th>\n      <td>Kia Rio</td>\n      <td>2018</td>\n      <td>70929</td>\n      <td>Gasolina</td>\n      <td>9000</td>\n      <td>Se vende bonito Kia Rio EX 2018 - A/C funciona...</td>\n    </tr>\n    <tr>\n      <th>14</th>\n      <td>Nissan Sentra</td>\n      <td>2020</td>\n      <td>32000</td>\n      <td>Gasolina</td>\n      <td>13700</td>\n      <td>Precio negociable: si Vendo Nissan Sentra 2020...</td>\n    </tr>\n    <tr>\n      <th>15</th>\n      <td>Hyundai Accent</td>\n      <td>2005</td>\n      <td>1000</td>\n      <td>Gasolina</td>\n      <td>2650</td>\n      <td>Precio negociable: si Color : Azul DESCRIPCIÓN...</td>\n    </tr>\n    <tr>\n      <th>16</th>\n      <td>Nissan Sentra</td>\n      <td>2018</td>\n      <td>74741</td>\n      <td>Gasolina</td>\n      <td>8000</td>\n      <td>Color : Azul NISAN SENTRA 2018 full extras cám...</td>\n    </tr>\n    <tr>\n      <th>17</th>\n      <td>Nissan Sentra</td>\n      <td>2016</td>\n      <td>47000</td>\n      <td>Gasolina</td>\n      <td>8300</td>\n      <td>Precio negociable: si DESCRIPCIÓN CALIFICACION...</td>\n    </tr>\n    <tr>\n      <th>18</th>\n      <td>Ford Focus</td>\n      <td>2013</td>\n      <td>141000</td>\n      <td>Gasolina</td>\n      <td>5000</td>\n      <td>Precio negociable: si Color : Negro DESCRIPCIÓ...</td>\n    </tr>\n    <tr>\n      <th>19</th>\n      <td>BMW 3 Series</td>\n      <td>2015</td>\n      <td>114000</td>\n      <td>Gasolina</td>\n      <td>15500</td>\n      <td>Color : Orion gray DESCRIPCIÓN CALIFICACIONES ...</td>\n    </tr>\n    <tr>\n      <th>20</th>\n      <td>Kia E</td>\n      <td>2000</td>\n      <td>0</td>\n      <td>Gasolina</td>\n      <td>2500</td>\n      <td>Financiamiento: si Precio negociable: si Color...</td>\n    </tr>\n    <tr>\n      <th>21</th>\n      <td>Kia Forte</td>\n      <td>2020</td>\n      <td>65000</td>\n      <td>Gasolina</td>\n      <td>12999</td>\n      <td>Precio negociable: si Color : Gris Plata Vendo...</td>\n    </tr>\n    <tr>\n      <th>22</th>\n      <td>Acura TLX</td>\n      <td>2015</td>\n      <td>11100</td>\n      <td>Gasolina</td>\n      <td>11000</td>\n      <td>Garantía: Como es visto no hay garantía Precio...</td>\n    </tr>\n    <tr>\n      <th>23</th>\n      <td>Mitsubishi Lancer</td>\n      <td>2010</td>\n      <td>115000</td>\n      <td>Gasolina</td>\n      <td>6000</td>\n      <td>Financiamiento: no Precio negociable: si Preci...</td>\n    </tr>\n    <tr>\n      <th>24</th>\n      <td>Honda Civic</td>\n      <td>2017</td>\n      <td>34000</td>\n      <td>Gasolina</td>\n      <td>11500</td>\n      <td>DESCRIPCIÓN ARTÍCULOS CALIFICACIONES SEGURIDAD...</td>\n    </tr>\n    <tr>\n      <th>25</th>\n      <td>Nissan Versa</td>\n      <td>2017</td>\n      <td>135000</td>\n      <td>Gasolina</td>\n      <td>6300</td>\n      <td>Precio negociable: si Color : Blanco DESCRIPCI...</td>\n    </tr>\n    <tr>\n      <th>26</th>\n      <td>Hyundai Accent</td>\n      <td>2010</td>\n      <td>193588</td>\n      <td>Gasolina</td>\n      <td>5000</td>\n      <td>Precio negociable: si Color : Gris DESCRIPCIÓN...</td>\n    </tr>\n    <tr>\n      <th>27</th>\n      <td>Nissan Versa</td>\n      <td>2018</td>\n      <td>78720</td>\n      <td>Gasolina</td>\n      <td>8300</td>\n      <td>Precio negociable: si Color : Gris NISSAN VERS...</td>\n    </tr>\n    <tr>\n      <th>28</th>\n      <td>Nissan Versa</td>\n      <td>2013</td>\n      <td>67000</td>\n      <td>Gasolina</td>\n      <td>6100</td>\n      <td>Color : Negro DESCRIPCIÓN CALIFICACIONES SEGUR...</td>\n    </tr>\n    <tr>\n      <th>29</th>\n      <td>Chevrolet Sonic</td>\n      <td>2012</td>\n      <td>110048</td>\n      <td>Gasolina</td>\n      <td>5200</td>\n      <td>Garantía: Como es visto no hay garantía Financ...</td>\n    </tr>\n    <tr>\n      <th>30</th>\n      <td>Mazda 3</td>\n      <td>2015</td>\n      <td>89000</td>\n      <td>Gasolina</td>\n      <td>8500</td>\n      <td>Precio negociable: si Mazda 3 SPORT 2015 motor...</td>\n    </tr>\n    <tr>\n      <th>31</th>\n      <td>Mazda Protege</td>\n      <td>2001</td>\n      <td>178000</td>\n      <td>Gasolina</td>\n      <td>3000</td>\n      <td>Vendo Mazda protege 2001 bastante negociable. ...</td>\n    </tr>\n    <tr>\n      <th>32</th>\n      <td>Chevrolet Cruze</td>\n      <td>2016</td>\n      <td>107234</td>\n      <td>Gasolina</td>\n      <td>8500</td>\n      <td>DESCRIPCIÓN ARTÍCULOS CALIFICACIONES SEGURIDAD...</td>\n    </tr>\n    <tr>\n      <th>33</th>\n      <td>Nissan Sentra</td>\n      <td>2018</td>\n      <td>73000</td>\n      <td>Gasolina</td>\n      <td>8700</td>\n      <td>Financiamiento: no Precio negociable: si Color...</td>\n    </tr>\n    <tr>\n      <th>34</th>\n      <td>Nissan Versa</td>\n      <td>2018</td>\n      <td>0</td>\n      <td>Gasolina</td>\n      <td>7600</td>\n      <td>Precio negociable: si Color : Negro Nissan Ver...</td>\n    </tr>\n    <tr>\n      <th>35</th>\n      <td>Kia Forte</td>\n      <td>2017</td>\n      <td>73000</td>\n      <td>Gasolina</td>\n      <td>8900</td>\n      <td>Garantía: Como es visto no hay garantía Financ...</td>\n    </tr>\n    <tr>\n      <th>36</th>\n      <td>Hyundai Elantra</td>\n      <td>2016</td>\n      <td>78000</td>\n      <td>Gasolina</td>\n      <td>8850</td>\n      <td>Financiamiento: no Precio negociable: si Color...</td>\n    </tr>\n    <tr>\n      <th>37</th>\n      <td>Kia Forte</td>\n      <td>2017</td>\n      <td>94000</td>\n      <td>Gasolina</td>\n      <td>8300</td>\n      <td>Precio negociable: si Color : Negro DESCRIPCIÓ...</td>\n    </tr>\n    <tr>\n      <th>38</th>\n      <td>Hyundai Elantra</td>\n      <td>2018</td>\n      <td>78000</td>\n      <td>Gasolina</td>\n      <td>9900</td>\n      <td>Precio negociable: si Color : AZUL $9,900.00 p...</td>\n    </tr>\n    <tr>\n      <th>39</th>\n      <td>Jeep Renegade</td>\n      <td>2019</td>\n      <td>31000</td>\n      <td>Gasolina</td>\n      <td>11500</td>\n      <td>Precio negociable: si Color : Naranjado</td>\n    </tr>\n    <tr>\n      <th>40</th>\n      <td>Hyundai Elantra</td>\n      <td>2016</td>\n      <td>180000</td>\n      <td>Gasolina</td>\n      <td>7800</td>\n      <td>Color : Gris DESCRIPCIÓN CALIFICACIONES SEGURI...</td>\n    </tr>\n    <tr>\n      <th>41</th>\n      <td>Mitsubishi Lancer</td>\n      <td>2017</td>\n      <td>47250</td>\n      <td>Gasolina</td>\n      <td>13500</td>\n      <td>Garantía: Como es visto no hay garantía Financ...</td>\n    </tr>\n    <tr>\n      <th>42</th>\n      <td>Jeep Renegade</td>\n      <td>2019</td>\n      <td>50000</td>\n      <td>Gasolina</td>\n      <td>11800</td>\n      <td>Precio negociable: si Color : Naranjado 31,000...</td>\n    </tr>\n    <tr>\n      <th>43</th>\n      <td>Nissan Versa</td>\n      <td>2014</td>\n      <td>171356</td>\n      <td>Gasolina</td>\n      <td>6200</td>\n      <td>Garantía: Como es visto no hay garantía Financ...</td>\n    </tr>\n    <tr>\n      <th>44</th>\n      <td>Nissan Sentra</td>\n      <td>2013</td>\n      <td>74000</td>\n      <td>Gasolina</td>\n      <td>5500</td>\n      <td>Precio negociable: si Color : Gris DESCRIPCIÓN...</td>\n    </tr>\n  </tbody>\n</table>\n</div>"
     },
     "execution_count": 20,
     "metadata": {},
     "output_type": "execute_result"
    }
   ],
   "source": [
    "df_temp"
   ],
   "metadata": {
    "collapsed": false,
    "ExecuteTime": {
     "end_time": "2023-09-12T05:17:38.842242800Z",
     "start_time": "2023-09-12T05:17:38.771243200Z"
    }
   }
  }
 ],
 "metadata": {
  "kernelspec": {
   "display_name": "Python 3",
   "language": "python",
   "name": "python3"
  },
  "language_info": {
   "codemirror_mode": {
    "name": "ipython",
    "version": 2
   },
   "file_extension": ".py",
   "mimetype": "text/x-python",
   "name": "python",
   "nbconvert_exporter": "python",
   "pygments_lexer": "ipython2",
   "version": "2.7.6"
  }
 },
 "nbformat": 4,
 "nbformat_minor": 0
}
