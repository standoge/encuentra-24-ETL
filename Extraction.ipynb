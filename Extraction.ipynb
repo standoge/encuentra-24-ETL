{
 "cells": [
  {
   "cell_type": "markdown",
   "source": [
    "## Dependencies"
   ],
   "metadata": {
    "collapsed": false
   }
  },
  {
   "cell_type": "markdown",
   "source": [
    "---"
   ],
   "metadata": {
    "collapsed": false
   }
  },
  {
   "cell_type": "code",
   "execution_count": 1,
   "outputs": [],
   "source": [
    "import yaml\n",
    "import re\n",
    "from datetime import datetime\n",
    "import pandas as pd"
   ],
   "metadata": {
    "collapsed": false,
    "ExecuteTime": {
     "end_time": "2024-04-06T21:28:56.606919Z",
     "start_time": "2024-04-06T21:28:55.827348Z"
    }
   }
  },
  {
   "cell_type": "code",
   "execution_count": 2,
   "outputs": [],
   "source": [
    "from selenium import webdriver\n",
    "from selenium.webdriver.common.by import By\n",
    "from selenium.webdriver.edge.service import Service\n",
    "from webdriver_manager.microsoft import EdgeChromiumDriverManager\n",
    "from selenium.webdriver.support.ui import WebDriverWait\n",
    "from selenium.webdriver.edge.options import Options\n",
    "from selenium.webdriver.support import expected_conditions as EC\n",
    "from selenium.common.exceptions import NoSuchElementException\n",
    "from selenium.common.exceptions import TimeoutException\n"
   ],
   "metadata": {
    "collapsed": false,
    "ExecuteTime": {
     "end_time": "2024-04-06T21:28:56.841106Z",
     "start_time": "2024-04-06T21:28:56.607967Z"
    }
   }
  },
  {
   "cell_type": "markdown",
   "source": [
    "Setting up web driver."
   ],
   "metadata": {
    "collapsed": false
   }
  },
  {
   "cell_type": "code",
   "execution_count": 3,
   "outputs": [
    {
     "name": "stderr",
     "output_type": "stream",
     "text": [
      "[WDM] - Downloading: 100%|██████████| 9.07M/9.07M [00:05<00:00, 1.67MB/s]\n"
     ]
    }
   ],
   "source": [
    "EdgeOptions = Options()\n",
    "EdgeOptions.add_argument(\"--headless\")\n",
    "edge = webdriver.Edge(service=Service(EdgeChromiumDriverManager().install()), options=EdgeOptions)\n",
    "# edge = webdriver.Edge(service=Service(EdgeChromiumDriverManager().install()))\n"
   ],
   "metadata": {
    "collapsed": false,
    "ExecuteTime": {
     "end_time": "2024-04-06T21:29:05.820763Z",
     "start_time": "2024-04-06T21:28:56.842150Z"
    }
   }
  },
  {
   "cell_type": "markdown",
   "source": [
    "## Extract"
   ],
   "metadata": {
    "collapsed": false
   }
  },
  {
   "cell_type": "markdown",
   "source": [
    "---"
   ],
   "metadata": {
    "collapsed": false
   }
  },
  {
   "cell_type": "markdown",
   "source": [
    "### Functions:"
   ],
   "metadata": {
    "collapsed": false
   }
  },
  {
   "cell_type": "code",
   "execution_count": 4,
   "outputs": [],
   "source": [
    "def resources(name: str) -> dict[str:str]:\n",
    "    \"\"\"Read yaml file to get xpath resources\n",
    "    \n",
    "    :param name: name of the resource to extract\n",
    "    :return: the xpath\n",
    "    \"\"\"\n",
    "    with open(\"xpath.yml\", \"r\") as f:\n",
    "        content: dict[str:str] = yaml.safe_load(f)\n",
    "        return content[name]"
   ],
   "metadata": {
    "collapsed": false,
    "ExecuteTime": {
     "end_time": "2024-04-06T21:29:05.836763Z",
     "start_time": "2024-04-06T21:29:05.821765Z"
    }
   }
  },
  {
   "cell_type": "code",
   "execution_count": 5,
   "outputs": [],
   "source": [
    "def close_prompt(driver: webdriver) -> None:\n",
    "    \"\"\"Close prompt when is required\n",
    "    \n",
    "    :param driver: browser instance \n",
    "    \"\"\"\n",
    "    button: str = \"//a[@class='btn btn-subscription-light']\"\n",
    "    driver.find_element(by=By.XPATH, value=button).click()"
   ],
   "metadata": {
    "collapsed": false,
    "ExecuteTime": {
     "end_time": "2024-04-06T21:29:05.851762Z",
     "start_time": "2024-04-06T21:29:05.839764Z"
    }
   }
  },
  {
   "cell_type": "code",
   "execution_count": 6,
   "outputs": [],
   "source": [
    "def click_element(element: webdriver, path: str) -> None:\n",
    "    \"\"\"Click on element in the current browser page\n",
    "    \n",
    "    :param element: browser instance\n",
    "    :param path: xpath of element to click\n",
    "    \"\"\"\n",
    "    button = element.find_element(by=By.XPATH, value=path)\n",
    "    button.click()"
   ],
   "metadata": {
    "collapsed": false,
    "ExecuteTime": {
     "end_time": "2024-04-06T21:29:05.867175Z",
     "start_time": "2024-04-06T21:29:05.852763Z"
    }
   }
  },
  {
   "cell_type": "code",
   "execution_count": 7,
   "outputs": [],
   "source": [
    "def extract_feature_in(element: webdriver, path: str) -> str:\n",
    "    \"\"\"Extract ad feature where current browser page is the ad page\n",
    "    \n",
    "    :param element: browser instance\n",
    "    :param path: xpath of feature to extract\n",
    "    :return: feature extracted\n",
    "    \"\"\"\n",
    "    feature: str = element.find_element(by=By.XPATH, value=path)\n",
    "    return feature"
   ],
   "metadata": {
    "collapsed": false,
    "ExecuteTime": {
     "end_time": "2024-04-06T21:29:05.882981Z",
     "start_time": "2024-04-06T21:29:05.869292Z"
    }
   }
  },
  {
   "cell_type": "code",
   "execution_count": 8,
   "outputs": [],
   "source": [
    "def extract_feature_out(element: webdriver, path: str) -> list[str]:\n",
    "    \"\"\"Extract ad feature where current browser page is the listing page (not in the ad)\n",
    "    \n",
    "    :param element: browser instance\n",
    "    :param path: xpath of feature to extract\n",
    "    :return: list of features\n",
    "    \"\"\"\n",
    "    feature = []\n",
    "\n",
    "    try:\n",
    "        feature: str = element.find_elements(by=By.XPATH, value=path)\n",
    "        feature = [data_point.text for data_point in feature]\n",
    "        return feature\n",
    "    except Exception:\n",
    "        feature.append(\"Web wasn't able to scrape the feature\")"
   ],
   "metadata": {
    "collapsed": false,
    "ExecuteTime": {
     "end_time": "2024-04-06T21:29:05.898654Z",
     "start_time": "2024-04-06T21:29:05.884034Z"
    }
   }
  },
  {
   "cell_type": "code",
   "execution_count": 9,
   "outputs": [],
   "source": [
    "def persistence(dataframe: pd.DataFrame) -> None:\n",
    "    \"\"\"Save dataframe to csv file\n",
    "    \n",
    "    :param dataframe: dataframe to save\n",
    "    \"\"\"\n",
    "    file_name = datetime.today().strftime(\"%B-%d\")\n",
    "    dataframe.to_csv(f\"persistence/{file_name}.csv\", index=False)"
   ],
   "metadata": {
    "collapsed": false,
    "ExecuteTime": {
     "end_time": "2024-04-06T21:29:05.914361Z",
     "start_time": "2024-04-06T21:29:05.899691Z"
    }
   }
  },
  {
   "cell_type": "code",
   "execution_count": 10,
   "outputs": [],
   "source": [
    "def get_len(features: list[list[str]]) -> bool:\n",
    "    \"\"\"Check if all features has the same length to create new df\n",
    "    \n",
    "    :param features: list of features extracted with scraping\n",
    "    :return: a list with all lengths where first place is the len of the first element and the mostly accepted.\n",
    "    \"\"\"\n",
    "    base_len = len(features[0])\n",
    "    lengths = []\n",
    "    lengths.append(base_len)\n",
    "    for feature in features:\n",
    "        if len(feature) == base_len:\n",
    "            continue\n",
    "        else:\n",
    "            lengths.append(len(feature))\n",
    "    return lengths"
   ],
   "metadata": {
    "collapsed": false,
    "ExecuteTime": {
     "end_time": "2024-04-06T21:29:05.930197Z",
     "start_time": "2024-04-06T21:29:05.915411Z"
    }
   }
  },
  {
   "cell_type": "code",
   "execution_count": 11,
   "outputs": [],
   "source": [
    "def check_len(lengths: list[int]) -> bool:\n",
    "    \"\"\"Check if all elements in list has the same value.\n",
    "    \n",
    "    :param lengths: list of lengths\n",
    "    :return: a boolean\n",
    "    \"\"\"\n",
    "    for length in lengths[1:]:\n",
    "        if length != lengths[0]:\n",
    "            return False\n",
    "        return True"
   ],
   "metadata": {
    "collapsed": false,
    "ExecuteTime": {
     "end_time": "2024-04-06T21:29:05.945999Z",
     "start_time": "2024-04-06T21:29:05.932315Z"
    }
   }
  },
  {
   "cell_type": "markdown",
   "source": [
    "Variables pool."
   ],
   "metadata": {
    "collapsed": false
   }
  },
  {
   "cell_type": "code",
   "execution_count": 12,
   "outputs": [],
   "source": [
    "descriptions: list[str] = []\n",
    "prices: list[int] = []\n",
    "models: list[str] = []\n",
    "years: list[int] = []\n",
    "kilometers: list[int] = []\n",
    "engines: list[str] = []\n",
    "\n",
    "# seconds\n",
    "DELAY: int = 1\n",
    "SEDAN = resources(\"cars_sedan\")"
   ],
   "metadata": {
    "collapsed": false,
    "ExecuteTime": {
     "end_time": "2024-04-06T21:29:05.961682Z",
     "start_time": "2024-04-06T21:29:05.947050Z"
    }
   }
  },
  {
   "cell_type": "markdown",
   "source": [
    "Get web page and close prompt (when is required)."
   ],
   "metadata": {
    "collapsed": false
   }
  },
  {
   "cell_type": "code",
   "execution_count": 13,
   "outputs": [],
   "source": [
    "edge.get(SEDAN[\"url\"])\n",
    "# close_prompt(edge)"
   ],
   "metadata": {
    "collapsed": false,
    "ExecuteTime": {
     "end_time": "2024-04-06T21:29:24.869989Z",
     "start_time": "2024-04-06T21:29:05.962719Z"
    }
   }
  },
  {
   "cell_type": "markdown",
   "source": [
    "Extract car features."
   ],
   "metadata": {
    "collapsed": false
   }
  },
  {
   "cell_type": "code",
   "execution_count": 14,
   "outputs": [],
   "source": [
    "# Get this list of ads and click on the first one\n",
    "elements = edge.find_elements(by=By.XPATH, value=SEDAN[\"ad\"])\n",
    "elements[0].click()\n",
    "\n",
    "try:\n",
    "    for element in range(len(elements)):\n",
    "        # Wait until the element is present to avoid missing data\n",
    "        dynamic_delay = WebDriverWait(edge, DELAY).until(\n",
    "            EC.presence_of_element_located((By.XPATH, SEDAN[\"description\"])))\n",
    "\n",
    "        brand_str = extract_feature_in(edge, SEDAN[\"brand\"]).text\n",
    "        model_str = extract_feature_in(edge, SEDAN[\"model\"]).text\n",
    "        models.append(brand_str + \" \" + model_str)\n",
    "\n",
    "        descriptions.append(extract_feature_in(edge, SEDAN[\"description\"]).text)\n",
    "        prices.append(extract_feature_in(edge, SEDAN[\"price\"]).text)\n",
    "        kilometers.append(extract_feature_in(edge, SEDAN[\"kilometers\"]).text)\n",
    "        engines.append(extract_feature_in(edge, SEDAN[\"engine\"]).text)\n",
    "        years.append(extract_feature_in(edge, SEDAN[\"year\"]).text)\n",
    "\n",
    "        click_element(edge, SEDAN[\"next\"])\n",
    "except TimeoutException as TE:\n",
    "    descriptions.append(\"Web wasn't able to scrape descriptions\")\n",
    "except NoSuchElementException as NSE:\n",
    "    click_element(edge, SEDAN[\"exit\"])"
   ],
   "metadata": {
    "collapsed": false,
    "ExecuteTime": {
     "end_time": "2024-04-06T21:32:12.408546Z",
     "start_time": "2024-04-06T21:29:24.872989Z"
    }
   }
  },
  {
   "cell_type": "markdown",
   "source": [
    "## Export"
   ],
   "metadata": {
    "collapsed": false
   }
  },
  {
   "cell_type": "markdown",
   "source": [
    "---"
   ],
   "metadata": {
    "collapsed": false
   }
  },
  {
   "cell_type": "markdown",
   "source": [
    "### Functions:"
   ],
   "metadata": {
    "collapsed": false
   }
  },
  {
   "cell_type": "code",
   "execution_count": 15,
   "outputs": [],
   "source": [
    "def parse_price(dataframe: pd.DataFrame, feature: str, pattern: str) -> None:\n",
    "    \"\"\"Parse financial features like prices. Works with $#,### (not dot)\n",
    "    \n",
    "    :param dataframe: object towards apply transformation\n",
    "    :param feature: feature name towards apply transformation\n",
    "    :param pattern: feature pattern to transform\n",
    "    \"\"\"\n",
    "\n",
    "    dataframe[feature] = dataframe[feature] \\\n",
    "        .str.extract(pattern) \\\n",
    "        .applymap(lambda price: int(price.replace(\",\", \"\")))\n"
   ],
   "metadata": {
    "collapsed": false,
    "ExecuteTime": {
     "end_time": "2024-04-06T21:32:12.424548Z",
     "start_time": "2024-04-06T21:32:12.409550Z"
    }
   }
  },
  {
   "cell_type": "code",
   "execution_count": 16,
   "outputs": [],
   "source": [
    "def remove_chars(dataframe: pd.DataFrame, feature: str, wildcards: str) -> pd.Series:\n",
    "    \"\"\"Remove escaped characters from features like indented large extracts of text\n",
    "    \n",
    "    :param dataframe: object towards apply transformation\n",
    "    :param feature: feature name towards apply transformation\n",
    "    :param wildcards: escaped characters to remove\n",
    "    :return: Serie without escaped characters\n",
    "    \"\"\"\n",
    "    return (dataframe\n",
    "    .apply(\n",
    "        lambda row: row[feature]\n",
    "        , axis=1\n",
    "    )\n",
    "    .apply(\n",
    "        lambda extracted_f: re.sub(wildcards, r' ', extracted_f)\n",
    "    )\n",
    "    )\n"
   ],
   "metadata": {
    "collapsed": false,
    "ExecuteTime": {
     "end_time": "2024-04-06T21:32:12.440547Z",
     "start_time": "2024-04-06T21:32:12.425548Z"
    }
   }
  },
  {
   "cell_type": "code",
   "execution_count": 17,
   "outputs": [],
   "source": [
    "PRICE_RG: str = r\"^\\$(?P<prices>\\d+,?\\d+)?\"\n",
    "KM_REG: str = r\"(?P<km>^\\d+)\"\n",
    "CHARACTER_RG: str = '(\\n|\\r)+'"
   ],
   "metadata": {
    "collapsed": false,
    "ExecuteTime": {
     "end_time": "2024-04-06T21:32:12.456611Z",
     "start_time": "2024-04-06T21:32:12.441609Z"
    }
   }
  },
  {
   "cell_type": "markdown",
   "source": [
    "Check that all features has the same length."
   ],
   "metadata": {
    "collapsed": false
   }
  },
  {
   "cell_type": "code",
   "execution_count": 18,
   "outputs": [],
   "source": [
    "lengths = [len(engines), len(models), len(years), len(kilometers), len(prices), len(descriptions)]\n",
    "prices = [price.replace(\".\", \",\") for price in prices]"
   ],
   "metadata": {
    "collapsed": false,
    "ExecuteTime": {
     "end_time": "2024-04-06T21:32:12.472610Z",
     "start_time": "2024-04-06T21:32:12.457609Z"
    }
   }
  },
  {
   "cell_type": "markdown",
   "source": [
    "Create dataframe to transform data extracted"
   ],
   "metadata": {
    "collapsed": false
   }
  },
  {
   "cell_type": "code",
   "outputs": [],
   "source": [
    "if check_len(lengths):\n",
    "    df_temp = pd.DataFrame({\n",
    "        \"model\": models,\n",
    "        \"year\": years,\n",
    "        \"kilometers\": kilometers,\n",
    "        \"engine\": engines,\n",
    "        \"price\": prices,\n",
    "        \"description\": descriptions\n",
    "    })\n",
    "\n",
    "    # Parse features. String to number and raw string with characters to structured string.\n",
    "    parse_price(df_temp, \"price\", PRICE_RG)\n",
    "    df_temp[\"kilometers\"] = df_temp[\"kilometers\"].str.extract(KM_REG).applymap(int)\n",
    "    df_temp[\"year\"] = df_temp[\"year\"].map(int)\n",
    "    df_temp[\"description\"] = remove_chars(df_temp, \"description\", CHARACTER_RG)\n",
    "\n",
    "    persistence(df_temp)\n"
   ],
   "metadata": {
    "collapsed": false,
    "ExecuteTime": {
     "end_time": "2024-04-06T21:32:12.504770Z",
     "start_time": "2024-04-06T21:32:12.474659Z"
    }
   },
   "execution_count": 19
  },
  {
   "cell_type": "code",
   "outputs": [
    {
     "data": {
      "text/plain": "                      model  year  kilometers     engine  price  \\\n0            Toyota Corolla  2020       66595   Gasolina  12300   \n1            Toyota Corolla  2020       63318   Gasolina  11950   \n2             Nissan Sentra  2020       45577   Gasolina   9950   \n3            Hyundai Accent  2020       36000   Gasolina  11500   \n4      Mitsubishi Mirage G4  2017      122000        Gas   8500   \n5      Mitsubishi Mirage G4  2018       54800   Gasolina   7500   \n6            Toyota Corolla  2013      127360   Gasolina   8000   \n7               Honda Civic  2018       97000   Gasolina  14200   \n8             Nissan Sentra  2018       69000   Gasolina   7900   \n9      Mitsubishi Mirage G4  2019      600000   Gasolina   7700   \n10             Mazda Mazda6  2016         128   Gasolina   7800   \n11                 Kia Soul  2016       65758   Gasolina   8500   \n12              Honda Civic  2018       97000   Gasolina  14500   \n13            Nissan Sentra  2018       64000   Gasolina   8200   \n14  BMW 4 Series Gran Coupe  2018         141   Gasolina  23900   \n15        Mitsubishi Lancer  2002      200000   Gasolina   3200   \n16          Hyundai Elantra  2013     1540000   Gasolina   6900   \n17        Mitsubishi Lancer  2015      109000   Gasolina   7500   \n18            Nissan Sentra  2018       96000   Gasolina   7700   \n19              Ford Fiesta  2016      144000   Gasolina   6500   \n20           Toyota Corolla  2021       46101   Gasolina  12950   \n21                  BMW 320  2017       89213   Gasolina  15500   \n22     Mitsubishi Mirage G4  2019      163509  Eléctrico   8800   \n23           Toyota Corolla  2020       72195   Gasolina  12700   \n24                  Kia Rio  2013      180000   Gasolina   6800   \n25     Mitsubishi Mirage G4  2017       83500   Gasolina   7300   \n26            Nissan Sentra  2017          86        Gas  10000   \n27           Toyota Corolla  2020       63000   Gasolina  15500   \n28                Kia Forte  2018       98000   Gasolina   8500   \n29          Toyota Yaris iA  2018      125142   Gasolina   9500   \n30           Hyundai Accent  2009      131250   Gasolina   3750   \n31     Mitsubishi Mirage G4  2018       80000   Gasolina   8200   \n32          Hyundai Elantra  2020       62000   Gasolina  11350   \n33                Kia Forte  2016       69000   Gasolina   7700   \n34           Hyundai Accent  2016       81700   Gasolina   7000   \n35           Hyundai Accent  2010      144000   Gasolina   5000   \n36        Mitsubishi Galant  2010      126700   Gasolina   4800   \n37           Hyundai Accent  2017         111      Otros   7800   \n38          Hyundai Elantra  2018           1   Gasolina   8300   \n39           Chevrolet Aveo  2007      180000   Gasolina   2800   \n40     Mitsubishi Mirage G4  2019      120000   Gasolina   7600   \n41            Nissan Sentra  2020       33000   Gasolina  12500   \n42          Volkswagen Polo  2002           1   Gasolina   1700   \n43                Toyota iA  2017       61195   Gasolina   7900   \n44     Mitsubishi Mirage G4  2017       86000   Gasolina   7900   \n45              Honda Civic  2020       60000   Gasolina  18900   \n46            Nissan Sentra  2017      179115   Gasolina   8500   \n47            Nissan Almera  2003      200000   Gasolina   3300   \n48        Mitsubishi Lancer  2016       81395   Gasolina   8200   \n49          Hyundai Elantra  2014         144   Gasolina   7300   \n\n                                          description  \n0   Garantía: Como es visto no hay garantía Financ...  \n1   Garantía: Como es visto no hay garantía Financ...  \n2   Garantía: Como es visto no hay garantía Financ...  \n3   Color : Azul Accent 2020 Transmision Manual Ex...  \n4   Precio negociable: si Color : Ocre Todo funcio...  \n5   Precio negociable: si Color : Rojo Mitsubishi ...  \n6   Color : Gris DESCRIPCIÓN CALIFICACIONES SEGURI...  \n7   Precio negociable: si Color : Gris HONDA CIVIC...  \n8   Precio negociable: si Color : Gris oscuro ya c...  \n9   Garantía: Como es visto no hay garantía Financ...  \n10                              Precio negociable: si  \n11  Color : Balnco DESCRIPCIÓN ARTÍCULOS CALIFICAC...  \n12  Precio negociable: si Color : Gris YA EN ADUAN...  \n13  Precio negociable: si Color : Gris YA EN ADUAN...  \n14  Garantía: Garantía de fabrica restante. Financ...  \n15  Vendo Lancer 02 Motor y transmisión buen estad...  \n16  Color : Azul DESCRIPCIÓN CALIFICACIONES SEGURI...  \n17  Precio negociable: si Color : Azul Vendo Mitsu...  \n18  Precio negociable: si Color : Negro Rines orig...  \n19  Precio negociable: si Color : Negro DESCRIPCIÓ...  \n20  Garantía: Como es visto no hay garantía Financ...  \n21  Precio negociable: si Color : Blanco Vendo bon...  \n22  Precio negociable: si Color : Celeste Mitsubic...  \n23  Garantía: Como es visto no hay garantía Financ...  \n24  Color : Blanco DESCRIPCIÓN CALIFICACIONES SEGU...  \n25                                       Color : Griz  \n26  Garantía: Como es visto no hay garantía Financ...  \n27  Precio negociable: si Color : Negro Corolla LE...  \n28  Color : Negro Se vende Kia Forte 2018 en muy b...  \n29  Precio negociable: no Color : Azul negro Toyot...  \n30  Precio negociable: no Color : Gris DESCRIPCIÓN...  \n31  Precio negociable: si Color : negro Precioso, ...  \n32  Precio negociable: si Color : azul Hyundai Ela...  \n33  Color : Negro DESCRIPCIÓN CALIFICACIONES SEGUR...  \n34  Color : Gris DESCRIPCIÓN CALIFICACIONES SEGURI...  \n35  DESCRIPCIÓN CALIFICACIONES SEGURIDAD Hyundai A...  \n36  Color : Gris -Motor 2.4 en buen estado, recien...  \n37  Garantía: Como es visto no hay garantía Financ...  \n38  Financiamiento: no Precio negociable: si Color...  \n39  Garantía: Como es visto no hay garantía Financ...  \n40  Vendo económico vehículo sedan 41 km por litro...  \n41  Precio negociable: si Vendo Nissan Sentra 2020...  \n42  se puede usar quema aceite tira humo. detalles...  \n43  Garantía: Como es visto no hay garantía Financ...  \n44  Garantía: 30 días, garantía limitada en 1000 k...  \n45  Garantía: 30 días, garantía limitada en 1000 k...  \n46  Precio negociable: si Color : Gris DESCRIPCIÓN...  \n47  Precio negociable: no Color : BEIGE Vendo NISS...  \n48  Color : Blanco Cámara de retroceso Asientos de...  \n49  Garantía: Como es visto no hay garantía Financ...  ",
      "text/html": "<div>\n<style scoped>\n    .dataframe tbody tr th:only-of-type {\n        vertical-align: middle;\n    }\n\n    .dataframe tbody tr th {\n        vertical-align: top;\n    }\n\n    .dataframe thead th {\n        text-align: right;\n    }\n</style>\n<table border=\"1\" class=\"dataframe\">\n  <thead>\n    <tr style=\"text-align: right;\">\n      <th></th>\n      <th>model</th>\n      <th>year</th>\n      <th>kilometers</th>\n      <th>engine</th>\n      <th>price</th>\n      <th>description</th>\n    </tr>\n  </thead>\n  <tbody>\n    <tr>\n      <th>0</th>\n      <td>Toyota Corolla</td>\n      <td>2020</td>\n      <td>66595</td>\n      <td>Gasolina</td>\n      <td>12300</td>\n      <td>Garantía: Como es visto no hay garantía Financ...</td>\n    </tr>\n    <tr>\n      <th>1</th>\n      <td>Toyota Corolla</td>\n      <td>2020</td>\n      <td>63318</td>\n      <td>Gasolina</td>\n      <td>11950</td>\n      <td>Garantía: Como es visto no hay garantía Financ...</td>\n    </tr>\n    <tr>\n      <th>2</th>\n      <td>Nissan Sentra</td>\n      <td>2020</td>\n      <td>45577</td>\n      <td>Gasolina</td>\n      <td>9950</td>\n      <td>Garantía: Como es visto no hay garantía Financ...</td>\n    </tr>\n    <tr>\n      <th>3</th>\n      <td>Hyundai Accent</td>\n      <td>2020</td>\n      <td>36000</td>\n      <td>Gasolina</td>\n      <td>11500</td>\n      <td>Color : Azul Accent 2020 Transmision Manual Ex...</td>\n    </tr>\n    <tr>\n      <th>4</th>\n      <td>Mitsubishi Mirage G4</td>\n      <td>2017</td>\n      <td>122000</td>\n      <td>Gas</td>\n      <td>8500</td>\n      <td>Precio negociable: si Color : Ocre Todo funcio...</td>\n    </tr>\n    <tr>\n      <th>5</th>\n      <td>Mitsubishi Mirage G4</td>\n      <td>2018</td>\n      <td>54800</td>\n      <td>Gasolina</td>\n      <td>7500</td>\n      <td>Precio negociable: si Color : Rojo Mitsubishi ...</td>\n    </tr>\n    <tr>\n      <th>6</th>\n      <td>Toyota Corolla</td>\n      <td>2013</td>\n      <td>127360</td>\n      <td>Gasolina</td>\n      <td>8000</td>\n      <td>Color : Gris DESCRIPCIÓN CALIFICACIONES SEGURI...</td>\n    </tr>\n    <tr>\n      <th>7</th>\n      <td>Honda Civic</td>\n      <td>2018</td>\n      <td>97000</td>\n      <td>Gasolina</td>\n      <td>14200</td>\n      <td>Precio negociable: si Color : Gris HONDA CIVIC...</td>\n    </tr>\n    <tr>\n      <th>8</th>\n      <td>Nissan Sentra</td>\n      <td>2018</td>\n      <td>69000</td>\n      <td>Gasolina</td>\n      <td>7900</td>\n      <td>Precio negociable: si Color : Gris oscuro ya c...</td>\n    </tr>\n    <tr>\n      <th>9</th>\n      <td>Mitsubishi Mirage G4</td>\n      <td>2019</td>\n      <td>600000</td>\n      <td>Gasolina</td>\n      <td>7700</td>\n      <td>Garantía: Como es visto no hay garantía Financ...</td>\n    </tr>\n    <tr>\n      <th>10</th>\n      <td>Mazda Mazda6</td>\n      <td>2016</td>\n      <td>128</td>\n      <td>Gasolina</td>\n      <td>7800</td>\n      <td>Precio negociable: si</td>\n    </tr>\n    <tr>\n      <th>11</th>\n      <td>Kia Soul</td>\n      <td>2016</td>\n      <td>65758</td>\n      <td>Gasolina</td>\n      <td>8500</td>\n      <td>Color : Balnco DESCRIPCIÓN ARTÍCULOS CALIFICAC...</td>\n    </tr>\n    <tr>\n      <th>12</th>\n      <td>Honda Civic</td>\n      <td>2018</td>\n      <td>97000</td>\n      <td>Gasolina</td>\n      <td>14500</td>\n      <td>Precio negociable: si Color : Gris YA EN ADUAN...</td>\n    </tr>\n    <tr>\n      <th>13</th>\n      <td>Nissan Sentra</td>\n      <td>2018</td>\n      <td>64000</td>\n      <td>Gasolina</td>\n      <td>8200</td>\n      <td>Precio negociable: si Color : Gris YA EN ADUAN...</td>\n    </tr>\n    <tr>\n      <th>14</th>\n      <td>BMW 4 Series Gran Coupe</td>\n      <td>2018</td>\n      <td>141</td>\n      <td>Gasolina</td>\n      <td>23900</td>\n      <td>Garantía: Garantía de fabrica restante. Financ...</td>\n    </tr>\n    <tr>\n      <th>15</th>\n      <td>Mitsubishi Lancer</td>\n      <td>2002</td>\n      <td>200000</td>\n      <td>Gasolina</td>\n      <td>3200</td>\n      <td>Vendo Lancer 02 Motor y transmisión buen estad...</td>\n    </tr>\n    <tr>\n      <th>16</th>\n      <td>Hyundai Elantra</td>\n      <td>2013</td>\n      <td>1540000</td>\n      <td>Gasolina</td>\n      <td>6900</td>\n      <td>Color : Azul DESCRIPCIÓN CALIFICACIONES SEGURI...</td>\n    </tr>\n    <tr>\n      <th>17</th>\n      <td>Mitsubishi Lancer</td>\n      <td>2015</td>\n      <td>109000</td>\n      <td>Gasolina</td>\n      <td>7500</td>\n      <td>Precio negociable: si Color : Azul Vendo Mitsu...</td>\n    </tr>\n    <tr>\n      <th>18</th>\n      <td>Nissan Sentra</td>\n      <td>2018</td>\n      <td>96000</td>\n      <td>Gasolina</td>\n      <td>7700</td>\n      <td>Precio negociable: si Color : Negro Rines orig...</td>\n    </tr>\n    <tr>\n      <th>19</th>\n      <td>Ford Fiesta</td>\n      <td>2016</td>\n      <td>144000</td>\n      <td>Gasolina</td>\n      <td>6500</td>\n      <td>Precio negociable: si Color : Negro DESCRIPCIÓ...</td>\n    </tr>\n    <tr>\n      <th>20</th>\n      <td>Toyota Corolla</td>\n      <td>2021</td>\n      <td>46101</td>\n      <td>Gasolina</td>\n      <td>12950</td>\n      <td>Garantía: Como es visto no hay garantía Financ...</td>\n    </tr>\n    <tr>\n      <th>21</th>\n      <td>BMW 320</td>\n      <td>2017</td>\n      <td>89213</td>\n      <td>Gasolina</td>\n      <td>15500</td>\n      <td>Precio negociable: si Color : Blanco Vendo bon...</td>\n    </tr>\n    <tr>\n      <th>22</th>\n      <td>Mitsubishi Mirage G4</td>\n      <td>2019</td>\n      <td>163509</td>\n      <td>Eléctrico</td>\n      <td>8800</td>\n      <td>Precio negociable: si Color : Celeste Mitsubic...</td>\n    </tr>\n    <tr>\n      <th>23</th>\n      <td>Toyota Corolla</td>\n      <td>2020</td>\n      <td>72195</td>\n      <td>Gasolina</td>\n      <td>12700</td>\n      <td>Garantía: Como es visto no hay garantía Financ...</td>\n    </tr>\n    <tr>\n      <th>24</th>\n      <td>Kia Rio</td>\n      <td>2013</td>\n      <td>180000</td>\n      <td>Gasolina</td>\n      <td>6800</td>\n      <td>Color : Blanco DESCRIPCIÓN CALIFICACIONES SEGU...</td>\n    </tr>\n    <tr>\n      <th>25</th>\n      <td>Mitsubishi Mirage G4</td>\n      <td>2017</td>\n      <td>83500</td>\n      <td>Gasolina</td>\n      <td>7300</td>\n      <td>Color : Griz</td>\n    </tr>\n    <tr>\n      <th>26</th>\n      <td>Nissan Sentra</td>\n      <td>2017</td>\n      <td>86</td>\n      <td>Gas</td>\n      <td>10000</td>\n      <td>Garantía: Como es visto no hay garantía Financ...</td>\n    </tr>\n    <tr>\n      <th>27</th>\n      <td>Toyota Corolla</td>\n      <td>2020</td>\n      <td>63000</td>\n      <td>Gasolina</td>\n      <td>15500</td>\n      <td>Precio negociable: si Color : Negro Corolla LE...</td>\n    </tr>\n    <tr>\n      <th>28</th>\n      <td>Kia Forte</td>\n      <td>2018</td>\n      <td>98000</td>\n      <td>Gasolina</td>\n      <td>8500</td>\n      <td>Color : Negro Se vende Kia Forte 2018 en muy b...</td>\n    </tr>\n    <tr>\n      <th>29</th>\n      <td>Toyota Yaris iA</td>\n      <td>2018</td>\n      <td>125142</td>\n      <td>Gasolina</td>\n      <td>9500</td>\n      <td>Precio negociable: no Color : Azul negro Toyot...</td>\n    </tr>\n    <tr>\n      <th>30</th>\n      <td>Hyundai Accent</td>\n      <td>2009</td>\n      <td>131250</td>\n      <td>Gasolina</td>\n      <td>3750</td>\n      <td>Precio negociable: no Color : Gris DESCRIPCIÓN...</td>\n    </tr>\n    <tr>\n      <th>31</th>\n      <td>Mitsubishi Mirage G4</td>\n      <td>2018</td>\n      <td>80000</td>\n      <td>Gasolina</td>\n      <td>8200</td>\n      <td>Precio negociable: si Color : negro Precioso, ...</td>\n    </tr>\n    <tr>\n      <th>32</th>\n      <td>Hyundai Elantra</td>\n      <td>2020</td>\n      <td>62000</td>\n      <td>Gasolina</td>\n      <td>11350</td>\n      <td>Precio negociable: si Color : azul Hyundai Ela...</td>\n    </tr>\n    <tr>\n      <th>33</th>\n      <td>Kia Forte</td>\n      <td>2016</td>\n      <td>69000</td>\n      <td>Gasolina</td>\n      <td>7700</td>\n      <td>Color : Negro DESCRIPCIÓN CALIFICACIONES SEGUR...</td>\n    </tr>\n    <tr>\n      <th>34</th>\n      <td>Hyundai Accent</td>\n      <td>2016</td>\n      <td>81700</td>\n      <td>Gasolina</td>\n      <td>7000</td>\n      <td>Color : Gris DESCRIPCIÓN CALIFICACIONES SEGURI...</td>\n    </tr>\n    <tr>\n      <th>35</th>\n      <td>Hyundai Accent</td>\n      <td>2010</td>\n      <td>144000</td>\n      <td>Gasolina</td>\n      <td>5000</td>\n      <td>DESCRIPCIÓN CALIFICACIONES SEGURIDAD Hyundai A...</td>\n    </tr>\n    <tr>\n      <th>36</th>\n      <td>Mitsubishi Galant</td>\n      <td>2010</td>\n      <td>126700</td>\n      <td>Gasolina</td>\n      <td>4800</td>\n      <td>Color : Gris -Motor 2.4 en buen estado, recien...</td>\n    </tr>\n    <tr>\n      <th>37</th>\n      <td>Hyundai Accent</td>\n      <td>2017</td>\n      <td>111</td>\n      <td>Otros</td>\n      <td>7800</td>\n      <td>Garantía: Como es visto no hay garantía Financ...</td>\n    </tr>\n    <tr>\n      <th>38</th>\n      <td>Hyundai Elantra</td>\n      <td>2018</td>\n      <td>1</td>\n      <td>Gasolina</td>\n      <td>8300</td>\n      <td>Financiamiento: no Precio negociable: si Color...</td>\n    </tr>\n    <tr>\n      <th>39</th>\n      <td>Chevrolet Aveo</td>\n      <td>2007</td>\n      <td>180000</td>\n      <td>Gasolina</td>\n      <td>2800</td>\n      <td>Garantía: Como es visto no hay garantía Financ...</td>\n    </tr>\n    <tr>\n      <th>40</th>\n      <td>Mitsubishi Mirage G4</td>\n      <td>2019</td>\n      <td>120000</td>\n      <td>Gasolina</td>\n      <td>7600</td>\n      <td>Vendo económico vehículo sedan 41 km por litro...</td>\n    </tr>\n    <tr>\n      <th>41</th>\n      <td>Nissan Sentra</td>\n      <td>2020</td>\n      <td>33000</td>\n      <td>Gasolina</td>\n      <td>12500</td>\n      <td>Precio negociable: si Vendo Nissan Sentra 2020...</td>\n    </tr>\n    <tr>\n      <th>42</th>\n      <td>Volkswagen Polo</td>\n      <td>2002</td>\n      <td>1</td>\n      <td>Gasolina</td>\n      <td>1700</td>\n      <td>se puede usar quema aceite tira humo. detalles...</td>\n    </tr>\n    <tr>\n      <th>43</th>\n      <td>Toyota iA</td>\n      <td>2017</td>\n      <td>61195</td>\n      <td>Gasolina</td>\n      <td>7900</td>\n      <td>Garantía: Como es visto no hay garantía Financ...</td>\n    </tr>\n    <tr>\n      <th>44</th>\n      <td>Mitsubishi Mirage G4</td>\n      <td>2017</td>\n      <td>86000</td>\n      <td>Gasolina</td>\n      <td>7900</td>\n      <td>Garantía: 30 días, garantía limitada en 1000 k...</td>\n    </tr>\n    <tr>\n      <th>45</th>\n      <td>Honda Civic</td>\n      <td>2020</td>\n      <td>60000</td>\n      <td>Gasolina</td>\n      <td>18900</td>\n      <td>Garantía: 30 días, garantía limitada en 1000 k...</td>\n    </tr>\n    <tr>\n      <th>46</th>\n      <td>Nissan Sentra</td>\n      <td>2017</td>\n      <td>179115</td>\n      <td>Gasolina</td>\n      <td>8500</td>\n      <td>Precio negociable: si Color : Gris DESCRIPCIÓN...</td>\n    </tr>\n    <tr>\n      <th>47</th>\n      <td>Nissan Almera</td>\n      <td>2003</td>\n      <td>200000</td>\n      <td>Gasolina</td>\n      <td>3300</td>\n      <td>Precio negociable: no Color : BEIGE Vendo NISS...</td>\n    </tr>\n    <tr>\n      <th>48</th>\n      <td>Mitsubishi Lancer</td>\n      <td>2016</td>\n      <td>81395</td>\n      <td>Gasolina</td>\n      <td>8200</td>\n      <td>Color : Blanco Cámara de retroceso Asientos de...</td>\n    </tr>\n    <tr>\n      <th>49</th>\n      <td>Hyundai Elantra</td>\n      <td>2014</td>\n      <td>144</td>\n      <td>Gasolina</td>\n      <td>7300</td>\n      <td>Garantía: Como es visto no hay garantía Financ...</td>\n    </tr>\n  </tbody>\n</table>\n</div>"
     },
     "execution_count": 20,
     "metadata": {},
     "output_type": "execute_result"
    }
   ],
   "source": [
    "df_temp"
   ],
   "metadata": {
    "collapsed": false,
    "ExecuteTime": {
     "end_time": "2024-04-06T21:32:12.535287Z",
     "start_time": "2024-04-06T21:32:12.505772Z"
    }
   },
   "execution_count": 20
  }
 ],
 "metadata": {
  "kernelspec": {
   "display_name": "Python 3",
   "language": "python",
   "name": "python3"
  },
  "language_info": {
   "codemirror_mode": {
    "name": "ipython",
    "version": 2
   },
   "file_extension": ".py",
   "mimetype": "text/x-python",
   "name": "python",
   "nbconvert_exporter": "python",
   "pygments_lexer": "ipython2",
   "version": "2.7.6"
  }
 },
 "nbformat": 4,
 "nbformat_minor": 0
}
