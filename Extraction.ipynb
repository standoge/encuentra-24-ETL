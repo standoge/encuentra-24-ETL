{
 "cells": [
  {
   "cell_type": "markdown",
   "source": [
    "## Dependencies"
   ],
   "metadata": {
    "collapsed": false
   }
  },
  {
   "cell_type": "markdown",
   "source": [
    "---"
   ],
   "metadata": {
    "collapsed": false
   }
  },
  {
   "cell_type": "code",
   "execution_count": 1,
   "outputs": [],
   "source": [
    "import yaml\n",
    "import re\n",
    "from datetime import datetime\n",
    "import pandas as pd"
   ],
   "metadata": {
    "collapsed": false,
    "ExecuteTime": {
     "end_time": "2023-10-21T01:27:33.126118Z",
     "start_time": "2023-10-21T01:27:32.401376700Z"
    }
   }
  },
  {
   "cell_type": "code",
   "execution_count": 2,
   "outputs": [],
   "source": [
    "from selenium import webdriver\n",
    "from selenium.webdriver.common.by import By\n",
    "from selenium.webdriver.edge.service import Service\n",
    "from webdriver_manager.microsoft import EdgeChromiumDriverManager\n",
    "from selenium.webdriver.support.ui import WebDriverWait\n",
    "from selenium.webdriver.edge.options import Options\n",
    "from selenium.webdriver.support import expected_conditions as EC\n",
    "from selenium.common.exceptions import NoSuchElementException\n",
    "from selenium.common.exceptions import TimeoutException\n"
   ],
   "metadata": {
    "collapsed": false,
    "ExecuteTime": {
     "end_time": "2023-10-21T01:27:33.330204400Z",
     "start_time": "2023-10-21T01:27:33.125119Z"
    }
   }
  },
  {
   "cell_type": "markdown",
   "source": [
    "Setting up web driver."
   ],
   "metadata": {
    "collapsed": false
   }
  },
  {
   "cell_type": "code",
   "execution_count": 3,
   "outputs": [
    {
     "name": "stderr",
     "output_type": "stream",
     "text": [
      "[WDM] - Downloading: 100%|██████████| 7.78M/7.78M [00:02<00:00, 3.30MB/s]\n"
     ]
    }
   ],
   "source": [
    "EdgeOptions = Options()\n",
    "EdgeOptions.add_argument(\"--headless\")\n",
    "edge = webdriver.Edge(service=Service(EdgeChromiumDriverManager().install()), options=EdgeOptions)\n",
    "# edge = webdriver.Edge(service=Service(EdgeChromiumDriverManager().install()))\n"
   ],
   "metadata": {
    "collapsed": false,
    "ExecuteTime": {
     "end_time": "2023-10-21T01:27:38.726128200Z",
     "start_time": "2023-10-21T01:27:33.331205400Z"
    }
   }
  },
  {
   "cell_type": "markdown",
   "source": [
    "## Extract"
   ],
   "metadata": {
    "collapsed": false
   }
  },
  {
   "cell_type": "markdown",
   "source": [
    "---"
   ],
   "metadata": {
    "collapsed": false
   }
  },
  {
   "cell_type": "markdown",
   "source": [
    "### Functions:"
   ],
   "metadata": {
    "collapsed": false
   }
  },
  {
   "cell_type": "code",
   "execution_count": 4,
   "outputs": [],
   "source": [
    "def resources(name: str) -> dict[str:str]:\n",
    "    \"\"\"Read yaml file to get xpath resources\n",
    "    \n",
    "    :param name: name of the resource to extract\n",
    "    :return: the xpath\n",
    "    \"\"\"\n",
    "    with open(\"xpath.yml\", \"r\") as f:\n",
    "        content: dict[str:str] = yaml.safe_load(f)\n",
    "        return content[name]"
   ],
   "metadata": {
    "collapsed": false,
    "ExecuteTime": {
     "end_time": "2023-10-21T01:27:38.744127800Z",
     "start_time": "2023-10-21T01:27:38.728126100Z"
    }
   }
  },
  {
   "cell_type": "code",
   "execution_count": 5,
   "outputs": [],
   "source": [
    "def close_prompt(driver: webdriver) -> None:\n",
    "    \"\"\"Close prompt when is required\n",
    "    \n",
    "    :param driver: browser instance \n",
    "    \"\"\"\n",
    "    button: str = \"//a[@class='btn btn-subscription-light']\"\n",
    "    driver.find_element(by=By.XPATH, value=button).click()"
   ],
   "metadata": {
    "collapsed": false,
    "ExecuteTime": {
     "end_time": "2023-10-21T01:27:38.795126600Z",
     "start_time": "2023-10-21T01:27:38.745127Z"
    }
   }
  },
  {
   "cell_type": "code",
   "execution_count": 6,
   "outputs": [],
   "source": [
    "def click_element(element: webdriver, path: str) -> None:\n",
    "    \"\"\"Click on element in the current browser page\n",
    "    \n",
    "    :param element: browser instance\n",
    "    :param path: xpath of element to click\n",
    "    \"\"\"\n",
    "    button = element.find_element(by=By.XPATH, value=path)\n",
    "    button.click()"
   ],
   "metadata": {
    "collapsed": false,
    "ExecuteTime": {
     "end_time": "2023-10-21T01:27:38.796125900Z",
     "start_time": "2023-10-21T01:27:38.760129900Z"
    }
   }
  },
  {
   "cell_type": "code",
   "execution_count": 7,
   "outputs": [],
   "source": [
    "def extract_feature_in(element: webdriver, path: str) -> str:\n",
    "    \"\"\"Extract ad feature where current browser page is the ad page\n",
    "    \n",
    "    :param element: browser instance\n",
    "    :param path: xpath of feature to extract\n",
    "    :return: feature extracted\n",
    "    \"\"\"\n",
    "    feature: str = element.find_element(by=By.XPATH, value=path)\n",
    "    return feature"
   ],
   "metadata": {
    "collapsed": false,
    "ExecuteTime": {
     "end_time": "2023-10-21T01:27:38.796125900Z",
     "start_time": "2023-10-21T01:27:38.787127700Z"
    }
   }
  },
  {
   "cell_type": "code",
   "execution_count": 8,
   "outputs": [],
   "source": [
    "def extract_feature_out(element: webdriver, path: str) -> list[str]:\n",
    "    \"\"\"Extract ad feature where current browser page is the listing page (not in the ad)\n",
    "    \n",
    "    :param element: browser instance\n",
    "    :param path: xpath of feature to extract\n",
    "    :return: list of features\n",
    "    \"\"\"\n",
    "    feature = []\n",
    "\n",
    "    try:\n",
    "        feature: str = element.find_elements(by=By.XPATH, value=path)\n",
    "        feature = [data_point.text for data_point in feature]\n",
    "        return feature\n",
    "    except Exception:\n",
    "        feature.append(\"Web wasn't able to scrape the feature\")"
   ],
   "metadata": {
    "collapsed": false,
    "ExecuteTime": {
     "end_time": "2023-10-21T01:27:38.821128200Z",
     "start_time": "2023-10-21T01:27:38.792128100Z"
    }
   }
  },
  {
   "cell_type": "code",
   "execution_count": 9,
   "outputs": [],
   "source": [
    "def persistence(dataframe: pd.DataFrame) -> None:\n",
    "    \"\"\"Save dataframe to csv file\n",
    "    \n",
    "    :param dataframe: dataframe to save\n",
    "    \"\"\"\n",
    "    file_name = datetime.today().strftime(\"%B-%d\")\n",
    "    dataframe.to_csv(f\"persistence/{file_name}.csv\", index=False)"
   ],
   "metadata": {
    "collapsed": false,
    "ExecuteTime": {
     "end_time": "2023-10-21T01:27:38.853127800Z",
     "start_time": "2023-10-21T01:27:38.806128200Z"
    }
   }
  },
  {
   "cell_type": "code",
   "execution_count": 10,
   "outputs": [],
   "source": [
    "def get_len(features: list[list[str]]) -> bool:\n",
    "    \"\"\"Check if all features has the same length to create new df\n",
    "    \n",
    "    :param features: list of features extracted with scraping\n",
    "    :return: a list with all lengths where first place is the len of the first element and the mostly accepted.\n",
    "    \"\"\"\n",
    "    base_len = len(features[0])\n",
    "    lengths = []\n",
    "    lengths.append(base_len)\n",
    "    for feature in features:\n",
    "        if len(feature) == base_len:\n",
    "            continue\n",
    "        else:\n",
    "            lengths.append(len(feature))\n",
    "    return lengths"
   ],
   "metadata": {
    "collapsed": false,
    "ExecuteTime": {
     "end_time": "2023-10-21T01:27:38.855126Z",
     "start_time": "2023-10-21T01:27:38.821128200Z"
    }
   }
  },
  {
   "cell_type": "code",
   "execution_count": 11,
   "outputs": [],
   "source": [
    "def check_len(lengths: list[int]) -> bool:\n",
    "    \"\"\"Check if all elements in list has the same value.\n",
    "    \n",
    "    :param lengths: list of lengths\n",
    "    :return: a boolean\n",
    "    \"\"\"\n",
    "    for length in lengths[1:]:\n",
    "        if length != lengths[0]:\n",
    "            return False\n",
    "        return True"
   ],
   "metadata": {
    "collapsed": false,
    "ExecuteTime": {
     "end_time": "2023-10-21T01:27:38.856126200Z",
     "start_time": "2023-10-21T01:27:38.836127600Z"
    }
   }
  },
  {
   "cell_type": "markdown",
   "source": [
    "Variables pool."
   ],
   "metadata": {
    "collapsed": false
   }
  },
  {
   "cell_type": "code",
   "execution_count": 12,
   "outputs": [],
   "source": [
    "descriptions: list[str] = []\n",
    "prices: list[int] = []\n",
    "models: list[str] = []\n",
    "years: list[int] = []\n",
    "kilometers: list[int] = []\n",
    "engines: list[str] = []\n",
    "\n",
    "# seconds\n",
    "DELAY: int = 1\n",
    "SEDAN = resources(\"cars_sedan\")"
   ],
   "metadata": {
    "collapsed": false,
    "ExecuteTime": {
     "end_time": "2023-10-21T01:27:38.887125900Z",
     "start_time": "2023-10-21T01:27:38.852127100Z"
    }
   }
  },
  {
   "cell_type": "markdown",
   "source": [
    "Get web page and close prompt (when is required)."
   ],
   "metadata": {
    "collapsed": false
   }
  },
  {
   "cell_type": "code",
   "execution_count": 13,
   "outputs": [],
   "source": [
    "edge.get(SEDAN[\"url\"])\n",
    "# close_prompt(edge)"
   ],
   "metadata": {
    "collapsed": false,
    "ExecuteTime": {
     "end_time": "2023-10-21T01:27:47.129712200Z",
     "start_time": "2023-10-21T01:27:38.869129Z"
    }
   }
  },
  {
   "cell_type": "markdown",
   "source": [
    "Extract car features."
   ],
   "metadata": {
    "collapsed": false
   }
  },
  {
   "cell_type": "code",
   "execution_count": 14,
   "outputs": [],
   "source": [
    "# Get this list of ads and click on the first one\n",
    "elements = edge.find_elements(by=By.XPATH, value=SEDAN[\"ad\"])\n",
    "elements[0].click()\n",
    "\n",
    "try:\n",
    "    for element in range(len(elements)):\n",
    "        # Wait until the element is present to avoid missing data\n",
    "        dynamic_delay = WebDriverWait(edge, DELAY).until(\n",
    "            EC.presence_of_element_located((By.XPATH, SEDAN[\"description\"])))\n",
    "\n",
    "        brand_str = extract_feature_in(edge, SEDAN[\"brand\"]).text\n",
    "        model_str = extract_feature_in(edge, SEDAN[\"model\"]).text\n",
    "        models.append(brand_str + \" \" + model_str)\n",
    "\n",
    "        descriptions.append(extract_feature_in(edge, SEDAN[\"description\"]).text)\n",
    "        prices.append(extract_feature_in(edge, SEDAN[\"price\"]).text)\n",
    "        kilometers.append(extract_feature_in(edge, SEDAN[\"kilometers\"]).text)\n",
    "        engines.append(extract_feature_in(edge, SEDAN[\"engine\"]).text)\n",
    "        years.append(extract_feature_in(edge, SEDAN[\"year\"]).text)\n",
    "\n",
    "        click_element(edge, SEDAN[\"next\"])\n",
    "except TimeoutException as TE:\n",
    "    descriptions.append(\"Web wasn't able to scrape descriptions\")\n",
    "except NoSuchElementException as NSE:\n",
    "    click_element(edge, SEDAN[\"exit\"])"
   ],
   "metadata": {
    "collapsed": false,
    "ExecuteTime": {
     "end_time": "2023-10-21T01:30:28.266251400Z",
     "start_time": "2023-10-21T01:27:47.135712600Z"
    }
   }
  },
  {
   "cell_type": "markdown",
   "source": [
    "## Export"
   ],
   "metadata": {
    "collapsed": false
   }
  },
  {
   "cell_type": "markdown",
   "source": [
    "---"
   ],
   "metadata": {
    "collapsed": false
   }
  },
  {
   "cell_type": "markdown",
   "source": [
    "### Functions:"
   ],
   "metadata": {
    "collapsed": false
   }
  },
  {
   "cell_type": "code",
   "execution_count": 15,
   "outputs": [],
   "source": [
    "def parse_price(dataframe: pd.DataFrame, feature: str, pattern: str) -> None:\n",
    "    \"\"\"Parse financial features like prices. Works with $#,### (not dot)\n",
    "    \n",
    "    :param dataframe: object towards apply transformation\n",
    "    :param feature: feature name towards apply transformation\n",
    "    :param pattern: feature pattern to transform\n",
    "    \"\"\"\n",
    "    dataframe[feature] = dataframe[feature] \\\n",
    "        .str.extract(pattern) \\\n",
    "        .applymap(lambda price: int(price.replace(\",\", \"\")))\n"
   ],
   "metadata": {
    "collapsed": false,
    "ExecuteTime": {
     "end_time": "2023-10-21T01:30:28.282252300Z",
     "start_time": "2023-10-21T01:30:28.267252200Z"
    }
   }
  },
  {
   "cell_type": "code",
   "execution_count": 16,
   "outputs": [],
   "source": [
    "def remove_chars(dataframe: pd.DataFrame, feature: str, wildcards: str) -> pd.Series:\n",
    "    \"\"\"Remove escaped characters from features like indented large extracts of text\n",
    "    \n",
    "    :param dataframe: object towards apply transformation\n",
    "    :param feature: feature name towards apply transformation\n",
    "    :param wildcards: escaped characters to remove\n",
    "    :return: Serie without escaped characters\n",
    "    \"\"\"\n",
    "    return (dataframe\n",
    "    .apply(\n",
    "        lambda row: row[feature]\n",
    "        , axis=1\n",
    "    )\n",
    "    .apply(\n",
    "        lambda extracted_f: re.sub(wildcards, r' ', extracted_f)\n",
    "    )\n",
    "    )\n"
   ],
   "metadata": {
    "collapsed": false,
    "ExecuteTime": {
     "end_time": "2023-10-21T01:30:28.308407700Z",
     "start_time": "2023-10-21T01:30:28.283256200Z"
    }
   }
  },
  {
   "cell_type": "code",
   "execution_count": 17,
   "outputs": [],
   "source": [
    "PRICE_RG: str = r\"^\\$(?P<prices>\\d+,?\\d+)?\"\n",
    "KM_REG: str = r\"(?P<km>^\\d+)\"\n",
    "CHARACTER_RG: str = '(\\n|\\r)+'"
   ],
   "metadata": {
    "collapsed": false,
    "ExecuteTime": {
     "end_time": "2023-10-21T01:30:28.331532900Z",
     "start_time": "2023-10-21T01:30:28.297407400Z"
    }
   }
  },
  {
   "cell_type": "markdown",
   "source": [
    "Check that all features has the same length."
   ],
   "metadata": {
    "collapsed": false
   }
  },
  {
   "cell_type": "code",
   "execution_count": 18,
   "outputs": [
    {
     "data": {
      "text/plain": "[50, 50, 50, 50, 50, 50]"
     },
     "execution_count": 18,
     "metadata": {},
     "output_type": "execute_result"
    }
   ],
   "source": [
    "lengths = [len(engines), len(models), len(years), len(kilometers), len(prices), len(descriptions)]\n",
    "lengths"
   ],
   "metadata": {
    "collapsed": false,
    "ExecuteTime": {
     "end_time": "2023-10-21T01:30:28.331532900Z",
     "start_time": "2023-10-21T01:30:28.311533900Z"
    }
   }
  },
  {
   "cell_type": "code",
   "execution_count": 19,
   "outputs": [],
   "source": [
    "prices = [price.replace(\".\", \",\") for price in prices]"
   ],
   "metadata": {
    "collapsed": false,
    "ExecuteTime": {
     "end_time": "2023-10-21T01:30:28.416956800Z",
     "start_time": "2023-10-21T01:30:28.329532800Z"
    }
   }
  },
  {
   "cell_type": "markdown",
   "source": [
    "Create dataframe to transform data extracted"
   ],
   "metadata": {
    "collapsed": false
   }
  },
  {
   "cell_type": "code",
   "execution_count": 20,
   "outputs": [],
   "source": [
    "if check_len(lengths):\n",
    "    df_temp = pd.DataFrame({\n",
    "        \"model\": models,\n",
    "        \"year\": years,\n",
    "        \"kilometers\": kilometers,\n",
    "        \"engine\": engines,\n",
    "        \"price\": prices,\n",
    "        \"description\": descriptions\n",
    "    })\n",
    "\n",
    "    # Parse features. String to number and raw string with characters to structured string.\n",
    "    parse_price(df_temp, \"price\", PRICE_RG)\n",
    "    df_temp[\"kilometers\"] = df_temp[\"kilometers\"].str.extract(KM_REG).applymap(int)\n",
    "    df_temp[\"year\"] = df_temp[\"year\"].map(int)\n",
    "    df_temp[\"description\"] = remove_chars(df_temp, \"description\", CHARACTER_RG)\n",
    "\n",
    "    persistence(df_temp)\n"
   ],
   "metadata": {
    "collapsed": false,
    "ExecuteTime": {
     "end_time": "2023-10-21T01:30:28.422959800Z",
     "start_time": "2023-10-21T01:30:28.346537100Z"
    }
   }
  },
  {
   "cell_type": "code",
   "execution_count": 21,
   "outputs": [
    {
     "data": {
      "text/plain": "                        model  year  kilometers    engine  price  \\\n0                 Honda Civic  2019       46771  Gasolina  13950   \n1                    Kia SOUL  2018       43000  Gasolina  10800   \n2               Nissan Sentra  2016       95600  Gasolina   8000   \n3   otros + Datsun 120 Y 1979  1979           0  Gasolina   3900   \n4            Hyundai Veloster  2016       81000  Gasolina   8800   \n5                    Kia SOUL  2015       86000  Gasolina   8800   \n6                     Kia RIO  2015       70852  Gasolina   7600   \n7              Hyundai Accent  2016      144000  Gasolina   7900   \n8               Nissan Sentra  2018      146500  Gasolina   8800   \n9             Hyundai Elantra  2018       96000  Gasolina   9900   \n10             Toyota Corolla  2018       65200  Gasolina  12600   \n11            Hyundai Elantra  2001        5000  Gasolina   3500   \n12             Hyundai Accent  2014      222223  Gasolina   7200   \n13          Mitsubishi Lancer  2010      150000  Gasolina   5400   \n14                Honda Civic  2013      243626  Gasolina   7800   \n15              Nissan Sentra  2017       61000  Gasolina   7400   \n16            Hyundai Elantra  2013          60  Gasolina    700   \n17            Hyundai Elantra  2020       37000  Gasolina  10900   \n18            Hyundai Elantra  2020       48000  Gasolina  10900   \n19             Chevrolet Aveo  2010           3  Gasolina   4500   \n20            Hyundai Elantra  2016      100000  Gasolina   8300   \n21            Hyundai Elantra  2016          84  Gasolina   9500   \n22            Hyundai Elantra  2018          47  Gasolina  11700   \n23              Nissan Sentra  2024         131  Gasolina   6400   \n24                   Kia SOUL  2016         104  Gasolina    850   \n25                Honda Civic  2010      245710  Gasolina   6200   \n26            Chevrolet Sonic  2012       11000  Gasolina   4500   \n27              Nissan Murano  2014       97000  Gasolina   9500   \n28             Hyundai Accent  2020       35000  Gasolina  10300   \n29            Chevrolet Cruze  2018       96210  Gasolina   6900   \n30              Nissan Sentra  2020       32000  Gasolina  13200   \n31              Toyota Matrix  2009         194  Gasolina   6700   \n32            Hyundai Elantra  2001           0  Gasolina   3500   \n33              Toyota Tercel  1996       46000  Gasolina   3700   \n34                Honda Civic  2010      245231  Gasolina   6200   \n35              Nissan Sentra  2016       57500  Gasolina   8700   \n36                  Kia Forte  2017       75000  Gasolina   9200   \n37                    Kia RIO  2017      106000  Gasolina   7600   \n38    Chevrolet Cruze Limited  2018       25000  Gasolina   8475   \n39                Toyota Echo  2003      210000  Gasolina   4500   \n40                    Mazda 6  2014       80538  Gasolina   7500   \n41            Chevrolet Sonic  2013           0  Gasolina   5100   \n42              Nissan Sentra  2017         122  Gasolina   6100   \n43                    Mazda 6  2006       60000  Gasolina   2990   \n44                Honda Civic  2018       85000  Gasolina  12500   \n45                Honda Civic  2016      109500  Gasolina  13000   \n46                Honda Civic  2015       61065  Gasolina  14500   \n47              Nissan Sentra  2015       72000  Gasolina   6850   \n48                Ford Fiesta  2017      125367  Gasolina   6000   \n49               Nissan Versa  2019       40205  Gasolina   7800   \n\n                                          description  \n0   Garantía: Como es visto no hay garantía Financ...  \n1   Color : Blanco Bolsas Buenas (todas) A/C En ex...  \n2   Precio negociable: si Color : Azul DESCRIPCIÓN...  \n3   Precio negociable: si Color : Verde Vendo boni...  \n4   Color : Blanco DESCRIPCIÓN CALIFICACIONES SEGU...  \n5   Garantía: Como es visto no hay garantía Financ...  \n6   Precio negociable: si Color : Blanca perla DES...  \n7   Precio negociable: si Color : Azul DESCRIPCIÓN...  \n8   Color : Gris Bonito Nissan Sentra SV 2018, sis...  \n9   Color : Rojo Hyundai Elantra 2018 SEL Motor 2....  \n10  Garantía: Como es visto no hay garantía Financ...  \n11  Precio negociable: si DESCRIPCIÓN CALIFICACION...  \n12  Precio negociable: si Color : Negro DESCRIPCIÓ...  \n13  Financiamiento: no Precio negociable: si Se ve...  \n14  DESCRIPCIÓN CALIFICACIONES SEGURIDAD Honda civ...  \n15  Precio negociable: si DESCRIPCIÓN CALIFICACION...  \n16  Precio negociable: si Color : Blanco DESCRIPCI...  \n17  Precio negociable: si Color : NEGRO HYUNDAI EL...  \n18  Precio negociable: si Color : GRIS HYUNDAI ELA...  \n19  Financiamiento: no Precio negociable: si DESCR...  \n20  Garantía: Como es visto no hay garantía Financ...  \n21  Garantía: Como es visto no hay garantía Color ...  \n22  Color : Blanco Se vende un 2018 Hyundai Elantr...  \n23  Precio negociable: si Color : Blanco A toda Pr...  \n24  Precio negociable: si Color : Negro DESCRIPCIÓ...  \n25  DESCRIPCIÓN CALIFICACIONES SEGURIDAD Vendo Hon...  \n26  Precio negociable: si Color : Rojo DESCRIPCIÓN...  \n27                 Precio negociable: si Color : OCRE  \n28  Precio negociable: si Color : Gris MOTOR 1.6 T...  \n29  Garantía: Como es visto no hay garantía Financ...  \n30  Financiamiento: si Precio negociable: si Vendo...  \n31  Color : Rojo Todo en regla.aire . pantalla cam...  \n32  Precio negociable: si Color : Verde DESCRIPCIÓ...  \n33  Financiamiento: no Precio negociable: si Color...  \n34  Precio negociable: si Color : Gris DESCRIPCIÓN...  \n35  Precio negociable: si Color : Rojo DESCRIPCIÓN...  \n36  Color : Café DESCRIPCIÓN CALIFICACIONES SEGURI...  \n37  Color : Negro DESCRIPCIÓN CALIFICACIONES SEGUR...  \n38  Color : Negro Año 2018 Chevrolet Cruze LT (Paq...  \n39  Precio negociable: si Color : Color Gris DESCR...  \n40  Precio negociable: si Color : Negro DESCRIPCIÓ...  \n41  Color : Gris oscuro DESCRIPCIÓN ARTÍCULOS CALI...  \n42  Color : Azul DESCRIPCIÓN CALIFICACIONES SEGURI...  \n43  Garantía: Como es visto no hay garantía Financ...  \n44  Color : Azul Tel y whatsapp - Honda Civic Full...  \n45  Color : Gris DESCRIPCIÓN CALIFICACIONES SEGURI...  \n46  Precio negociable: si Color : Gris DESCRIPCIÓN...  \n47  Color : NEGRO DESCRIPCIÓN CALIFICACIONES SEGUR...  \n48  Precio negociable: si Color : Negro DESCRIPCIÓ...  \n49  Disponible con traspaso directo, crédito fisca...  ",
      "text/html": "<div>\n<style scoped>\n    .dataframe tbody tr th:only-of-type {\n        vertical-align: middle;\n    }\n\n    .dataframe tbody tr th {\n        vertical-align: top;\n    }\n\n    .dataframe thead th {\n        text-align: right;\n    }\n</style>\n<table border=\"1\" class=\"dataframe\">\n  <thead>\n    <tr style=\"text-align: right;\">\n      <th></th>\n      <th>model</th>\n      <th>year</th>\n      <th>kilometers</th>\n      <th>engine</th>\n      <th>price</th>\n      <th>description</th>\n    </tr>\n  </thead>\n  <tbody>\n    <tr>\n      <th>0</th>\n      <td>Honda Civic</td>\n      <td>2019</td>\n      <td>46771</td>\n      <td>Gasolina</td>\n      <td>13950</td>\n      <td>Garantía: Como es visto no hay garantía Financ...</td>\n    </tr>\n    <tr>\n      <th>1</th>\n      <td>Kia SOUL</td>\n      <td>2018</td>\n      <td>43000</td>\n      <td>Gasolina</td>\n      <td>10800</td>\n      <td>Color : Blanco Bolsas Buenas (todas) A/C En ex...</td>\n    </tr>\n    <tr>\n      <th>2</th>\n      <td>Nissan Sentra</td>\n      <td>2016</td>\n      <td>95600</td>\n      <td>Gasolina</td>\n      <td>8000</td>\n      <td>Precio negociable: si Color : Azul DESCRIPCIÓN...</td>\n    </tr>\n    <tr>\n      <th>3</th>\n      <td>otros + Datsun 120 Y 1979</td>\n      <td>1979</td>\n      <td>0</td>\n      <td>Gasolina</td>\n      <td>3900</td>\n      <td>Precio negociable: si Color : Verde Vendo boni...</td>\n    </tr>\n    <tr>\n      <th>4</th>\n      <td>Hyundai Veloster</td>\n      <td>2016</td>\n      <td>81000</td>\n      <td>Gasolina</td>\n      <td>8800</td>\n      <td>Color : Blanco DESCRIPCIÓN CALIFICACIONES SEGU...</td>\n    </tr>\n    <tr>\n      <th>5</th>\n      <td>Kia SOUL</td>\n      <td>2015</td>\n      <td>86000</td>\n      <td>Gasolina</td>\n      <td>8800</td>\n      <td>Garantía: Como es visto no hay garantía Financ...</td>\n    </tr>\n    <tr>\n      <th>6</th>\n      <td>Kia RIO</td>\n      <td>2015</td>\n      <td>70852</td>\n      <td>Gasolina</td>\n      <td>7600</td>\n      <td>Precio negociable: si Color : Blanca perla DES...</td>\n    </tr>\n    <tr>\n      <th>7</th>\n      <td>Hyundai Accent</td>\n      <td>2016</td>\n      <td>144000</td>\n      <td>Gasolina</td>\n      <td>7900</td>\n      <td>Precio negociable: si Color : Azul DESCRIPCIÓN...</td>\n    </tr>\n    <tr>\n      <th>8</th>\n      <td>Nissan Sentra</td>\n      <td>2018</td>\n      <td>146500</td>\n      <td>Gasolina</td>\n      <td>8800</td>\n      <td>Color : Gris Bonito Nissan Sentra SV 2018, sis...</td>\n    </tr>\n    <tr>\n      <th>9</th>\n      <td>Hyundai Elantra</td>\n      <td>2018</td>\n      <td>96000</td>\n      <td>Gasolina</td>\n      <td>9900</td>\n      <td>Color : Rojo Hyundai Elantra 2018 SEL Motor 2....</td>\n    </tr>\n    <tr>\n      <th>10</th>\n      <td>Toyota Corolla</td>\n      <td>2018</td>\n      <td>65200</td>\n      <td>Gasolina</td>\n      <td>12600</td>\n      <td>Garantía: Como es visto no hay garantía Financ...</td>\n    </tr>\n    <tr>\n      <th>11</th>\n      <td>Hyundai Elantra</td>\n      <td>2001</td>\n      <td>5000</td>\n      <td>Gasolina</td>\n      <td>3500</td>\n      <td>Precio negociable: si DESCRIPCIÓN CALIFICACION...</td>\n    </tr>\n    <tr>\n      <th>12</th>\n      <td>Hyundai Accent</td>\n      <td>2014</td>\n      <td>222223</td>\n      <td>Gasolina</td>\n      <td>7200</td>\n      <td>Precio negociable: si Color : Negro DESCRIPCIÓ...</td>\n    </tr>\n    <tr>\n      <th>13</th>\n      <td>Mitsubishi Lancer</td>\n      <td>2010</td>\n      <td>150000</td>\n      <td>Gasolina</td>\n      <td>5400</td>\n      <td>Financiamiento: no Precio negociable: si Se ve...</td>\n    </tr>\n    <tr>\n      <th>14</th>\n      <td>Honda Civic</td>\n      <td>2013</td>\n      <td>243626</td>\n      <td>Gasolina</td>\n      <td>7800</td>\n      <td>DESCRIPCIÓN CALIFICACIONES SEGURIDAD Honda civ...</td>\n    </tr>\n    <tr>\n      <th>15</th>\n      <td>Nissan Sentra</td>\n      <td>2017</td>\n      <td>61000</td>\n      <td>Gasolina</td>\n      <td>7400</td>\n      <td>Precio negociable: si DESCRIPCIÓN CALIFICACION...</td>\n    </tr>\n    <tr>\n      <th>16</th>\n      <td>Hyundai Elantra</td>\n      <td>2013</td>\n      <td>60</td>\n      <td>Gasolina</td>\n      <td>700</td>\n      <td>Precio negociable: si Color : Blanco DESCRIPCI...</td>\n    </tr>\n    <tr>\n      <th>17</th>\n      <td>Hyundai Elantra</td>\n      <td>2020</td>\n      <td>37000</td>\n      <td>Gasolina</td>\n      <td>10900</td>\n      <td>Precio negociable: si Color : NEGRO HYUNDAI EL...</td>\n    </tr>\n    <tr>\n      <th>18</th>\n      <td>Hyundai Elantra</td>\n      <td>2020</td>\n      <td>48000</td>\n      <td>Gasolina</td>\n      <td>10900</td>\n      <td>Precio negociable: si Color : GRIS HYUNDAI ELA...</td>\n    </tr>\n    <tr>\n      <th>19</th>\n      <td>Chevrolet Aveo</td>\n      <td>2010</td>\n      <td>3</td>\n      <td>Gasolina</td>\n      <td>4500</td>\n      <td>Financiamiento: no Precio negociable: si DESCR...</td>\n    </tr>\n    <tr>\n      <th>20</th>\n      <td>Hyundai Elantra</td>\n      <td>2016</td>\n      <td>100000</td>\n      <td>Gasolina</td>\n      <td>8300</td>\n      <td>Garantía: Como es visto no hay garantía Financ...</td>\n    </tr>\n    <tr>\n      <th>21</th>\n      <td>Hyundai Elantra</td>\n      <td>2016</td>\n      <td>84</td>\n      <td>Gasolina</td>\n      <td>9500</td>\n      <td>Garantía: Como es visto no hay garantía Color ...</td>\n    </tr>\n    <tr>\n      <th>22</th>\n      <td>Hyundai Elantra</td>\n      <td>2018</td>\n      <td>47</td>\n      <td>Gasolina</td>\n      <td>11700</td>\n      <td>Color : Blanco Se vende un 2018 Hyundai Elantr...</td>\n    </tr>\n    <tr>\n      <th>23</th>\n      <td>Nissan Sentra</td>\n      <td>2024</td>\n      <td>131</td>\n      <td>Gasolina</td>\n      <td>6400</td>\n      <td>Precio negociable: si Color : Blanco A toda Pr...</td>\n    </tr>\n    <tr>\n      <th>24</th>\n      <td>Kia SOUL</td>\n      <td>2016</td>\n      <td>104</td>\n      <td>Gasolina</td>\n      <td>850</td>\n      <td>Precio negociable: si Color : Negro DESCRIPCIÓ...</td>\n    </tr>\n    <tr>\n      <th>25</th>\n      <td>Honda Civic</td>\n      <td>2010</td>\n      <td>245710</td>\n      <td>Gasolina</td>\n      <td>6200</td>\n      <td>DESCRIPCIÓN CALIFICACIONES SEGURIDAD Vendo Hon...</td>\n    </tr>\n    <tr>\n      <th>26</th>\n      <td>Chevrolet Sonic</td>\n      <td>2012</td>\n      <td>11000</td>\n      <td>Gasolina</td>\n      <td>4500</td>\n      <td>Precio negociable: si Color : Rojo DESCRIPCIÓN...</td>\n    </tr>\n    <tr>\n      <th>27</th>\n      <td>Nissan Murano</td>\n      <td>2014</td>\n      <td>97000</td>\n      <td>Gasolina</td>\n      <td>9500</td>\n      <td>Precio negociable: si Color : OCRE</td>\n    </tr>\n    <tr>\n      <th>28</th>\n      <td>Hyundai Accent</td>\n      <td>2020</td>\n      <td>35000</td>\n      <td>Gasolina</td>\n      <td>10300</td>\n      <td>Precio negociable: si Color : Gris MOTOR 1.6 T...</td>\n    </tr>\n    <tr>\n      <th>29</th>\n      <td>Chevrolet Cruze</td>\n      <td>2018</td>\n      <td>96210</td>\n      <td>Gasolina</td>\n      <td>6900</td>\n      <td>Garantía: Como es visto no hay garantía Financ...</td>\n    </tr>\n    <tr>\n      <th>30</th>\n      <td>Nissan Sentra</td>\n      <td>2020</td>\n      <td>32000</td>\n      <td>Gasolina</td>\n      <td>13200</td>\n      <td>Financiamiento: si Precio negociable: si Vendo...</td>\n    </tr>\n    <tr>\n      <th>31</th>\n      <td>Toyota Matrix</td>\n      <td>2009</td>\n      <td>194</td>\n      <td>Gasolina</td>\n      <td>6700</td>\n      <td>Color : Rojo Todo en regla.aire . pantalla cam...</td>\n    </tr>\n    <tr>\n      <th>32</th>\n      <td>Hyundai Elantra</td>\n      <td>2001</td>\n      <td>0</td>\n      <td>Gasolina</td>\n      <td>3500</td>\n      <td>Precio negociable: si Color : Verde DESCRIPCIÓ...</td>\n    </tr>\n    <tr>\n      <th>33</th>\n      <td>Toyota Tercel</td>\n      <td>1996</td>\n      <td>46000</td>\n      <td>Gasolina</td>\n      <td>3700</td>\n      <td>Financiamiento: no Precio negociable: si Color...</td>\n    </tr>\n    <tr>\n      <th>34</th>\n      <td>Honda Civic</td>\n      <td>2010</td>\n      <td>245231</td>\n      <td>Gasolina</td>\n      <td>6200</td>\n      <td>Precio negociable: si Color : Gris DESCRIPCIÓN...</td>\n    </tr>\n    <tr>\n      <th>35</th>\n      <td>Nissan Sentra</td>\n      <td>2016</td>\n      <td>57500</td>\n      <td>Gasolina</td>\n      <td>8700</td>\n      <td>Precio negociable: si Color : Rojo DESCRIPCIÓN...</td>\n    </tr>\n    <tr>\n      <th>36</th>\n      <td>Kia Forte</td>\n      <td>2017</td>\n      <td>75000</td>\n      <td>Gasolina</td>\n      <td>9200</td>\n      <td>Color : Café DESCRIPCIÓN CALIFICACIONES SEGURI...</td>\n    </tr>\n    <tr>\n      <th>37</th>\n      <td>Kia RIO</td>\n      <td>2017</td>\n      <td>106000</td>\n      <td>Gasolina</td>\n      <td>7600</td>\n      <td>Color : Negro DESCRIPCIÓN CALIFICACIONES SEGUR...</td>\n    </tr>\n    <tr>\n      <th>38</th>\n      <td>Chevrolet Cruze Limited</td>\n      <td>2018</td>\n      <td>25000</td>\n      <td>Gasolina</td>\n      <td>8475</td>\n      <td>Color : Negro Año 2018 Chevrolet Cruze LT (Paq...</td>\n    </tr>\n    <tr>\n      <th>39</th>\n      <td>Toyota Echo</td>\n      <td>2003</td>\n      <td>210000</td>\n      <td>Gasolina</td>\n      <td>4500</td>\n      <td>Precio negociable: si Color : Color Gris DESCR...</td>\n    </tr>\n    <tr>\n      <th>40</th>\n      <td>Mazda 6</td>\n      <td>2014</td>\n      <td>80538</td>\n      <td>Gasolina</td>\n      <td>7500</td>\n      <td>Precio negociable: si Color : Negro DESCRIPCIÓ...</td>\n    </tr>\n    <tr>\n      <th>41</th>\n      <td>Chevrolet Sonic</td>\n      <td>2013</td>\n      <td>0</td>\n      <td>Gasolina</td>\n      <td>5100</td>\n      <td>Color : Gris oscuro DESCRIPCIÓN ARTÍCULOS CALI...</td>\n    </tr>\n    <tr>\n      <th>42</th>\n      <td>Nissan Sentra</td>\n      <td>2017</td>\n      <td>122</td>\n      <td>Gasolina</td>\n      <td>6100</td>\n      <td>Color : Azul DESCRIPCIÓN CALIFICACIONES SEGURI...</td>\n    </tr>\n    <tr>\n      <th>43</th>\n      <td>Mazda 6</td>\n      <td>2006</td>\n      <td>60000</td>\n      <td>Gasolina</td>\n      <td>2990</td>\n      <td>Garantía: Como es visto no hay garantía Financ...</td>\n    </tr>\n    <tr>\n      <th>44</th>\n      <td>Honda Civic</td>\n      <td>2018</td>\n      <td>85000</td>\n      <td>Gasolina</td>\n      <td>12500</td>\n      <td>Color : Azul Tel y whatsapp - Honda Civic Full...</td>\n    </tr>\n    <tr>\n      <th>45</th>\n      <td>Honda Civic</td>\n      <td>2016</td>\n      <td>109500</td>\n      <td>Gasolina</td>\n      <td>13000</td>\n      <td>Color : Gris DESCRIPCIÓN CALIFICACIONES SEGURI...</td>\n    </tr>\n    <tr>\n      <th>46</th>\n      <td>Honda Civic</td>\n      <td>2015</td>\n      <td>61065</td>\n      <td>Gasolina</td>\n      <td>14500</td>\n      <td>Precio negociable: si Color : Gris DESCRIPCIÓN...</td>\n    </tr>\n    <tr>\n      <th>47</th>\n      <td>Nissan Sentra</td>\n      <td>2015</td>\n      <td>72000</td>\n      <td>Gasolina</td>\n      <td>6850</td>\n      <td>Color : NEGRO DESCRIPCIÓN CALIFICACIONES SEGUR...</td>\n    </tr>\n    <tr>\n      <th>48</th>\n      <td>Ford Fiesta</td>\n      <td>2017</td>\n      <td>125367</td>\n      <td>Gasolina</td>\n      <td>6000</td>\n      <td>Precio negociable: si Color : Negro DESCRIPCIÓ...</td>\n    </tr>\n    <tr>\n      <th>49</th>\n      <td>Nissan Versa</td>\n      <td>2019</td>\n      <td>40205</td>\n      <td>Gasolina</td>\n      <td>7800</td>\n      <td>Disponible con traspaso directo, crédito fisca...</td>\n    </tr>\n  </tbody>\n</table>\n</div>"
     },
     "execution_count": 21,
     "metadata": {},
     "output_type": "execute_result"
    }
   ],
   "source": [
    "df_temp"
   ],
   "metadata": {
    "collapsed": false,
    "ExecuteTime": {
     "end_time": "2023-10-21T01:30:28.446986800Z",
     "start_time": "2023-10-21T01:30:28.390959700Z"
    }
   }
  }
 ],
 "metadata": {
  "kernelspec": {
   "display_name": "Python 3",
   "language": "python",
   "name": "python3"
  },
  "language_info": {
   "codemirror_mode": {
    "name": "ipython",
    "version": 2
   },
   "file_extension": ".py",
   "mimetype": "text/x-python",
   "name": "python",
   "nbconvert_exporter": "python",
   "pygments_lexer": "ipython2",
   "version": "2.7.6"
  }
 },
 "nbformat": 4,
 "nbformat_minor": 0
}
