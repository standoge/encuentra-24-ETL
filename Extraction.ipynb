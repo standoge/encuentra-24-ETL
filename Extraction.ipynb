{
 "cells": [
  {
   "cell_type": "markdown",
   "source": [
    "## Dependencies"
   ],
   "metadata": {
    "collapsed": false
   }
  },
  {
   "cell_type": "markdown",
   "source": [
    "---"
   ],
   "metadata": {
    "collapsed": false
   }
  },
  {
   "cell_type": "code",
   "execution_count": 1,
   "outputs": [],
   "source": [
    "import yaml\n",
    "import re\n",
    "from datetime import datetime\n",
    "import pandas as pd"
   ],
   "metadata": {
    "collapsed": false,
    "ExecuteTime": {
     "end_time": "2023-07-08T04:33:48.137915400Z",
     "start_time": "2023-07-08T04:33:47.362461300Z"
    }
   }
  },
  {
   "cell_type": "code",
   "execution_count": 2,
   "outputs": [],
   "source": [
    "from selenium import webdriver\n",
    "from selenium.webdriver.common.by import By\n",
    "from selenium.webdriver.edge.service import Service\n",
    "from webdriver_manager.microsoft import EdgeChromiumDriverManager\n",
    "from selenium.webdriver.support.ui import WebDriverWait\n",
    "from selenium.webdriver.support import expected_conditions as EC\n",
    "from selenium.common.exceptions import NoSuchElementException\n",
    "from selenium.common.exceptions import TimeoutException\n"
   ],
   "metadata": {
    "collapsed": false,
    "ExecuteTime": {
     "end_time": "2023-07-08T04:33:48.342173200Z",
     "start_time": "2023-07-08T04:33:48.138916100Z"
    }
   }
  },
  {
   "cell_type": "code",
   "execution_count": 4,
   "outputs": [
    {
     "name": "stderr",
     "output_type": "stream",
     "text": [
      "[WDM] - Downloading: 100%|██████████| 7.70M/7.70M [00:01<00:00, 5.09MB/s]\n"
     ]
    }
   ],
   "source": [
    "# edge:object = webdriver.Edge(executable_path=\"./utils/msedgedriver.exe\")\n",
    "edge = webdriver.Edge(service=Service(EdgeChromiumDriverManager().install()))\n",
    "edge.maximize_window()"
   ],
   "metadata": {
    "collapsed": false,
    "ExecuteTime": {
     "end_time": "2023-07-08T04:33:52.488867100Z",
     "start_time": "2023-07-08T04:33:48.360172Z"
    }
   }
  },
  {
   "cell_type": "markdown",
   "source": [
    "### Functions:"
   ],
   "metadata": {
    "collapsed": false
   }
  },
  {
   "cell_type": "code",
   "execution_count": 5,
   "outputs": [],
   "source": [
    "def resources(name:str) -> dict[str:str]:\n",
    "    \"\"\"Read xpath.yml file that contains xpath's to scrape\"\"\"\n",
    "\n",
    "    with open(\"xpath.yml\", \"r\") as f:\n",
    "        content:dict[str:str] = yaml.safe_load(f)\n",
    "        return content[name]"
   ],
   "metadata": {
    "collapsed": false,
    "ExecuteTime": {
     "end_time": "2023-07-08T04:33:52.503866Z",
     "start_time": "2023-07-08T04:33:52.490864900Z"
    }
   }
  },
  {
   "cell_type": "code",
   "execution_count": 6,
   "outputs": [],
   "source": [
    "def close_prompt(driver:object) -> None:\n",
    "    \"\"\"Close ad window\"\"\"\n",
    "\n",
    "    button:str = \"//a[@class='btn btn-subscription-light']\"\n",
    "    driver.find_element(by=By.XPATH, value=button).click()"
   ],
   "metadata": {
    "collapsed": false,
    "ExecuteTime": {
     "end_time": "2023-07-08T04:33:52.537867100Z",
     "start_time": "2023-07-08T04:33:52.504868700Z"
    }
   }
  },
  {
   "cell_type": "code",
   "execution_count": 7,
   "outputs": [],
   "source": [
    "def choose_category(category:str, driver:object) -> None:\n",
    "    \"\"\"Choose ad category\"\"\"\n",
    "\n",
    "    driver.find_element(by=By.XPATH, value=category).click()"
   ],
   "metadata": {
    "collapsed": false,
    "ExecuteTime": {
     "end_time": "2023-07-08T04:33:52.538866100Z",
     "start_time": "2023-07-08T04:33:52.522866400Z"
    }
   }
  },
  {
   "cell_type": "code",
   "execution_count": 8,
   "outputs": [],
   "source": [
    "def click_element(element:object, path:str) -> None:\n",
    "    \"\"\"Click element on the current document\"\"\"\n",
    "\n",
    "    button = element.find_element(by=By.XPATH, value=path)\n",
    "    button.click()"
   ],
   "metadata": {
    "collapsed": false,
    "ExecuteTime": {
     "end_time": "2023-07-08T04:33:52.560864700Z",
     "start_time": "2023-07-08T04:33:52.537867100Z"
    }
   }
  },
  {
   "cell_type": "code",
   "execution_count": 9,
   "outputs": [],
   "source": [
    "def extract_description(element:object, path:str) -> str:\n",
    "    \"\"\"Extract ad description on the current document\"\"\"\n",
    "\n",
    "    description:str = element.find_element(by=By.XPATH, value=path)\n",
    "    return description"
   ],
   "metadata": {
    "collapsed": false,
    "ExecuteTime": {
     "end_time": "2023-07-08T04:33:52.595867300Z",
     "start_time": "2023-07-08T04:33:52.552865900Z"
    }
   }
  },
  {
   "cell_type": "code",
   "execution_count": 10,
   "outputs": [],
   "source": [
    "def extract_feature(element:object, path:str) -> list[str]:\n",
    "    \"\"\"Extract some feature from list document based on xpath used.\"\"\"\n",
    "\n",
    "    feature = []\n",
    "\n",
    "    try:\n",
    "        feature:str = element.find_elements(by=By.XPATH, value=path)\n",
    "        feature = [data_point.text for data_point in feature]\n",
    "        return feature\n",
    "    except Exception:\n",
    "        feature.append(\"Web wasn't able to scrape the feature\")"
   ],
   "metadata": {
    "collapsed": false,
    "ExecuteTime": {
     "end_time": "2023-07-08T04:33:52.596866500Z",
     "start_time": "2023-07-08T04:33:52.570867100Z"
    }
   }
  },
  {
   "cell_type": "code",
   "execution_count": 11,
   "outputs": [],
   "source": [
    "def persistence(dataframe:pd.DataFrame) -> None:\n",
    "    \"\"\"Generate .csv file from data scraped\"\"\"\n",
    "\n",
    "    file_name = datetime.today().strftime(\"%B-%d\")\n",
    "    dataframe.to_csv(f\"persistence/{file_name}.csv\", index=False)"
   ],
   "metadata": {
    "collapsed": false,
    "ExecuteTime": {
     "end_time": "2023-07-08T04:33:52.601864500Z",
     "start_time": "2023-07-08T04:33:52.584867700Z"
    }
   }
  },
  {
   "cell_type": "code",
   "execution_count": 12,
   "outputs": [],
   "source": [
    "def get_len(features:list[list[str]]) -> bool:\n",
    "    \"\"\"\n",
    "    Check if all features has the same length to create new df\n",
    "    :param features: list of features extracted with scraping\n",
    "    :return: a list with all lengths where first place is the len of the first element and the mostly accepted.\n",
    "    \"\"\"\n",
    "\n",
    "    base_len = len(features[0])\n",
    "    lengths = []\n",
    "    lengths.append(base_len)\n",
    "    for feature in features:\n",
    "        if len(feature) == base_len:\n",
    "            continue\n",
    "        else:\n",
    "             lengths.append(len(feature))\n",
    "    return lengths"
   ],
   "metadata": {
    "collapsed": false,
    "ExecuteTime": {
     "end_time": "2023-07-08T04:33:52.624865800Z",
     "start_time": "2023-07-08T04:33:52.598866100Z"
    }
   }
  },
  {
   "cell_type": "code",
   "execution_count": 13,
   "outputs": [],
   "source": [
    "def check_len(lengths:list[int]) -> bool:\n",
    "    \"\"\"\n",
    "    Check if all elements in list has the same value.\n",
    "    :param lengths: list of lengths\n",
    "    :return: a boolean\n",
    "    \"\"\"\n",
    "    for length in lengths[1:]:\n",
    "        if length != lengths[0]:\n",
    "            return False\n",
    "        return True"
   ],
   "metadata": {
    "collapsed": false,
    "ExecuteTime": {
     "end_time": "2023-07-08T04:33:52.633865400Z",
     "start_time": "2023-07-08T04:33:52.613866400Z"
    }
   }
  },
  {
   "cell_type": "markdown",
   "source": [
    "Variables pool."
   ],
   "metadata": {
    "collapsed": false
   }
  },
  {
   "cell_type": "code",
   "execution_count": 14,
   "outputs": [],
   "source": [
    "descriptions:list[str] = []\n",
    "prices:list[int] = []\n",
    "models:list[str] = []\n",
    "years:list[int] = []\n",
    "kilometers:list[int] = []\n",
    "engines:list[str] = []\n",
    "\n",
    "# seconds\n",
    "DELAY:int = 1\n",
    "SEDAN = resources(\"cars_sedan\")"
   ],
   "metadata": {
    "collapsed": false,
    "ExecuteTime": {
     "end_time": "2023-07-08T04:33:52.652864800Z",
     "start_time": "2023-07-08T04:33:52.629867Z"
    }
   }
  },
  {
   "cell_type": "markdown",
   "source": [
    "Get web & close initial prompt."
   ],
   "metadata": {
    "collapsed": false
   }
  },
  {
   "cell_type": "code",
   "execution_count": 16,
   "outputs": [],
   "source": [
    "edge.get(SEDAN[\"url\"])"
   ],
   "metadata": {
    "collapsed": false,
    "ExecuteTime": {
     "end_time": "2023-07-08T04:33:57.522368700Z",
     "start_time": "2023-07-08T04:33:52.658866Z"
    }
   }
  },
  {
   "cell_type": "code",
   "execution_count": 17,
   "outputs": [],
   "source": [
    "# close_prompt(edge)"
   ],
   "metadata": {
    "collapsed": false
   }
  },
  {
   "cell_type": "code",
   "execution_count": 18,
   "outputs": [],
   "source": [
    "elements = edge.find_elements(by=By.XPATH, value=SEDAN[\"ad\"])"
   ],
   "metadata": {
    "collapsed": false,
    "ExecuteTime": {
     "end_time": "2023-07-08T04:33:57.585368700Z",
     "start_time": "2023-07-08T04:33:57.541369900Z"
    }
   }
  },
  {
   "cell_type": "markdown",
   "source": [
    "Extract descriptions."
   ],
   "metadata": {
    "collapsed": false
   }
  },
  {
   "cell_type": "code",
   "execution_count": 19,
   "outputs": [],
   "source": [
    "elements[0].click()\n",
    "try:\n",
    "    for element in range(len(elements)):\n",
    "        dynamic_delay = WebDriverWait(edge, DELAY).until(EC.presence_of_element_located((By.XPATH, SEDAN[\"description\"])))\n",
    "        temp = extract_description(edge, SEDAN[\"description\"])\n",
    "        descriptions.append(temp.text)\n",
    "        click_element(edge, SEDAN[\"next\"])\n",
    "except TimeoutException as TE:\n",
    "    descriptions.append(\"Web wasn't able to scrape descriptions\")\n",
    "except NoSuchElementException as NSE:\n",
    "    click_element(edge, SEDAN[\"exit\"])"
   ],
   "metadata": {
    "collapsed": false,
    "ExecuteTime": {
     "end_time": "2023-07-08T04:36:39.440108400Z",
     "start_time": "2023-07-08T04:33:57.588368800Z"
    }
   }
  },
  {
   "cell_type": "markdown",
   "source": [
    "Extract prices & models."
   ],
   "metadata": {
    "collapsed": false
   }
  },
  {
   "cell_type": "code",
   "execution_count": 20,
   "outputs": [],
   "source": [
    "prices = extract_feature(edge, SEDAN[\"price\"])\n",
    "models = extract_feature(edge, SEDAN[\"model\"])"
   ],
   "metadata": {
    "collapsed": false,
    "ExecuteTime": {
     "end_time": "2023-07-08T04:36:40.092108100Z",
     "start_time": "2023-07-08T04:36:39.442108600Z"
    }
   }
  },
  {
   "cell_type": "markdown",
   "source": [
    "Extract car year, engine & kilometers."
   ],
   "metadata": {
    "collapsed": false
   }
  },
  {
   "cell_type": "code",
   "execution_count": 21,
   "outputs": [],
   "source": [
    "years = extract_feature(edge, SEDAN[\"year\"])\n",
    "engines = extract_feature(edge, SEDAN[\"engine\"])\n",
    "kilometers = extract_feature(edge, SEDAN[\"kilometers\"])"
   ],
   "metadata": {
    "collapsed": false,
    "ExecuteTime": {
     "end_time": "2023-07-08T04:36:40.810134600Z",
     "start_time": "2023-07-08T04:36:40.094109300Z"
    }
   }
  },
  {
   "cell_type": "code",
   "execution_count": 22,
   "outputs": [
    {
     "data": {
      "text/plain": "[36, 33, 35]"
     },
     "execution_count": 22,
     "metadata": {},
     "output_type": "execute_result"
    }
   ],
   "source": [
    "lengths = [prices, models, years, engines, kilometers, descriptions]\n",
    "get_len(lengths)"
   ],
   "metadata": {
    "collapsed": false,
    "ExecuteTime": {
     "end_time": "2023-07-08T04:36:40.827135100Z",
     "start_time": "2023-07-08T04:36:40.811132300Z"
    }
   }
  },
  {
   "cell_type": "markdown",
   "source": [
    "## Export"
   ],
   "metadata": {
    "collapsed": false
   }
  },
  {
   "cell_type": "markdown",
   "source": [
    "---"
   ],
   "metadata": {
    "collapsed": false
   }
  },
  {
   "cell_type": "markdown",
   "source": [
    "### Functions:"
   ],
   "metadata": {
    "collapsed": false
   }
  },
  {
   "cell_type": "code",
   "execution_count": 23,
   "outputs": [],
   "source": [
    "def parse_price(dataframe: pd.DataFrame, feature:str, pattern:str) -> None:\n",
    "    \"\"\"\n",
    "    Parse financial features like prices. Works with $#,### (not dot)\n",
    "    :param dataframe: object towards apply transformation\n",
    "    :param feature: feature name towards apply transformation\n",
    "    :param pattern: feature pattern to transform\n",
    "    \"\"\"\n",
    "    dataframe[feature] = dataframe [feature] \\\n",
    "        .str.extract(pattern) \\\n",
    "        .applymap(lambda price: int(price.replace(\",\",\"\")))\n"
   ],
   "metadata": {
    "collapsed": false,
    "ExecuteTime": {
     "end_time": "2023-07-08T04:36:40.886132700Z",
     "start_time": "2023-07-08T04:36:40.828133200Z"
    }
   }
  },
  {
   "cell_type": "code",
   "execution_count": 24,
   "outputs": [],
   "source": [
    "def remove_chars(dataframe: pd.DataFrame, feature:str, wildcards:str) -> pd.Series:\n",
    "    \"\"\"\n",
    "    Remove escaped characters from features like indented large extracts of text\n",
    "    :param dataframe: object towards apply transformation\n",
    "    :param feature: feature name towards apply transformation\n",
    "    :param wildcards: escaped characters to remove\n",
    "    :return: Serie without escaped characters\n",
    "    \"\"\"\n",
    "    return (dataframe\n",
    "    .apply(\n",
    "        lambda row: row[feature]\n",
    "        ,axis = 1\n",
    "    )\n",
    "    .apply(\n",
    "        lambda extracted_f: re.sub(wildcards, r' ', extracted_f)\n",
    "    )\n",
    "    )\n"
   ],
   "metadata": {
    "collapsed": false,
    "ExecuteTime": {
     "end_time": "2023-07-08T04:36:40.892134400Z",
     "start_time": "2023-07-08T04:36:40.844134800Z"
    }
   }
  },
  {
   "cell_type": "code",
   "execution_count": 25,
   "outputs": [],
   "source": [
    "PRICE_RG: str = r\"^\\$(?P<prices>\\d+,?\\d+)?\"\n",
    "KM_REG: str = r\"(?P<km>^\\d+)\"\n",
    "CHARACTER_RG:str = '(\\n|\\r)+'"
   ],
   "metadata": {
    "collapsed": false,
    "ExecuteTime": {
     "end_time": "2023-07-08T04:36:40.892134400Z",
     "start_time": "2023-07-08T04:36:40.858134100Z"
    }
   }
  },
  {
   "cell_type": "markdown",
   "source": [
    "Remove noise from `model` and `years` lists"
   ],
   "metadata": {
    "collapsed": false
   }
  },
  {
   "cell_type": "code",
   "execution_count": 26,
   "outputs": [
    {
     "ename": "ValueError",
     "evalue": "list.remove(x): x not in list",
     "output_type": "error",
     "traceback": [
      "\u001B[1;31m---------------------------------------------------------------------------\u001B[0m",
      "\u001B[1;31mValueError\u001B[0m                                Traceback (most recent call last)",
      "Cell \u001B[1;32mIn[26], line 1\u001B[0m\n\u001B[1;32m----> 1\u001B[0m \u001B[43myears\u001B[49m\u001B[38;5;241;43m.\u001B[39;49m\u001B[43mremove\u001B[49m\u001B[43m(\u001B[49m\u001B[38;5;124;43m\"\u001B[39;49m\u001B[38;5;124;43mVer más\u001B[39;49m\u001B[38;5;124;43m\"\u001B[39;49m\u001B[43m)\u001B[49m\n",
      "\u001B[1;31mValueError\u001B[0m: list.remove(x): x not in list"
     ]
    }
   ],
   "source": [
    "years.remove(\"Ver más\")"
   ],
   "metadata": {
    "collapsed": false,
    "ExecuteTime": {
     "end_time": "2023-07-08T04:36:41.725134400Z",
     "start_time": "2023-07-08T04:36:40.875133600Z"
    }
   }
  },
  {
   "cell_type": "code",
   "execution_count": 27,
   "outputs": [
    {
     "ename": "ValueError",
     "evalue": "list.remove(x): x not in list",
     "output_type": "error",
     "traceback": [
      "\u001B[1;31m---------------------------------------------------------------------------\u001B[0m",
      "\u001B[1;31mValueError\u001B[0m                                Traceback (most recent call last)",
      "Cell \u001B[1;32mIn[27], line 1\u001B[0m\n\u001B[1;32m----> 1\u001B[0m \u001B[43mmodels\u001B[49m\u001B[38;5;241;43m.\u001B[39;49m\u001B[43mremove\u001B[49m\u001B[43m(\u001B[49m\u001B[38;5;124;43m\"\u001B[39;49m\u001B[38;5;124;43mBlue Book Encuentra24\u001B[39;49m\u001B[38;5;124;43m\"\u001B[39;49m\u001B[43m)\u001B[49m\n",
      "\u001B[1;31mValueError\u001B[0m: list.remove(x): x not in list"
     ]
    }
   ],
   "source": [
    "models.remove(\"Blue Book Encuentra24\")"
   ],
   "metadata": {
    "collapsed": false,
    "ExecuteTime": {
     "end_time": "2023-07-08T04:37:50.519247800Z",
     "start_time": "2023-07-08T04:37:50.448247300Z"
    }
   }
  },
  {
   "cell_type": "code",
   "execution_count": 71,
   "outputs": [
    {
     "data": {
      "text/plain": "[35, 35, 35, 35, 35, 35]"
     },
     "execution_count": 71,
     "metadata": {},
     "output_type": "execute_result"
    }
   ],
   "source": [
    "lengths = [len(engines), len(models), len(years), len(kilometers), len(prices),len(descriptions)]\n",
    "lengths"
   ],
   "metadata": {
    "collapsed": false,
    "ExecuteTime": {
     "end_time": "2023-07-08T04:56:17.778285600Z",
     "start_time": "2023-07-08T04:56:17.761422Z"
    }
   }
  },
  {
   "cell_type": "markdown",
   "source": [
    "Create dataframe to transform data extracted"
   ],
   "metadata": {
    "collapsed": false
   }
  },
  {
   "cell_type": "code",
   "execution_count": 72,
   "outputs": [],
   "source": [
    "if check_len(lengths):\n",
    "\n",
    "    df_temp = pd.DataFrame({\n",
    "        \"model\": models,\n",
    "        \"year\": years,\n",
    "        \"kilometers\": kilometers,\n",
    "        \"engine\": engines,\n",
    "        \"price\": prices,\n",
    "        \"description\": descriptions\n",
    "    })\n",
    "\n",
    "    # Parse features. String to number and raw string with characters to structured string.\n",
    "    parse_price(df_temp, \"price\", PRICE_RG)\n",
    "    df_temp[\"kilometers\"] = df_temp[\"kilometers\"].str.extract(KM_REG).applymap(int)\n",
    "    df_temp[\"year\"] = df_temp[\"year\"].map(int)\n",
    "    df_temp[\"description\"] = remove_chars(df_temp, \"description\", CHARACTER_RG)\n",
    "\n",
    "    persistence(df_temp)\n"
   ],
   "metadata": {
    "collapsed": false,
    "ExecuteTime": {
     "end_time": "2023-07-08T04:56:27.398384100Z",
     "start_time": "2023-07-08T04:56:27.385385800Z"
    }
   }
  },
  {
   "cell_type": "code",
   "execution_count": 73,
   "outputs": [
    {
     "data": {
      "text/plain": "                   model  year  kilometers    engine  price  \\\n0      Mitsubishi Lancer  2017       68000  Gasolina   8400   \n1   Mitsubishi Mirage G4  2018       60000  Gasolina   8400   \n2         Hyundai Accent  2019       78000  Gasolina   9800   \n3        Hyundai Elantra  2015       98000  Gasolina   9100   \n4                Kia Rio  2019      107000  Gasolina   7699   \n5          Nissan Sentra  2019       49000  Gasolina   8500   \n6         Toyota Corolla  2007         128  Gasolina   5500   \n7              Kia Forte  2018       69038  Gasolina   8950   \n8               Scion xB  2006      220012  Gasolina   4000   \n9         Hyundai Accent  2007      155000  Gasolina   4600   \n10       Hyundai Elantra  2015      150355  Gasolina   7975   \n11        Hyundai Accent  2014      133600  Gasolina   7300   \n12            Kia Sephia  1999      189000  Gasolina   2500   \n13     Mitsubishi Lancer  2008      143000  Gasolina   5900   \n14       Hyundai Elantra  2016      180000  Gasolina   7800   \n15            Dodge DART  2013       89000  Gasolina   6200   \n16          Toyota Yaris  2008      188000  Gasolina   6500   \n17        Chevrolet Trax  2021           0  Gasolina      0   \n18           Hyundai EON  2018       44400  Gasolina   8700   \n19          Nissan Versa  2017       87948  Gasolina   6100   \n20  Mitsubishi Mirage G4  2019       72300  Gasolina   7900   \n21            Kia Cerato  2017       86000  Gasolina  12200   \n22        Toyota Corolla  2019           0  Gasolina  14600   \n23       Hyundai Elantra  2018       77000  Gasolina  10500   \n24        Toyota Corolla  2001           0  Gasolina      0   \n25       Chevrolet Sonic  2017          86  Gasolina   7200   \n26        Hyundai Accent  2013      100000  Gasolina   6400   \n27           Honda Civic  2017       88590  Gasolina  11500   \n28     Mitsubishi Lancer  2017       47250  Gasolina  13500   \n29         Nissan Sentra  2018      126880  Gasolina   8500   \n30           Honda Civic  2018       58266  Gasolina  12500   \n31  Mitsubishi Mirage G4  2020       69000  Gasolina   8500   \n32         Jeep Renegade  2019       48000  Gasolina  12600   \n33        Hyundai Accent  2014        7300  Gasolina   7300   \n34          Nissan Versa  2017       83330  Gasolina   8000   \n\n                                          description  \n0   Color : Azul Vendo Mitsubishi Lancer 2017 Full...  \n1   Color : Blanco Se vende Mitsubishi G4 2018. Au...  \n2   Precio negociable: si Color : Negro Hyundai Ac...  \n3   Financiamiento: no Precio negociable: si Color...  \n4   Precio negociable: si Kia Rio 2019 en camino a...  \n5   Precio negociable: si WhatsApp 7435- 5520 50 m...  \n6   DESCRIPCIÓN CALIFICACIONES SEGURIDAD Se vende ...  \n7   Color : negro Vendo kia forte 2018 motor 2.0 c...  \n8   Precio negociable: si Color : Ocre vendo scion...  \n9   Precio negociable: si Color : Gris rata DESCRI...  \n10  Color : ROJO DESCRIPCIÓN CALIFICACIONES SEGURI...  \n11  Precio negociable: si Color : Cafe DESCRIPCIÓN...  \n12  Precio negociable: si DESCRIPCIÓN CALIFICACION...  \n13  Vehiculo de agencia, un solo dueño, solo 143 m...  \n14  Color : Gris DESCRIPCIÓN CALIFICACIONES SEGURI...  \n15  Precio negociable: si Color : Rojo Puede verlo...  \n16  DESCRIPCIÓN CALIFICACIONES SEGURIDAD vendo toy...  \n17  Motor 1.4L TURBO Pantalla con cámara de retroc...  \n18  Garantía: Como es visto no hay garantía Financ...  \n19  DESCRIPCIÓN CALIFICACIONES SEGURIDAD vehiculo ...  \n20  Financiamiento: no Color : Gris Claro Vendo Mi...  \n21  Kia CERATO de Agencia, motor 1.6 super económi...  \n22  Precio negociable: si Color : Cafe Venta de to...  \n23  Precio negociable: si Color : AZUL 3 modos de ...  \n24  DESCRIPCIÓN CALIFICACIONES SEGURIDAD Estandar ...  \n25  Color : Gris DESCRIPCIÓN ARTÍCULOS CALIFICACIO...  \n26  Precio negociable: si Color : Gris oscuro DESC...  \n27  Color : Gris DESCRIPCIÓN ARTÍCULOS CALIFICACIO...  \n28  Garantía: Como es visto no hay garantía Financ...  \n29                                       Color : Gris  \n30                                      Color : Negro  \n31  Garantía: Garantía Incluida preguntar por los ...  \n32            Precio negociable: si Color : Naranjado  \n33  Precio negociable: si Color : Plateado DESCRIP...  \n34  Garantía: Extensa garantía disponible. Solicit...  ",
      "text/html": "<div>\n<style scoped>\n    .dataframe tbody tr th:only-of-type {\n        vertical-align: middle;\n    }\n\n    .dataframe tbody tr th {\n        vertical-align: top;\n    }\n\n    .dataframe thead th {\n        text-align: right;\n    }\n</style>\n<table border=\"1\" class=\"dataframe\">\n  <thead>\n    <tr style=\"text-align: right;\">\n      <th></th>\n      <th>model</th>\n      <th>year</th>\n      <th>kilometers</th>\n      <th>engine</th>\n      <th>price</th>\n      <th>description</th>\n    </tr>\n  </thead>\n  <tbody>\n    <tr>\n      <th>0</th>\n      <td>Mitsubishi Lancer</td>\n      <td>2017</td>\n      <td>68000</td>\n      <td>Gasolina</td>\n      <td>8400</td>\n      <td>Color : Azul Vendo Mitsubishi Lancer 2017 Full...</td>\n    </tr>\n    <tr>\n      <th>1</th>\n      <td>Mitsubishi Mirage G4</td>\n      <td>2018</td>\n      <td>60000</td>\n      <td>Gasolina</td>\n      <td>8400</td>\n      <td>Color : Blanco Se vende Mitsubishi G4 2018. Au...</td>\n    </tr>\n    <tr>\n      <th>2</th>\n      <td>Hyundai Accent</td>\n      <td>2019</td>\n      <td>78000</td>\n      <td>Gasolina</td>\n      <td>9800</td>\n      <td>Precio negociable: si Color : Negro Hyundai Ac...</td>\n    </tr>\n    <tr>\n      <th>3</th>\n      <td>Hyundai Elantra</td>\n      <td>2015</td>\n      <td>98000</td>\n      <td>Gasolina</td>\n      <td>9100</td>\n      <td>Financiamiento: no Precio negociable: si Color...</td>\n    </tr>\n    <tr>\n      <th>4</th>\n      <td>Kia Rio</td>\n      <td>2019</td>\n      <td>107000</td>\n      <td>Gasolina</td>\n      <td>7699</td>\n      <td>Precio negociable: si Kia Rio 2019 en camino a...</td>\n    </tr>\n    <tr>\n      <th>5</th>\n      <td>Nissan Sentra</td>\n      <td>2019</td>\n      <td>49000</td>\n      <td>Gasolina</td>\n      <td>8500</td>\n      <td>Precio negociable: si WhatsApp 7435- 5520 50 m...</td>\n    </tr>\n    <tr>\n      <th>6</th>\n      <td>Toyota Corolla</td>\n      <td>2007</td>\n      <td>128</td>\n      <td>Gasolina</td>\n      <td>5500</td>\n      <td>DESCRIPCIÓN CALIFICACIONES SEGURIDAD Se vende ...</td>\n    </tr>\n    <tr>\n      <th>7</th>\n      <td>Kia Forte</td>\n      <td>2018</td>\n      <td>69038</td>\n      <td>Gasolina</td>\n      <td>8950</td>\n      <td>Color : negro Vendo kia forte 2018 motor 2.0 c...</td>\n    </tr>\n    <tr>\n      <th>8</th>\n      <td>Scion xB</td>\n      <td>2006</td>\n      <td>220012</td>\n      <td>Gasolina</td>\n      <td>4000</td>\n      <td>Precio negociable: si Color : Ocre vendo scion...</td>\n    </tr>\n    <tr>\n      <th>9</th>\n      <td>Hyundai Accent</td>\n      <td>2007</td>\n      <td>155000</td>\n      <td>Gasolina</td>\n      <td>4600</td>\n      <td>Precio negociable: si Color : Gris rata DESCRI...</td>\n    </tr>\n    <tr>\n      <th>10</th>\n      <td>Hyundai Elantra</td>\n      <td>2015</td>\n      <td>150355</td>\n      <td>Gasolina</td>\n      <td>7975</td>\n      <td>Color : ROJO DESCRIPCIÓN CALIFICACIONES SEGURI...</td>\n    </tr>\n    <tr>\n      <th>11</th>\n      <td>Hyundai Accent</td>\n      <td>2014</td>\n      <td>133600</td>\n      <td>Gasolina</td>\n      <td>7300</td>\n      <td>Precio negociable: si Color : Cafe DESCRIPCIÓN...</td>\n    </tr>\n    <tr>\n      <th>12</th>\n      <td>Kia Sephia</td>\n      <td>1999</td>\n      <td>189000</td>\n      <td>Gasolina</td>\n      <td>2500</td>\n      <td>Precio negociable: si DESCRIPCIÓN CALIFICACION...</td>\n    </tr>\n    <tr>\n      <th>13</th>\n      <td>Mitsubishi Lancer</td>\n      <td>2008</td>\n      <td>143000</td>\n      <td>Gasolina</td>\n      <td>5900</td>\n      <td>Vehiculo de agencia, un solo dueño, solo 143 m...</td>\n    </tr>\n    <tr>\n      <th>14</th>\n      <td>Hyundai Elantra</td>\n      <td>2016</td>\n      <td>180000</td>\n      <td>Gasolina</td>\n      <td>7800</td>\n      <td>Color : Gris DESCRIPCIÓN CALIFICACIONES SEGURI...</td>\n    </tr>\n    <tr>\n      <th>15</th>\n      <td>Dodge DART</td>\n      <td>2013</td>\n      <td>89000</td>\n      <td>Gasolina</td>\n      <td>6200</td>\n      <td>Precio negociable: si Color : Rojo Puede verlo...</td>\n    </tr>\n    <tr>\n      <th>16</th>\n      <td>Toyota Yaris</td>\n      <td>2008</td>\n      <td>188000</td>\n      <td>Gasolina</td>\n      <td>6500</td>\n      <td>DESCRIPCIÓN CALIFICACIONES SEGURIDAD vendo toy...</td>\n    </tr>\n    <tr>\n      <th>17</th>\n      <td>Chevrolet Trax</td>\n      <td>2021</td>\n      <td>0</td>\n      <td>Gasolina</td>\n      <td>0</td>\n      <td>Motor 1.4L TURBO Pantalla con cámara de retroc...</td>\n    </tr>\n    <tr>\n      <th>18</th>\n      <td>Hyundai EON</td>\n      <td>2018</td>\n      <td>44400</td>\n      <td>Gasolina</td>\n      <td>8700</td>\n      <td>Garantía: Como es visto no hay garantía Financ...</td>\n    </tr>\n    <tr>\n      <th>19</th>\n      <td>Nissan Versa</td>\n      <td>2017</td>\n      <td>87948</td>\n      <td>Gasolina</td>\n      <td>6100</td>\n      <td>DESCRIPCIÓN CALIFICACIONES SEGURIDAD vehiculo ...</td>\n    </tr>\n    <tr>\n      <th>20</th>\n      <td>Mitsubishi Mirage G4</td>\n      <td>2019</td>\n      <td>72300</td>\n      <td>Gasolina</td>\n      <td>7900</td>\n      <td>Financiamiento: no Color : Gris Claro Vendo Mi...</td>\n    </tr>\n    <tr>\n      <th>21</th>\n      <td>Kia Cerato</td>\n      <td>2017</td>\n      <td>86000</td>\n      <td>Gasolina</td>\n      <td>12200</td>\n      <td>Kia CERATO de Agencia, motor 1.6 super económi...</td>\n    </tr>\n    <tr>\n      <th>22</th>\n      <td>Toyota Corolla</td>\n      <td>2019</td>\n      <td>0</td>\n      <td>Gasolina</td>\n      <td>14600</td>\n      <td>Precio negociable: si Color : Cafe Venta de to...</td>\n    </tr>\n    <tr>\n      <th>23</th>\n      <td>Hyundai Elantra</td>\n      <td>2018</td>\n      <td>77000</td>\n      <td>Gasolina</td>\n      <td>10500</td>\n      <td>Precio negociable: si Color : AZUL 3 modos de ...</td>\n    </tr>\n    <tr>\n      <th>24</th>\n      <td>Toyota Corolla</td>\n      <td>2001</td>\n      <td>0</td>\n      <td>Gasolina</td>\n      <td>0</td>\n      <td>DESCRIPCIÓN CALIFICACIONES SEGURIDAD Estandar ...</td>\n    </tr>\n    <tr>\n      <th>25</th>\n      <td>Chevrolet Sonic</td>\n      <td>2017</td>\n      <td>86</td>\n      <td>Gasolina</td>\n      <td>7200</td>\n      <td>Color : Gris DESCRIPCIÓN ARTÍCULOS CALIFICACIO...</td>\n    </tr>\n    <tr>\n      <th>26</th>\n      <td>Hyundai Accent</td>\n      <td>2013</td>\n      <td>100000</td>\n      <td>Gasolina</td>\n      <td>6400</td>\n      <td>Precio negociable: si Color : Gris oscuro DESC...</td>\n    </tr>\n    <tr>\n      <th>27</th>\n      <td>Honda Civic</td>\n      <td>2017</td>\n      <td>88590</td>\n      <td>Gasolina</td>\n      <td>11500</td>\n      <td>Color : Gris DESCRIPCIÓN ARTÍCULOS CALIFICACIO...</td>\n    </tr>\n    <tr>\n      <th>28</th>\n      <td>Mitsubishi Lancer</td>\n      <td>2017</td>\n      <td>47250</td>\n      <td>Gasolina</td>\n      <td>13500</td>\n      <td>Garantía: Como es visto no hay garantía Financ...</td>\n    </tr>\n    <tr>\n      <th>29</th>\n      <td>Nissan Sentra</td>\n      <td>2018</td>\n      <td>126880</td>\n      <td>Gasolina</td>\n      <td>8500</td>\n      <td>Color : Gris</td>\n    </tr>\n    <tr>\n      <th>30</th>\n      <td>Honda Civic</td>\n      <td>2018</td>\n      <td>58266</td>\n      <td>Gasolina</td>\n      <td>12500</td>\n      <td>Color : Negro</td>\n    </tr>\n    <tr>\n      <th>31</th>\n      <td>Mitsubishi Mirage G4</td>\n      <td>2020</td>\n      <td>69000</td>\n      <td>Gasolina</td>\n      <td>8500</td>\n      <td>Garantía: Garantía Incluida preguntar por los ...</td>\n    </tr>\n    <tr>\n      <th>32</th>\n      <td>Jeep Renegade</td>\n      <td>2019</td>\n      <td>48000</td>\n      <td>Gasolina</td>\n      <td>12600</td>\n      <td>Precio negociable: si Color : Naranjado</td>\n    </tr>\n    <tr>\n      <th>33</th>\n      <td>Hyundai Accent</td>\n      <td>2014</td>\n      <td>7300</td>\n      <td>Gasolina</td>\n      <td>7300</td>\n      <td>Precio negociable: si Color : Plateado DESCRIP...</td>\n    </tr>\n    <tr>\n      <th>34</th>\n      <td>Nissan Versa</td>\n      <td>2017</td>\n      <td>83330</td>\n      <td>Gasolina</td>\n      <td>8000</td>\n      <td>Garantía: Extensa garantía disponible. Solicit...</td>\n    </tr>\n  </tbody>\n</table>\n</div>"
     },
     "execution_count": 73,
     "metadata": {},
     "output_type": "execute_result"
    }
   ],
   "source": [
    "df_temp"
   ],
   "metadata": {
    "collapsed": false,
    "ExecuteTime": {
     "end_time": "2023-07-08T04:56:31.122249400Z",
     "start_time": "2023-07-08T04:56:31.089233400Z"
    }
   }
  },
  {
   "cell_type": "code",
   "execution_count": 77,
   "outputs": [
    {
     "data": {
      "text/plain": "                   model  year  kilometers    engine  price  \\\n0   Mitsubishi Mirage G4  2020       14445  Gasolina   7950   \n1      Mitsubishi Lancer  2017       68000  Gasolina   8400   \n2   Mitsubishi Mirage G4  2018       60000  Gasolina   8400   \n3        Hyundai Elantra  2018       77000  Gasolina  10500   \n4         Hyundai Accent  2019       78000  Gasolina   9800   \n5              Kia Forte  2018       69038  Gasolina   8950   \n6               Scion xB  2006      220012  Gasolina   4200   \n7          Nissan Sentra  2016       83000  Gasolina   8000   \n8         Hyundai Accent  2007      155000  Gasolina   4600   \n9        Hyundai Elantra  2015      150355  Gasolina   7975   \n10        Hyundai Accent  2014      133600  Gasolina   7300   \n11            Kia Sephia  1999      189000  Gasolina   2500   \n12     Mitsubishi Lancer  2008      143000  Gasolina   5900   \n13             Kia Forte  2018      113000  Gasolina   9100   \n14       Hyundai Elantra  2016      180000  Gasolina   7800   \n15            Dodge DART  2013       89000  Gasolina   6200   \n16          Toyota Yaris  2008      188000  Gasolina   6500   \n17        Chevrolet Trax  2021           0  Gasolina      0   \n18           Hyundai EON  2018       44400  Gasolina   8700   \n19        Hyundai Accent  2013           0  Gasolina   6300   \n20          Nissan Versa  2017       87948  Gasolina   6100   \n21  Mitsubishi Mirage G4  2019       72300  Gasolina   7900   \n22          Toyota Yaris  2008      125000  Gasolina   7500   \n23            Kia Cerato  2017       86000  Gasolina  12200   \n24        Toyota Corolla  2019           0  Gasolina  14600   \n25        Toyota Corolla  2001           0  Gasolina      0   \n26       Chevrolet Sonic  2017          86  Gasolina   7200   \n27        Hyundai Accent  2013      100000  Gasolina   6400   \n28           Honda Civic  2017       88590  Gasolina  11500   \n29     Mitsubishi Lancer  2017       47250  Gasolina  13500   \n30         Nissan Sentra  2018      126880  Gasolina   8500   \n31           Honda Civic  2018       58266  Gasolina  12500   \n32  Mitsubishi Mirage G4  2020       69000  Gasolina   8500   \n33         Jeep Renegade  2019       48000  Gasolina  12600   \n34               Kia RIO  2013      124000  Gasolina   7700   \n35          Nissan Versa  2014      171356  Gasolina   6700   \n36       Hyundai Elantra  2017       57000  Gasolina  13500   \n37        Hyundai Accent  2014        7600  Gasolina   7600   \n38          Nissan Versa  2017       83330  Gasolina   8000   \n39         Nissan Sentra  2013       74000  Gasolina   5500   \n\n                                          description  \n0   Color : Azul Vendo Mitsubishi Lancer 2017 Full...  \n1   Color : Blanco Se vende Mitsubishi G4 2018. Au...  \n2   Precio negociable: si Color : AZUL 3 modos de ...  \n3   Precio negociable: si Color : Negro Hyundai Ac...  \n4   Color : negro Vendo kia forte 2018 motor 2.0 c...  \n5   Precio negociable: si Color : Ocre vendo scion...  \n6   Financiamiento: no Precio negociable: si Color...  \n7   Precio negociable: si Color : Gris rata DESCRI...  \n8   Color : ROJO DESCRIPCIÓN CALIFICACIONES SEGURI...  \n9   Precio negociable: si Color : Cafe DESCRIPCIÓN...  \n10  Precio negociable: si DESCRIPCIÓN CALIFICACION...  \n11  Vehiculo de agencia, un solo dueño, solo 143 m...  \n12  Garantía: Como es visto no hay garantía Financ...  \n13  Color : Gris DESCRIPCIÓN CALIFICACIONES SEGURI...  \n14  Precio negociable: si Color : Rojo Puede verlo...  \n15  DESCRIPCIÓN CALIFICACIONES SEGURIDAD vendo toy...  \n16  Motor 1.4L TURBO Pantalla con cámara de retroc...  \n17  Garantía: Como es visto no hay garantía Financ...  \n18  Garantía: Como es visto no hay garantía Financ...  \n19  DESCRIPCIÓN CALIFICACIONES SEGURIDAD vehiculo ...  \n20  Financiamiento: no Color : Gris Claro Vendo Mi...  \n21  Financiamiento: no Precio negociable: si DESCR...  \n22  Kia CERATO de Agencia, motor 1.6 super económi...  \n23  Precio negociable: si Color : Cafe Venta de to...  \n24  DESCRIPCIÓN CALIFICACIONES SEGURIDAD Estandar ...  \n25  Color : Gris DESCRIPCIÓN ARTÍCULOS CALIFICACIO...  \n26  Precio negociable: si Color : Gris oscuro DESC...  \n27  Color : Gris DESCRIPCIÓN ARTÍCULOS CALIFICACIO...  \n28  Garantía: Como es visto no hay garantía Financ...  \n29                                       Color : Gris  \n30                                      Color : Negro  \n31  Garantía: Garantía Incluida preguntar por los ...  \n32            Precio negociable: si Color : Naranjado  \n33                                     No description  \n34  Precio negociable: si Color : Blanco DESCRIPCI...  \n35  Garantía: Como es visto no hay garantía Financ...  \n36  Financiamiento: no Precio negociable: si Color...  \n37  Precio negociable: si Color : Plateado DESCRIP...  \n38  Garantía: Extensa garantía disponible. Solicit...  \n39  Precio negociable: si Color : Gris DESCRIPCIÓN...  ",
      "text/html": "<div>\n<style scoped>\n    .dataframe tbody tr th:only-of-type {\n        vertical-align: middle;\n    }\n\n    .dataframe tbody tr th {\n        vertical-align: top;\n    }\n\n    .dataframe thead th {\n        text-align: right;\n    }\n</style>\n<table border=\"1\" class=\"dataframe\">\n  <thead>\n    <tr style=\"text-align: right;\">\n      <th></th>\n      <th>model</th>\n      <th>year</th>\n      <th>kilometers</th>\n      <th>engine</th>\n      <th>price</th>\n      <th>description</th>\n    </tr>\n  </thead>\n  <tbody>\n    <tr>\n      <th>0</th>\n      <td>Mitsubishi Mirage G4</td>\n      <td>2020</td>\n      <td>14445</td>\n      <td>Gasolina</td>\n      <td>7950</td>\n      <td>Color : Azul Vendo Mitsubishi Lancer 2017 Full...</td>\n    </tr>\n    <tr>\n      <th>1</th>\n      <td>Mitsubishi Lancer</td>\n      <td>2017</td>\n      <td>68000</td>\n      <td>Gasolina</td>\n      <td>8400</td>\n      <td>Color : Blanco Se vende Mitsubishi G4 2018. Au...</td>\n    </tr>\n    <tr>\n      <th>2</th>\n      <td>Mitsubishi Mirage G4</td>\n      <td>2018</td>\n      <td>60000</td>\n      <td>Gasolina</td>\n      <td>8400</td>\n      <td>Precio negociable: si Color : AZUL 3 modos de ...</td>\n    </tr>\n    <tr>\n      <th>3</th>\n      <td>Hyundai Elantra</td>\n      <td>2018</td>\n      <td>77000</td>\n      <td>Gasolina</td>\n      <td>10500</td>\n      <td>Precio negociable: si Color : Negro Hyundai Ac...</td>\n    </tr>\n    <tr>\n      <th>4</th>\n      <td>Hyundai Accent</td>\n      <td>2019</td>\n      <td>78000</td>\n      <td>Gasolina</td>\n      <td>9800</td>\n      <td>Color : negro Vendo kia forte 2018 motor 2.0 c...</td>\n    </tr>\n    <tr>\n      <th>5</th>\n      <td>Kia Forte</td>\n      <td>2018</td>\n      <td>69038</td>\n      <td>Gasolina</td>\n      <td>8950</td>\n      <td>Precio negociable: si Color : Ocre vendo scion...</td>\n    </tr>\n    <tr>\n      <th>6</th>\n      <td>Scion xB</td>\n      <td>2006</td>\n      <td>220012</td>\n      <td>Gasolina</td>\n      <td>4200</td>\n      <td>Financiamiento: no Precio negociable: si Color...</td>\n    </tr>\n    <tr>\n      <th>7</th>\n      <td>Nissan Sentra</td>\n      <td>2016</td>\n      <td>83000</td>\n      <td>Gasolina</td>\n      <td>8000</td>\n      <td>Precio negociable: si Color : Gris rata DESCRI...</td>\n    </tr>\n    <tr>\n      <th>8</th>\n      <td>Hyundai Accent</td>\n      <td>2007</td>\n      <td>155000</td>\n      <td>Gasolina</td>\n      <td>4600</td>\n      <td>Color : ROJO DESCRIPCIÓN CALIFICACIONES SEGURI...</td>\n    </tr>\n    <tr>\n      <th>9</th>\n      <td>Hyundai Elantra</td>\n      <td>2015</td>\n      <td>150355</td>\n      <td>Gasolina</td>\n      <td>7975</td>\n      <td>Precio negociable: si Color : Cafe DESCRIPCIÓN...</td>\n    </tr>\n    <tr>\n      <th>10</th>\n      <td>Hyundai Accent</td>\n      <td>2014</td>\n      <td>133600</td>\n      <td>Gasolina</td>\n      <td>7300</td>\n      <td>Precio negociable: si DESCRIPCIÓN CALIFICACION...</td>\n    </tr>\n    <tr>\n      <th>11</th>\n      <td>Kia Sephia</td>\n      <td>1999</td>\n      <td>189000</td>\n      <td>Gasolina</td>\n      <td>2500</td>\n      <td>Vehiculo de agencia, un solo dueño, solo 143 m...</td>\n    </tr>\n    <tr>\n      <th>12</th>\n      <td>Mitsubishi Lancer</td>\n      <td>2008</td>\n      <td>143000</td>\n      <td>Gasolina</td>\n      <td>5900</td>\n      <td>Garantía: Como es visto no hay garantía Financ...</td>\n    </tr>\n    <tr>\n      <th>13</th>\n      <td>Kia Forte</td>\n      <td>2018</td>\n      <td>113000</td>\n      <td>Gasolina</td>\n      <td>9100</td>\n      <td>Color : Gris DESCRIPCIÓN CALIFICACIONES SEGURI...</td>\n    </tr>\n    <tr>\n      <th>14</th>\n      <td>Hyundai Elantra</td>\n      <td>2016</td>\n      <td>180000</td>\n      <td>Gasolina</td>\n      <td>7800</td>\n      <td>Precio negociable: si Color : Rojo Puede verlo...</td>\n    </tr>\n    <tr>\n      <th>15</th>\n      <td>Dodge DART</td>\n      <td>2013</td>\n      <td>89000</td>\n      <td>Gasolina</td>\n      <td>6200</td>\n      <td>DESCRIPCIÓN CALIFICACIONES SEGURIDAD vendo toy...</td>\n    </tr>\n    <tr>\n      <th>16</th>\n      <td>Toyota Yaris</td>\n      <td>2008</td>\n      <td>188000</td>\n      <td>Gasolina</td>\n      <td>6500</td>\n      <td>Motor 1.4L TURBO Pantalla con cámara de retroc...</td>\n    </tr>\n    <tr>\n      <th>17</th>\n      <td>Chevrolet Trax</td>\n      <td>2021</td>\n      <td>0</td>\n      <td>Gasolina</td>\n      <td>0</td>\n      <td>Garantía: Como es visto no hay garantía Financ...</td>\n    </tr>\n    <tr>\n      <th>18</th>\n      <td>Hyundai EON</td>\n      <td>2018</td>\n      <td>44400</td>\n      <td>Gasolina</td>\n      <td>8700</td>\n      <td>Garantía: Como es visto no hay garantía Financ...</td>\n    </tr>\n    <tr>\n      <th>19</th>\n      <td>Hyundai Accent</td>\n      <td>2013</td>\n      <td>0</td>\n      <td>Gasolina</td>\n      <td>6300</td>\n      <td>DESCRIPCIÓN CALIFICACIONES SEGURIDAD vehiculo ...</td>\n    </tr>\n    <tr>\n      <th>20</th>\n      <td>Nissan Versa</td>\n      <td>2017</td>\n      <td>87948</td>\n      <td>Gasolina</td>\n      <td>6100</td>\n      <td>Financiamiento: no Color : Gris Claro Vendo Mi...</td>\n    </tr>\n    <tr>\n      <th>21</th>\n      <td>Mitsubishi Mirage G4</td>\n      <td>2019</td>\n      <td>72300</td>\n      <td>Gasolina</td>\n      <td>7900</td>\n      <td>Financiamiento: no Precio negociable: si DESCR...</td>\n    </tr>\n    <tr>\n      <th>22</th>\n      <td>Toyota Yaris</td>\n      <td>2008</td>\n      <td>125000</td>\n      <td>Gasolina</td>\n      <td>7500</td>\n      <td>Kia CERATO de Agencia, motor 1.6 super económi...</td>\n    </tr>\n    <tr>\n      <th>23</th>\n      <td>Kia Cerato</td>\n      <td>2017</td>\n      <td>86000</td>\n      <td>Gasolina</td>\n      <td>12200</td>\n      <td>Precio negociable: si Color : Cafe Venta de to...</td>\n    </tr>\n    <tr>\n      <th>24</th>\n      <td>Toyota Corolla</td>\n      <td>2019</td>\n      <td>0</td>\n      <td>Gasolina</td>\n      <td>14600</td>\n      <td>DESCRIPCIÓN CALIFICACIONES SEGURIDAD Estandar ...</td>\n    </tr>\n    <tr>\n      <th>25</th>\n      <td>Toyota Corolla</td>\n      <td>2001</td>\n      <td>0</td>\n      <td>Gasolina</td>\n      <td>0</td>\n      <td>Color : Gris DESCRIPCIÓN ARTÍCULOS CALIFICACIO...</td>\n    </tr>\n    <tr>\n      <th>26</th>\n      <td>Chevrolet Sonic</td>\n      <td>2017</td>\n      <td>86</td>\n      <td>Gasolina</td>\n      <td>7200</td>\n      <td>Precio negociable: si Color : Gris oscuro DESC...</td>\n    </tr>\n    <tr>\n      <th>27</th>\n      <td>Hyundai Accent</td>\n      <td>2013</td>\n      <td>100000</td>\n      <td>Gasolina</td>\n      <td>6400</td>\n      <td>Color : Gris DESCRIPCIÓN ARTÍCULOS CALIFICACIO...</td>\n    </tr>\n    <tr>\n      <th>28</th>\n      <td>Honda Civic</td>\n      <td>2017</td>\n      <td>88590</td>\n      <td>Gasolina</td>\n      <td>11500</td>\n      <td>Garantía: Como es visto no hay garantía Financ...</td>\n    </tr>\n    <tr>\n      <th>29</th>\n      <td>Mitsubishi Lancer</td>\n      <td>2017</td>\n      <td>47250</td>\n      <td>Gasolina</td>\n      <td>13500</td>\n      <td>Color : Gris</td>\n    </tr>\n    <tr>\n      <th>30</th>\n      <td>Nissan Sentra</td>\n      <td>2018</td>\n      <td>126880</td>\n      <td>Gasolina</td>\n      <td>8500</td>\n      <td>Color : Negro</td>\n    </tr>\n    <tr>\n      <th>31</th>\n      <td>Honda Civic</td>\n      <td>2018</td>\n      <td>58266</td>\n      <td>Gasolina</td>\n      <td>12500</td>\n      <td>Garantía: Garantía Incluida preguntar por los ...</td>\n    </tr>\n    <tr>\n      <th>32</th>\n      <td>Mitsubishi Mirage G4</td>\n      <td>2020</td>\n      <td>69000</td>\n      <td>Gasolina</td>\n      <td>8500</td>\n      <td>Precio negociable: si Color : Naranjado</td>\n    </tr>\n    <tr>\n      <th>33</th>\n      <td>Jeep Renegade</td>\n      <td>2019</td>\n      <td>48000</td>\n      <td>Gasolina</td>\n      <td>12600</td>\n      <td>No description</td>\n    </tr>\n    <tr>\n      <th>34</th>\n      <td>Kia RIO</td>\n      <td>2013</td>\n      <td>124000</td>\n      <td>Gasolina</td>\n      <td>7700</td>\n      <td>Precio negociable: si Color : Blanco DESCRIPCI...</td>\n    </tr>\n    <tr>\n      <th>35</th>\n      <td>Nissan Versa</td>\n      <td>2014</td>\n      <td>171356</td>\n      <td>Gasolina</td>\n      <td>6700</td>\n      <td>Garantía: Como es visto no hay garantía Financ...</td>\n    </tr>\n    <tr>\n      <th>36</th>\n      <td>Hyundai Elantra</td>\n      <td>2017</td>\n      <td>57000</td>\n      <td>Gasolina</td>\n      <td>13500</td>\n      <td>Financiamiento: no Precio negociable: si Color...</td>\n    </tr>\n    <tr>\n      <th>37</th>\n      <td>Hyundai Accent</td>\n      <td>2014</td>\n      <td>7600</td>\n      <td>Gasolina</td>\n      <td>7600</td>\n      <td>Precio negociable: si Color : Plateado DESCRIP...</td>\n    </tr>\n    <tr>\n      <th>38</th>\n      <td>Nissan Versa</td>\n      <td>2017</td>\n      <td>83330</td>\n      <td>Gasolina</td>\n      <td>8000</td>\n      <td>Garantía: Extensa garantía disponible. Solicit...</td>\n    </tr>\n    <tr>\n      <th>39</th>\n      <td>Nissan Sentra</td>\n      <td>2013</td>\n      <td>74000</td>\n      <td>Gasolina</td>\n      <td>5500</td>\n      <td>Precio negociable: si Color : Gris DESCRIPCIÓN...</td>\n    </tr>\n  </tbody>\n</table>\n</div>"
     },
     "execution_count": 77,
     "metadata": {},
     "output_type": "execute_result"
    }
   ],
   "source": [
    "temp = pd.read_csv(\"persistence/July-02.csv\")\n",
    "temp"
   ],
   "metadata": {
    "collapsed": false,
    "ExecuteTime": {
     "end_time": "2023-07-08T04:58:44.590575200Z",
     "start_time": "2023-07-08T04:58:44.556873600Z"
    }
   }
  }
 ],
 "metadata": {
  "kernelspec": {
   "display_name": "Python 3",
   "language": "python",
   "name": "python3"
  },
  "language_info": {
   "codemirror_mode": {
    "name": "ipython",
    "version": 2
   },
   "file_extension": ".py",
   "mimetype": "text/x-python",
   "name": "python",
   "nbconvert_exporter": "python",
   "pygments_lexer": "ipython2",
   "version": "2.7.6"
  }
 },
 "nbformat": 4,
 "nbformat_minor": 0
}
