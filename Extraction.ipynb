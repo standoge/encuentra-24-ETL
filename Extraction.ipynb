{
 "cells": [
  {
   "cell_type": "markdown",
   "source": [
    "## Dependencies"
   ],
   "metadata": {
    "collapsed": false
   }
  },
  {
   "cell_type": "markdown",
   "source": [
    "---"
   ],
   "metadata": {
    "collapsed": false
   }
  },
  {
   "cell_type": "code",
   "execution_count": 1,
   "outputs": [],
   "source": [
    "import yaml\n",
    "import re\n",
    "from datetime import datetime\n",
    "import pandas as pd\n",
    "from pandas import DataFrame"
   ],
   "metadata": {
    "collapsed": false,
    "ExecuteTime": {
     "end_time": "2023-06-27T22:49:49.752033900Z",
     "start_time": "2023-06-27T22:49:48.958964700Z"
    }
   }
  },
  {
   "cell_type": "code",
   "execution_count": 2,
   "outputs": [],
   "source": [
    "from selenium import webdriver\n",
    "from selenium.webdriver.common.by import By\n",
    "from selenium.webdriver.edge.service import Service\n",
    "from webdriver_manager.microsoft import EdgeChromiumDriverManager\n",
    "from selenium.webdriver.support.ui import WebDriverWait\n",
    "from selenium.webdriver.support import expected_conditions as EC"
   ],
   "metadata": {
    "collapsed": false,
    "ExecuteTime": {
     "end_time": "2023-06-27T22:49:49.957031800Z",
     "start_time": "2023-06-27T22:49:49.754032900Z"
    }
   }
  },
  {
   "cell_type": "code",
   "execution_count": 3,
   "outputs": [],
   "source": [
    "from selenium.common.exceptions import NoSuchElementException\n",
    "from selenium.common.exceptions import TimeoutException"
   ],
   "metadata": {
    "collapsed": false,
    "ExecuteTime": {
     "end_time": "2023-06-27T22:49:49.973033100Z",
     "start_time": "2023-06-27T22:49:49.959035400Z"
    }
   }
  },
  {
   "cell_type": "code",
   "execution_count": 4,
   "outputs": [
    {
     "name": "stderr",
     "output_type": "stream",
     "text": [
      "[WDM] - Downloading: 100%|██████████| 7.69M/7.69M [00:01<00:00, 5.05MB/s]\n"
     ]
    }
   ],
   "source": [
    "# edge:object = webdriver.Edge(executable_path=\"./utils/msedgedriver.exe\")\n",
    "edge = webdriver.Edge(service=Service(EdgeChromiumDriverManager().install()))\n",
    "edge.maximize_window()"
   ],
   "metadata": {
    "collapsed": false,
    "ExecuteTime": {
     "end_time": "2023-06-27T22:49:54.127194500Z",
     "start_time": "2023-06-27T22:49:49.977032500Z"
    }
   }
  },
  {
   "cell_type": "markdown",
   "source": [
    "### Functions:"
   ],
   "metadata": {
    "collapsed": false
   }
  },
  {
   "cell_type": "code",
   "execution_count": 5,
   "outputs": [],
   "source": [
    "def resources(name:str) -> dict[str:str]:\n",
    "    \"\"\"Read xpath.yml file that contains xpath's to scrape\"\"\"\n",
    "\n",
    "    with open(\"xpath.yml\", \"r\") as f:\n",
    "        content:dict[str:str] = yaml.safe_load(f)\n",
    "        return content[name]"
   ],
   "metadata": {
    "collapsed": false,
    "ExecuteTime": {
     "end_time": "2023-06-27T22:49:54.158192400Z",
     "start_time": "2023-06-27T22:49:54.126196200Z"
    }
   }
  },
  {
   "cell_type": "code",
   "execution_count": 6,
   "outputs": [],
   "source": [
    "def close_prompt(driver:object) -> None:\n",
    "    \"\"\"Close ad window\"\"\"\n",
    "\n",
    "    button:str = \"//a[@class='btn btn-subscription-light']\"\n",
    "    driver.find_element(by=By.XPATH, value=button).click()"
   ],
   "metadata": {
    "collapsed": false,
    "ExecuteTime": {
     "end_time": "2023-06-27T22:49:54.198191800Z",
     "start_time": "2023-06-27T22:49:54.141192100Z"
    }
   }
  },
  {
   "cell_type": "code",
   "execution_count": 7,
   "outputs": [],
   "source": [
    "def choose_category(category:str, driver:object) -> None:\n",
    "    \"\"\"Choose ad category\"\"\"\n",
    "\n",
    "    driver.find_element(by=By.XPATH, value=category).click()"
   ],
   "metadata": {
    "collapsed": false,
    "ExecuteTime": {
     "end_time": "2023-06-27T22:49:54.199191500Z",
     "start_time": "2023-06-27T22:49:54.157192500Z"
    }
   }
  },
  {
   "cell_type": "code",
   "execution_count": 8,
   "outputs": [],
   "source": [
    "def click_element(element:object, path:str) -> None:\n",
    "    \"\"\"Click element on the current document\"\"\"\n",
    "\n",
    "    button = element.find_element(by=By.XPATH, value=path)\n",
    "    button.click()"
   ],
   "metadata": {
    "collapsed": false,
    "ExecuteTime": {
     "end_time": "2023-06-27T22:49:54.199191500Z",
     "start_time": "2023-06-27T22:49:54.172193Z"
    }
   }
  },
  {
   "cell_type": "code",
   "execution_count": 9,
   "outputs": [],
   "source": [
    "def extract_description(element:object, path:str) -> str:\n",
    "    \"\"\"Extract ad description on the current document\"\"\"\n",
    "\n",
    "    description:str = element.find_element(by=By.XPATH, value=path)\n",
    "    return description"
   ],
   "metadata": {
    "collapsed": false,
    "ExecuteTime": {
     "end_time": "2023-06-27T22:49:54.209193600Z",
     "start_time": "2023-06-27T22:49:54.190191700Z"
    }
   }
  },
  {
   "cell_type": "code",
   "execution_count": 10,
   "outputs": [],
   "source": [
    "def extract_feature(element:object, path:str) -> list[str]:\n",
    "    \"\"\"Extract some feature from list document based on xpath used.\"\"\"\n",
    "\n",
    "    feature = []\n",
    "\n",
    "    try:\n",
    "        feature:str = element.find_elements(by=By.XPATH, value=path)\n",
    "        feature = [data_point.text for data_point in feature]\n",
    "        return feature\n",
    "    except Exception:\n",
    "        feature.append(\"Web wasn't able to scrape the feature\")"
   ],
   "metadata": {
    "collapsed": false,
    "ExecuteTime": {
     "end_time": "2023-06-27T22:49:54.222193Z",
     "start_time": "2023-06-27T22:49:54.207192300Z"
    }
   }
  },
  {
   "cell_type": "code",
   "execution_count": 11,
   "outputs": [],
   "source": [
    "def persistence(dataframe:pd.DataFrame) -> None:\n",
    "    \"\"\"Generate .csv file from data scraped\"\"\"\n",
    "\n",
    "    file_name = datetime.today().strftime(\"%B-%d\")\n",
    "    dataframe.to_csv(f\"persistence/{file_name}.csv\", index=False)"
   ],
   "metadata": {
    "collapsed": false,
    "ExecuteTime": {
     "end_time": "2023-06-27T22:49:54.262191500Z",
     "start_time": "2023-06-27T22:49:54.220193600Z"
    }
   }
  },
  {
   "cell_type": "code",
   "execution_count": 12,
   "outputs": [],
   "source": [
    "def get_len(features:list[list[str]]) -> bool:\n",
    "    \"\"\"\n",
    "    Check if all features has the same length to create new df\n",
    "    :param features: list of features extracted with scraping\n",
    "    :return: a list with all lengths where first place is the len of the first element and the mostly accepted.\n",
    "    \"\"\"\n",
    "\n",
    "    base_len = len(features[0])\n",
    "    lengths = []\n",
    "    lengths.append(base_len)\n",
    "    for feature in features:\n",
    "        if len(feature) == base_len:\n",
    "            continue\n",
    "        else:\n",
    "             lengths.append(len(feature))\n",
    "    return lengths"
   ],
   "metadata": {
    "collapsed": false,
    "ExecuteTime": {
     "end_time": "2023-06-27T22:49:54.283192600Z",
     "start_time": "2023-06-27T22:49:54.237194Z"
    }
   }
  },
  {
   "cell_type": "code",
   "execution_count": 13,
   "outputs": [],
   "source": [
    "def check_len(lengths:list[int]) -> bool:\n",
    "    \"\"\"\n",
    "    Check if all elements in list has the same value.\n",
    "    :param lengths: list of lengths\n",
    "    :return: a boolean\n",
    "    \"\"\"\n",
    "    for length in lengths[1:]:\n",
    "        if length != lengths[0]:\n",
    "            return False\n",
    "        return True"
   ],
   "metadata": {
    "collapsed": false,
    "ExecuteTime": {
     "end_time": "2023-06-27T22:49:54.283192600Z",
     "start_time": "2023-06-27T22:49:54.262191500Z"
    }
   }
  },
  {
   "cell_type": "markdown",
   "source": [
    "Variables pool."
   ],
   "metadata": {
    "collapsed": false
   }
  },
  {
   "cell_type": "code",
   "execution_count": 14,
   "outputs": [],
   "source": [
    "descriptions:list[str] = []\n",
    "prices:list[int] = []\n",
    "models:list[str] = []\n",
    "years:list[int] = []\n",
    "kilometers:list[int] = []\n",
    "engines:list[str] = []\n",
    "\n",
    "# seconds\n",
    "DELAY:int = 1"
   ],
   "metadata": {
    "collapsed": false,
    "ExecuteTime": {
     "end_time": "2023-06-27T22:49:54.284192900Z",
     "start_time": "2023-06-27T22:49:54.267192500Z"
    }
   }
  },
  {
   "cell_type": "code",
   "execution_count": 15,
   "outputs": [],
   "source": [
    "sedan = resources(\"cars_sedan\")"
   ],
   "metadata": {
    "collapsed": false,
    "ExecuteTime": {
     "end_time": "2023-06-27T22:49:54.341192600Z",
     "start_time": "2023-06-27T22:49:54.282193300Z"
    }
   }
  },
  {
   "cell_type": "markdown",
   "source": [
    "Get web & close initial prompt."
   ],
   "metadata": {
    "collapsed": false
   }
  },
  {
   "cell_type": "code",
   "execution_count": 16,
   "outputs": [],
   "source": [
    "edge.get(sedan[\"url\"])"
   ],
   "metadata": {
    "collapsed": false,
    "ExecuteTime": {
     "end_time": "2023-06-27T22:50:16.537229100Z",
     "start_time": "2023-06-27T22:49:54.297191500Z"
    }
   }
  },
  {
   "cell_type": "code",
   "execution_count": 17,
   "outputs": [],
   "source": [
    "# close_prompt(edge)"
   ],
   "metadata": {
    "collapsed": false,
    "ExecuteTime": {
     "end_time": "2023-06-27T22:50:16.552229400Z",
     "start_time": "2023-06-27T22:50:16.539229200Z"
    }
   }
  },
  {
   "cell_type": "code",
   "execution_count": 18,
   "outputs": [],
   "source": [
    "elements = edge.find_elements(by=By.XPATH, value=sedan[\"ad\"])"
   ],
   "metadata": {
    "collapsed": false,
    "ExecuteTime": {
     "end_time": "2023-06-27T22:50:16.601228700Z",
     "start_time": "2023-06-27T22:50:16.555230100Z"
    }
   }
  },
  {
   "cell_type": "markdown",
   "source": [
    "Extract descriptions."
   ],
   "metadata": {
    "collapsed": false
   }
  },
  {
   "cell_type": "code",
   "execution_count": 19,
   "outputs": [],
   "source": [
    "elements[0].click()\n",
    "try:\n",
    "    for element in range(len(elements)):\n",
    "        dynamic_delay = WebDriverWait(edge, DELAY).until(EC.presence_of_element_located((By.XPATH, sedan[\"description\"])))\n",
    "        temp = extract_description(edge, sedan[\"description\"])\n",
    "        descriptions.append(temp.text)\n",
    "        click_element(edge, sedan[\"next\"])\n",
    "except TimeoutException as TE:\n",
    "    descriptions.append(\"Web wasn't able to scrape descriptions\")\n",
    "except NoSuchElementException as NSE:\n",
    "    click_element(edge, sedan[\"exit\"])"
   ],
   "metadata": {
    "collapsed": false,
    "ExecuteTime": {
     "end_time": "2023-06-27T22:51:38.412905900Z",
     "start_time": "2023-06-27T22:50:16.589228300Z"
    }
   }
  },
  {
   "cell_type": "markdown",
   "source": [
    "Extract prices & models."
   ],
   "metadata": {
    "collapsed": false
   }
  },
  {
   "cell_type": "code",
   "execution_count": 20,
   "outputs": [],
   "source": [
    "prices = extract_feature(edge, sedan[\"price\"])\n",
    "models = extract_feature(edge, sedan[\"model\"])"
   ],
   "metadata": {
    "collapsed": false,
    "ExecuteTime": {
     "end_time": "2023-06-27T22:51:39.234906300Z",
     "start_time": "2023-06-27T22:51:38.413907200Z"
    }
   }
  },
  {
   "cell_type": "markdown",
   "source": [
    "Extract car year, engine & kilometers."
   ],
   "metadata": {
    "collapsed": false
   }
  },
  {
   "cell_type": "code",
   "execution_count": 21,
   "outputs": [],
   "source": [
    "years = extract_feature(edge, sedan[\"year\"])\n",
    "engines = extract_feature(edge, sedan[\"engine\"])\n",
    "kilometers = extract_feature(edge, sedan[\"kilometers\"])"
   ],
   "metadata": {
    "collapsed": false,
    "ExecuteTime": {
     "end_time": "2023-06-27T22:51:39.925040500Z",
     "start_time": "2023-06-27T22:51:39.236905800Z"
    }
   }
  },
  {
   "cell_type": "code",
   "execution_count": 22,
   "outputs": [
    {
     "data": {
      "text/plain": "[39, 40, 40, 35, 38]"
     },
     "execution_count": 22,
     "metadata": {},
     "output_type": "execute_result"
    }
   ],
   "source": [
    "lengths = [prices, models, years, engines, kilometers, descriptions]\n",
    "get_len(lengths)"
   ],
   "metadata": {
    "collapsed": false,
    "ExecuteTime": {
     "end_time": "2023-06-27T22:51:39.940040600Z",
     "start_time": "2023-06-27T22:51:39.926042900Z"
    }
   }
  },
  {
   "cell_type": "markdown",
   "source": [
    "## Export"
   ],
   "metadata": {
    "collapsed": false
   }
  },
  {
   "cell_type": "markdown",
   "source": [
    "---"
   ],
   "metadata": {
    "collapsed": false
   }
  },
  {
   "cell_type": "markdown",
   "source": [
    "### Functions:"
   ],
   "metadata": {
    "collapsed": false
   }
  },
  {
   "cell_type": "code",
   "execution_count": 23,
   "outputs": [],
   "source": [
    "def parse_price(dataframe: pd.DataFrame, feature:str, pattern:str) -> None:\n",
    "    \"\"\"\n",
    "    Parse financial features like prices. Works with $#,### (not dot)\n",
    "    :param dataframe: object towards apply transformation\n",
    "    :param feature: feature name towards apply transformation\n",
    "    :param pattern: feature pattern to transform\n",
    "    \"\"\"\n",
    "    dataframe[feature] = dataframe [feature] \\\n",
    "        .str.extract(pattern) \\\n",
    "        .applymap(lambda price: int(price.replace(\",\",\"\")))\n"
   ],
   "metadata": {
    "collapsed": false,
    "ExecuteTime": {
     "end_time": "2023-06-27T22:51:40.016039500Z",
     "start_time": "2023-06-27T22:51:39.944041400Z"
    }
   }
  },
  {
   "cell_type": "code",
   "execution_count": 24,
   "outputs": [],
   "source": [
    "def remove_chars(dataframe: pd.DataFrame, feature:str, wildcards:str) -> pd.Series:\n",
    "    \"\"\"\n",
    "    Remove escaped characters from features like indented large extracts of text\n",
    "    :param dataframe: object towards apply transformation\n",
    "    :param feature: feature name towards apply transformation\n",
    "    :param wildcards: escaped characters to remove\n",
    "    :return: Serie without escaped characters\n",
    "    \"\"\"\n",
    "    return (dataframe\n",
    "    .apply(\n",
    "        lambda row: row[feature]\n",
    "        ,axis = 1\n",
    "    )\n",
    "    .apply(\n",
    "        lambda extracted_f: re.sub(wildcards, r' ', extracted_f)\n",
    "    )\n",
    "    )\n"
   ],
   "metadata": {
    "collapsed": false,
    "ExecuteTime": {
     "end_time": "2023-06-27T22:51:40.039040800Z",
     "start_time": "2023-06-27T22:51:39.961041100Z"
    }
   }
  },
  {
   "cell_type": "code",
   "execution_count": 96,
   "outputs": [],
   "source": [
    "PRICE_RG: str = r\"^\\$(?P<prices>\\d+,?\\d+)?\"\n",
    "KM_REG: str = r\"(?P<km>^\\d+)\"\n",
    "CHARACTER_RG:str = '(\\n|\\r)+'"
   ],
   "metadata": {
    "collapsed": false,
    "ExecuteTime": {
     "end_time": "2023-06-27T23:05:56.859140800Z",
     "start_time": "2023-06-27T23:05:56.839926600Z"
    }
   }
  },
  {
   "cell_type": "markdown",
   "source": [
    "Remove noise from `model` and `years` lists"
   ],
   "metadata": {
    "collapsed": false
   }
  },
  {
   "cell_type": "code",
   "execution_count": 26,
   "outputs": [],
   "source": [
    "years.remove(\"Ver más\")"
   ],
   "metadata": {
    "collapsed": false,
    "ExecuteTime": {
     "end_time": "2023-06-27T22:51:40.040041700Z",
     "start_time": "2023-06-27T22:51:39.989041700Z"
    }
   }
  },
  {
   "cell_type": "code",
   "execution_count": 27,
   "outputs": [],
   "source": [
    "models.remove(\"Blue Book Encuentra24\")"
   ],
   "metadata": {
    "collapsed": false,
    "ExecuteTime": {
     "end_time": "2023-06-27T22:51:40.040041700Z",
     "start_time": "2023-06-27T22:51:40.004042800Z"
    }
   }
  },
  {
   "cell_type": "code",
   "execution_count": 75,
   "outputs": [
    {
     "data": {
      "text/plain": "[39, 39, 39, 39, 39, 39]"
     },
     "execution_count": 75,
     "metadata": {},
     "output_type": "execute_result"
    }
   ],
   "source": [
    "lengths = [len(engines), len(models), len(years), len(kilometers), len(prices),len(descriptions)]\n",
    "lengths"
   ],
   "metadata": {
    "collapsed": false,
    "ExecuteTime": {
     "end_time": "2023-06-27T22:59:31.865956700Z",
     "start_time": "2023-06-27T22:59:31.849957700Z"
    }
   }
  },
  {
   "cell_type": "markdown",
   "source": [
    "Create dataframe to transform data extracted"
   ],
   "metadata": {
    "collapsed": false
   }
  },
  {
   "cell_type": "code",
   "execution_count": 113,
   "outputs": [],
   "source": [
    "if check_len(lengths):\n",
    "\n",
    "    df_temp = pd.DataFrame({\n",
    "        \"model\": models,\n",
    "        \"year\": years,\n",
    "        \"kilometers\": kilometers,\n",
    "        \"engine\": engines,\n",
    "        \"price\": prices,\n",
    "        \"description\": descriptions\n",
    "    })\n",
    "\n",
    "    # Parse features. String to number and raw string with characters to structured string.\n",
    "    parse_price(df_temp, \"price\", PRICE_RG)\n",
    "    df_temp[\"kilometers\"] = df_temp[\"kilometers\"].str.extract(KM_REG).applymap(int)\n",
    "    df_temp[\"year\"] = df_temp[\"year\"].map(int)\n",
    "    df_temp[\"description\"] = remove_chars(df_temp, \"description\", CHARACTER_RG)\n",
    "\n",
    "    persistence(df_temp)\n"
   ],
   "metadata": {
    "collapsed": false,
    "ExecuteTime": {
     "end_time": "2023-06-27T23:09:16.804714200Z",
     "start_time": "2023-06-27T23:09:16.754677600Z"
    }
   }
  },
  {
   "cell_type": "code",
   "execution_count": 114,
   "outputs": [
    {
     "data": {
      "text/plain": "                   model  year  kilometers    engine  price  \\\n0   Mitsubishi Mirage G4  2020       14445  Gasolina   7950   \n1        Hyundai Elantra  2018       77000  Gasolina  10500   \n2            Honda Civic  2017       88590  Gasolina  11500   \n3         Hyundai Accent  2019       78000  Gasolina   9800   \n4        Chevrolet Sonic  2015          58  Gasolina    520   \n5         Hyundai Accent  2007      155000  Gasolina   4600   \n6        Hyundai Elantra  2015      150355  Gasolina   7975   \n7         Hyundai Accent  2014      133600  Gasolina   7300   \n8   Mitsubishi Mirage G4  2018       60000  Gasolina   8400   \n9             Kia Sephia  1999      189000  Gasolina   2500   \n10     Mitsubishi Lancer  2008      143000  Gasolina   5900   \n11             Kia Forte  2018      113000  Gasolina   9100   \n12            Dodge DART  2013       89000  Gasolina   6200   \n13     Mitsubishi Lancer  2017       68000  Gasolina   8400   \n14        Chevrolet Trax  2021           0  Gasolina      0   \n15           Hyundai EON  2018       44400  Gasolina   8700   \n16        Hyundai Accent  2013           0  Gasolina   6300   \n17          Nissan Versa  2017       87948  Gasolina   6100   \n18  Mitsubishi Mirage G4  2019       72300  Gasolina   7900   \n19          Toyota Yaris  2008      125000  Gasolina   7500   \n20            Kia Cerato  2017       86000  Gasolina  12200   \n21        Toyota Corolla  2019           0  Gasolina  14600   \n22        Toyota Corolla  2001           0  Gasolina      0   \n23       Chevrolet Sonic  2017          86  Gasolina   7200   \n24        Hyundai Accent  2016          90  Gasolina   7500   \n25        Hyundai Accent  2013      100000  Gasolina   6400   \n26         Nissan Sentra  2018      126880  Gasolina   8500   \n27           Honda Civic  2018       58266  Gasolina  12500   \n28  Mitsubishi Mirage G4  2020       69000  Gasolina   9000   \n29         Jeep Renegade  2019       48000  Gasolina  12600   \n30       Hyundai Elantra  2013       65000  Gasolina   7500   \n31               Kia RIO  2013      124000  Gasolina   7700   \n32               BMW 328  2011      165000  Gasolina   8500   \n33          Nissan Versa  2014      171356  Gasolina   6700   \n34       Hyundai Elantra  2017       57000  Gasolina  13500   \n35               BMW 328  2012       90000  Gasolina  10500   \n36        Hyundai Accent  2014        7600  Gasolina   7600   \n37          Nissan Versa  2017       83330  Gasolina   8000   \n38         Nissan Sentra  2013       74000  Gasolina   5500   \n\n                                          description  \n0   Precio negociable: si Color : AZUL 3 modos de ...  \n1   Color : Gris DESCRIPCIÓN ARTÍCULOS CALIFICACIO...  \n2   Precio negociable: si Color : Negro Hyundai Ac...  \n3   Precio negociable: si Color : Gris DESCRIPCIÓN...  \n4   Precio negociable: si Color : Gris rata DESCRI...  \n5   Color : ROJO DESCRIPCIÓN CALIFICACIONES SEGURI...  \n6   Precio negociable: si Color : Cafe DESCRIPCIÓN...  \n7   Color : Blanco Se vende Mitsubishi G4 2018. Au...  \n8   Precio negociable: si DESCRIPCIÓN CALIFICACION...  \n9   Vehiculo de agencia, un solo dueño, solo 143 m...  \n10  Garantía: Como es visto no hay garantía Financ...  \n11  Precio negociable: si Color : Rojo Puede verlo...  \n12  Color : Azul Vendo Mitsubishi Lancer 2017 Full...  \n13  Motor 1.4L TURBO Pantalla con cámara de retroc...  \n14  Garantía: Como es visto no hay garantía Financ...  \n15  Garantía: Como es visto no hay garantía Financ...  \n16  DESCRIPCIÓN CALIFICACIONES SEGURIDAD vehiculo ...  \n17  Financiamiento: no Color : Gris Claro Vendo Mi...  \n18  Financiamiento: no Precio negociable: si DESCR...  \n19  Kia CERATO de Agencia, motor 1.6 super económi...  \n20  Precio negociable: si Color : Cafe Venta de to...  \n21  DESCRIPCIÓN CALIFICACIONES SEGURIDAD Estandar ...  \n22  Color : Gris DESCRIPCIÓN ARTÍCULOS CALIFICACIO...  \n23  DESCRIPCIÓN CALIFICACIONES SEGURIDAD AC Funcio...  \n24  Precio negociable: si Color : Gris oscuro DESC...  \n25                                       Color : Gris  \n26                                     No description  \n27                                      Color : Negro  \n28  Garantía: Garantía Incluida preguntar por los ...  \n29            Precio negociable: si Color : Naranjado  \n30  Precio negociable: si Color : Gris DESCRIPCIÓN...  \n31  Precio negociable: si Color : Blanco DESCRIPCI...  \n32  Precio negociable: si Color : Blanco/Negro Se ...  \n33  Garantía: Como es visto no hay garantía Financ...  \n34  Financiamiento: no Precio negociable: si Color...  \n35  Financiamiento: no Precio negociable: si Color...  \n36  Precio negociable: si Color : Plateado DESCRIP...  \n37  Garantía: Extensa garantía disponible. Solicit...  \n38  Precio negociable: si Color : Gris DESCRIPCIÓN...  ",
      "text/html": "<div>\n<style scoped>\n    .dataframe tbody tr th:only-of-type {\n        vertical-align: middle;\n    }\n\n    .dataframe tbody tr th {\n        vertical-align: top;\n    }\n\n    .dataframe thead th {\n        text-align: right;\n    }\n</style>\n<table border=\"1\" class=\"dataframe\">\n  <thead>\n    <tr style=\"text-align: right;\">\n      <th></th>\n      <th>model</th>\n      <th>year</th>\n      <th>kilometers</th>\n      <th>engine</th>\n      <th>price</th>\n      <th>description</th>\n    </tr>\n  </thead>\n  <tbody>\n    <tr>\n      <th>0</th>\n      <td>Mitsubishi Mirage G4</td>\n      <td>2020</td>\n      <td>14445</td>\n      <td>Gasolina</td>\n      <td>7950</td>\n      <td>Precio negociable: si Color : AZUL 3 modos de ...</td>\n    </tr>\n    <tr>\n      <th>1</th>\n      <td>Hyundai Elantra</td>\n      <td>2018</td>\n      <td>77000</td>\n      <td>Gasolina</td>\n      <td>10500</td>\n      <td>Color : Gris DESCRIPCIÓN ARTÍCULOS CALIFICACIO...</td>\n    </tr>\n    <tr>\n      <th>2</th>\n      <td>Honda Civic</td>\n      <td>2017</td>\n      <td>88590</td>\n      <td>Gasolina</td>\n      <td>11500</td>\n      <td>Precio negociable: si Color : Negro Hyundai Ac...</td>\n    </tr>\n    <tr>\n      <th>3</th>\n      <td>Hyundai Accent</td>\n      <td>2019</td>\n      <td>78000</td>\n      <td>Gasolina</td>\n      <td>9800</td>\n      <td>Precio negociable: si Color : Gris DESCRIPCIÓN...</td>\n    </tr>\n    <tr>\n      <th>4</th>\n      <td>Chevrolet Sonic</td>\n      <td>2015</td>\n      <td>58</td>\n      <td>Gasolina</td>\n      <td>520</td>\n      <td>Precio negociable: si Color : Gris rata DESCRI...</td>\n    </tr>\n    <tr>\n      <th>5</th>\n      <td>Hyundai Accent</td>\n      <td>2007</td>\n      <td>155000</td>\n      <td>Gasolina</td>\n      <td>4600</td>\n      <td>Color : ROJO DESCRIPCIÓN CALIFICACIONES SEGURI...</td>\n    </tr>\n    <tr>\n      <th>6</th>\n      <td>Hyundai Elantra</td>\n      <td>2015</td>\n      <td>150355</td>\n      <td>Gasolina</td>\n      <td>7975</td>\n      <td>Precio negociable: si Color : Cafe DESCRIPCIÓN...</td>\n    </tr>\n    <tr>\n      <th>7</th>\n      <td>Hyundai Accent</td>\n      <td>2014</td>\n      <td>133600</td>\n      <td>Gasolina</td>\n      <td>7300</td>\n      <td>Color : Blanco Se vende Mitsubishi G4 2018. Au...</td>\n    </tr>\n    <tr>\n      <th>8</th>\n      <td>Mitsubishi Mirage G4</td>\n      <td>2018</td>\n      <td>60000</td>\n      <td>Gasolina</td>\n      <td>8400</td>\n      <td>Precio negociable: si DESCRIPCIÓN CALIFICACION...</td>\n    </tr>\n    <tr>\n      <th>9</th>\n      <td>Kia Sephia</td>\n      <td>1999</td>\n      <td>189000</td>\n      <td>Gasolina</td>\n      <td>2500</td>\n      <td>Vehiculo de agencia, un solo dueño, solo 143 m...</td>\n    </tr>\n    <tr>\n      <th>10</th>\n      <td>Mitsubishi Lancer</td>\n      <td>2008</td>\n      <td>143000</td>\n      <td>Gasolina</td>\n      <td>5900</td>\n      <td>Garantía: Como es visto no hay garantía Financ...</td>\n    </tr>\n    <tr>\n      <th>11</th>\n      <td>Kia Forte</td>\n      <td>2018</td>\n      <td>113000</td>\n      <td>Gasolina</td>\n      <td>9100</td>\n      <td>Precio negociable: si Color : Rojo Puede verlo...</td>\n    </tr>\n    <tr>\n      <th>12</th>\n      <td>Dodge DART</td>\n      <td>2013</td>\n      <td>89000</td>\n      <td>Gasolina</td>\n      <td>6200</td>\n      <td>Color : Azul Vendo Mitsubishi Lancer 2017 Full...</td>\n    </tr>\n    <tr>\n      <th>13</th>\n      <td>Mitsubishi Lancer</td>\n      <td>2017</td>\n      <td>68000</td>\n      <td>Gasolina</td>\n      <td>8400</td>\n      <td>Motor 1.4L TURBO Pantalla con cámara de retroc...</td>\n    </tr>\n    <tr>\n      <th>14</th>\n      <td>Chevrolet Trax</td>\n      <td>2021</td>\n      <td>0</td>\n      <td>Gasolina</td>\n      <td>0</td>\n      <td>Garantía: Como es visto no hay garantía Financ...</td>\n    </tr>\n    <tr>\n      <th>15</th>\n      <td>Hyundai EON</td>\n      <td>2018</td>\n      <td>44400</td>\n      <td>Gasolina</td>\n      <td>8700</td>\n      <td>Garantía: Como es visto no hay garantía Financ...</td>\n    </tr>\n    <tr>\n      <th>16</th>\n      <td>Hyundai Accent</td>\n      <td>2013</td>\n      <td>0</td>\n      <td>Gasolina</td>\n      <td>6300</td>\n      <td>DESCRIPCIÓN CALIFICACIONES SEGURIDAD vehiculo ...</td>\n    </tr>\n    <tr>\n      <th>17</th>\n      <td>Nissan Versa</td>\n      <td>2017</td>\n      <td>87948</td>\n      <td>Gasolina</td>\n      <td>6100</td>\n      <td>Financiamiento: no Color : Gris Claro Vendo Mi...</td>\n    </tr>\n    <tr>\n      <th>18</th>\n      <td>Mitsubishi Mirage G4</td>\n      <td>2019</td>\n      <td>72300</td>\n      <td>Gasolina</td>\n      <td>7900</td>\n      <td>Financiamiento: no Precio negociable: si DESCR...</td>\n    </tr>\n    <tr>\n      <th>19</th>\n      <td>Toyota Yaris</td>\n      <td>2008</td>\n      <td>125000</td>\n      <td>Gasolina</td>\n      <td>7500</td>\n      <td>Kia CERATO de Agencia, motor 1.6 super económi...</td>\n    </tr>\n    <tr>\n      <th>20</th>\n      <td>Kia Cerato</td>\n      <td>2017</td>\n      <td>86000</td>\n      <td>Gasolina</td>\n      <td>12200</td>\n      <td>Precio negociable: si Color : Cafe Venta de to...</td>\n    </tr>\n    <tr>\n      <th>21</th>\n      <td>Toyota Corolla</td>\n      <td>2019</td>\n      <td>0</td>\n      <td>Gasolina</td>\n      <td>14600</td>\n      <td>DESCRIPCIÓN CALIFICACIONES SEGURIDAD Estandar ...</td>\n    </tr>\n    <tr>\n      <th>22</th>\n      <td>Toyota Corolla</td>\n      <td>2001</td>\n      <td>0</td>\n      <td>Gasolina</td>\n      <td>0</td>\n      <td>Color : Gris DESCRIPCIÓN ARTÍCULOS CALIFICACIO...</td>\n    </tr>\n    <tr>\n      <th>23</th>\n      <td>Chevrolet Sonic</td>\n      <td>2017</td>\n      <td>86</td>\n      <td>Gasolina</td>\n      <td>7200</td>\n      <td>DESCRIPCIÓN CALIFICACIONES SEGURIDAD AC Funcio...</td>\n    </tr>\n    <tr>\n      <th>24</th>\n      <td>Hyundai Accent</td>\n      <td>2016</td>\n      <td>90</td>\n      <td>Gasolina</td>\n      <td>7500</td>\n      <td>Precio negociable: si Color : Gris oscuro DESC...</td>\n    </tr>\n    <tr>\n      <th>25</th>\n      <td>Hyundai Accent</td>\n      <td>2013</td>\n      <td>100000</td>\n      <td>Gasolina</td>\n      <td>6400</td>\n      <td>Color : Gris</td>\n    </tr>\n    <tr>\n      <th>26</th>\n      <td>Nissan Sentra</td>\n      <td>2018</td>\n      <td>126880</td>\n      <td>Gasolina</td>\n      <td>8500</td>\n      <td>No description</td>\n    </tr>\n    <tr>\n      <th>27</th>\n      <td>Honda Civic</td>\n      <td>2018</td>\n      <td>58266</td>\n      <td>Gasolina</td>\n      <td>12500</td>\n      <td>Color : Negro</td>\n    </tr>\n    <tr>\n      <th>28</th>\n      <td>Mitsubishi Mirage G4</td>\n      <td>2020</td>\n      <td>69000</td>\n      <td>Gasolina</td>\n      <td>9000</td>\n      <td>Garantía: Garantía Incluida preguntar por los ...</td>\n    </tr>\n    <tr>\n      <th>29</th>\n      <td>Jeep Renegade</td>\n      <td>2019</td>\n      <td>48000</td>\n      <td>Gasolina</td>\n      <td>12600</td>\n      <td>Precio negociable: si Color : Naranjado</td>\n    </tr>\n    <tr>\n      <th>30</th>\n      <td>Hyundai Elantra</td>\n      <td>2013</td>\n      <td>65000</td>\n      <td>Gasolina</td>\n      <td>7500</td>\n      <td>Precio negociable: si Color : Gris DESCRIPCIÓN...</td>\n    </tr>\n    <tr>\n      <th>31</th>\n      <td>Kia RIO</td>\n      <td>2013</td>\n      <td>124000</td>\n      <td>Gasolina</td>\n      <td>7700</td>\n      <td>Precio negociable: si Color : Blanco DESCRIPCI...</td>\n    </tr>\n    <tr>\n      <th>32</th>\n      <td>BMW 328</td>\n      <td>2011</td>\n      <td>165000</td>\n      <td>Gasolina</td>\n      <td>8500</td>\n      <td>Precio negociable: si Color : Blanco/Negro Se ...</td>\n    </tr>\n    <tr>\n      <th>33</th>\n      <td>Nissan Versa</td>\n      <td>2014</td>\n      <td>171356</td>\n      <td>Gasolina</td>\n      <td>6700</td>\n      <td>Garantía: Como es visto no hay garantía Financ...</td>\n    </tr>\n    <tr>\n      <th>34</th>\n      <td>Hyundai Elantra</td>\n      <td>2017</td>\n      <td>57000</td>\n      <td>Gasolina</td>\n      <td>13500</td>\n      <td>Financiamiento: no Precio negociable: si Color...</td>\n    </tr>\n    <tr>\n      <th>35</th>\n      <td>BMW 328</td>\n      <td>2012</td>\n      <td>90000</td>\n      <td>Gasolina</td>\n      <td>10500</td>\n      <td>Financiamiento: no Precio negociable: si Color...</td>\n    </tr>\n    <tr>\n      <th>36</th>\n      <td>Hyundai Accent</td>\n      <td>2014</td>\n      <td>7600</td>\n      <td>Gasolina</td>\n      <td>7600</td>\n      <td>Precio negociable: si Color : Plateado DESCRIP...</td>\n    </tr>\n    <tr>\n      <th>37</th>\n      <td>Nissan Versa</td>\n      <td>2017</td>\n      <td>83330</td>\n      <td>Gasolina</td>\n      <td>8000</td>\n      <td>Garantía: Extensa garantía disponible. Solicit...</td>\n    </tr>\n    <tr>\n      <th>38</th>\n      <td>Nissan Sentra</td>\n      <td>2013</td>\n      <td>74000</td>\n      <td>Gasolina</td>\n      <td>5500</td>\n      <td>Precio negociable: si Color : Gris DESCRIPCIÓN...</td>\n    </tr>\n  </tbody>\n</table>\n</div>"
     },
     "execution_count": 114,
     "metadata": {},
     "output_type": "execute_result"
    }
   ],
   "source": [
    "df_temp"
   ],
   "metadata": {
    "collapsed": false,
    "ExecuteTime": {
     "end_time": "2023-06-27T23:09:58.824173300Z",
     "start_time": "2023-06-27T23:09:58.819171400Z"
    }
   }
  }
 ],
 "metadata": {
  "kernelspec": {
   "display_name": "Python 3",
   "language": "python",
   "name": "python3"
  },
  "language_info": {
   "codemirror_mode": {
    "name": "ipython",
    "version": 2
   },
   "file_extension": ".py",
   "mimetype": "text/x-python",
   "name": "python",
   "nbconvert_exporter": "python",
   "pygments_lexer": "ipython2",
   "version": "2.7.6"
  }
 },
 "nbformat": 4,
 "nbformat_minor": 0
}
